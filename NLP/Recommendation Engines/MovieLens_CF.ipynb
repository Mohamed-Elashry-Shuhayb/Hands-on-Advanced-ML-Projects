{
  "nbformat": 4,
  "nbformat_minor": 0,
  "metadata": {
    "colab": {
      "provenance": []
    },
    "kernelspec": {
      "name": "python3",
      "display_name": "Python 3"
    }
  },
  "cells": [
    {
      "cell_type": "markdown",
      "metadata": {
        "id": "ePer2PDs7FVc"
      },
      "source": [
        "# Building Recommendation Engines in Python Capstone project\n",
        "\n",
        "In this project you are asked to build the Collaborative Filtering Model (CFM), for the MovieLens dataset to predict the preference/recommendation score for (user, movie) pairs.\n",
        "\n",
        "We will use the `tensorflow.keras` framework for that purpose, and we will use the `Embedding` layers to build the users and movies latent factors.\n",
        "\n",
        "We will use `pandas` for data loading and exploration. And `sklearn` for data preparation."
      ]
    },
    {
      "cell_type": "code",
      "metadata": {
        "id": "nXqY4Tjm-f86"
      },
      "source": [
        "from tensorflow.keras import models\n",
        "from tensorflow.keras import layers\n",
        "from tensorflow.keras import optimizers\n",
        "from tensorflow.keras import regularizers\n",
        "from tensorflow.keras import metrics\n",
        "from tensorflow.keras.utils import plot_model\n",
        "import pandas as pd\n",
        "import numpy as np\n",
        "from sklearn.preprocessing import LabelEncoder\n",
        "from sklearn.model_selection import train_test_split\n"
      ],
      "execution_count": null,
      "outputs": []
    },
    {
      "cell_type": "markdown",
      "metadata": {
        "id": "iYyjHdaL8JIM"
      },
      "source": [
        "# MovieLens data\n",
        "## Download"
      ]
    },
    {
      "cell_type": "code",
      "metadata": {
        "id": "N3IL69Xz5jI_",
        "outputId": "ef2bfc1b-aab6-4453-844d-74f4d8b59f69",
        "colab": {
          "base_uri": "https://localhost:8080/",
          "height": 204
        }
      },
      "source": [
        "!wget http://files.grouplens.org/datasets/movielens/ml-latest-small.zip"
      ],
      "execution_count": null,
      "outputs": [
        {
          "output_type": "stream",
          "text": [
            "--2020-04-25 07:37:14--  http://files.grouplens.org/datasets/movielens/ml-latest-small.zip\n",
            "Resolving files.grouplens.org (files.grouplens.org)... 128.101.65.152\n",
            "Connecting to files.grouplens.org (files.grouplens.org)|128.101.65.152|:80... connected.\n",
            "HTTP request sent, awaiting response... 200 OK\n",
            "Length: 978202 (955K) [application/zip]\n",
            "Saving to: ‘ml-latest-small.zip’\n",
            "\n",
            "ml-latest-small.zip 100%[===================>] 955.28K   973KB/s    in 1.0s    \n",
            "\n",
            "2020-04-25 07:37:16 (973 KB/s) - ‘ml-latest-small.zip’ saved [978202/978202]\n",
            "\n"
          ],
          "name": "stdout"
        }
      ]
    },
    {
      "cell_type": "code",
      "metadata": {
        "id": "91m_ht0M5x_i",
        "outputId": "b58cbf61-8ee5-4dbf-b4dd-1603746da9f8",
        "colab": {
          "base_uri": "https://localhost:8080/",
          "height": 136
        }
      },
      "source": [
        "!unzip ml-latest-small.zip"
      ],
      "execution_count": null,
      "outputs": [
        {
          "output_type": "stream",
          "text": [
            "Archive:  ml-latest-small.zip\n",
            "   creating: ml-latest-small/\n",
            "  inflating: ml-latest-small/links.csv  \n",
            "  inflating: ml-latest-small/tags.csv  \n",
            "  inflating: ml-latest-small/ratings.csv  \n",
            "  inflating: ml-latest-small/README.txt  \n",
            "  inflating: ml-latest-small/movies.csv  \n"
          ],
          "name": "stdout"
        }
      ]
    },
    {
      "cell_type": "markdown",
      "metadata": {
        "id": "6Vg3zPb68NZl"
      },
      "source": [
        "## Load and Explore\n"
      ]
    },
    {
      "cell_type": "code",
      "metadata": {
        "id": "Ybugjl-R9Q7z",
        "outputId": "24f521fc-4129-43b3-fa83-2f8fc7d741c5",
        "colab": {
          "base_uri": "https://localhost:8080/",
          "height": 204
        }
      },
      "source": [
        "movies = pd.read_csv('ml-latest-small/movies.csv')\n",
        "movies.head()"
      ],
      "execution_count": null,
      "outputs": [
        {
          "output_type": "execute_result",
          "data": {
            "text/html": [
              "<div>\n",
              "<style scoped>\n",
              "    .dataframe tbody tr th:only-of-type {\n",
              "        vertical-align: middle;\n",
              "    }\n",
              "\n",
              "    .dataframe tbody tr th {\n",
              "        vertical-align: top;\n",
              "    }\n",
              "\n",
              "    .dataframe thead th {\n",
              "        text-align: right;\n",
              "    }\n",
              "</style>\n",
              "<table border=\"1\" class=\"dataframe\">\n",
              "  <thead>\n",
              "    <tr style=\"text-align: right;\">\n",
              "      <th></th>\n",
              "      <th>movieId</th>\n",
              "      <th>title</th>\n",
              "      <th>genres</th>\n",
              "    </tr>\n",
              "  </thead>\n",
              "  <tbody>\n",
              "    <tr>\n",
              "      <th>0</th>\n",
              "      <td>1</td>\n",
              "      <td>Toy Story (1995)</td>\n",
              "      <td>Adventure|Animation|Children|Comedy|Fantasy</td>\n",
              "    </tr>\n",
              "    <tr>\n",
              "      <th>1</th>\n",
              "      <td>2</td>\n",
              "      <td>Jumanji (1995)</td>\n",
              "      <td>Adventure|Children|Fantasy</td>\n",
              "    </tr>\n",
              "    <tr>\n",
              "      <th>2</th>\n",
              "      <td>3</td>\n",
              "      <td>Grumpier Old Men (1995)</td>\n",
              "      <td>Comedy|Romance</td>\n",
              "    </tr>\n",
              "    <tr>\n",
              "      <th>3</th>\n",
              "      <td>4</td>\n",
              "      <td>Waiting to Exhale (1995)</td>\n",
              "      <td>Comedy|Drama|Romance</td>\n",
              "    </tr>\n",
              "    <tr>\n",
              "      <th>4</th>\n",
              "      <td>5</td>\n",
              "      <td>Father of the Bride Part II (1995)</td>\n",
              "      <td>Comedy</td>\n",
              "    </tr>\n",
              "  </tbody>\n",
              "</table>\n",
              "</div>"
            ],
            "text/plain": [
              "   movieId  ...                                       genres\n",
              "0        1  ...  Adventure|Animation|Children|Comedy|Fantasy\n",
              "1        2  ...                   Adventure|Children|Fantasy\n",
              "2        3  ...                               Comedy|Romance\n",
              "3        4  ...                         Comedy|Drama|Romance\n",
              "4        5  ...                                       Comedy\n",
              "\n",
              "[5 rows x 3 columns]"
            ]
          },
          "metadata": {
            "tags": []
          },
          "execution_count": 5
        }
      ]
    },
    {
      "cell_type": "code",
      "metadata": {
        "id": "mpkKEZ_V8SNX",
        "outputId": "35fa7b50-a7a2-4de2-c4de-290cbaedf42c",
        "colab": {
          "base_uri": "https://localhost:8080/",
          "height": 198
        }
      },
      "source": [
        "ratings = pd.read_csv('ml-latest-small/ratings.csv')\n",
        "ratings.head()"
      ],
      "execution_count": null,
      "outputs": [
        {
          "output_type": "execute_result",
          "data": {
            "text/html": [
              "<div>\n",
              "<style scoped>\n",
              "    .dataframe tbody tr th:only-of-type {\n",
              "        vertical-align: middle;\n",
              "    }\n",
              "\n",
              "    .dataframe tbody tr th {\n",
              "        vertical-align: top;\n",
              "    }\n",
              "\n",
              "    .dataframe thead th {\n",
              "        text-align: right;\n",
              "    }\n",
              "</style>\n",
              "<table border=\"1\" class=\"dataframe\">\n",
              "  <thead>\n",
              "    <tr style=\"text-align: right;\">\n",
              "      <th></th>\n",
              "      <th>userId</th>\n",
              "      <th>movieId</th>\n",
              "      <th>rating</th>\n",
              "      <th>timestamp</th>\n",
              "    </tr>\n",
              "  </thead>\n",
              "  <tbody>\n",
              "    <tr>\n",
              "      <th>0</th>\n",
              "      <td>1</td>\n",
              "      <td>1</td>\n",
              "      <td>4.0</td>\n",
              "      <td>964982703</td>\n",
              "    </tr>\n",
              "    <tr>\n",
              "      <th>1</th>\n",
              "      <td>1</td>\n",
              "      <td>3</td>\n",
              "      <td>4.0</td>\n",
              "      <td>964981247</td>\n",
              "    </tr>\n",
              "    <tr>\n",
              "      <th>2</th>\n",
              "      <td>1</td>\n",
              "      <td>6</td>\n",
              "      <td>4.0</td>\n",
              "      <td>964982224</td>\n",
              "    </tr>\n",
              "    <tr>\n",
              "      <th>3</th>\n",
              "      <td>1</td>\n",
              "      <td>47</td>\n",
              "      <td>5.0</td>\n",
              "      <td>964983815</td>\n",
              "    </tr>\n",
              "    <tr>\n",
              "      <th>4</th>\n",
              "      <td>1</td>\n",
              "      <td>50</td>\n",
              "      <td>5.0</td>\n",
              "      <td>964982931</td>\n",
              "    </tr>\n",
              "  </tbody>\n",
              "</table>\n",
              "</div>"
            ],
            "text/plain": [
              "   userId  movieId  rating  timestamp\n",
              "0       1        1     4.0  964982703\n",
              "1       1        3     4.0  964981247\n",
              "2       1        6     4.0  964982224\n",
              "3       1       47     5.0  964983815\n",
              "4       1       50     5.0  964982931"
            ]
          },
          "metadata": {
            "tags": []
          },
          "execution_count": 6
        }
      ]
    },
    {
      "cell_type": "code",
      "metadata": {
        "id": "nhU8xnuT8pYC",
        "outputId": "1475da78-f922-4cf2-f5f6-086d0aa98999",
        "colab": {
          "base_uri": "https://localhost:8080/",
          "height": 277
        }
      },
      "source": [
        "pd.crosstab(ratings.userId, ratings.movieId).head()"
      ],
      "execution_count": null,
      "outputs": [
        {
          "output_type": "execute_result",
          "data": {
            "text/html": [
              "<div>\n",
              "<style scoped>\n",
              "    .dataframe tbody tr th:only-of-type {\n",
              "        vertical-align: middle;\n",
              "    }\n",
              "\n",
              "    .dataframe tbody tr th {\n",
              "        vertical-align: top;\n",
              "    }\n",
              "\n",
              "    .dataframe thead th {\n",
              "        text-align: right;\n",
              "    }\n",
              "</style>\n",
              "<table border=\"1\" class=\"dataframe\">\n",
              "  <thead>\n",
              "    <tr style=\"text-align: right;\">\n",
              "      <th>movieId</th>\n",
              "      <th>1</th>\n",
              "      <th>2</th>\n",
              "      <th>3</th>\n",
              "      <th>4</th>\n",
              "      <th>5</th>\n",
              "      <th>6</th>\n",
              "      <th>7</th>\n",
              "      <th>8</th>\n",
              "      <th>9</th>\n",
              "      <th>10</th>\n",
              "      <th>11</th>\n",
              "      <th>12</th>\n",
              "      <th>13</th>\n",
              "      <th>14</th>\n",
              "      <th>15</th>\n",
              "      <th>16</th>\n",
              "      <th>17</th>\n",
              "      <th>18</th>\n",
              "      <th>19</th>\n",
              "      <th>20</th>\n",
              "      <th>21</th>\n",
              "      <th>22</th>\n",
              "      <th>23</th>\n",
              "      <th>24</th>\n",
              "      <th>25</th>\n",
              "      <th>26</th>\n",
              "      <th>27</th>\n",
              "      <th>28</th>\n",
              "      <th>29</th>\n",
              "      <th>30</th>\n",
              "      <th>31</th>\n",
              "      <th>32</th>\n",
              "      <th>34</th>\n",
              "      <th>36</th>\n",
              "      <th>38</th>\n",
              "      <th>39</th>\n",
              "      <th>40</th>\n",
              "      <th>41</th>\n",
              "      <th>42</th>\n",
              "      <th>43</th>\n",
              "      <th>...</th>\n",
              "      <th>185135</th>\n",
              "      <th>185435</th>\n",
              "      <th>185473</th>\n",
              "      <th>185585</th>\n",
              "      <th>186587</th>\n",
              "      <th>187031</th>\n",
              "      <th>187541</th>\n",
              "      <th>187593</th>\n",
              "      <th>187595</th>\n",
              "      <th>187717</th>\n",
              "      <th>188189</th>\n",
              "      <th>188301</th>\n",
              "      <th>188675</th>\n",
              "      <th>188751</th>\n",
              "      <th>188797</th>\n",
              "      <th>188833</th>\n",
              "      <th>189043</th>\n",
              "      <th>189111</th>\n",
              "      <th>189333</th>\n",
              "      <th>189381</th>\n",
              "      <th>189547</th>\n",
              "      <th>189713</th>\n",
              "      <th>190183</th>\n",
              "      <th>190207</th>\n",
              "      <th>190209</th>\n",
              "      <th>190213</th>\n",
              "      <th>190215</th>\n",
              "      <th>190219</th>\n",
              "      <th>190221</th>\n",
              "      <th>191005</th>\n",
              "      <th>193565</th>\n",
              "      <th>193567</th>\n",
              "      <th>193571</th>\n",
              "      <th>193573</th>\n",
              "      <th>193579</th>\n",
              "      <th>193581</th>\n",
              "      <th>193583</th>\n",
              "      <th>193585</th>\n",
              "      <th>193587</th>\n",
              "      <th>193609</th>\n",
              "    </tr>\n",
              "    <tr>\n",
              "      <th>userId</th>\n",
              "      <th></th>\n",
              "      <th></th>\n",
              "      <th></th>\n",
              "      <th></th>\n",
              "      <th></th>\n",
              "      <th></th>\n",
              "      <th></th>\n",
              "      <th></th>\n",
              "      <th></th>\n",
              "      <th></th>\n",
              "      <th></th>\n",
              "      <th></th>\n",
              "      <th></th>\n",
              "      <th></th>\n",
              "      <th></th>\n",
              "      <th></th>\n",
              "      <th></th>\n",
              "      <th></th>\n",
              "      <th></th>\n",
              "      <th></th>\n",
              "      <th></th>\n",
              "      <th></th>\n",
              "      <th></th>\n",
              "      <th></th>\n",
              "      <th></th>\n",
              "      <th></th>\n",
              "      <th></th>\n",
              "      <th></th>\n",
              "      <th></th>\n",
              "      <th></th>\n",
              "      <th></th>\n",
              "      <th></th>\n",
              "      <th></th>\n",
              "      <th></th>\n",
              "      <th></th>\n",
              "      <th></th>\n",
              "      <th></th>\n",
              "      <th></th>\n",
              "      <th></th>\n",
              "      <th></th>\n",
              "      <th></th>\n",
              "      <th></th>\n",
              "      <th></th>\n",
              "      <th></th>\n",
              "      <th></th>\n",
              "      <th></th>\n",
              "      <th></th>\n",
              "      <th></th>\n",
              "      <th></th>\n",
              "      <th></th>\n",
              "      <th></th>\n",
              "      <th></th>\n",
              "      <th></th>\n",
              "      <th></th>\n",
              "      <th></th>\n",
              "      <th></th>\n",
              "      <th></th>\n",
              "      <th></th>\n",
              "      <th></th>\n",
              "      <th></th>\n",
              "      <th></th>\n",
              "      <th></th>\n",
              "      <th></th>\n",
              "      <th></th>\n",
              "      <th></th>\n",
              "      <th></th>\n",
              "      <th></th>\n",
              "      <th></th>\n",
              "      <th></th>\n",
              "      <th></th>\n",
              "      <th></th>\n",
              "      <th></th>\n",
              "      <th></th>\n",
              "      <th></th>\n",
              "      <th></th>\n",
              "      <th></th>\n",
              "      <th></th>\n",
              "      <th></th>\n",
              "      <th></th>\n",
              "      <th></th>\n",
              "      <th></th>\n",
              "    </tr>\n",
              "  </thead>\n",
              "  <tbody>\n",
              "    <tr>\n",
              "      <th>1</th>\n",
              "      <td>1</td>\n",
              "      <td>0</td>\n",
              "      <td>1</td>\n",
              "      <td>0</td>\n",
              "      <td>0</td>\n",
              "      <td>1</td>\n",
              "      <td>0</td>\n",
              "      <td>0</td>\n",
              "      <td>0</td>\n",
              "      <td>0</td>\n",
              "      <td>0</td>\n",
              "      <td>0</td>\n",
              "      <td>0</td>\n",
              "      <td>0</td>\n",
              "      <td>0</td>\n",
              "      <td>0</td>\n",
              "      <td>0</td>\n",
              "      <td>0</td>\n",
              "      <td>0</td>\n",
              "      <td>0</td>\n",
              "      <td>0</td>\n",
              "      <td>0</td>\n",
              "      <td>0</td>\n",
              "      <td>0</td>\n",
              "      <td>0</td>\n",
              "      <td>0</td>\n",
              "      <td>0</td>\n",
              "      <td>0</td>\n",
              "      <td>0</td>\n",
              "      <td>0</td>\n",
              "      <td>0</td>\n",
              "      <td>0</td>\n",
              "      <td>0</td>\n",
              "      <td>0</td>\n",
              "      <td>0</td>\n",
              "      <td>0</td>\n",
              "      <td>0</td>\n",
              "      <td>0</td>\n",
              "      <td>0</td>\n",
              "      <td>0</td>\n",
              "      <td>...</td>\n",
              "      <td>0</td>\n",
              "      <td>0</td>\n",
              "      <td>0</td>\n",
              "      <td>0</td>\n",
              "      <td>0</td>\n",
              "      <td>0</td>\n",
              "      <td>0</td>\n",
              "      <td>0</td>\n",
              "      <td>0</td>\n",
              "      <td>0</td>\n",
              "      <td>0</td>\n",
              "      <td>0</td>\n",
              "      <td>0</td>\n",
              "      <td>0</td>\n",
              "      <td>0</td>\n",
              "      <td>0</td>\n",
              "      <td>0</td>\n",
              "      <td>0</td>\n",
              "      <td>0</td>\n",
              "      <td>0</td>\n",
              "      <td>0</td>\n",
              "      <td>0</td>\n",
              "      <td>0</td>\n",
              "      <td>0</td>\n",
              "      <td>0</td>\n",
              "      <td>0</td>\n",
              "      <td>0</td>\n",
              "      <td>0</td>\n",
              "      <td>0</td>\n",
              "      <td>0</td>\n",
              "      <td>0</td>\n",
              "      <td>0</td>\n",
              "      <td>0</td>\n",
              "      <td>0</td>\n",
              "      <td>0</td>\n",
              "      <td>0</td>\n",
              "      <td>0</td>\n",
              "      <td>0</td>\n",
              "      <td>0</td>\n",
              "      <td>0</td>\n",
              "    </tr>\n",
              "    <tr>\n",
              "      <th>2</th>\n",
              "      <td>0</td>\n",
              "      <td>0</td>\n",
              "      <td>0</td>\n",
              "      <td>0</td>\n",
              "      <td>0</td>\n",
              "      <td>0</td>\n",
              "      <td>0</td>\n",
              "      <td>0</td>\n",
              "      <td>0</td>\n",
              "      <td>0</td>\n",
              "      <td>0</td>\n",
              "      <td>0</td>\n",
              "      <td>0</td>\n",
              "      <td>0</td>\n",
              "      <td>0</td>\n",
              "      <td>0</td>\n",
              "      <td>0</td>\n",
              "      <td>0</td>\n",
              "      <td>0</td>\n",
              "      <td>0</td>\n",
              "      <td>0</td>\n",
              "      <td>0</td>\n",
              "      <td>0</td>\n",
              "      <td>0</td>\n",
              "      <td>0</td>\n",
              "      <td>0</td>\n",
              "      <td>0</td>\n",
              "      <td>0</td>\n",
              "      <td>0</td>\n",
              "      <td>0</td>\n",
              "      <td>0</td>\n",
              "      <td>0</td>\n",
              "      <td>0</td>\n",
              "      <td>0</td>\n",
              "      <td>0</td>\n",
              "      <td>0</td>\n",
              "      <td>0</td>\n",
              "      <td>0</td>\n",
              "      <td>0</td>\n",
              "      <td>0</td>\n",
              "      <td>...</td>\n",
              "      <td>0</td>\n",
              "      <td>0</td>\n",
              "      <td>0</td>\n",
              "      <td>0</td>\n",
              "      <td>0</td>\n",
              "      <td>0</td>\n",
              "      <td>0</td>\n",
              "      <td>0</td>\n",
              "      <td>0</td>\n",
              "      <td>0</td>\n",
              "      <td>0</td>\n",
              "      <td>0</td>\n",
              "      <td>0</td>\n",
              "      <td>0</td>\n",
              "      <td>0</td>\n",
              "      <td>0</td>\n",
              "      <td>0</td>\n",
              "      <td>0</td>\n",
              "      <td>0</td>\n",
              "      <td>0</td>\n",
              "      <td>0</td>\n",
              "      <td>0</td>\n",
              "      <td>0</td>\n",
              "      <td>0</td>\n",
              "      <td>0</td>\n",
              "      <td>0</td>\n",
              "      <td>0</td>\n",
              "      <td>0</td>\n",
              "      <td>0</td>\n",
              "      <td>0</td>\n",
              "      <td>0</td>\n",
              "      <td>0</td>\n",
              "      <td>0</td>\n",
              "      <td>0</td>\n",
              "      <td>0</td>\n",
              "      <td>0</td>\n",
              "      <td>0</td>\n",
              "      <td>0</td>\n",
              "      <td>0</td>\n",
              "      <td>0</td>\n",
              "    </tr>\n",
              "    <tr>\n",
              "      <th>3</th>\n",
              "      <td>0</td>\n",
              "      <td>0</td>\n",
              "      <td>0</td>\n",
              "      <td>0</td>\n",
              "      <td>0</td>\n",
              "      <td>0</td>\n",
              "      <td>0</td>\n",
              "      <td>0</td>\n",
              "      <td>0</td>\n",
              "      <td>0</td>\n",
              "      <td>0</td>\n",
              "      <td>0</td>\n",
              "      <td>0</td>\n",
              "      <td>0</td>\n",
              "      <td>0</td>\n",
              "      <td>0</td>\n",
              "      <td>0</td>\n",
              "      <td>0</td>\n",
              "      <td>0</td>\n",
              "      <td>0</td>\n",
              "      <td>0</td>\n",
              "      <td>0</td>\n",
              "      <td>0</td>\n",
              "      <td>0</td>\n",
              "      <td>0</td>\n",
              "      <td>0</td>\n",
              "      <td>0</td>\n",
              "      <td>0</td>\n",
              "      <td>0</td>\n",
              "      <td>0</td>\n",
              "      <td>1</td>\n",
              "      <td>0</td>\n",
              "      <td>0</td>\n",
              "      <td>0</td>\n",
              "      <td>0</td>\n",
              "      <td>0</td>\n",
              "      <td>0</td>\n",
              "      <td>0</td>\n",
              "      <td>0</td>\n",
              "      <td>0</td>\n",
              "      <td>...</td>\n",
              "      <td>0</td>\n",
              "      <td>0</td>\n",
              "      <td>0</td>\n",
              "      <td>0</td>\n",
              "      <td>0</td>\n",
              "      <td>0</td>\n",
              "      <td>0</td>\n",
              "      <td>0</td>\n",
              "      <td>0</td>\n",
              "      <td>0</td>\n",
              "      <td>0</td>\n",
              "      <td>0</td>\n",
              "      <td>0</td>\n",
              "      <td>0</td>\n",
              "      <td>0</td>\n",
              "      <td>0</td>\n",
              "      <td>0</td>\n",
              "      <td>0</td>\n",
              "      <td>0</td>\n",
              "      <td>0</td>\n",
              "      <td>0</td>\n",
              "      <td>0</td>\n",
              "      <td>0</td>\n",
              "      <td>0</td>\n",
              "      <td>0</td>\n",
              "      <td>0</td>\n",
              "      <td>0</td>\n",
              "      <td>0</td>\n",
              "      <td>0</td>\n",
              "      <td>0</td>\n",
              "      <td>0</td>\n",
              "      <td>0</td>\n",
              "      <td>0</td>\n",
              "      <td>0</td>\n",
              "      <td>0</td>\n",
              "      <td>0</td>\n",
              "      <td>0</td>\n",
              "      <td>0</td>\n",
              "      <td>0</td>\n",
              "      <td>0</td>\n",
              "    </tr>\n",
              "    <tr>\n",
              "      <th>4</th>\n",
              "      <td>0</td>\n",
              "      <td>0</td>\n",
              "      <td>0</td>\n",
              "      <td>0</td>\n",
              "      <td>0</td>\n",
              "      <td>0</td>\n",
              "      <td>0</td>\n",
              "      <td>0</td>\n",
              "      <td>0</td>\n",
              "      <td>0</td>\n",
              "      <td>0</td>\n",
              "      <td>0</td>\n",
              "      <td>0</td>\n",
              "      <td>0</td>\n",
              "      <td>0</td>\n",
              "      <td>0</td>\n",
              "      <td>0</td>\n",
              "      <td>0</td>\n",
              "      <td>0</td>\n",
              "      <td>0</td>\n",
              "      <td>1</td>\n",
              "      <td>0</td>\n",
              "      <td>0</td>\n",
              "      <td>0</td>\n",
              "      <td>0</td>\n",
              "      <td>0</td>\n",
              "      <td>0</td>\n",
              "      <td>0</td>\n",
              "      <td>0</td>\n",
              "      <td>0</td>\n",
              "      <td>0</td>\n",
              "      <td>1</td>\n",
              "      <td>0</td>\n",
              "      <td>0</td>\n",
              "      <td>0</td>\n",
              "      <td>0</td>\n",
              "      <td>0</td>\n",
              "      <td>0</td>\n",
              "      <td>0</td>\n",
              "      <td>0</td>\n",
              "      <td>...</td>\n",
              "      <td>0</td>\n",
              "      <td>0</td>\n",
              "      <td>0</td>\n",
              "      <td>0</td>\n",
              "      <td>0</td>\n",
              "      <td>0</td>\n",
              "      <td>0</td>\n",
              "      <td>0</td>\n",
              "      <td>0</td>\n",
              "      <td>0</td>\n",
              "      <td>0</td>\n",
              "      <td>0</td>\n",
              "      <td>0</td>\n",
              "      <td>0</td>\n",
              "      <td>0</td>\n",
              "      <td>0</td>\n",
              "      <td>0</td>\n",
              "      <td>0</td>\n",
              "      <td>0</td>\n",
              "      <td>0</td>\n",
              "      <td>0</td>\n",
              "      <td>0</td>\n",
              "      <td>0</td>\n",
              "      <td>0</td>\n",
              "      <td>0</td>\n",
              "      <td>0</td>\n",
              "      <td>0</td>\n",
              "      <td>0</td>\n",
              "      <td>0</td>\n",
              "      <td>0</td>\n",
              "      <td>0</td>\n",
              "      <td>0</td>\n",
              "      <td>0</td>\n",
              "      <td>0</td>\n",
              "      <td>0</td>\n",
              "      <td>0</td>\n",
              "      <td>0</td>\n",
              "      <td>0</td>\n",
              "      <td>0</td>\n",
              "      <td>0</td>\n",
              "    </tr>\n",
              "    <tr>\n",
              "      <th>5</th>\n",
              "      <td>1</td>\n",
              "      <td>0</td>\n",
              "      <td>0</td>\n",
              "      <td>0</td>\n",
              "      <td>0</td>\n",
              "      <td>0</td>\n",
              "      <td>0</td>\n",
              "      <td>0</td>\n",
              "      <td>0</td>\n",
              "      <td>0</td>\n",
              "      <td>0</td>\n",
              "      <td>0</td>\n",
              "      <td>0</td>\n",
              "      <td>0</td>\n",
              "      <td>0</td>\n",
              "      <td>0</td>\n",
              "      <td>0</td>\n",
              "      <td>0</td>\n",
              "      <td>0</td>\n",
              "      <td>0</td>\n",
              "      <td>1</td>\n",
              "      <td>0</td>\n",
              "      <td>0</td>\n",
              "      <td>0</td>\n",
              "      <td>0</td>\n",
              "      <td>0</td>\n",
              "      <td>0</td>\n",
              "      <td>0</td>\n",
              "      <td>0</td>\n",
              "      <td>0</td>\n",
              "      <td>0</td>\n",
              "      <td>0</td>\n",
              "      <td>1</td>\n",
              "      <td>1</td>\n",
              "      <td>0</td>\n",
              "      <td>1</td>\n",
              "      <td>0</td>\n",
              "      <td>0</td>\n",
              "      <td>0</td>\n",
              "      <td>0</td>\n",
              "      <td>...</td>\n",
              "      <td>0</td>\n",
              "      <td>0</td>\n",
              "      <td>0</td>\n",
              "      <td>0</td>\n",
              "      <td>0</td>\n",
              "      <td>0</td>\n",
              "      <td>0</td>\n",
              "      <td>0</td>\n",
              "      <td>0</td>\n",
              "      <td>0</td>\n",
              "      <td>0</td>\n",
              "      <td>0</td>\n",
              "      <td>0</td>\n",
              "      <td>0</td>\n",
              "      <td>0</td>\n",
              "      <td>0</td>\n",
              "      <td>0</td>\n",
              "      <td>0</td>\n",
              "      <td>0</td>\n",
              "      <td>0</td>\n",
              "      <td>0</td>\n",
              "      <td>0</td>\n",
              "      <td>0</td>\n",
              "      <td>0</td>\n",
              "      <td>0</td>\n",
              "      <td>0</td>\n",
              "      <td>0</td>\n",
              "      <td>0</td>\n",
              "      <td>0</td>\n",
              "      <td>0</td>\n",
              "      <td>0</td>\n",
              "      <td>0</td>\n",
              "      <td>0</td>\n",
              "      <td>0</td>\n",
              "      <td>0</td>\n",
              "      <td>0</td>\n",
              "      <td>0</td>\n",
              "      <td>0</td>\n",
              "      <td>0</td>\n",
              "      <td>0</td>\n",
              "    </tr>\n",
              "  </tbody>\n",
              "</table>\n",
              "<p>5 rows × 9724 columns</p>\n",
              "</div>"
            ],
            "text/plain": [
              "movieId  1       2       3       4       ...  193583  193585  193587  193609\n",
              "userId                                   ...                                \n",
              "1             1       0       1       0  ...       0       0       0       0\n",
              "2             0       0       0       0  ...       0       0       0       0\n",
              "3             0       0       0       0  ...       0       0       0       0\n",
              "4             0       0       0       0  ...       0       0       0       0\n",
              "5             1       0       0       0  ...       0       0       0       0\n",
              "\n",
              "[5 rows x 9724 columns]"
            ]
          },
          "metadata": {
            "tags": []
          },
          "execution_count": 7
        }
      ]
    },
    {
      "cell_type": "markdown",
      "metadata": {
        "id": "TevL8YVe9Zk_"
      },
      "source": [
        "To get better idea, lets select the top 15 users and movies and crosstab them"
      ]
    },
    {
      "cell_type": "code",
      "metadata": {
        "id": "HGvEJuGi9ff4",
        "outputId": "0481d62b-619a-4741-8121-d648b31f7e31",
        "colab": {
          "base_uri": "https://localhost:8080/",
          "height": 545
        }
      },
      "source": [
        "k = 15\n",
        "g = ratings.groupby('userId')['rating'].count()\n",
        "top_users = g.sort_values(ascending=False)[:k]\n",
        "\n",
        "g = ratings.groupby('movieId')['rating'].count()\n",
        "top_movies = g.sort_values(ascending=False)[:k]\n",
        "\n",
        "top_r = ratings.join(top_users, rsuffix='_r', how='inner', on='userId')\n",
        "top_r = top_r.join(top_movies, rsuffix='_r', how='inner', on='movieId')\n",
        "\n",
        "pd.crosstab(top_r.userId, top_r.movieId, top_r.rating, aggfunc=np.sum)\n"
      ],
      "execution_count": null,
      "outputs": [
        {
          "output_type": "execute_result",
          "data": {
            "text/html": [
              "<div>\n",
              "<style scoped>\n",
              "    .dataframe tbody tr th:only-of-type {\n",
              "        vertical-align: middle;\n",
              "    }\n",
              "\n",
              "    .dataframe tbody tr th {\n",
              "        vertical-align: top;\n",
              "    }\n",
              "\n",
              "    .dataframe thead th {\n",
              "        text-align: right;\n",
              "    }\n",
              "</style>\n",
              "<table border=\"1\" class=\"dataframe\">\n",
              "  <thead>\n",
              "    <tr style=\"text-align: right;\">\n",
              "      <th>movieId</th>\n",
              "      <th>1</th>\n",
              "      <th>50</th>\n",
              "      <th>110</th>\n",
              "      <th>260</th>\n",
              "      <th>296</th>\n",
              "      <th>318</th>\n",
              "      <th>356</th>\n",
              "      <th>480</th>\n",
              "      <th>527</th>\n",
              "      <th>589</th>\n",
              "      <th>593</th>\n",
              "      <th>1196</th>\n",
              "      <th>2571</th>\n",
              "      <th>2858</th>\n",
              "      <th>2959</th>\n",
              "    </tr>\n",
              "    <tr>\n",
              "      <th>userId</th>\n",
              "      <th></th>\n",
              "      <th></th>\n",
              "      <th></th>\n",
              "      <th></th>\n",
              "      <th></th>\n",
              "      <th></th>\n",
              "      <th></th>\n",
              "      <th></th>\n",
              "      <th></th>\n",
              "      <th></th>\n",
              "      <th></th>\n",
              "      <th></th>\n",
              "      <th></th>\n",
              "      <th></th>\n",
              "      <th></th>\n",
              "    </tr>\n",
              "  </thead>\n",
              "  <tbody>\n",
              "    <tr>\n",
              "      <th>68</th>\n",
              "      <td>2.5</td>\n",
              "      <td>3.0</td>\n",
              "      <td>2.5</td>\n",
              "      <td>5.0</td>\n",
              "      <td>2.0</td>\n",
              "      <td>3.0</td>\n",
              "      <td>3.5</td>\n",
              "      <td>3.5</td>\n",
              "      <td>4.0</td>\n",
              "      <td>3.5</td>\n",
              "      <td>3.5</td>\n",
              "      <td>5.0</td>\n",
              "      <td>4.5</td>\n",
              "      <td>5.0</td>\n",
              "      <td>2.5</td>\n",
              "    </tr>\n",
              "    <tr>\n",
              "      <th>182</th>\n",
              "      <td>4.0</td>\n",
              "      <td>4.5</td>\n",
              "      <td>3.5</td>\n",
              "      <td>3.5</td>\n",
              "      <td>5.0</td>\n",
              "      <td>4.5</td>\n",
              "      <td>5.0</td>\n",
              "      <td>3.5</td>\n",
              "      <td>4.0</td>\n",
              "      <td>2.0</td>\n",
              "      <td>4.5</td>\n",
              "      <td>3.0</td>\n",
              "      <td>5.0</td>\n",
              "      <td>5.0</td>\n",
              "      <td>5.0</td>\n",
              "    </tr>\n",
              "    <tr>\n",
              "      <th>249</th>\n",
              "      <td>4.0</td>\n",
              "      <td>4.0</td>\n",
              "      <td>5.0</td>\n",
              "      <td>5.0</td>\n",
              "      <td>4.0</td>\n",
              "      <td>4.5</td>\n",
              "      <td>4.5</td>\n",
              "      <td>4.0</td>\n",
              "      <td>4.5</td>\n",
              "      <td>4.0</td>\n",
              "      <td>4.0</td>\n",
              "      <td>5.0</td>\n",
              "      <td>5.0</td>\n",
              "      <td>4.5</td>\n",
              "      <td>5.0</td>\n",
              "    </tr>\n",
              "    <tr>\n",
              "      <th>274</th>\n",
              "      <td>4.0</td>\n",
              "      <td>4.0</td>\n",
              "      <td>4.5</td>\n",
              "      <td>3.0</td>\n",
              "      <td>5.0</td>\n",
              "      <td>4.5</td>\n",
              "      <td>4.5</td>\n",
              "      <td>3.5</td>\n",
              "      <td>4.0</td>\n",
              "      <td>4.5</td>\n",
              "      <td>4.0</td>\n",
              "      <td>4.5</td>\n",
              "      <td>4.0</td>\n",
              "      <td>5.0</td>\n",
              "      <td>5.0</td>\n",
              "    </tr>\n",
              "    <tr>\n",
              "      <th>288</th>\n",
              "      <td>4.5</td>\n",
              "      <td>NaN</td>\n",
              "      <td>5.0</td>\n",
              "      <td>5.0</td>\n",
              "      <td>5.0</td>\n",
              "      <td>5.0</td>\n",
              "      <td>5.0</td>\n",
              "      <td>2.0</td>\n",
              "      <td>5.0</td>\n",
              "      <td>4.0</td>\n",
              "      <td>5.0</td>\n",
              "      <td>4.5</td>\n",
              "      <td>3.0</td>\n",
              "      <td>NaN</td>\n",
              "      <td>3.5</td>\n",
              "    </tr>\n",
              "    <tr>\n",
              "      <th>307</th>\n",
              "      <td>4.0</td>\n",
              "      <td>4.5</td>\n",
              "      <td>3.5</td>\n",
              "      <td>3.5</td>\n",
              "      <td>4.5</td>\n",
              "      <td>4.5</td>\n",
              "      <td>4.0</td>\n",
              "      <td>3.5</td>\n",
              "      <td>4.5</td>\n",
              "      <td>2.5</td>\n",
              "      <td>4.5</td>\n",
              "      <td>3.0</td>\n",
              "      <td>3.5</td>\n",
              "      <td>4.0</td>\n",
              "      <td>4.0</td>\n",
              "    </tr>\n",
              "    <tr>\n",
              "      <th>380</th>\n",
              "      <td>5.0</td>\n",
              "      <td>4.0</td>\n",
              "      <td>4.0</td>\n",
              "      <td>5.0</td>\n",
              "      <td>5.0</td>\n",
              "      <td>3.0</td>\n",
              "      <td>5.0</td>\n",
              "      <td>5.0</td>\n",
              "      <td>NaN</td>\n",
              "      <td>5.0</td>\n",
              "      <td>5.0</td>\n",
              "      <td>5.0</td>\n",
              "      <td>4.5</td>\n",
              "      <td>NaN</td>\n",
              "      <td>4.0</td>\n",
              "    </tr>\n",
              "    <tr>\n",
              "      <th>387</th>\n",
              "      <td>NaN</td>\n",
              "      <td>4.5</td>\n",
              "      <td>3.5</td>\n",
              "      <td>4.5</td>\n",
              "      <td>5.0</td>\n",
              "      <td>3.5</td>\n",
              "      <td>4.0</td>\n",
              "      <td>3.0</td>\n",
              "      <td>NaN</td>\n",
              "      <td>3.5</td>\n",
              "      <td>4.0</td>\n",
              "      <td>4.5</td>\n",
              "      <td>4.0</td>\n",
              "      <td>4.5</td>\n",
              "      <td>4.5</td>\n",
              "    </tr>\n",
              "    <tr>\n",
              "      <th>414</th>\n",
              "      <td>4.0</td>\n",
              "      <td>5.0</td>\n",
              "      <td>5.0</td>\n",
              "      <td>5.0</td>\n",
              "      <td>5.0</td>\n",
              "      <td>5.0</td>\n",
              "      <td>5.0</td>\n",
              "      <td>4.0</td>\n",
              "      <td>4.0</td>\n",
              "      <td>5.0</td>\n",
              "      <td>4.0</td>\n",
              "      <td>5.0</td>\n",
              "      <td>5.0</td>\n",
              "      <td>5.0</td>\n",
              "      <td>5.0</td>\n",
              "    </tr>\n",
              "    <tr>\n",
              "      <th>448</th>\n",
              "      <td>5.0</td>\n",
              "      <td>4.0</td>\n",
              "      <td>NaN</td>\n",
              "      <td>5.0</td>\n",
              "      <td>5.0</td>\n",
              "      <td>NaN</td>\n",
              "      <td>3.0</td>\n",
              "      <td>3.0</td>\n",
              "      <td>NaN</td>\n",
              "      <td>3.0</td>\n",
              "      <td>5.0</td>\n",
              "      <td>5.0</td>\n",
              "      <td>2.0</td>\n",
              "      <td>4.0</td>\n",
              "      <td>4.0</td>\n",
              "    </tr>\n",
              "    <tr>\n",
              "      <th>474</th>\n",
              "      <td>4.0</td>\n",
              "      <td>4.0</td>\n",
              "      <td>3.0</td>\n",
              "      <td>4.0</td>\n",
              "      <td>4.0</td>\n",
              "      <td>5.0</td>\n",
              "      <td>3.0</td>\n",
              "      <td>4.5</td>\n",
              "      <td>5.0</td>\n",
              "      <td>4.0</td>\n",
              "      <td>4.5</td>\n",
              "      <td>5.0</td>\n",
              "      <td>4.5</td>\n",
              "      <td>3.5</td>\n",
              "      <td>4.0</td>\n",
              "    </tr>\n",
              "    <tr>\n",
              "      <th>599</th>\n",
              "      <td>3.0</td>\n",
              "      <td>3.5</td>\n",
              "      <td>3.5</td>\n",
              "      <td>5.0</td>\n",
              "      <td>5.0</td>\n",
              "      <td>4.0</td>\n",
              "      <td>3.5</td>\n",
              "      <td>4.0</td>\n",
              "      <td>NaN</td>\n",
              "      <td>4.5</td>\n",
              "      <td>3.0</td>\n",
              "      <td>5.0</td>\n",
              "      <td>5.0</td>\n",
              "      <td>5.0</td>\n",
              "      <td>5.0</td>\n",
              "    </tr>\n",
              "    <tr>\n",
              "      <th>603</th>\n",
              "      <td>4.0</td>\n",
              "      <td>NaN</td>\n",
              "      <td>1.0</td>\n",
              "      <td>4.0</td>\n",
              "      <td>5.0</td>\n",
              "      <td>NaN</td>\n",
              "      <td>3.0</td>\n",
              "      <td>NaN</td>\n",
              "      <td>3.0</td>\n",
              "      <td>NaN</td>\n",
              "      <td>5.0</td>\n",
              "      <td>3.0</td>\n",
              "      <td>5.0</td>\n",
              "      <td>5.0</td>\n",
              "      <td>4.0</td>\n",
              "    </tr>\n",
              "    <tr>\n",
              "      <th>606</th>\n",
              "      <td>2.5</td>\n",
              "      <td>4.5</td>\n",
              "      <td>3.5</td>\n",
              "      <td>4.5</td>\n",
              "      <td>5.0</td>\n",
              "      <td>3.5</td>\n",
              "      <td>4.0</td>\n",
              "      <td>2.5</td>\n",
              "      <td>5.0</td>\n",
              "      <td>3.5</td>\n",
              "      <td>4.5</td>\n",
              "      <td>4.5</td>\n",
              "      <td>5.0</td>\n",
              "      <td>4.5</td>\n",
              "      <td>5.0</td>\n",
              "    </tr>\n",
              "    <tr>\n",
              "      <th>610</th>\n",
              "      <td>5.0</td>\n",
              "      <td>4.0</td>\n",
              "      <td>4.5</td>\n",
              "      <td>5.0</td>\n",
              "      <td>5.0</td>\n",
              "      <td>3.0</td>\n",
              "      <td>3.0</td>\n",
              "      <td>5.0</td>\n",
              "      <td>3.5</td>\n",
              "      <td>5.0</td>\n",
              "      <td>4.5</td>\n",
              "      <td>5.0</td>\n",
              "      <td>5.0</td>\n",
              "      <td>3.5</td>\n",
              "      <td>5.0</td>\n",
              "    </tr>\n",
              "  </tbody>\n",
              "</table>\n",
              "</div>"
            ],
            "text/plain": [
              "movieId  1     50    110   260   296   318   ...  589   593   1196  2571  2858  2959\n",
              "userId                                       ...                                    \n",
              "68        2.5   3.0   2.5   5.0   2.0   3.0  ...   3.5   3.5   5.0   4.5   5.0   2.5\n",
              "182       4.0   4.5   3.5   3.5   5.0   4.5  ...   2.0   4.5   3.0   5.0   5.0   5.0\n",
              "249       4.0   4.0   5.0   5.0   4.0   4.5  ...   4.0   4.0   5.0   5.0   4.5   5.0\n",
              "274       4.0   4.0   4.5   3.0   5.0   4.5  ...   4.5   4.0   4.5   4.0   5.0   5.0\n",
              "288       4.5   NaN   5.0   5.0   5.0   5.0  ...   4.0   5.0   4.5   3.0   NaN   3.5\n",
              "307       4.0   4.5   3.5   3.5   4.5   4.5  ...   2.5   4.5   3.0   3.5   4.0   4.0\n",
              "380       5.0   4.0   4.0   5.0   5.0   3.0  ...   5.0   5.0   5.0   4.5   NaN   4.0\n",
              "387       NaN   4.5   3.5   4.5   5.0   3.5  ...   3.5   4.0   4.5   4.0   4.5   4.5\n",
              "414       4.0   5.0   5.0   5.0   5.0   5.0  ...   5.0   4.0   5.0   5.0   5.0   5.0\n",
              "448       5.0   4.0   NaN   5.0   5.0   NaN  ...   3.0   5.0   5.0   2.0   4.0   4.0\n",
              "474       4.0   4.0   3.0   4.0   4.0   5.0  ...   4.0   4.5   5.0   4.5   3.5   4.0\n",
              "599       3.0   3.5   3.5   5.0   5.0   4.0  ...   4.5   3.0   5.0   5.0   5.0   5.0\n",
              "603       4.0   NaN   1.0   4.0   5.0   NaN  ...   NaN   5.0   3.0   5.0   5.0   4.0\n",
              "606       2.5   4.5   3.5   4.5   5.0   3.5  ...   3.5   4.5   4.5   5.0   4.5   5.0\n",
              "610       5.0   4.0   4.5   5.0   5.0   3.0  ...   5.0   4.5   5.0   5.0   3.5   5.0\n",
              "\n",
              "[15 rows x 15 columns]"
            ]
          },
          "metadata": {
            "tags": []
          },
          "execution_count": 8
        }
      ]
    },
    {
      "cell_type": "markdown",
      "metadata": {
        "id": "ztskXuXY_WbD"
      },
      "source": [
        "# Data preparation"
      ]
    },
    {
      "cell_type": "markdown",
      "metadata": {
        "id": "Pb46vzTJ-yxn"
      },
      "source": [
        "- Movies with no rating from certain user are marked as NaN.\n",
        "- User and movie Ids are unique values, and may have some gaps in the middle. We need to encode them as categorical variables to be able to deal with the Embedding layer. For that we use `sklearn.preprocessing.LabelEncoder`. Also, we need the number of user and movies to build the Embedding table rows."
      ]
    },
    {
      "cell_type": "code",
      "metadata": {
        "id": "5QwHivtP-yJ_",
        "outputId": "83a9f0b5-ec22-4567-ae21-4a19ace5ea71",
        "colab": {
          "base_uri": "https://localhost:8080/",
          "height": 34
        }
      },
      "source": [
        "user_enc = LabelEncoder()\n",
        "ratings['user'] = user_enc.fit_transform(ratings.userId.values)\n",
        "n_users = ratings['user'].nunique()\n",
        "\n",
        "item_enc = LabelEncoder()\n",
        "ratings['movie'] = user_enc.fit_transform(ratings.movieId.values)\n",
        "n_movies = ratings['movie'].nunique()\n",
        "\n",
        "ratings['rating'] = ratings['rating'].values.astype(np.float32)\n",
        "min_rating = min(ratings['rating'])\n",
        "max_rating = max(ratings['rating'])\n",
        "\n",
        "n_users, n_movies, min_rating, max_rating"
      ],
      "execution_count": null,
      "outputs": [
        {
          "output_type": "execute_result",
          "data": {
            "text/plain": [
              "(610, 9724, 0.5, 5.0)"
            ]
          },
          "metadata": {
            "tags": []
          },
          "execution_count": 9
        }
      ]
    },
    {
      "cell_type": "code",
      "metadata": {
        "id": "ipUOpV8wAiWD",
        "outputId": "46bc0467-1fea-4680-ce19-74a2c82899c4",
        "colab": {
          "base_uri": "https://localhost:8080/",
          "height": 198
        }
      },
      "source": [
        "ratings.head()"
      ],
      "execution_count": null,
      "outputs": [
        {
          "output_type": "execute_result",
          "data": {
            "text/html": [
              "<div>\n",
              "<style scoped>\n",
              "    .dataframe tbody tr th:only-of-type {\n",
              "        vertical-align: middle;\n",
              "    }\n",
              "\n",
              "    .dataframe tbody tr th {\n",
              "        vertical-align: top;\n",
              "    }\n",
              "\n",
              "    .dataframe thead th {\n",
              "        text-align: right;\n",
              "    }\n",
              "</style>\n",
              "<table border=\"1\" class=\"dataframe\">\n",
              "  <thead>\n",
              "    <tr style=\"text-align: right;\">\n",
              "      <th></th>\n",
              "      <th>userId</th>\n",
              "      <th>movieId</th>\n",
              "      <th>rating</th>\n",
              "      <th>timestamp</th>\n",
              "      <th>user</th>\n",
              "      <th>movie</th>\n",
              "    </tr>\n",
              "  </thead>\n",
              "  <tbody>\n",
              "    <tr>\n",
              "      <th>0</th>\n",
              "      <td>1</td>\n",
              "      <td>1</td>\n",
              "      <td>4.0</td>\n",
              "      <td>964982703</td>\n",
              "      <td>0</td>\n",
              "      <td>0</td>\n",
              "    </tr>\n",
              "    <tr>\n",
              "      <th>1</th>\n",
              "      <td>1</td>\n",
              "      <td>3</td>\n",
              "      <td>4.0</td>\n",
              "      <td>964981247</td>\n",
              "      <td>0</td>\n",
              "      <td>2</td>\n",
              "    </tr>\n",
              "    <tr>\n",
              "      <th>2</th>\n",
              "      <td>1</td>\n",
              "      <td>6</td>\n",
              "      <td>4.0</td>\n",
              "      <td>964982224</td>\n",
              "      <td>0</td>\n",
              "      <td>5</td>\n",
              "    </tr>\n",
              "    <tr>\n",
              "      <th>3</th>\n",
              "      <td>1</td>\n",
              "      <td>47</td>\n",
              "      <td>5.0</td>\n",
              "      <td>964983815</td>\n",
              "      <td>0</td>\n",
              "      <td>43</td>\n",
              "    </tr>\n",
              "    <tr>\n",
              "      <th>4</th>\n",
              "      <td>1</td>\n",
              "      <td>50</td>\n",
              "      <td>5.0</td>\n",
              "      <td>964982931</td>\n",
              "      <td>0</td>\n",
              "      <td>46</td>\n",
              "    </tr>\n",
              "  </tbody>\n",
              "</table>\n",
              "</div>"
            ],
            "text/plain": [
              "   userId  movieId  rating  timestamp  user  movie\n",
              "0       1        1     4.0  964982703     0      0\n",
              "1       1        3     4.0  964981247     0      2\n",
              "2       1        6     4.0  964982224     0      5\n",
              "3       1       47     5.0  964983815     0     43\n",
              "4       1       50     5.0  964982931     0     46"
            ]
          },
          "metadata": {
            "tags": []
          },
          "execution_count": 10
        }
      ]
    },
    {
      "cell_type": "markdown",
      "metadata": {
        "id": "FP1-mntGAbsu"
      },
      "source": [
        "Prepare train and test data"
      ]
    },
    {
      "cell_type": "code",
      "metadata": {
        "id": "YyzI4-uCAPRn"
      },
      "source": [
        "X = ratings[['user', 'movie']].values\n",
        "y = ratings['rating'].values"
      ],
      "execution_count": null,
      "outputs": []
    },
    {
      "cell_type": "markdown",
      "metadata": {
        "id": "L-G3p60XBfrK"
      },
      "source": [
        "We use `train_test_split` from `sklearn` to randomly split the data into train and test data:"
      ]
    },
    {
      "cell_type": "code",
      "metadata": {
        "id": "okKTMhCUBmO-",
        "outputId": "0053eaf4-6ad6-45b4-c9b5-9e49dc197869",
        "colab": {
          "base_uri": "https://localhost:8080/",
          "height": 54
        }
      },
      "source": [
        "X_train, X_test, y_train, y_test = train_test_split(X, y, test_size=0.1, random_state=42)\n",
        "\n",
        "print(X_train.shape, y_train.shape)\n",
        "print(X_test.shape, y_test.shape)"
      ],
      "execution_count": null,
      "outputs": [
        {
          "output_type": "stream",
          "text": [
            "(90752, 2) (90752,)\n",
            "(10084, 2) (10084,)\n"
          ],
          "name": "stdout"
        }
      ]
    },
    {
      "cell_type": "markdown",
      "metadata": {
        "id": "6Y7pr2IfC_TF"
      },
      "source": [
        "# Model\n",
        "\n",
        "We will use the functional API of keras to code in the 2 input model"
      ]
    },
    {
      "cell_type": "code",
      "metadata": {
        "id": "yYaJdLW3CwR-",
        "outputId": "efc853d5-4b06-4741-f6b0-cf7f63ac3dac",
        "colab": {
          "base_uri": "https://localhost:8080/",
          "height": 408
        }
      },
      "source": [
        "# Number of latent factors\n",
        "emb_sz = 50\n",
        "\n",
        "# User embeddings\n",
        "user = layers.Input(shape=(1,), name='user_id')\n",
        "user_emb = layers.Embedding(n_users, emb_sz, embeddings_regularizer=regularizers.l2(1e-6), name='user_embedding_LUT')(user)\n",
        "user_emb = layers.Reshape((emb_sz,))(user_emb)\n",
        "\n",
        "# Movie embeddings\n",
        "movie = layers.Input(shape=(1,), name='movie_id')\n",
        "movie_emb = layers.Embedding(n_movies, emb_sz, embeddings_regularizer=regularizers.l2(1e-6), name='movie_embedding_LUT')(movie)\n",
        "movie_emb = layers.Reshape((emb_sz,))(movie_emb)\n",
        "\n",
        "# Dot product\n",
        "rating = layers.Dot(axes=1, name='similarity_measure')([user_emb, movie_emb])\n",
        "\n",
        "\n",
        "# Model\n",
        "model = models.Model([user, movie], rating)\n",
        "\n",
        "# Compile the model\n",
        "model.compile(loss='mse',  metrics=metrics.RootMeanSquaredError(),\n",
        "              optimizer=optimizers.Adam(lr=0.001))\n",
        "\n",
        "# Show model summary\n",
        "model.summary()\n",
        "plot_model(model, show_shapes=True, show_layer_names=True)"
      ],
      "execution_count": null,
      "outputs": [
        {
          "output_type": "stream",
          "text": [
            "Model: \"model\"\n",
            "__________________________________________________________________________________________________\n",
            "Layer (type)                    Output Shape         Param #     Connected to                     \n",
            "==================================================================================================\n",
            "input_1 (InputLayer)            [(None, 1)]          0                                            \n",
            "__________________________________________________________________________________________________\n",
            "input_2 (InputLayer)            [(None, 1)]          0                                            \n",
            "__________________________________________________________________________________________________\n",
            "embedding (Embedding)           (None, 1, 50)        30500       input_1[0][0]                    \n",
            "__________________________________________________________________________________________________\n",
            "embedding_1 (Embedding)         (None, 1, 50)        486200      input_2[0][0]                    \n",
            "__________________________________________________________________________________________________\n",
            "reshape (Reshape)               (None, 50)           0           embedding[0][0]                  \n",
            "__________________________________________________________________________________________________\n",
            "reshape_1 (Reshape)             (None, 50)           0           embedding_1[0][0]                \n",
            "__________________________________________________________________________________________________\n",
            "dot (Dot)                       (None, 1)            0           reshape[0][0]                    \n",
            "                                                                 reshape_1[0][0]                  \n",
            "==================================================================================================\n",
            "Total params: 516,700\n",
            "Trainable params: 516,700\n",
            "Non-trainable params: 0\n",
            "__________________________________________________________________________________________________\n"
          ],
          "name": "stdout"
        }
      ]
    },
    {
      "cell_type": "code",
      "metadata": {
        "id": "J8NVudhpE1cz",
        "outputId": "c3e23a68-e703-407e-b449-a43288837b01",
        "colab": {
          "base_uri": "https://localhost:8080/",
          "height": 369
        }
      },
      "source": [
        "\n",
        "plot_model(model, to_file='model.png')"
      ],
      "execution_count": null,
      "outputs": [
        {
          "output_type": "execute_result",
          "data": {
            "image/png": "[encoded data removed]",
            "text/plain": [
              "<IPython.core.display.Image object>"
            ]
          },
          "metadata": {
            "tags": []
          },
          "execution_count": 14
        }
      ]
    },
    {
      "cell_type": "markdown",
      "metadata": {
        "id": "Q23Vh6ZtE-v7"
      },
      "source": [
        "Let's train the model.\n",
        "\n",
        "We have two inputs to the model, `user_id` and `movie_id`, so we need to split that into separate arrray slices from X and y:\n"
      ]
    },
    {
      "cell_type": "code",
      "metadata": {
        "id": "AR9Qh-MOE9PP",
        "outputId": "639a392c-c894-4962-b3cf-c43592b1b97f",
        "colab": {
          "base_uri": "https://localhost:8080/",
          "height": 258
        }
      },
      "source": [
        "model.fit(x=[X_train[:,0], X_train[:,1]], y=y_train,\n",
        "          batch_size=64, epochs=5, verbose=1,\n",
        "          validation_data=([X_test[:,0], X_test[:,1]], y_test))"
      ],
      "execution_count": null,
      "outputs": [
        {
          "output_type": "stream",
          "text": [
            "Epoch 1/5\n"
          ],
          "name": "stdout"
        },
        {
          "output_type": "stream",
          "text": [
            "/usr/local/lib/python3.6/dist-packages/tensorflow/python/framework/indexed_slices.py:434: UserWarning: Converting sparse IndexedSlices to a dense Tensor of unknown shape. This may consume a large amount of memory.\n",
            "  \"Converting sparse IndexedSlices to a dense Tensor of unknown shape. \"\n"
          ],
          "name": "stderr"
        },
        {
          "output_type": "stream",
          "text": [
            "1418/1418 [==============================] - 6s 4ms/step - loss: 9.4012 - root_mean_squared_error: 3.0658 - val_loss: 3.2375 - val_root_mean_squared_error: 1.7988\n",
            "Epoch 2/5\n",
            "1418/1418 [==============================] - 6s 4ms/step - loss: 2.0037 - root_mean_squared_error: 1.4127 - val_loss: 1.6325 - val_root_mean_squared_error: 1.2746\n",
            "Epoch 3/5\n",
            "1418/1418 [==============================] - 6s 4ms/step - loss: 1.1378 - root_mean_squared_error: 1.0614 - val_loss: 1.3547 - val_root_mean_squared_error: 1.1593\n",
            "Epoch 4/5\n",
            "1418/1418 [==============================] - 6s 4ms/step - loss: 0.8715 - root_mean_squared_error: 0.9264 - val_loss: 1.2748 - val_root_mean_squared_error: 1.1234\n",
            "Epoch 5/5\n",
            "1418/1418 [==============================] - 6s 4ms/step - loss: 0.7371 - root_mean_squared_error: 0.8499 - val_loss: 1.2302 - val_root_mean_squared_error: 1.1027\n"
          ],
          "name": "stdout"
        },
        {
          "output_type": "execute_result",
          "data": {
            "text/plain": [
              "<tensorflow.python.keras.callbacks.History at 0x7f466dd22f28>"
            ]
          },
          "metadata": {
            "tags": []
          },
          "execution_count": 15
        }
      ]
    },
    {
      "cell_type": "markdown",
      "metadata": {
        "id": "ZzNvkyjQMRyc"
      },
      "source": [
        "__Scaling__\n",
        "\n",
        "To help the model to scale the output within the required range, we pass the output of the Dot product to a sigmoid, which ranges from [0,1], then we scale that up to the range of `min_rating` to `max_rating`.\n"
      ]
    },
    {
      "cell_type": "code",
      "metadata": {
        "id": "mBsi-mx1PKu-",
        "outputId": "0e41c8fe-e613-4829-a3cb-67567d178717",
        "colab": {
          "base_uri": "https://localhost:8080/",
          "height": 476
        }
      },
      "source": [
        "# Number of latent factors\n",
        "emb_sz = 50\n",
        "\n",
        "# User embeddings\n",
        "user = layers.Input(shape=(1,))\n",
        "user_emb = layers.Embedding(n_users, emb_sz, embeddings_regularizer=regularizers.l2(1e-6))(user)\n",
        "user_emb = layers.Reshape((emb_sz,))(user_emb)\n",
        "\n",
        "# Movie embeddings\n",
        "movie = layers.Input(shape=(1,))\n",
        "movie_emb = layers.Embedding(n_movies, emb_sz, embeddings_regularizer=regularizers.l2(1e-6))(movie)\n",
        "movie_emb = layers.Reshape((emb_sz,))(movie_emb)\n",
        "\n",
        "# Dot product\n",
        "rating = layers.Dot(axes=1)([user_emb, movie_emb])\n",
        "rating = layers.Activation('sigmoid')(rating)\n",
        "rating = layers.Lambda(lambda x:x*(max_rating - min_rating) + min_rating)(rating)\n",
        "\n",
        "# Model\n",
        "model = models.Model([user, movie], rating)\n",
        "\n",
        "# Compile the model\n",
        "model.compile(loss='mse', metrics=metrics.RootMeanSquaredError(),\n",
        "              optimizer=optimizers.Adam(lr=0.001))\n",
        "\n",
        "# Show model summary\n",
        "model.summary()"
      ],
      "execution_count": null,
      "outputs": [
        {
          "output_type": "stream",
          "text": [
            "Model: \"model_1\"\n",
            "__________________________________________________________________________________________________\n",
            "Layer (type)                    Output Shape         Param #     Connected to                     \n",
            "==================================================================================================\n",
            "input_3 (InputLayer)            [(None, 1)]          0                                            \n",
            "__________________________________________________________________________________________________\n",
            "input_4 (InputLayer)            [(None, 1)]          0                                            \n",
            "__________________________________________________________________________________________________\n",
            "embedding_2 (Embedding)         (None, 1, 50)        30500       input_3[0][0]                    \n",
            "__________________________________________________________________________________________________\n",
            "embedding_3 (Embedding)         (None, 1, 50)        486200      input_4[0][0]                    \n",
            "__________________________________________________________________________________________________\n",
            "reshape_2 (Reshape)             (None, 50)           0           embedding_2[0][0]                \n",
            "__________________________________________________________________________________________________\n",
            "reshape_3 (Reshape)             (None, 50)           0           embedding_3[0][0]                \n",
            "__________________________________________________________________________________________________\n",
            "dot_1 (Dot)                     (None, 1)            0           reshape_2[0][0]                  \n",
            "                                                                 reshape_3[0][0]                  \n",
            "__________________________________________________________________________________________________\n",
            "activation (Activation)         (None, 1)            0           dot_1[0][0]                      \n",
            "__________________________________________________________________________________________________\n",
            "lambda (Lambda)                 (None, 1)            0           activation[0][0]                 \n",
            "==================================================================================================\n",
            "Total params: 516,700\n",
            "Trainable params: 516,700\n",
            "Non-trainable params: 0\n",
            "__________________________________________________________________________________________________\n"
          ],
          "name": "stdout"
        }
      ]
    },
    {
      "cell_type": "code",
      "metadata": {
        "id": "d9klpiV0PNcU",
        "outputId": "cefd2ec3-84b7-4732-8974-acae8f806877",
        "colab": {
          "base_uri": "https://localhost:8080/",
          "height": 274
        }
      },
      "source": [
        "model.fit(x=[X_train[:,0], X_train[:,1]], y=y_train,\n",
        "          batch_size=64, epochs=5, verbose=1,\n",
        "          validation_data=([X_test[:,0], X_test[:,1]], y_test))"
      ],
      "execution_count": null,
      "outputs": [
        {
          "output_type": "stream",
          "text": [
            "Epoch 1/5\n"
          ],
          "name": "stdout"
        },
        {
          "output_type": "stream",
          "text": [
            "/usr/local/lib/python3.6/dist-packages/tensorflow/python/framework/indexed_slices.py:434: UserWarning: Converting sparse IndexedSlices to a dense Tensor of unknown shape. This may consume a large amount of memory.\n",
            "  \"Converting sparse IndexedSlices to a dense Tensor of unknown shape. \"\n"
          ],
          "name": "stderr"
        },
        {
          "output_type": "stream",
          "text": [
            "1418/1418 [==============================] - 6s 4ms/step - loss: 1.3618 - root_mean_squared_error: 1.1667 - val_loss: 0.9253 - val_root_mean_squared_error: 0.9611\n",
            "Epoch 2/5\n",
            "1418/1418 [==============================] - 6s 4ms/step - loss: 0.7685 - root_mean_squared_error: 0.8751 - val_loss: 0.8017 - val_root_mean_squared_error: 0.8934\n",
            "Epoch 3/5\n",
            "1418/1418 [==============================] - 6s 4ms/step - loss: 0.5988 - root_mean_squared_error: 0.7711 - val_loss: 0.7719 - val_root_mean_squared_error: 0.8758\n",
            "Epoch 4/5\n",
            "1418/1418 [==============================] - 6s 4ms/step - loss: 0.4767 - root_mean_squared_error: 0.6863 - val_loss: 0.7703 - val_root_mean_squared_error: 0.8740\n",
            "Epoch 5/5\n",
            "1418/1418 [==============================] - 6s 4ms/step - loss: 0.3820 - root_mean_squared_error: 0.6123 - val_loss: 0.7787 - val_root_mean_squared_error: 0.8781\n"
          ],
          "name": "stdout"
        },
        {
          "output_type": "execute_result",
          "data": {
            "text/plain": [
              "<tensorflow.python.keras.callbacks.History at 0x7f466db598d0>"
            ]
          },
          "metadata": {
            "tags": []
          },
          "execution_count": 17
        }
      ]
    },
    {
      "cell_type": "markdown",
      "metadata": {
        "id": "oEqC31F6PeeM"
      },
      "source": [
        "Scaling seems to work much better, and reaching the SoTA (actually beating it).\n",
        "\n",
        "[Benchmark results](https://www.librec.net/release/v1.3/example.html) show lowest RMSE of 0.91 on the 100K dataset as we are using."
      ]
    },
    {
      "cell_type": "markdown",
      "metadata": {
        "id": "XfZvKnSTH8xq"
      },
      "source": [
        "# Adding user and movie biases\n",
        "\n",
        "The latent factors are dependedent on the dot product of users and movies ratings.\n",
        "\n",
        "But there might be some _prior_ movie or user factor, that does not depend on the relation between the user and his ratings. Like for example, how much a movie is popular independent of the specific user rating, or how much a user likes movies, independent of his rating to a specific movie. Here where the bias role comes in."
      ]
    },
    {
      "cell_type": "code",
      "metadata": {
        "id": "VFo481wqICy1",
        "outputId": "71e5ce95-266a-4a91-bcb5-bb463b4a9c85",
        "colab": {
          "base_uri": "https://localhost:8080/",
          "height": 1000
        }
      },
      "source": [
        "# Number of latent factors\n",
        "emb_sz = 50\n",
        "\n",
        "# User embeddings\n",
        "user = layers.Input(shape=(1,))\n",
        "user_emb = layers.Embedding(n_users, emb_sz, embeddings_regularizer=regularizers.l2(1e-6))(user)\n",
        "user_emb = layers.Reshape((emb_sz,))(user_emb)\n",
        "\n",
        "# User bias\n",
        "user_bias = layers.Embedding(n_users, 1, embeddings_regularizer=regularizers.l2(1e-6))(user)\n",
        "user_bias = layers.Reshape((1,))(user_bias)\n",
        "\n",
        "# Movie embeddings\n",
        "movie = layers.Input(shape=(1,))\n",
        "movie_emb = layers.Embedding(n_movies, emb_sz, embeddings_regularizer=regularizers.l2(1e-6))(movie)\n",
        "movie_emb = layers.Reshape((emb_sz,))(movie_emb)\n",
        "\n",
        "# Movie bias\n",
        "movie_bias = layers.Embedding(n_movies, 1, embeddings_regularizer=regularizers.l2(1e-6))(movie)\n",
        "movie_bias = layers.Reshape((1,))(movie_bias)\n",
        "\n",
        "# Dot product\n",
        "rating = layers.Dot(axes=1)([user_emb, movie_emb])\n",
        "\n",
        "# Add biases\n",
        "rating = layers.Add()([rating, user_bias, movie_bias])\n",
        "rating = layers.Activation('sigmoid')(rating)\n",
        "rating = layers.Lambda(lambda x:x*(max_rating - min_rating) + min_rating)(rating)\n",
        "\n",
        "# Model\n",
        "model = models.Model([user, movie], rating)\n",
        "\n",
        "# Compile the model\n",
        "model.compile(loss='mse', metrics=metrics.RootMeanSquaredError(),\n",
        "              optimizer=optimizers.Adam(lr=0.001))\n",
        "\n",
        "# Show model summary\n",
        "print(model.summary())\n",
        "plot_model(model, to_file='model.png')"
      ],
      "execution_count": null,
      "outputs": [
        {
          "output_type": "stream",
          "text": [
            "Model: \"model_2\"\n",
            "__________________________________________________________________________________________________\n",
            "Layer (type)                    Output Shape         Param #     Connected to                     \n",
            "==================================================================================================\n",
            "input_5 (InputLayer)            [(None, 1)]          0                                            \n",
            "__________________________________________________________________________________________________\n",
            "input_6 (InputLayer)            [(None, 1)]          0                                            \n",
            "__________________________________________________________________________________________________\n",
            "embedding_4 (Embedding)         (None, 1, 50)        30500       input_5[0][0]                    \n",
            "__________________________________________________________________________________________________\n",
            "embedding_6 (Embedding)         (None, 1, 50)        486200      input_6[0][0]                    \n",
            "__________________________________________________________________________________________________\n",
            "reshape_4 (Reshape)             (None, 50)           0           embedding_4[0][0]                \n",
            "__________________________________________________________________________________________________\n",
            "reshape_6 (Reshape)             (None, 50)           0           embedding_6[0][0]                \n",
            "__________________________________________________________________________________________________\n",
            "embedding_5 (Embedding)         (None, 1, 1)         610         input_5[0][0]                    \n",
            "__________________________________________________________________________________________________\n",
            "embedding_7 (Embedding)         (None, 1, 1)         9724        input_6[0][0]                    \n",
            "__________________________________________________________________________________________________\n",
            "dot_2 (Dot)                     (None, 1)            0           reshape_4[0][0]                  \n",
            "                                                                 reshape_6[0][0]                  \n",
            "__________________________________________________________________________________________________\n",
            "reshape_5 (Reshape)             (None, 1)            0           embedding_5[0][0]                \n",
            "__________________________________________________________________________________________________\n",
            "reshape_7 (Reshape)             (None, 1)            0           embedding_7[0][0]                \n",
            "__________________________________________________________________________________________________\n",
            "add (Add)                       (None, 1)            0           dot_2[0][0]                      \n",
            "                                                                 reshape_5[0][0]                  \n",
            "                                                                 reshape_7[0][0]                  \n",
            "__________________________________________________________________________________________________\n",
            "activation_1 (Activation)       (None, 1)            0           add[0][0]                        \n",
            "__________________________________________________________________________________________________\n",
            "lambda_1 (Lambda)               (None, 1)            0           activation_1[0][0]               \n",
            "==================================================================================================\n",
            "Total params: 527,034\n",
            "Trainable params: 527,034\n",
            "Non-trainable params: 0\n",
            "__________________________________________________________________________________________________\n",
            "None\n"
          ],
          "name": "stdout"
        },
        {
          "output_type": "execute_result",
          "data": {
            "image/png": "[encoded data removed]",
            "text/plain": [
              "<IPython.core.display.Image object>"
            ]
          },
          "metadata": {
            "tags": []
          },
          "execution_count": 18
        }
      ]
    },
    {
      "cell_type": "code",
      "metadata": {
        "id": "w9nwkM25IKVt",
        "outputId": "4ab5747e-cc48-4aa4-e722-8ee1937fa2c1",
        "colab": {
          "base_uri": "https://localhost:8080/",
          "height": 258
        }
      },
      "source": [
        "model.fit(x=[X_train[:,0], X_train[:,1]], y=y_train,\n",
        "          batch_size=64, epochs=5, verbose=1,\n",
        "          validation_data=([X_test[:,0], X_test[:,1]], y_test))"
      ],
      "execution_count": null,
      "outputs": [
        {
          "output_type": "stream",
          "text": [
            "Epoch 1/5\n"
          ],
          "name": "stdout"
        },
        {
          "output_type": "stream",
          "text": [
            "/usr/local/lib/python3.6/dist-packages/tensorflow/python/framework/indexed_slices.py:434: UserWarning: Converting sparse IndexedSlices to a dense Tensor of unknown shape. This may consume a large amount of memory.\n",
            "  \"Converting sparse IndexedSlices to a dense Tensor of unknown shape. \"\n"
          ],
          "name": "stderr"
        },
        {
          "output_type": "stream",
          "text": [
            "1418/1418 [==============================] - 6s 4ms/step - loss: 1.2103 - root_mean_squared_error: 1.0999 - val_loss: 0.8615 - val_root_mean_squared_error: 0.9274\n",
            "Epoch 2/5\n",
            "1418/1418 [==============================] - 6s 4ms/step - loss: 0.7095 - root_mean_squared_error: 0.8411 - val_loss: 0.7534 - val_root_mean_squared_error: 0.8662\n",
            "Epoch 3/5\n",
            "1418/1418 [==============================] - 6s 4ms/step - loss: 0.5429 - root_mean_squared_error: 0.7344 - val_loss: 0.7304 - val_root_mean_squared_error: 0.8520\n",
            "Epoch 4/5\n",
            "1418/1418 [==============================] - 6s 4ms/step - loss: 0.4163 - root_mean_squared_error: 0.6412 - val_loss: 0.7326 - val_root_mean_squared_error: 0.8525\n",
            "Epoch 5/5\n",
            "1418/1418 [==============================] - 6s 4ms/step - loss: 0.3214 - root_mean_squared_error: 0.5612 - val_loss: 0.7467 - val_root_mean_squared_error: 0.8600\n"
          ],
          "name": "stdout"
        },
        {
          "output_type": "execute_result",
          "data": {
            "text/plain": [
              "<tensorflow.python.keras.callbacks.History at 0x7f466d907630>"
            ]
          },
          "metadata": {
            "tags": []
          },
          "execution_count": 19
        }
      ]
    },
    {
      "cell_type": "markdown",
      "metadata": {
        "id": "-gFxD50QPU2Y"
      },
      "source": [
        "Adding user and movie biases give us extra good decrease in loss"
      ]
    },
    {
      "cell_type": "markdown",
      "metadata": {
        "id": "hRmcR-4dHsUP"
      },
      "source": [
        "# Deeper model\n",
        "\n",
        "So far, we don't have any deep layers.\n",
        "\n",
        "We could add some dense layers, on top of a concatenation of the two embeddings\n"
      ]
    },
    {
      "cell_type": "code",
      "metadata": {
        "id": "NqBGmmm2L8BH",
        "outputId": "18cf1f38-6799-4b4f-e618-0f6a89ecc507",
        "colab": {
          "base_uri": "https://localhost:8080/",
          "height": 1000
        }
      },
      "source": [
        "# Number of latent factors\n",
        "emb_sz = 50\n",
        "\n",
        "# User embeddings\n",
        "user = layers.Input(shape=(1,))\n",
        "user_emb = layers.Embedding(n_users, emb_sz, embeddings_regularizer=regularizers.l2(1e-6))(user)\n",
        "user_emb = layers.Reshape((emb_sz,))(user_emb)\n",
        "\n",
        "# User bias\n",
        "user_bias = layers.Embedding(n_users, 1, embeddings_regularizer=regularizers.l2(1e-6))(user)\n",
        "user_bias = layers.Reshape((1,))(user_bias)\n",
        "\n",
        "# Movie embeddings\n",
        "movie = layers.Input(shape=(1,))\n",
        "movie_emb = layers.Embedding(n_movies, emb_sz, embeddings_regularizer=regularizers.l2(1e-6))(movie)\n",
        "movie_emb = layers.Reshape((emb_sz,))(movie_emb)\n",
        "\n",
        "# Movie bias\n",
        "movie_bias = layers.Embedding(n_movies, 1, embeddings_regularizer=regularizers.l2(1e-6))(movie)\n",
        "movie_bias = layers.Reshape((1,))(movie_bias)\n",
        "\n",
        "# Dot product\n",
        "rating = layers.Concatenate()([user_emb, movie_emb])\n",
        "\n",
        "# Add biases\n",
        "rating = layers.Add()([rating, user_bias, movie_bias])\n",
        "rating = layers.Dense(10, activation='relu')(rating)\n",
        "rating = layers.Dropout(0.5)(rating)\n",
        "rating = layers.Dense(1, activation='sigmoid')(rating)\n",
        "rating = layers.Lambda(lambda x:x*(max_rating - min_rating) + min_rating)(rating)\n",
        "\n",
        "# Model\n",
        "model = models.Model([user, movie], rating)\n",
        "\n",
        "# Compile the model\n",
        "model.compile(loss='mse',  metrics=metrics.RootMeanSquaredError(),\n",
        "              optimizer=optimizers.Adam(lr=0.001))\n",
        "\n",
        "# Show model summary\n",
        "print(model.summary())\n",
        "plot_model(model, to_file='model.png')"
      ],
      "execution_count": null,
      "outputs": [
        {
          "output_type": "stream",
          "text": [
            "Model: \"model_3\"\n",
            "__________________________________________________________________________________________________\n",
            "Layer (type)                    Output Shape         Param #     Connected to                     \n",
            "==================================================================================================\n",
            "input_7 (InputLayer)            [(None, 1)]          0                                            \n",
            "__________________________________________________________________________________________________\n",
            "input_8 (InputLayer)            [(None, 1)]          0                                            \n",
            "__________________________________________________________________________________________________\n",
            "embedding_8 (Embedding)         (None, 1, 50)        30500       input_7[0][0]                    \n",
            "__________________________________________________________________________________________________\n",
            "embedding_10 (Embedding)        (None, 1, 50)        486200      input_8[0][0]                    \n",
            "__________________________________________________________________________________________________\n",
            "reshape_8 (Reshape)             (None, 50)           0           embedding_8[0][0]                \n",
            "__________________________________________________________________________________________________\n",
            "reshape_10 (Reshape)            (None, 50)           0           embedding_10[0][0]               \n",
            "__________________________________________________________________________________________________\n",
            "embedding_9 (Embedding)         (None, 1, 1)         610         input_7[0][0]                    \n",
            "__________________________________________________________________________________________________\n",
            "embedding_11 (Embedding)        (None, 1, 1)         9724        input_8[0][0]                    \n",
            "__________________________________________________________________________________________________\n",
            "concatenate (Concatenate)       (None, 100)          0           reshape_8[0][0]                  \n",
            "                                                                 reshape_10[0][0]                 \n",
            "__________________________________________________________________________________________________\n",
            "reshape_9 (Reshape)             (None, 1)            0           embedding_9[0][0]                \n",
            "__________________________________________________________________________________________________\n",
            "reshape_11 (Reshape)            (None, 1)            0           embedding_11[0][0]               \n",
            "__________________________________________________________________________________________________\n",
            "add_1 (Add)                     (None, 100)          0           concatenate[0][0]                \n",
            "                                                                 reshape_9[0][0]                  \n",
            "                                                                 reshape_11[0][0]                 \n",
            "__________________________________________________________________________________________________\n",
            "dense (Dense)                   (None, 10)           1010        add_1[0][0]                      \n",
            "__________________________________________________________________________________________________\n",
            "dropout (Dropout)               (None, 10)           0           dense[0][0]                      \n",
            "__________________________________________________________________________________________________\n",
            "dense_1 (Dense)                 (None, 1)            11          dropout[0][0]                    \n",
            "__________________________________________________________________________________________________\n",
            "lambda_2 (Lambda)               (None, 1)            0           dense_1[0][0]                    \n",
            "==================================================================================================\n",
            "Total params: 528,055\n",
            "Trainable params: 528,055\n",
            "Non-trainable params: 0\n",
            "__________________________________________________________________________________________________\n",
            "None\n"
          ],
          "name": "stdout"
        },
        {
          "output_type": "execute_result",
          "data": {
            "image/png": "[encoded data removed]",
            "text/plain": [
              "<IPython.core.display.Image object>"
            ]
          },
          "metadata": {
            "tags": []
          },
          "execution_count": 20
        }
      ]
    },
    {
      "cell_type": "code",
      "metadata": {
        "id": "S7t__EPgNhkw",
        "outputId": "5fcefbe5-0855-44b9-bfd9-44516e6a8387",
        "colab": {
          "base_uri": "https://localhost:8080/",
          "height": 258
        }
      },
      "source": [
        "model.fit(x=[X_train[:,0], X_train[:,1]], y=y_train,\n",
        "          batch_size=64, epochs=5, verbose=1,\n",
        "          validation_data=([X_test[:,0], X_test[:,1]], y_test))"
      ],
      "execution_count": null,
      "outputs": [
        {
          "output_type": "stream",
          "text": [
            "Epoch 1/5\n"
          ],
          "name": "stdout"
        },
        {
          "output_type": "stream",
          "text": [
            "/usr/local/lib/python3.6/dist-packages/tensorflow/python/framework/indexed_slices.py:434: UserWarning: Converting sparse IndexedSlices to a dense Tensor of unknown shape. This may consume a large amount of memory.\n",
            "  \"Converting sparse IndexedSlices to a dense Tensor of unknown shape. \"\n"
          ],
          "name": "stderr"
        },
        {
          "output_type": "stream",
          "text": [
            "1418/1418 [==============================] - 6s 4ms/step - loss: 0.9272 - root_mean_squared_error: 0.9627 - val_loss: 0.7931 - val_root_mean_squared_error: 0.8903\n",
            "Epoch 2/5\n",
            "1418/1418 [==============================] - 6s 4ms/step - loss: 0.7681 - root_mean_squared_error: 0.8760 - val_loss: 0.7766 - val_root_mean_squared_error: 0.8807\n",
            "Epoch 3/5\n",
            "1418/1418 [==============================] - 6s 5ms/step - loss: 0.7294 - root_mean_squared_error: 0.8534 - val_loss: 0.7784 - val_root_mean_squared_error: 0.8816\n",
            "Epoch 4/5\n",
            "1418/1418 [==============================] - 6s 5ms/step - loss: 0.7151 - root_mean_squared_error: 0.8447 - val_loss: 0.7816 - val_root_mean_squared_error: 0.8832\n",
            "Epoch 5/5\n",
            "1418/1418 [==============================] - 6s 4ms/step - loss: 0.7025 - root_mean_squared_error: 0.8370 - val_loss: 0.7794 - val_root_mean_squared_error: 0.8817\n"
          ],
          "name": "stdout"
        },
        {
          "output_type": "execute_result",
          "data": {
            "text/plain": [
              "<tensorflow.python.keras.callbacks.History at 0x7f4664429128>"
            ]
          },
          "metadata": {
            "tags": []
          },
          "execution_count": 21
        }
      ]
    },
    {
      "cell_type": "markdown",
      "metadata": {
        "id": "Rp-g7PjUO0qg"
      },
      "source": [
        "A deeper model didnt help much, seems to be overfitting a bit. With more regularization and/or dropout could reach the same perfromance."
      ]
    },
    {
      "cell_type": "markdown",
      "metadata": {
        "id": "P5CmU-lTYnRf"
      },
      "source": [
        "# Analysis"
      ]
    },
    {
      "cell_type": "markdown",
      "metadata": {
        "id": "7TZ9ldSSYoYs"
      },
      "source": [
        "## Movie and User Bias"
      ]
    },
    {
      "cell_type": "markdown",
      "metadata": {
        "id": "uShSyAklYqte"
      },
      "source": [
        "Use the best model"
      ]
    },
    {
      "cell_type": "code",
      "metadata": {
        "id": "3KlTbqcJZrGz",
        "outputId": "6b3ccbf2-cf1c-4a8b-a085-916ec25bef48",
        "colab": {
          "base_uri": "https://localhost:8080/",
          "height": 1000
        }
      },
      "source": [
        "# Number of latent factors\n",
        "emb_sz = 50\n",
        "\n",
        "# User embeddings\n",
        "user = layers.Input(shape=(1,))\n",
        "user_emb = layers.Embedding(n_users, emb_sz, embeddings_regularizer=regularizers.l2(1e-6))(user)\n",
        "user_emb = layers.Reshape((emb_sz,))(user_emb)\n",
        "\n",
        "# User bias\n",
        "user_bias = layers.Embedding(n_users, 1, embeddings_regularizer=regularizers.l2(1e-6))(user)\n",
        "user_bias = layers.Reshape((1,))(user_bias)\n",
        "\n",
        "# Movie embeddings\n",
        "movie = layers.Input(shape=(1,))\n",
        "movie_emb = layers.Embedding(n_movies, emb_sz, embeddings_regularizer=regularizers.l2(1e-6))(movie)\n",
        "movie_emb = layers.Reshape((emb_sz,))(movie_emb)\n",
        "\n",
        "# Movie bias\n",
        "movie_bias = layers.Embedding(n_movies, 1, embeddings_regularizer=regularizers.l2(1e-6))(movie)\n",
        "movie_bias = layers.Reshape((1,))(movie_bias)\n",
        "\n",
        "# Dot product\n",
        "rating = layers.Dot(axes=1)([user_emb, movie_emb])\n",
        "\n",
        "# Add biases\n",
        "rating = layers.Add()([rating, user_bias, movie_bias])\n",
        "rating = layers.Activation('sigmoid')(rating)\n",
        "rating = layers.Lambda(lambda x:x*(max_rating - min_rating) + min_rating)(rating)\n",
        "\n",
        "# Model\n",
        "model = models.Model([user, movie], rating)\n",
        "\n",
        "# Compile the model\n",
        "model.compile(loss='mse', metrics=metrics.RootMeanSquaredError(),\n",
        "              optimizer=optimizers.Adam(lr=0.001))\n",
        "\n",
        "# Show model summary\n",
        "print(model.summary())\n",
        "plot_model(model, to_file='model.png')"
      ],
      "execution_count": null,
      "outputs": [
        {
          "output_type": "stream",
          "text": [
            "Model: \"model_4\"\n",
            "__________________________________________________________________________________________________\n",
            "Layer (type)                    Output Shape         Param #     Connected to                     \n",
            "==================================================================================================\n",
            "input_9 (InputLayer)            [(None, 1)]          0                                            \n",
            "__________________________________________________________________________________________________\n",
            "input_10 (InputLayer)           [(None, 1)]          0                                            \n",
            "__________________________________________________________________________________________________\n",
            "embedding_12 (Embedding)        (None, 1, 50)        30500       input_9[0][0]                    \n",
            "__________________________________________________________________________________________________\n",
            "embedding_14 (Embedding)        (None, 1, 50)        486200      input_10[0][0]                   \n",
            "__________________________________________________________________________________________________\n",
            "reshape_12 (Reshape)            (None, 50)           0           embedding_12[0][0]               \n",
            "__________________________________________________________________________________________________\n",
            "reshape_14 (Reshape)            (None, 50)           0           embedding_14[0][0]               \n",
            "__________________________________________________________________________________________________\n",
            "embedding_13 (Embedding)        (None, 1, 1)         610         input_9[0][0]                    \n",
            "__________________________________________________________________________________________________\n",
            "embedding_15 (Embedding)        (None, 1, 1)         9724        input_10[0][0]                   \n",
            "__________________________________________________________________________________________________\n",
            "dot_3 (Dot)                     (None, 1)            0           reshape_12[0][0]                 \n",
            "                                                                 reshape_14[0][0]                 \n",
            "__________________________________________________________________________________________________\n",
            "reshape_13 (Reshape)            (None, 1)            0           embedding_13[0][0]               \n",
            "__________________________________________________________________________________________________\n",
            "reshape_15 (Reshape)            (None, 1)            0           embedding_15[0][0]               \n",
            "__________________________________________________________________________________________________\n",
            "add_2 (Add)                     (None, 1)            0           dot_3[0][0]                      \n",
            "                                                                 reshape_13[0][0]                 \n",
            "                                                                 reshape_15[0][0]                 \n",
            "__________________________________________________________________________________________________\n",
            "activation_2 (Activation)       (None, 1)            0           add_2[0][0]                      \n",
            "__________________________________________________________________________________________________\n",
            "lambda_3 (Lambda)               (None, 1)            0           activation_2[0][0]               \n",
            "==================================================================================================\n",
            "Total params: 527,034\n",
            "Trainable params: 527,034\n",
            "Non-trainable params: 0\n",
            "__________________________________________________________________________________________________\n",
            "None\n"
          ],
          "name": "stdout"
        },
        {
          "output_type": "execute_result",
          "data": {
            "image/png": "[encoded data removed]",
            "text/plain": [
              "<IPython.core.display.Image object>"
            ]
          },
          "metadata": {
            "tags": []
          },
          "execution_count": 22
        }
      ]
    },
    {
      "cell_type": "code",
      "metadata": {
        "id": "cwtq0HdoZunr",
        "outputId": "3b003ac2-c3e3-47f7-8033-8d722861a0a4",
        "colab": {
          "base_uri": "https://localhost:8080/",
          "height": 258
        }
      },
      "source": [
        "model.fit(x=[X_train[:,0], X_train[:,1]], y=y_train,\n",
        "          batch_size=64, epochs=5, verbose=1,\n",
        "          validation_data=([X_test[:,0], X_test[:,1]], y_test))"
      ],
      "execution_count": null,
      "outputs": [
        {
          "output_type": "stream",
          "text": [
            "Epoch 1/5\n"
          ],
          "name": "stdout"
        },
        {
          "output_type": "stream",
          "text": [
            "/usr/local/lib/python3.6/dist-packages/tensorflow/python/framework/indexed_slices.py:434: UserWarning: Converting sparse IndexedSlices to a dense Tensor of unknown shape. This may consume a large amount of memory.\n",
            "  \"Converting sparse IndexedSlices to a dense Tensor of unknown shape. \"\n"
          ],
          "name": "stderr"
        },
        {
          "output_type": "stream",
          "text": [
            "1418/1418 [==============================] - 6s 4ms/step - loss: 1.2046 - root_mean_squared_error: 1.0973 - val_loss: 0.8576 - val_root_mean_squared_error: 0.9254\n",
            "Epoch 2/5\n",
            "1418/1418 [==============================] - 6s 4ms/step - loss: 0.7070 - root_mean_squared_error: 0.8396 - val_loss: 0.7510 - val_root_mean_squared_error: 0.8649\n",
            "Epoch 3/5\n",
            "1418/1418 [==============================] - 6s 4ms/step - loss: 0.5409 - root_mean_squared_error: 0.7330 - val_loss: 0.7302 - val_root_mean_squared_error: 0.8519\n",
            "Epoch 4/5\n",
            "1418/1418 [==============================] - 6s 4ms/step - loss: 0.4166 - root_mean_squared_error: 0.6415 - val_loss: 0.7331 - val_root_mean_squared_error: 0.8528\n",
            "Epoch 5/5\n",
            "1418/1418 [==============================] - 6s 4ms/step - loss: 0.3234 - root_mean_squared_error: 0.5630 - val_loss: 0.7478 - val_root_mean_squared_error: 0.8606\n"
          ],
          "name": "stdout"
        },
        {
          "output_type": "execute_result",
          "data": {
            "text/plain": [
              "<tensorflow.python.keras.callbacks.History at 0x7f4661b750b8>"
            ]
          },
          "metadata": {
            "tags": []
          },
          "execution_count": 23
        }
      ]
    },
    {
      "cell_type": "markdown",
      "metadata": {
        "id": "Z1BAFtheQFI8"
      },
      "source": [
        "# Analysis"
      ]
    },
    {
      "cell_type": "markdown",
      "metadata": {
        "id": "7EZhsSa8aZAj"
      },
      "source": [
        "How popular is a certain movie, independent of the user preference?"
      ]
    },
    {
      "cell_type": "code",
      "metadata": {
        "id": "8HMSdF9fZwtJ",
        "outputId": "786b0916-9071-4012-d4dc-3616547bdc9d",
        "colab": {
          "base_uri": "https://localhost:8080/",
          "height": 255
        }
      },
      "source": [
        "movie_bias_model = models.Model(movie, movie_bias)\n",
        "movie_bias_model.summary()"
      ],
      "execution_count": null,
      "outputs": [
        {
          "output_type": "stream",
          "text": [
            "Model: \"model_5\"\n",
            "_________________________________________________________________\n",
            "Layer (type)                 Output Shape              Param #   \n",
            "=================================================================\n",
            "input_10 (InputLayer)        [(None, 1)]               0         \n",
            "_________________________________________________________________\n",
            "embedding_15 (Embedding)     (None, 1, 1)              9724      \n",
            "_________________________________________________________________\n",
            "reshape_15 (Reshape)         (None, 1)                 0         \n",
            "=================================================================\n",
            "Total params: 9,724\n",
            "Trainable params: 9,724\n",
            "Non-trainable params: 0\n",
            "_________________________________________________________________\n"
          ],
          "name": "stdout"
        }
      ]
    },
    {
      "cell_type": "markdown",
      "metadata": {
        "id": "BRo03AkUa3PO"
      },
      "source": [
        "Let's get the top 2000 movies."
      ]
    },
    {
      "cell_type": "code",
      "metadata": {
        "id": "-tNgTLuVagta"
      },
      "source": [
        "k = 2000\n",
        "\n",
        "\n",
        "g = ratings.groupby('movieId')['rating'].count()\n",
        "top_movies = g.sort_values(ascending=False)[:k]\n",
        "\n"
      ],
      "execution_count": null,
      "outputs": []
    },
    {
      "cell_type": "code",
      "metadata": {
        "id": "PliY0A5PbUjd",
        "outputId": "80fb926a-2be7-40ad-ac4f-6572bb74db7f",
        "colab": {
          "base_uri": "https://localhost:8080/",
          "height": 238
        }
      },
      "source": [
        "top_movies"
      ],
      "execution_count": null,
      "outputs": [
        {
          "output_type": "execute_result",
          "data": {
            "text/plain": [
              "movieId\n",
              "356      329\n",
              "318      317\n",
              "296      307\n",
              "593      279\n",
              "2571     278\n",
              "        ... \n",
              "1273      11\n",
              "46335     11\n",
              "2796      11\n",
              "3004      11\n",
              "42723     11\n",
              "Name: rating, Length: 2000, dtype: int64"
            ]
          },
          "metadata": {
            "tags": []
          },
          "execution_count": 26
        }
      ]
    },
    {
      "cell_type": "code",
      "metadata": {
        "id": "zVxC-t5sbJ2j",
        "outputId": "0750dec8-eb76-47df-b5a2-28ad0c6e868f",
        "colab": {
          "base_uri": "https://localhost:8080/",
          "height": 119
        }
      },
      "source": [
        "top_movies.index # movies"
      ],
      "execution_count": null,
      "outputs": [
        {
          "output_type": "execute_result",
          "data": {
            "text/plain": [
              "Int64Index([  356,   318,   296,   593,  2571,   260,   480,   110,   589,\n",
              "              527,\n",
              "            ...\n",
              "              599, 64983,   694, 64716,  2822,  1273, 46335,  2796,  3004,\n",
              "            42723],\n",
              "           dtype='int64', name='movieId', length=2000)"
            ]
          },
          "metadata": {
            "tags": []
          },
          "execution_count": 27
        }
      ]
    },
    {
      "cell_type": "code",
      "metadata": {
        "id": "7umkU6Z6cAYh",
        "outputId": "3506eb5c-4aef-4af5-ca77-2c793ac2bddb",
        "colab": {
          "base_uri": "https://localhost:8080/",
          "height": 34
        }
      },
      "source": [
        "top_movies.values # ratings"
      ],
      "execution_count": null,
      "outputs": [
        {
          "output_type": "execute_result",
          "data": {
            "text/plain": [
              "array([329, 317, 307, ...,  11,  11,  11])"
            ]
          },
          "metadata": {
            "tags": []
          },
          "execution_count": 28
        }
      ]
    },
    {
      "cell_type": "code",
      "metadata": {
        "id": "-_D5p2YleASm"
      },
      "source": [
        "top_movies = list(top_movies.index)"
      ],
      "execution_count": null,
      "outputs": []
    },
    {
      "cell_type": "code",
      "metadata": {
        "id": "o5VNockzmLHl"
      },
      "source": [
        "def movie2title(movies_lst):\n",
        "  return movies[movies.movieId.isin(movies_lst)]\n"
      ],
      "execution_count": null,
      "outputs": []
    },
    {
      "cell_type": "code",
      "metadata": {
        "id": "u3KAf-ommXIm",
        "outputId": "f7170603-25cf-4a41-d240-f529dec9386c",
        "colab": {
          "base_uri": "https://localhost:8080/",
          "height": 419
        }
      },
      "source": [
        "movie2title(top_movies)"
      ],
      "execution_count": null,
      "outputs": [
        {
          "output_type": "execute_result",
          "data": {
            "text/html": [
              "<div>\n",
              "<style scoped>\n",
              "    .dataframe tbody tr th:only-of-type {\n",
              "        vertical-align: middle;\n",
              "    }\n",
              "\n",
              "    .dataframe tbody tr th {\n",
              "        vertical-align: top;\n",
              "    }\n",
              "\n",
              "    .dataframe thead th {\n",
              "        text-align: right;\n",
              "    }\n",
              "</style>\n",
              "<table border=\"1\" class=\"dataframe\">\n",
              "  <thead>\n",
              "    <tr style=\"text-align: right;\">\n",
              "      <th></th>\n",
              "      <th>movieId</th>\n",
              "      <th>title</th>\n",
              "      <th>genres</th>\n",
              "    </tr>\n",
              "  </thead>\n",
              "  <tbody>\n",
              "    <tr>\n",
              "      <th>0</th>\n",
              "      <td>1</td>\n",
              "      <td>Toy Story (1995)</td>\n",
              "      <td>Adventure|Animation|Children|Comedy|Fantasy</td>\n",
              "    </tr>\n",
              "    <tr>\n",
              "      <th>1</th>\n",
              "      <td>2</td>\n",
              "      <td>Jumanji (1995)</td>\n",
              "      <td>Adventure|Children|Fantasy</td>\n",
              "    </tr>\n",
              "    <tr>\n",
              "      <th>2</th>\n",
              "      <td>3</td>\n",
              "      <td>Grumpier Old Men (1995)</td>\n",
              "      <td>Comedy|Romance</td>\n",
              "    </tr>\n",
              "    <tr>\n",
              "      <th>4</th>\n",
              "      <td>5</td>\n",
              "      <td>Father of the Bride Part II (1995)</td>\n",
              "      <td>Comedy</td>\n",
              "    </tr>\n",
              "    <tr>\n",
              "      <th>5</th>\n",
              "      <td>6</td>\n",
              "      <td>Heat (1995)</td>\n",
              "      <td>Action|Crime|Thriller</td>\n",
              "    </tr>\n",
              "    <tr>\n",
              "      <th>...</th>\n",
              "      <td>...</td>\n",
              "      <td>...</td>\n",
              "      <td>...</td>\n",
              "    </tr>\n",
              "    <tr>\n",
              "      <th>9571</th>\n",
              "      <td>174055</td>\n",
              "      <td>Dunkirk (2017)</td>\n",
              "      <td>Action|Drama|Thriller|War</td>\n",
              "    </tr>\n",
              "    <tr>\n",
              "      <th>9604</th>\n",
              "      <td>176371</td>\n",
              "      <td>Blade Runner 2049 (2017)</td>\n",
              "      <td>Sci-Fi</td>\n",
              "    </tr>\n",
              "    <tr>\n",
              "      <th>9621</th>\n",
              "      <td>177765</td>\n",
              "      <td>Coco (2017)</td>\n",
              "      <td>Adventure|Animation|Children</td>\n",
              "    </tr>\n",
              "    <tr>\n",
              "      <th>9645</th>\n",
              "      <td>179819</td>\n",
              "      <td>Star Wars: The Last Jedi (2017)</td>\n",
              "      <td>Action|Adventure|Fantasy|Sci-Fi</td>\n",
              "    </tr>\n",
              "    <tr>\n",
              "      <th>9709</th>\n",
              "      <td>187593</td>\n",
              "      <td>Deadpool 2 (2018)</td>\n",
              "      <td>Action|Comedy|Sci-Fi</td>\n",
              "    </tr>\n",
              "  </tbody>\n",
              "</table>\n",
              "<p>2000 rows × 3 columns</p>\n",
              "</div>"
            ],
            "text/plain": [
              "      movieId  ...                                       genres\n",
              "0           1  ...  Adventure|Animation|Children|Comedy|Fantasy\n",
              "1           2  ...                   Adventure|Children|Fantasy\n",
              "2           3  ...                               Comedy|Romance\n",
              "4           5  ...                                       Comedy\n",
              "5           6  ...                        Action|Crime|Thriller\n",
              "...       ...  ...                                          ...\n",
              "9571   174055  ...                    Action|Drama|Thriller|War\n",
              "9604   176371  ...                                       Sci-Fi\n",
              "9621   177765  ...                 Adventure|Animation|Children\n",
              "9645   179819  ...              Action|Adventure|Fantasy|Sci-Fi\n",
              "9709   187593  ...                         Action|Comedy|Sci-Fi\n",
              "\n",
              "[2000 rows x 3 columns]"
            ]
          },
          "metadata": {
            "tags": []
          },
          "execution_count": 31
        }
      ]
    },
    {
      "cell_type": "code",
      "metadata": {
        "id": "pHwmbjA3XXJu",
        "outputId": "338927e6-77c1-4cf5-e3a5-7c560eb33c36",
        "colab": {
          "base_uri": "https://localhost:8080/",
          "height": 34
        }
      },
      "source": [
        "len(movies.movieId.unique())"
      ],
      "execution_count": null,
      "outputs": [
        {
          "output_type": "execute_result",
          "data": {
            "text/plain": [
              "9742"
            ]
          },
          "metadata": {
            "tags": []
          },
          "execution_count": 32
        }
      ]
    },
    {
      "cell_type": "markdown",
      "metadata": {
        "id": "1FYNUAy3eo93"
      },
      "source": [
        "Now, to get the movie bias, we cannot just feed its ID, because we have to pass it to the labelencoder first.\n",
        "\n"
      ]
    },
    {
      "cell_type": "code",
      "metadata": {
        "id": "dCgY2U2Xdxb4",
        "outputId": "b916ce22-bcca-4216-9645-474a8573fad0",
        "colab": {
          "base_uri": "https://localhost:8080/",
          "height": 34
        }
      },
      "source": [
        "sel_movie = 0\n",
        "\n",
        "#movie_in = ratings[ratings.movieId == top_movies[sel_movie]]['movie'].values[0]\n",
        "movie_in = user_enc.transform(np.expand_dims(top_movies[sel_movie], 0))\n",
        "movie_in"
      ],
      "execution_count": null,
      "outputs": [
        {
          "output_type": "execute_result",
          "data": {
            "text/plain": [
              "array([314])"
            ]
          },
          "metadata": {
            "tags": []
          },
          "execution_count": 33
        }
      ]
    },
    {
      "cell_type": "code",
      "metadata": {
        "id": "eN_TWBa8rxxz"
      },
      "source": [
        "mb = movie_bias_model.predict(movie_in, 0)"
      ],
      "execution_count": null,
      "outputs": []
    },
    {
      "cell_type": "code",
      "metadata": {
        "id": "VZyZSEaTeUbZ",
        "outputId": "e672a60f-80ee-4cfc-aba1-9a659b7404e0",
        "colab": {
          "base_uri": "https://localhost:8080/",
          "height": 34
        }
      },
      "source": [
        "mb"
      ],
      "execution_count": null,
      "outputs": [
        {
          "output_type": "execute_result",
          "data": {
            "text/plain": [
              "array([[0.5017027]], dtype=float32)"
            ]
          },
          "metadata": {
            "tags": []
          },
          "execution_count": 35
        }
      ]
    },
    {
      "cell_type": "markdown",
      "metadata": {
        "id": "nVki9ZB3fkTW"
      },
      "source": [
        "If we want that for all the top 2000 movies"
      ]
    },
    {
      "cell_type": "code",
      "metadata": {
        "id": "6TPejMg_pkRj"
      },
      "source": [
        "def get_top_k_movies_code(k):\n",
        "  g = ratings.groupby('movieId')['rating'].count()\n",
        "  top_movies = g.sort_values(ascending=False)[:k]\n",
        "  top_movies = list(top_movies.index)\n",
        "  return user_enc.transform(top_movies), top_movies"
      ],
      "execution_count": null,
      "outputs": []
    },
    {
      "cell_type": "code",
      "metadata": {
        "id": "FyL0RfWQnFE_"
      },
      "source": [
        "movies_in, moviesIds = get_top_k_movies_code(k=2000)"
      ],
      "execution_count": null,
      "outputs": []
    },
    {
      "cell_type": "code",
      "metadata": {
        "id": "RS0-6CX9p0gU",
        "outputId": "c33ffce2-01b7-4ca7-ff82-aafb1a27c796",
        "colab": {
          "base_uri": "https://localhost:8080/",
          "height": 34
        }
      },
      "source": [
        "movies_in"
      ],
      "execution_count": null,
      "outputs": [
        {
          "output_type": "execute_result",
          "data": {
            "text/plain": [
              "array([ 314,  277,  257, ..., 2101, 2261, 6090])"
            ]
          },
          "metadata": {
            "tags": []
          },
          "execution_count": 38
        }
      ]
    },
    {
      "cell_type": "code",
      "metadata": {
        "id": "4R-MQNUYnX_p"
      },
      "source": [
        "movies_titles = movie2title(moviesIds)['title']"
      ],
      "execution_count": null,
      "outputs": []
    },
    {
      "cell_type": "code",
      "metadata": {
        "id": "PQAsn3a8oY4y",
        "outputId": "020fd078-18fc-4830-c4b1-0555ff6edb58",
        "colab": {
          "base_uri": "https://localhost:8080/",
          "height": 235
        }
      },
      "source": [
        "movies_titles"
      ],
      "execution_count": null,
      "outputs": [
        {
          "output_type": "execute_result",
          "data": {
            "text/plain": [
              "0                         Toy Story (1995)\n",
              "1                           Jumanji (1995)\n",
              "2                  Grumpier Old Men (1995)\n",
              "4       Father of the Bride Part II (1995)\n",
              "5                              Heat (1995)\n",
              "                       ...                \n",
              "9571                        Dunkirk (2017)\n",
              "9604              Blade Runner 2049 (2017)\n",
              "9621                           Coco (2017)\n",
              "9645       Star Wars: The Last Jedi (2017)\n",
              "9709                     Deadpool 2 (2018)\n",
              "Name: title, Length: 2000, dtype: object"
            ]
          },
          "metadata": {
            "tags": []
          },
          "execution_count": 40
        }
      ]
    },
    {
      "cell_type": "code",
      "metadata": {
        "id": "NPthEIRlnuoS"
      },
      "source": [
        "\n",
        "mbs = movie_bias_model.predict(movies_in)"
      ],
      "execution_count": null,
      "outputs": []
    },
    {
      "cell_type": "code",
      "metadata": {
        "id": "1wRf2NoKn6RH",
        "outputId": "7273612e-40dd-4de9-dc4a-e2ac8d263d94",
        "colab": {
          "base_uri": "https://localhost:8080/",
          "height": 35
        }
      },
      "source": [
        "len(mbs)"
      ],
      "execution_count": null,
      "outputs": [
        {
          "output_type": "execute_result",
          "data": {
            "text/plain": [
              "2000"
            ]
          },
          "metadata": {
            "tags": []
          },
          "execution_count": 42
        }
      ]
    },
    {
      "cell_type": "code",
      "metadata": {
        "id": "U0QRhzdfn-ID",
        "outputId": "e4638e14-67a8-4ed2-a112-c3bfb1ae9f3d",
        "colab": {
          "base_uri": "https://localhost:8080/",
          "height": 145
        }
      },
      "source": [
        "mbs"
      ],
      "execution_count": null,
      "outputs": [
        {
          "output_type": "execute_result",
          "data": {
            "text/plain": [
              "array([[ 0.5017027 ],\n",
              "       [ 0.56087595],\n",
              "       [ 0.2621239 ],\n",
              "       ...,\n",
              "       [ 0.02886072],\n",
              "       [-0.06316119],\n",
              "       [-0.01090846]], dtype=float32)"
            ]
          },
          "metadata": {
            "tags": []
          },
          "execution_count": 43
        }
      ]
    },
    {
      "cell_type": "code",
      "metadata": {
        "id": "FJ_d6-UitWqX",
        "outputId": "b259940b-bdb1-4e5d-df35-228b081bda7c",
        "colab": {
          "base_uri": "https://localhost:8080/",
          "height": 204
        }
      },
      "source": [
        "movie_bias_df = pd.DataFrame(movies_titles)\n",
        "movie_bias_df['bias'] = mbs\n",
        "movie_bias_df.head()"
      ],
      "execution_count": null,
      "outputs": [
        {
          "output_type": "execute_result",
          "data": {
            "text/html": [
              "<div>\n",
              "<style scoped>\n",
              "    .dataframe tbody tr th:only-of-type {\n",
              "        vertical-align: middle;\n",
              "    }\n",
              "\n",
              "    .dataframe tbody tr th {\n",
              "        vertical-align: top;\n",
              "    }\n",
              "\n",
              "    .dataframe thead th {\n",
              "        text-align: right;\n",
              "    }\n",
              "</style>\n",
              "<table border=\"1\" class=\"dataframe\">\n",
              "  <thead>\n",
              "    <tr style=\"text-align: right;\">\n",
              "      <th></th>\n",
              "      <th>title</th>\n",
              "      <th>bias</th>\n",
              "    </tr>\n",
              "  </thead>\n",
              "  <tbody>\n",
              "    <tr>\n",
              "      <th>0</th>\n",
              "      <td>Toy Story (1995)</td>\n",
              "      <td>0.501703</td>\n",
              "    </tr>\n",
              "    <tr>\n",
              "      <th>1</th>\n",
              "      <td>Jumanji (1995)</td>\n",
              "      <td>0.560876</td>\n",
              "    </tr>\n",
              "    <tr>\n",
              "      <th>2</th>\n",
              "      <td>Grumpier Old Men (1995)</td>\n",
              "      <td>0.262124</td>\n",
              "    </tr>\n",
              "    <tr>\n",
              "      <th>4</th>\n",
              "      <td>Father of the Bride Part II (1995)</td>\n",
              "      <td>0.207829</td>\n",
              "    </tr>\n",
              "    <tr>\n",
              "      <th>5</th>\n",
              "      <td>Heat (1995)</td>\n",
              "      <td>0.211232</td>\n",
              "    </tr>\n",
              "  </tbody>\n",
              "</table>\n",
              "</div>"
            ],
            "text/plain": [
              "                                title      bias\n",
              "0                    Toy Story (1995)  0.501703\n",
              "1                      Jumanji (1995)  0.560876\n",
              "2             Grumpier Old Men (1995)  0.262124\n",
              "4  Father of the Bride Part II (1995)  0.207829\n",
              "5                         Heat (1995)  0.211232"
            ]
          },
          "metadata": {
            "tags": []
          },
          "execution_count": 44
        }
      ]
    },
    {
      "cell_type": "code",
      "metadata": {
        "id": "Wx4dd4BSts7r",
        "outputId": "cc0a4aa7-5fde-42af-fd96-194a7602d98a",
        "colab": {
          "base_uri": "https://localhost:8080/",
          "height": 419
        }
      },
      "source": [
        "movie_bias_df.sort_values('bias', ascending=False)"
      ],
      "execution_count": null,
      "outputs": [
        {
          "output_type": "execute_result",
          "data": {
            "text/html": [
              "<div>\n",
              "<style scoped>\n",
              "    .dataframe tbody tr th:only-of-type {\n",
              "        vertical-align: middle;\n",
              "    }\n",
              "\n",
              "    .dataframe tbody tr th {\n",
              "        vertical-align: top;\n",
              "    }\n",
              "\n",
              "    .dataframe thead th {\n",
              "        text-align: right;\n",
              "    }\n",
              "</style>\n",
              "<table border=\"1\" class=\"dataframe\">\n",
              "  <thead>\n",
              "    <tr style=\"text-align: right;\">\n",
              "      <th></th>\n",
              "      <th>title</th>\n",
              "      <th>bias</th>\n",
              "    </tr>\n",
              "  </thead>\n",
              "  <tbody>\n",
              "    <tr>\n",
              "      <th>1</th>\n",
              "      <td>Jumanji (1995)</td>\n",
              "      <td>0.560876</td>\n",
              "    </tr>\n",
              "    <tr>\n",
              "      <th>0</th>\n",
              "      <td>Toy Story (1995)</td>\n",
              "      <td>0.501703</td>\n",
              "    </tr>\n",
              "    <tr>\n",
              "      <th>198</th>\n",
              "      <td>Eat Drink Man Woman (Yin shi nan nu) (1994)</td>\n",
              "      <td>0.391028</td>\n",
              "    </tr>\n",
              "    <tr>\n",
              "      <th>6</th>\n",
              "      <td>Sabrina (1995)</td>\n",
              "      <td>0.363988</td>\n",
              "    </tr>\n",
              "    <tr>\n",
              "      <th>2008</th>\n",
              "      <td>Thirteenth Floor, The (1999)</td>\n",
              "      <td>0.356012</td>\n",
              "    </tr>\n",
              "    <tr>\n",
              "      <th>...</th>\n",
              "      <td>...</td>\n",
              "      <td>...</td>\n",
              "    </tr>\n",
              "    <tr>\n",
              "      <th>3915</th>\n",
              "      <td>Signs (2002)</td>\n",
              "      <td>-0.239535</td>\n",
              "    </tr>\n",
              "    <tr>\n",
              "      <th>6332</th>\n",
              "      <td>Flags of Our Fathers (2006)</td>\n",
              "      <td>-0.242444</td>\n",
              "    </tr>\n",
              "    <tr>\n",
              "      <th>1493</th>\n",
              "      <td>Bambi (1942)</td>\n",
              "      <td>-0.254248</td>\n",
              "    </tr>\n",
              "    <tr>\n",
              "      <th>6642</th>\n",
              "      <td>Bucket List, The (2007)</td>\n",
              "      <td>-0.258685</td>\n",
              "    </tr>\n",
              "    <tr>\n",
              "      <th>8453</th>\n",
              "      <td>Boyhood (2014)</td>\n",
              "      <td>-0.276169</td>\n",
              "    </tr>\n",
              "  </tbody>\n",
              "</table>\n",
              "<p>2000 rows × 2 columns</p>\n",
              "</div>"
            ],
            "text/plain": [
              "                                            title      bias\n",
              "1                                  Jumanji (1995)  0.560876\n",
              "0                                Toy Story (1995)  0.501703\n",
              "198   Eat Drink Man Woman (Yin shi nan nu) (1994)  0.391028\n",
              "6                                  Sabrina (1995)  0.363988\n",
              "2008                 Thirteenth Floor, The (1999)  0.356012\n",
              "...                                           ...       ...\n",
              "3915                                 Signs (2002) -0.239535\n",
              "6332                  Flags of Our Fathers (2006) -0.242444\n",
              "1493                                 Bambi (1942) -0.254248\n",
              "6642                      Bucket List, The (2007) -0.258685\n",
              "8453                               Boyhood (2014) -0.276169\n",
              "\n",
              "[2000 rows x 2 columns]"
            ]
          },
          "metadata": {
            "tags": []
          },
          "execution_count": 45
        }
      ]
    },
    {
      "cell_type": "markdown",
      "metadata": {
        "id": "qexQdlpUuqxO"
      },
      "source": [
        "Notice the difference between the ranking based on movie bias from the model, and those based on the averating _rating_ column in MovieLens.\n",
        "\n",
        "The movie bias is a _normalization_ over all the _users_, instead of just taking the average ratings."
      ]
    },
    {
      "cell_type": "markdown",
      "metadata": {
        "id": "42hKWcmdvlFi"
      },
      "source": [
        "# Movie embeddings"
      ]
    },
    {
      "cell_type": "code",
      "metadata": {
        "id": "lUsya0RwvmeN",
        "outputId": "ef54d7c4-7cd7-458f-f1db-a912737337dd",
        "colab": {
          "base_uri": "https://localhost:8080/",
          "height": 272
        }
      },
      "source": [
        "movie_emb_model = models.Model(movie, movie_emb)\n",
        "movie_emb_model.summary()"
      ],
      "execution_count": null,
      "outputs": [
        {
          "output_type": "stream",
          "text": [
            "Model: \"model_6\"\n",
            "_________________________________________________________________\n",
            "Layer (type)                 Output Shape              Param #   \n",
            "=================================================================\n",
            "input_10 (InputLayer)        [(None, 1)]               0         \n",
            "_________________________________________________________________\n",
            "embedding_14 (Embedding)     (None, 1, 50)             486200    \n",
            "_________________________________________________________________\n",
            "reshape_14 (Reshape)         (None, 50)                0         \n",
            "=================================================================\n",
            "Total params: 486,200\n",
            "Trainable params: 486,200\n",
            "Non-trainable params: 0\n",
            "_________________________________________________________________\n"
          ],
          "name": "stdout"
        }
      ]
    },
    {
      "cell_type": "code",
      "metadata": {
        "id": "kcARWG34xaz4"
      },
      "source": [
        "movies_in, moviesIds = get_top_k_movies_code(k=2000)\n",
        "movies_titles = movie2title(moviesIds)['title']"
      ],
      "execution_count": null,
      "outputs": []
    },
    {
      "cell_type": "code",
      "metadata": {
        "id": "VrFus7oKwLQh"
      },
      "source": [
        "\n",
        "top_movies_embs = movie_emb_model.predict(movies_in)"
      ],
      "execution_count": null,
      "outputs": []
    },
    {
      "cell_type": "code",
      "metadata": {
        "id": "ZgIE2hoxwTvV",
        "outputId": "c85cc71a-f9bc-45db-89b0-c6b9dd09094d",
        "colab": {
          "base_uri": "https://localhost:8080/",
          "height": 35
        }
      },
      "source": [
        "top_movies_embs.shape"
      ],
      "execution_count": null,
      "outputs": [
        {
          "output_type": "execute_result",
          "data": {
            "text/plain": [
              "(2000, 50)"
            ]
          },
          "metadata": {
            "tags": []
          },
          "execution_count": 49
        }
      ]
    },
    {
      "cell_type": "code",
      "metadata": {
        "id": "v1rcOM5ZwKjB"
      },
      "source": [
        "from sklearn.decomposition import PCA\n",
        "\n",
        "pca = PCA(n_components=3)\n",
        "result = pca.fit_transform(top_movies_embs)"
      ],
      "execution_count": null,
      "outputs": []
    },
    {
      "cell_type": "markdown",
      "metadata": {
        "id": "l50y8KOWx23b"
      },
      "source": [
        "Let's try tpo figure out what are the latent factors:"
      ]
    },
    {
      "cell_type": "code",
      "metadata": {
        "id": "hfUqJgPoyO05",
        "outputId": "49010ec6-488f-47c1-aec7-d2b2c98f25d6",
        "colab": {
          "base_uri": "https://localhost:8080/",
          "height": 407
        }
      },
      "source": [
        "movie_latent_factors = pd.DataFrame(movies_titles)\n",
        "movie_latent_factors['factor_0'] = result[:,0]\n",
        "movie_latent_factors['factor_1'] = result[:,1]\n",
        "movie_latent_factors['factor_2'] = result[:,2]\n",
        "movie_latent_factors"
      ],
      "execution_count": null,
      "outputs": [
        {
          "output_type": "execute_result",
          "data": {
            "text/html": [
              "<div>\n",
              "<style scoped>\n",
              "    .dataframe tbody tr th:only-of-type {\n",
              "        vertical-align: middle;\n",
              "    }\n",
              "\n",
              "    .dataframe tbody tr th {\n",
              "        vertical-align: top;\n",
              "    }\n",
              "\n",
              "    .dataframe thead th {\n",
              "        text-align: right;\n",
              "    }\n",
              "</style>\n",
              "<table border=\"1\" class=\"dataframe\">\n",
              "  <thead>\n",
              "    <tr style=\"text-align: right;\">\n",
              "      <th></th>\n",
              "      <th>title</th>\n",
              "      <th>factor_0</th>\n",
              "      <th>factor_1</th>\n",
              "      <th>factor_2</th>\n",
              "    </tr>\n",
              "  </thead>\n",
              "  <tbody>\n",
              "    <tr>\n",
              "      <th>0</th>\n",
              "      <td>Toy Story (1995)</td>\n",
              "      <td>-0.278005</td>\n",
              "      <td>0.751162</td>\n",
              "      <td>0.313859</td>\n",
              "    </tr>\n",
              "    <tr>\n",
              "      <th>1</th>\n",
              "      <td>Jumanji (1995)</td>\n",
              "      <td>-0.984841</td>\n",
              "      <td>0.581550</td>\n",
              "      <td>0.377484</td>\n",
              "    </tr>\n",
              "    <tr>\n",
              "      <th>2</th>\n",
              "      <td>Grumpier Old Men (1995)</td>\n",
              "      <td>-1.279781</td>\n",
              "      <td>-0.244140</td>\n",
              "      <td>-0.453658</td>\n",
              "    </tr>\n",
              "    <tr>\n",
              "      <th>4</th>\n",
              "      <td>Father of the Bride Part II (1995)</td>\n",
              "      <td>-0.816554</td>\n",
              "      <td>0.545223</td>\n",
              "      <td>0.338718</td>\n",
              "    </tr>\n",
              "    <tr>\n",
              "      <th>5</th>\n",
              "      <td>Heat (1995)</td>\n",
              "      <td>-0.752872</td>\n",
              "      <td>0.717386</td>\n",
              "      <td>-0.369139</td>\n",
              "    </tr>\n",
              "    <tr>\n",
              "      <th>...</th>\n",
              "      <td>...</td>\n",
              "      <td>...</td>\n",
              "      <td>...</td>\n",
              "      <td>...</td>\n",
              "    </tr>\n",
              "    <tr>\n",
              "      <th>9571</th>\n",
              "      <td>Dunkirk (2017)</td>\n",
              "      <td>-0.639877</td>\n",
              "      <td>-0.249592</td>\n",
              "      <td>-0.100562</td>\n",
              "    </tr>\n",
              "    <tr>\n",
              "      <th>9604</th>\n",
              "      <td>Blade Runner 2049 (2017)</td>\n",
              "      <td>0.766840</td>\n",
              "      <td>-0.636974</td>\n",
              "      <td>0.284885</td>\n",
              "    </tr>\n",
              "    <tr>\n",
              "      <th>9621</th>\n",
              "      <td>Coco (2017)</td>\n",
              "      <td>0.354498</td>\n",
              "      <td>-0.083398</td>\n",
              "      <td>0.143390</td>\n",
              "    </tr>\n",
              "    <tr>\n",
              "      <th>9645</th>\n",
              "      <td>Star Wars: The Last Jedi (2017)</td>\n",
              "      <td>1.037251</td>\n",
              "      <td>0.186945</td>\n",
              "      <td>-0.272679</td>\n",
              "    </tr>\n",
              "    <tr>\n",
              "      <th>9709</th>\n",
              "      <td>Deadpool 2 (2018)</td>\n",
              "      <td>0.248494</td>\n",
              "      <td>-0.189150</td>\n",
              "      <td>0.349515</td>\n",
              "    </tr>\n",
              "  </tbody>\n",
              "</table>\n",
              "<p>2000 rows × 4 columns</p>\n",
              "</div>"
            ],
            "text/plain": [
              "                                   title  factor_0  factor_1  factor_2\n",
              "0                       Toy Story (1995) -0.278005  0.751162  0.313859\n",
              "1                         Jumanji (1995) -0.984841  0.581550  0.377484\n",
              "2                Grumpier Old Men (1995) -1.279781 -0.244140 -0.453658\n",
              "4     Father of the Bride Part II (1995) -0.816554  0.545223  0.338718\n",
              "5                            Heat (1995) -0.752872  0.717386 -0.369139\n",
              "...                                  ...       ...       ...       ...\n",
              "9571                      Dunkirk (2017) -0.639877 -0.249592 -0.100562\n",
              "9604            Blade Runner 2049 (2017)  0.766840 -0.636974  0.284885\n",
              "9621                         Coco (2017)  0.354498 -0.083398  0.143390\n",
              "9645     Star Wars: The Last Jedi (2017)  1.037251  0.186945 -0.272679\n",
              "9709                   Deadpool 2 (2018)  0.248494 -0.189150  0.349515\n",
              "\n",
              "[2000 rows x 4 columns]"
            ]
          },
          "metadata": {
            "tags": []
          },
          "execution_count": 51
        }
      ]
    },
    {
      "cell_type": "markdown",
      "metadata": {
        "id": "91epvJYtylBH"
      },
      "source": [
        "Let's sort by the factors:"
      ]
    },
    {
      "cell_type": "code",
      "metadata": {
        "id": "1gsmOP82x9X-",
        "outputId": "ac1766fb-8a3f-40ed-ba48-99b76378fa29",
        "colab": {
          "base_uri": "https://localhost:8080/",
          "height": 407
        }
      },
      "source": [
        "movie_latent_factors.sort_values('factor_0')"
      ],
      "execution_count": null,
      "outputs": [
        {
          "output_type": "execute_result",
          "data": {
            "text/html": [
              "<div>\n",
              "<style scoped>\n",
              "    .dataframe tbody tr th:only-of-type {\n",
              "        vertical-align: middle;\n",
              "    }\n",
              "\n",
              "    .dataframe tbody tr th {\n",
              "        vertical-align: top;\n",
              "    }\n",
              "\n",
              "    .dataframe thead th {\n",
              "        text-align: right;\n",
              "    }\n",
              "</style>\n",
              "<table border=\"1\" class=\"dataframe\">\n",
              "  <thead>\n",
              "    <tr style=\"text-align: right;\">\n",
              "      <th></th>\n",
              "      <th>title</th>\n",
              "      <th>factor_0</th>\n",
              "      <th>factor_1</th>\n",
              "      <th>factor_2</th>\n",
              "    </tr>\n",
              "  </thead>\n",
              "  <tbody>\n",
              "    <tr>\n",
              "      <th>2</th>\n",
              "      <td>Grumpier Old Men (1995)</td>\n",
              "      <td>-1.279781</td>\n",
              "      <td>-0.244140</td>\n",
              "      <td>-0.453658</td>\n",
              "    </tr>\n",
              "    <tr>\n",
              "      <th>24</th>\n",
              "      <td>Leaving Las Vegas (1995)</td>\n",
              "      <td>-1.226336</td>\n",
              "      <td>-0.033326</td>\n",
              "      <td>0.202144</td>\n",
              "    </tr>\n",
              "    <tr>\n",
              "      <th>134</th>\n",
              "      <td>Crimson Tide (1995)</td>\n",
              "      <td>-1.151981</td>\n",
              "      <td>-0.268237</td>\n",
              "      <td>0.227814</td>\n",
              "    </tr>\n",
              "    <tr>\n",
              "      <th>61</th>\n",
              "      <td>Friday (1995)</td>\n",
              "      <td>-1.081181</td>\n",
              "      <td>-0.283692</td>\n",
              "      <td>-0.473304</td>\n",
              "    </tr>\n",
              "    <tr>\n",
              "      <th>777</th>\n",
              "      <td>20,000 Leagues Under the Sea (1954)</td>\n",
              "      <td>-1.046890</td>\n",
              "      <td>-0.085251</td>\n",
              "      <td>0.516375</td>\n",
              "    </tr>\n",
              "    <tr>\n",
              "      <th>...</th>\n",
              "      <td>...</td>\n",
              "      <td>...</td>\n",
              "      <td>...</td>\n",
              "      <td>...</td>\n",
              "    </tr>\n",
              "    <tr>\n",
              "      <th>5923</th>\n",
              "      <td>Bewitched (2005)</td>\n",
              "      <td>1.161033</td>\n",
              "      <td>-0.146358</td>\n",
              "      <td>0.087674</td>\n",
              "    </tr>\n",
              "    <tr>\n",
              "      <th>8691</th>\n",
              "      <td>Deadpool (2016)</td>\n",
              "      <td>1.211176</td>\n",
              "      <td>-0.771655</td>\n",
              "      <td>0.063774</td>\n",
              "    </tr>\n",
              "    <tr>\n",
              "      <th>2224</th>\n",
              "      <td>Home Alone 2: Lost in New York (1992)</td>\n",
              "      <td>1.321183</td>\n",
              "      <td>-0.430576</td>\n",
              "      <td>-0.046365</td>\n",
              "    </tr>\n",
              "    <tr>\n",
              "      <th>7888</th>\n",
              "      <td>Prometheus (2012)</td>\n",
              "      <td>1.328679</td>\n",
              "      <td>-0.168954</td>\n",
              "      <td>0.467732</td>\n",
              "    </tr>\n",
              "    <tr>\n",
              "      <th>3915</th>\n",
              "      <td>Signs (2002)</td>\n",
              "      <td>1.508746</td>\n",
              "      <td>-0.404520</td>\n",
              "      <td>0.125356</td>\n",
              "    </tr>\n",
              "  </tbody>\n",
              "</table>\n",
              "<p>2000 rows × 4 columns</p>\n",
              "</div>"
            ],
            "text/plain": [
              "                                      title  factor_0  factor_1  factor_2\n",
              "2                   Grumpier Old Men (1995) -1.279781 -0.244140 -0.453658\n",
              "24                 Leaving Las Vegas (1995) -1.226336 -0.033326  0.202144\n",
              "134                     Crimson Tide (1995) -1.151981 -0.268237  0.227814\n",
              "61                            Friday (1995) -1.081181 -0.283692 -0.473304\n",
              "777     20,000 Leagues Under the Sea (1954) -1.046890 -0.085251  0.516375\n",
              "...                                     ...       ...       ...       ...\n",
              "5923                       Bewitched (2005)  1.161033 -0.146358  0.087674\n",
              "8691                        Deadpool (2016)  1.211176 -0.771655  0.063774\n",
              "2224  Home Alone 2: Lost in New York (1992)  1.321183 -0.430576 -0.046365\n",
              "7888                      Prometheus (2012)  1.328679 -0.168954  0.467732\n",
              "3915                           Signs (2002)  1.508746 -0.404520  0.125356\n",
              "\n",
              "[2000 rows x 4 columns]"
            ]
          },
          "metadata": {
            "tags": []
          },
          "execution_count": 52
        }
      ]
    },
    {
      "cell_type": "markdown",
      "metadata": {
        "id": "Un1PH-jX0GIi"
      },
      "source": [
        "Looks like at one end, looking on social movies. On the other, more of recent and Sci-Fi."
      ]
    },
    {
      "cell_type": "code",
      "metadata": {
        "id": "HK1VODdgy8X-",
        "outputId": "e657b6ff-c185-4242-ac81-ad68db6a6eb2",
        "colab": {
          "base_uri": "https://localhost:8080/",
          "height": 407
        }
      },
      "source": [
        "movie_latent_factors.sort_values('factor_1')"
      ],
      "execution_count": null,
      "outputs": [
        {
          "output_type": "execute_result",
          "data": {
            "text/html": [
              "<div>\n",
              "<style scoped>\n",
              "    .dataframe tbody tr th:only-of-type {\n",
              "        vertical-align: middle;\n",
              "    }\n",
              "\n",
              "    .dataframe tbody tr th {\n",
              "        vertical-align: top;\n",
              "    }\n",
              "\n",
              "    .dataframe thead th {\n",
              "        text-align: right;\n",
              "    }\n",
              "</style>\n",
              "<table border=\"1\" class=\"dataframe\">\n",
              "  <thead>\n",
              "    <tr style=\"text-align: right;\">\n",
              "      <th></th>\n",
              "      <th>title</th>\n",
              "      <th>factor_0</th>\n",
              "      <th>factor_1</th>\n",
              "      <th>factor_2</th>\n",
              "    </tr>\n",
              "  </thead>\n",
              "  <tbody>\n",
              "    <tr>\n",
              "      <th>3145</th>\n",
              "      <td>Spy Kids (2001)</td>\n",
              "      <td>0.755992</td>\n",
              "      <td>-0.840144</td>\n",
              "      <td>0.098075</td>\n",
              "    </tr>\n",
              "    <tr>\n",
              "      <th>8583</th>\n",
              "      <td>The Theory of Everything (2014)</td>\n",
              "      <td>0.628552</td>\n",
              "      <td>-0.815070</td>\n",
              "      <td>-0.052537</td>\n",
              "    </tr>\n",
              "    <tr>\n",
              "      <th>5989</th>\n",
              "      <td>Family Guy Presents Stewie Griffin: The Untold...</td>\n",
              "      <td>-0.364555</td>\n",
              "      <td>-0.805046</td>\n",
              "      <td>-0.206511</td>\n",
              "    </tr>\n",
              "    <tr>\n",
              "      <th>3890</th>\n",
              "      <td>Road to Perdition (2002)</td>\n",
              "      <td>0.915515</td>\n",
              "      <td>-0.790918</td>\n",
              "      <td>0.131461</td>\n",
              "    </tr>\n",
              "    <tr>\n",
              "      <th>1434</th>\n",
              "      <td>Chariots of Fire (1981)</td>\n",
              "      <td>0.381417</td>\n",
              "      <td>-0.777362</td>\n",
              "      <td>0.029891</td>\n",
              "    </tr>\n",
              "    <tr>\n",
              "      <th>...</th>\n",
              "      <td>...</td>\n",
              "      <td>...</td>\n",
              "      <td>...</td>\n",
              "      <td>...</td>\n",
              "    </tr>\n",
              "    <tr>\n",
              "      <th>9</th>\n",
              "      <td>GoldenEye (1995)</td>\n",
              "      <td>-0.308683</td>\n",
              "      <td>0.728441</td>\n",
              "      <td>0.115452</td>\n",
              "    </tr>\n",
              "    <tr>\n",
              "      <th>0</th>\n",
              "      <td>Toy Story (1995)</td>\n",
              "      <td>-0.278005</td>\n",
              "      <td>0.751162</td>\n",
              "      <td>0.313859</td>\n",
              "    </tr>\n",
              "    <tr>\n",
              "      <th>19</th>\n",
              "      <td>Money Train (1995)</td>\n",
              "      <td>0.653133</td>\n",
              "      <td>0.756806</td>\n",
              "      <td>0.246526</td>\n",
              "    </tr>\n",
              "    <tr>\n",
              "      <th>6221</th>\n",
              "      <td>Pirates of the Caribbean: Dead Man's Chest (2006)</td>\n",
              "      <td>0.348107</td>\n",
              "      <td>0.795926</td>\n",
              "      <td>0.483415</td>\n",
              "    </tr>\n",
              "    <tr>\n",
              "      <th>1259</th>\n",
              "      <td>Witness (1985)</td>\n",
              "      <td>0.141052</td>\n",
              "      <td>0.886697</td>\n",
              "      <td>0.056068</td>\n",
              "    </tr>\n",
              "  </tbody>\n",
              "</table>\n",
              "<p>2000 rows × 4 columns</p>\n",
              "</div>"
            ],
            "text/plain": [
              "                                                  title  ...  factor_2\n",
              "3145                                    Spy Kids (2001)  ...  0.098075\n",
              "8583                    The Theory of Everything (2014)  ... -0.052537\n",
              "5989  Family Guy Presents Stewie Griffin: The Untold...  ... -0.206511\n",
              "3890                           Road to Perdition (2002)  ...  0.131461\n",
              "1434                            Chariots of Fire (1981)  ...  0.029891\n",
              "...                                                 ...  ...       ...\n",
              "9                                      GoldenEye (1995)  ...  0.115452\n",
              "0                                      Toy Story (1995)  ...  0.313859\n",
              "19                                   Money Train (1995)  ...  0.246526\n",
              "6221  Pirates of the Caribbean: Dead Man's Chest (2006)  ...  0.483415\n",
              "1259                                     Witness (1985)  ...  0.056068\n",
              "\n",
              "[2000 rows x 4 columns]"
            ]
          },
          "metadata": {
            "tags": []
          },
          "execution_count": 53
        }
      ]
    },
    {
      "cell_type": "code",
      "metadata": {
        "id": "hmmKf5p3y__i",
        "outputId": "9b56ad0e-2118-4d3d-bd09-2e851be25186",
        "colab": {
          "base_uri": "https://localhost:8080/",
          "height": 407
        }
      },
      "source": [
        "movie_latent_factors.sort_values('factor_2')"
      ],
      "execution_count": null,
      "outputs": [
        {
          "output_type": "execute_result",
          "data": {
            "text/html": [
              "<div>\n",
              "<style scoped>\n",
              "    .dataframe tbody tr th:only-of-type {\n",
              "        vertical-align: middle;\n",
              "    }\n",
              "\n",
              "    .dataframe tbody tr th {\n",
              "        vertical-align: top;\n",
              "    }\n",
              "\n",
              "    .dataframe thead th {\n",
              "        text-align: right;\n",
              "    }\n",
              "</style>\n",
              "<table border=\"1\" class=\"dataframe\">\n",
              "  <thead>\n",
              "    <tr style=\"text-align: right;\">\n",
              "      <th></th>\n",
              "      <th>title</th>\n",
              "      <th>factor_0</th>\n",
              "      <th>factor_1</th>\n",
              "      <th>factor_2</th>\n",
              "    </tr>\n",
              "  </thead>\n",
              "  <tbody>\n",
              "    <tr>\n",
              "      <th>1347</th>\n",
              "      <td>Mercury Rising (1998)</td>\n",
              "      <td>0.332178</td>\n",
              "      <td>0.076090</td>\n",
              "      <td>-0.702017</td>\n",
              "    </tr>\n",
              "    <tr>\n",
              "      <th>117</th>\n",
              "      <td>Brothers McMullen, The (1995)</td>\n",
              "      <td>-0.589981</td>\n",
              "      <td>0.178241</td>\n",
              "      <td>-0.691810</td>\n",
              "    </tr>\n",
              "    <tr>\n",
              "      <th>946</th>\n",
              "      <td>Graduate, The (1967)</td>\n",
              "      <td>-0.338809</td>\n",
              "      <td>-0.401788</td>\n",
              "      <td>-0.658833</td>\n",
              "    </tr>\n",
              "    <tr>\n",
              "      <th>199</th>\n",
              "      <td>Exotica (1994)</td>\n",
              "      <td>-0.647799</td>\n",
              "      <td>-0.192046</td>\n",
              "      <td>-0.658026</td>\n",
              "    </tr>\n",
              "    <tr>\n",
              "      <th>2044</th>\n",
              "      <td>Mystery Men (1999)</td>\n",
              "      <td>0.481943</td>\n",
              "      <td>0.023822</td>\n",
              "      <td>-0.636760</td>\n",
              "    </tr>\n",
              "    <tr>\n",
              "      <th>...</th>\n",
              "      <td>...</td>\n",
              "      <td>...</td>\n",
              "      <td>...</td>\n",
              "      <td>...</td>\n",
              "    </tr>\n",
              "    <tr>\n",
              "      <th>830</th>\n",
              "      <td>Weekend at Bernie's (1989)</td>\n",
              "      <td>0.729404</td>\n",
              "      <td>0.545231</td>\n",
              "      <td>0.678696</td>\n",
              "    </tr>\n",
              "    <tr>\n",
              "      <th>630</th>\n",
              "      <td>Phenomenon (1996)</td>\n",
              "      <td>0.583151</td>\n",
              "      <td>0.238616</td>\n",
              "      <td>0.682040</td>\n",
              "    </tr>\n",
              "    <tr>\n",
              "      <th>1056</th>\n",
              "      <td>Star Trek V: The Final Frontier (1989)</td>\n",
              "      <td>-0.055650</td>\n",
              "      <td>0.001553</td>\n",
              "      <td>0.704540</td>\n",
              "    </tr>\n",
              "    <tr>\n",
              "      <th>598</th>\n",
              "      <td>Spy Hard (1996)</td>\n",
              "      <td>-0.570099</td>\n",
              "      <td>0.124406</td>\n",
              "      <td>0.772339</td>\n",
              "    </tr>\n",
              "    <tr>\n",
              "      <th>1435</th>\n",
              "      <td>Terms of Endearment (1983)</td>\n",
              "      <td>0.483175</td>\n",
              "      <td>0.176901</td>\n",
              "      <td>0.797862</td>\n",
              "    </tr>\n",
              "  </tbody>\n",
              "</table>\n",
              "<p>2000 rows × 4 columns</p>\n",
              "</div>"
            ],
            "text/plain": [
              "                                       title  factor_0  factor_1  factor_2\n",
              "1347                   Mercury Rising (1998)  0.332178  0.076090 -0.702017\n",
              "117            Brothers McMullen, The (1995) -0.589981  0.178241 -0.691810\n",
              "946                     Graduate, The (1967) -0.338809 -0.401788 -0.658833\n",
              "199                           Exotica (1994) -0.647799 -0.192046 -0.658026\n",
              "2044                      Mystery Men (1999)  0.481943  0.023822 -0.636760\n",
              "...                                      ...       ...       ...       ...\n",
              "830               Weekend at Bernie's (1989)  0.729404  0.545231  0.678696\n",
              "630                        Phenomenon (1996)  0.583151  0.238616  0.682040\n",
              "1056  Star Trek V: The Final Frontier (1989) -0.055650  0.001553  0.704540\n",
              "598                          Spy Hard (1996) -0.570099  0.124406  0.772339\n",
              "1435              Terms of Endearment (1983)  0.483175  0.176901  0.797862\n",
              "\n",
              "[2000 rows x 4 columns]"
            ]
          },
          "metadata": {
            "tags": []
          },
          "execution_count": 54
        }
      ]
    },
    {
      "cell_type": "markdown",
      "metadata": {
        "id": "O9BWnrZUyp0d"
      },
      "source": [
        "# Visualization"
      ]
    },
    {
      "cell_type": "markdown",
      "metadata": {
        "id": "p2bqNy-jzQyp"
      },
      "source": [
        "We will work on just 20, for visualization purposes"
      ]
    },
    {
      "cell_type": "code",
      "metadata": {
        "id": "YKvFfvkTzNGV"
      },
      "source": [
        "movies_in, moviesIds = get_top_k_movies_code(k=10)\n",
        "movies_titles = movie2title(moviesIds)['title']\n",
        "top_movies_embs = movie_emb_model.predict(movies_in)"
      ],
      "execution_count": null,
      "outputs": []
    },
    {
      "cell_type": "markdown",
      "metadata": {
        "id": "lb3nWor-z23u"
      },
      "source": [
        "To be able to visualize, we should get to 2D"
      ]
    },
    {
      "cell_type": "code",
      "metadata": {
        "id": "H193uzInzwfc"
      },
      "source": [
        "pca = PCA(n_components=2)\n",
        "result = pca.fit_transform(top_movies_embs)"
      ],
      "execution_count": null,
      "outputs": []
    },
    {
      "cell_type": "code",
      "metadata": {
        "id": "698ruk0pwaoP",
        "outputId": "d16cd037-6494-4778-9616-aeac480d2c00",
        "colab": {
          "base_uri": "https://localhost:8080/",
          "height": 265
        }
      },
      "source": [
        "import matplotlib.pyplot as plt\n",
        "plt.scatter(result[:, 0], result[:, 1])\n",
        "titles = list(movies_titles)\n",
        "for i, title in enumerate(titles):\n",
        "  plt.annotate(title, xy=(result[i, 0], result[i, 1]))\n",
        "plt.show()"
      ],
      "execution_count": null,
      "outputs": [
        {
          "output_type": "display_data",
          "data": {
            "image/png": "[encoded data removed]",
            "text/plain": [
              "<Figure size 432x288 with 1 Axes>"
            ]
          },
          "metadata": {
            "tags": [],
            "needs_background": "light"
          }
        }
      ]
    },
    {
      "cell_type": "markdown",
      "metadata": {
        "id": "2VRZf16jS_Kl"
      },
      "source": [
        "Using tSNE"
      ]
    },
    {
      "cell_type": "code",
      "metadata": {
        "id": "YlooEqGbTB9w"
      },
      "source": [
        "from sklearn.manifold import TSNE"
      ],
      "execution_count": null,
      "outputs": []
    },
    {
      "cell_type": "code",
      "metadata": {
        "id": "3sEzk66KTGwX",
        "outputId": "6c6f5f8a-f69e-4201-c736-3aa95579d95b",
        "colab": {
          "base_uri": "https://localhost:8080/",
          "height": 33
        }
      },
      "source": [
        "result = TSNE(random_state=123).fit_transform(top_movies_embs)\n",
        "result.shape"
      ],
      "execution_count": null,
      "outputs": [
        {
          "output_type": "execute_result",
          "data": {
            "text/plain": [
              "(10, 2)"
            ]
          },
          "metadata": {
            "tags": []
          },
          "execution_count": 60
        }
      ]
    },
    {
      "cell_type": "code",
      "metadata": {
        "id": "gc48LoKdTX43",
        "outputId": "e0e5726f-6ad3-43b0-b200-f9871c600722",
        "colab": {
          "base_uri": "https://localhost:8080/",
          "height": 265
        }
      },
      "source": [
        "import matplotlib.pyplot as plt\n",
        "plt.scatter(result[:, 0], result[:, 1])\n",
        "titles = list(movies_titles)\n",
        "for i, title in enumerate(titles):\n",
        "  plt.annotate(title, xy=(result[i, 0], result[i, 1]))\n",
        "plt.show()"
      ],
      "execution_count": null,
      "outputs": [
        {
          "output_type": "display_data",
          "data": {
            "image/png": "[encoded data removed]",
            "text/plain": [
              "<Figure size 432x288 with 1 Axes>"
            ]
          },
          "metadata": {
            "tags": [],
            "needs_background": "light"
          }
        }
      ]
    }
  ]
}