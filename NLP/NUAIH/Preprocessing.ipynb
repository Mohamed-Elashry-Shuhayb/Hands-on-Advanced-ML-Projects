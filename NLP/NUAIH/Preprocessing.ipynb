{
 "cells": [
  {
   "cell_type": "markdown",
   "metadata": {
    "id": "GKEtzJl-8oj_"
   },
   "source": [
    "# Installation"
   ]
  },
  {
   "cell_type": "code",
   "execution_count": 1,
   "metadata": {
    "colab": {
     "base_uri": "https://localhost:8080/"
    },
    "id": "JjO0KSFCUPVy",
    "outputId": "f5351066-bf55-405f-adb8-cdfc4419d264"
   },
   "outputs": [
    {
     "name": "stdout",
     "output_type": "stream",
     "text": [
      "(9368, 3)\n",
      "(2342, 4)\n"
     ]
    }
   ],
   "source": [
    "import pandas as pd\n",
    "train = pd.read_csv('train.csv', encoding='utf-8')\n",
    "test = pd.read_csv('test.csv')\n",
    "\n",
    "print(train.shape)\n",
    "print(test.shape)"
   ]
  },
  {
   "cell_type": "code",
   "execution_count": 2,
   "metadata": {
    "colab": {
     "base_uri": "https://localhost:8080/",
     "height": 269
    },
    "id": "VIG9_o2_UieW",
    "outputId": "2ac7f947-6741-4c12-8646-7fd1ac3f1417"
   },
   "outputs": [
    {
     "data": {
      "text/html": [
       "<div>\n",
       "<style scoped>\n",
       "    .dataframe tbody tr th:only-of-type {\n",
       "        vertical-align: middle;\n",
       "    }\n",
       "\n",
       "    .dataframe tbody tr th {\n",
       "        vertical-align: top;\n",
       "    }\n",
       "\n",
       "    .dataframe thead th {\n",
       "        text-align: right;\n",
       "    }\n",
       "</style>\n",
       "<table border=\"1\" class=\"dataframe\">\n",
       "  <thead>\n",
       "    <tr style=\"text-align: right;\">\n",
       "      <th></th>\n",
       "      <th>hadith_text</th>\n",
       "      <th>subtext</th>\n",
       "      <th>Named_entity</th>\n",
       "    </tr>\n",
       "  </thead>\n",
       "  <tbody>\n",
       "    <tr>\n",
       "      <th>0</th>\n",
       "      <td>حدثنا محمد بن المثنى ، حدثنا إسحاق بن يوسف ، ح...</td>\n",
       "      <td>الظهر</td>\n",
       "      <td>0</td>\n",
       "    </tr>\n",
       "    <tr>\n",
       "      <th>1</th>\n",
       "      <td>حدثنا أبو اليمان ، أخبرنا شعيب ، عن الزهري ، ق...</td>\n",
       "      <td>والمروة</td>\n",
       "      <td>1</td>\n",
       "    </tr>\n",
       "    <tr>\n",
       "      <th>2</th>\n",
       "      <td>حدثنا عبد الله بن عبد الوهاب ، حدثنا خالد بن ا...</td>\n",
       "      <td>عشاء</td>\n",
       "      <td>0</td>\n",
       "    </tr>\n",
       "    <tr>\n",
       "      <th>3</th>\n",
       "      <td>حدثنا موسى بن إسماعيل ، حدثنا جرير بن حازم ، ح...</td>\n",
       "      <td>الربا</td>\n",
       "      <td>2</td>\n",
       "    </tr>\n",
       "    <tr>\n",
       "      <th>4</th>\n",
       "      <td>حدثنا عبد الله بن يوسف ، أخبرنا مالك ، عن إسحا...</td>\n",
       "      <td>مالك</td>\n",
       "      <td>3</td>\n",
       "    </tr>\n",
       "    <tr>\n",
       "      <th>5</th>\n",
       "      <td>حدثنا محمد بن المثنى ، حدثنا خالد بن الحارث ، ...</td>\n",
       "      <td>محمد بن المثنى</td>\n",
       "      <td>3</td>\n",
       "    </tr>\n",
       "    <tr>\n",
       "      <th>6</th>\n",
       "      <td>حدثنا عبدان ، قال أخبرني أبي ، عن شعبة ، عن قت...</td>\n",
       "      <td>يزيد بن زريع</td>\n",
       "      <td>3</td>\n",
       "    </tr>\n",
       "  </tbody>\n",
       "</table>\n",
       "</div>"
      ],
      "text/plain": [
       "                                         hadith_text         subtext  \\\n",
       "0  حدثنا محمد بن المثنى ، حدثنا إسحاق بن يوسف ، ح...           الظهر   \n",
       "1  حدثنا أبو اليمان ، أخبرنا شعيب ، عن الزهري ، ق...         والمروة   \n",
       "2  حدثنا عبد الله بن عبد الوهاب ، حدثنا خالد بن ا...            عشاء   \n",
       "3  حدثنا موسى بن إسماعيل ، حدثنا جرير بن حازم ، ح...           الربا   \n",
       "4  حدثنا عبد الله بن يوسف ، أخبرنا مالك ، عن إسحا...            مالك   \n",
       "5  حدثنا محمد بن المثنى ، حدثنا خالد بن الحارث ، ...  محمد بن المثنى   \n",
       "6  حدثنا عبدان ، قال أخبرني أبي ، عن شعبة ، عن قت...    يزيد بن زريع   \n",
       "\n",
       "   Named_entity  \n",
       "0             0  \n",
       "1             1  \n",
       "2             0  \n",
       "3             2  \n",
       "4             3  \n",
       "5             3  \n",
       "6             3  "
      ]
     },
     "execution_count": 2,
     "metadata": {},
     "output_type": "execute_result"
    }
   ],
   "source": [
    "train.head(7)"
   ]
  },
  {
   "cell_type": "code",
   "execution_count": 3,
   "metadata": {
    "id": "w05oMCn4BenF"
   },
   "outputs": [],
   "source": [
    "train.dropna(inplace=True)"
   ]
  },
  {
   "cell_type": "code",
   "execution_count": 4,
   "metadata": {
    "colab": {
     "base_uri": "https://localhost:8080/",
     "height": 269
    },
    "id": "6rP6bODTUy6z",
    "outputId": "7d1fdf61-f796-47f4-fda3-36460c9616f8"
   },
   "outputs": [
    {
     "data": {
      "text/html": [
       "<div>\n",
       "<style scoped>\n",
       "    .dataframe tbody tr th:only-of-type {\n",
       "        vertical-align: middle;\n",
       "    }\n",
       "\n",
       "    .dataframe tbody tr th {\n",
       "        vertical-align: top;\n",
       "    }\n",
       "\n",
       "    .dataframe thead th {\n",
       "        text-align: right;\n",
       "    }\n",
       "</style>\n",
       "<table border=\"1\" class=\"dataframe\">\n",
       "  <thead>\n",
       "    <tr style=\"text-align: right;\">\n",
       "      <th></th>\n",
       "      <th>IDs</th>\n",
       "      <th>hadith_text</th>\n",
       "      <th>subtext</th>\n",
       "      <th>Named_entity</th>\n",
       "    </tr>\n",
       "  </thead>\n",
       "  <tbody>\n",
       "    <tr>\n",
       "      <th>0</th>\n",
       "      <td>0</td>\n",
       "      <td>حدثنا خلاد بن يحيى ، حدثنا نافع بن عمر ، عن اب...</td>\n",
       "      <td>نافع بن عمر</td>\n",
       "      <td></td>\n",
       "    </tr>\n",
       "    <tr>\n",
       "      <th>1</th>\n",
       "      <td>1</td>\n",
       "      <td>حدثنا عمر بن حفص ، حدثنا أبي ، حدثنا الأعمش ، ...</td>\n",
       "      <td>صفية</td>\n",
       "      <td></td>\n",
       "    </tr>\n",
       "    <tr>\n",
       "      <th>2</th>\n",
       "      <td>2</td>\n",
       "      <td>حدثنا الصلت بن محمد ، حدثنا عبد الواحد ، حدثنا...</td>\n",
       "      <td>ابن عباس</td>\n",
       "      <td></td>\n",
       "    </tr>\n",
       "    <tr>\n",
       "      <th>3</th>\n",
       "      <td>3</td>\n",
       "      <td>حدثنا عبد الله بن يوسف ، أخبرنا مالك ، عن نافع...</td>\n",
       "      <td>نافع</td>\n",
       "      <td></td>\n",
       "    </tr>\n",
       "    <tr>\n",
       "      <th>4</th>\n",
       "      <td>4</td>\n",
       "      <td>حدثني عبد الله بن محمد ، حدثنا إسحاق الأزرق ، ...</td>\n",
       "      <td>الظهر</td>\n",
       "      <td></td>\n",
       "    </tr>\n",
       "    <tr>\n",
       "      <th>5</th>\n",
       "      <td>5</td>\n",
       "      <td>حدثنا حفص بن عمر ، حدثنا شعبة ، قال أخبرني عبد...</td>\n",
       "      <td>قزعة</td>\n",
       "      <td></td>\n",
       "    </tr>\n",
       "    <tr>\n",
       "      <th>6</th>\n",
       "      <td>6</td>\n",
       "      <td>حدثنا مسدد ، حدثنا يزيد بن زريع ، قال حدثني ال...</td>\n",
       "      <td>أبي عثمان</td>\n",
       "      <td></td>\n",
       "    </tr>\n",
       "  </tbody>\n",
       "</table>\n",
       "</div>"
      ],
      "text/plain": [
       "   IDs                                        hadith_text      subtext  \\\n",
       "0    0  حدثنا خلاد بن يحيى ، حدثنا نافع بن عمر ، عن اب...  نافع بن عمر   \n",
       "1    1  حدثنا عمر بن حفص ، حدثنا أبي ، حدثنا الأعمش ، ...         صفية   \n",
       "2    2  حدثنا الصلت بن محمد ، حدثنا عبد الواحد ، حدثنا...     ابن عباس   \n",
       "3    3  حدثنا عبد الله بن يوسف ، أخبرنا مالك ، عن نافع...         نافع   \n",
       "4    4  حدثني عبد الله بن محمد ، حدثنا إسحاق الأزرق ، ...        الظهر   \n",
       "5    5  حدثنا حفص بن عمر ، حدثنا شعبة ، قال أخبرني عبد...         قزعة   \n",
       "6    6  حدثنا مسدد ، حدثنا يزيد بن زريع ، قال حدثني ال...    أبي عثمان   \n",
       "\n",
       "  Named_entity  \n",
       "0               \n",
       "1               \n",
       "2               \n",
       "3               \n",
       "4               \n",
       "5               \n",
       "6               "
      ]
     },
     "execution_count": 4,
     "metadata": {},
     "output_type": "execute_result"
    }
   ],
   "source": [
    "test.head(7)"
   ]
  },
  {
   "cell_type": "code",
   "execution_count": 5,
   "metadata": {
    "id": "sAlv7I_GbYxy"
   },
   "outputs": [],
   "source": [
    "test.dropna(inplace=True)"
   ]
  },
  {
   "cell_type": "code",
   "execution_count": 6,
   "metadata": {
    "colab": {
     "base_uri": "https://localhost:8080/",
     "height": 224
    },
    "id": "7WJd3jjwU0o9",
    "outputId": "ed517cb5-8b39-414a-e532-9dfb75be9729"
   },
   "outputs": [
    {
     "name": "stdout",
     "output_type": "stream",
     "text": [
      "(17, 3)\n"
     ]
    },
    {
     "data": {
      "text/html": [
       "<div>\n",
       "<style scoped>\n",
       "    .dataframe tbody tr th:only-of-type {\n",
       "        vertical-align: middle;\n",
       "    }\n",
       "\n",
       "    .dataframe tbody tr th {\n",
       "        vertical-align: top;\n",
       "    }\n",
       "\n",
       "    .dataframe thead th {\n",
       "        text-align: right;\n",
       "    }\n",
       "</style>\n",
       "<table border=\"1\" class=\"dataframe\">\n",
       "  <thead>\n",
       "    <tr style=\"text-align: right;\">\n",
       "      <th></th>\n",
       "      <th>Name_entity</th>\n",
       "      <th>Meaning</th>\n",
       "      <th>label</th>\n",
       "    </tr>\n",
       "  </thead>\n",
       "  <tbody>\n",
       "    <tr>\n",
       "      <th>0</th>\n",
       "      <td>plc</td>\n",
       "      <td>Names of places</td>\n",
       "      <td>1</td>\n",
       "    </tr>\n",
       "    <tr>\n",
       "      <th>1</th>\n",
       "      <td>rawy</td>\n",
       "      <td>Narrator</td>\n",
       "      <td>3</td>\n",
       "    </tr>\n",
       "    <tr>\n",
       "      <th>2</th>\n",
       "      <td>Crime</td>\n",
       "      <td>List of Crimes</td>\n",
       "      <td>2</td>\n",
       "    </tr>\n",
       "    <tr>\n",
       "      <th>3</th>\n",
       "      <td>Hell</td>\n",
       "      <td>Hell</td>\n",
       "      <td>11</td>\n",
       "    </tr>\n",
       "    <tr>\n",
       "      <th>4</th>\n",
       "      <td>Time</td>\n",
       "      <td>Time</td>\n",
       "      <td>0</td>\n",
       "    </tr>\n",
       "  </tbody>\n",
       "</table>\n",
       "</div>"
      ],
      "text/plain": [
       "  Name_entity          Meaning  label\n",
       "0         plc  Names of places      1\n",
       "1        rawy         Narrator      3\n",
       "2       Crime   List of Crimes      2\n",
       "3        Hell             Hell     11\n",
       "4        Time             Time      0"
      ]
     },
     "execution_count": 6,
     "metadata": {},
     "output_type": "execute_result"
    }
   ],
   "source": [
    "tags = pd.read_csv('tags.csv')\n",
    "print(tags.shape)\n",
    "tags.head()"
   ]
  },
  {
   "cell_type": "code",
   "execution_count": 7,
   "metadata": {
    "colab": {
     "base_uri": "https://localhost:8080/"
    },
    "id": "Ix_nHYOtVKS8",
    "outputId": "b3a2fb86-4845-4949-9f18-f2372bd46502"
   },
   "outputs": [
    {
     "data": {
      "text/plain": [
       "17"
      ]
     },
     "execution_count": 7,
     "metadata": {},
     "output_type": "execute_result"
    }
   ],
   "source": [
    "len(tags.label)"
   ]
  },
  {
   "cell_type": "markdown",
   "metadata": {
    "id": "0D7-Gp4m7Div"
   },
   "source": [
    "# Prepare the data"
   ]
  },
  {
   "cell_type": "code",
   "execution_count": 8,
   "metadata": {
    "id": "mrhj3-Kr7Hjb"
   },
   "outputs": [],
   "source": [
    "import numpy as np\n",
    "from camel_tools.utils.normalize import normalize_teh_marbuta_ar, normalize_alef_ar\n",
    "import re"
   ]
  },
  {
   "cell_type": "code",
   "execution_count": 9,
   "metadata": {
    "colab": {
     "base_uri": "https://localhost:8080/",
     "height": 53
    },
    "id": "xG8pdGql7Jwg",
    "outputId": "b71c3da3-e6c4-4198-fba5-9e3c080a5240"
   },
   "outputs": [
    {
     "data": {
      "text/plain": [
       "'حدثنا محمد بن المثنى ، حدثنا إسحاق بن يوسف ، حدثنا سفيان الثوري ، عن عبد العزيز بن رفيع ، قال سألت أنس بن مالك ، أخبرني بشيء عقلته، عن النبي صلى الله عليه وسلم، أين صلى الظهر يوم التروية؟، قال بمنى ، قلت فأين صلى العصر يوم النفر؟، قال بالأبطح ، افعل كما يفعل أمراؤك'"
      ]
     },
     "execution_count": 9,
     "metadata": {},
     "output_type": "execute_result"
    }
   ],
   "source": [
    "sample = train['hadith_text'][0]\n",
    "sample"
   ]
  },
  {
   "cell_type": "code",
   "execution_count": 10,
   "metadata": {
    "colab": {
     "base_uri": "https://localhost:8080/",
     "height": 53
    },
    "id": "ahQQ6V_M7hsA",
    "outputId": "0d7ddc48-d265-4904-e875-42142e4e7dbc"
   },
   "outputs": [
    {
     "data": {
      "text/plain": [
       "'حدثنا محمد بن المثنى ، حدثنا إسحاق بن يوسف ، حدثنا سفيان الثوري ، عن عبد العزيز بن رفيع ، قال سألت أنس بن مالك ، أخبرني بشيء عقلته، عن النبي صلى الله عليه وسلم، أين صلى الظهر يوم الترويه؟، قال بمنى ، قلت فأين صلى العصر يوم النفر؟، قال بالأبطح ، افعل كما يفعل أمراؤك'"
      ]
     },
     "execution_count": 10,
     "metadata": {},
     "output_type": "execute_result"
    }
   ],
   "source": [
    "normalize_teh_marbuta_ar(sample)"
   ]
  },
  {
   "cell_type": "code",
   "execution_count": 11,
   "metadata": {
    "colab": {
     "base_uri": "https://localhost:8080/",
     "height": 53
    },
    "id": "MGP32h0v7m52",
    "outputId": "724b3744-c89e-4da2-9ce4-b507ce96e15d"
   },
   "outputs": [
    {
     "data": {
      "text/plain": [
       "'حدثنا محمد بن المثنى ، حدثنا اسحاق بن يوسف ، حدثنا سفيان الثوري ، عن عبد العزيز بن رفيع ، قال سالت انس بن مالك ، اخبرني بشيء عقلته، عن النبي صلى الله عليه وسلم، اين صلى الظهر يوم التروية؟، قال بمنى ، قلت فاين صلى العصر يوم النفر؟، قال بالابطح ، افعل كما يفعل امراؤك'"
      ]
     },
     "execution_count": 11,
     "metadata": {},
     "output_type": "execute_result"
    }
   ],
   "source": [
    "normalize_alef_ar(sample)"
   ]
  },
  {
   "cell_type": "code",
   "execution_count": 12,
   "metadata": {
    "colab": {
     "base_uri": "https://localhost:8080/",
     "height": 269
    },
    "id": "wacAPC4m7o_L",
    "outputId": "c516612a-58d1-4ca3-9cbe-7cdfaa4c3e5e"
   },
   "outputs": [
    {
     "data": {
      "text/html": [
       "<div>\n",
       "<style scoped>\n",
       "    .dataframe tbody tr th:only-of-type {\n",
       "        vertical-align: middle;\n",
       "    }\n",
       "\n",
       "    .dataframe tbody tr th {\n",
       "        vertical-align: top;\n",
       "    }\n",
       "\n",
       "    .dataframe thead th {\n",
       "        text-align: right;\n",
       "    }\n",
       "</style>\n",
       "<table border=\"1\" class=\"dataframe\">\n",
       "  <thead>\n",
       "    <tr style=\"text-align: right;\">\n",
       "      <th></th>\n",
       "      <th>normalized_text</th>\n",
       "      <th>normalized_subtext</th>\n",
       "      <th>Named_entity</th>\n",
       "    </tr>\n",
       "  </thead>\n",
       "  <tbody>\n",
       "    <tr>\n",
       "      <th>0</th>\n",
       "      <td>حدثنا محمد بن المثنى ، حدثنا اسحاق بن يوسف ، ح...</td>\n",
       "      <td>الظهر</td>\n",
       "      <td>0</td>\n",
       "    </tr>\n",
       "    <tr>\n",
       "      <th>1</th>\n",
       "      <td>حدثنا ابو اليمان ، اخبرنا شعيب ، عن الزهري ، ق...</td>\n",
       "      <td>والمروه</td>\n",
       "      <td>1</td>\n",
       "    </tr>\n",
       "    <tr>\n",
       "      <th>2</th>\n",
       "      <td>حدثنا عبد الله بن عبد الوهاب ، حدثنا خالد بن ا...</td>\n",
       "      <td>عشاء</td>\n",
       "      <td>0</td>\n",
       "    </tr>\n",
       "    <tr>\n",
       "      <th>3</th>\n",
       "      <td>حدثنا موسى بن اسماعيل ، حدثنا جرير بن حازم ، ح...</td>\n",
       "      <td>الربا</td>\n",
       "      <td>2</td>\n",
       "    </tr>\n",
       "    <tr>\n",
       "      <th>4</th>\n",
       "      <td>حدثنا عبد الله بن يوسف ، اخبرنا مالك ، عن اسحا...</td>\n",
       "      <td>مالك</td>\n",
       "      <td>3</td>\n",
       "    </tr>\n",
       "    <tr>\n",
       "      <th>5</th>\n",
       "      <td>حدثنا محمد بن المثنى ، حدثنا خالد بن الحارث ، ...</td>\n",
       "      <td>محمد بن المثنى</td>\n",
       "      <td>3</td>\n",
       "    </tr>\n",
       "    <tr>\n",
       "      <th>6</th>\n",
       "      <td>حدثنا عبدان ، قال اخبرني ابي ، عن شعبه ، عن قت...</td>\n",
       "      <td>يزيد بن زريع</td>\n",
       "      <td>3</td>\n",
       "    </tr>\n",
       "  </tbody>\n",
       "</table>\n",
       "</div>"
      ],
      "text/plain": [
       "                                     normalized_text normalized_subtext  \\\n",
       "0  حدثنا محمد بن المثنى ، حدثنا اسحاق بن يوسف ، ح...              الظهر   \n",
       "1  حدثنا ابو اليمان ، اخبرنا شعيب ، عن الزهري ، ق...            والمروه   \n",
       "2  حدثنا عبد الله بن عبد الوهاب ، حدثنا خالد بن ا...               عشاء   \n",
       "3  حدثنا موسى بن اسماعيل ، حدثنا جرير بن حازم ، ح...              الربا   \n",
       "4  حدثنا عبد الله بن يوسف ، اخبرنا مالك ، عن اسحا...               مالك   \n",
       "5  حدثنا محمد بن المثنى ، حدثنا خالد بن الحارث ، ...     محمد بن المثنى   \n",
       "6  حدثنا عبدان ، قال اخبرني ابي ، عن شعبه ، عن قت...       يزيد بن زريع   \n",
       "\n",
       "   Named_entity  \n",
       "0             0  \n",
       "1             1  \n",
       "2             0  \n",
       "3             2  \n",
       "4             3  \n",
       "5             3  \n",
       "6             3  "
      ]
     },
     "execution_count": 12,
     "metadata": {},
     "output_type": "execute_result"
    }
   ],
   "source": [
    "normalized_train = pd.DataFrame()\n",
    "normalized_train['normalized_text'] = train['hadith_text'].apply(normalize_teh_marbuta_ar).apply(normalize_alef_ar)\n",
    "normalized_train['normalized_subtext'] = train['subtext'].apply(normalize_teh_marbuta_ar).apply(normalize_alef_ar)\n",
    "normalized_train['Named_entity'] = train['Named_entity']\n",
    "normalized_train.head(7)"
   ]
  },
  {
   "cell_type": "code",
   "execution_count": 13,
   "metadata": {
    "colab": {
     "base_uri": "https://localhost:8080/",
     "height": 269
    },
    "id": "jp5cOUGt831d",
    "outputId": "b606041c-9c0f-4079-9901-05939352586e"
   },
   "outputs": [
    {
     "data": {
      "text/html": [
       "<div>\n",
       "<style scoped>\n",
       "    .dataframe tbody tr th:only-of-type {\n",
       "        vertical-align: middle;\n",
       "    }\n",
       "\n",
       "    .dataframe tbody tr th {\n",
       "        vertical-align: top;\n",
       "    }\n",
       "\n",
       "    .dataframe thead th {\n",
       "        text-align: right;\n",
       "    }\n",
       "</style>\n",
       "<table border=\"1\" class=\"dataframe\">\n",
       "  <thead>\n",
       "    <tr style=\"text-align: right;\">\n",
       "      <th></th>\n",
       "      <th>IDs</th>\n",
       "      <th>normalized_text</th>\n",
       "      <th>normalized_subtext</th>\n",
       "    </tr>\n",
       "  </thead>\n",
       "  <tbody>\n",
       "    <tr>\n",
       "      <th>0</th>\n",
       "      <td>0</td>\n",
       "      <td>حدثنا خلاد بن يحيى ، حدثنا نافع بن عمر ، عن اب...</td>\n",
       "      <td>نافع بن عمر</td>\n",
       "    </tr>\n",
       "    <tr>\n",
       "      <th>1</th>\n",
       "      <td>1</td>\n",
       "      <td>حدثنا عمر بن حفص ، حدثنا ابي ، حدثنا الاعمش ، ...</td>\n",
       "      <td>صفيه</td>\n",
       "    </tr>\n",
       "    <tr>\n",
       "      <th>2</th>\n",
       "      <td>2</td>\n",
       "      <td>حدثنا الصلت بن محمد ، حدثنا عبد الواحد ، حدثنا...</td>\n",
       "      <td>ابن عباس</td>\n",
       "    </tr>\n",
       "    <tr>\n",
       "      <th>3</th>\n",
       "      <td>3</td>\n",
       "      <td>حدثنا عبد الله بن يوسف ، اخبرنا مالك ، عن نافع...</td>\n",
       "      <td>نافع</td>\n",
       "    </tr>\n",
       "    <tr>\n",
       "      <th>4</th>\n",
       "      <td>4</td>\n",
       "      <td>حدثني عبد الله بن محمد ، حدثنا اسحاق الازرق ، ...</td>\n",
       "      <td>الظهر</td>\n",
       "    </tr>\n",
       "    <tr>\n",
       "      <th>5</th>\n",
       "      <td>5</td>\n",
       "      <td>حدثنا حفص بن عمر ، حدثنا شعبه ، قال اخبرني عبد...</td>\n",
       "      <td>قزعه</td>\n",
       "    </tr>\n",
       "    <tr>\n",
       "      <th>6</th>\n",
       "      <td>6</td>\n",
       "      <td>حدثنا مسدد ، حدثنا يزيد بن زريع ، قال حدثني ال...</td>\n",
       "      <td>ابي عثمان</td>\n",
       "    </tr>\n",
       "  </tbody>\n",
       "</table>\n",
       "</div>"
      ],
      "text/plain": [
       "   IDs                                    normalized_text normalized_subtext\n",
       "0    0  حدثنا خلاد بن يحيى ، حدثنا نافع بن عمر ، عن اب...        نافع بن عمر\n",
       "1    1  حدثنا عمر بن حفص ، حدثنا ابي ، حدثنا الاعمش ، ...               صفيه\n",
       "2    2  حدثنا الصلت بن محمد ، حدثنا عبد الواحد ، حدثنا...           ابن عباس\n",
       "3    3  حدثنا عبد الله بن يوسف ، اخبرنا مالك ، عن نافع...               نافع\n",
       "4    4  حدثني عبد الله بن محمد ، حدثنا اسحاق الازرق ، ...              الظهر\n",
       "5    5  حدثنا حفص بن عمر ، حدثنا شعبه ، قال اخبرني عبد...               قزعه\n",
       "6    6  حدثنا مسدد ، حدثنا يزيد بن زريع ، قال حدثني ال...          ابي عثمان"
      ]
     },
     "execution_count": 13,
     "metadata": {},
     "output_type": "execute_result"
    }
   ],
   "source": [
    "normalized_test = pd.DataFrame()\n",
    "normalized_test['IDs'] = test['IDs']\n",
    "normalized_test['normalized_text'] = test['hadith_text'].apply(normalize_teh_marbuta_ar).apply(normalize_alef_ar)\n",
    "normalized_test['normalized_subtext'] = test['subtext'].apply(normalize_teh_marbuta_ar).apply(normalize_alef_ar)\n",
    "normalized_test.head(7)"
   ]
  },
  {
   "cell_type": "markdown",
   "metadata": {
    "id": "5UKj8ukHpwKY"
   },
   "source": [
    "# Cleaning and Tokenization"
   ]
  },
  {
   "cell_type": "code",
   "execution_count": 14,
   "metadata": {
    "id": "v6s5LKeHEFLo"
   },
   "outputs": [],
   "source": [
    "import string\n",
    "\n",
    "clean = lambda txt: txt.translate(str.maketrans('', '', '؟ً؟،'+string.punctuation))"
   ]
  },
  {
   "cell_type": "code",
   "execution_count": 15,
   "metadata": {
    "colab": {
     "base_uri": "https://localhost:8080/",
     "height": 53
    },
    "id": "HvmgENolFrPh",
    "outputId": "b02f77a4-d672-4990-e7ed-edcca9d479cd"
   },
   "outputs": [
    {
     "data": {
      "text/plain": [
       "'حدثنا محمد بن المثنى ، حدثنا اسحاق بن يوسف ، حدثنا سفيان الثوري ، عن عبد العزيز بن رفيع ، قال سالت انس بن مالك ، اخبرني بشيء عقلته، عن النبي صلى الله عليه وسلم، اين صلى الظهر يوم الترويه؟، قال بمنى ، قلت فاين صلى العصر يوم النفر؟، قال بالابطح ، افعل كما يفعل امراؤك'"
      ]
     },
     "execution_count": 15,
     "metadata": {},
     "output_type": "execute_result"
    }
   ],
   "source": [
    "normalized_train['normalized_text'][0]"
   ]
  },
  {
   "cell_type": "code",
   "execution_count": 16,
   "metadata": {
    "id": "1VLKP6PuEnzC"
   },
   "outputs": [],
   "source": [
    "cleaned_train = pd.DataFrame()\n",
    "cleaned_train['cleaned_text'] = normalized_train['normalized_text'].apply(clean)\n",
    "cleaned_train['cleaned_subtext'] = normalized_train['normalized_subtext'].apply(clean)\n",
    "cleaned_train['Named_entity'] = normalized_train['Named_entity']"
   ]
  },
  {
   "cell_type": "code",
   "execution_count": 17,
   "metadata": {
    "colab": {
     "base_uri": "https://localhost:8080/",
     "height": 53
    },
    "id": "H2tPC0AmdySf",
    "outputId": "f81092a6-232d-4aef-a535-9de5c67d7876"
   },
   "outputs": [
    {
     "data": {
      "text/plain": [
       "'حدثنا محمد بن المثنى  حدثنا اسحاق بن يوسف  حدثنا سفيان الثوري  عن عبد العزيز بن رفيع  قال سالت انس بن مالك  اخبرني بشيء عقلته عن النبي صلى الله عليه وسلم اين صلى الظهر يوم الترويه قال بمنى  قلت فاين صلى العصر يوم النفر قال بالابطح  افعل كما يفعل امراؤك'"
      ]
     },
     "execution_count": 17,
     "metadata": {},
     "output_type": "execute_result"
    }
   ],
   "source": [
    "cleaned_train['cleaned_text'][0]"
   ]
  },
  {
   "cell_type": "code",
   "execution_count": 18,
   "metadata": {
    "id": "Bpy7SZ7TG5Nj"
   },
   "outputs": [],
   "source": [
    "cleaned_test = pd.DataFrame()\n",
    "cleaned_test['IDs'] = normalized_test['IDs']\n",
    "cleaned_test['cleaned_text'] = normalized_test['normalized_text'].apply(clean)\n",
    "cleaned_test['cleaned_subtext'] = normalized_test['normalized_subtext'].apply(clean)"
   ]
  },
  {
   "cell_type": "code",
   "execution_count": 19,
   "metadata": {
    "colab": {
     "base_uri": "https://localhost:8080/"
    },
    "id": "CLqqdfZRbkeh",
    "outputId": "8dc6d631-7040-4257-ac2d-69a7a7baf7bf"
   },
   "outputs": [
    {
     "data": {
      "text/plain": [
       "1625"
      ]
     },
     "execution_count": 19,
     "metadata": {},
     "output_type": "execute_result"
    }
   ],
   "source": [
    "txts = cleaned_train['cleaned_text'].drop_duplicates()\n",
    "len(txts)"
   ]
  },
  {
   "cell_type": "code",
   "execution_count": 20,
   "metadata": {
    "colab": {
     "base_uri": "https://localhost:8080/"
    },
    "id": "9G4KjlXYlwGJ",
    "outputId": "07378c8d-c945-41aa-8879-7ebafc65ebc7"
   },
   "outputs": [
    {
     "data": {
      "text/plain": [
       "12604"
      ]
     },
     "execution_count": 20,
     "metadata": {},
     "output_type": "execute_result"
    }
   ],
   "source": [
    "tokens = []\n",
    "\n",
    "for txt in txts:\n",
    "  tokens.extend(txt.split())\n",
    "vocab = set(tokens)\n",
    "len(vocab)"
   ]
  },
  {
   "cell_type": "code",
   "execution_count": 21,
   "metadata": {
    "id": "-1lwdsormzO8"
   },
   "outputs": [],
   "source": [
    "token2id = {token:id for id, token in enumerate(vocab, 2)}\n",
    "# token2id['<UNK>']=1\n",
    "# token2id['<UNK>']"
   ]
  },
  {
   "cell_type": "code",
   "execution_count": 22,
   "metadata": {
    "colab": {
     "base_uri": "https://localhost:8080/"
    },
    "id": "jDQEzX5Kf8W_",
    "outputId": "821b3b42-5fc4-4baa-880b-884a8d602d1c"
   },
   "outputs": [
    {
     "name": "stdout",
     "output_type": "stream",
     "text": [
      "لوجه \t 2\n",
      "فانها \t 3\n",
      "الحازم \t 4\n",
      "التمره \t 5\n",
      "تؤدى \t 6\n",
      "تموج \t 7\n",
      "الزبيل \t 8\n",
      "يلحقونا \t 9\n",
      "يفرق \t 10\n",
      "صاف \t 11\n",
      "وللرمل \t 12\n",
      "رجلي \t 13\n",
      "يقدروا \t 14\n",
      "والمائه \t 15\n",
      "يعبدونها \t 16\n"
     ]
    }
   ],
   "source": [
    "count=0\n",
    "for k, v in token2id.items():\n",
    "  print(k, '\\t', v)\n",
    "  count+=1\n",
    "  if count==15: break"
   ]
  },
  {
   "cell_type": "code",
   "execution_count": 23,
   "metadata": {
    "colab": {
     "base_uri": "https://localhost:8080/"
    },
    "id": "9HmTZfSvhXK9",
    "outputId": "c82d9862-12e5-4eae-a0b5-785ec7dd4f66"
   },
   "outputs": [
    {
     "data": {
      "text/plain": [
       "True"
      ]
     },
     "execution_count": 23,
     "metadata": {},
     "output_type": "execute_result"
    }
   ],
   "source": [
    "id2token = {id:token for token, id in token2id.items()}\n",
    "len(id2token)==len(token2id)"
   ]
  },
  {
   "cell_type": "code",
   "execution_count": 24,
   "metadata": {
    "colab": {
     "base_uri": "https://localhost:8080/"
    },
    "id": "D7hvz003jHeP",
    "outputId": "1d5b5376-dcec-4640-9f54-912cb25b5963"
   },
   "outputs": [
    {
     "name": "stdout",
     "output_type": "stream",
     "text": [
      "2 \t لوجه\n",
      "3 \t فانها\n",
      "4 \t الحازم\n",
      "5 \t التمره\n",
      "6 \t تؤدى\n",
      "7 \t تموج\n",
      "8 \t الزبيل\n",
      "9 \t يلحقونا\n",
      "10 \t يفرق\n",
      "11 \t صاف\n",
      "12 \t وللرمل\n",
      "13 \t رجلي\n",
      "14 \t يقدروا\n",
      "15 \t والمائه\n",
      "16 \t يعبدونها\n"
     ]
    }
   ],
   "source": [
    "count=0\n",
    "for k, v in id2token.items():\n",
    "  print(k, '\\t', v)\n",
    "  count+=1\n",
    "  if count==15: break"
   ]
  },
  {
   "cell_type": "code",
   "execution_count": 25,
   "metadata": {
    "id": "C69676TIUXCk"
   },
   "outputs": [],
   "source": [
    "def tokenize(sent, unk=1):\n",
    "  tokenized_sent = []\n",
    "  for word in sent.split():\n",
    "    tokenized_sent.append(token2id.get(word, unk))\n",
    "  return tokenized_sent"
   ]
  },
  {
   "cell_type": "code",
   "execution_count": 26,
   "metadata": {
    "colab": {
     "base_uri": "https://localhost:8080/"
    },
    "id": "_C8kN9pWYOK-",
    "outputId": "2778a3f1-ab09-474d-d2a3-73e0e49c500c"
   },
   "outputs": [
    {
     "data": {
      "text/plain": [
       "1625"
      ]
     },
     "execution_count": 26,
     "metadata": {},
     "output_type": "execute_result"
    }
   ],
   "source": [
    "tokenized_train = cleaned_train['cleaned_text'].apply(tokenize).drop_duplicates()\n",
    "len(tokenized_train)"
   ]
  },
  {
   "cell_type": "code",
   "execution_count": 27,
   "metadata": {
    "colab": {
     "base_uri": "https://localhost:8080/"
    },
    "id": "FyHxdQpBZQuN",
    "outputId": "a700e27e-304e-4490-ca2d-b67b8b7161f3"
   },
   "outputs": [
    {
     "data": {
      "text/plain": [
       "2341"
      ]
     },
     "execution_count": 27,
     "metadata": {},
     "output_type": "execute_result"
    }
   ],
   "source": [
    "len(cleaned_test)"
   ]
  },
  {
   "cell_type": "code",
   "execution_count": 28,
   "metadata": {
    "colab": {
     "base_uri": "https://localhost:8080/"
    },
    "id": "6qfjbjLOZIvd",
    "outputId": "920714f5-6d46-455b-df8a-6aae6bc8a399"
   },
   "outputs": [
    {
     "data": {
      "text/plain": [
       "2341"
      ]
     },
     "execution_count": 28,
     "metadata": {},
     "output_type": "execute_result"
    }
   ],
   "source": [
    "tokenized_train = cleaned_test['cleaned_text'].apply(tokenize).drop_duplicates()\n",
    "len(cleaned_test)"
   ]
  },
  {
   "cell_type": "code",
   "execution_count": 29,
   "metadata": {
    "colab": {
     "base_uri": "https://localhost:8080/"
    },
    "id": "saZy4NLxS1O5",
    "outputId": "4e094d74-4e54-4590-bc24-fbb17da9f201"
   },
   "outputs": [
    {
     "data": {
      "text/plain": [
       "{1: 'plc',\n",
       " 3: 'rawy',\n",
       " 2: 'Crime',\n",
       " 11: 'Hell',\n",
       " 0: 'Time',\n",
       " 9: 'Day',\n",
       " 10: 'Month',\n",
       " 6: 'Mon',\n",
       " 5: 'matn',\n",
       " 4: 'fnarmetn',\n",
       " 12: 'qpart',\n",
       " 7: 'wem',\n",
       " 8: 'pbuh',\n",
       " 14: 'prophets',\n",
       " 16: 'Sect',\n",
       " 13: 'cmt',\n",
       " 15: 'mlk_clean'}"
      ]
     },
     "execution_count": 29,
     "metadata": {},
     "output_type": "execute_result"
    }
   ],
   "source": [
    "tag2id = {tag:id for id, tag in zip(tags['Name_entity'].values, tags['label'].values)}\n",
    "tag2id"
   ]
  },
  {
   "cell_type": "markdown",
   "metadata": {
    "id": "b2SoHZCxp4-l"
   },
   "source": [
    "# Prepare the lables and data"
   ]
  },
  {
   "cell_type": "code",
   "execution_count": 30,
   "metadata": {
    "colab": {
     "base_uri": "https://localhost:8080/"
    },
    "id": "jZ7Thhpfz-75",
    "outputId": "cbb6a66d-86a1-4ec8-e9a3-199b38fca0bd"
   },
   "outputs": [
    {
     "data": {
      "text/plain": [
       "1625"
      ]
     },
     "execution_count": 30,
     "metadata": {},
     "output_type": "execute_result"
    }
   ],
   "source": [
    "txts = cleaned_train['cleaned_text'].drop_duplicates().reset_index(drop=True)\n",
    "len(txts)"
   ]
  },
  {
   "cell_type": "code",
   "execution_count": 31,
   "metadata": {
    "id": "Zzcr6wcpHy-Y"
   },
   "outputs": [],
   "source": [
    "def find_indices(list_to_check, item_to_find):\n",
    "    indices = []\n",
    "    for idx, value in enumerate(list_to_check):\n",
    "        if value == item_to_find:\n",
    "            indices.append(idx)\n",
    "    return indices"
   ]
  },
  {
   "cell_type": "code",
   "execution_count": 32,
   "metadata": {
    "colab": {
     "base_uri": "https://localhost:8080/"
    },
    "id": "kCatOS94MyG1",
    "outputId": "8cce00b0-6b84-472c-b307-00cc539b43c6"
   },
   "outputs": [
    {
     "data": {
      "text/plain": [
       "[0, 4, 6]"
      ]
     },
     "execution_count": 32,
     "metadata": {},
     "output_type": "execute_result"
    }
   ],
   "source": [
    "a_list = [1,2,3,4,1,2,1,2,3,4]\n",
    "find_indices(a_list, 1)"
   ]
  },
  {
   "cell_type": "code",
   "execution_count": 33,
   "metadata": {
    "colab": {
     "base_uri": "https://localhost:8080/"
    },
    "id": "JENxqaIMx-bx",
    "outputId": "4d4e6452-7edc-459f-f942-ba0a3c7204ef"
   },
   "outputs": [
    {
     "data": {
      "text/plain": [
       "1625"
      ]
     },
     "execution_count": 33,
     "metadata": {},
     "output_type": "execute_result"
    }
   ],
   "source": [
    "data = []\n",
    "\n",
    "for d in range(len(txts)):\n",
    "  hadith_df = cleaned_train[cleaned_train['cleaned_text']==txts[d]]\n",
    "  hadith, sub, ne = hadith_df['cleaned_text'].values[0], hadith_df['cleaned_subtext'].values, hadith_df['Named_entity'].values\n",
    "  data.append([hadith, sub, ne])\n",
    "\n",
    "len(data)"
   ]
  },
  {
   "cell_type": "code",
   "execution_count": 34,
   "metadata": {
    "colab": {
     "base_uri": "https://localhost:8080/"
    },
    "id": "YpmimM2AGf8Z",
    "outputId": "80402aa2-99ca-42cf-e1c7-283cf28f0a68"
   },
   "outputs": [
    {
     "data": {
      "text/plain": [
       "1625"
      ]
     },
     "execution_count": 34,
     "metadata": {},
     "output_type": "execute_result"
    }
   ],
   "source": [
    "labels = []\n",
    "\n",
    "for sen, sub, ne in data:\n",
    "  sub_ne = list(zip(sub, ne))\n",
    "  tokens = sen.split()\n",
    "  label = np.zeros(len(tokens))\n",
    "  for toks, tag_id in sub_ne:\n",
    "    for tok in toks.split():\n",
    "      ids = find_indices(tokens, tok)\n",
    "      label[ids] = tag_id\n",
    "  labels.append(label)\n",
    "\n",
    "len(labels)"
   ]
  },
  {
   "cell_type": "code",
   "execution_count": 35,
   "metadata": {
    "colab": {
     "base_uri": "https://localhost:8080/"
    },
    "id": "SXB3ykfexasG",
    "outputId": "104b991e-543f-4a61-ff66-91828b6a3188"
   },
   "outputs": [
    {
     "name": "stdout",
     "output_type": "stream",
     "text": [
      "hadith:\n",
      "\tحدثنا محمد بن المثنى  حدثنا اسحاق بن يوسف  حدثنا سفيان الثوري  عن عبد العزيز بن رفيع  قال سالت انس بن مالك  اخبرني بشيء عقلته عن النبي صلى الله عليه وسلم اين صلى الظهر يوم الترويه قال بمنى  قلت فاين صلى العصر يوم النفر قال بالابطح  افعل كما يفعل امراؤك\n",
      "\n",
      "subtext:\n",
      "\t['الظهر' 'انس بن مالك' 'محمد بن المثنى' 'العصر' 'انس بن مالك' 'بالابطح'\n",
      " 'اين صلى الظهر يوم الترويه قال بمنى  قلت فاين صلى العصر يوم النفر قال بالابطح  افعل كما يفعل امراؤك'\n",
      " 'سفيان الثوري' 'اسحاق بن يوسف']\n",
      "\n",
      "named_entity:\n",
      "\t[0 3 3 0 4 1 5 3 3]\n",
      "\n",
      "label:\n",
      "\t[0. 3. 3. 3. 0. 3. 3. 3. 0. 3. 3. 0. 0. 0. 3. 0. 5. 0. 4. 3. 4. 0. 0. 0.\n",
      " 0. 0. 5. 0. 0. 0. 5. 5. 5. 5. 5. 5. 5. 5. 5. 5. 5. 5. 5. 5. 5. 5. 5. 5.\n",
      " 5.]\n"
     ]
    }
   ],
   "source": [
    "hadith = data[0][0]\n",
    "subtext = data[0][1]\n",
    "named_entity = data[0][2]\n",
    "label = labels[0]\n",
    "\n",
    "print(f'hadith:\\n\\t{hadith}', f'subtext:\\n\\t{subtext}', f'named_entity:\\n\\t{named_entity}', f'label:\\n\\t{label}', sep='\\n\\n')"
   ]
  },
  {
   "cell_type": "code",
   "execution_count": 36,
   "metadata": {},
   "outputs": [],
   "source": [
    "def encoding_text(hadith , sub_text , sub_lable):\n",
    "    pattern = []\n",
    "    idx = 0 \n",
    "    while idx < len(hadith):\n",
    "      founded = False\n",
    "      for k, v in enumerate(sub_text):\n",
    "        if hadith[idx]==v[0]:\n",
    "          founded = True\n",
    "          L= [f\"B_{tag2id[sub_lable[k]]}\"]\n",
    "          L.extend([f\"I_{tag2id[sub_lable[k]]}\"]*(len(v)-1))\n",
    "          pattern.extend(L)\n",
    "          idx+=len(v)\n",
    "          break\n",
    "\n",
    "      if not founded:\n",
    "        pattern.extend('O')\n",
    "        idx+=1 \n",
    "        \n",
    "    return pattern"
   ]
  },
  {
   "cell_type": "code",
   "execution_count": 37,
   "metadata": {},
   "outputs": [],
   "source": [
    "def extend_sub(sub):\n",
    "    sub_tokens = [s.split() for s in sub]\n",
    "    return sub_tokens"
   ]
  },
  {
   "cell_type": "code",
   "execution_count": 38,
   "metadata": {},
   "outputs": [],
   "source": [
    "def sub_mapping(sub_tokens,ne):\n",
    "    sub_lable = []\n",
    "    sub_text = []\n",
    "    for idx, sub_token in enumerate(sub_tokens):\n",
    "        sub_text.append(sub_token)\n",
    "        sub_lable.append(ne[idx])\n",
    "    return sub_text,sub_lable"
   ]
  },
  {
   "cell_type": "code",
   "execution_count": 39,
   "metadata": {},
   "outputs": [
    {
     "data": {
      "text/plain": [
       "[['والمروه'], ['الصفا'], ['عائشه'], ['بالبيت'], ['بالصفا']]"
      ]
     },
     "execution_count": 39,
     "metadata": {},
     "output_type": "execute_result"
    }
   ],
   "source": [
    "sub_tokens = extend_sub(data[1][1])\n",
    "sub_tokens"
   ]
  },
  {
   "cell_type": "code",
   "execution_count": 40,
   "metadata": {},
   "outputs": [
    {
     "name": "stdout",
     "output_type": "stream",
     "text": [
      "[['والمروه'], ['الصفا'], ['عائشه'], ['بالبيت'], ['بالصفا']] [1, 1, 7, 1, 1]\n"
     ]
    }
   ],
   "source": [
    "sub_text,sub_lable = sub_mapping(sub_tokens,data[1][2])\n",
    "print(sub_text,sub_lable)"
   ]
  },
  {
   "cell_type": "code",
   "execution_count": 41,
   "metadata": {},
   "outputs": [
    {
     "data": {
      "text/plain": [
       "['O',\n",
       " 'O',\n",
       " 'O',\n",
       " 'O',\n",
       " 'O',\n",
       " 'O',\n",
       " 'O',\n",
       " 'O',\n",
       " 'O',\n",
       " 'O',\n",
       " 'B_wem',\n",
       " 'O',\n",
       " 'O',\n",
       " 'O',\n",
       " 'O',\n",
       " 'O',\n",
       " 'O',\n",
       " 'O',\n",
       " 'O',\n",
       " 'O',\n",
       " 'O',\n",
       " 'O',\n",
       " 'O',\n",
       " 'O',\n",
       " 'B_plc',\n",
       " 'B_plc',\n",
       " 'O',\n",
       " 'O',\n",
       " 'O',\n",
       " 'O',\n",
       " 'O',\n",
       " 'O',\n",
       " 'O',\n",
       " 'O',\n",
       " 'O',\n",
       " 'O',\n",
       " 'O',\n",
       " 'O',\n",
       " 'O',\n",
       " 'O',\n",
       " 'O',\n",
       " 'O',\n",
       " 'O',\n",
       " 'O',\n",
       " 'O',\n",
       " 'O',\n",
       " 'O',\n",
       " 'O',\n",
       " 'B_plc',\n",
       " 'B_plc',\n",
       " 'O',\n",
       " 'O',\n",
       " 'O',\n",
       " 'O',\n",
       " 'O',\n",
       " 'O',\n",
       " 'O',\n",
       " 'O',\n",
       " 'O',\n",
       " 'O',\n",
       " 'O',\n",
       " 'O',\n",
       " 'O',\n",
       " 'O',\n",
       " 'O',\n",
       " 'O',\n",
       " 'O',\n",
       " 'O',\n",
       " 'O',\n",
       " 'O',\n",
       " 'O',\n",
       " 'O',\n",
       " 'O',\n",
       " 'O',\n",
       " 'O',\n",
       " 'O',\n",
       " 'O',\n",
       " 'O',\n",
       " 'O',\n",
       " 'O',\n",
       " 'O',\n",
       " 'O',\n",
       " 'O',\n",
       " 'O',\n",
       " 'O',\n",
       " 'O',\n",
       " 'O',\n",
       " 'O',\n",
       " 'O',\n",
       " 'O',\n",
       " 'O',\n",
       " 'O',\n",
       " 'O',\n",
       " 'O',\n",
       " 'B_plc',\n",
       " 'B_plc',\n",
       " 'O',\n",
       " 'O',\n",
       " 'O',\n",
       " 'O',\n",
       " 'O',\n",
       " 'O',\n",
       " 'O',\n",
       " 'O',\n",
       " 'O',\n",
       " 'O',\n",
       " 'O',\n",
       " 'O',\n",
       " 'O',\n",
       " 'O',\n",
       " 'O',\n",
       " 'O',\n",
       " 'O',\n",
       " 'O',\n",
       " 'O',\n",
       " 'O',\n",
       " 'O',\n",
       " 'O',\n",
       " 'O',\n",
       " 'B_plc',\n",
       " 'B_plc',\n",
       " 'O',\n",
       " 'O',\n",
       " 'O',\n",
       " 'O',\n",
       " 'O',\n",
       " 'O',\n",
       " 'O',\n",
       " 'B_plc',\n",
       " 'B_plc',\n",
       " 'O',\n",
       " 'O',\n",
       " 'O',\n",
       " 'O',\n",
       " 'B_wem',\n",
       " 'O',\n",
       " 'O',\n",
       " 'O',\n",
       " 'O',\n",
       " 'O',\n",
       " 'O',\n",
       " 'O',\n",
       " 'O',\n",
       " 'O',\n",
       " 'O',\n",
       " 'O',\n",
       " 'O',\n",
       " 'O',\n",
       " 'O',\n",
       " 'O',\n",
       " 'O',\n",
       " 'O',\n",
       " 'O',\n",
       " 'O',\n",
       " 'O',\n",
       " 'O',\n",
       " 'O',\n",
       " 'O',\n",
       " 'O',\n",
       " 'O',\n",
       " 'O',\n",
       " 'O',\n",
       " 'O',\n",
       " 'O',\n",
       " 'O',\n",
       " 'O',\n",
       " 'O',\n",
       " 'O',\n",
       " 'O',\n",
       " 'O',\n",
       " 'O',\n",
       " 'O',\n",
       " 'O',\n",
       " 'O',\n",
       " 'O',\n",
       " 'O',\n",
       " 'O',\n",
       " 'O',\n",
       " 'O',\n",
       " 'O',\n",
       " 'B_wem',\n",
       " 'O',\n",
       " 'O',\n",
       " 'O',\n",
       " 'O',\n",
       " 'O',\n",
       " 'O',\n",
       " 'O',\n",
       " 'B_plc',\n",
       " 'B_plc',\n",
       " 'O',\n",
       " 'O',\n",
       " 'O',\n",
       " 'O',\n",
       " 'O',\n",
       " 'B_plc',\n",
       " 'O',\n",
       " 'O',\n",
       " 'B_plc',\n",
       " 'B_plc',\n",
       " 'O',\n",
       " 'O',\n",
       " 'O',\n",
       " 'O',\n",
       " 'O',\n",
       " 'O',\n",
       " 'O',\n",
       " 'O',\n",
       " 'B_plc',\n",
       " 'B_plc',\n",
       " 'O',\n",
       " 'O',\n",
       " 'O',\n",
       " 'O',\n",
       " 'B_plc',\n",
       " 'O',\n",
       " 'O',\n",
       " 'B_plc',\n",
       " 'O',\n",
       " 'O',\n",
       " 'O',\n",
       " 'O',\n",
       " 'O',\n",
       " 'O',\n",
       " 'B_plc',\n",
       " 'B_plc',\n",
       " 'O',\n",
       " 'O',\n",
       " 'O',\n",
       " 'O',\n",
       " 'O',\n",
       " 'O',\n",
       " 'O',\n",
       " 'B_plc',\n",
       " 'B_plc',\n",
       " 'O',\n",
       " 'O',\n",
       " 'O',\n",
       " 'O',\n",
       " 'O',\n",
       " 'O',\n",
       " 'O',\n",
       " 'O',\n",
       " 'O',\n",
       " 'O',\n",
       " 'O',\n",
       " 'O',\n",
       " 'O',\n",
       " 'O',\n",
       " 'O',\n",
       " 'O',\n",
       " 'O',\n",
       " 'O',\n",
       " 'O',\n",
       " 'O',\n",
       " 'B_plc',\n",
       " 'B_plc',\n",
       " 'O',\n",
       " 'O',\n",
       " 'O',\n",
       " 'O',\n",
       " 'O',\n",
       " 'O',\n",
       " 'O',\n",
       " 'O',\n",
       " 'O',\n",
       " 'O',\n",
       " 'O',\n",
       " 'O',\n",
       " 'O',\n",
       " 'O',\n",
       " 'O',\n",
       " 'O',\n",
       " 'B_plc',\n",
       " 'O',\n",
       " 'O',\n",
       " 'B_plc',\n",
       " 'O',\n",
       " 'O',\n",
       " 'O',\n",
       " 'O',\n",
       " 'O',\n",
       " 'O',\n",
       " 'O',\n",
       " 'B_plc']"
      ]
     },
     "execution_count": 41,
     "metadata": {},
     "output_type": "execute_result"
    }
   ],
   "source": [
    "encoding_text(data[1][0].split() , sub_text , sub_lable )"
   ]
  },
  {
   "cell_type": "code",
   "execution_count": 42,
   "metadata": {},
   "outputs": [
    {
     "data": {
      "text/plain": [
       "'حدثنا ابو اليمان  اخبرنا شعيب  عن الزهري  قال عروه سالت عائشه رضي الله عنها فقلت لها ارايت قول الله تعالى سوره البقره ايه ان الصفا والمروه من شعائر الله فمن حج البيت او اعتمر فلا جناح عليه ان يطوف بهما فوالله ما على احد جناح ان لا يطوف بالصفا والمروه  قالت بئس ما قلت يا ابن اختي ان هذه لو كانت كما اولتها عليه كانت لا جناح عليه ان لا يتطوف بهما ولكنها انزلت في الانصار كانوا قبل ان يسلموا يهلون لمناه الطاغيه التي كانوا يعبدونها عند المشلل فكان من اهل يتحرج ان يطوف بالصفا والمروه  فلما اسلموا ج ص سالوا رسول الله صلى الله عليه وسلم عن ذلك قالوا يا رسول الله انا كنا نتحرج ان نطوف بين الصفا والمروه  فانزل الله تعالى سوره البقره ايه ان الصفا والمروه من شعائر الله  قالت عائشه رضي الله عنها وقد سن رسول الله صلى الله عليه وسلم الطواف بينهما فليس لاحد ان يترك الطواف بينهما ثم اخبرت ابا بكر بن عبد الرحمن فقال ان هذا لعلم ما كنت سمعته ولقد سمعت رجالا من اهل العلم يذكرون ان الناس الا من ذكرت عائشه ممن كان يهل بمناه كانوا يطوفون كلهم بالصفا والمروه  فلما ذكر الله تعالى الطواف بالبيت ولم يذكر الصفا والمروه في القران قالوا يا رسول الله كنا نطوف بالصفا والمروه وان الله انزل الطواف بالبيت  فلم يذكر الصفا  فهل علينا من حرج ان نطوف بالصفا والمروه  فانزل الله تعالى سوره البقره ايه ان الصفا والمروه من شعائر الله  قال ابو بكر فاسمع هذه الايه نزلت في الفريقين كليهما في الذين كانوا يتحرجون ان يطوفوا بالجاهليه بالصفا والمروه والذين يطوفون ثم تحرجوا ان يطوفوا بهما في الاسلام من اجل ان الله تعالى امر بالطواف بالبيت ولم يذكر الصفا  حتى ذكر ذلك بعد ما ذكر الطواف بالبيت'"
      ]
     },
     "execution_count": 42,
     "metadata": {},
     "output_type": "execute_result"
    }
   ],
   "source": [
    "data[1][0]"
   ]
  },
  {
   "cell_type": "code",
   "execution_count": 43,
   "metadata": {
    "id": "H6qcGvhPaT6w"
   },
   "outputs": [],
   "source": [
    "# train and dev text samples\n",
    "train_hadith = []\n",
    "# train_patten_tag\n",
    "train_tags = []"
   ]
  },
  {
   "cell_type": "code",
   "execution_count": 44,
   "metadata": {},
   "outputs": [],
   "source": [
    "for item in range(len(data)):\n",
    "    sub_text,sub_lable = sub_mapping(extend_sub(data[item][1]),data[item][2])\n",
    "    pattern = encoding_text(data[item][0].split() ,sub_text,sub_lable)\n",
    "    train_hadith.append(data[item][0].split())\n",
    "    train_tags.append(pattern)"
   ]
  },
  {
   "cell_type": "code",
   "execution_count": 45,
   "metadata": {},
   "outputs": [
    {
     "data": {
      "text/plain": [
       "['O',\n",
       " 'O',\n",
       " 'O',\n",
       " 'O',\n",
       " 'O',\n",
       " 'O',\n",
       " 'O',\n",
       " 'O',\n",
       " 'O',\n",
       " 'O',\n",
       " 'B_wem',\n",
       " 'O',\n",
       " 'O',\n",
       " 'O',\n",
       " 'O',\n",
       " 'O',\n",
       " 'O',\n",
       " 'O',\n",
       " 'O',\n",
       " 'O',\n",
       " 'O',\n",
       " 'O',\n",
       " 'O',\n",
       " 'O',\n",
       " 'B_plc',\n",
       " 'B_plc',\n",
       " 'O',\n",
       " 'O',\n",
       " 'O',\n",
       " 'O',\n",
       " 'O',\n",
       " 'O',\n",
       " 'O',\n",
       " 'O',\n",
       " 'O',\n",
       " 'O',\n",
       " 'O',\n",
       " 'O',\n",
       " 'O',\n",
       " 'O',\n",
       " 'O',\n",
       " 'O',\n",
       " 'O',\n",
       " 'O',\n",
       " 'O',\n",
       " 'O',\n",
       " 'O',\n",
       " 'O',\n",
       " 'B_plc',\n",
       " 'B_plc',\n",
       " 'O',\n",
       " 'O',\n",
       " 'O',\n",
       " 'O',\n",
       " 'O',\n",
       " 'O',\n",
       " 'O',\n",
       " 'O',\n",
       " 'O',\n",
       " 'O',\n",
       " 'O',\n",
       " 'O',\n",
       " 'O',\n",
       " 'O',\n",
       " 'O',\n",
       " 'O',\n",
       " 'O',\n",
       " 'O',\n",
       " 'O',\n",
       " 'O',\n",
       " 'O',\n",
       " 'O',\n",
       " 'O',\n",
       " 'O',\n",
       " 'O',\n",
       " 'O',\n",
       " 'O',\n",
       " 'O',\n",
       " 'O',\n",
       " 'O',\n",
       " 'O',\n",
       " 'O',\n",
       " 'O',\n",
       " 'O',\n",
       " 'O',\n",
       " 'O',\n",
       " 'O',\n",
       " 'O',\n",
       " 'O',\n",
       " 'O',\n",
       " 'O',\n",
       " 'O',\n",
       " 'O',\n",
       " 'O',\n",
       " 'B_plc',\n",
       " 'B_plc',\n",
       " 'O',\n",
       " 'O',\n",
       " 'O',\n",
       " 'O',\n",
       " 'O',\n",
       " 'O',\n",
       " 'O',\n",
       " 'O',\n",
       " 'O',\n",
       " 'O',\n",
       " 'O',\n",
       " 'O',\n",
       " 'O',\n",
       " 'O',\n",
       " 'O',\n",
       " 'O',\n",
       " 'O',\n",
       " 'O',\n",
       " 'O',\n",
       " 'O',\n",
       " 'O',\n",
       " 'O',\n",
       " 'O',\n",
       " 'B_plc',\n",
       " 'B_plc',\n",
       " 'O',\n",
       " 'O',\n",
       " 'O',\n",
       " 'O',\n",
       " 'O',\n",
       " 'O',\n",
       " 'O',\n",
       " 'B_plc',\n",
       " 'B_plc',\n",
       " 'O',\n",
       " 'O',\n",
       " 'O',\n",
       " 'O',\n",
       " 'B_wem',\n",
       " 'O',\n",
       " 'O',\n",
       " 'O',\n",
       " 'O',\n",
       " 'O',\n",
       " 'O',\n",
       " 'O',\n",
       " 'O',\n",
       " 'O',\n",
       " 'O',\n",
       " 'O',\n",
       " 'O',\n",
       " 'O',\n",
       " 'O',\n",
       " 'O',\n",
       " 'O',\n",
       " 'O',\n",
       " 'O',\n",
       " 'O',\n",
       " 'O',\n",
       " 'O',\n",
       " 'O',\n",
       " 'O',\n",
       " 'O',\n",
       " 'O',\n",
       " 'O',\n",
       " 'O',\n",
       " 'O',\n",
       " 'O',\n",
       " 'O',\n",
       " 'O',\n",
       " 'O',\n",
       " 'O',\n",
       " 'O',\n",
       " 'O',\n",
       " 'O',\n",
       " 'O',\n",
       " 'O',\n",
       " 'O',\n",
       " 'O',\n",
       " 'O',\n",
       " 'O',\n",
       " 'O',\n",
       " 'O',\n",
       " 'O',\n",
       " 'B_wem',\n",
       " 'O',\n",
       " 'O',\n",
       " 'O',\n",
       " 'O',\n",
       " 'O',\n",
       " 'O',\n",
       " 'O',\n",
       " 'B_plc',\n",
       " 'B_plc',\n",
       " 'O',\n",
       " 'O',\n",
       " 'O',\n",
       " 'O',\n",
       " 'O',\n",
       " 'B_plc',\n",
       " 'O',\n",
       " 'O',\n",
       " 'B_plc',\n",
       " 'B_plc',\n",
       " 'O',\n",
       " 'O',\n",
       " 'O',\n",
       " 'O',\n",
       " 'O',\n",
       " 'O',\n",
       " 'O',\n",
       " 'O',\n",
       " 'B_plc',\n",
       " 'B_plc',\n",
       " 'O',\n",
       " 'O',\n",
       " 'O',\n",
       " 'O',\n",
       " 'B_plc',\n",
       " 'O',\n",
       " 'O',\n",
       " 'B_plc',\n",
       " 'O',\n",
       " 'O',\n",
       " 'O',\n",
       " 'O',\n",
       " 'O',\n",
       " 'O',\n",
       " 'B_plc',\n",
       " 'B_plc',\n",
       " 'O',\n",
       " 'O',\n",
       " 'O',\n",
       " 'O',\n",
       " 'O',\n",
       " 'O',\n",
       " 'O',\n",
       " 'B_plc',\n",
       " 'B_plc',\n",
       " 'O',\n",
       " 'O',\n",
       " 'O',\n",
       " 'O',\n",
       " 'O',\n",
       " 'O',\n",
       " 'O',\n",
       " 'O',\n",
       " 'O',\n",
       " 'O',\n",
       " 'O',\n",
       " 'O',\n",
       " 'O',\n",
       " 'O',\n",
       " 'O',\n",
       " 'O',\n",
       " 'O',\n",
       " 'O',\n",
       " 'O',\n",
       " 'O',\n",
       " 'B_plc',\n",
       " 'B_plc',\n",
       " 'O',\n",
       " 'O',\n",
       " 'O',\n",
       " 'O',\n",
       " 'O',\n",
       " 'O',\n",
       " 'O',\n",
       " 'O',\n",
       " 'O',\n",
       " 'O',\n",
       " 'O',\n",
       " 'O',\n",
       " 'O',\n",
       " 'O',\n",
       " 'O',\n",
       " 'O',\n",
       " 'B_plc',\n",
       " 'O',\n",
       " 'O',\n",
       " 'B_plc',\n",
       " 'O',\n",
       " 'O',\n",
       " 'O',\n",
       " 'O',\n",
       " 'O',\n",
       " 'O',\n",
       " 'O',\n",
       " 'B_plc']"
      ]
     },
     "execution_count": 45,
     "metadata": {},
     "output_type": "execute_result"
    }
   ],
   "source": [
    "train_tags[1]"
   ]
  },
  {
   "cell_type": "code",
   "execution_count": 46,
   "metadata": {},
   "outputs": [
    {
     "data": {
      "text/plain": [
       "['حدثنا',\n",
       " 'ابو',\n",
       " 'اليمان',\n",
       " 'اخبرنا',\n",
       " 'شعيب',\n",
       " 'عن',\n",
       " 'الزهري',\n",
       " 'قال',\n",
       " 'عروه',\n",
       " 'سالت',\n",
       " 'عائشه',\n",
       " 'رضي',\n",
       " 'الله',\n",
       " 'عنها',\n",
       " 'فقلت',\n",
       " 'لها',\n",
       " 'ارايت',\n",
       " 'قول',\n",
       " 'الله',\n",
       " 'تعالى',\n",
       " 'سوره',\n",
       " 'البقره',\n",
       " 'ايه',\n",
       " 'ان',\n",
       " 'الصفا',\n",
       " 'والمروه',\n",
       " 'من',\n",
       " 'شعائر',\n",
       " 'الله',\n",
       " 'فمن',\n",
       " 'حج',\n",
       " 'البيت',\n",
       " 'او',\n",
       " 'اعتمر',\n",
       " 'فلا',\n",
       " 'جناح',\n",
       " 'عليه',\n",
       " 'ان',\n",
       " 'يطوف',\n",
       " 'بهما',\n",
       " 'فوالله',\n",
       " 'ما',\n",
       " 'على',\n",
       " 'احد',\n",
       " 'جناح',\n",
       " 'ان',\n",
       " 'لا',\n",
       " 'يطوف',\n",
       " 'بالصفا',\n",
       " 'والمروه',\n",
       " 'قالت',\n",
       " 'بئس',\n",
       " 'ما',\n",
       " 'قلت',\n",
       " 'يا',\n",
       " 'ابن',\n",
       " 'اختي',\n",
       " 'ان',\n",
       " 'هذه',\n",
       " 'لو',\n",
       " 'كانت',\n",
       " 'كما',\n",
       " 'اولتها',\n",
       " 'عليه',\n",
       " 'كانت',\n",
       " 'لا',\n",
       " 'جناح',\n",
       " 'عليه',\n",
       " 'ان',\n",
       " 'لا',\n",
       " 'يتطوف',\n",
       " 'بهما',\n",
       " 'ولكنها',\n",
       " 'انزلت',\n",
       " 'في',\n",
       " 'الانصار',\n",
       " 'كانوا',\n",
       " 'قبل',\n",
       " 'ان',\n",
       " 'يسلموا',\n",
       " 'يهلون',\n",
       " 'لمناه',\n",
       " 'الطاغيه',\n",
       " 'التي',\n",
       " 'كانوا',\n",
       " 'يعبدونها',\n",
       " 'عند',\n",
       " 'المشلل',\n",
       " 'فكان',\n",
       " 'من',\n",
       " 'اهل',\n",
       " 'يتحرج',\n",
       " 'ان',\n",
       " 'يطوف',\n",
       " 'بالصفا',\n",
       " 'والمروه',\n",
       " 'فلما',\n",
       " 'اسلموا',\n",
       " 'ج',\n",
       " 'ص',\n",
       " 'سالوا',\n",
       " 'رسول',\n",
       " 'الله',\n",
       " 'صلى',\n",
       " 'الله',\n",
       " 'عليه',\n",
       " 'وسلم',\n",
       " 'عن',\n",
       " 'ذلك',\n",
       " 'قالوا',\n",
       " 'يا',\n",
       " 'رسول',\n",
       " 'الله',\n",
       " 'انا',\n",
       " 'كنا',\n",
       " 'نتحرج',\n",
       " 'ان',\n",
       " 'نطوف',\n",
       " 'بين',\n",
       " 'الصفا',\n",
       " 'والمروه',\n",
       " 'فانزل',\n",
       " 'الله',\n",
       " 'تعالى',\n",
       " 'سوره',\n",
       " 'البقره',\n",
       " 'ايه',\n",
       " 'ان',\n",
       " 'الصفا',\n",
       " 'والمروه',\n",
       " 'من',\n",
       " 'شعائر',\n",
       " 'الله',\n",
       " 'قالت',\n",
       " 'عائشه',\n",
       " 'رضي',\n",
       " 'الله',\n",
       " 'عنها',\n",
       " 'وقد',\n",
       " 'سن',\n",
       " 'رسول',\n",
       " 'الله',\n",
       " 'صلى',\n",
       " 'الله',\n",
       " 'عليه',\n",
       " 'وسلم',\n",
       " 'الطواف',\n",
       " 'بينهما',\n",
       " 'فليس',\n",
       " 'لاحد',\n",
       " 'ان',\n",
       " 'يترك',\n",
       " 'الطواف',\n",
       " 'بينهما',\n",
       " 'ثم',\n",
       " 'اخبرت',\n",
       " 'ابا',\n",
       " 'بكر',\n",
       " 'بن',\n",
       " 'عبد',\n",
       " 'الرحمن',\n",
       " 'فقال',\n",
       " 'ان',\n",
       " 'هذا',\n",
       " 'لعلم',\n",
       " 'ما',\n",
       " 'كنت',\n",
       " 'سمعته',\n",
       " 'ولقد',\n",
       " 'سمعت',\n",
       " 'رجالا',\n",
       " 'من',\n",
       " 'اهل',\n",
       " 'العلم',\n",
       " 'يذكرون',\n",
       " 'ان',\n",
       " 'الناس',\n",
       " 'الا',\n",
       " 'من',\n",
       " 'ذكرت',\n",
       " 'عائشه',\n",
       " 'ممن',\n",
       " 'كان',\n",
       " 'يهل',\n",
       " 'بمناه',\n",
       " 'كانوا',\n",
       " 'يطوفون',\n",
       " 'كلهم',\n",
       " 'بالصفا',\n",
       " 'والمروه',\n",
       " 'فلما',\n",
       " 'ذكر',\n",
       " 'الله',\n",
       " 'تعالى',\n",
       " 'الطواف',\n",
       " 'بالبيت',\n",
       " 'ولم',\n",
       " 'يذكر',\n",
       " 'الصفا',\n",
       " 'والمروه',\n",
       " 'في',\n",
       " 'القران',\n",
       " 'قالوا',\n",
       " 'يا',\n",
       " 'رسول',\n",
       " 'الله',\n",
       " 'كنا',\n",
       " 'نطوف',\n",
       " 'بالصفا',\n",
       " 'والمروه',\n",
       " 'وان',\n",
       " 'الله',\n",
       " 'انزل',\n",
       " 'الطواف',\n",
       " 'بالبيت',\n",
       " 'فلم',\n",
       " 'يذكر',\n",
       " 'الصفا',\n",
       " 'فهل',\n",
       " 'علينا',\n",
       " 'من',\n",
       " 'حرج',\n",
       " 'ان',\n",
       " 'نطوف',\n",
       " 'بالصفا',\n",
       " 'والمروه',\n",
       " 'فانزل',\n",
       " 'الله',\n",
       " 'تعالى',\n",
       " 'سوره',\n",
       " 'البقره',\n",
       " 'ايه',\n",
       " 'ان',\n",
       " 'الصفا',\n",
       " 'والمروه',\n",
       " 'من',\n",
       " 'شعائر',\n",
       " 'الله',\n",
       " 'قال',\n",
       " 'ابو',\n",
       " 'بكر',\n",
       " 'فاسمع',\n",
       " 'هذه',\n",
       " 'الايه',\n",
       " 'نزلت',\n",
       " 'في',\n",
       " 'الفريقين',\n",
       " 'كليهما',\n",
       " 'في',\n",
       " 'الذين',\n",
       " 'كانوا',\n",
       " 'يتحرجون',\n",
       " 'ان',\n",
       " 'يطوفوا',\n",
       " 'بالجاهليه',\n",
       " 'بالصفا',\n",
       " 'والمروه',\n",
       " 'والذين',\n",
       " 'يطوفون',\n",
       " 'ثم',\n",
       " 'تحرجوا',\n",
       " 'ان',\n",
       " 'يطوفوا',\n",
       " 'بهما',\n",
       " 'في',\n",
       " 'الاسلام',\n",
       " 'من',\n",
       " 'اجل',\n",
       " 'ان',\n",
       " 'الله',\n",
       " 'تعالى',\n",
       " 'امر',\n",
       " 'بالطواف',\n",
       " 'بالبيت',\n",
       " 'ولم',\n",
       " 'يذكر',\n",
       " 'الصفا',\n",
       " 'حتى',\n",
       " 'ذكر',\n",
       " 'ذلك',\n",
       " 'بعد',\n",
       " 'ما',\n",
       " 'ذكر',\n",
       " 'الطواف',\n",
       " 'بالبيت']"
      ]
     },
     "execution_count": 46,
     "metadata": {},
     "output_type": "execute_result"
    }
   ],
   "source": [
    "train_hadith[1]"
   ]
  },
  {
   "cell_type": "code",
   "execution_count": 47,
   "metadata": {},
   "outputs": [
    {
     "data": {
      "text/html": [
       "<div>\n",
       "<style scoped>\n",
       "    .dataframe tbody tr th:only-of-type {\n",
       "        vertical-align: middle;\n",
       "    }\n",
       "\n",
       "    .dataframe tbody tr th {\n",
       "        vertical-align: top;\n",
       "    }\n",
       "\n",
       "    .dataframe thead th {\n",
       "        text-align: right;\n",
       "    }\n",
       "</style>\n",
       "<table border=\"1\" class=\"dataframe\">\n",
       "  <thead>\n",
       "    <tr style=\"text-align: right;\">\n",
       "      <th></th>\n",
       "      <th>train_hadith</th>\n",
       "      <th>train_tags</th>\n",
       "    </tr>\n",
       "  </thead>\n",
       "  <tbody>\n",
       "    <tr>\n",
       "      <th>0</th>\n",
       "      <td>[حدثنا, محمد, بن, المثنى, حدثنا, اسحاق, بن, يو...</td>\n",
       "      <td>[O, B_rawy, I_rawy, I_rawy, O, B_rawy, I_rawy,...</td>\n",
       "    </tr>\n",
       "    <tr>\n",
       "      <th>1</th>\n",
       "      <td>[حدثنا, ابو, اليمان, اخبرنا, شعيب, عن, الزهري,...</td>\n",
       "      <td>[O, O, O, O, O, O, O, O, O, O, B_wem, O, O, O,...</td>\n",
       "    </tr>\n",
       "    <tr>\n",
       "      <th>2</th>\n",
       "      <td>[حدثنا, عبد, الله, بن, عبد, الوهاب, حدثنا, خال...</td>\n",
       "      <td>[O, B_rawy, I_rawy, I_rawy, I_rawy, I_rawy, O,...</td>\n",
       "    </tr>\n",
       "    <tr>\n",
       "      <th>3</th>\n",
       "      <td>[حدثنا, موسى, بن, اسماعيل, حدثنا, جرير, بن, حا...</td>\n",
       "      <td>[O, B_rawy, I_rawy, I_rawy, O, B_rawy, I_rawy,...</td>\n",
       "    </tr>\n",
       "    <tr>\n",
       "      <th>4</th>\n",
       "      <td>[حدثنا, عبد, الله, بن, يوسف, اخبرنا, مالك, عن,...</td>\n",
       "      <td>[O, B_rawy, I_rawy, I_rawy, I_rawy, O, B_rawy,...</td>\n",
       "    </tr>\n",
       "    <tr>\n",
       "      <th>...</th>\n",
       "      <td>...</td>\n",
       "      <td>...</td>\n",
       "    </tr>\n",
       "    <tr>\n",
       "      <th>1620</th>\n",
       "      <td>[حدثنا, محمود, اخبرنا, عبيد, الله, عن, اسرائيل...</td>\n",
       "      <td>[O, O, O, O, O, O, O, O, O, O, O, O, O, O, O, ...</td>\n",
       "    </tr>\n",
       "    <tr>\n",
       "      <th>1621</th>\n",
       "      <td>[حدثنا, محمد, هو, ابن, سلام, اخبرنا, عبد, الاع...</td>\n",
       "      <td>[O, O, O, O, O, O, O, O, O, O, O, O, O, O, O, ...</td>\n",
       "    </tr>\n",
       "    <tr>\n",
       "      <th>1622</th>\n",
       "      <td>[حدثنا, يحيى, بن, بكير, حدثنا, الليث, قال, يون...</td>\n",
       "      <td>[O, O, O, O, O, O, O, O, O, O, O, O, O, O, O, ...</td>\n",
       "    </tr>\n",
       "    <tr>\n",
       "      <th>1623</th>\n",
       "      <td>[حدثنا, ابو, النعمان, حدثنا, عبد, الواحد, حدثن...</td>\n",
       "      <td>[O, O, O, O, O, O, O, O, O, O, O, O, O, O, O, ...</td>\n",
       "    </tr>\n",
       "    <tr>\n",
       "      <th>1624</th>\n",
       "      <td>[حدثنا, عبدان, اخبرنا, عبد, الله, اخبرنا, يونس...</td>\n",
       "      <td>[O, O, O, O, O, O, O, O, O, O, O, O, O, O, O, ...</td>\n",
       "    </tr>\n",
       "  </tbody>\n",
       "</table>\n",
       "<p>1625 rows × 2 columns</p>\n",
       "</div>"
      ],
      "text/plain": [
       "                                           train_hadith  \\\n",
       "0     [حدثنا, محمد, بن, المثنى, حدثنا, اسحاق, بن, يو...   \n",
       "1     [حدثنا, ابو, اليمان, اخبرنا, شعيب, عن, الزهري,...   \n",
       "2     [حدثنا, عبد, الله, بن, عبد, الوهاب, حدثنا, خال...   \n",
       "3     [حدثنا, موسى, بن, اسماعيل, حدثنا, جرير, بن, حا...   \n",
       "4     [حدثنا, عبد, الله, بن, يوسف, اخبرنا, مالك, عن,...   \n",
       "...                                                 ...   \n",
       "1620  [حدثنا, محمود, اخبرنا, عبيد, الله, عن, اسرائيل...   \n",
       "1621  [حدثنا, محمد, هو, ابن, سلام, اخبرنا, عبد, الاع...   \n",
       "1622  [حدثنا, يحيى, بن, بكير, حدثنا, الليث, قال, يون...   \n",
       "1623  [حدثنا, ابو, النعمان, حدثنا, عبد, الواحد, حدثن...   \n",
       "1624  [حدثنا, عبدان, اخبرنا, عبد, الله, اخبرنا, يونس...   \n",
       "\n",
       "                                             train_tags  \n",
       "0     [O, B_rawy, I_rawy, I_rawy, O, B_rawy, I_rawy,...  \n",
       "1     [O, O, O, O, O, O, O, O, O, O, B_wem, O, O, O,...  \n",
       "2     [O, B_rawy, I_rawy, I_rawy, I_rawy, I_rawy, O,...  \n",
       "3     [O, B_rawy, I_rawy, I_rawy, O, B_rawy, I_rawy,...  \n",
       "4     [O, B_rawy, I_rawy, I_rawy, I_rawy, O, B_rawy,...  \n",
       "...                                                 ...  \n",
       "1620  [O, O, O, O, O, O, O, O, O, O, O, O, O, O, O, ...  \n",
       "1621  [O, O, O, O, O, O, O, O, O, O, O, O, O, O, O, ...  \n",
       "1622  [O, O, O, O, O, O, O, O, O, O, O, O, O, O, O, ...  \n",
       "1623  [O, O, O, O, O, O, O, O, O, O, O, O, O, O, O, ...  \n",
       "1624  [O, O, O, O, O, O, O, O, O, O, O, O, O, O, O, ...  \n",
       "\n",
       "[1625 rows x 2 columns]"
      ]
     },
     "execution_count": 47,
     "metadata": {},
     "output_type": "execute_result"
    }
   ],
   "source": [
    "df = pd.DataFrame({'train_hadith': train_hadith, 'train_tags': train_tags})\n",
    "df"
   ]
  },
  {
   "cell_type": "code",
   "execution_count": 48,
   "metadata": {},
   "outputs": [],
   "source": [
    "df.to_csv('train_input.csv', encoding='utf-8',index= False)"
   ]
  },
  {
   "cell_type": "code",
   "execution_count": null,
   "metadata": {},
   "outputs": [],
   "source": []
  }
 ],
 "metadata": {
  "colab": {
   "collapsed_sections": [
    "GKEtzJl-8oj_"
   ],
   "provenance": []
  },
  "kernelspec": {
   "display_name": "Python 3 (ipykernel)",
   "language": "python",
   "name": "python3"
  },
  "language_info": {
   "codemirror_mode": {
    "name": "ipython",
    "version": 3
   },
   "file_extension": ".py",
   "mimetype": "text/x-python",
   "name": "python",
   "nbconvert_exporter": "python",
   "pygments_lexer": "ipython3",
   "version": "3.9.13"
  }
 },
 "nbformat": 4,
 "nbformat_minor": 4
}
