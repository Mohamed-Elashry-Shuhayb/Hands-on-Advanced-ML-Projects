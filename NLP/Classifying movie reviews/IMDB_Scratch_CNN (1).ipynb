{
  "nbformat": 4,
  "nbformat_minor": 0,
  "metadata": {
    "colab": {
      "provenance": []
    },
    "kernelspec": {
      "name": "python3",
      "display_name": "Python 3"
    },
    "accelerator": "GPU"
  },
  "cells": [
    {
      "cell_type": "markdown",
      "metadata": {
        "id": "KXSoAHZ4Kyzh"
      },
      "source": [
        "# Classifying movie reviews using CNN"
      ]
    },
    {
      "cell_type": "code",
      "metadata": {
        "id": "WkTEONME1nXP",
        "outputId": "2c4d84da-d652-4834-8bf5-d224a01eab90",
        "colab": {
          "base_uri": "https://localhost:8080/"
        }
      },
      "source": [
        "from pathlib import Path\n",
        "import os\n",
        "import re\n",
        "import html\n",
        "import string\n",
        "\n",
        "import unicodedata\n",
        "\n",
        "\n",
        "import nltk\n",
        "nltk.download('punkt')\n",
        "from nltk.corpus import stopwords\n",
        "nltk.download('stopwords')\n",
        "nltk.download('wordnet')\n",
        "from nltk.stem import PorterStemmer\n",
        "from nltk.tokenize import word_tokenize, sent_tokenize\n",
        "from nltk.stem import WordNetLemmatizer\n",
        "\n",
        "from keras.preprocessing.text import text_to_word_sequence\n",
        "from keras.preprocessing.text import Tokenizer\n",
        "from keras.preprocessing.sequence import pad_sequences\n",
        "from keras import models\n",
        "from keras import layers\n",
        "from keras import losses\n",
        "from keras import metrics\n",
        "from keras import optimizers\n",
        "\n",
        "import matplotlib.pyplot as plt"
      ],
      "execution_count": null,
      "outputs": [
        {
          "output_type": "stream",
          "text": [
            "[nltk_data] Downloading package punkt to /root/nltk_data...\n",
            "[nltk_data]   Unzipping tokenizers/punkt.zip.\n",
            "[nltk_data] Downloading package stopwords to /root/nltk_data...\n",
            "[nltk_data]   Unzipping corpora/stopwords.zip.\n",
            "[nltk_data] Downloading package wordnet to /root/nltk_data...\n",
            "[nltk_data]   Unzipping corpora/wordnet.zip.\n"
          ],
          "name": "stdout"
        }
      ]
    },
    {
      "cell_type": "code",
      "metadata": {
        "id": "hRL1ymKKgwfs",
        "outputId": "4c62ee09-5f8e-4f21-f387-e69307746ca9",
        "colab": {
          "base_uri": "https://localhost:8080/"
        }
      },
      "source": [
        "\n",
        "DATA_PATH=Path('./dat/')\n",
        "DATA_PATH.mkdir(exist_ok=True)\n",
        "#if not os.path.exists('./dat/aclImdb_v1.tar.gz'):\n",
        "if not os.path.exists('./dat/aclImdb'):\n",
        "    !curl -O http://ai.stanford.edu/~amaas/data/sentiment/aclImdb_v1.tar.gz\n",
        "    !tar -xf aclImdb_v1.tar.gz -C {DATA_PATH}"
      ],
      "execution_count": null,
      "outputs": [
        {
          "output_type": "stream",
          "text": [
            "  % Total    % Received % Xferd  Average Speed   Time    Time     Time  Current\n",
            "                                 Dload  Upload   Total   Spent    Left  Speed\n",
            "100 80.2M  100 80.2M    0     0  21.0M      0  0:00:03  0:00:03 --:--:-- 21.0M\n"
          ],
          "name": "stdout"
        }
      ]
    },
    {
      "cell_type": "markdown",
      "metadata": {
        "id": "P6WR0hr1hkfP"
      },
      "source": [
        "Let's have a look on the raw data:"
      ]
    },
    {
      "cell_type": "code",
      "metadata": {
        "id": "DBdi8Vrhg7oM"
      },
      "source": [
        "import numpy as np\n",
        "CLASSES = ['neg', 'pos']#, 'unsup']\n",
        "PATH=Path('./dat/aclImdb/')\n",
        "\n",
        "def get_texts(path):\n",
        "    texts,labels = [],[]\n",
        "    for idx,label in enumerate(CLASSES):\n",
        "        for fname in (path/label).glob('*.*'):\n",
        "            #texts.append(fixup(fname.open('r', encoding='utf-8').read()))\n",
        "            texts.append(fname.open('r', encoding='utf-8').read())\n",
        "            labels.append(idx)\n",
        "    #return np.array(texts),np.array(labels)\n",
        "    return texts, labels\n",
        "\n",
        "trn_texts,trn_labels = get_texts(PATH/'train')\n",
        "tst_texts,tst_labels = get_texts(PATH/'test')"
      ],
      "execution_count": null,
      "outputs": []
    },
    {
      "cell_type": "code",
      "metadata": {
        "id": "DA20l_K0hqkI",
        "outputId": "8ae8a96a-bd76-47e9-f09d-888b10d3ee67",
        "colab": {
          "base_uri": "https://localhost:8080/"
        }
      },
      "source": [
        "for t in trn_texts[:10]:\n",
        "  print(t)\n",
        "  #print('\\n')"
      ],
      "execution_count": null,
      "outputs": [
        {
          "output_type": "stream",
          "text": [
            "This was one of the worst Wrestlemania's I've seen. It just didn't stand out at all, really. Card wise, I thought it was going to be pretty good, but every match just seemed to fall short.<br /><br />Chris Benoit vs. MVP One of the better matches. Benoit carried it. I just didn't think MVP was that great, but Benoit saved this match. <br /><br />Kane vs. Khali Wow, these two guys don't mix. Or maybe it's Khali and any other person alive don't mix. Awful match.<br /><br />Melina vs. Ashley I'm not a fan of female wrestling.<br /><br />ECW Originals vs. New Breed I was excited about this match, until I saw it. Really, Really disappointing.<br /><br />Edge vs. CM Punk vs. King Booker vs. Jeff Hardy vs. Matt Hardy vs. Mr. Kennedy vs. Finlay vs. Randy Orton Absolutely the worst MITB match so far. Just a major let down, to many people in the ring at the same time. It just didn't live up.<br /><br />Bobby Lashley vs. Umaga O.K. not extremely impressive, but not the worst of the night.<br /><br />Batista vs. Undertaker This was maybe the best match of the night. Very, very, very nice to see something good for a change. <br /><br />John Cena vs. Shawn Michaels I really feel like this match deserved to be last. People make a case for Batista vs. Undertaker, but this match was just as good. I am starting to get sick of seeing Cena win every match though. It's getting a little old. Now, I have to say, I feel this match is the best of the night, but I'm a huge Shawn Michaels fan, so I'm a little biased. Batista vs. 'Taker may have been better, but I'm biased, so...sorry. The last two were undoubtedly the best matches of the night and most everything else really came up short.\n",
            "The summary provided by my cable TV guide made it sound a lot more interesting than it actually is. \"Slaughterhouse Rock\" is by far the worst horror film that I have ever seen, a title previously held by \"Urban Legends: Final Cut\". From its opening scene I could tell it's going to be really bad, but I was so bored that I couldn't care less. This film contains laughable acting, especially by the guy who's tormented in his dreams, incredible as in not credible plot twists, and some of the crappiest music I've heard, and I'm living in a period when the likes of Britney Spears and Nsync dominate the air waves. The biggest problem with \"Slaughterhouse Rock\" is that it's not funny. One would a film as dull and boring and so NOT scary as this would try to spice things up a bit with a few funny one-liners here and there, but no. We have Tormented Guy's self-centered friend trying to be funny, but came across as annoying instead. (spoiler) And please, do tell me, who in this crazy world is insane and self-loathing enough to visit a creepy jail in the middle of the night? No one! If you're going to make a horror movie, at least make it believable. This one is anything but.\n",
            "Mr. VanHook took a good idea and kicked like a football. Unfortunately, it didn't make the goal. The historical subject of giants is a good one, but pour in the goon milk and you end up with a giant wheel of cheese. I say, take this reel wheel and roll it off a cliff. I couldn't even watch the entire film. That says a lot because I rarely walk away from any movie. I always like to give them a chance for last-minute redemption. It's impossible to redeem something this bad. Well, at least the acting was good....NOT! <br /><br />The only thing \"falling\" in this film is the rating. 1/10 and sinking into the negative numbers!\n",
            "This film deserves another bad review. Consider one reviewer extolling the film's virtues that include 'no sex, violence or gore.' Uh, excuse me. The very set-up of the film has us watching as Cody's young comrade, with love of life and who has everything to live for is blown to bits leaving Cody holding his lifeless, bloody body. And, given the nature of war we know that Cody has seen horror on almost a daily basis. So much for those viewing this film with such rose glasses that the violence which defines Cody's persona is erased from viewer memory.<br /><br />Sans any family of his own Cody, like John Rambo, roams the country on his bike making the long trek to hometown USA in the guise of some place called Nevada City. No mention, no realization of the clear fact that Cody is damaged goods. We know this since his CO practically declares him so as he order Cody to 'get some rest' away from the death and destruction of war. This explains, as none seem to notice or care, Cody's obvious 'flat' effect. It is not bad acting. It is the flat effect of post traumatic stress disorder. Not guessing here, remember his CO ordered him off the battle field.<br /><br />How about that 'accidental' kiss as noted by another review. The fall was an accident, the kiss was not. How exactly was Cody 'respecting' Faith by hitting on her knowing full well she was spoken for? Now that was a non-family value moment. A moment which is then announced to the immediate universe as if posted on YouTube. Of course faith's lapse of fidelity as well as Cody's 'coming on' to a woman who plans to marry another is received in the spirit of the Xmas season, all CHEERING their cheaten' hearts and lips.<br /><br />We know little about Faith's fiancé except that she professes her love for him, she takes no longer than a nano second to accept his proposal (could have waited if any second thoughts), he is generous, he loves her to death, the family has nothing really against him, he believes marriage is based on compromises and the two have never discussed post marriage plans. No evil doers here.<br /><br />Asner is a fine actor given over the hill dialogue like 'we love you son....' 'You are part of our family' literally days after they have met a stranger named Cody. And the 'band of brothers' speech where the phrase was above all never intended to apply to virtual strangers off the battle field.<br /><br />Bottom line: This film is cotton candy Xmas fluff that betrays itself in major ways. Most grossly when it applauds Cody's disrespect for Faith by physically hitting on her knowing full well she is spoken for. By re-defining family as we know it to wit: accepting a virtual stranger as a full fledged loving member of the family because we all 'love you.' How many of you have done that or know anyone who has done that. NOT.\n",
            "This is one strange hacked together film, you get the feeling that the bond company had to come in on this one, I'm not surprised there's no credits on it, who would want to be associated with this film. The Acting of all involved is terribly stilted and the plot jumps around all over, it all makes very little sense. As I said before it looks like the bond company had to come in because it seems like there was alot of footage that wasn't shot that needed to be, and all the music was very ill-fitting library music (cheap I guess). Very, very odd. I might actually buy a DVD of it though, if it could let me in on what the hell was going on, and what happened to this movie.\n",
            "Maybe this isn't fair, because I only made it about halfway through the movie. One of the few movies I have actually not been able to watch due to lameness.<br /><br />The acting is terrible, the camera work is terrible, the plot is ridiculous and the whole movie is just unrealistic and cheesy. For example - during a coke deal, the coke is just kept loose in a briefcase - I'm no expert, but I think people generally put it in a bag.<br /><br />They use the same stupid sound effect whenever a punch is thrown (it's that over the top 'crunching' sound\" and they use toy guns with dubbed in sound effects.<br /><br />Worst movie ever.\n",
            "Inspector Gadget was probably my all-time favorite 80's cartoon. I enjoyed both the first and second seasons of the series as well as 1992's Christmas special \"Inspector Gadget Saves Christmas\". Some Gadget fans are quick to criticize the second season (1985) of the show, but they need to compare it to DiC's 2002 release of \"Inspector Gadget's Last Case: Claw's Revenge\" for then, they will find the second season to be absolute gold.<br /><br />Being a Gadget fan, I couldn't resist the opportunity to see the animated Inspector Gadget in something that wasn't Gadget Boy-related. I purchased the film, and I swore to myself that I'd be objective; I knew that sometimes artistic liberties would be taken from the original series. I was not even prepared for what I was about to watch.<br /><br />There was barely a shred of the original show still intact.<br /><br />Here is a short list of just some of the cons for this movie: *The humor is non-existent from the original series.<br /><br />*Penny and Brain (originally having a nearly equal part in the series as Gadget) are missing from the action for fifteen to twenty minute intervals.<br /><br />*The original music by Saban & Levy is not there, and the score that exists is sub-par. (Understood that Saban has his own production company now, but at least \"Inspector Gadget Saves Christmas\" had good music, even without Saban.) *Don't expect to see any of Gadget's gadgets which made the show so endearing, such as gadget-copter, gadget-brella, gadget-mallet,gadget-coat (which actually was used but it was not even called the same thing), as well as his standard other hat and hand gadgets. In this movie, his gadget legs were telescopic instead of springs. That kind of stuff annoys true fans of the show, and simply aren't necessary to change.<br /><br />*The gadgetmobile from the original series is now a fast-talking, supposedly \"hip\" convertible. All the fans from the original series enjoyed the gadgetmobile transforming into the gadget van and vice versa.<br /><br />*Chief Quimby is now very short-tempered and even mean to Gadget. He was always grumpy in the original series, but this pushes the situation a bit much.<br /><br />*Penny no longer has a computer book.<br /><br />Are there any positives to this movie? OK, here goes...<br /><br />*Maurice LaMarche does a good job of taking over for the great Don Adams as Inspector Gadget.<br /><br />*In one scene, Chief Quimby alludes to an actual villain from the cartoon series: the Great Wambini (classic \"Gadget\" villain from the second season, voiced by Louis Nye).<br /><br />Looking for more redeeming factors for this movie? Well, you're out of luck. Life is about making choices and living by those choices. Most situations in life have a purpose even if it is to teach a lesson. The lesson learned here: keep to the original formula! \"If it ain't broke, don't fix it.\" True Gadget fans should steer clear from this movie; you will surely be disappointed.<br /><br />Hopefully, DiC and Shout! Factory will continue to release more of the original series after the 2006 release of \"Inspector Gadget: The Original Series, Volume 1,\" containing the first 22 episodes of the series. As a true Gadget fan, lover of 80's animation and many of DiC's programs, I urge you the viewer to purchase \"Inspector Gadget: The Original Series, Volume 1\" and \"Inspector Gadget Saves Christmas\" DVD's which are excellent and sure to bring back good memories.\n",
            "I love all types of films, especially horror. That being said, Survival does not live up to ANY of the hype surrounding it.<br /><br />I can't give it any points on originality. There is nothing wrong with exploring the same themes, or remaking what others have done. It has just become a cop out for indie films to take us on a slasher journey through the woods, a crazed killer, and as of lately, throw in some crazy family. On those lines I have to compare it with the likes of Texas Chainsaw, Wrong Turn (though the twist in that one is obvious), and others. Survival falls up way short against comparable films. The plot was just not original in ANY way. Some films can get by with a weak (and way over-done) plot with superb acting, special fx, or a slew of other factors. Survivial doesn't have any of that to bank on. If you will, note the following: The acting in the movie never took off. I don't knock or blame the actors for that, nor the director. The dialogue was at best mediocre, and the actors involved never showed (not saying didn't HAVE) the talent to pull it off. I mention 2 standouts. The leading man in this film certainly has the look, but I seriously thinks he needs to consider more training before he is ready to carry a film. The actor who portrayed Greg also had potential, but we never got to see any of it (watch the movie to see why, you won't believe it..).<br /><br />The grainy film look. Ah yes, that little tid-bit of film making magic designed to take us to the glory days of \"Grindhouse\" films. In today's film making, that has become a gimmick. It either works or it doesn't. In this case it just does not work. There are too many other flaws going on, so it winds up distracting from the film, not adding to it. That being said, I think they did a good job of adding that grain. That is some good, quality grain. I think with a different script, better direction, and possibly actors, they should try another \"Grindhouse\" attempt. They will probably pull it off.<br /><br />As far as the tech aspects, in my opinion, they never quite gelled for me either. Better care could have been taken with audio (sounds like it was fed directly into the camera, but there is nothing wrong with that) and for being shot on DV, it was too soft for my taste.<br /><br />That is all I have to say about that.....\n",
            "After just finishing the book the same day I watched the movie, I knew what was supposed to happen. I had high expectations of the movie, because of the rating. The only reason I give this movie a 2 out of 10 stars is that it was alright trying to be a movie. I have a couple main points for not liking this movie.<br /><br />********** SPOILERS **********<br /><br />1. The casting. Jack Nicholson barely fits into Jack Torrence's character. Also, I would have NEVER picked Shelly Duvall for Wendy. I pictured Wendy much differently. I can see why they picked Jack Nicholson though, the grin, the pointy eyebrows, but he's not supposed to really look 'evil'. He's supposed to look normal, and he turns evil. Also, they make one of the worst movie couples. Danny was alright, he needed more life though. He acted way to droney.<br /><br />2. The screenplay. They cut out so many things that were in the book, and added things. Some of the things that were in the book that I was looking forward to in the movie were either deleted, changed, or handled wrongly. Some of the things that were in the book that I was looking forward to seeing (the hedge animals, the roque mallet, the elevator) were not in the movie, and it was 2 and half hours!! I was extremely irritated.<br /><br />3. The Ending. The ending was changed completly, Halorann died, Jack froze to death, Wendy never got hurt...The Overlook didn't blow up. The Ending was so cool in the book, and the movie messed it up so horribly, I was apalled. Hallorann was never supposed to die, but Jack killed him with an ax. If they wanted to kill him, at least have Jack use a roque mallet. You never even saw a roque mallet during the whole movie.<br /><br />There are other things that I didn't like about the movie, but there are things that were all right. The camera angels were cool, the blood coming out of the elevator (didn't happen in the book) was cool, but maybe I was too irritated that the movie didn't go with the book, to try to be scared at all. I reccomend reading the book, before you see this movie. I applaud Stephen King for actually agreeing to sign a contract to not dis Stanley Kubrik any more. I would never have done that, I would have taken all the rights I could get to yell at him all day. I can't wait to see the 6 hour version, at least it has the hedge animals.<br /><br />Rating: 2/10\n",
            "there is no suspense in this serial! When one episode ends the acting is so shoddy, the effects are so poor and the script is so awful that the last thing on your mind is how Batman and Robin will save the day. No, in fact, the last thing on your mind is watching the next episode! This show is so boring that I can't see how it ever got made, let alone released on DVD! Obviously the effects are not up to par with contemporary Batman films, but even the script is awful. An incoherent babbling mess about some evil professor and a ray gun or something like that, I am not quite sure, because it is too awful to follow. Watch the 60s version, or the 90's versions, or even Batman Begins, just anything over this version!\n"
          ],
          "name": "stdout"
        }
      ]
    },
    {
      "cell_type": "markdown",
      "metadata": {
        "id": "IyZey5Pb1NiC"
      },
      "source": [
        "Let's start with the first phase:"
      ]
    },
    {
      "cell_type": "markdown",
      "metadata": {
        "id": "YdbVFwy3BDVE"
      },
      "source": [
        "# Text preprocessing\n",
        "\n",
        "In this phase, we apply some operations on the text, to make it in the most usable form for the task at hand. Mainly we clean it up to be more appealing to the problem we try to solve. The input is __text__ and the output is a transformed __text__."
      ]
    },
    {
      "cell_type": "code",
      "metadata": {
        "id": "1YzcLcAziSV2"
      },
      "source": [
        "def remove_special_chars(text):\n",
        "    re1 = re.compile(r'  +')\n",
        "    x1 = text.lower().replace('#39;', \"'\").replace('amp;', '&').replace('#146;', \"'\").replace(\n",
        "        'nbsp;', ' ').replace('#36;', '$').replace('\\\\n', \"\\n\").replace('quot;', \"'\").replace(\n",
        "        '<br />', \"\\n\").replace('\\\\\"', '\"').replace('<unk>', 'u_n').replace(' @.@ ', '.').replace(\n",
        "        ' @-@ ', '-').replace('\\\\', ' \\\\ ')\n",
        "    return re1.sub(' ', html.unescape(x1))\n",
        "\n",
        "\n",
        "def remove_non_ascii(text):\n",
        "    \"\"\"Remove non-ASCII characters from list of tokenized words\"\"\"\n",
        "    return unicodedata.normalize('NFKD', text).encode('ascii', 'ignore').decode('utf-8', 'ignore')\n",
        "\n",
        "\n",
        "def to_lowercase(text):\n",
        "    return text.lower()\n",
        "\n",
        "\n",
        "\n",
        "def remove_punctuation(text):\n",
        "    \"\"\"Remove punctuation from list of tokenized words\"\"\"\n",
        "    translator = str.maketrans('', '', string.punctuation)\n",
        "    return text.translate(translator)\n",
        "\n",
        "\n",
        "def replace_numbers(text):\n",
        "    \"\"\"Replace all interger occurrences in list of tokenized words with textual representation\"\"\"\n",
        "    return re.sub(r'\\d+', '', text)\n",
        "\n",
        "\n",
        "def remove_whitespaces(text):\n",
        "    return text.strip()\n",
        "\n",
        "\n",
        "def remove_stopwords(words, stop_words):\n",
        "    \"\"\"\n",
        "    :param words:\n",
        "    :type words:\n",
        "    :param stop_words: from sklearn.feature_extraction.stop_words import ENGLISH_STOP_WORDS\n",
        "    or\n",
        "    from spacy.lang.en.stop_words import STOP_WORDS\n",
        "    :type stop_words:\n",
        "    :return:\n",
        "    :rtype:\n",
        "    \"\"\"\n",
        "    return [word for word in words if word not in stop_words]\n",
        "\n",
        "\n",
        "def stem_words(words):\n",
        "    \"\"\"Stem words in text\"\"\"\n",
        "    stemmer = PorterStemmer()\n",
        "    return [stemmer.stem(word) for word in words]\n",
        "\n",
        "def lemmatize_words(words):\n",
        "    \"\"\"Lemmatize words in text\"\"\"\n",
        "\n",
        "    lemmatizer = WordNetLemmatizer()\n",
        "    return [lemmatizer.lemmatize(word) for word in words]\n",
        "\n",
        "def lemmatize_verbs(words):\n",
        "    \"\"\"Lemmatize verbs in text\"\"\"\n",
        "\n",
        "    lemmatizer = WordNetLemmatizer()\n",
        "    return ' '.join([lemmatizer.lemmatize(word, pos='v') for word in words])\n",
        "\n",
        "def text2words(text):\n",
        "  return word_tokenize(text)\n",
        "\n",
        "def normalize_text( text):\n",
        "    text = remove_special_chars(text)\n",
        "    text = remove_non_ascii(text)\n",
        "    text = remove_punctuation(text)\n",
        "    text = to_lowercase(text)\n",
        "    text = replace_numbers(text)\n",
        "    words = text2words(text)\n",
        "    stop_words = stopwords.words('english')\n",
        "    words = remove_stopwords(words, stop_words)\n",
        "    #words = stem_words(words)# Either stem or lemmatize\n",
        "    words = lemmatize_words(words)\n",
        "    words = lemmatize_verbs(words)\n",
        "\n",
        "    return ''.join(words)"
      ],
      "execution_count": null,
      "outputs": []
    },
    {
      "cell_type": "markdown",
      "metadata": {
        "id": "MYG1dzHtlp2J"
      },
      "source": [
        "Now let's apply this on the whole corpus:"
      ]
    },
    {
      "cell_type": "code",
      "metadata": {
        "id": "HpWFgR_Eltjt"
      },
      "source": [
        "def normalize_corpus(corpus):\n",
        "  return [normalize_text(t) for t in corpus]\n",
        ""
      ],
      "execution_count": null,
      "outputs": []
    },
    {
      "cell_type": "code",
      "metadata": {
        "id": "K4MKyMgql2AT"
      },
      "source": [
        "trn_texts = normalize_corpus(trn_texts)\n",
        "tst_texts = normalize_corpus(tst_texts)"
      ],
      "execution_count": null,
      "outputs": []
    },
    {
      "cell_type": "markdown",
      "metadata": {
        "id": "FIlsqxdFPPvi"
      },
      "source": [
        "# Data preparation for LSTM\n",
        "\n",
        "In this first part we use LSTM model.\n",
        "\n",
        "Few notes on RNNs:\n",
        "\n",
        "- RNNs are sequence models. This means we need to encode the sequence of words as sequence of words __indices__, which are obtained from the vocab.\n",
        "- __Keras tokenizer with Embedding layer__\n",
        "We will use Keras tokenizer. Index 0 is never given. If we use manual binarization and vocab building, we don't have this issue (which is actually NOT an issue, but intended as we will see below):\n",
        "\n",
        "This info is important when dealing later with Embedding layer in Keras, where padding with 0's might cause OOV if not considered, so we init that layer with vocab_size + 1 (to account for the missing 0). That layer also has option to mask_zero if needed for LSTM.\n",
        "\n",
        "Another solution would be to -1 from all binarized values. But this would make padded words same as UNK.\n",
        "\n",
        "In other words, it's a choice to have two different values for:\n",
        "\n",
        "A- UNK-->1\n",
        "B- PAD-->0\n",
        "\n",
        "In this case, the vocab_sz should increase by 1 (for pad), in case the model needs padding like LSTM.\n",
        "\n",
        "Or keep them both as 0. In this case, the vocab_sz remains the same as given from the tokenizer.\n",
        "\n",
        "- RNNs accept variable length inputs by definition. However, since Keras is a static framework (Except in Eager execution mode), it requires the data to have fixed length, hence we need to pad.\n",
        "\n"
      ]
    },
    {
      "cell_type": "code",
      "metadata": {
        "id": "HzSUrqiSQ-aq"
      },
      "source": [
        "vocab_sz = 10000\n",
        "tok = Tokenizer(num_words=vocab_sz, oov_token='UNK')\n",
        "texts = trn_texts + tst_texts\n",
        "tok.fit_on_texts(texts)"
      ],
      "execution_count": null,
      "outputs": []
    },
    {
      "cell_type": "code",
      "metadata": {
        "id": "Rs8A_h4tQ4kE"
      },
      "source": [
        "\n",
        "x_train = tok.texts_to_sequences(trn_texts)\n",
        "x_test = tok.texts_to_sequences(tst_texts)\n",
        "y_train = np.asarray(trn_labels).astype('float32')\n",
        "y_test = np.asarray(tst_labels).astype('float32')"
      ],
      "execution_count": null,
      "outputs": []
    },
    {
      "cell_type": "code",
      "metadata": {
        "id": "bnpTWfi7QYjB"
      },
      "source": [
        "def get_max_len(texts):\n",
        "  return max([len(word_tokenize(text)) for text in texts])\n",
        "\n",
        "def pad_seq(seq, maxlen):\n",
        "  return np.array(pad_sequences(seq, maxlen=maxlen, padding='post', truncating='post'))"
      ],
      "execution_count": null,
      "outputs": []
    },
    {
      "cell_type": "code",
      "metadata": {
        "id": "NxzOdkTWRZ1s"
      },
      "source": [
        "#maxlen = get_max_len(texts)\n",
        "maxlen = 100\n",
        "x_train = pad_seq(x_train, maxlen)\n",
        "x_test = pad_seq(x_test, maxlen)"
      ],
      "execution_count": null,
      "outputs": []
    },
    {
      "cell_type": "code",
      "metadata": {
        "id": "SvqSYVR96izl",
        "outputId": "61410135-7205-49ea-dc4b-899e9bcd6849",
        "colab": {
          "base_uri": "https://localhost:8080/"
        }
      },
      "source": [
        "print(x_train.shape)\n",
        "print(x_test.shape)"
      ],
      "execution_count": null,
      "outputs": [
        {
          "output_type": "stream",
          "text": [
            "(25000, 100)\n",
            "(25000, 100)\n"
          ],
          "name": "stdout"
        }
      ]
    },
    {
      "cell_type": "code",
      "metadata": {
        "id": "cG9a44plSasO"
      },
      "source": [
        "from sklearn.model_selection import train_test_split\n",
        "x_train, x_val, y_train, y_val = train_test_split(x_train, y_train, test_size=0.4, random_state=42, shuffle=True)"
      ],
      "execution_count": null,
      "outputs": []
    },
    {
      "cell_type": "code",
      "metadata": {
        "id": "aTHC-UBdRvZ0",
        "outputId": "581f1b70-7081-4718-c5bc-d6d4d63e540e",
        "colab": {
          "base_uri": "https://localhost:8080/"
        }
      },
      "source": [
        "from keras.models import Sequential\n",
        "from keras.layers import Dense, Dropout\n",
        "from keras.layers import Embedding\n",
        "from keras.layers import LSTM, Conv1D, MaxPooling1D\n",
        "\n",
        "\n",
        "embedding_size = 100\n",
        "# Convolution\n",
        "kernel_size = 5\n",
        "filters = 64\n",
        "pool_size = 4\n",
        "\n",
        "\n",
        "\n",
        "model = Sequential()\n",
        "#model.add(Embedding(vocab_sz+1, embedding_size, mask_zero=True, input_length=maxlen)) No masking allowed for Conv1D\n",
        "model.add(Embedding(vocab_sz+1, embedding_size, input_length=maxlen))\n",
        "model.add(Conv1D(filters,\n",
        "                 kernel_size,\n",
        "                 padding='valid',\n",
        "                 activation='relu',\n",
        "                 strides=1))\n",
        "model.add(MaxPooling1D(pool_size=pool_size))\n",
        "#model.add(GlobalMaxPooling1D())\n",
        "\n",
        "model.add(Dense(1, activation='sigmoid'))\n",
        "\n",
        "\n",
        "\n",
        "model.summary()\n"
      ],
      "execution_count": null,
      "outputs": [
        {
          "output_type": "stream",
          "text": [
            "Model: \"sequential_30\"\n",
            "_________________________________________________________________\n",
            "Layer (type)                 Output Shape              Param #   \n",
            "=================================================================\n",
            "embedding_30 (Embedding)     (None, 100, 100)          1000100   \n",
            "_________________________________________________________________\n",
            "conv1d_24 (Conv1D)           (None, 96, 64)            32064     \n",
            "_________________________________________________________________\n",
            "max_pooling1d_20 (MaxPooling (None, 24, 64)            0         \n",
            "_________________________________________________________________\n",
            "dense_29 (Dense)             (None, 24, 1)             65        \n",
            "=================================================================\n",
            "Total params: 1,032,229\n",
            "Trainable params: 1,032,229\n",
            "Non-trainable params: 0\n",
            "_________________________________________________________________\n"
          ],
          "name": "stdout"
        }
      ]
    },
    {
      "cell_type": "code",
      "metadata": {
        "id": "kP5LLWCiSSAv",
        "outputId": "0f8dfa99-6e3b-40de-c90b-f1eb2f8afea4",
        "colab": {
          "base_uri": "https://localhost:8080/"
        }
      },
      "source": [
        "# Mount GDrive\n",
        "from google.colab import drive\n",
        "drive.mount('/content/gdrive')\n",
        "gdrive_path = 'gdrive/My Drive/Colab Notebooks/DL NLP Course'\n",
        "\n",
        "from keras.callbacks import ModelCheckpoint, Callback\n",
        "model_name = 'basic'\n",
        "filepath = os.path.join(gdrive_path, 'imdb_lstm_' + model_name + '.h5')\n",
        "checkpoint = ModelCheckpoint(filepath, monitor='val_acc', verbose=1, save_best_only=True, mode='max')"
      ],
      "execution_count": null,
      "outputs": [
        {
          "output_type": "stream",
          "text": [
            "Drive already mounted at /content/gdrive; to attempt to forcibly remount, call drive.mount(\"/content/gdrive\", force_remount=True).\n"
          ],
          "name": "stdout"
        }
      ]
    },
    {
      "cell_type": "code",
      "metadata": {
        "id": "7MIEsZwaSVE5",
        "outputId": "d68c37a0-68f7-4009-bbad-040b663befee",
        "colab": {
          "base_uri": "https://localhost:8080/"
        }
      },
      "source": [
        "model.compile(loss='mse',\n",
        "              optimizer='adam',\n",
        "              metrics=['accuracy'])\n",
        "\n",
        "callbacks_lst = [checkpoint]\n",
        "# Training\n",
        "batch_size = 256\n",
        "epochs = 20\n",
        "print('Train...')\n",
        "history = model.fit(x_train, y_train,\n",
        "          batch_size=batch_size,\n",
        "          epochs=epochs,\n",
        "          validation_data=(x_val, y_val),\n",
        "          #validation_split=0.2,\n",
        "          callbacks=callbacks_lst)\n",
        "\n",
        "history_dict = history.history\n",
        "history_dict.keys()"
      ],
      "execution_count": null,
      "outputs": [
        {
          "output_type": "stream",
          "text": [
            "Train...\n",
            "Epoch 1/20\n",
            "59/59 [==============================] - ETA: 0s - loss: 0.2339 - accuracy: 0.6020WARNING:tensorflow:Can save best model only with val_acc available, skipping.\n",
            "59/59 [==============================] - 2s 27ms/step - loss: 0.2339 - accuracy: 0.6020 - val_loss: 0.2156 - val_accuracy: 0.6426\n",
            "Epoch 2/20\n",
            "57/59 [===========================>..] - ETA: 0s - loss: 0.2059 - accuracy: 0.6666WARNING:tensorflow:Can save best model only with val_acc available, skipping.\n",
            "59/59 [==============================] - 1s 25ms/step - loss: 0.2059 - accuracy: 0.6661 - val_loss: 0.2106 - val_accuracy: 0.6523\n",
            "Epoch 3/20\n",
            "58/59 [============================>.] - ETA: 0s - loss: 0.1979 - accuracy: 0.6831WARNING:tensorflow:Can save best model only with val_acc available, skipping.\n",
            "59/59 [==============================] - 1s 24ms/step - loss: 0.1979 - accuracy: 0.6831 - val_loss: 0.2101 - val_accuracy: 0.6540\n",
            "Epoch 4/20\n",
            "58/59 [============================>.] - ETA: 0s - loss: 0.1931 - accuracy: 0.6919WARNING:tensorflow:Can save best model only with val_acc available, skipping.\n",
            "59/59 [==============================] - 1s 25ms/step - loss: 0.1931 - accuracy: 0.6919 - val_loss: 0.2112 - val_accuracy: 0.6536\n",
            "Epoch 5/20\n",
            "58/59 [============================>.] - ETA: 0s - loss: 0.1890 - accuracy: 0.7007WARNING:tensorflow:Can save best model only with val_acc available, skipping.\n",
            "59/59 [==============================] - 1s 24ms/step - loss: 0.1891 - accuracy: 0.7006 - val_loss: 0.2124 - val_accuracy: 0.6517\n",
            "Epoch 6/20\n",
            "57/59 [===========================>..] - ETA: 0s - loss: 0.1848 - accuracy: 0.7095WARNING:tensorflow:Can save best model only with val_acc available, skipping.\n",
            "59/59 [==============================] - 1s 25ms/step - loss: 0.1850 - accuracy: 0.7087 - val_loss: 0.2141 - val_accuracy: 0.6503\n",
            "Epoch 7/20\n",
            "58/59 [============================>.] - ETA: 0s - loss: 0.1804 - accuracy: 0.7178WARNING:tensorflow:Can save best model only with val_acc available, skipping.\n",
            "59/59 [==============================] - 1s 24ms/step - loss: 0.1804 - accuracy: 0.7178 - val_loss: 0.2166 - val_accuracy: 0.6479\n",
            "Epoch 8/20\n",
            "58/59 [============================>.] - ETA: 0s - loss: 0.1761 - accuracy: 0.7266WARNING:tensorflow:Can save best model only with val_acc available, skipping.\n",
            "59/59 [==============================] - 1s 24ms/step - loss: 0.1761 - accuracy: 0.7267 - val_loss: 0.2190 - val_accuracy: 0.6461\n",
            "Epoch 9/20\n",
            "58/59 [============================>.] - ETA: 0s - loss: 0.1721 - accuracy: 0.7350WARNING:tensorflow:Can save best model only with val_acc available, skipping.\n",
            "59/59 [==============================] - 1s 24ms/step - loss: 0.1720 - accuracy: 0.7349 - val_loss: 0.2211 - val_accuracy: 0.6445\n",
            "Epoch 10/20\n",
            "58/59 [============================>.] - ETA: 0s - loss: 0.1678 - accuracy: 0.7437WARNING:tensorflow:Can save best model only with val_acc available, skipping.\n",
            "59/59 [==============================] - 1s 24ms/step - loss: 0.1680 - accuracy: 0.7432 - val_loss: 0.2238 - val_accuracy: 0.6420\n",
            "Epoch 11/20\n",
            "57/59 [===========================>..] - ETA: 0s - loss: 0.1637 - accuracy: 0.7515WARNING:tensorflow:Can save best model only with val_acc available, skipping.\n",
            "59/59 [==============================] - 1s 24ms/step - loss: 0.1637 - accuracy: 0.7513 - val_loss: 0.2265 - val_accuracy: 0.6396\n",
            "Epoch 12/20\n",
            "58/59 [============================>.] - ETA: 0s - loss: 0.1597 - accuracy: 0.7589WARNING:tensorflow:Can save best model only with val_acc available, skipping.\n",
            "59/59 [==============================] - 1s 25ms/step - loss: 0.1597 - accuracy: 0.7589 - val_loss: 0.2288 - val_accuracy: 0.6391\n",
            "Epoch 13/20\n",
            "58/59 [============================>.] - ETA: 0s - loss: 0.1554 - accuracy: 0.7668WARNING:tensorflow:Can save best model only with val_acc available, skipping.\n",
            "59/59 [==============================] - 1s 24ms/step - loss: 0.1555 - accuracy: 0.7667 - val_loss: 0.2315 - val_accuracy: 0.6379\n",
            "Epoch 14/20\n",
            "58/59 [============================>.] - ETA: 0s - loss: 0.1511 - accuracy: 0.7747WARNING:tensorflow:Can save best model only with val_acc available, skipping.\n",
            "59/59 [==============================] - 1s 24ms/step - loss: 0.1512 - accuracy: 0.7745 - val_loss: 0.2341 - val_accuracy: 0.6358\n",
            "Epoch 15/20\n",
            "57/59 [===========================>..] - ETA: 0s - loss: 0.1469 - accuracy: 0.7823WARNING:tensorflow:Can save best model only with val_acc available, skipping.\n",
            "59/59 [==============================] - 1s 24ms/step - loss: 0.1471 - accuracy: 0.7819 - val_loss: 0.2365 - val_accuracy: 0.6351\n",
            "Epoch 16/20\n",
            "58/59 [============================>.] - ETA: 0s - loss: 0.1426 - accuracy: 0.7899WARNING:tensorflow:Can save best model only with val_acc available, skipping.\n",
            "59/59 [==============================] - 1s 24ms/step - loss: 0.1427 - accuracy: 0.7897 - val_loss: 0.2395 - val_accuracy: 0.6342\n",
            "Epoch 17/20\n",
            "58/59 [============================>.] - ETA: 0s - loss: 0.1384 - accuracy: 0.7968WARNING:tensorflow:Can save best model only with val_acc available, skipping.\n",
            "59/59 [==============================] - 1s 24ms/step - loss: 0.1384 - accuracy: 0.7969 - val_loss: 0.2419 - val_accuracy: 0.6331\n",
            "Epoch 18/20\n",
            "58/59 [============================>.] - ETA: 0s - loss: 0.1338 - accuracy: 0.8045WARNING:tensorflow:Can save best model only with val_acc available, skipping.\n",
            "59/59 [==============================] - 1s 25ms/step - loss: 0.1339 - accuracy: 0.8044 - val_loss: 0.2448 - val_accuracy: 0.6317\n",
            "Epoch 19/20\n",
            "58/59 [============================>.] - ETA: 0s - loss: 0.1297 - accuracy: 0.8112WARNING:tensorflow:Can save best model only with val_acc available, skipping.\n",
            "59/59 [==============================] - 1s 25ms/step - loss: 0.1298 - accuracy: 0.8110 - val_loss: 0.2472 - val_accuracy: 0.6308\n",
            "Epoch 20/20\n",
            "58/59 [============================>.] - ETA: 0s - loss: 0.1256 - accuracy: 0.8182WARNING:tensorflow:Can save best model only with val_acc available, skipping.\n",
            "59/59 [==============================] - 1s 24ms/step - loss: 0.1256 - accuracy: 0.8181 - val_loss: 0.2501 - val_accuracy: 0.6291\n"
          ],
          "name": "stdout"
        },
        {
          "output_type": "execute_result",
          "data": {
            "text/plain": [
              "dict_keys(['loss', 'accuracy', 'val_loss', 'val_accuracy'])"
            ]
          },
          "metadata": {
            "tags": []
          },
          "execution_count": 119
        }
      ]
    },
    {
      "cell_type": "markdown",
      "metadata": {
        "id": "ByZgYWFZNusO"
      },
      "source": [
        "As you can see, the output of the Conv1D and Maxpool1D is 3D tensor, including the temporal info (pooled over 4). We need to summarize this dimension.\n",
        "\n",
        "We have 2 options:\n",
        "\n",
        "1- LSTM: we will see later\n",
        "\n",
        "2- GlobalMaxPool1D: which takes the max over the temporal and feature dimensions https://stackoverflow.com/questions/43728235/what-is-the-difference-between-keras-maxpooling1d-and-globalmaxpooling1d-functi/43730861"
      ]
    },
    {
      "cell_type": "code",
      "metadata": {
        "id": "WH1aqzqlOKI_",
        "outputId": "b89c0d1c-e0fe-4b5f-d307-4d1fc4ae085e",
        "colab": {
          "base_uri": "https://localhost:8080/"
        }
      },
      "source": [
        "from keras.models import Sequential\n",
        "from keras.layers import Dense, Dropout\n",
        "from keras.layers import Embedding\n",
        "from keras.layers import LSTM, Conv1D, MaxPooling1D, GlobalMaxPooling1D\n",
        "\n",
        "\n",
        "embedding_size = 100\n",
        "# Convolution\n",
        "kernel_size = 5\n",
        "filters = 64\n",
        "pool_size = 4\n",
        "\n",
        "\n",
        "\n",
        "model = Sequential()\n",
        "#model.add(Embedding(vocab_sz+1, embedding_size, mask_zero=True, input_length=maxlen)) No masking allowed for Conv1D\n",
        "model.add(Embedding(vocab_sz+1, embedding_size, input_length=maxlen))\n",
        "model.add(Conv1D(filters,\n",
        "                 kernel_size,\n",
        "                 padding='valid',\n",
        "                 activation='relu',\n",
        "                 strides=1))\n",
        "#model.add(MaxPooling1D(pool_size=pool_size))\n",
        "model.add(GlobalMaxPooling1D())\n",
        "\n",
        "model.add(Dense(1, activation='sigmoid'))\n",
        "\n",
        "\n",
        "\n",
        "model.summary()\n"
      ],
      "execution_count": null,
      "outputs": [
        {
          "output_type": "stream",
          "text": [
            "Model: \"sequential_31\"\n",
            "_________________________________________________________________\n",
            "Layer (type)                 Output Shape              Param #   \n",
            "=================================================================\n",
            "embedding_31 (Embedding)     (None, 100, 100)          1000100   \n",
            "_________________________________________________________________\n",
            "conv1d_25 (Conv1D)           (None, 96, 64)            32064     \n",
            "_________________________________________________________________\n",
            "global_max_pooling1d_4 (Glob (None, 64)                0         \n",
            "_________________________________________________________________\n",
            "dense_30 (Dense)             (None, 1)                 65        \n",
            "=================================================================\n",
            "Total params: 1,032,229\n",
            "Trainable params: 1,032,229\n",
            "Non-trainable params: 0\n",
            "_________________________________________________________________\n"
          ],
          "name": "stdout"
        }
      ]
    },
    {
      "cell_type": "code",
      "metadata": {
        "id": "DHhO9C0FOWh8",
        "outputId": "5832181e-88fb-40a1-ce50-332b14e75184",
        "colab": {
          "base_uri": "https://localhost:8080/"
        }
      },
      "source": [
        "model.compile(loss='binary_crossentropy',\n",
        "              optimizer='adam',\n",
        "              metrics=['accuracy'])\n",
        "from keras.callbacks import EarlyStopping\n",
        "callbacks_lst = [EarlyStopping(monitor='val_accuracy', mode='max')]\n",
        "# Training\n",
        "batch_size = 256\n",
        "epochs = 20\n",
        "print('Train...')\n",
        "history = model.fit(x_train, y_train,\n",
        "          batch_size=batch_size,\n",
        "          epochs=epochs,\n",
        "          validation_data=(x_val, y_val),\n",
        "          #validation_split=0.2,\n",
        "          callbacks=callbacks_lst)\n",
        "\n",
        "history_dict = history.history\n",
        "history_dict.keys()"
      ],
      "execution_count": null,
      "outputs": [
        {
          "output_type": "stream",
          "text": [
            "Train...\n",
            "Epoch 1/20\n",
            "59/59 [==============================] - 1s 24ms/step - loss: 0.6666 - accuracy: 0.6563 - val_loss: 0.5934 - val_accuracy: 0.7651\n",
            "Epoch 2/20\n",
            "59/59 [==============================] - 1s 23ms/step - loss: 0.4613 - accuracy: 0.8116 - val_loss: 0.4042 - val_accuracy: 0.8208\n",
            "Epoch 3/20\n",
            "59/59 [==============================] - 1s 23ms/step - loss: 0.2993 - accuracy: 0.8807 - val_loss: 0.3808 - val_accuracy: 0.8316\n",
            "Epoch 4/20\n",
            "59/59 [==============================] - 1s 23ms/step - loss: 0.2036 - accuracy: 0.9287 - val_loss: 0.3948 - val_accuracy: 0.8299\n"
          ],
          "name": "stdout"
        },
        {
          "output_type": "execute_result",
          "data": {
            "text/plain": [
              "dict_keys(['loss', 'accuracy', 'val_loss', 'val_accuracy'])"
            ]
          },
          "metadata": {
            "tags": []
          },
          "execution_count": 121
        }
      ]
    },
    {
      "cell_type": "code",
      "metadata": {
        "id": "ijrctlvn3GiA",
        "outputId": "d608fa09-fde0-45aa-fcbe-43bc1b3f05e8",
        "colab": {
          "base_uri": "https://localhost:8080/"
        }
      },
      "source": [
        "\n",
        "acc = history.history['accuracy']\n",
        "val_acc = history.history['val_accuracy']\n",
        "loss = history.history['loss']\n",
        "val_loss = history.history['val_loss']\n",
        "\n",
        "epochs = range(1, len(acc) + 1)\n",
        "\n",
        "# \"bo\" is for \"blue dot\"\n",
        "plt.plot(epochs, loss, 'bo', label='Training loss')\n",
        "# b is for \"solid blue line\"\n",
        "plt.plot(epochs, val_loss, 'b', label='Validation loss')\n",
        "plt.title('Training and validation loss')\n",
        "plt.xlabel('Epochs')\n",
        "plt.ylabel('Loss')\n",
        "plt.legend()\n",
        "\n",
        "plt.show()"
      ],
      "execution_count": null,
      "outputs": [
        {
          "output_type": "display_data",
          "data": {
            "image/png": "[encoded data removed]",
            "text/plain": [
              "<Figure size 432x288 with 1 Axes>"
            ]
          },
          "metadata": {
            "tags": [],
            "needs_background": "light"
          }
        }
      ]
    },
    {
      "cell_type": "code",
      "metadata": {
        "id": "A-obeJ3o3Hnd",
        "outputId": "c3f1e53e-8b97-40f4-a52e-9a1516cbd70c",
        "colab": {
          "base_uri": "https://localhost:8080/"
        }
      },
      "source": [
        "\n",
        "plt.clf()   # clear figure\n",
        "acc_values = history_dict['accuracy']\n",
        "val_acc_values = history_dict['val_accuracy']\n",
        "\n",
        "plt.plot(epochs, acc, 'bo', label='Training acc')\n",
        "plt.plot(epochs, val_acc, 'b', label='Validation acc')\n",
        "plt.title('Training and validation accuracy')\n",
        "plt.xlabel('Epochs')\n",
        "plt.ylabel('Loss')\n",
        "plt.legend()\n",
        "\n",
        "plt.show()"
      ],
      "execution_count": null,
      "outputs": [
        {
          "output_type": "display_data",
          "data": {
            "image/png": "[encoded data removed]",
            "text/plain": [
              "<Figure size 432x288 with 1 Axes>"
            ]
          },
          "metadata": {
            "tags": [],
            "needs_background": "light"
          }
        }
      ]
    },
    {
      "cell_type": "code",
      "metadata": {
        "id": "XZxk-HyoSIGN",
        "outputId": "4128919f-53de-4a80-bb73-c45c8a3742be",
        "colab": {
          "base_uri": "https://localhost:8080/"
        }
      },
      "source": [
        "from keras.models import Sequential\n",
        "from keras.layers import Dense, Dropout\n",
        "from keras.layers import Embedding, Activation\n",
        "from keras.layers import LSTM, Conv1D, MaxPooling1D, GlobalMaxPooling1D\n",
        "\n",
        "\n",
        "embedding_size = 128\n",
        "# Convolution\n",
        "kernel_size = 5\n",
        "filters = 64\n",
        "pool_size = 4\n",
        "\n",
        "\n",
        "model = Sequential()\n",
        "#model.add(Embedding(vocab_sz+1, embedding_size, mask_zero=True, input_length=maxlen)) No masking allowed for Conv1D\n",
        "#model.add(Embedding(vocab_sz+1, embedding_size, mask_zero=True, input_length=maxlen))\n",
        "model.add(Embedding(vocab_sz+1, embedding_size, input_length=maxlen))\n",
        "#model.add(Embedding(20000, embedding_size, input_length=100))\n",
        "model.add(Dropout(0.2))\n",
        "\n",
        "model.add(Conv1D(filters,\n",
        "                 kernel_size,\n",
        "                 padding='valid',\n",
        "                 activation='relu',\n",
        "                 strides=1))\n",
        "model.add(MaxPooling1D(pool_size=pool_size))\n",
        "\n",
        "model.add(LSTM(70))\n",
        "model.add(Dense(1, activation='sigmoid'))\n",
        "\n",
        "\n",
        "\n",
        "model.summary()\n"
      ],
      "execution_count": null,
      "outputs": [
        {
          "output_type": "stream",
          "text": [
            "Model: \"sequential_32\"\n",
            "_________________________________________________________________\n",
            "Layer (type)                 Output Shape              Param #   \n",
            "=================================================================\n",
            "embedding_32 (Embedding)     (None, 100, 128)          1280128   \n",
            "_________________________________________________________________\n",
            "dropout_15 (Dropout)         (None, 100, 128)          0         \n",
            "_________________________________________________________________\n",
            "conv1d_26 (Conv1D)           (None, 96, 64)            41024     \n",
            "_________________________________________________________________\n",
            "max_pooling1d_21 (MaxPooling (None, 24, 64)            0         \n",
            "_________________________________________________________________\n",
            "lstm_22 (LSTM)               (None, 70)                37800     \n",
            "_________________________________________________________________\n",
            "dense_31 (Dense)             (None, 1)                 71        \n",
            "=================================================================\n",
            "Total params: 1,359,023\n",
            "Trainable params: 1,359,023\n",
            "Non-trainable params: 0\n",
            "_________________________________________________________________\n"
          ],
          "name": "stdout"
        }
      ]
    },
    {
      "cell_type": "code",
      "metadata": {
        "id": "m_TdDlvSSY7G",
        "outputId": "3c1a5908-dd7b-43ec-9f1e-117247d9c123",
        "colab": {
          "base_uri": "https://localhost:8080/"
        }
      },
      "source": [
        "model.compile(loss='binary_crossentropy',\n",
        "              optimizer='adam',\n",
        "              metrics=['accuracy'])\n",
        "from keras.callbacks import EarlyStopping\n",
        "callbacks_lst = [EarlyStopping(monitor='val_acc', mode='max')]\n",
        "# Training\n",
        "batch_size = 256\n",
        "epochs = 20\n",
        "print('Train...')\n",
        "history = model.fit(x_train, y_train,\n",
        "          batch_size=batch_size,\n",
        "          epochs=epochs,\n",
        "          validation_data=(x_val, y_val),\n",
        "          #validation_split=0.2,\n",
        "          callbacks=callbacks_lst)\n",
        "\n",
        "history_dict = history.history\n",
        "history_dict.keys()"
      ],
      "execution_count": null,
      "outputs": [
        {
          "output_type": "stream",
          "text": [
            "Train...\n",
            "Epoch 1/20\n",
            "59/59 [==============================] - ETA: 0s - loss: 0.5870 - accuracy: 0.6679WARNING:tensorflow:Early stopping conditioned on metric `val_acc` which is not available. Available metrics are: loss,accuracy,val_loss,val_accuracy\n",
            "59/59 [==============================] - 2s 39ms/step - loss: 0.5870 - accuracy: 0.6679 - val_loss: 0.3803 - val_accuracy: 0.8347\n",
            "Epoch 2/20\n",
            "59/59 [==============================] - ETA: 0s - loss: 0.2795 - accuracy: 0.8894WARNING:tensorflow:Early stopping conditioned on metric `val_acc` which is not available. Available metrics are: loss,accuracy,val_loss,val_accuracy\n",
            "59/59 [==============================] - 2s 31ms/step - loss: 0.2795 - accuracy: 0.8894 - val_loss: 0.3352 - val_accuracy: 0.8570\n",
            "Epoch 3/20\n",
            "59/59 [==============================] - ETA: 0s - loss: 0.1746 - accuracy: 0.9413WARNING:tensorflow:Early stopping conditioned on metric `val_acc` which is not available. Available metrics are: loss,accuracy,val_loss,val_accuracy\n",
            "59/59 [==============================] - 2s 31ms/step - loss: 0.1746 - accuracy: 0.9413 - val_loss: 0.3779 - val_accuracy: 0.8499\n",
            "Epoch 4/20\n",
            "57/59 [===========================>..] - ETA: 0s - loss: 0.1163 - accuracy: 0.9644WARNING:tensorflow:Early stopping conditioned on metric `val_acc` which is not available. Available metrics are: loss,accuracy,val_loss,val_accuracy\n",
            "59/59 [==============================] - 2s 31ms/step - loss: 0.1164 - accuracy: 0.9642 - val_loss: 0.4888 - val_accuracy: 0.8387\n",
            "Epoch 5/20\n",
            "58/59 [============================>.] - ETA: 0s - loss: 0.0774 - accuracy: 0.9771WARNING:tensorflow:Early stopping conditioned on metric `val_acc` which is not available. Available metrics are: loss,accuracy,val_loss,val_accuracy\n",
            "59/59 [==============================] - 2s 29ms/step - loss: 0.0773 - accuracy: 0.9771 - val_loss: 0.5110 - val_accuracy: 0.8374\n",
            "Epoch 6/20\n",
            "58/59 [============================>.] - ETA: 0s - loss: 0.0492 - accuracy: 0.9877WARNING:tensorflow:Early stopping conditioned on metric `val_acc` which is not available. Available metrics are: loss,accuracy,val_loss,val_accuracy\n",
            "59/59 [==============================] - 2s 29ms/step - loss: 0.0492 - accuracy: 0.9878 - val_loss: 0.5994 - val_accuracy: 0.8331\n",
            "Epoch 7/20\n",
            "59/59 [==============================] - ETA: 0s - loss: 0.0450 - accuracy: 0.9881WARNING:tensorflow:Early stopping conditioned on metric `val_acc` which is not available. Available metrics are: loss,accuracy,val_loss,val_accuracy\n",
            "59/59 [==============================] - 2s 29ms/step - loss: 0.0450 - accuracy: 0.9881 - val_loss: 0.6102 - val_accuracy: 0.8307\n",
            "Epoch 8/20\n",
            "58/59 [============================>.] - ETA: 0s - loss: 0.0319 - accuracy: 0.9923WARNING:tensorflow:Early stopping conditioned on metric `val_acc` which is not available. Available metrics are: loss,accuracy,val_loss,val_accuracy\n",
            "59/59 [==============================] - 2s 29ms/step - loss: 0.0318 - accuracy: 0.9922 - val_loss: 0.7228 - val_accuracy: 0.8308\n",
            "Epoch 9/20\n",
            "58/59 [============================>.] - ETA: 0s - loss: 0.0249 - accuracy: 0.9943WARNING:tensorflow:Early stopping conditioned on metric `val_acc` which is not available. Available metrics are: loss,accuracy,val_loss,val_accuracy\n",
            "59/59 [==============================] - 2s 30ms/step - loss: 0.0247 - accuracy: 0.9943 - val_loss: 0.7279 - val_accuracy: 0.8275\n",
            "Epoch 10/20\n",
            "58/59 [============================>.] - ETA: 0s - loss: 0.0202 - accuracy: 0.9952WARNING:tensorflow:Early stopping conditioned on metric `val_acc` which is not available. Available metrics are: loss,accuracy,val_loss,val_accuracy\n",
            "59/59 [==============================] - 2s 29ms/step - loss: 0.0200 - accuracy: 0.9952 - val_loss: 0.7418 - val_accuracy: 0.8282\n",
            "Epoch 11/20\n",
            "59/59 [==============================] - ETA: 0s - loss: 0.0169 - accuracy: 0.9963WARNING:tensorflow:Early stopping conditioned on metric `val_acc` which is not available. Available metrics are: loss,accuracy,val_loss,val_accuracy\n",
            "59/59 [==============================] - 2s 29ms/step - loss: 0.0169 - accuracy: 0.9963 - val_loss: 0.8230 - val_accuracy: 0.8303\n",
            "Epoch 12/20\n",
            "58/59 [============================>.] - ETA: 0s - loss: 0.0131 - accuracy: 0.9972WARNING:tensorflow:Early stopping conditioned on metric `val_acc` which is not available. Available metrics are: loss,accuracy,val_loss,val_accuracy\n",
            "59/59 [==============================] - 2s 28ms/step - loss: 0.0131 - accuracy: 0.9971 - val_loss: 0.8675 - val_accuracy: 0.8279\n",
            "Epoch 13/20\n",
            "59/59 [==============================] - ETA: 0s - loss: 0.0236 - accuracy: 0.9935WARNING:tensorflow:Early stopping conditioned on metric `val_acc` which is not available. Available metrics are: loss,accuracy,val_loss,val_accuracy\n",
            "59/59 [==============================] - 2s 30ms/step - loss: 0.0236 - accuracy: 0.9935 - val_loss: 0.7510 - val_accuracy: 0.8281\n",
            "Epoch 14/20\n",
            "57/59 [===========================>..] - ETA: 0s - loss: 0.0134 - accuracy: 0.9964WARNING:tensorflow:Early stopping conditioned on metric `val_acc` which is not available. Available metrics are: loss,accuracy,val_loss,val_accuracy\n",
            "59/59 [==============================] - 2s 29ms/step - loss: 0.0137 - accuracy: 0.9963 - val_loss: 0.8096 - val_accuracy: 0.8317\n",
            "Epoch 15/20\n",
            "59/59 [==============================] - ETA: 0s - loss: 0.0116 - accuracy: 0.9971WARNING:tensorflow:Early stopping conditioned on metric `val_acc` which is not available. Available metrics are: loss,accuracy,val_loss,val_accuracy\n",
            "59/59 [==============================] - 2s 29ms/step - loss: 0.0116 - accuracy: 0.9971 - val_loss: 0.8368 - val_accuracy: 0.8313\n",
            "Epoch 16/20\n",
            "58/59 [============================>.] - ETA: 0s - loss: 0.0081 - accuracy: 0.9982WARNING:tensorflow:Early stopping conditioned on metric `val_acc` which is not available. Available metrics are: loss,accuracy,val_loss,val_accuracy\n",
            "59/59 [==============================] - 2s 29ms/step - loss: 0.0081 - accuracy: 0.9982 - val_loss: 0.8993 - val_accuracy: 0.8272\n",
            "Epoch 17/20\n",
            "57/59 [===========================>..] - ETA: 0s - loss: 0.0085 - accuracy: 0.9974WARNING:tensorflow:Early stopping conditioned on metric `val_acc` which is not available. Available metrics are: loss,accuracy,val_loss,val_accuracy\n",
            "59/59 [==============================] - 2s 30ms/step - loss: 0.0086 - accuracy: 0.9973 - val_loss: 0.8874 - val_accuracy: 0.8314\n",
            "Epoch 18/20\n",
            "58/59 [============================>.] - ETA: 0s - loss: 0.0074 - accuracy: 0.9982WARNING:tensorflow:Early stopping conditioned on metric `val_acc` which is not available. Available metrics are: loss,accuracy,val_loss,val_accuracy\n",
            "59/59 [==============================] - 2s 31ms/step - loss: 0.0073 - accuracy: 0.9983 - val_loss: 0.8920 - val_accuracy: 0.8336\n",
            "Epoch 19/20\n",
            "59/59 [==============================] - ETA: 0s - loss: 0.0063 - accuracy: 0.9988WARNING:tensorflow:Early stopping conditioned on metric `val_acc` which is not available. Available metrics are: loss,accuracy,val_loss,val_accuracy\n",
            "59/59 [==============================] - 2s 30ms/step - loss: 0.0063 - accuracy: 0.9988 - val_loss: 0.8983 - val_accuracy: 0.8311\n",
            "Epoch 20/20\n",
            "58/59 [============================>.] - ETA: 0s - loss: 0.0041 - accuracy: 0.9994WARNING:tensorflow:Early stopping conditioned on metric `val_acc` which is not available. Available metrics are: loss,accuracy,val_loss,val_accuracy\n",
            "59/59 [==============================] - 2s 30ms/step - loss: 0.0040 - accuracy: 0.9994 - val_loss: 1.1306 - val_accuracy: 0.8247\n"
          ],
          "name": "stdout"
        },
        {
          "output_type": "execute_result",
          "data": {
            "text/plain": [
              "dict_keys(['loss', 'accuracy', 'val_loss', 'val_accuracy'])"
            ]
          },
          "metadata": {
            "tags": []
          },
          "execution_count": 125
        }
      ]
    },
    {
      "cell_type": "markdown",
      "metadata": {
        "id": "8OCu8_-PusRS"
      },
      "source": [
        "Notice how the performance drops with maxlen=1428. Keep in mind that the 1428 is mostly an outlier length. This results in a lot of padded zeros. Introducing a CNN1D over this sparse input produces a lot of useless features. So it's better to focus on smaller length, say 100. But to do this, it needs to be done when padding. It's useless to try to do it using input_length of Embedding, since it doesn't prevent longer sequence from passing."
      ]
    }
  ]
}