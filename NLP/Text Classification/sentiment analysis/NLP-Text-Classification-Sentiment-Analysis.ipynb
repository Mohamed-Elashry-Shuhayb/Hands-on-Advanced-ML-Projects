{
 "cells": [
  {
   "cell_type": "markdown",
   "metadata": {},
   "source": [
    "## Get the Data"
   ]
  },
  {
   "cell_type": "code",
   "execution_count": 1,
   "metadata": {},
   "outputs": [],
   "source": [
    "import pandas as pd\n",
    "\n",
    "import matplotlib.pyplot as plt\n",
    "import seaborn as sns\n",
    "#%matplotlib inline\n",
    "from wordcloud import WordCloud, STOPWORDS\n",
    "import tweepy\n",
    "import re\n",
    "import twitterconfig as tc\n",
    "#from sklearn import datasets\n",
    "from nltk import ngrams"
   ]
  },
  {
   "cell_type": "code",
   "execution_count": 2,
   "metadata": {},
   "outputs": [],
   "source": [
    "#!pip install tweepy\n",
    "#!pip install wordcloud"
   ]
  },
  {
   "cell_type": "code",
   "execution_count": 3,
   "metadata": {},
   "outputs": [],
   "source": [
    "def remove_emoji(string):\n",
    "    emoji_pattern = re.compile(\"[\"\n",
    "                           u\"\\U0001F600-\\U0001F64F\"  # emoticons\n",
    "                           u\"\\U0001F300-\\U0001F5FF\"  # symbols & pictographs\n",
    "                           u\"\\U0001F680-\\U0001F6FF\"  # transport & map symbols\n",
    "                           u\"\\U0001F1E0-\\U0001F1FF\"  # flags (iOS)\n",
    "                           u\"\\U00002702-\\U000027B0\"\n",
    "                           u\"\\U000024C2-\\U0001F251\"\n",
    "                           \"]+\", flags=re.UNICODE)\n",
    "    return emoji_pattern.sub(r'', string)\n",
    "\n"
   ]
  },
  {
   "cell_type": "code",
   "execution_count": 4,
   "metadata": {},
   "outputs": [],
   "source": [
    "def remove_url(text):\n",
    "    return re.sub(r'http\\S+', '', text)"
   ]
  },
  {
   "cell_type": "code",
   "execution_count": 5,
   "metadata": {},
   "outputs": [
    {
     "data": {
      "text/plain": [
       "'this is to test  how to remove url '"
      ]
     },
     "execution_count": 5,
     "metadata": {},
     "output_type": "execute_result"
    }
   ],
   "source": [
    "remove_url('this is to test http://localhost:8888/notebooks/ how to remove url ')"
   ]
  },
  {
   "cell_type": "markdown",
   "metadata": {},
   "source": [
    "### To be able to download twitter data\n",
    "* Sign in to twitter and go to: https://developer.twitter.com/\n",
    "\n",
    "* After logging in to the portal, and going to \"Applications\", a new application can be created which will provide the needed data for communicating with Twitter API."
   ]
  },
  {
   "cell_type": "code",
   "execution_count": null,
   "metadata": {},
   "outputs": [],
   "source": [
    "import tweepy\n",
    "\n",
    "# Variables that contains the user credentials to access Twitter API \n",
    "ACCESS_TOKEN = tc.ACCESS_TOKEN\n",
    "ACCESS_TOKEN_SECRET = tc.ACCESS_TOKEN_SECRET \n",
    "CONSUMER_KEY = tc.CONSUMER_KEY \n",
    "CONSUMER_SECRET = tc.CONSUMER_SECRET\n",
    "\n",
    "auth = tweepy.OAuthHandler(CONSUMER_KEY, CONSUMER_SECRET)\n",
    "auth.set_access_token(ACCESS_TOKEN, ACCESS_TOKEN_SECRET)\n",
    "\n",
    "api = tweepy.API(auth,wait_on_rate_limit=True)\n",
    "        \n",
    "with open(\"test_twitter1.txt\", \"w\") as file:\n",
    "    # you ignore all retweets by adding -filter:retweets to your query.\n",
    "    for tweet_info in tweepy.Cursor(api.search, q='Python', lang = 'en', tweet_mode='extended').items(10):\n",
    "        #(not tweet.retweeted) and ('RT @' not in tweet.text)\n",
    "        if 'retweeted_status' in dir(tweet_info):\n",
    "            full_text = tweet_info.retweeted_status.full_text\n",
    "        else:\n",
    "            full_text = tweet_info.full_text\n",
    "\n",
    "        full_text = remove_emoji(full_text)\n",
    "        no_urls_no_tags = \" \".join([word for word in full_text.split()\n",
    "                                    if 'http' not in word\n",
    "                                        and not word.startswith('@')\n",
    "                                        and word != 'RT'\n",
    "                                    ])\n",
    "        # save the tweet to the file\n",
    "        file.write(no_urls_no_tags+\"\\n\")\n",
    "\n",
    "        print(tweet_info._json['user']['screen_name'],':',no_urls_no_tags)\n",
    "        print(no_urls_no_tags)\n",
    "        print('-----')\n",
    "   \n"
   ]
  },
  {
   "cell_type": "code",
   "execution_count": null,
   "metadata": {},
   "outputs": [],
   "source": [
    "with open('test_twitter1.txt') as f:\n",
    "    content = f.read()\n",
    "    \n",
    "wordcloud = WordCloud(\n",
    "                      #font_path='/Users/decimal/Library//R/3.2/library/rmarkdown/rmd/h/bootstrap-3.3.5/css/fonts/Roboto.ttf',\n",
    "                      stopwords=STOPWORDS,\n",
    "                      background_color='black',\n",
    "                      width=1800,\n",
    "                      height=1400\n",
    "                     ).generate(content)\n",
    "\n",
    "plt.imshow(wordcloud)\n",
    "plt.axis('off')\n",
    "plt.savefig('my_wordcloud_1.png', dpi=300)\n",
    "plt.show()"
   ]
  },
  {
   "cell_type": "markdown",
   "metadata": {},
   "source": [
    "### Read Data\n",
    "\n",
    "We'll use Pandas's **read_csv**, to load an already existing dataset\n"
   ]
  },
  {
   "cell_type": "code",
   "execution_count": 6,
   "metadata": {},
   "outputs": [],
   "source": [
    "df = pd.read_csv(r'testdata.manual.2009.06.14.csv',header=None, encoding=\"cp1252\")"
   ]
  },
  {
   "cell_type": "code",
   "execution_count": 7,
   "metadata": {},
   "outputs": [
    {
     "data": {
      "text/html": [
       "<div>\n",
       "<style scoped>\n",
       "    .dataframe tbody tr th:only-of-type {\n",
       "        vertical-align: middle;\n",
       "    }\n",
       "\n",
       "    .dataframe tbody tr th {\n",
       "        vertical-align: top;\n",
       "    }\n",
       "\n",
       "    .dataframe thead th {\n",
       "        text-align: right;\n",
       "    }\n",
       "</style>\n",
       "<table border=\"1\" class=\"dataframe\">\n",
       "  <thead>\n",
       "    <tr style=\"text-align: right;\">\n",
       "      <th></th>\n",
       "      <th>polarity</th>\n",
       "      <th>tweet ID</th>\n",
       "      <th>date</th>\n",
       "      <th>query</th>\n",
       "      <th>username</th>\n",
       "      <th>tweet</th>\n",
       "    </tr>\n",
       "  </thead>\n",
       "  <tbody>\n",
       "    <tr>\n",
       "      <th>0</th>\n",
       "      <td>4</td>\n",
       "      <td>3</td>\n",
       "      <td>Mon May 11 03:17:40 UTC 2009</td>\n",
       "      <td>kindle2</td>\n",
       "      <td>tpryan</td>\n",
       "      <td>@stellargirl I loooooooovvvvvveee my Kindle2. ...</td>\n",
       "    </tr>\n",
       "    <tr>\n",
       "      <th>1</th>\n",
       "      <td>4</td>\n",
       "      <td>4</td>\n",
       "      <td>Mon May 11 03:18:03 UTC 2009</td>\n",
       "      <td>kindle2</td>\n",
       "      <td>vcu451</td>\n",
       "      <td>Reading my kindle2...  Love it... Lee childs i...</td>\n",
       "    </tr>\n",
       "    <tr>\n",
       "      <th>2</th>\n",
       "      <td>4</td>\n",
       "      <td>5</td>\n",
       "      <td>Mon May 11 03:18:54 UTC 2009</td>\n",
       "      <td>kindle2</td>\n",
       "      <td>chadfu</td>\n",
       "      <td>Ok, first assesment of the #kindle2 ...it fuck...</td>\n",
       "    </tr>\n",
       "    <tr>\n",
       "      <th>3</th>\n",
       "      <td>4</td>\n",
       "      <td>6</td>\n",
       "      <td>Mon May 11 03:19:04 UTC 2009</td>\n",
       "      <td>kindle2</td>\n",
       "      <td>SIX15</td>\n",
       "      <td>@kenburbary You'll love your Kindle2. I've had...</td>\n",
       "    </tr>\n",
       "    <tr>\n",
       "      <th>4</th>\n",
       "      <td>4</td>\n",
       "      <td>7</td>\n",
       "      <td>Mon May 11 03:21:41 UTC 2009</td>\n",
       "      <td>kindle2</td>\n",
       "      <td>yamarama</td>\n",
       "      <td>@mikefish  Fair enough. But i have the Kindle2...</td>\n",
       "    </tr>\n",
       "  </tbody>\n",
       "</table>\n",
       "</div>"
      ],
      "text/plain": [
       "   polarity  tweet ID                          date    query  username  \\\n",
       "0         4         3  Mon May 11 03:17:40 UTC 2009  kindle2    tpryan   \n",
       "1         4         4  Mon May 11 03:18:03 UTC 2009  kindle2    vcu451   \n",
       "2         4         5  Mon May 11 03:18:54 UTC 2009  kindle2    chadfu   \n",
       "3         4         6  Mon May 11 03:19:04 UTC 2009  kindle2     SIX15   \n",
       "4         4         7  Mon May 11 03:21:41 UTC 2009  kindle2  yamarama   \n",
       "\n",
       "                                               tweet  \n",
       "0  @stellargirl I loooooooovvvvvveee my Kindle2. ...  \n",
       "1  Reading my kindle2...  Love it... Lee childs i...  \n",
       "2  Ok, first assesment of the #kindle2 ...it fuck...  \n",
       "3  @kenburbary You'll love your Kindle2. I've had...  \n",
       "4  @mikefish  Fair enough. But i have the Kindle2...  "
      ]
     },
     "execution_count": 7,
     "metadata": {},
     "output_type": "execute_result"
    }
   ],
   "source": [
    "# data does not have column names so let's provide them\n",
    "df.columns = ['polarity', 'tweet ID', 'date', 'query', 'username' , 'tweet']\n",
    "df.head()"
   ]
  },
  {
   "cell_type": "markdown",
   "metadata": {},
   "source": [
    "### We are interested in two columns only: 'tweet' and 'polarity'"
   ]
  },
  {
   "cell_type": "code",
   "execution_count": 8,
   "metadata": {},
   "outputs": [
    {
     "data": {
      "text/html": [
       "<div>\n",
       "<style scoped>\n",
       "    .dataframe tbody tr th:only-of-type {\n",
       "        vertical-align: middle;\n",
       "    }\n",
       "\n",
       "    .dataframe tbody tr th {\n",
       "        vertical-align: top;\n",
       "    }\n",
       "\n",
       "    .dataframe thead th {\n",
       "        text-align: right;\n",
       "    }\n",
       "</style>\n",
       "<table border=\"1\" class=\"dataframe\">\n",
       "  <thead>\n",
       "    <tr style=\"text-align: right;\">\n",
       "      <th></th>\n",
       "      <th>tweet</th>\n",
       "      <th>polarity</th>\n",
       "    </tr>\n",
       "  </thead>\n",
       "  <tbody>\n",
       "    <tr>\n",
       "      <th>0</th>\n",
       "      <td>@stellargirl I loooooooovvvvvveee my Kindle2. ...</td>\n",
       "      <td>4</td>\n",
       "    </tr>\n",
       "    <tr>\n",
       "      <th>1</th>\n",
       "      <td>Reading my kindle2...  Love it... Lee childs i...</td>\n",
       "      <td>4</td>\n",
       "    </tr>\n",
       "    <tr>\n",
       "      <th>2</th>\n",
       "      <td>Ok, first assesment of the #kindle2 ...it fuck...</td>\n",
       "      <td>4</td>\n",
       "    </tr>\n",
       "    <tr>\n",
       "      <th>3</th>\n",
       "      <td>@kenburbary You'll love your Kindle2. I've had...</td>\n",
       "      <td>4</td>\n",
       "    </tr>\n",
       "    <tr>\n",
       "      <th>4</th>\n",
       "      <td>@mikefish  Fair enough. But i have the Kindle2...</td>\n",
       "      <td>4</td>\n",
       "    </tr>\n",
       "  </tbody>\n",
       "</table>\n",
       "</div>"
      ],
      "text/plain": [
       "                                               tweet  polarity\n",
       "0  @stellargirl I loooooooovvvvvveee my Kindle2. ...         4\n",
       "1  Reading my kindle2...  Love it... Lee childs i...         4\n",
       "2  Ok, first assesment of the #kindle2 ...it fuck...         4\n",
       "3  @kenburbary You'll love your Kindle2. I've had...         4\n",
       "4  @mikefish  Fair enough. But i have the Kindle2...         4"
      ]
     },
     "execution_count": 8,
     "metadata": {},
     "output_type": "execute_result"
    }
   ],
   "source": [
    "df = df[['tweet','polarity']]\n",
    "df.head()"
   ]
  },
  {
   "cell_type": "code",
   "execution_count": 9,
   "metadata": {},
   "outputs": [],
   "source": [
    "## let's change column names for compatibility\n",
    "df.columns = ['Text', 'Category']"
   ]
  },
  {
   "cell_type": "markdown",
   "metadata": {},
   "source": [
    "## Exploratory Data Analysis"
   ]
  },
  {
   "cell_type": "code",
   "execution_count": 10,
   "metadata": {},
   "outputs": [
    {
     "data": {
      "text/html": [
       "<div>\n",
       "<style scoped>\n",
       "    .dataframe tbody tr th:only-of-type {\n",
       "        vertical-align: middle;\n",
       "    }\n",
       "\n",
       "    .dataframe tbody tr th {\n",
       "        vertical-align: top;\n",
       "    }\n",
       "\n",
       "    .dataframe thead th {\n",
       "        text-align: right;\n",
       "    }\n",
       "</style>\n",
       "<table border=\"1\" class=\"dataframe\">\n",
       "  <thead>\n",
       "    <tr style=\"text-align: right;\">\n",
       "      <th></th>\n",
       "      <th>Text</th>\n",
       "      <th>Category</th>\n",
       "    </tr>\n",
       "  </thead>\n",
       "  <tbody>\n",
       "    <tr>\n",
       "      <th>0</th>\n",
       "      <td>@stellargirl I loooooooovvvvvveee my Kindle2. ...</td>\n",
       "      <td>4</td>\n",
       "    </tr>\n",
       "    <tr>\n",
       "      <th>1</th>\n",
       "      <td>Reading my kindle2...  Love it... Lee childs i...</td>\n",
       "      <td>4</td>\n",
       "    </tr>\n",
       "    <tr>\n",
       "      <th>2</th>\n",
       "      <td>Ok, first assesment of the #kindle2 ...it fuck...</td>\n",
       "      <td>4</td>\n",
       "    </tr>\n",
       "    <tr>\n",
       "      <th>3</th>\n",
       "      <td>@kenburbary You'll love your Kindle2. I've had...</td>\n",
       "      <td>4</td>\n",
       "    </tr>\n",
       "    <tr>\n",
       "      <th>4</th>\n",
       "      <td>@mikefish  Fair enough. But i have the Kindle2...</td>\n",
       "      <td>4</td>\n",
       "    </tr>\n",
       "  </tbody>\n",
       "</table>\n",
       "</div>"
      ],
      "text/plain": [
       "                                                Text  Category\n",
       "0  @stellargirl I loooooooovvvvvveee my Kindle2. ...         4\n",
       "1  Reading my kindle2...  Love it... Lee childs i...         4\n",
       "2  Ok, first assesment of the #kindle2 ...it fuck...         4\n",
       "3  @kenburbary You'll love your Kindle2. I've had...         4\n",
       "4  @mikefish  Fair enough. But i have the Kindle2...         4"
      ]
     },
     "execution_count": 10,
     "metadata": {},
     "output_type": "execute_result"
    }
   ],
   "source": [
    "df.head()"
   ]
  },
  {
   "cell_type": "code",
   "execution_count": 11,
   "metadata": {},
   "outputs": [
    {
     "data": {
      "text/plain": [
       "4    182\n",
       "0    177\n",
       "2    139\n",
       "Name: Category, dtype: int64"
      ]
     },
     "execution_count": 11,
     "metadata": {},
     "output_type": "execute_result"
    }
   ],
   "source": [
    "df['Category'].value_counts()"
   ]
  },
  {
   "cell_type": "code",
   "execution_count": 12,
   "metadata": {},
   "outputs": [
    {
     "data": {
      "text/html": [
       "<div>\n",
       "<style scoped>\n",
       "    .dataframe tbody tr th:only-of-type {\n",
       "        vertical-align: middle;\n",
       "    }\n",
       "\n",
       "    .dataframe tbody tr th {\n",
       "        vertical-align: top;\n",
       "    }\n",
       "\n",
       "    .dataframe thead th {\n",
       "        text-align: right;\n",
       "    }\n",
       "</style>\n",
       "<table border=\"1\" class=\"dataframe\">\n",
       "  <thead>\n",
       "    <tr style=\"text-align: right;\">\n",
       "      <th></th>\n",
       "      <th>Category</th>\n",
       "    </tr>\n",
       "  </thead>\n",
       "  <tbody>\n",
       "    <tr>\n",
       "      <th>count</th>\n",
       "      <td>498.000000</td>\n",
       "    </tr>\n",
       "    <tr>\n",
       "      <th>mean</th>\n",
       "      <td>2.020080</td>\n",
       "    </tr>\n",
       "    <tr>\n",
       "      <th>std</th>\n",
       "      <td>1.699686</td>\n",
       "    </tr>\n",
       "    <tr>\n",
       "      <th>min</th>\n",
       "      <td>0.000000</td>\n",
       "    </tr>\n",
       "    <tr>\n",
       "      <th>25%</th>\n",
       "      <td>0.000000</td>\n",
       "    </tr>\n",
       "    <tr>\n",
       "      <th>50%</th>\n",
       "      <td>2.000000</td>\n",
       "    </tr>\n",
       "    <tr>\n",
       "      <th>75%</th>\n",
       "      <td>4.000000</td>\n",
       "    </tr>\n",
       "    <tr>\n",
       "      <th>max</th>\n",
       "      <td>4.000000</td>\n",
       "    </tr>\n",
       "  </tbody>\n",
       "</table>\n",
       "</div>"
      ],
      "text/plain": [
       "         Category\n",
       "count  498.000000\n",
       "mean     2.020080\n",
       "std      1.699686\n",
       "min      0.000000\n",
       "25%      0.000000\n",
       "50%      2.000000\n",
       "75%      4.000000\n",
       "max      4.000000"
      ]
     },
     "execution_count": 12,
     "metadata": {},
     "output_type": "execute_result"
    }
   ],
   "source": [
    "df.describe()"
   ]
  },
  {
   "cell_type": "markdown",
   "metadata": {},
   "source": [
    "Let's use **groupby** to use describe by label, this way we can begin to think about the features that separate different categories"
   ]
  },
  {
   "cell_type": "code",
   "execution_count": 13,
   "metadata": {},
   "outputs": [
    {
     "data": {
      "text/html": [
       "<div>\n",
       "<style scoped>\n",
       "    .dataframe tbody tr th:only-of-type {\n",
       "        vertical-align: middle;\n",
       "    }\n",
       "\n",
       "    .dataframe tbody tr th {\n",
       "        vertical-align: top;\n",
       "    }\n",
       "\n",
       "    .dataframe thead tr th {\n",
       "        text-align: left;\n",
       "    }\n",
       "\n",
       "    .dataframe thead tr:last-of-type th {\n",
       "        text-align: right;\n",
       "    }\n",
       "</style>\n",
       "<table border=\"1\" class=\"dataframe\">\n",
       "  <thead>\n",
       "    <tr>\n",
       "      <th></th>\n",
       "      <th colspan=\"4\" halign=\"left\">Text</th>\n",
       "    </tr>\n",
       "    <tr>\n",
       "      <th></th>\n",
       "      <th>count</th>\n",
       "      <th>unique</th>\n",
       "      <th>top</th>\n",
       "      <th>freq</th>\n",
       "    </tr>\n",
       "    <tr>\n",
       "      <th>Category</th>\n",
       "      <th></th>\n",
       "      <th></th>\n",
       "      <th></th>\n",
       "      <th></th>\n",
       "    </tr>\n",
       "  </thead>\n",
       "  <tbody>\n",
       "    <tr>\n",
       "      <th>0</th>\n",
       "      <td>177</td>\n",
       "      <td>177</td>\n",
       "      <td>RT @sportsguy33 The upside to Time Warner: unh...</td>\n",
       "      <td>1</td>\n",
       "    </tr>\n",
       "    <tr>\n",
       "      <th>2</th>\n",
       "      <td>139</td>\n",
       "      <td>139</td>\n",
       "      <td>Google Wave Developer Sandbox Account Request ...</td>\n",
       "      <td>1</td>\n",
       "    </tr>\n",
       "    <tr>\n",
       "      <th>4</th>\n",
       "      <td>182</td>\n",
       "      <td>182</td>\n",
       "      <td>Obama's speech was pretty awesome last night! ...</td>\n",
       "      <td>1</td>\n",
       "    </tr>\n",
       "  </tbody>\n",
       "</table>\n",
       "</div>"
      ],
      "text/plain": [
       "          Text                                                               \n",
       "         count unique                                                top freq\n",
       "Category                                                                     \n",
       "0          177    177  RT @sportsguy33 The upside to Time Warner: unh...    1\n",
       "2          139    139  Google Wave Developer Sandbox Account Request ...    1\n",
       "4          182    182  Obama's speech was pretty awesome last night! ...    1"
      ]
     },
     "execution_count": 13,
     "metadata": {},
     "output_type": "execute_result"
    }
   ],
   "source": [
    "df.groupby('Category').describe()"
   ]
  },
  {
   "cell_type": "markdown",
   "metadata": {},
   "source": [
    "As we continue our analysis we want to start thinking about the features we are going to be using. This goes along with the general idea of [feature engineering](https://en.wikipedia.org/wiki/Feature_engineering). The better your domain knowledge on the data, the better your ability to engineer more features from it. Feature engineering is a very large part of text classification in general. I encourage you to read up on the topic!\n",
    "\n",
    "Let's make a new column to detect how long each text entry is!"
   ]
  },
  {
   "cell_type": "code",
   "execution_count": 14,
   "metadata": {},
   "outputs": [
    {
     "data": {
      "text/html": [
       "<div>\n",
       "<style scoped>\n",
       "    .dataframe tbody tr th:only-of-type {\n",
       "        vertical-align: middle;\n",
       "    }\n",
       "\n",
       "    .dataframe tbody tr th {\n",
       "        vertical-align: top;\n",
       "    }\n",
       "\n",
       "    .dataframe thead th {\n",
       "        text-align: right;\n",
       "    }\n",
       "</style>\n",
       "<table border=\"1\" class=\"dataframe\">\n",
       "  <thead>\n",
       "    <tr style=\"text-align: right;\">\n",
       "      <th></th>\n",
       "      <th>Text</th>\n",
       "      <th>Category</th>\n",
       "      <th>length</th>\n",
       "    </tr>\n",
       "  </thead>\n",
       "  <tbody>\n",
       "    <tr>\n",
       "      <th>0</th>\n",
       "      <td>@stellargirl I loooooooovvvvvveee my Kindle2. ...</td>\n",
       "      <td>4</td>\n",
       "      <td>111</td>\n",
       "    </tr>\n",
       "    <tr>\n",
       "      <th>1</th>\n",
       "      <td>Reading my kindle2...  Love it... Lee childs i...</td>\n",
       "      <td>4</td>\n",
       "      <td>58</td>\n",
       "    </tr>\n",
       "    <tr>\n",
       "      <th>2</th>\n",
       "      <td>Ok, first assesment of the #kindle2 ...it fuck...</td>\n",
       "      <td>4</td>\n",
       "      <td>58</td>\n",
       "    </tr>\n",
       "    <tr>\n",
       "      <th>3</th>\n",
       "      <td>@kenburbary You'll love your Kindle2. I've had...</td>\n",
       "      <td>4</td>\n",
       "      <td>140</td>\n",
       "    </tr>\n",
       "    <tr>\n",
       "      <th>4</th>\n",
       "      <td>@mikefish  Fair enough. But i have the Kindle2...</td>\n",
       "      <td>4</td>\n",
       "      <td>75</td>\n",
       "    </tr>\n",
       "  </tbody>\n",
       "</table>\n",
       "</div>"
      ],
      "text/plain": [
       "                                                Text  Category  length\n",
       "0  @stellargirl I loooooooovvvvvveee my Kindle2. ...         4     111\n",
       "1  Reading my kindle2...  Love it... Lee childs i...         4      58\n",
       "2  Ok, first assesment of the #kindle2 ...it fuck...         4      58\n",
       "3  @kenburbary You'll love your Kindle2. I've had...         4     140\n",
       "4  @mikefish  Fair enough. But i have the Kindle2...         4      75"
      ]
     },
     "execution_count": 14,
     "metadata": {},
     "output_type": "execute_result"
    }
   ],
   "source": [
    "# length here is the number of chars\n",
    "df['length'] = df['Text'].apply(len)\n",
    "df.head()"
   ]
  },
  {
   "cell_type": "code",
   "execution_count": 15,
   "metadata": {},
   "outputs": [
    {
     "data": {
      "text/plain": [
       "\"I'm moving to East Palo Alto!\""
      ]
     },
     "execution_count": 15,
     "metadata": {},
     "output_type": "execute_result"
    }
   ],
   "source": [
    "df['Text'][321]"
   ]
  },
  {
   "cell_type": "markdown",
   "metadata": {},
   "source": [
    "### Some Data Visualization"
   ]
  },
  {
   "cell_type": "code",
   "execution_count": 16,
   "metadata": {},
   "outputs": [
    {
     "name": "stderr",
     "output_type": "stream",
     "text": [
      "C:\\Users\\decim\\Anaconda3\\lib\\site-packages\\seaborn\\_decorators.py:36: FutureWarning: Pass the following variables as keyword args: x, y. From version 0.12, the only valid positional argument will be `data`, and passing other arguments without an explicit keyword will result in an error or misinterpretation.\n",
      "  warnings.warn(\n"
     ]
    },
    {
     "data": {
      "image/png": "[encoded data removed]",
      "text/plain": [
       "<Figure size 576x288 with 1 Axes>"
      ]
     },
     "metadata": {
      "needs_background": "light"
     },
     "output_type": "display_data"
    }
   ],
   "source": [
    "# Are the classes balanced?\n",
    "count_target = df['Category'].value_counts()\n",
    "\n",
    "plt.figure(figsize=(8,4))\n",
    "sns.barplot(count_target.index, count_target.values, alpha=0.8)\n",
    "plt.ylabel('Number of Occurrences', fontsize=12)\n",
    "plt.xlabel('Category', fontsize=12);"
   ]
  },
  {
   "cell_type": "code",
   "execution_count": 17,
   "metadata": {},
   "outputs": [
    {
     "data": {
      "image/png": "[encoded data removed]",
      "text/plain": [
       "<Figure size 432x288 with 1 Axes>"
      ]
     },
     "metadata": {
      "needs_background": "light"
     },
     "output_type": "display_data"
    }
   ],
   "source": [
    "df['length'].plot(bins=5, kind='hist');"
   ]
  },
  {
   "cell_type": "markdown",
   "metadata": {},
   "source": [
    "Play around with the bin size! Looks like text length may be a good feature to think about!"
   ]
  },
  {
   "cell_type": "code",
   "execution_count": 18,
   "metadata": {},
   "outputs": [
    {
     "data": {
      "text/plain": [
       "count    498.000000\n",
       "mean      80.411647\n",
       "std       35.790319\n",
       "min       11.000000\n",
       "25%       53.250000\n",
       "50%       75.000000\n",
       "75%      108.000000\n",
       "max      144.000000\n",
       "Name: length, dtype: float64"
      ]
     },
     "execution_count": 18,
     "metadata": {},
     "output_type": "execute_result"
    }
   ],
   "source": [
    "df.length.describe()"
   ]
  },
  {
   "cell_type": "code",
   "execution_count": 19,
   "metadata": {},
   "outputs": [
    {
     "data": {
      "image/png": "[encoded data removed]",
      "text/plain": [
       "<Figure size 864x360 with 4 Axes>"
      ]
     },
     "metadata": {
      "needs_background": "light"
     },
     "output_type": "display_data"
    }
   ],
   "source": [
    "df.hist(column='length', by='Category', bins=20,figsize=(12,5));"
   ]
  },
  {
   "cell_type": "markdown",
   "metadata": {},
   "source": [
    "## Text Pre-processing"
   ]
  },
  {
   "cell_type": "markdown",
   "metadata": {},
   "source": [
    "The main issue with our data is that it is all in text format (strings). To be able to use classification algorithms we will need some sort of numerical feature vector in order to perform the classification tasks. There are actually many methods to convert a corpus to a vector format. The simplest is the the [bag-of-words](http://en.wikipedia.org/wiki/Bag-of-words_model) approach, where each unique word in a text will be represented by one number.\n",
    "\n",
    "\n",
    "** In this section we'll convert the raw text (sequence of characters) into vectors (sequences of numbers) **\n",
    "\n",
    "As a first step, let us write a function that splits a text line (i.e. a file or tweet) into its individual words and returns a list. We will also remove very common words, ('the', 'a', etc..). To do this we will take advantage of a text file that contains a list of very common words (i.e. stopwords).\n",
    "\n",
    "In addition we will perform two steps: text stemming and ngram tokenisation which are common techniques in text preprocessing.\n",
    "\n",
    "Let's create a function that will process the string in the **Text** column, then we can just use **apply()** in pandas to process all the text in the DataFrame."
   ]
  },
  {
   "cell_type": "markdown",
   "metadata": {},
   "source": [
    "### To Remove Stopwords \n",
    "* Here we prepare a list of stopwords\n",
    "* We import a list of english stopwords from a text file\n",
    "* We later remove these words from the input text"
   ]
  },
  {
   "cell_type": "code",
   "execution_count": 21,
   "metadata": {},
   "outputs": [],
   "source": [
    "my_stopwords = []\n",
    "with open(r'stopwords_en.txt') as f:\n",
    "    my_stopwords = f.read().splitlines()"
   ]
  },
  {
   "cell_type": "markdown",
   "metadata": {},
   "source": [
    "### NGram Tokenisation\n",
    "Now let's write a function to \"tokenise\" the text lines (i.e. files). Tokenisation is the term used to describe the process of converting the normal text strings in to a list of tokens (words or sentences that we actually want).\n",
    "\n",
    "* Here we apply ngram tokenisation\n",
    "* This function receives a text list where each element is a string in a text\n",
    "* e.g. ['take', 'a', 'string', 'text']\n",
    "* Also the number of tokens n .. default is 3\n",
    "* It returns the tokenised string as a list of tokens .. e.g. ['take a string', 'a string text']"
   ]
  },
  {
   "cell_type": "code",
   "execution_count": 22,
   "metadata": {},
   "outputs": [],
   "source": [
    "def ngram_vectoriser(text_list, n=3):\n",
    "    ngram_feature_vector = []\n",
    "    for item in ngrams(text_list, n):\n",
    "        ngram_feature_vector.append(' '.join(item))\n",
    "    return ngram_feature_vector"
   ]
  },
  {
   "cell_type": "markdown",
   "metadata": {},
   "source": [
    "### You can also use NLTK\n",
    "\n",
    "* from nltk.tokenize import word_tokenize\n",
    "\n",
    "* from nltk.corpus import stopwords "
   ]
  },
  {
   "cell_type": "markdown",
   "metadata": {},
   "source": [
    "### Negation Handling"
   ]
  },
  {
   "cell_type": "code",
   "execution_count": 23,
   "metadata": {},
   "outputs": [],
   "source": [
    "import re\n",
    "\n",
    "negations_dic = {\"isn't\":\"is not\", \"aren't\":\"are not\", \"wasn't\":\"was not\", \"weren't\":\"were not\",\n",
    "                \"haven't\":\"have not\",\"hasn't\":\"has not\",\"hadn't\":\"had not\",\"won't\":\"will not\",\n",
    "                \"wouldn't\":\"would not\", \"don't\":\"do not\", \"doesn't\":\"does not\",\"didn't\":\"did not\",\n",
    "                \"can't\":\"can not\",\"couldn't\":\"could not\",\"shouldn't\":\"should not\",\"mightn't\":\"might not\",\n",
    "                \"mustn't\":\"must not\"}\n",
    "neg_pattern = re.compile(r'\\b(' + '|'.join(negations_dic.keys()) + r')\\b')\n",
    "\n",
    "def handle_negation(text):\n",
    "    neg_handled = neg_pattern.sub(lambda x: negations_dic[x.group()], text)\n",
    "    return neg_handled"
   ]
  },
  {
   "cell_type": "markdown",
   "metadata": {},
   "source": [
    "## Now let's write a Function to Prepare Text\n",
    "We will apply it to our DataFrame later on\n",
    "### This function receives a text string and performs the following:\n",
    "* Convert text to lower case\n",
    "* Remove emojis\n",
    "* Remove URLs\n",
    "* Handle negation\n",
    "* Remove punctuation marks\n",
    "* Remove stop words using the list we prepared previously\n",
    "* Apply stemming using the popular Snowball or Porter Stemmer\n",
    "* Apply NGram Tokenisation\n",
    "* Return the tokenised text as a list"
   ]
  },
  {
   "cell_type": "code",
   "execution_count": 26,
   "metadata": {},
   "outputs": [],
   "source": [
    "from nltk.stem.snowball import SnowballStemmer\n",
    "from nltk.stem import PorterStemmer\n",
    "\n",
    "#stemmer = SnowballStemmer(\"english\", ignore_stopwords=True)\n",
    "stemmer = PorterStemmer()\n",
    "\n",
    "import string\n",
    "def process_text(text):\n",
    "    \"\"\"\n",
    "    Takes in a string of text, then performs the following:\n",
    "    1. Convert text to lower case \n",
    "    2. remove all punctuation\n",
    "    3. Remove emojis \n",
    "    4. remove URLs\n",
    "    5. Handle Negation\n",
    "    6. Remove all stopwords\n",
    "    7. Apply Stemming\n",
    "    8. Apply Ngram Tokenisation\n",
    "    9. Returns the tokenised text as a list\n",
    "    \"\"\"\n",
    "    # 1\n",
    "    text = text.lower()\n",
    "    # 2\n",
    "    text = remove_emoji(text)\n",
    "    # 3 \n",
    "    text = remove_url(text)\n",
    "    # 4 \n",
    "    text = handle_negation(text)\n",
    "    # 5 \n",
    "    # Check characters to see if they are in punctuation\n",
    "    nopunc = [char for char in text if char not in string.punctuation]\n",
    "    # Join the characters again to form the string.\n",
    "    nopunc = ''.join(nopunc)\n",
    "    # 6\n",
    "    # Now just remove any stopwords\n",
    "    no_stop_words = [word for word in nopunc.split() if word.lower() not in my_stopwords]\n",
    "    # 7 \n",
    "    # apply stemming\n",
    "    stemmed = [stemmer.stem(word) for word in no_stop_words]\n",
    "    # 8 \n",
    "    #apply ngram tokenisation\n",
    "    tokenised = ngram_vectoriser(stemmed,2)\n",
    "    # 9\n",
    "    return tokenised"
   ]
  },
  {
   "cell_type": "code",
   "execution_count": 27,
   "metadata": {},
   "outputs": [
    {
     "data": {
      "text/plain": [
       "['convert text',\n",
       " 'text repres',\n",
       " 'repres list',\n",
       " 'list token',\n",
       " 'token lemma',\n",
       " 'lemma vector',\n",
       " 'vector machin',\n",
       " 'machin learn',\n",
       " 'learn model',\n",
       " 'model understand']"
      ]
     },
     "execution_count": 27,
     "metadata": {},
     "output_type": "execute_result"
    }
   ],
   "source": [
    "process_text('Now well convert each text, represented as a list of tokens (lemmas) above, into a vector that machine learning models can understand.')"
   ]
  },
  {
   "cell_type": "code",
   "execution_count": 28,
   "metadata": {},
   "outputs": [
    {
     "data": {
      "text/plain": [
       "'@switchfoot  - Awww'"
      ]
     },
     "execution_count": 28,
     "metadata": {},
     "output_type": "execute_result"
    }
   ],
   "source": [
    "remove_url('@switchfoot http://twitpic.com/2y1zl - Awww')"
   ]
  },
  {
   "cell_type": "markdown",
   "metadata": {},
   "source": [
    "Here is the original DataFrame again:"
   ]
  },
  {
   "cell_type": "code",
   "execution_count": 29,
   "metadata": {},
   "outputs": [
    {
     "data": {
      "text/html": [
       "<div>\n",
       "<style scoped>\n",
       "    .dataframe tbody tr th:only-of-type {\n",
       "        vertical-align: middle;\n",
       "    }\n",
       "\n",
       "    .dataframe tbody tr th {\n",
       "        vertical-align: top;\n",
       "    }\n",
       "\n",
       "    .dataframe thead th {\n",
       "        text-align: right;\n",
       "    }\n",
       "</style>\n",
       "<table border=\"1\" class=\"dataframe\">\n",
       "  <thead>\n",
       "    <tr style=\"text-align: right;\">\n",
       "      <th></th>\n",
       "      <th>Text</th>\n",
       "      <th>Category</th>\n",
       "      <th>length</th>\n",
       "    </tr>\n",
       "  </thead>\n",
       "  <tbody>\n",
       "    <tr>\n",
       "      <th>0</th>\n",
       "      <td>@stellargirl I loooooooovvvvvveee my Kindle2. ...</td>\n",
       "      <td>4</td>\n",
       "      <td>111</td>\n",
       "    </tr>\n",
       "    <tr>\n",
       "      <th>1</th>\n",
       "      <td>Reading my kindle2...  Love it... Lee childs i...</td>\n",
       "      <td>4</td>\n",
       "      <td>58</td>\n",
       "    </tr>\n",
       "    <tr>\n",
       "      <th>2</th>\n",
       "      <td>Ok, first assesment of the #kindle2 ...it fuck...</td>\n",
       "      <td>4</td>\n",
       "      <td>58</td>\n",
       "    </tr>\n",
       "    <tr>\n",
       "      <th>3</th>\n",
       "      <td>@kenburbary You'll love your Kindle2. I've had...</td>\n",
       "      <td>4</td>\n",
       "      <td>140</td>\n",
       "    </tr>\n",
       "    <tr>\n",
       "      <th>4</th>\n",
       "      <td>@mikefish  Fair enough. But i have the Kindle2...</td>\n",
       "      <td>4</td>\n",
       "      <td>75</td>\n",
       "    </tr>\n",
       "  </tbody>\n",
       "</table>\n",
       "</div>"
      ],
      "text/plain": [
       "                                                Text  Category  length\n",
       "0  @stellargirl I loooooooovvvvvveee my Kindle2. ...         4     111\n",
       "1  Reading my kindle2...  Love it... Lee childs i...         4      58\n",
       "2  Ok, first assesment of the #kindle2 ...it fuck...         4      58\n",
       "3  @kenburbary You'll love your Kindle2. I've had...         4     140\n",
       "4  @mikefish  Fair enough. But i have the Kindle2...         4      75"
      ]
     },
     "execution_count": 29,
     "metadata": {},
     "output_type": "execute_result"
    }
   ],
   "source": [
    "df.head()"
   ]
  },
  {
   "cell_type": "code",
   "execution_count": 30,
   "metadata": {},
   "outputs": [
    {
     "data": {
      "text/plain": [
       "0    [stellargirl loooooooovvvvvvee, loooooooovvvvv...\n",
       "1    [read kindle2, kindle2 love, love lee, lee chi...\n",
       "2    [ok asses, asses kindle2, kindle2 fuck, fuck r...\n",
       "3    [kenburbari youll, youll love, love kindle2, k...\n",
       "4    [mikefish fair, fair kindle2, kindle2 think, t...\n",
       "Name: Text, dtype: object"
      ]
     },
     "execution_count": 30,
     "metadata": {},
     "output_type": "execute_result"
    }
   ],
   "source": [
    "# Check to make sure its working\n",
    "df['Text'].head(5).apply(process_text)"
   ]
  },
  {
   "cell_type": "markdown",
   "metadata": {},
   "source": [
    "## Vectorization"
   ]
  },
  {
   "cell_type": "markdown",
   "metadata": {},
   "source": [
    "Currently, we have the text file contents as lists of tokens (also known as [lemmas](http://nlp.stanford.edu/IR-book/html/htmledition/stemming-and-lemmatization-1.html)) and now we need to convert each of those texts into a vector the SciKit Learn's algorithm models can work with.\n",
    "\n",
    "Now we'll convert each text, represented as a list of tokens (lemmas) above, into a vector that machine learning models can understand.\n",
    "\n",
    "We'll do that in three steps using the bag-of-words model:\n",
    "\n",
    "1. Count how many times does a word occur in each text (Known as term frequency)\n",
    "\n",
    "2. Weigh the counts, so that frequent tokens get lower weight (inverse document frequency)\n",
    "\n",
    "3. Normalize the vectors to unit length, to abstract from the original text length (L2 norm)\n",
    "\n",
    "Let's begin the first step:"
   ]
  },
  {
   "cell_type": "markdown",
   "metadata": {},
   "source": [
    "Each vector will have as many dimensions as there are unique words in the text file corpus.  We will first use SciKit Learn's **CountVectorizer**. This model will convert a collection of text documents to a matrix of token counts.\n",
    "\n",
    "We can imagine this as a 2-Dimensional matrix. Where the 2nd-dimension is the entire vocabulary (1 column per word) and the other dimension will have the actual documents, in this case a row per text. \n",
    "\n",
    "For example:\n",
    "\n",
    "<table border = “1“>\n",
    "<tr>\n",
    "<th></th> <th>Word 1 Count</th> <th>Word 2 Count</th> <th>...</th> <th>Word M Count</th> \n",
    "</tr>\n",
    "<tr>\n",
    "<td><b>File 1</b></td><td>0</td><td>1</td><td>...</td><td>0</td>\n",
    "</tr>\n",
    "<tr>\n",
    "<td><b>File 2</b></td><td>0</td><td>0</td><td>...</td><td>0</td>\n",
    "</tr>\n",
    "<tr>\n",
    "<td><b>...</b></td> <td>1</td><td>2</td><td>...</td><td>0</td>\n",
    "</tr>\n",
    "<tr>\n",
    "<td><b>File N</b></td> <td>0</td><td>1</td><td>...</td><td>1</td>\n",
    "</tr>\n",
    "</table>\n",
    "\n",
    "\n",
    "Since there are so many text files and words, we can expect a lot of zero counts for the presence of that word in that document. Because of this, SciKit Learn will output a [Sparse Matrix](https://en.wikipedia.org/wiki/Sparse_matrix)."
   ]
  },
  {
   "cell_type": "code",
   "execution_count": 31,
   "metadata": {},
   "outputs": [],
   "source": [
    "from sklearn.feature_extraction.text import CountVectorizer"
   ]
  },
  {
   "cell_type": "markdown",
   "metadata": {},
   "source": [
    "There are a lot of arguments and parameters that can be passed to the CountVectorizer. In this case we will just specify the **analyzer** to be our own previously defined function:"
   ]
  },
  {
   "cell_type": "code",
   "execution_count": 33,
   "metadata": {},
   "outputs": [
    {
     "name": "stdout",
     "output_type": "stream",
     "text": [
      "3096\n",
      "{'stellargirl loooooooovvvvvvee': 2561, 'loooooooovvvvvvee kindle2': 1671, 'kindle2 dx': 1516, 'dx cool': 783, 'cool 2': 590, '2 fantast': 21, 'fantast right': 873, 'read kindle2': 2207, 'kindle2 love': 1519, 'love lee': 1694, 'lee child': 1597, 'child good': 504, 'good read': 1077, 'ok asses': 2006, 'asses kindle2': 209, 'kindle2 fuck': 1517, 'fuck rock': 972, 'kenburbari youll': 1500, 'youll love': 3086, 'love kindle2': 1691, 'kindle2 ive': 1518, 'ive month': 1420, 'month look': 1807, 'look new': 1666, 'new big': 1885, 'big huge': 311, 'huge need': 1296, 'need remors': 1875, 'mikefish fair': 1786, 'fair kindle2': 867, 'kindle2 think': 1523, 'think perfect': 2684, 'richardebak big': 2274, 'big im': 313, 'im quit': 1333, 'quit happi': 2194, 'happi kindle2': 1184, 'fuck economi': 969, 'economi hate': 801, 'hate aig': 1192, 'aig non': 113, 'non loan': 1954, 'loan given': 1644, 'given ass': 1011, 'jqueri new': 1451, 'new best': 1884, 'best friend': 298, 'love twitter': 1704, 'love obama': 1702, 'obama make': 1979, 'make joke': 1728, 'check video': 494, 'video presid': 2870, 'presid obama': 2152, 'obama white': 1985, 'white hous': 2995, 'hous correspond': 1287, 'correspond dinner': 594, 'karoli firmli': 1497, 'firmli believ': 914, 'believ obamapelosi': 292, 'obamapelosi zero': 1988, 'zero desir': 3092, 'desir civil': 707, 'civil charad': 521, 'charad slogan': 483, 'slogan want': 2481, 'want destroy': 2899, 'destroy conservat': 709, 'dinner night': 734, 'night whoopi': 1927, 'whoopi barbara': 2998, 'barbara amp': 264, 'amp sherri': 151, 'sherri went': 2423, 'went obama': 2988, 'obama got': 1978, 'got stand': 1119, 'stand ovat': 2537, 'watchin espnju': 2957, 'espnju seen': 826, 'seen new': 2393, 'new nike': 1896, 'nike commer': 1932, 'commer puppet': 563, 'puppet lebronsht': 2186, 'lebronsht hilariouslmao': 1595, 'dear nike': 681, 'nike stop': 1945, 'stop flywir': 2571, 'flywir shit': 931, 'shit wast': 2429, 'wast scienc': 2942, 'scienc ugli': 2372, 'ugli love': 2820, 'love vincentx24x': 1705, 'lebron best': 1581, 'best athlet': 295, 'athlet gener': 226, 'gener time': 997, 'time basketbal': 2695, 'basketbal relat': 276, 'relat want': 2254, 'want intersport': 2901, 'intersport debat': 1385, 'debat 12': 684, 'talk guy': 2630, 'guy night': 1172, 'night tell': 1925, 'tell die': 2642, 'die hard': 728, 'hard spur': 1189, 'spur fan': 2533, 'fan told': 872, 'told hate': 2733, 'hate lebron': 1202, 'lebron jame': 1586, 'love lebron': 1693, 'ludajuic lebron': 1713, 'lebron beast': 1580, 'beast im': 285, 'im cheer': 1324, 'cheer 4': 495, '4 atil': 45, 'atil end': 227, 'pmillzz lebron': 2129, 'lebron boss': 1582, 'sketchbug lebron': 2466, 'lebron hometown': 1585, 'hometown hero': 1274, 'hero lol': 1240, 'lol love': 1650, 'love laker': 1692, 'laker let': 1548, 'let cav': 1602, 'cav lol': 474, 'lebron zydruna': 1594, 'zydruna awesom': 3095, 'awesom duo': 241, 'wordwhizkid lebron': 3027, 'beast nba': 286, 'nba come': 1862, 'come close': 554, 'download app': 760, 'app iphon': 183, 'iphon fun': 1400, 'fun liter': 978, 'liter app': 1638, 'app just': 184, 'good news': 1073, 'news just': 1908, 'just visa': 1492, 'visa offic': 2879, 'offic say': 1996, 'say finewhat': 2357, 'finewhat relief': 911, 'relief sick': 2255, 'sick scam': 2449, 'scam steal': 2364, 'awesom come': 240, 'come biz': 552, 'biz fredwilson': 330, 'montreal long': 1809, 'long weekend': 1654, 'weekend rampr': 2977, 'rampr need': 2200, 'booz allen': 368, 'allen hamilton': 120, 'hamilton bad': 1181, 'bad ass': 253, 'ass homegrown': 206, 'homegrown social': 1272, 'social collabor': 2494, 'collabor platform': 542, 'platform way': 2112, 'way cool': 2964, 'cool ttiv': 592, 'mluc09 custom': 1794, 'custom innov': 627, 'innov award': 1362, 'award winner': 237, 'winner booz': 3006, 'sochi2 current': 2493, 'current use': 623, 'use nikon': 2854, 'nikon d90': 1952, 'd90 love': 636, 'love canon': 1685, 'canon 40d50d': 446, '40d50d chose': 50, 'chose d90': 515, 'd90 video': 637, 'video featur': 2867, 'featur mistak': 888, 'need suggest': 1878, 'suggest good': 2593, 'good ir': 1070, 'ir filter': 1403, 'filter canon': 908, 'canon 40d': 445, '40d got': 48, 'got pl': 1118, 'pl dm': 2099, 'surfit just': 2609, 'just check': 1470, 'check googl': 493, 'googl busi': 1087, 'busi blip': 415, 'blip show': 336, 'show second': 2443, 'second entri': 2387, 'entri huh': 816, 'huh good': 1297, 'good ba': 1061, 'phyreman9 googl': 2082, 'googl good': 1089, 'good place': 1074, 'place look': 2100, 'look shouldv': 1667, 'shouldv mention': 2439, 'mention work': 1775, 'work mustang': 3034, 'mustang w': 1849, 'w dad': 2889, 'dad kimblet': 638, 'play android': 2114, 'android googl': 157, 'googl phone': 1093, 'phone slide': 2080, 'slide screen': 2475, 'screen scare': 2377, 'scare break': 2365, 'break fucker': 383, 'fucker fast': 975, 'fast prefer': 879, 'prefer iphon': 2148, 'plan resum': 2108, 'resum militari': 2267, 'militari tribun': 1787, 'tribun guantanamo': 2777, 'guantanamo bay': 1159, 'bay time': 282, 'time trial': 2704, 'trial aig': 2776, 'aig exec': 111, 'exec chrysler': 845, 'chrysler debt': 516, 'debt holder': 686, 'omg bore': 2016, 'bore amp': 369, 'amp tattoooo': 154, 'tattoooo itchi': 2634, 'itchi help': 1413, 'help aha': 1233, 'im itchi': 1328, 'itchi miser': 1415, 'sekseemess im': 2397, 'itchi mayb': 1414, 'mayb later': 1758, 'later lol': 1558, 'rt jessverr': 2304, 'jessverr love': 1432, 'love nerdi': 1697, 'nerdi stanford': 1881, 'stanford human': 2544, 'human biolog': 1298, 'biolog video': 321, 'video make': 2869, 'make miss': 1730, 'miss school': 1792, 'spinuzzi bit': 2523, 'bit crazi': 324, 'crazi steep': 604, 'steep learn': 2560, 'learn curv': 1576, 'curv lyx': 625, 'lyx realli': 1717, 'realli good': 2230, 'good long': 1071, 'long doc': 1652, 'doc shorter': 746, 'shorter insan': 2437, 'im listen': 1329, 'listen pyt': 1637, 'pyt danni': 2188, 'danni gokey': 654, 'gokey lt3': 1053, 'lt3 lt3': 1711, 'lt3 aww': 1709, 'aww he': 250, 'he amaz': 1217, 'amaz lt3': 131, 'go sleep': 1048, 'sleep bike': 2470, 'bike ride': 315, 'sleep tooth': 2473, 'tooth ach': 2750, 'blah blah': 332, 'blah old': 333, 'old old': 2013, 'old plan': 2014, 'plan today': 2109, 'today go': 2723, 'sleep guess': 2471, 'glad didnt': 1012, 'didnt bay': 725, 'bay breaker': 281, 'breaker today': 385, 'today 1000': 2719, '1000 freak': 8, 'freak degre': 953, 'degre san': 692, 'san francisco': 2346, 'francisco wtf': 952, 'francisco bay': 947, 'just land': 1478, 'land san': 1556, 'francisco today': 951, 'today suggest': 2731, 'obama administr': 1975, 'administr stop': 94, 'stop bonus': 2569, 'bonus aig': 353, 'aig ponzi': 114, 'ponzi schemer': 2136, 'start think': 2553, 'think citi': 2682, 'citi realli': 520, 'realli deep': 2227, 'deep sampt': 688, 'sampt gonna': 2345, 'gonna surviv': 1059, 'surviv turmoil': 2614, 'turmoil gonna': 2789, 'gonna aig': 1056, 'shaunwoo haten': 2419, 'haten aig': 1209, 'yarnth regret': 3065, 'regret go': 2252, 'go star': 1049, 'star trek': 2550, 'trek awesom': 2765, 'way star': 2970, 'trek esquir': 2766, 'trek soon': 2770, 'soon dad': 2503, 'annoy new': 166, 'new trend': 1903, 'trend internet': 2772, 'internet peopl': 1381, 'peopl pick': 2061, 'pick apart': 2088, 'apart michael': 170, 'michael lewi': 1783, 'lewi malcolm': 1604, 'malcolm gladwel': 1733, 'gladwel want': 1020, 'want read': 2907, 'simmon convers': 2456, 'convers malcolm': 587, 'highli recommend': 1253, 'recommend malcolm': 2243, 'blink malcolm': 335, 'gladwel amaz': 1014, 'amaz book': 129, 'book tip': 363, 'tip point': 2713, 'gladwel new': 1017, 'new man': 1893, 'man crush': 1735, 'omg commerci': 2017, 'commerci espn': 564, 'espn go': 825, 'go drive': 1041, 'drive nut': 767, 'robmalon play': 2284, 'play twitter': 2122, 'twitter api': 2802, 'api sound': 179, 'sound fun': 2511, 'fun need': 979, 'need class': 1870, 'class new': 525, 'new friend': 1889, 'friend like': 967, 'like gener': 1617, 'gener result': 996, 'result api': 2264, 'api code': 173, 'play curl': 2115, 'curl twitter': 622, 'hello twitter': 1231, 'play java': 2119, 'java twitter': 1426, 'morind45 twitter': 1810, 'api slow': 178, 'slow client': 2482, 'client good': 530, 'yahoo answer': 3063, 'answer butt': 167, 'scrapbook nic': 2374, 'nic d': 1911, 'rt mashabl': 2309, 'mashabl thing': 1752, 'thing wolfram': 2680, 'wolfram alpha': 3016, 'alpha doe': 123, 'doe better': 747, 'better vastli': 308, 'vastli differ': 2862, 'differ googl': 731, 'just chang': 1469, 'chang default': 480, 'default pic': 689, 'pic nike': 2087, 'nike basketbal': 1931, 'basketbal caus': 274, 'caus bball': 472, 'bball awesom': 284, 'nike own': 1939, 'own nba': 2035, 'nba playoff': 1863, 'playoff ad': 2123, 'ad w': 88, 'w lebron': 2890, 'lebron kobe': 1587, 'kobe carmelo': 1535, 'carmelo adida': 462, 'adida billup': 92, 'billup howard': 317, 'howard market': 1289, 'market brand': 1744, 'time ill': 2698, 'ill nike': 1318, 'new blog': 1886, 'blog post': 342, 'post nike': 2144, 'nike sb': 1943, 'sb dunk': 2363, 'dunk low': 778, 'low premium': 1708, 'premium white': 2149, 'white gum': 2994, 'rt smartchickpdx': 2312, 'smartchickpdx just': 2488, 'just told': 1491, 'told nike': 2734, 'nike layoff': 1936, 'layoff start': 1571, 'start today': 2554, 'work nike': 3035, 'nike fav': 1935, 'fav word': 882, 'word just': 3025, 'way im': 2966, 'im total': 1339, 'total inspir': 2754, 'inspir freaki': 1369, 'freaki nike': 954, 'nike commerci': 1933, 'give weka': 1010, 'weka app': 2982, 'app engin': 182, 'engin interfac': 812, 'interfac use': 1375, 'use bird': 2847, 'bird strike': 323, 'strike data': 2577, 'data test': 657, 'test logo': 2653, 'logo given': 1646, 'brand new': 381, 'new canon': 1887, 'canon eo': 449, 'eo 50d': 820, '50d 15mp': 56, '15mp dslr': 12, 'dslr camera': 772, 'camera canon': 442, 'canon 1785mm': 444, '1785mm len': 15, 'len web': 1601, 'web technolog': 2972, 'technolog thread': 2641, 'thread brand': 2688, 'eo 5': 819, 'class 50d': 523, '50d suppos': 60, 'suppos come': 2608, 'come today': 558, 'need explain': 1871, 'explain lambda': 852, 'lambda calculu': 1554, 'took graduat': 2747, 'graduat field': 1131, 'field exam': 901, 'exam comput': 834, 'comput scienc': 573, 'scienc today': 2371, 'today make': 2727, 'make feel': 1725, 'feel like': 898, 'like idiot': 1619, 'idiot lambda': 1313, 'shout out': 2440, 'out east': 2033, 'east palo': 788, 'palo alto': 2044, 'alto buildin': 126, 'buildin karizmakaz': 408, 'karizmakaz 50cal': 1496, '50cal gta': 55, 'gta thank': 1157, 'thank profit': 2667, 'profit doom': 2173, 'doom univers': 757, 'univers hempz': 2836, 'hempz cracka': 1238, 'legalgeekeri yeahhhhhhhhh': 1599, 'yeahhhhhhhhh realli': 3076, 'realli live': 2233, 'live east': 1642, 'alto avoid': 125, 'avoid guess': 234, 'guess summer': 1161, 'accanni edog1203': 76, 'edog1203 great': 803, 'great stanford': 1145, 'stanford cours': 2540, 'cours thank': 597, 'thank make': 2665, 'make avail': 1721, 'avail public': 233, 'public realli': 2184, 'realli help': 2231, 'help inform': 1235, 'inform start': 1360, 'nvidia name': 1970, 'name stanford': 1856, 'stanford dalli': 2542, 'dalli chief': 640, 'chief scientist': 502, 'scientist vp': 2373, 'vp research': 2887, 'post harvard': 2143, 'harvard versu': 1191, 'versu stanford': 2865, 'stanford win': 2549, 'work til': 3037, 'til 6pm': 2693, '6pm let': 65, 'let laker': 1603, 'damn north': 649, 'north korea': 1960, 'just ahead': 1464, 'ahead blow': 107, 'blow north': 347, 'korea map': 1541, 'korea ceas': 1539, 'ceas douchebaggeri': 476, 'douchebaggeri china': 759, 'china doe': 511, 'doe like': 750, 'like anymor': 1614, 'hell pelosi': 1230, 'pelosi freakin': 2054, 'freakin china': 955, 'china dime': 510, 'burn cash': 412, 'cash chrysler': 468, 'chrysler gm': 517, 'gm stop': 1034, 'stop financi': 2570, 'financi tsunami': 910, 'tsunami bailout': 2787, 'bailout mean': 256, 'mean take': 1768, 'take handout': 2623, 'insect infect': 1365, 'infect spinach': 1358, 'spinach plant': 2522, 'wish catch': 3008, 'catch mosquito': 471, 'mosquito world': 1813, 'world n': 3044, 'n burn': 1851, 'burn em': 413, 'em slowlythey': 808, 'slowlythey bitin': 2485, 'bitin shit': 328, 'shit outta': 2428, 'outta 2daymosquito': 2034, '2daymosquito asshol': 34, 'asshol insect': 210, 'just got': 1477, 'got church': 1110, 'church total': 518, 'total hate': 2753, 'hate insect': 1200, 'got mcdonald': 1114, 'mcdonald goddam': 1764, 'goddam egg': 1050, 'egg make': 805, 'make sick': 1731, 'sick o': 2448, 'o yeah': 1972, 'yeah laker': 3074, 'laker date': 1546, 'date laker': 659, 'laker updat': 1551, 'updat true': 2842, 'true suck': 2784, 'omgg ohhde': 2019, 'ohhde want': 2005, 'want mcdonald': 2904, 'mcdonald damn': 1762, 'damn wonder': 652, 'wonder open': 3022, 'open lol': 2026, 'histori exam': 1261, 'exam studi': 838, 'studi ugh': 2580, 'hate revis': 1204, 'revis bore': 2271, 'bore total': 370, 'total unprepar': 2755, 'unprepar exam': 2840, 'exam tomorrow': 840, 'tomorrow thing': 2741, 'thing look': 2677, 'look good': 1660, 'higher physic': 1251, 'physic exam': 2084, 'exam tommorow': 839, 'tommorow lookin': 2736, 'lookin forward': 1669, 'bank holiday': 260, 'holiday im': 1266, 'im work': 1342, 'work exam': 3032, 'exam season': 837, 'season suck': 2384, 'cheney bush': 496, 'bush real': 414, 'real culprit': 2221, 'life bitch': 1606, 'bitch dick': 327, 'dick cheney': 717, 'cheney p2': 499, 'p2 bipart': 2037, 'bipart tlot': 322, 'tlot tcot': 2718, 'tcot hhr': 2638, 'hhr gop': 1244, 'gop dnc': 1106, 'cheney dishonest': 497, 'dishonest speech': 738, 'speech tortur': 2518, 'tortur terror': 2752, 'terror obama': 2649, 'obama fred': 1976, 'fred kaplan': 956, 'kaplan slate': 1495, 'republican parti': 2260, 'parti bunch': 2046, 'bunch antiabort': 410, 'antiabort zealot': 168, 'zealot draw': 3091, 'draw fli': 761, 'fli dump': 929, 'dump neal': 777, 'neal boortz': 1869, 'boortz just': 366, 'just radio': 1483, 'twitter connect': 2805, 'connect api': 579, 'api broken': 172, 'broken tweet': 390, 'tweet did': 2796, 'did make': 719, 'make twitter': 1732, 'srsli hate': 2535, 'hate stupid': 1206, 'stupid twitter': 2586, 'api timeout': 180, 'timeout thing': 2709, 'thing soooo': 2678, 'soooo annoy': 2507, 'psychemedia realli': 2182, 'realli like': 2232, 'like kswedberg': 1621, 'kswedberg learn': 1543, 'learn jqueri': 1577, 'jqueri book': 1444, 'book worth': 365, 'worth look': 3051, 'jqueri ui': 1456, 'ui 16': 2821, '16 book': 13, 'book review': 361, 'interest ad': 1374, 'ad adob': 87, 'adob goodbi': 97, 'goodbi silverstein': 1083, 'silverstein amp': 2453, 'amp partner': 149, 'partner youtub': 2048, 'youtub adob': 3088, 'adob cs4': 96, 'cs4 le': 613, 'le sen': 1572, 'sen propr': 2400, 'silverstein agenc': 2452, 'agenc new': 103, 'new site': 1899, 'site great': 2462, 'rt designplay': 2302, 'designplay goodbi': 706, 'silverstein new': 2454, 'site enjoy': 2461, 'enjoy nice': 815, 'amaz psyop': 133, 'psyop goodbi': 2183, 'partner hp': 2047, 'hp play': 1291, 'play effect': 2116, 'watch viralvideo': 2956, 'viralvideo chart': 2876, 'chart love': 485, 'love nike': 1701, 'nike mostvaluablepuppet': 1937, 'mostvaluablepuppet campaign': 1814, 'campaign wieden': 443, 'wieden amp': 2999, 'amp kennedi': 144, 'zomg g2': 3093, 'ok lot': 2008, 'lot buzz': 1674, 'buzz io2009': 422, 'io2009 lucki': 1393, 'lucki free': 1712, 'free g2': 959, 'got free': 1111, 'g2 android': 989, 'googl io': 1091, 'guess ill': 1160, 'ill retir': 1320, 'retir g1': 2268, 'g1 start': 987, 'start use': 2555, 'use develop': 2848, 'develop g2': 710, 'g2 woot': 991, 'woot googleio': 3023, 'gwt firesid': 1174, 'firesid chat': 913, 'chat googleio': 487, 'happi philip': 1185, 'philip googleio': 2070, 'googleio today': 1103, 'laker play': 1549, 'play great': 2117, 'great wait': 1149, 'wait thursday': 2894, 'thursday night': 2689, 'night laker': 1920, 'laker vs': 1552, 'hi doe': 1245, 'doe great': 749, 'great sourc': 1143, 'sourc advic': 2512, 'advic viral': 100, 'viral market': 2875, 'judd apatow': 1461, 'apatow creat': 171, 'creat fake': 606, 'fake sitcom': 869, 'sitcom nbccom': 2460, 'nbccom market': 1865, 'market new': 1747, 'new movi': 1894, 'movi viral': 1823, 'market best': 1743, 'here case': 1239, 'case studi': 465, 'studi use': 2581, 'use viral': 2858, 'market add': 1742, 'add 10000': 90, '10000 peopl': 9, 'peopl list': 2059, 'market fail': 1745, 'fail acia': 863, 'acia pill': 85, 'pill brand': 2093, 'brand oughta': 382, 'oughta shut': 2032, 'shut hack': 2445, 'hack peopl': 1176, 'peopl messeng': 2060, 'messeng 56': 1779, '56 msg': 62, 'msg day': 1827, 'day arrrgh': 664, 'watch night': 2952, 'night museum': 1922, 'museum lmao': 1836, 'love night': 1700, 'go new': 1044, 'new night': 1895, 'museum movi': 1838, 'movi famili': 1820, 'famili oh': 870, 'oh boy': 2000, 'boy year': 376, 'year old': 3078, 'old movi': 2012, 'movi fuin': 1821, 'got movi': 1115, 'movi went': 1824, 'went new': 2986, 'museum rachel': 1841, 'rachel good': 2196, 'just saw': 1486, 'saw new': 2353, 'museum movieit': 1839, 'movieit wasokaylol': 1825, 'wasokaylol 710': 2939, 'go night': 1045, 'museum 2': 1831, '2 tall': 26, 'tall boy': 2632, 'shannyoday date': 2417, 'date night': 660, '2 wantit': 28, 'wantit look': 2908, 'look soooooo': 1668, 'soooooo good': 2509, 'museum get': 1834, 'get realli': 1003, 'museum wolverin': 1846, 'wolverin junk': 3018, 'junk food': 1463, 'food perfect': 940, 'perfect monday': 2063, 'saw night': 2354, '2 night': 23, 'night pretti': 1923, 'pretti crazi': 2157, 'crazi movi': 603, 'movi cast': 1819, 'cast awesom': 469, 'awesom worth': 249, 'worth robin': 3052, 'robin william': 2283, 'william forev': 3001, 'museum battl': 1832, 'battl swithsonian': 280, 'swithsonian today': 2617, 'today okay': 2728, 'okay typic': 2009, 'typic kid': 2809, 'kid ben': 1508, 'ben stiller': 294, 'stiller movi': 2564, 'take kati': 2624, 'kati night': 1499, 'museum pick': 1840, 'museum tonit': 1845, 'tonit instead': 2745, 'instead oh': 1372, 'oh 4': 1998, '4 yr': 47, 'yr old': 3089, 'old better': 2010, 'better enjoy': 307, 'enjoy lol': 814, 'gm say': 1031, 'say expect': 2356, 'expect announc': 846, 'announc sale': 164, 'sale hummer': 2344, 'hummer soon': 1299, 'soon reuter': 2505, 'reuter wdsugm': 2269, 'wdsugm say': 2971, 'unfortun stimulu': 2830, 'stimulu plan': 2565, 'plan place': 2107, 'place twice': 2106, 'twice help': 2800, 'help gm': 1234, 'gm american': 1021, 'american peopl': 140, 'peopl led': 2058, 'led inevit': 1596, 'tell give': 2643, 'give gm': 1009, 'gm use': 1037, 'use program': 2855, 'program support': 2177, 'support unemploy': 2607, 'jdreiss oh': 1430, 'oh ye': 2003, 'ye gm': 3069, 'gm die': 1026, 'die worth': 730, 'worth boo': 3050, 'boo hahaha': 354, 'time warner': 2705, 'warner cabl': 2909, 'cabl 3rd': 425, '3rd time': 44, 'time memori': 2701, 'memori day': 1774, 'day bummer': 666, 'pay reason': 2052, 'reason yearli': 2237, 'yearli tax': 3081, 'tax free': 2635, 'free fast': 958, 'fast internet': 878, 'internet goug': 1379, 'goug time': 1126, 'warner slow': 2927, 'slow connect': 2483, 'nooooooo dvr': 1956, 'dvr just': 779, 'just die': 1474, 'die half': 727, 'half way': 1179, 'way ea': 2965, 'ea presser': 786, 'presser hate': 2153, 'hate time': 1207, 'fck time': 886, 'cabl fcking': 427, 'fcking suck': 887, 'suck ball': 2590, 'ball 700': 257, '700 hd': 68, 'hd tv': 1216, 'tv amp': 2792, 'amp damn': 141, 'damn hd': 645, 'hd channel': 1214, 'channel hardli': 482, 'hardli come': 1190, 'come bullshit': 553, 'warner wors': 2933, 'wors custom': 3045, 'custom servic': 628, 'servic use': 2410, 'warner devil': 2913, 'devil worst': 715, 'worst possibl': 3047, 'possibl time': 2141, 'time internet': 2700, 'fuck internet': 971, 'internet damn': 1378, 'damn time': 651, 'warner realli': 2924, 'realli pick': 2235, 'pick worst': 2091, 'worst time': 3049, 'time work': 2708, 'work want': 3040, 'want mtvcom': 2906, 'mtvcom watch': 1828, 'watch hill': 2948, 'hill wtfffff': 1259, 'warner soooo': 2928, 'soooo wish': 2508, 'wish vio': 3013, 'vio watch': 2874, 'watch fricken': 2947, 'fricken met': 964, 'met game': 1781, 'game wo': 992, 'wo buffer': 3014, 'buffer feel': 397, 'like im': 1620, 'im watch': 1341, 'watch free': 2946, 'free internet': 961, 'internet porn': 1382, 'ahhgot rid': 109, 'rid stupid': 2276, 'stupid time': 2585, 'warner today': 2930, 'today amp': 2721, 'amp take': 153, 'take nap': 2625, 'nap roomi': 1858, 'roomi cook': 2298, 'cook pretti': 588, 'pretti good': 2160, 'good end': 1067, 'end monday': 811, 'warner hd': 2918, 'hd line': 1215, 'line crap': 1631, 'fuck time': 973, 'cabl didnt': 426, 'didnt know': 726, 'know modem': 1531, 'modem explod': 1800, 'explod susan': 853, 'susan boyl': 2615, 'boyl suck': 378, 'cabl pull': 430, 'pull plug': 2185, 'plug girlfriend': 2127, 'girlfriend experi': 1008, 'experi wwwtinyurlcomm595fk': 850, 'cabl slogan': 431, 'slogan call': 2478, 'call day': 440, 'day 2pm': 663, '2pm happen': 37, 'rocawear head': 2286, 'head china': 1220, 'china build': 506, 'build 300': 407, '300 store': 41, 'climat focu': 531, 'focu turn': 932, 'turn beij': 2790, 'beij unit': 290, 'unit nation': 2833, 'nation european': 1859, 'european govern': 831, 'govern call': 1127, 'call china': 439, 'china coo': 509, 'myfoxdc barri': 1850, 'barri student': 266, 'student trip': 2579, 'trip china': 2780, 'china silver': 513, 'silver spring': 2451, 'spring high': 2531, 'high school': 1250, 'school class': 2367, 'class trip': 527, 'china en': 512, 'china aerospac': 505, 'aerospac giant': 101, 'giant develop': 1004, 'develop tianjin': 713, 'tianjin binhai': 2690, 'binhai new': 319, 'new area': 1883, 'area 229': 196, '229 b': 32, 'b yuan': 252, 'yuan invest': 3090, 'gm ceo': 1024, 'ceo china': 478, 'china continu': 508, 'continu key': 585, 'key partner': 1502, 'rt latimesauto': 2307, 'latimesauto time': 1568, 'time buy': 2696, 'buy gm': 418, 'gm car': 1023, 'recov surgerywish': 2247, 'surgerywish julesrenn': 2610, 'wrist hurt': 3055, 'hurt look': 1303, 'look hate': 1662, 'hate drdentistscari': 1196, 'drdentistscari place': 762, 'place time': 2105, 'time watch': 2707, 'watch eagl': 2945, 'eagl eye': 787, 'eye want': 856, 'want join': 2902, 'join txt': 1439, 'dentist tomorrow': 703, 'tomorrow brush': 2737, 'brush morn': 393, 'morn like': 1812, 'like make': 1622, 'make hair': 1727, 'hair nice': 1178, 'nice cut': 1912, 'dentist lie': 701, 'lie u': 1605, 'u feel': 2811, 'feel discomort': 896, 'discomort prob': 737, 'prob need': 2168, 'need pain': 1873, 'pain pill': 2039, 'pill man': 2094, 'man u': 1739, 'u twippin': 2816, 'twippin shit': 2801, 'shit hurt': 2426, 'hurt pill': 1305, 'kirstiealley dentist': 1526, 'dentist great': 699, 'great she': 1142, 'she expens': 2420, 'kirstiealley pet': 1528, 'pet dentist': 2067, 'stude math': 2578, 'math tomorrow': 1754, 'tomorrow exam': 2738, 'exam dentist': 835, 'dentist wrong': 704, 'wrong wrong': 3057, 'go dentist': 1040, 'dentist later': 700, 'son look': 2500, 'look car': 1657, 'car onlin': 454, 'onlin hate': 2021, 'hate car': 1193, 'car shop': 455, 'shop dentist': 2433, 'dentist good': 698, 'good car': 1063, 'car good': 452, 'good price': 1076, 'price sell': 2164, 'ncaa basebal': 1867, 'basebal super': 272, 'super region': 2600, 'region ram': 2251, 'ram club': 2199, 'just start': 1489, 'start play': 2552, 'play major': 2120, 'major leagu': 1720, 'leagu basebal': 1575, 'basebal 2k9': 267, 'cardin basebal': 460, 'basebal advanc': 268, 'advanc super': 98, 'region face': 2250, 'face csfullerton': 859, 'csfullerton friday': 614, 'soni coupon': 2501, 'coupon code': 596, 'code expir': 539, 'expir soon': 851, 'wait line': 2893, 'line safeway': 1633, 'luke got': 1714, 'got stop': 1120, 'stop walk': 2574, 'walk safeway': 2896, 'safeway ask': 2326, 'ask pocket': 204, 'pocket lift': 2130, 'lift shirt': 1610, 'shirt jack': 2424, 'did realiz': 721, 'realiz gym': 2223, 'gym safeway': 1175, 'xphile1908 word': 3061, 'word safeway': 3026, 'safeway dot': 2330, 'dot com': 758, 'safeway rock': 2338, 'rock n': 2292, 'n roll': 1852, 'roll tonight': 2295, 'bout hit': 374, 'hit safeway': 1263, 'safeway gotta': 2332, 'gotta eat': 1125, 'jake go': 1423, 'go safeway': 1047, 'safeway pick': 2335, 'pick stapl': 2090, 'safeway supermarket': 2340, 'supermarket mobil': 2601, 'mobil coupon': 1798, 'safeway bathroom': 2327, 'bathroom smell': 278, 'smell like': 2489, 'like ass': 1615, 'safeway elkhorn': 2331, 'elkhorn like': 807, 'like theyr': 1627, 'theyr dead': 2673, 'normal weight': 1959, 'weight normal': 2980, 'normal eat': 1957, 'eat blog': 789, 'eat watch': 800, 'watch movi': 2950, 'eat sashimi': 798, 'eat home': 794, 'home yema': 1271, 'eat cake': 791, 'love dwight': 1687, 'dwight howard': 782, 'howard vitamin': 1290, 'vitamin water': 2881, 'water commerci': 2959, 'commerci wish': 567, 'wish nike': 3009, 'nike adida': 1929, 'adida lol': 93, 'nike factori': 1934, 'factori banana': 862, 'banana republ': 259, 'republ outlet': 2259, 'iphon radio': 1402, 'radio tag': 2197, 'tag nike': 2619, 'nike recentlyreleas': 1941, 'recentlyreleas itun': 2242, 'itun version': 1416, 'version 82': 2864, '82 suggest': 69, 'suggest voiceov': 2594, 'voiceov function': 2885, 'lovin nike': 1707, 'nike that': 1946, 'that run': 2669, 'run spot': 2318, 'spot bedroom': 2530, 'launch imgsearch': 1569, 'imgsearch ajax': 1345, 'ajax jqueri': 118, 'jqueri webapp': 1459, 'matthewcyan final': 1757, 'final got': 909, 'got use': 1122, 'use jqueri': 2851, 'jqueri make': 1450, 'make bio': 1722, 'bio collaps': 320, 'collaps yay': 543, 'yay slide': 3068, 'slide anim': 2474, 'rt jqueri': 2305, 'jqueri ultim': 1457, 'ultim jqueri': 2824, 'jqueri list': 1449, 'just extract': 1475, 'extract opensourc': 855, 'opensourc jqueri': 2027, 'jqueri plugin': 1452, 'plugin stormweight': 2128, 'stormweight highlight': 2576, 'highlight text': 1255, 'text regular': 2659, 'regular express': 2253, 'annadebenham php': 160, 'php jqueri': 2081, 'jqueri hack': 1446, 'jqueri cheat': 1445, 'cheat sheet': 491, 'begin javascript': 289, 'javascript css': 1427, 'css develop': 615, 'develop jqueri': 711, 'jqueri javascript': 1447, 'css jqueri': 617, 'pdubyad right': 2053, 'right lol': 2281, 'lol high': 1648, 'high expect': 1249, 'expect warren': 847, 'warren buffet': 2937, 'buffet style': 403, 'rt blknprecious1': 2299, 'blknprecious1 rt': 337, 'rt great': 2303, 'great dbroo': 1138, 'dbroo someon': 678, 'someon sit': 2499, 'sit shade': 2459, 'shade today': 2414, 'today plant': 2729, 'plant tree': 2111, 'tree long': 2763, 'long time': 1653, 'time ago': 2694, 'ago warren': 104, 'buffet economi': 400, 'buffet time': 404, 'time richest': 2702, 'richest man': 2275, 'man unit': 1740, 'unit state': 2834, 'state work': 2557, 'work invest': 3033, 'invest 1': 1387, '1 big': 0, 'big idea': 312, 'idea lead': 1312, 'lead fortun': 1574, 'accord creat': 81, 'creat school': 608, 'school notr': 2369, 'notr dame': 1963, 'dame 7': 641, '7 receiv': 67, 'receiv ncaa': 2240, 'ncaa 10': 1866, '10 84': 4, '84 higher': 70, 'higher rate': 1252, 'rate sweet': 2204, 'allstar basketbal': 121, 'basketbal classic': 275, 'classic tuesday': 528, 'tuesday featur': 2788, 'featur talent': 889, 'talent chattanooga': 2626, 'chattanooga notr': 488, 'dame high': 643, 'school play': 2370, 'play host': 2118, 'blondebroad definit': 343, 'definit warranti': 690, 'warranti amp': 2934, 'amp experi': 143, 'experi amazon': 849, 'amazon support': 135, 'support kindl': 2605, 'kindl great': 1511, 'great contact': 1137, 'contact kindle2': 583, 'rt look': 2308, 'look avail': 1655, 'avail amazon': 232, 'amazon kindle2': 134, 'kindle2 amp': 1513, 'amp kindl': 145, 'kindl dx': 1510, 'dx electron': 784, 'electron book': 806, 'book reader': 359, 'reader period': 2215, 'period free': 2064, 'free 2': 957, '2 day': 19, 'day ship': 675, 'warner road': 2925, 'road runner': 2282, 'runner custom': 2320, 'custom support': 629, 'support absolut': 2603, 'absolut blow': 74, 'blow hate': 346, 'hate have': 1199, 'have highspe': 1210, 'highspe net': 1256, 'net option': 1882, 'option im': 2030, 'im readi': 1334, 'readi nuclear': 2217, 'cabl phone': 429, 'phone rep': 2078, 'rep r': 2257, 'r dumber': 2195, 'dumber nail': 776, 'nail ugh': 1853, 'ugh cabl': 2818, 'cabl work': 434, 'work 10': 3028, '10 min': 5, 'min ago': 1788, 'ago wtf': 105, 'siratomofbon tri': 2458, 'tri time': 2775, 'warner nice': 2921, 'nice record': 1914, 'record today': 2246, 'omg time': 2018, 'warner fed': 2916, 'fed internet': 890, 'internet instal': 1380, 'instal instead': 1370, 'instead today': 1373, 'today saturday': 2730, 'saturday week': 2350, 'week wo': 2974, 'wo internet': 3015, 'internet ampehfav9fhg': 1377, 'ampehfav9fhg fml': 155, 'wthi seen': 3059, 'seen line': 2392, 'line loooong': 1632, 'loooong time': 1670, 'warner ugh': 2931, 'impati await': 1346, 'await arriv': 236, 'arriv time': 200, 'warner guy': 2917, 'guy way': 1173, 'way pretti': 2969, 'pretti insid': 2161, 'insid afternoon': 1367, 'man accost': 1734, 'accost roger': 82, 'roger feder': 2294, 'feder french': 892, 'french open': 963, 'naiv bay': 1854, 'bay use': 283, 'use em': 2849, 'em text': 809, 'text classif': 2657, 'classif realli': 529, 'realli frustrat': 2229, 'went stanford': 2989, 'stanford univers': 2548, 'univers today': 2838, 'today got': 2725, 'got tour': 1121, 'tour want': 2757, 'want colleg': 2898, 'colleg decid': 544, 'decid kid': 687, 'investig pend': 1388, 'pend death': 2057, 'death stanford': 683, 'stanford cs': 2541, 'cs prof': 611, 'prof googl': 2170, 'googl mentor': 1092, 'mentor rajeev': 1776, 'rajeev motwani': 2198, 'motwani tip': 1816, 'tip techmem': 2715, 'im go': 1327, 'go bed': 1039, 'bed success': 288, 'success weekend': 2588, 'weekend stanford': 2979, 'stanford come': 2539, 'karrisfoxi your': 1498, 'your harass': 3087, 'harass call': 1188, 'call car': 438, 'car warranti': 456, 'warranti chang': 2935, 'chang number': 481, 'number fix': 1969, 'fix number': 917, 'number dbag': 1968, 'just block': 1467, 'block unit': 338, 'unit blood': 2832, 'blood servic': 344, 'use googl': 2850, 'googl voic': 1099, 'voic car': 2883, 'warranti guy': 2936, 'atampt complet': 212, 'complet fail': 570, 'broskiii oh': 391, 'oh snap': 2001, 'snap work': 2491, 'work atampt': 3030, 'mbjthegreat realli': 1760, 'realli dont': 2228, 'dont want': 754, 'want atampt': 2897, 'atampt phone': 220, 'phone servicethey': 2079, 'servicethey suck': 2411, 'suck come': 2591, 'come have': 555, 'have signal': 1212, 'say just': 2359, 'just cut': 1473, 'cut small': 630, 'small talk': 2486, 'talk atampt': 2627, 'atampt new': 217, 'new slogan': 1900, 'slogan fk': 2479, 'fk money': 920, 'money apolog': 1802, 'apolog bob': 181, 'bob geldof': 350, 'piss atampt': 2096, 'atampt midcontract': 216, 'midcontract upgrad': 1785, 'upgrad price': 2843, 'price iphon': 2163, 'iphon 200': 1395, '200 im': 29, 'go pay': 1046, 'pay 499': 2051, '499 thought': 53, 'thought 299': 2686, 'safari 4': 2324, '4 fast': 46, 'fast shitti': 880, 'shitti atampt': 2430, 'atampt tether': 222, 'im atampt': 1322, 'atampt fuck': 215, 'springsingfiend dvyer': 2532, 'dvyer sethdaggett': 781, 'sethdaggett jlshack': 2413, 'jlshack atampt': 1435, 'atampt drop': 213, 'drop ball': 768, 'ball support': 258, 'support crap': 2604, 'crap new': 600, 'new iphon': 1890, 'iphon 30': 1396, '30 fail': 40, 'fail att': 864, 'att suck': 228, 'mmbarnhil yay': 1795, 'yay glad': 3066, 'glad got': 1013, 'got phone': 1117, 'phone damn': 2073, 'damn atampt': 644, 'googl wave': 1100, 'wave develop': 2962, 'develop sandbox': 712, 'sandbox account': 2347, 'account request': 83, 'talk cheap': 2628, 'cheap bing': 489, 'bing ill': 318, 'ill stick': 1321, 'stick googl': 2563, 'defsound wtf': 691, 'wtf point': 3058, 'point delet': 2133, 'delet tweet': 693, 'tweet summiz': 2797, 'summiz search': 2597, 'search twitter': 2383, 'twitter fix': 2806, 'fix thank': 918, 'thank bye': 2662, 'mattcutt googl': 1756, 'googl profil': 1094, 'profil stop': 2172, 'stop show': 2573, 'show search': 2442, 'search anymor': 2380, 'arunbasil love': 202, 'love googl': 1688, 'googl translat': 1097, 'translat d': 2762, 'd good': 634, 'good day': 1066, 'day mate': 673, 'read new': 2210, 'new kindle2': 1891, 'kindle2 came': 1515, 'came love': 441, 'love new': 1698, 'kindle2 name': 1520, 'name kendra': 1855, 'kendra case': 1501, 'case u': 466, 'u wonder': 2817, 'wonder cookbook': 3020, 'cookbook tool': 589, 'tool cuz': 2748, 'cuz tell': 632, 'tell u': 2645, 'u trick': 2815, 'trick best': 2778, 'best gift': 299, 'gift evr': 1005, 'real aig': 2220, 'aig scandal': 115, 'twitter apr': 2803, 'apr app': 193, '45 pro': 52, 'pro follow': 2167, 'follow twitter': 934, 'obama quit': 1982, 'quit good': 2193, 'good comedian': 1065, 'comedian check': 561, 'check dinner': 492, 'dinner speech': 735, 'speech cnn': 2514, 'cnn funni': 536, 'funni joke': 982, 'barack obama': 263, 'obama show': 1983, 'show funni': 2441, 'funni gtgt': 981, 'gtgt great': 1158, 'great speech': 1144, 'like guy': 1618, 'guy barack': 1166, 'obama speech': 1984, 'speech pretti': 2517, 'pretti awesom': 2156, 'awesom night': 244, 'read clinton': 2205, 'clinton fail': 532, 'fail obama': 866, 'obama win': 1986, 'obama popular': 1981, 'popular arab': 2137, 'arab survey': 195, 'survey presid': 2613, 'presid barack': 2151, 'popular lead': 2138, 'lead arab': 1573, 'arab countri': 194, 'got joke': 1113, 'joke haha': 1440, 'haha just': 1177, 'got watch': 1123, 'watch bit': 2944, 'bit dinner': 325, 'speech night': 2516, 'night im': 1919, 'im love': 1330, 'love mr': 1696, 'mr presid': 1826, 'jame got': 1424, 'got car': 1109, 'car accid': 451, 'accid guessjust': 79, 'guessjust heard': 1162, 'heard even': 1225, 'even newswow': 833, 'newswow believ': 1910, 'believ itwil': 291, 'itwil ok': 1417, 'best playoff': 302, 'playoff year': 2124, 'year oh': 3077, 'oh yea': 2004, 'yea lebron': 3073, 'lebron melo': 1588, 'melo final': 1772, 'khalid0456 lebron': 1505, 'therealush lebron': 2672, 'lebron cool': 1583, 'cool like': 591, 'like personalityh': 1624, 'personalityh good': 2066, 'good charact': 1064, 'watch lebron': 2949, 'lebron highlight': 1584, 'highlight damn': 1254, 'damn nigga': 648, 'nigga good': 1918, 'lou911 lebron': 1679, 'lebron murder': 1590, 'murder shit': 1830, 'uscsports21 lebron': 2846, 'lebron monsta': 1589, 'monsta 24': 1806, '24 smh': 33, 'smh world': 2490, 'world aint': 3041, 'aint readi': 116, 'cthagod lebron': 618, 'lebron nba': 1591, 'nba probabl': 1864, 'probabl greater': 2169, 'greater kobe': 1152, 'kobe like': 1537, 'like u': 1628, 'u said': 2814, 'said kobe': 2343, 'kobe good': 1536, 'good alot': 1060, 'alot good': 122, 'good player': 1075, 'good bt': 1062, 'bt lebron': 394, 'lebron vote': 1593, 'kobe best': 1534, 'best world': 304, 'world lebron': 3043, 'asherroth world': 203, 'world cup': 3042, 'cup 2010': 620, '2010 access': 30, 'access damn': 77, 'damn that': 650, 'that good': 2668, 'good look': 1072, 'just bought': 1468, 'bought ticket': 373, 'ticket 2010': 2692, '2010 fifa': 31, 'fifa world': 904, 'cup south': 621, 'south africa': 2513, 'africa go': 102, 'go great': 1043, 'great summer': 1147, 'share disruptionfr': 2418, 'disruptionfr wilson': 741, 'wilson slide': 3002, 'slide talk': 2476, 'talk googl': 2629, 'googl hq': 1090, 'hamilton 2hr': 1180, '2hr meet': 35, 'meet home': 1771, 'great indian': 1139, 'indian tamasha': 1357, 'tamasha truli': 2633, 'truli unfold': 2786, 'unfold 16': 2829, '16 result': 14, 'result day': 2265, 'day indian': 671, 'indian gener': 1356, 'gener elect': 995, 'crlane kindle2': 610, 'ive seen': 1421, 'seen pictur': 2396, 'pictur dx': 2092, 'dx seen': 785, 'seen person': 2395, 'person love': 2065, 'love kindl': 1690, 'kindl im': 1512, 'im everyday': 1325, 'criticalpath awesom': 609, 'awesom idea': 242, 'idea continu': 1311, 'continu learn': 586, 'learn program': 1579, 'program kindle2': 2175, 'ok just': 2007, 'just think': 1490, 'think 40d': 2681, 'faithbabywear ooooh': 868, 'ooooh model': 2024, 'model get': 1799, 'get 40d': 999, '40d love': 49, 'love love': 1695, 'time india': 2699, 'india wonder': 1355, 'wonder india': 3021, 'india elect': 1354, 'good video': 1082, 'video googl': 2868, 'googl use': 1098, 'use search': 2856, 'search option': 2381, 'ambcharlesfield lol': 136, 'lol ah': 1647, 'ah skin': 106, 'skin itchi': 2467, 'itchi damn': 1411, 'damn lawnmow': 647, 'itchi dont': 1412, 'dont ya': 755, 'ya hate': 3062, 'stanford chariti': 2538, 'chariti fashion': 484, 'fashion draw': 877, 'univers facebook': 2835, 'facebook profil': 861, 'profil popular': 2171, 'popular offici': 2139, 'offici univers': 1997, 'univers page': 2837, 'lyx cool': 1716, 'sooo dissapoint': 2506, 'dissapoint sent': 742, 'sent danni': 2404, 'gokey home': 1052, 'home rock': 1269, 'rock danni': 2289, 'danni hometown': 655, 'hero yeah': 1241, 'yeah milrocke': 3075, 'rt passionmodel': 2310, 'passionmodel american': 2049, 'american idol': 139, 'idol fashion': 1315, 'fashion adam': 876, 'adam lambert': 89, 'lambert tone': 1555, 'tone danni': 2742, 'gokey cute': 1051, 'dannygokey love': 656, 'love danni': 1686, 'rt justindavey': 2306, 'justindavey rt': 1494, 'rt tweetmem': 2315, 'tweetmem gm': 2799, 'gm onstar': 1030, 'onstar instantli': 2023, 'instantli send': 1371, 'send accid': 2401, 'accid locat': 80, 'locat coordin': 1645, 'coordin 911': 593, '911 gp': 72, 'gp obsess': 1130, 'tire did': 2716, 'did sleep': 722, 'sleep night': 2472, 'board plane': 348, 'plane san': 2110, 'francisco 1': 946, '1 hour': 2, 'hour 6': 1280, '6 hr': 64, 'hr flight': 1292, 'flight blech': 930, 'bonjour san': 352, 'francisco hurt': 949, 'hurt night': 1304, 'breaker san': 384, 'francisco ca': 948, 'head san': 1222, 'best girl': 300, 'girl hour': 1006, 'hour san': 1285, 'francisco mmmmmfamili': 950, 'mmmmmfamili wonder': 1797, 'f big': 857, 'big home': 310, 'home aig': 1267, 'went star': 2990, 'trek movi': 2768, 'movi night': 1822, 'night satisfi': 1924, 'wait go': 2891, 'trek tonight': 2771, 'trek good': 2767, 'good said': 1079, 'new malcolm': 1892, 'gladwel book': 1015, 'book outlier': 357, 'gladwel tip': 1019, 'point audiobook': 2132, 'audiobook probabl': 229, 'gladwel geniu': 1016, 'geniu trick': 998, 'trick peopl': 2779, 'peopl realiz': 2062, 'realiz he': 2224, 'he fuck': 1218, 'fuck idiot': 970, 'sportsguy33 hey': 2525, 'hey offens': 1243, 'offens malcolm': 1991, 'gladwel preteni': 1018, 'preteni annoy': 2154, 'annoy cunt': 165, 'cunt bring': 619, 'bring read': 388, 'read shit': 2211, 'rt clashmor': 2301, 'clashmor great': 522, 'great articl': 1136, 'articl malcolm': 201, 'serious underestim': 2407, 'underestim malcolm': 2826, 'want meet': 2905, 'meet dude': 1770, 'hate comcast': 1194, 'comcast right': 550, 'right cabl': 2279, 'cabl internet': 428, 'internet amp': 1376, 'amp phoneughh': 150, 'comcast suck': 551, 'day deal': 668, 'deal comcast': 680, 'comcast rank': 549, 'rank best': 2201, 'best day': 296, 'day life': 672, 'dommm did': 753, 'did comcast': 718, 'comcast fail': 548, 'use twitter': 2857, 'curs twitter': 624, 'api limit': 175, 'dave winer': 661, 'winer scream': 3005, 'scream lack': 2376, 'lack twitter': 1544, 'limit access': 1629, 'access throttl': 78, 'test twitter': 2654, 'arg twitter': 197, 'api make': 176, 'make crazi': 1724, 'api remot': 177, 'remot updat': 2256, 'im realli': 1335, 'realli love': 2234, 'new search': 1898, 'search site': 2382, 'site wolframalpha': 2463, 'wolframalpha make': 3017, 'make googl': 1726, 'googl quaint': 1095, 'alpha suck': 124, 'suck research': 2592, 'research inform': 2261, 'inform provid': 1359, 'provid googl': 2180, 'googl wikipedia': 1101, 'wikipedia total': 3000, 'total useless': 2756, 'nike muppet': 1938, 'muppet commerci': 1829, 'commerci pretti': 566, 'pretti cute': 2158, 'cute live': 631, 'nike zoom': 1951, 'zoom lebron': 3094, 'lebron soldier': 1592, 'soldier 3': 2497, '3 iii': 38, 'iii white': 1317, 'white black': 2993, 'black teal': 331, 'nike trainer': 1948, 'trainer 1': 2761, 'fraggle312 oh': 945, 'oh awesom': 1999, 'awesom wish': 248, 'wish own': 3010, 'own nike': 2036, 'tonyhawk awesom': 2746, 'awesom see': 246, 'see friday': 2389, 'friday shorelin': 965, 'shorelin amphitheatr': 2434, 'amphitheatr seen': 156, 'seen nin': 2394, 'nin wait': 1953, 'arhh weka': 199, 'weka bug': 2983, 'bug spent': 406, 'spent hour': 2520, 'hour crappi': 1282, 'mitz hey': 1793, 'hey bud': 1242, 'bud np': 396, 'np love': 1964, 'love 50d': 1682, '50d id': 57, 'id love': 1309, 'love 5d': 1683, '5d mkii': 63, 'jonduena robynlyn': 1441, 'robynlyn just': 2285, 'got 50d': 1107, '50d offic': 59, 'offic d': 1994, 'just pick': 1482, 'pick new': 2089, 'canon 50dit': 448, '50dit beauti': 61, 'beauti prepar': 287, 'prepar serious': 2150, 'serious awesom': 2406, 'awesom photographi': 245, 'got new': 1116, 'new toy': 1902, 'toy canon': 2758, 'canon 50d': 447, '50d love': 58, 'learn lambda': 1578, 'job sitterc': 1436, 'sitterc help': 2464, 'help take': 1237, 'take care': 2621, 'care sick': 461, 'sick child': 2447, 'child east': 503, 'alto ca': 127, 'im move': 1331, 'move east': 1818, 'atebit just': 225, 'just finish': 1476, 'finish watch': 912, 'watch stanford': 2954, 'stanford iphon': 2545, 'iphon class': 1399, 'class session': 526, 'session realli': 2412, 'realli appreci': 2226, 'appreci rock': 190, 'jktweet hi': 1434, 'hi just': 1246, 'saw stanford': 2355, 'stanford talk': 2547, 'talk realli': 2631, 'like advic': 1613, 'advic just': 99, 'just say': 1487, 'say hi': 2358, 'hi singapor': 1247, 'singapor ye': 2457, 'ye video': 3072, 'mba admiss': 1759, 'admiss tip': 95, 'tip stanford': 2714, 'stanford gsb': 2543, 'gsb deadlin': 1156, 'deadlin essay': 679, 'essay topic': 827, 'topic 20092010': 2751, 'ethic nonprofit': 829, 'nonprofit stanford': 1955, 'stanford socialentrepreneurship': 2546, 'laker tonight': 1550, 'tonight let': 2743, 'laker kick': 1547, 'kick nugget': 1507, 'nugget ass': 1966, 'ass tonight': 208, 'oooooooh north': 2025, 'korea troubleeee': 1542, 'wat heck': 2943, 'heck north': 1227, 'korea do': 1540, 'do just': 744, 'just conduct': 1471, 'conduct power': 575, 'power nuclear': 2146, 'nuclear test': 1965, 'test follow': 2652, 'follow link': 933, 'listen obama': 1636, 'obama friggin': 1977, 'friggin north': 968, 'just realiz': 1484, 'realiz monkey': 2225, 'monkey white': 1805, 'white obamabidenpelosi': 2996, 'obamabidenpelosi sarah': 1987, 'sarah palin': 2349, 'palin 2012': 2041, 'foxnew pelosi': 944, 'pelosi stay': 2056, 'stay china': 2559, 'china come': 507, 'nanci pelosi': 1857, 'pelosi gave': 2055, 'gave worst': 993, 'worst commenc': 3046, 'commenc speech': 562, 'speech ive': 2515, 'ive heard': 1419, 'heard ye': 1226, 'ye im': 3070, 'im bitter': 1323, 'ugh time': 2819, 'time stupid': 2703, 'stupid insect': 2584, 'insect bitten': 1363, 'bitten grr': 329, 'prettiest insect': 2162, 'insect pink': 1366, 'pink katydid': 2095, 'got barrag': 1108, 'barrag hord': 265, 'hord insect': 1278, 'insect hungri': 1364, 'hungri kitchen': 1301, 'kitchen light': 1530, 'light scari': 1611, 'just mcdonald': 1481, 'mcdonald dinner': 1763, 'dinner d': 732, 'd goooood': 635, 'goooood big': 1105, 'big mac': 314, 'mac meal': 1718, 'ahh ye': 108, 'ye lol': 3071, 'lol ima': 1649, 'ima tell': 1344, 'tell hubbi': 2644, 'hubbi sum': 1294, 'sum mcdonald': 2595, 'stop lunch': 2572, 'lunch mcdonald': 1715, 'mcdonald chicken': 1761, 'chicken nuggetssss': 500, 'nuggetssss yummmmmi': 1967, 'lot mcdonald': 1677, 'mcdonald mean': 1765, 'mean lot': 1767, 'exam went': 841, 'went good': 2985, 'good helloleoni': 1069, 'helloleoni prayer': 1232, 'prayer work': 2147, 'exam left': 836, 'left happi': 1598, 'happi d': 1182, 'math review': 1753, 'review im': 2270, 'go fail': 1042, 'fail exam': 865, 'colin powel': 541, 'powel rock': 2145, 'rock yesterday': 2293, 'yesterday cb': 3084, 'cb cheney': 475, 'cheney need': 498, 'need shut': 1877, 'shut hell': 2446, 'hell homepowel': 1229, 'homepowel man': 1273, 'man honor': 1737, 'honor serv': 1276, 'serv countri': 2408, 'countri proudli': 595, 'obvious side': 1990, 'side cheney': 2450, 'absolut hilari': 75, 'hilari mashabl': 1257, 'mashabl did': 1751, 'did thank': 723, 'thank includ': 2664, 'includ 100': 1351, '100 twitter': 7, 'twitter author': 2804, 'author rock': 231, 'rock amp': 2288, 'amp new': 148, 'new wave': 1905, 'wave d': 2961, 'jqueri 13': 1442, '13 book': 11, 'rt shrop': 2311, 'shrop awesom': 2444, 'awesom jqueri': 243, 'jqueri refer': 1453, 'refer book': 2248, 'book coda': 356, 'coda webdesign': 538, 'ive send': 1422, 'send email': 2402, 'email like': 810, 'like crazi': 1616, 'crazi today': 605, 'today contactsdo': 2722, 'contactsdo contact': 584, 'contact goodbi': 582, 'goodbi silversteinid': 1084, 'silversteinid love': 2455, 'love speak': 1703, 'cs4 commerci': 612, 'commerci goodbi': 565, 'wow googl': 3053, 'io confer': 1391, 'confer got': 577, 'g2 month': 990, 'month unlimit': 1808, 'unlimit servic': 2839, 'vkerkez dood': 2882, 'dood got': 756, 'free googl': 960, 'googl android': 1086, 'android phone': 158, 'phone io': 2074, 'confer g2': 576, 'orli g2': 2031, 'g2 amaz': 988, 'amaz btw': 130, 'btw huge': 395, 'huge improv': 1295, 'improv g1': 1350, 'html 5': 1293, '5 demo': 54, 'demo lot': 695, 'lot great': 1675, 'great stuff': 1146, 'stuff come': 2582, 'come ye': 560, 'im excit': 1326, 'excit io2009': 843, 'io2009 googleio': 1392, 'googleio yay': 1104, 'yay happi': 3067, 'happi place': 1186, 'place place': 2104, 'place love': 2101, 'googleio o3d': 1102, 'o3d bring': 1974, 'bring 3d': 387, '3d graphic': 42, 'graphic browser': 1132, 'browser nice': 392, 'nice tbh': 1915, 'tbh funfun': 2636, 'awesom viral': 247, 'market funni': 1746, 'funni peopl': 983, 'watch programm': 2953, 'programm life': 2178, 'life hitler': 1608, 'hitler enhanc': 1264, 'enhanc geeki': 813, 'geeki histori': 994, 'museum sheer': 1843, 'sheer desper': 2421, 'desper fund': 708, 'fund movi': 980, '2 pretti': 24, 'pretti furkin': 2159, 'furkin good': 985, 'museum giggl': 1835, 'pambeeslyjenna jenna': 2045, 'jenna went': 1431, 'went night': 2987, '2 today': 27, 'today surpris': 2732, 'surpris cast': 2611, 'cast member': 470, 'member offic': 1773, 'museum ryan': 1842, 'ryan staci': 2321, 'get readi': 1002, 'readi watch': 2219, '2 dum': 20, 'dum dum': 774, 'dum gum': 775, 'gum gum': 1164, 'see star': 2391, 'trek night': 2769, 'museum star': 1844, 'trek amaz': 2764, 'amaz night': 132, 'museum eh': 1833, 'just watch': 1493, '2 stinkin': 25, 'stinkin cute': 2566, '2 awesom': 18, 'awesom better': 239, 'better 1': 306, '1 weekend': 3, 'think new': 2683, 'new favorit': 1888, 'favorit restaur': 883, 'restaur way': 2263, 'way night': 2968, 'sold im': 2496, 'im see': 1336, 'see night': 2390, '2 im': 22, 'im year': 1343, 'museum love': 1837, 'love 3d': 1681, 'shame gm': 2415, 'gm forc': 1028, 'forc make': 941, 'make car': 1723, 'car white': 457, 'hous think': 1288, 'think sell': 2685, 'sell think': 2399, 'u notic': 2813, 'notic happi': 1962, 'happi gm': 1183, 'gm situat': 1033, 'situat aig': 2465, 'aig lehman': 112, 'lehman et': 1600, 'et al': 828, 'obama nation': 1980, 'nation gm': 1860, 'gm shortterm': 1032, 'shortterm ap': 2438, 'pittstock gm': 2098, 'gm good': 1029, 'good riddanc': 1078, 'riddanc sad': 2277, 'buy govern': 419, 'govern motor': 1128, 'motor vehicl': 1815, 'vehicl just': 2863, 'just recent': 1485, 'recent drove': 2241, 'drove gm': 771, 'car 1988': 450, '1988 bought': 16, 'have old': 1211, 'old cocacola': 2011, 'cocacola guy': 537, 'guy gm': 1169, 'gm board': 1022, 'board stupid': 349, 'stupid heck': 2583, 'heck tcot': 1228, 'tcot ala': 2637, 'rantsandrav worst': 2202, 'worst thing': 3048, 'thing gm': 2675, 'gm concord': 1025, 'concord pleasant': 574, 'pleasant hill': 2125, 'hill martinez': 1258, 'martinez fuck': 1749, 'fuck uaw': 974, 'man fish': 1736, 'fish u': 915, 'u feed': 2810, 'feed day': 894, 'day teach': 676, 'teach fish': 2640, 'feed life': 895, 'life buy': 1607, 'gm u': 1036, 'u fk': 2812, 'fk good': 919, 'hear gm': 1224, 'gm thing': 1035, 'thing angri': 2674, 'angri billion': 159, 'billion wast': 316, 'wast bullshit': 2940, 'bullshit like': 409, 'like 40k': 1612, '40k employe': 51, 'quanttrad gm': 2191, 'car junk': 453, 'junk far': 1462, 'far qualiti': 875, 'qualiti compar': 2190, 'compar honda': 568, 'sad daybankrupt': 2322, 'daybankrupt gm': 677, 'upset gm': 2844, 'thing life': 2676, 'life know': 1609, 'know screw': 1533, 'run time': 2319, 'warner need': 2920, 'need repeatedli': 1876, 'repeatedli rape': 2258, 'rape rhino': 2203, 'rhino understand': 2272, 'understand consequ': 2827, 'consequ put': 581, 'put shitti': 2187, 'shitti cabl': 2431, 'cabl svc': 433, 'warner ceo': 2911, 'ceo hint': 479, 'hint onlin': 1260, 'onlin fee': 2020, 'fee magazin': 893, 'magazin ap': 1719, 'ap read': 169, 'read mountain': 2209, 'mountain viewunit': 1817, 'viewunit state': 2873, 'state view': 2556, 'view 16209': 2872, 'wftb join': 2991, 'join bit': 1438, 'bit late': 326, 'late connect': 1557, 'connect boo': 580, 'boo time': 355, 'cox time': 599, 'warner cox': 2912, 'cox cheaper': 598, 'cheaper get': 490, 'get b': 1000, 'b dslreport': 251, 'dslreport tw': 773, 'tw expens': 2794, 'expens get': 848, 'get c': 1001, 'furiou time': 984, 'warner phone': 2922, 'phone promot': 2077, 'got home': 1112, 'home chickfila': 1268, 'chickfila boy': 501, 'boy damn': 375, 'damn internet': 646, 'internet stupid': 1384, 'timewarn cabl': 2710, 'cabl suck': 432, 'piss time': 2097, 'warner causin': 2910, 'causin slow': 473, 'slow internet': 2484, 'internet problem': 1383, 'sportsguy33 ummm': 2528, 'ummm have': 2825, 'have time': 1213, 'warner problem': 2923, 'guy doe': 1167, 'doe time': 751, 'warner suck': 2929, 'suck ass': 2589, 'ass realli': 207, 'realli wish': 2236, 'wish uvers': 3011, 'uvers apart': 2860, 'rt sportsguy33': 2313, 'sportsguy33 upsid': 2529, 'upsid time': 2845, 'warner unhelp': 2932, 'unhelp phone': 2831, 'phone oper': 2076, 'oper superslow': 2028, 'superslow onsit': 2602, 'onsit servic': 2022, 'servic crap': 2409, 'crap that': 601, 'that upsid': 2671, 'sportsguy33 new': 2526, 'new time': 1901, 'warner slogan': 2926, 'slogan time': 2480, 'warner make': 2919, 'make long': 1729, 'long day': 1651, 'day cabl': 667, 'confirm time': 578, 'warner fault': 2915, 'fault facebook': 881, 'facebook fb': 860, 'fb take': 885, 'take 3': 2620, '3 minut': 39, 'minut load': 1789, 'load tempt': 1643, 'tempt switch': 2646, 'switch verizon': 2616, 'sportsguy33 time': 2527, 'warner epic': 2914, 'epic fail': 821, 'lawson head': 1570, 'head newedg': 1221, 'newedg hong': 1907, 'hong kong': 1275, 'kong busi': 1538, 'busi china': 416, 'weird piano': 2981, 'piano guitar': 2085, 'guitar hous': 1163, 'hous china': 1286, 'send gmchevi': 2403, 'gmchevi photo': 1038, 'know sad': 1532, 'sad rt': 2323, 'rt caseymerci': 2300, 'caseymerci 1st': 467, '1st day': 17, 'day hurrican': 670, 'hurrican season': 1302, 'season that': 2385, 'that scarey': 2670, 'scarey govt': 2366, 'govt take': 1129, 'take gm': 2622, 'gm file': 1027, 'file bankruptci': 906, 'bankruptci good': 262, 'good sign': 1081, 'yanke won': 3064, 'won met': 3019, 'met lost': 1782, 'lost good': 1672, 'dentist appt': 697, 'appt today': 192, 'today actual': 2720, 'actual quit': 86, 'quit enjoy': 2192, 'hate ef': 1197, 'ef dentist': 804, 'stevemoakl dentist': 2562, 'appt morn': 191, 'morn convers': 1811, 'kirstiealley hate': 1527, 'hate go': 1198, 'hate dentistwho': 1195, 'dentistwho invent': 705, 'invent anyway': 1386, 'dentist offic': 702, 'offic cold': 1993, 'video david': 2866, 'david dentist': 662, 'dentist appoint': 696, 'appoint year': 189, 'year wednesday': 3080, 'wednesday possibl': 2973, 'tom shanahan': 2735, 'shanahan latest': 2416, 'latest column': 1559, 'column sdsu': 546, 'sdsu ncaa': 2379, 'basebal region': 271, 'region appear': 2249, 'baseballamericacom blog': 273, 'blog basebal': 339, 'basebal america': 269, 'america prospect': 137, 'prospect blog': 2179, 'blog blog': 340, 'portland citi': 2140, 'citi polit': 519, 'polit undo': 2135, 'undo basebal': 2828, 'basebal park': 270, 'rt watersisweb': 2316, 'watersisweb ca': 2960, 'ca merc': 424, 'merc water': 1777, 'water bottl': 2958, 'bottl safeway': 371, 'safeway resold': 2337, 'resold profit': 2262, 'profit well': 2174, 'well dri': 2984, 'dri counti': 763, 'drop broccoli': 769, 'broccoli walk': 389, 'walk home': 2895, 'home safeway': 1270, 'safeway depress': 2329, 'ronjon safeway': 2296, 'just appli': 1465, 'appli safeway': 188, 'safeway yeeeee': 2341, 'safeway place': 2336, 'place nightmar': 2102, 'nightmar right': 1928, 'right bum': 2278, 'safeway dad': 2328, 'hate safeway': 1205, 'safeway select': 2339, 'select green': 2398, 'green tea': 1153, 'tea icecream': 2639, 'icecream bought': 1306, 'bought carton': 372, 'carton wast': 463, 'wast money': 2941, 'money gtlt': 1803, 'safeway marvin': 2333, 'marvin janel': 1750, 'janel aunti': 1425, 'aunti lhu': 230, 'safeway offer': 2334, 'offer mobil': 1992, 'philli drive': 2071, 'drive cadillac': 766, 'cadillac cali': 435, 'cali win': 437, 'win 53': 3003, 'save money': 2351, 'money opt': 1804, 'opt groceri': 2029, 'groceri store': 1155, 'store trip': 2575, 'trip stock': 2781, 'stock food': 2568, 'food hotel': 937, 'hotel room': 1279, 'room fridg': 2297, 'fridg vs': 966, 'vs eat': 2888, 'eat night': 795, 'night town': 1926, 'loung eat': 1680, 'eat taco': 799, 'taco bell': 2618, 'bell watch': 293, 'watch nci': 2951, 'nci work': 1868, 'work tonight': 3038, 'tonight need': 2744, 'need help': 1872, 'help stay': 1236, 'stay awak': 2558, 'eat breakfast': 790, 'breakfast school': 386, 'hungri eat': 1300, '10 tip': 6, 'tip healthi': 2712, 'healthi eat': 1223, 'eat resultsbi': 797, 'resultsbi fit': 2266, 'fit blog': 916, 'blog fit': 341, 'boyfriend eat': 377, 'eat quesadilla': 796, 'eat dinner': 792, 'dinner meat': 733, 'meat chip': 1769, 'chip risotto': 514, 'new pair': 1897, 'pair nike': 2040, 'nike shoe': 1944, 'shoe pic': 2432, 'pic later': 2086, 'sb blazer': 2362, 'blazer high': 334, 'high acg': 1248, 'acg custom': 84, 'custom brad': 626, 'brad dougla': 379, 'nike rock': 1942, 'rock im': 2291, 'im super': 1338, 'super grate': 2598, 'grate ive': 1133, 'ive amp': 1418, 'amp european': 142, 'european divis': 830, 'divis nike': 743, 'nike whitstyl': 1950, 'whitstyl muchasmuert': 2997, 'nike air': 1930, 'air yeezi': 117, 'yeezi khakipink': 3083, 'khakipink colorway': 1504, 'colorway releas': 545, 'evelynbyrn tri': 832, 'tri nike': 2773, 'nike v': 1949, 'v addict': 2861, 'erickoston look': 823, 'look aw': 1656, 'aw lot': 235, 'lot like': 1676, 'like nike': 1623, 'nike privat': 1940, 'privat jetsim': 2166, 'jetsim just': 1433, 'just sayin': 1488, 'nike train': 1947, 'train club': 2760, 'club beta': 535, 'beta iphon': 305, 'iphon app': 1398, 'app look': 185, 'look interest': 1664, 'argghhhh jqueri': 198, 'jqueri appear': 1443, 'appear safari': 186, 'safari bad': 2325, 'bad safari': 255, 'devsnippet jqueri': 716, 'jqueri tool': 1455, 'tool javascript': 2749, 'javascript ui': 1429, 'ui compon': 2822, 'compon web': 572, 'ajaxjqueri css': 119, 'css javascript': 616, 'javascript exampl': 1428, 'readi drop': 2216, 'drop pretens': 770, 'pretens forev': 2155, 'forev love': 942, 'love jqueri': 1689, 'jqueri want': 1458, 'want marri': 2903, 'marri sorri': 1748, 'sorri ladi': 2510, 'ladi nerd': 1545, 'nerd jqueryspokenforj': 1880, 'cold look': 540, 'look googl': 1661, 'googl chartvisu': 1088, 'chartvisu api': 486, 'api jqueri': 174, 'jqueri wrapper': 1460, 'wrapper api': 3054, 'spent day': 2519, 'day read': 674, 'read jqueri': 2206, 'book start': 362, 'start drink': 2551, 'drink delirium': 764, 'delirium tremen': 694, 'jqueri selector': 1454, 'implement news': 1347, 'news ticker': 1909, 'ticker jqueri': 2691, 'jqueri line': 1448, 'line code': 1630, 'what buffet': 2992, 'buffet do': 399, 'do warren': 745, 'warren buffett': 2938, 'buffett kick': 405, 'kick butt': 1506, 'butt battl': 417, 'battl boot': 279, 'boot post': 367, 'post byalex': 2142, 'byalex cripp': 423, 'super investor': 2599, 'investor great': 1389, 'great weekend': 1150, 'weekend read': 2978, 'read warren': 2214, 'buffet oldi': 401, 'oldi goodi': 2015, 'im truli': 1340, 'truli braindead': 2785, 'braindead come': 380, 'come warren': 559, 'buffet save': 402, 'save soul': 2352, 'read michael': 2208, 'michael palin': 1784, 'palin book': 2042, 'book python': 358, 'python yearsgreat': 2189, 'yearsgreat book': 3082, 'book recommend': 360, 'recommend warren': 2244, 'buffet amp': 398, 'amp nelson': 147, 'nelson mandela': 1879, 'mandela bio': 1741, 'mean im': 1766, 'im notr': 1332, 'dame good': 642, 'good school': 1080, 'school id': 2368, 'id closer': 1307, 'closer dan': 534, 'dan id': 653, 'id enjoy': 1308, 'watch tv': 2955, 'tv tivo': 2793, 'tivo year': 2717, 'year timewarn': 3079, 'timewarn dvr': 2711, 'dvr suck': 780, 'id say': 1310, 'say sport': 2361, 'sport writer': 2524, 'writer idiot': 3056, 'idiot say': 1314, 'say roger': 2360, 'feder best': 891, 'best tenni': 303, 'tenni roger': 2647, 'kindle2 read': 1521, 'new york': 1906, 'york time': 3085, 'time doe': 2697, 'doe feel': 748, 'feel natur': 899, 'natur miss': 1861, 'miss bloomingdal': 1790, 'bloomingdal ad': 345, 'kindle2 stack': 1522, 'stack book': 2536, 'book trip': 364, 'trip way': 2782, 'way loo': 2967, 'today keynot': 2726, 'keynot rock': 1503, 'rock great': 2290, 'great announc': 1135, 'announc atampt': 163, 'atampt shit': 221, 'shit just': 2427, 'just littl': 1479, 'littl bit': 1639, 'sheridanmarfil obsess': 2422, 'obsess cell': 1989, 'cell phone': 477, 'phone iphon': 2075, 'iphon im': 1401, 'im slave': 1337, 'slave atampt': 2469, 'atampt forev': 214, 'freitasm oh': 962, 'oh thought': 2002, 'thought atampt': 2687, 'atampt 900mhz': 211, '900mhz wcdma': 71, 'plip did': 2126, 'did read': 720, 'read tether': 2212, 'tether support': 2655, 'support phil': 2606, 'phil just': 2069, 'just atampt': 1466, 'atampt o2': 218, 'o2 join': 1973, 'fuzzbal fun': 986, 'fun atampt': 976, 'atampt p': 219, 'today good': 2724, 'day dislik': 669, 'dislik atampt': 740, 'atampt vote': 223, 'vote offic': 2886, 'offic danielpunkass': 1995, 'got wave': 1124, 'wave sandbox': 2963, 'sandbox invit': 2348, 'invit extra': 1390, 'extra excit': 854, 'excit bad': 842, 'bad class': 254, 'class ill': 524, 'ill play': 1319, 'play soon': 2121, 'soon io2009': 2504, 'io2009 wave': 1394, 'look like': 1665, 'like summiz': 1626, 'summiz gone': 2596, 'gone tweet': 1055, 'tweet wwdc': 2798, 'hope girl': 1277, 'girl work': 1007, 'work buy': 3031, 'buy kindle2': 420, 'miss insightfil': 1791, 'insightfil column': 1368, 'column smart': 547, 'smart guy': 2487, 'guy look': 1171, 'look close': 1658, 'close he': 533, 'he impress': 1219, 'impress kindle2': 1349, 'kindle2 wroush': 1525, 'sklososki thank': 2468, 'thank happi': 2663, 'kindle2 winner': 1524, 'winner surpris': 3007, 'surpris fabul': 2612, 'fabul thank': 858, 'thank best': 2660, 'best kathleen': 301, 'man kinda': 1738, 'kinda dislik': 1509, 'dislik appl': 739, 'appl right': 187, 'right case': 2280, 'case point': 464, 'point iphon': 2134, 'iphon 3g': 1397, '3g wish': 43, 'wish video': 3012, 'video record': 2871, 'record app': 2245, 'cwong08 kindle2': 633, 'amp soni': 152, 'soni prs500': 2502, 'prs500 like': 2181, 'like physic': 1625, 'physic devic': 2083, 'devic feel': 714, 'feel good': 897, 'good font': 1068, 'font nice': 935, 'nice pg': 1913, 'pg turn': 2068, 'turn snappi': 2791, 'snappi enuf': 2492, 'enuf ui': 817, 'ui littl': 2823, 'littl klunki': 1641, 'kindle2 best': 1514, 'best eread': 297, 'eread work': 822, 'work uk': 3039, 'googl addict': 1085, 'addict thank': 91, 'thank point': 2666, 'point annamartin123': 2131, 'annamartin123 hahaha': 162, 'rubygem primari': 2317, 'primari debit': 2165, 'debit card': 685, 'card visa': 459, 'visa electron': 2878, 'bank new': 261, 'new visa': 1904, 'visa platinum': 2880, 'platinum card': 2113, 'dearest googl': 682, 'googl rich': 1096, 'rich bastard': 2273, 'bastard visa': 277, 'visa card': 2877, 'card sent': 458, 'sent doe': 2405, 'doe work': 752, 'work screw': 3036, 'screw littl': 2378, 'littl guy': 1640, 'guy like': 1170, 'date bobbi': 658, 'bobbi flay': 351, 'flay gut': 925, 'gut fieri': 1165, 'fieri food': 902, 'food network': 939, 'excit see': 844, 'see bobbi': 2388, 'flay guy': 926, 'guy fieri': 1168, 'fieri tomorrow': 903, 'tomorrow great': 2739, 'great american': 1134, 'american food': 138, 'food amp': 936, 'amp music': 146, 'music fest': 1847, 'gonna bobbi': 1057, 'flay 2moro': 921, '2moro shorelin': 36, 'shorelin eat': 2435, 'eat drink': 793, 'drink gonna': 765, 'gonna good': 1058, 'wait great': 2892, 'food music': 938, 'music festiv': 1848, 'festiv shorelin': 900, 'shorelin tomorrow': 2436, 'tomorrow mmmkatz': 2740, 'mmmkatz pastrami': 1796, 'pastrami bobbi': 2050, 'flay ye': 928, 'dad ny': 639, 'ny day': 1971, 'day ate': 665, 'ate mesa': 224, 'mesa grill': 1778, 'grill night': 1154, 'night met': 1921, 'met bobbi': 1780, 'flay fun': 923, 'fun complet': 977, 'complet lost': 571, 'lost voic': 1673, 'voic today': 2884, 'fight latex': 905, 'iheartseveru love': 1316, 'love want': 1706, 'want die': 2900, 'die latex': 729, 'latex devil': 1561, '7 hour': 66, 'hour 7': 1281, 'hour inkscap': 1283, 'inkscap crash': 1361, 'crash normal': 602, 'normal solid': 1958, 'solid rock': 2498, 'rock 7': 2287, 'hour latex': 1284, 'latex complain': 1560, 'complain slightest': 569, 'slightest thing': 2477, 'track iran': 2759, 'iran social': 1408, 'social media': 2495, 'shit hit': 2425, 'hit fan': 1262, 'fan irancrazi': 871, 'irancrazi iranelect': 1410, 'monday iran': 1801, 'iran implod': 1406, 'implod kitchen': 1348, 'kitchen disast': 1529, 'disast annagoss': 736, 'annagoss happi': 161, 'happi sebul': 1187, 'sebul nice': 2386, 'nice weekend': 1916, 'weekend goldpanda': 2976, 'goldpanda great': 1054, 'great whoop': 1151, 'twitter stock': 2807, 'stock buzz': 2567, 'buzz aapl': 421, 'aapl esf': 73, 'esf spi': 824, 'spi spx': 2521, 'spx palm': 2534, 'palm updat': 2043, 'updat 1200': 2841, '1200 pm': 10, 'readi test': 2218, 'test burger': 2651, 'burger receip': 411, 'receip weekend': 2239, 'weekend bobbi': 2975, 'flay great': 924, 'great receip': 1141, 'receip tri': 2238, 'tri thank': 2774, 'thank bobbi': 2661, 'johncmay bobbi': 1437, 'flay join': 927, 'lam love': 1553, 'love bobbi': 1684, 'flay favorit': 922, 'favorit rt': 884, 'rt terrysimpson': 2314, 'terrysimpson bflay': 2650, 'bflay need': 309, 'need place': 1874, 'place phoenix': 2103, 'phoenix great': 2072, 'great pepper': 1140, 'just creat': 1472, 'creat latex': 607, 'latex file': 1563, 'file scratch': 907, 'scratch did': 2375, 'did work': 724, 'work amandabittn': 3029, 'amandabittn great': 128, 'great time': 1148, 'time waster': 2706, 'use linux': 2853, 'linux love': 1635, 'love nicer': 1699, 'nicer window': 1917, 'window look': 3004, 'look forward': 1659, 'forward use': 943, 'use wysiwyg': 2859, 'wysiwyg latex': 3060, 'latex editor': 1562, 'use latex': 2852, 'latex lot': 1565, 'lot typeset': 1678, 'typeset mathemat': 2808, 'mathemat just': 1755, 'just look': 1480, 'look hideou': 1663, 'ask program': 205, 'program latex': 2176, 'latex indesign': 1564, 'indesign submit': 1353, 'submit calcio1': 2587, 'calcio1 link': 436, 'link 1': 1634, '1 comment': 1, 'note hate': 1961, 'hate word': 1208, 'word hate': 3024, 'hate page': 1203, 'page hate': 2038, 'hate latex': 1201, 'latex said': 1566, 'said hate': 2342, 'latex texn3rd': 1567, 'texn3rd come': 2656, 'come kill': 557, 'ahhh real': 110, 'real text': 2222, 'text edit': 2658, 'edit environ': 802, 'environ lt3': 818, 'lt3 latex': 1710, 'troubl iran': 2783, 'iran hmm': 1405, 'hmm iran': 1265, 'iran iran': 1407, 'iran far': 1404, 'far away': 874, 'away flockofseagullsweregeopoliticallycorrect': 238, 'read tweet': 2213, 'tweet come': 2795, 'come iran': 556, 'iran thing': 1409, 'thing terrifi': 2679, 'terrifi incred': 2648, 'incred sad': 1352}\n"
     ]
    }
   ],
   "source": [
    "# Might take a while...\n",
    "# You can save this for future use .. e.g. to apply on new text\n",
    "bow_transformer = CountVectorizer(analyzer=process_text).fit(df['Text'])\n",
    "\n",
    "# Print total number of vocab words\n",
    "print(len(bow_transformer.vocabulary_))\n",
    "print(bow_transformer.vocabulary_)"
   ]
  },
  {
   "cell_type": "markdown",
   "metadata": {},
   "source": [
    "Let's take one text and get its bag-of-words counts as a vector, putting to use our new `bow_transformer`:"
   ]
  },
  {
   "cell_type": "code",
   "execution_count": 34,
   "metadata": {
    "scrolled": true
   },
   "outputs": [
    {
     "name": "stdout",
     "output_type": "stream",
     "text": [
      "@kenburbary You'll love your Kindle2. I've had mine for a few months and never looked back. The new big one is huge! No need for remorse! :)\n"
     ]
    }
   ],
   "source": [
    "data4 = df['Text'][3]\n",
    "print(data4)"
   ]
  },
  {
   "cell_type": "markdown",
   "metadata": {},
   "source": [
    "Now let's see its vector representation:"
   ]
  },
  {
   "cell_type": "code",
   "execution_count": 35,
   "metadata": {},
   "outputs": [
    {
     "name": "stdout",
     "output_type": "stream",
     "text": [
      "  (0, 311)\t1\n",
      "  (0, 1296)\t1\n",
      "  (0, 1420)\t1\n",
      "  (0, 1500)\t1\n",
      "  (0, 1518)\t1\n",
      "  (0, 1666)\t1\n",
      "  (0, 1691)\t1\n",
      "  (0, 1807)\t1\n",
      "  (0, 1875)\t1\n",
      "  (0, 1885)\t1\n",
      "  (0, 3086)\t1\n",
      "(1, 3096)\n"
     ]
    }
   ],
   "source": [
    "bow4 = bow_transformer.transform([data4])\n",
    "print(bow4)\n",
    "print(bow4.shape)"
   ]
  },
  {
   "cell_type": "markdown",
   "metadata": {},
   "source": [
    "This means that there are several unique words in text file number 4 (after removing common stop words). We can see how many times each of them appears!"
   ]
  },
  {
   "cell_type": "code",
   "execution_count": 36,
   "metadata": {},
   "outputs": [
    {
     "name": "stdout",
     "output_type": "stream",
     "text": [
      "6pm let\n",
      "boo time\n"
     ]
    }
   ],
   "source": [
    "#Test\n",
    "print(bow_transformer.get_feature_names()[65])\n",
    "print(bow_transformer.get_feature_names()[355])"
   ]
  },
  {
   "cell_type": "code",
   "execution_count": 38,
   "metadata": {},
   "outputs": [
    {
     "data": {
      "text/plain": [
       "2447"
      ]
     },
     "execution_count": 38,
     "metadata": {},
     "output_type": "execute_result"
    }
   ],
   "source": [
    "# get the ID of a term\n",
    "bow_transformer.vocabulary_['sick child']"
   ]
  },
  {
   "cell_type": "code",
   "execution_count": 39,
   "metadata": {},
   "outputs": [
    {
     "data": {
      "text/plain": [
       "0"
      ]
     },
     "execution_count": 39,
     "metadata": {},
     "output_type": "execute_result"
    }
   ],
   "source": [
    "#get the frequency of term with ID 70712\n",
    "bow4.toarray()[0,556]"
   ]
  },
  {
   "cell_type": "markdown",
   "metadata": {},
   "source": [
    "Now we can use **.transform** on our Bag-of-Words (bow) transformed object and transform the entire DataFrame of text file contents. Let's go ahead and check out how the bag-of-words counts for the entire corpus in a large, sparse matrix:"
   ]
  },
  {
   "cell_type": "code",
   "execution_count": 40,
   "metadata": {},
   "outputs": [],
   "source": [
    "text_bow = bow_transformer.transform(df['Text'])"
   ]
  },
  {
   "cell_type": "code",
   "execution_count": 41,
   "metadata": {},
   "outputs": [
    {
     "name": "stdout",
     "output_type": "stream",
     "text": [
      "Shape of Sparse Matrix:  (498, 3096)\n",
      "Amount of Non-Zero occurences:  3366\n"
     ]
    }
   ],
   "source": [
    "print('Shape of Sparse Matrix: ', text_bow.shape)\n",
    "print('Amount of Non-Zero occurences: ', text_bow.nnz)"
   ]
  },
  {
   "cell_type": "code",
   "execution_count": 42,
   "metadata": {},
   "outputs": [
    {
     "name": "stdout",
     "output_type": "stream",
     "text": [
      "sparsity: 0.21831512094891192\n"
     ]
    }
   ],
   "source": [
    "sparsity = (100.0 * text_bow.nnz / (text_bow.shape[0] * text_bow.shape[1]))\n",
    "print('sparsity: {}'.format(sparsity))"
   ]
  },
  {
   "cell_type": "markdown",
   "metadata": {},
   "source": [
    "After the counting, the term weighting and normalization can be done with [TF-IDF](http://en.wikipedia.org/wiki/Tf%E2%80%93idf), using scikit-learn's `TfidfTransformer`.\n",
    "\n",
    "____\n",
    "### So what is TF-IDF?\n",
    "TF-IDF stands for *term frequency-inverse document frequency*, and the tf-idf weight is a weight often used in information retrieval and text mining. This weight is a statistical measure used to evaluate how important a word is to a document in a collection or corpus. The importance increases proportionally to the number of times a word appears in the document but is offset by the frequency of the word in the corpus. Variations of the tf-idf weighting scheme are often used by search engines as a central tool in scoring and ranking a document's relevance given a user query.\n",
    "\n",
    "One of the simplest ranking functions is computed by summing the tf-idf for each query term; many more sophisticated ranking functions are variants of this simple model.\n",
    "\n",
    "Typically, the tf-idf weight is composed by two terms: the first computes the normalized Term Frequency (TF), aka. the number of times a word appears in a document, divided by the total number of words in that document; the second term is the Inverse Document Frequency (IDF), computed as the logarithm of the number of the documents in the corpus divided by the number of documents where the specific term appears.\n",
    "\n",
    "**TF: Term Frequency**, which measures how frequently a term occurs in a document. Since every document is different in length, it is possible that a term would appear much more times in long documents than shorter ones. Thus, the term frequency is often divided by the document length (aka. the total number of terms in the document) as a way of normalization: \n",
    "\n",
    "*TF(t) = (Number of times term t appears in a document) / (Total number of terms in the document).*\n",
    "\n",
    "**IDF: Inverse Document Frequency**, which measures how important a term is. While computing TF, all terms are considered equally important. However it is known that certain terms, such as \"is\", \"of\", and \"that\", may appear a lot of times but have little importance. Thus we need to weigh down the frequent terms while scale up the rare ones, by computing the following: \n",
    "\n",
    "*IDF(t) = log_e(Total number of documents / Number of documents that contain term t).*\n",
    "\n",
    "See below for a simple example.\n",
    "\n",
    "**Example:**\n",
    "\n",
    "Consider a document containing 100 words wherein the word **cat** appears 3 times. \n",
    "\n",
    "The term frequency (i.e., tf) for cat is then (3 / 100) = 0.03. Now, assume we have 10 million documents and the word **cat** appears in one thousand of these. Then, the inverse document frequency (i.e., idf) is calculated as log(10,000,000 / 1,000) = 4. Thus, the TF-IDF weight is the product of these quantities: 0.03 * 4 = 0.12.\n",
    "____\n",
    "\n",
    "<table border = “1“>\n",
    "<tr>\n",
    "<th></th> <th>Word 1 Weight</th> <th>Word 2 Weight</th> <th>...</th> <th>Word M Weight</th> \n",
    "</tr>\n",
    "<tr>\n",
    "<td><b>File 1</b></td><td>0.033</td><td>1.092</td><td>...</td><td>1.301</td>\n",
    "</tr>\n",
    "<tr>\n",
    "<td><b>File 2</b></td><td>2.98</td><td>1.106</td><td>...</td><td>0.093</td>\n",
    "</tr>\n",
    "<tr>\n",
    "<td><b>...</b></td> <td>1</td><td>2</td><td>...</td><td>2.102</td>\n",
    "</tr>\n",
    "<tr>\n",
    "<td><b>File N</b></td> <td>0.173</td><td>0618</td><td>...</td><td>0.602</td>\n",
    "</tr>\n",
    "</table>\n",
    "\n",
    "_____________\n",
    "\n",
    "\n",
    "Let's go ahead and see how we can do this in SciKit Learn:"
   ]
  },
  {
   "cell_type": "code",
   "execution_count": null,
   "metadata": {},
   "outputs": [],
   "source": [
    "x"
   ]
  },
  {
   "cell_type": "code",
   "execution_count": 43,
   "metadata": {},
   "outputs": [
    {
     "name": "stdout",
     "output_type": "stream",
     "text": [
      "  (0, 3086)\t0.30602159009044216\n",
      "  (0, 1885)\t0.30602159009044216\n",
      "  (0, 1875)\t0.30602159009044216\n",
      "  (0, 1807)\t0.30602159009044216\n",
      "  (0, 1691)\t0.2734854540213297\n",
      "  (0, 1666)\t0.30602159009044216\n",
      "  (0, 1518)\t0.2869891705716503\n",
      "  (0, 1500)\t0.30602159009044216\n",
      "  (0, 1420)\t0.30602159009044216\n",
      "  (0, 1296)\t0.30602159009044216\n",
      "  (0, 311)\t0.30602159009044216\n"
     ]
    }
   ],
   "source": [
    "from sklearn.feature_extraction.text import TfidfTransformer\n",
    "# You can save this for future use .. e.g. to apply on new text\n",
    "tfidf_transformer = TfidfTransformer().fit(text_bow)\n",
    "\n",
    "tfidf4 = tfidf_transformer.transform(bow4)\n",
    "print(tfidf4)"
   ]
  },
  {
   "cell_type": "markdown",
   "metadata": {},
   "source": [
    "We'll go ahead and check what is the IDF (inverse document frequency) of the word `\"see\"` and of word `\"crack\"`?"
   ]
  },
  {
   "cell_type": "code",
   "execution_count": 46,
   "metadata": {},
   "outputs": [
    {
     "name": "stdout",
     "output_type": "stream",
     "text": [
      "6.519458915191573\n",
      "6.519458915191573\n"
     ]
    }
   ],
   "source": [
    "print(tfidf_transformer.idf_[bow_transformer.vocabulary_['sick child']])\n",
    "print(tfidf_transformer.idf_[bow_transformer.vocabulary_['love lee']])"
   ]
  },
  {
   "cell_type": "markdown",
   "metadata": {},
   "source": [
    "To transform the entire bag-of-words corpus into TF-IDF corpus at once:"
   ]
  },
  {
   "cell_type": "code",
   "execution_count": 47,
   "metadata": {},
   "outputs": [
    {
     "name": "stdout",
     "output_type": "stream",
     "text": [
      "(498, 3096)\n"
     ]
    }
   ],
   "source": [
    "text_tfidf = tfidf_transformer.transform(text_bow)\n",
    "print(text_tfidf.shape)"
   ]
  },
  {
   "cell_type": "markdown",
   "metadata": {},
   "source": [
    "### If you have new unknown text\n",
    "\n",
    "You must prepare your new input by applying the same transformers .. otherwise you'll get errors\n",
    "\n",
    "1- You need to load the two transformers if you have saved them OR retrain them from scratch (not recommended)\n",
    "\n",
    "2- Apply them to prepare your input\n",
    "\n",
    "3- Feed the input into your trained classifier!"
   ]
  },
  {
   "cell_type": "code",
   "execution_count": 48,
   "metadata": {},
   "outputs": [],
   "source": [
    "#text_tfidf[2:4,1000:2050].toarray()\n",
    "#test_bow = bow_transformer.transform([input_text])\n",
    "#test_data = tfidf_transformer.transform(test_bow)\n",
    "#model.predict(test_data)"
   ]
  },
  {
   "cell_type": "markdown",
   "metadata": {},
   "source": [
    "# Now the Data is Ready for Classifier Usage"
   ]
  },
  {
   "cell_type": "markdown",
   "metadata": {},
   "source": [
    "## Training a NaiveBayes model"
   ]
  },
  {
   "cell_type": "markdown",
   "metadata": {},
   "source": [
    "With text files represented as vectors, we can finally train our favourite classifier. Now we can actually use almost any sort of classification algorithms. For a [variety of reasons](http://www.inf.ed.ac.uk/teaching/courses/inf2b/learnnotes/inf2b-learn-note07-2up.pdf), the Naive Bayes classifier algorithm is a good choice."
   ]
  },
  {
   "cell_type": "markdown",
   "metadata": {},
   "source": [
    "We'll be using scikit-learn here, choosing the [Naive Bayes](http://en.wikipedia.org/wiki/Naive_Bayes_classifier) classifier to start with:"
   ]
  },
  {
   "cell_type": "code",
   "execution_count": 49,
   "metadata": {},
   "outputs": [],
   "source": [
    "from sklearn.naive_bayes import MultinomialNB\n",
    "detect_model = MultinomialNB().fit(text_tfidf, df['Category'])"
   ]
  },
  {
   "cell_type": "markdown",
   "metadata": {},
   "source": [
    "Let's try classifying our single random text and checking how we do:"
   ]
  },
  {
   "cell_type": "code",
   "execution_count": 50,
   "metadata": {},
   "outputs": [
    {
     "name": "stdout",
     "output_type": "stream",
     "text": [
      "predicted: 4\n",
      "expected: 4\n"
     ]
    }
   ],
   "source": [
    "print('predicted:', detect_model.predict(tfidf4)[0])\n",
    "print('expected:', df.Category[3])"
   ]
  },
  {
   "cell_type": "markdown",
   "metadata": {},
   "source": [
    "Fantastic! We've developed a model that can attempt to predict the category of input text!\n",
    "\n",
    "### Model Evaluation\n",
    "Now we want to determine how well our model will do overall on the entire dataset. Let's begin by getting all the predictions:"
   ]
  },
  {
   "cell_type": "code",
   "execution_count": 51,
   "metadata": {},
   "outputs": [],
   "source": [
    "all_predictions = detect_model.predict(text_tfidf)"
   ]
  },
  {
   "cell_type": "markdown",
   "metadata": {},
   "source": [
    "We can use SciKit Learn's built-in classification report, which returns [precision, recall,](https://en.wikipedia.org/wiki/Precision_and_recall) [f1-score](https://en.wikipedia.org/wiki/F1_score), and a column for support (meaning how many cases supported that classification)."
   ]
  },
  {
   "cell_type": "code",
   "execution_count": 52,
   "metadata": {},
   "outputs": [
    {
     "name": "stdout",
     "output_type": "stream",
     "text": [
      "              precision    recall  f1-score   support\n",
      "\n",
      "           0       0.99      0.99      0.99       177\n",
      "           2       1.00      0.99      0.99       139\n",
      "           4       0.99      1.00      0.99       182\n",
      "\n",
      "    accuracy                           0.99       498\n",
      "   macro avg       0.99      0.99      0.99       498\n",
      "weighted avg       0.99      0.99      0.99       498\n",
      "\n"
     ]
    }
   ],
   "source": [
    "from sklearn.metrics import classification_report\n",
    "print(classification_report(df['Category'], all_predictions))"
   ]
  },
  {
   "cell_type": "markdown",
   "metadata": {},
   "source": [
    "In the above \"evaluation\", we evaluated accuracy on the same data we used for training. **You should never actually evaluate on the same dataset you train on!**\n",
    "\n",
    "Such evaluation tells us nothing about the true predictive power of our model. If we simply remembered each example during training, the accuracy on training data would trivially be 100%, even though we wouldn't be able to classify any new texts.\n",
    "\n",
    "A proper way is to split the data into a training/test set, where the model only ever sees the **training data** during its model fitting and parameter tuning. The **test data** is never used in any way. This is then our final evaluation on test data is representative of true predictive performance."
   ]
  },
  {
   "cell_type": "markdown",
   "metadata": {},
   "source": [
    "Another way is to use ** Cross Validation **. \n",
    "\n",
    "In n Fold cross validation, the data is divided into n non-overlapping subsets. We repeat the following n times:\n",
    "* one of the n subsets is used as the test set/ validation set\n",
    "* the other n-1 subsets are put together to form a training set. \n",
    "* The error estimation is averaged over all n trials to get total accuracy of the model. "
   ]
  },
  {
   "cell_type": "markdown",
   "metadata": {},
   "source": [
    "#### Cross Validation"
   ]
  },
  {
   "cell_type": "code",
   "execution_count": 53,
   "metadata": {},
   "outputs": [
    {
     "name": "stdout",
     "output_type": "stream",
     "text": [
      "Accuracy: 0.44 (+/- 0.16)\n"
     ]
    }
   ],
   "source": [
    "from sklearn.model_selection import cross_val_score\n",
    "clf = MultinomialNB()\n",
    "scores = cross_val_score(clf, text_tfidf, df['Category'],  cv=8)\n",
    "#scores\n",
    "print(\"Accuracy: %0.2f (+/- %0.2f)\" % (scores.mean(), scores.std() * 2))"
   ]
  },
  {
   "cell_type": "markdown",
   "metadata": {},
   "source": [
    "## Training a RandomForest model"
   ]
  },
  {
   "cell_type": "code",
   "execution_count": 54,
   "metadata": {},
   "outputs": [],
   "source": [
    "from sklearn.ensemble import RandomForestClassifier"
   ]
  },
  {
   "cell_type": "markdown",
   "metadata": {},
   "source": [
    "#### Cross Validation"
   ]
  },
  {
   "cell_type": "code",
   "execution_count": 55,
   "metadata": {},
   "outputs": [
    {
     "name": "stdout",
     "output_type": "stream",
     "text": [
      "Accuracy: 0.44 (+/- 0.14)\n"
     ]
    }
   ],
   "source": [
    "clf = RandomForestClassifier()\n",
    "scores = cross_val_score(clf, text_tfidf, df['Category'],  cv=8)\n",
    "#scores\n",
    "print(\"Accuracy: %0.2f (+/- %0.2f)\" % (scores.mean(), scores.std() * 2))"
   ]
  },
  {
   "cell_type": "markdown",
   "metadata": {},
   "source": [
    "## Plot the Confusion Matrix"
   ]
  },
  {
   "cell_type": "code",
   "execution_count": 56,
   "metadata": {},
   "outputs": [
    {
     "name": "stdout",
     "output_type": "stream",
     "text": [
      "Accuracy: 0.42, Time duration: 0.008004188537597656\n"
     ]
    },
    {
     "data": {
      "image/png": "[encoded data removed]",
      "text/plain": [
       "<Figure size 1080x720 with 2 Axes>"
      ]
     },
     "metadata": {
      "needs_background": "light"
     },
     "output_type": "display_data"
    }
   ],
   "source": [
    "from sklearn.metrics import confusion_matrix\n",
    "import matplotlib.pyplot as plt\n",
    "import time\n",
    "from sklearn.model_selection import train_test_split\n",
    "\n",
    "start = time.time()\n",
    "clf = MultinomialNB()\n",
    "#classifier = Pipeline([('vectorizer', TfidfVectorizer(stop_words=stopwords.words('english') + list(string.punctuation))),('classifier', LinearSVC(C=10))])\n",
    "X_train, X_test, y_train, y_test = train_test_split(text_tfidf, df['Category'], test_size=0.2, random_state=11)\n",
    "clf.fit(X_train, y_train)\n",
    "end = time.time()\n",
    "\n",
    "print(\"Accuracy: \" + str(clf.score(X_test, y_test)) + \", Time duration: \" + str(end - start))\n",
    "\n",
    "y_pred = clf.predict(X_test)\n",
    "conf_mat = confusion_matrix(y_test, y_pred)\n",
    "\n",
    "# Plot confusion_matrix\n",
    "fig, ax = plt.subplots(figsize=(15, 10))\n",
    "sns.heatmap(conf_mat, annot=True, cmap = \"Set3\", fmt =\"d\",\n",
    "xticklabels=df.Category.unique(), yticklabels=df.Category.unique())\n",
    "plt.ylabel('Actual')\n",
    "plt.xlabel('Predicted')\n",
    "plt.show()\n"
   ]
  }
 ],
 "metadata": {
  "kernelspec": {
   "display_name": "Python 3",
   "language": "python",
   "name": "python3"
  },
  "language_info": {
   "codemirror_mode": {
    "name": "ipython",
    "version": 3
   },
   "file_extension": ".py",
   "mimetype": "text/x-python",
   "name": "python",
   "nbconvert_exporter": "python",
   "pygments_lexer": "ipython3",
   "version": "3.8.5"
  }
 },
 "nbformat": 4,
 "nbformat_minor": 1
}
