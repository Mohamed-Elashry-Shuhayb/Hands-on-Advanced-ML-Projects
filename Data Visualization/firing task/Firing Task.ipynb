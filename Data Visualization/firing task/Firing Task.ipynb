{
 "cells": [
  {
   "cell_type": "markdown",
   "id": "84dabc50",
   "metadata": {},
   "source": [
    "## Assignment Solution:"
   ]
  },
  {
   "cell_type": "markdown",
   "id": "6e25b8d7",
   "metadata": {},
   "source": [
    "1. Suppose you fired Jackie and you now only had Shahrukh’s and Brad’s forecasts for next quarter. Shahrukh predicts 1.45 and Brad says 1.19. What would you predict? \n",
    "\n",
    "> - **`my prdiction is = 1.42`** acording to the next built model. \n",
    "\n",
    "2. In practice (if you were in this company) would you have considered taking the average of the forecasts of these 2 experts to answer question 1? \n",
    "\n",
    "> - **No** may be the average of the forecasts of these 2 experts be almost equal to the actual value but i can``t depend on others' predictions as we can see brad has a vary range of errors according to figure 2 and table 3 in addition to the R-square in my OLS analysis. \n",
    "\n",
    "3. Which expert do you suggest to fire? Brad, Shahrukh or Jackie? \n",
    "\n",
    "> - **Brad** because acording to OLS analysis get less R_square . \n",
    "\n",
    "4. Did you use linear regression for your analysis to answer question 1? Question 3? \n",
    "\n",
    "> - **Yes** for both question on q1 bulid a time series model to get the next quarter prediction ,also on q3 use OLS model for analysis each expert predictions .\n",
    "\n",
    "5. Would you have used linear regression in your job to answer question 1? What about question 3?\n",
    "\n",
    "> - **Yes** for q1 I prefered to use time series as a specific type of linear regression model , **but** q3 we can get the answer from graphs without needs to use linear regression model . "
   ]
  },
  {
   "cell_type": "markdown",
   "id": "04841b1b",
   "metadata": {},
   "source": [
    "## reading Data   "
   ]
  },
  {
   "cell_type": "code",
   "execution_count": 1,
   "id": "64aa5a0c",
   "metadata": {},
   "outputs": [
    {
     "data": {
      "text/plain": [
       "'Date,Shahrukh,Jackie Chan,Brad,Actual\\n3/31/1999, 0.93, 0.86, 1.31 ,1.07 \\n6/30/1999, 0.85, 0.81, 1.04, 1.03 \\n9/30/1999 ,1.18, 1.12 ,0.69, 1.07 \\n12/31/1999, 0.91, 0.93, 0.94 ,1.00\\n 3/31/2000 ,0.87, 0.85, 0.96, 0.95 \\n6/30/2000, 1.13 ,1.03 ,0.45 ,0.96 \\n9/29/2000 ,0.69, 1.03 ,1.03, 0.88 \\n12/29/2000 ,0.83 ,0.75 ,0.90 ,0.93\\n 3/30/2001 ,0.92, 1.00, 0.83, 0.88 \\n6/29/2001 ,0.77 ,0.89 ,1.09 ,0.85 \\n9/28/2001, 1.14 ,0.92, 0.51, 0.92 \\n12/31/2001 ,0.75 ,0.63, 0.83 ,0.88 \\n3/29/2002 ,0.92, 0.90, 0.83, 0.87 \\n6/28/2002 ,1.00 ,0.98 ,0.79 ,1.00 \\n9/30/2002 ,1.16, 1.08, 0.68 ,0.99 \\n12/31/2002, 0.89 ,1.26 ,1.45 ,1.04 \\n3/31/2003 ,1.04 ,1.02, 1.45 ,1.09 \\n6/30/2003 ,1.02 ,1.12 ,1.06 ,1.14 \\n9/30/2003 ,1.20, 1.12 ,1.24 ,1.17 \\n12/31/2003 ,1.09 ,1.19 ,1.39 ,1.25 \\n3/31/2004 ,1.42, 1.28 ,1.10, 1.22 \\n6/30/2004 ,1.23 ,1.16 ,1.21 ,1.21 \\n9/30/2004 ,1.29 ,1.15, 0.68 ,1.23 \\n12/31/2004 ,1.43, 1.40 ,1.39 ,1.36 \\n3/31/2005 ,1.34 ,1.44, 1.34 ,1.30 \\n6/30/2005 ,1.05 ,1.26 ,1.31 ,1.20 \\n9/30/2005 ,1.15, 1.35 ,1.44, 1.20 \\n12/30/2005 ,1.19 ,1.19 ,1.08 ,1.18 \\n3/31/2006 ,1.24 ,1.09, 0.91 ,1.21 \\n6/30/2006 ,1.45 ,1.42 ,1.19, 1.27 \\n9/29/2006 ,1.30, 1.22 ,0.93 ,1.27 \\n12/29/2006 ,1.05, 1.26 ,1.77 ,1.32 \\n3/30/2007 ,1.31 ,1.55 ,1.51 ,1.33 \\n6/29/2007 ,1.61 ,1.42 ,0.81 ,1.35 \\n9/28/2007 ,1.54 ,1.40 ,1.50 ,1.42'"
      ]
     },
     "execution_count": 1,
     "metadata": {},
     "output_type": "execute_result"
    }
   ],
   "source": [
    "my_file = open('data.txt')\n",
    "my_file.read()"
   ]
  },
  {
   "cell_type": "code",
   "execution_count": 2,
   "id": "5215b2aa",
   "metadata": {},
   "outputs": [],
   "source": [
    "import pandas as pd\n",
    "read_file = pd.read_csv (r'data.txt')\n",
    "read_file.to_csv ('train.csv', index=None)"
   ]
  },
  {
   "cell_type": "code",
   "execution_count": 3,
   "id": "526e4aae",
   "metadata": {},
   "outputs": [
    {
     "name": "stderr",
     "output_type": "stream",
     "text": [
      "C:\\Users\\Decimal\\AppData\\Local\\Temp\\ipykernel_5664\\3192234847.py:4: FutureWarning: The squeeze argument has been deprecated and will be removed in a future version. Append .squeeze(\"columns\") to the call to squeeze.\n",
      "\n",
      "\n",
      "  series = pd.read_csv('train.csv', header=0 , index_col=0, squeeze=True, parse_dates=True)\n"
     ]
    },
    {
     "data": {
      "text/html": [
       "<div>\n",
       "<style scoped>\n",
       "    .dataframe tbody tr th:only-of-type {\n",
       "        vertical-align: middle;\n",
       "    }\n",
       "\n",
       "    .dataframe tbody tr th {\n",
       "        vertical-align: top;\n",
       "    }\n",
       "\n",
       "    .dataframe thead th {\n",
       "        text-align: right;\n",
       "    }\n",
       "</style>\n",
       "<table border=\"1\" class=\"dataframe\">\n",
       "  <thead>\n",
       "    <tr style=\"text-align: right;\">\n",
       "      <th></th>\n",
       "      <th>Shahrukh</th>\n",
       "      <th>Jackie Chan</th>\n",
       "      <th>Brad</th>\n",
       "      <th>Actual</th>\n",
       "    </tr>\n",
       "    <tr>\n",
       "      <th>Date</th>\n",
       "      <th></th>\n",
       "      <th></th>\n",
       "      <th></th>\n",
       "      <th></th>\n",
       "    </tr>\n",
       "  </thead>\n",
       "  <tbody>\n",
       "    <tr>\n",
       "      <th>1999-03-31</th>\n",
       "      <td>0.93</td>\n",
       "      <td>0.86</td>\n",
       "      <td>1.31</td>\n",
       "      <td>1.07</td>\n",
       "    </tr>\n",
       "    <tr>\n",
       "      <th>1999-06-30</th>\n",
       "      <td>0.85</td>\n",
       "      <td>0.81</td>\n",
       "      <td>1.04</td>\n",
       "      <td>1.03</td>\n",
       "    </tr>\n",
       "    <tr>\n",
       "      <th>1999-09-30</th>\n",
       "      <td>1.18</td>\n",
       "      <td>1.12</td>\n",
       "      <td>0.69</td>\n",
       "      <td>1.07</td>\n",
       "    </tr>\n",
       "    <tr>\n",
       "      <th>1999-12-31</th>\n",
       "      <td>0.91</td>\n",
       "      <td>0.93</td>\n",
       "      <td>0.94</td>\n",
       "      <td>1.00</td>\n",
       "    </tr>\n",
       "    <tr>\n",
       "      <th>2000-03-31</th>\n",
       "      <td>0.87</td>\n",
       "      <td>0.85</td>\n",
       "      <td>0.96</td>\n",
       "      <td>0.95</td>\n",
       "    </tr>\n",
       "  </tbody>\n",
       "</table>\n",
       "</div>"
      ],
      "text/plain": [
       "            Shahrukh  Jackie Chan  Brad  Actual\n",
       "Date                                           \n",
       "1999-03-31      0.93         0.86  1.31    1.07\n",
       "1999-06-30      0.85         0.81  1.04    1.03\n",
       "1999-09-30      1.18         1.12  0.69    1.07\n",
       "1999-12-31      0.91         0.93  0.94    1.00\n",
       "2000-03-31      0.87         0.85  0.96    0.95"
      ]
     },
     "execution_count": 3,
     "metadata": {},
     "output_type": "execute_result"
    }
   ],
   "source": [
    "import pandas as pd\n",
    "from matplotlib import pyplot\n",
    "\n",
    "series = pd.read_csv('train.csv', header=0 , index_col=0, squeeze=True, parse_dates=True)\n",
    "series.head()"
   ]
  },
  {
   "cell_type": "markdown",
   "id": "95c27829",
   "metadata": {},
   "source": [
    "## Analytics"
   ]
  },
  {
   "cell_type": "code",
   "execution_count": 4,
   "id": "021caaba",
   "metadata": {},
   "outputs": [
    {
     "data": {
      "image/png": "[encoded data removed]",
      "text/plain": [
       "<Figure size 640x480 with 1 Axes>"
      ]
     },
     "metadata": {},
     "output_type": "display_data"
    }
   ],
   "source": [
    "series.plot()\n",
    "pyplot.show()"
   ]
  },
  {
   "cell_type": "markdown",
   "id": "9510c8a0",
   "metadata": {},
   "source": [
    "We can see that the dataset has a clear trend.\n",
    "\n",
    "This suggests that the time series is not stationary and will require differencing to make it stationary, at least a difference order of 1."
   ]
  },
  {
   "cell_type": "markdown",
   "id": "d4d658b8",
   "metadata": {},
   "source": [
    "Let’s also take a quick look at an autocorrelation plot of the time series. This is also built-in to Pandas. The example below plots the autocorrelation for a large number of lags in the time series."
   ]
  },
  {
   "cell_type": "code",
   "execution_count": 5,
   "id": "a83e8607",
   "metadata": {},
   "outputs": [
    {
     "name": "stderr",
     "output_type": "stream",
     "text": [
      "C:\\Users\\Decimal\\AppData\\Local\\Temp\\ipykernel_5664\\1423975354.py:3: FutureWarning: The squeeze argument has been deprecated and will be removed in a future version. Append .squeeze(\"columns\") to the call to squeeze.\n",
      "\n",
      "\n",
      "  series = pd.read_csv('train.csv', header=0 , index_col=0, squeeze=True, parse_dates=True)\n"
     ]
    },
    {
     "data": {
      "image/png": "[encoded data removed]",
      "text/plain": [
       "<Figure size 640x480 with 1 Axes>"
      ]
     },
     "metadata": {},
     "output_type": "display_data"
    }
   ],
   "source": [
    "from pandas.plotting import autocorrelation_plot\n",
    "\n",
    "series = pd.read_csv('train.csv', header=0 , index_col=0, squeeze=True, parse_dates=True)\n",
    "autocorrelation_plot(series)\n",
    "pyplot.show()"
   ]
  },
  {
   "cell_type": "markdown",
   "id": "c34fa5fb",
   "metadata": {},
   "source": [
    "we can see that there is a positive correlation with the first 5-to-10 lags that is perhaps significant for the first 5 lags.\n",
    "\n",
    "A good starting point for the AR parameter of the model may be 5.\n"
   ]
  },
  {
   "cell_type": "code",
   "execution_count": 6,
   "id": "6db4c640",
   "metadata": {},
   "outputs": [
    {
     "name": "stderr",
     "output_type": "stream",
     "text": [
      "C:\\Users\\Decimal\\AppData\\Local\\Temp\\ipykernel_5664\\3294930430.py:4: FutureWarning: The squeeze argument has been deprecated and will be removed in a future version. Append .squeeze(\"columns\") to the call to squeeze.\n",
      "\n",
      "\n",
      "  series = pd.read_csv('train.csv', header=0 , index_col=0, squeeze=True, parse_dates=True)\n"
     ]
    },
    {
     "data": {
      "text/html": [
       "<div>\n",
       "<style scoped>\n",
       "    .dataframe tbody tr th:only-of-type {\n",
       "        vertical-align: middle;\n",
       "    }\n",
       "\n",
       "    .dataframe tbody tr th {\n",
       "        vertical-align: top;\n",
       "    }\n",
       "\n",
       "    .dataframe thead th {\n",
       "        text-align: right;\n",
       "    }\n",
       "</style>\n",
       "<table border=\"1\" class=\"dataframe\">\n",
       "  <thead>\n",
       "    <tr style=\"text-align: right;\">\n",
       "      <th></th>\n",
       "      <th>Shahrukh</th>\n",
       "      <th>Jackie Chan</th>\n",
       "      <th>Brad</th>\n",
       "      <th>Actual</th>\n",
       "    </tr>\n",
       "    <tr>\n",
       "      <th>Date</th>\n",
       "      <th></th>\n",
       "      <th></th>\n",
       "      <th></th>\n",
       "      <th></th>\n",
       "    </tr>\n",
       "  </thead>\n",
       "  <tbody>\n",
       "    <tr>\n",
       "      <th>1999-03</th>\n",
       "      <td>0.93</td>\n",
       "      <td>0.86</td>\n",
       "      <td>1.31</td>\n",
       "      <td>1.07</td>\n",
       "    </tr>\n",
       "    <tr>\n",
       "      <th>1999-06</th>\n",
       "      <td>0.85</td>\n",
       "      <td>0.81</td>\n",
       "      <td>1.04</td>\n",
       "      <td>1.03</td>\n",
       "    </tr>\n",
       "    <tr>\n",
       "      <th>1999-09</th>\n",
       "      <td>1.18</td>\n",
       "      <td>1.12</td>\n",
       "      <td>0.69</td>\n",
       "      <td>1.07</td>\n",
       "    </tr>\n",
       "    <tr>\n",
       "      <th>1999-12</th>\n",
       "      <td>0.91</td>\n",
       "      <td>0.93</td>\n",
       "      <td>0.94</td>\n",
       "      <td>1.00</td>\n",
       "    </tr>\n",
       "    <tr>\n",
       "      <th>2000-03</th>\n",
       "      <td>0.87</td>\n",
       "      <td>0.85</td>\n",
       "      <td>0.96</td>\n",
       "      <td>0.95</td>\n",
       "    </tr>\n",
       "    <tr>\n",
       "      <th>2000-06</th>\n",
       "      <td>1.13</td>\n",
       "      <td>1.03</td>\n",
       "      <td>0.45</td>\n",
       "      <td>0.96</td>\n",
       "    </tr>\n",
       "    <tr>\n",
       "      <th>2000-09</th>\n",
       "      <td>0.69</td>\n",
       "      <td>1.03</td>\n",
       "      <td>1.03</td>\n",
       "      <td>0.88</td>\n",
       "    </tr>\n",
       "    <tr>\n",
       "      <th>2000-12</th>\n",
       "      <td>0.83</td>\n",
       "      <td>0.75</td>\n",
       "      <td>0.90</td>\n",
       "      <td>0.93</td>\n",
       "    </tr>\n",
       "    <tr>\n",
       "      <th>2001-03</th>\n",
       "      <td>0.92</td>\n",
       "      <td>1.00</td>\n",
       "      <td>0.83</td>\n",
       "      <td>0.88</td>\n",
       "    </tr>\n",
       "    <tr>\n",
       "      <th>2001-06</th>\n",
       "      <td>0.77</td>\n",
       "      <td>0.89</td>\n",
       "      <td>1.09</td>\n",
       "      <td>0.85</td>\n",
       "    </tr>\n",
       "    <tr>\n",
       "      <th>2001-09</th>\n",
       "      <td>1.14</td>\n",
       "      <td>0.92</td>\n",
       "      <td>0.51</td>\n",
       "      <td>0.92</td>\n",
       "    </tr>\n",
       "    <tr>\n",
       "      <th>2001-12</th>\n",
       "      <td>0.75</td>\n",
       "      <td>0.63</td>\n",
       "      <td>0.83</td>\n",
       "      <td>0.88</td>\n",
       "    </tr>\n",
       "    <tr>\n",
       "      <th>2002-03</th>\n",
       "      <td>0.92</td>\n",
       "      <td>0.90</td>\n",
       "      <td>0.83</td>\n",
       "      <td>0.87</td>\n",
       "    </tr>\n",
       "    <tr>\n",
       "      <th>2002-06</th>\n",
       "      <td>1.00</td>\n",
       "      <td>0.98</td>\n",
       "      <td>0.79</td>\n",
       "      <td>1.00</td>\n",
       "    </tr>\n",
       "    <tr>\n",
       "      <th>2002-09</th>\n",
       "      <td>1.16</td>\n",
       "      <td>1.08</td>\n",
       "      <td>0.68</td>\n",
       "      <td>0.99</td>\n",
       "    </tr>\n",
       "    <tr>\n",
       "      <th>2002-12</th>\n",
       "      <td>0.89</td>\n",
       "      <td>1.26</td>\n",
       "      <td>1.45</td>\n",
       "      <td>1.04</td>\n",
       "    </tr>\n",
       "    <tr>\n",
       "      <th>2003-03</th>\n",
       "      <td>1.04</td>\n",
       "      <td>1.02</td>\n",
       "      <td>1.45</td>\n",
       "      <td>1.09</td>\n",
       "    </tr>\n",
       "    <tr>\n",
       "      <th>2003-06</th>\n",
       "      <td>1.02</td>\n",
       "      <td>1.12</td>\n",
       "      <td>1.06</td>\n",
       "      <td>1.14</td>\n",
       "    </tr>\n",
       "    <tr>\n",
       "      <th>2003-09</th>\n",
       "      <td>1.20</td>\n",
       "      <td>1.12</td>\n",
       "      <td>1.24</td>\n",
       "      <td>1.17</td>\n",
       "    </tr>\n",
       "    <tr>\n",
       "      <th>2003-12</th>\n",
       "      <td>1.09</td>\n",
       "      <td>1.19</td>\n",
       "      <td>1.39</td>\n",
       "      <td>1.25</td>\n",
       "    </tr>\n",
       "    <tr>\n",
       "      <th>2004-03</th>\n",
       "      <td>1.42</td>\n",
       "      <td>1.28</td>\n",
       "      <td>1.10</td>\n",
       "      <td>1.22</td>\n",
       "    </tr>\n",
       "    <tr>\n",
       "      <th>2004-06</th>\n",
       "      <td>1.23</td>\n",
       "      <td>1.16</td>\n",
       "      <td>1.21</td>\n",
       "      <td>1.21</td>\n",
       "    </tr>\n",
       "    <tr>\n",
       "      <th>2004-09</th>\n",
       "      <td>1.29</td>\n",
       "      <td>1.15</td>\n",
       "      <td>0.68</td>\n",
       "      <td>1.23</td>\n",
       "    </tr>\n",
       "    <tr>\n",
       "      <th>2004-12</th>\n",
       "      <td>1.43</td>\n",
       "      <td>1.40</td>\n",
       "      <td>1.39</td>\n",
       "      <td>1.36</td>\n",
       "    </tr>\n",
       "    <tr>\n",
       "      <th>2005-03</th>\n",
       "      <td>1.34</td>\n",
       "      <td>1.44</td>\n",
       "      <td>1.34</td>\n",
       "      <td>1.30</td>\n",
       "    </tr>\n",
       "    <tr>\n",
       "      <th>2005-06</th>\n",
       "      <td>1.05</td>\n",
       "      <td>1.26</td>\n",
       "      <td>1.31</td>\n",
       "      <td>1.20</td>\n",
       "    </tr>\n",
       "    <tr>\n",
       "      <th>2005-09</th>\n",
       "      <td>1.15</td>\n",
       "      <td>1.35</td>\n",
       "      <td>1.44</td>\n",
       "      <td>1.20</td>\n",
       "    </tr>\n",
       "    <tr>\n",
       "      <th>2005-12</th>\n",
       "      <td>1.19</td>\n",
       "      <td>1.19</td>\n",
       "      <td>1.08</td>\n",
       "      <td>1.18</td>\n",
       "    </tr>\n",
       "    <tr>\n",
       "      <th>2006-03</th>\n",
       "      <td>1.24</td>\n",
       "      <td>1.09</td>\n",
       "      <td>0.91</td>\n",
       "      <td>1.21</td>\n",
       "    </tr>\n",
       "    <tr>\n",
       "      <th>2006-06</th>\n",
       "      <td>1.45</td>\n",
       "      <td>1.42</td>\n",
       "      <td>1.19</td>\n",
       "      <td>1.27</td>\n",
       "    </tr>\n",
       "    <tr>\n",
       "      <th>2006-09</th>\n",
       "      <td>1.30</td>\n",
       "      <td>1.22</td>\n",
       "      <td>0.93</td>\n",
       "      <td>1.27</td>\n",
       "    </tr>\n",
       "    <tr>\n",
       "      <th>2006-12</th>\n",
       "      <td>1.05</td>\n",
       "      <td>1.26</td>\n",
       "      <td>1.77</td>\n",
       "      <td>1.32</td>\n",
       "    </tr>\n",
       "    <tr>\n",
       "      <th>2007-03</th>\n",
       "      <td>1.31</td>\n",
       "      <td>1.55</td>\n",
       "      <td>1.51</td>\n",
       "      <td>1.33</td>\n",
       "    </tr>\n",
       "    <tr>\n",
       "      <th>2007-06</th>\n",
       "      <td>1.61</td>\n",
       "      <td>1.42</td>\n",
       "      <td>0.81</td>\n",
       "      <td>1.35</td>\n",
       "    </tr>\n",
       "    <tr>\n",
       "      <th>2007-09</th>\n",
       "      <td>1.54</td>\n",
       "      <td>1.40</td>\n",
       "      <td>1.50</td>\n",
       "      <td>1.42</td>\n",
       "    </tr>\n",
       "  </tbody>\n",
       "</table>\n",
       "</div>"
      ],
      "text/plain": [
       "         Shahrukh  Jackie Chan  Brad  Actual\n",
       "Date                                        \n",
       "1999-03      0.93         0.86  1.31    1.07\n",
       "1999-06      0.85         0.81  1.04    1.03\n",
       "1999-09      1.18         1.12  0.69    1.07\n",
       "1999-12      0.91         0.93  0.94    1.00\n",
       "2000-03      0.87         0.85  0.96    0.95\n",
       "2000-06      1.13         1.03  0.45    0.96\n",
       "2000-09      0.69         1.03  1.03    0.88\n",
       "2000-12      0.83         0.75  0.90    0.93\n",
       "2001-03      0.92         1.00  0.83    0.88\n",
       "2001-06      0.77         0.89  1.09    0.85\n",
       "2001-09      1.14         0.92  0.51    0.92\n",
       "2001-12      0.75         0.63  0.83    0.88\n",
       "2002-03      0.92         0.90  0.83    0.87\n",
       "2002-06      1.00         0.98  0.79    1.00\n",
       "2002-09      1.16         1.08  0.68    0.99\n",
       "2002-12      0.89         1.26  1.45    1.04\n",
       "2003-03      1.04         1.02  1.45    1.09\n",
       "2003-06      1.02         1.12  1.06    1.14\n",
       "2003-09      1.20         1.12  1.24    1.17\n",
       "2003-12      1.09         1.19  1.39    1.25\n",
       "2004-03      1.42         1.28  1.10    1.22\n",
       "2004-06      1.23         1.16  1.21    1.21\n",
       "2004-09      1.29         1.15  0.68    1.23\n",
       "2004-12      1.43         1.40  1.39    1.36\n",
       "2005-03      1.34         1.44  1.34    1.30\n",
       "2005-06      1.05         1.26  1.31    1.20\n",
       "2005-09      1.15         1.35  1.44    1.20\n",
       "2005-12      1.19         1.19  1.08    1.18\n",
       "2006-03      1.24         1.09  0.91    1.21\n",
       "2006-06      1.45         1.42  1.19    1.27\n",
       "2006-09      1.30         1.22  0.93    1.27\n",
       "2006-12      1.05         1.26  1.77    1.32\n",
       "2007-03      1.31         1.55  1.51    1.33\n",
       "2007-06      1.61         1.42  0.81    1.35\n",
       "2007-09      1.54         1.40  1.50    1.42"
      ]
     },
     "execution_count": 6,
     "metadata": {},
     "output_type": "execute_result"
    }
   ],
   "source": [
    "# fit an ARIMA model and plot residual errors\n",
    "from statsmodels.tsa.arima.model import ARIMA\n",
    "# load dataset\n",
    "series = pd.read_csv('train.csv', header=0 , index_col=0, squeeze=True, parse_dates=True)\n",
    "series.index = series.index.to_period('M')\n",
    "series"
   ]
  },
  {
   "cell_type": "code",
   "execution_count": 7,
   "id": "eb3884bb",
   "metadata": {},
   "outputs": [],
   "source": [
    "# fit model\n",
    "model = ARIMA(series.Actual, order=(5,1,0))\n",
    "model_fit = model.fit()"
   ]
  },
  {
   "cell_type": "code",
   "execution_count": 8,
   "id": "b1888b3e",
   "metadata": {},
   "outputs": [
    {
     "name": "stdout",
     "output_type": "stream",
     "text": [
      "                               SARIMAX Results                                \n",
      "==============================================================================\n",
      "Dep. Variable:                 Actual   No. Observations:                   35\n",
      "Model:                 ARIMA(5, 1, 0)   Log Likelihood                  52.145\n",
      "Date:                Thu, 02 Mar 2023   AIC                            -92.290\n",
      "Time:                        10:44:13   BIC                            -83.132\n",
      "Sample:                    03-31-1999   HQIC                           -89.167\n",
      "                         - 09-30-2007                                         \n",
      "Covariance Type:                  opg                                         \n",
      "==============================================================================\n",
      "                 coef    std err          z      P>|z|      [0.025      0.975]\n",
      "------------------------------------------------------------------------------\n",
      "ar.L1         -0.0080      0.197     -0.040      0.968      -0.395       0.379\n",
      "ar.L2         -0.0429      0.190     -0.226      0.821      -0.415       0.329\n",
      "ar.L3          0.3126      0.223      1.400      0.162      -0.125       0.750\n",
      "ar.L4         -0.0419      0.186     -0.225      0.822      -0.406       0.322\n",
      "ar.L5          0.1783      0.233      0.764      0.445      -0.279       0.636\n",
      "sigma2         0.0027      0.001      3.337      0.001       0.001       0.004\n",
      "===================================================================================\n",
      "Ljung-Box (L1) (Q):                   0.08   Jarque-Bera (JB):                 0.56\n",
      "Prob(Q):                              0.78   Prob(JB):                         0.76\n",
      "Heteroskedasticity (H):               1.43   Skew:                             0.31\n",
      "Prob(H) (two-sided):                  0.57   Kurtosis:                         2.93\n",
      "===================================================================================\n",
      "\n",
      "Warnings:\n",
      "[1] Covariance matrix calculated using the outer product of gradients (complex-step).\n"
     ]
    }
   ],
   "source": [
    "# summary of fit model\n",
    "print(model_fit.summary())"
   ]
  },
  {
   "cell_type": "markdown",
   "id": "1e45b656",
   "metadata": {},
   "source": [
    "In our example, Ll : L5 are not statistically significant as their p-values are above the 0.05 threshold."
   ]
  },
  {
   "cell_type": "markdown",
   "id": "9e6780cc",
   "metadata": {},
   "source": [
    "This summarizes the coefficient values used as well as the skill of the fit on the on the in-sample observations."
   ]
  },
  {
   "cell_type": "code",
   "execution_count": 9,
   "id": "f1b79e90",
   "metadata": {},
   "outputs": [
    {
     "data": {
      "image/png": "[encoded data removed]",
      "text/plain": [
       "<Figure size 640x480 with 1 Axes>"
      ]
     },
     "metadata": {},
     "output_type": "display_data"
    }
   ],
   "source": [
    "from pandas import DataFrame\n",
    "# line plot of residuals\n",
    "residuals = DataFrame(model_fit.resid)\n",
    "residuals.plot()\n",
    "pyplot.show()"
   ]
  },
  {
   "cell_type": "markdown",
   "id": "764058dc",
   "metadata": {},
   "source": [
    "we get a line plot of the residual errors, suggesting that there may still be some trend information not captured by the model."
   ]
  },
  {
   "cell_type": "code",
   "execution_count": 10,
   "id": "a3927479",
   "metadata": {},
   "outputs": [
    {
     "data": {
      "image/png": "[encoded data removed]",
      "text/plain": [
       "<Figure size 640x480 with 1 Axes>"
      ]
     },
     "metadata": {},
     "output_type": "display_data"
    },
    {
     "name": "stdout",
     "output_type": "stream",
     "text": [
      "               0\n",
      "count  35.000000\n",
      "mean    0.037985\n",
      "std     0.186832\n",
      "min    -0.096228\n",
      "25%    -0.031487\n",
      "50%     0.006089\n",
      "75%     0.044359\n",
      "max     1.070000\n"
     ]
    }
   ],
   "source": [
    "# density plot of residuals\n",
    "residuals.plot(kind='kde')\n",
    "pyplot.show()\n",
    "# summary stats of residuals\n",
    "print(residuals.describe())"
   ]
  },
  {
   "cell_type": "markdown",
   "id": "1e73694b",
   "metadata": {},
   "source": [
    " we get a density plot of the residual error values, suggesting the errors are Gaussian, but may not be centered on zero."
   ]
  },
  {
   "cell_type": "markdown",
   "id": "11c41373",
   "metadata": {},
   "source": [
    "The distribution of the residual errors is displayed. The results show that indeed there is a bias in the prediction (a non-zero mean in the residuals).\n"
   ]
  },
  {
   "cell_type": "code",
   "execution_count": 11,
   "id": "f53d7b61",
   "metadata": {},
   "outputs": [
    {
     "data": {
      "text/html": [
       "<div>\n",
       "<style scoped>\n",
       "    .dataframe tbody tr th:only-of-type {\n",
       "        vertical-align: middle;\n",
       "    }\n",
       "\n",
       "    .dataframe tbody tr th {\n",
       "        vertical-align: top;\n",
       "    }\n",
       "\n",
       "    .dataframe thead th {\n",
       "        text-align: right;\n",
       "    }\n",
       "</style>\n",
       "<table border=\"1\" class=\"dataframe\">\n",
       "  <thead>\n",
       "    <tr style=\"text-align: right;\">\n",
       "      <th></th>\n",
       "      <th>Actual</th>\n",
       "    </tr>\n",
       "    <tr>\n",
       "      <th>Date</th>\n",
       "      <th></th>\n",
       "    </tr>\n",
       "  </thead>\n",
       "  <tbody>\n",
       "    <tr>\n",
       "      <th>1999-03</th>\n",
       "      <td>1.07</td>\n",
       "    </tr>\n",
       "    <tr>\n",
       "      <th>1999-06</th>\n",
       "      <td>1.03</td>\n",
       "    </tr>\n",
       "    <tr>\n",
       "      <th>1999-09</th>\n",
       "      <td>1.07</td>\n",
       "    </tr>\n",
       "    <tr>\n",
       "      <th>1999-12</th>\n",
       "      <td>1.00</td>\n",
       "    </tr>\n",
       "    <tr>\n",
       "      <th>2000-03</th>\n",
       "      <td>0.95</td>\n",
       "    </tr>\n",
       "    <tr>\n",
       "      <th>2000-06</th>\n",
       "      <td>0.96</td>\n",
       "    </tr>\n",
       "    <tr>\n",
       "      <th>2000-09</th>\n",
       "      <td>0.88</td>\n",
       "    </tr>\n",
       "    <tr>\n",
       "      <th>2000-12</th>\n",
       "      <td>0.93</td>\n",
       "    </tr>\n",
       "    <tr>\n",
       "      <th>2001-03</th>\n",
       "      <td>0.88</td>\n",
       "    </tr>\n",
       "    <tr>\n",
       "      <th>2001-06</th>\n",
       "      <td>0.85</td>\n",
       "    </tr>\n",
       "    <tr>\n",
       "      <th>2001-09</th>\n",
       "      <td>0.92</td>\n",
       "    </tr>\n",
       "    <tr>\n",
       "      <th>2001-12</th>\n",
       "      <td>0.88</td>\n",
       "    </tr>\n",
       "    <tr>\n",
       "      <th>2002-03</th>\n",
       "      <td>0.87</td>\n",
       "    </tr>\n",
       "    <tr>\n",
       "      <th>2002-06</th>\n",
       "      <td>1.00</td>\n",
       "    </tr>\n",
       "    <tr>\n",
       "      <th>2002-09</th>\n",
       "      <td>0.99</td>\n",
       "    </tr>\n",
       "    <tr>\n",
       "      <th>2002-12</th>\n",
       "      <td>1.04</td>\n",
       "    </tr>\n",
       "    <tr>\n",
       "      <th>2003-03</th>\n",
       "      <td>1.09</td>\n",
       "    </tr>\n",
       "    <tr>\n",
       "      <th>2003-06</th>\n",
       "      <td>1.14</td>\n",
       "    </tr>\n",
       "    <tr>\n",
       "      <th>2003-09</th>\n",
       "      <td>1.17</td>\n",
       "    </tr>\n",
       "    <tr>\n",
       "      <th>2003-12</th>\n",
       "      <td>1.25</td>\n",
       "    </tr>\n",
       "    <tr>\n",
       "      <th>2004-03</th>\n",
       "      <td>1.22</td>\n",
       "    </tr>\n",
       "    <tr>\n",
       "      <th>2004-06</th>\n",
       "      <td>1.21</td>\n",
       "    </tr>\n",
       "    <tr>\n",
       "      <th>2004-09</th>\n",
       "      <td>1.23</td>\n",
       "    </tr>\n",
       "    <tr>\n",
       "      <th>2004-12</th>\n",
       "      <td>1.36</td>\n",
       "    </tr>\n",
       "    <tr>\n",
       "      <th>2005-03</th>\n",
       "      <td>1.30</td>\n",
       "    </tr>\n",
       "    <tr>\n",
       "      <th>2005-06</th>\n",
       "      <td>1.20</td>\n",
       "    </tr>\n",
       "    <tr>\n",
       "      <th>2005-09</th>\n",
       "      <td>1.20</td>\n",
       "    </tr>\n",
       "    <tr>\n",
       "      <th>2005-12</th>\n",
       "      <td>1.18</td>\n",
       "    </tr>\n",
       "    <tr>\n",
       "      <th>2006-03</th>\n",
       "      <td>1.21</td>\n",
       "    </tr>\n",
       "    <tr>\n",
       "      <th>2006-06</th>\n",
       "      <td>1.27</td>\n",
       "    </tr>\n",
       "    <tr>\n",
       "      <th>2006-09</th>\n",
       "      <td>1.27</td>\n",
       "    </tr>\n",
       "    <tr>\n",
       "      <th>2006-12</th>\n",
       "      <td>1.32</td>\n",
       "    </tr>\n",
       "    <tr>\n",
       "      <th>2007-03</th>\n",
       "      <td>1.33</td>\n",
       "    </tr>\n",
       "    <tr>\n",
       "      <th>2007-06</th>\n",
       "      <td>1.35</td>\n",
       "    </tr>\n",
       "    <tr>\n",
       "      <th>2007-09</th>\n",
       "      <td>1.42</td>\n",
       "    </tr>\n",
       "  </tbody>\n",
       "</table>\n",
       "</div>"
      ],
      "text/plain": [
       "         Actual\n",
       "Date           \n",
       "1999-03    1.07\n",
       "1999-06    1.03\n",
       "1999-09    1.07\n",
       "1999-12    1.00\n",
       "2000-03    0.95\n",
       "2000-06    0.96\n",
       "2000-09    0.88\n",
       "2000-12    0.93\n",
       "2001-03    0.88\n",
       "2001-06    0.85\n",
       "2001-09    0.92\n",
       "2001-12    0.88\n",
       "2002-03    0.87\n",
       "2002-06    1.00\n",
       "2002-09    0.99\n",
       "2002-12    1.04\n",
       "2003-03    1.09\n",
       "2003-06    1.14\n",
       "2003-09    1.17\n",
       "2003-12    1.25\n",
       "2004-03    1.22\n",
       "2004-06    1.21\n",
       "2004-09    1.23\n",
       "2004-12    1.36\n",
       "2005-03    1.30\n",
       "2005-06    1.20\n",
       "2005-09    1.20\n",
       "2005-12    1.18\n",
       "2006-03    1.21\n",
       "2006-06    1.27\n",
       "2006-09    1.27\n",
       "2006-12    1.32\n",
       "2007-03    1.33\n",
       "2007-06    1.35\n",
       "2007-09    1.42"
      ]
     },
     "execution_count": 11,
     "metadata": {},
     "output_type": "execute_result"
    }
   ],
   "source": [
    "series.drop(series.iloc[:, 0:3], axis=1, inplace=True)\n",
    "series"
   ]
  },
  {
   "cell_type": "code",
   "execution_count": 12,
   "id": "c8625d11",
   "metadata": {},
   "outputs": [
    {
     "data": {
      "text/plain": [
       "Date\n",
       "1999-03    1.07\n",
       "1999-06    1.03\n",
       "1999-09    1.07\n",
       "1999-12    1.00\n",
       "2000-03    0.95\n",
       "2000-06    0.96\n",
       "2000-09    0.88\n",
       "2000-12    0.93\n",
       "2001-03    0.88\n",
       "2001-06    0.85\n",
       "2001-09    0.92\n",
       "2001-12    0.88\n",
       "2002-03    0.87\n",
       "2002-06    1.00\n",
       "2002-09    0.99\n",
       "2002-12    1.04\n",
       "2003-03    1.09\n",
       "2003-06    1.14\n",
       "2003-09    1.17\n",
       "2003-12    1.25\n",
       "2004-03    1.22\n",
       "2004-06    1.21\n",
       "2004-09    1.23\n",
       "2004-12    1.36\n",
       "2005-03    1.30\n",
       "2005-06    1.20\n",
       "2005-09    1.20\n",
       "2005-12    1.18\n",
       "2006-03    1.21\n",
       "2006-06    1.27\n",
       "2006-09    1.27\n",
       "2006-12    1.32\n",
       "2007-03    1.33\n",
       "2007-06    1.35\n",
       "2007-09    1.42\n",
       "Freq: M, Name: Actual, dtype: float64"
      ]
     },
     "execution_count": 12,
     "metadata": {},
     "output_type": "execute_result"
    }
   ],
   "source": [
    "ser = series['Actual'].squeeze()\n",
    "ser"
   ]
  },
  {
   "cell_type": "markdown",
   "id": "df6fdc7a",
   "metadata": {},
   "source": [
    "## Train & Evaluations"
   ]
  },
  {
   "cell_type": "code",
   "execution_count": 13,
   "id": "5ac267c2",
   "metadata": {},
   "outputs": [
    {
     "data": {
      "text/plain": [
       "array([1.07, 1.03, 1.07, 1.  , 0.95, 0.96, 0.88, 0.93, 0.88, 0.85, 0.92,\n",
       "       0.88, 0.87, 1.  , 0.99, 1.04, 1.09, 1.14, 1.17, 1.25, 1.22, 1.21,\n",
       "       1.23, 1.36, 1.3 , 1.2 , 1.2 , 1.18, 1.21, 1.27, 1.27, 1.32, 1.33,\n",
       "       1.35, 1.42])"
      ]
     },
     "execution_count": 13,
     "metadata": {},
     "output_type": "execute_result"
    }
   ],
   "source": [
    "# evaluate an ARIMA model using a walk-forward validation\n",
    "from sklearn.metrics import mean_squared_error\n",
    "from math import sqrt\n",
    "\n",
    "# split into train and test sets\n",
    "X = ser.values\n",
    "X"
   ]
  },
  {
   "cell_type": "code",
   "execution_count": 14,
   "id": "0fad6058",
   "metadata": {},
   "outputs": [
    {
     "data": {
      "text/plain": [
       "[1.07,\n",
       " 1.03,\n",
       " 1.07,\n",
       " 1.0,\n",
       " 0.95,\n",
       " 0.96,\n",
       " 0.88,\n",
       " 0.93,\n",
       " 0.88,\n",
       " 0.85,\n",
       " 0.92,\n",
       " 0.88,\n",
       " 0.87,\n",
       " 1.0,\n",
       " 0.99,\n",
       " 1.04,\n",
       " 1.09,\n",
       " 1.14,\n",
       " 1.17,\n",
       " 1.25,\n",
       " 1.22,\n",
       " 1.21,\n",
       " 1.23]"
      ]
     },
     "execution_count": 14,
     "metadata": {},
     "output_type": "execute_result"
    }
   ],
   "source": [
    "size = int(len(X) * 0.66)\n",
    "train, test = X[0:size], X[size:len(X)]\n",
    "history = [x for x in train]\n",
    "predictions = list()\n",
    "history"
   ]
  },
  {
   "cell_type": "code",
   "execution_count": 15,
   "id": "624461f9",
   "metadata": {},
   "outputs": [
    {
     "name": "stdout",
     "output_type": "stream",
     "text": [
      "predicted=1.185640, expected=1.360000\n",
      "predicted=1.323677, expected=1.300000\n",
      "predicted=1.336980, expected=1.200000\n",
      "predicted=1.299613, expected=1.200000\n",
      "predicted=1.218999, expected=1.180000\n",
      "predicted=1.166555, expected=1.210000\n",
      "predicted=1.187022, expected=1.270000\n",
      "predicted=1.240894, expected=1.270000\n",
      "predicted=1.274571, expected=1.320000\n",
      "predicted=1.331963, expected=1.330000\n",
      "predicted=1.328483, expected=1.350000\n",
      "predicted=1.372642, expected=1.420000\n"
     ]
    }
   ],
   "source": [
    "# walk-forward validation\n",
    "for t in range(len(test)):\n",
    " model = ARIMA(history, order=(5,1,0))\n",
    " model_fit = model.fit()\n",
    " output = model_fit.forecast()\n",
    " yhat = output[0]\n",
    " predictions.append(yhat)\n",
    " obs = test[t]\n",
    " history.append(obs)\n",
    " print('predicted=%f, expected=%f' % (yhat, obs))"
   ]
  },
  {
   "cell_type": "code",
   "execution_count": 16,
   "id": "cf6d3d5d",
   "metadata": {},
   "outputs": [
    {
     "name": "stdout",
     "output_type": "stream",
     "text": [
      "Test RMSE: 0.079\n"
     ]
    },
    {
     "data": {
      "image/png": "[encoded data removed]",
      "text/plain": [
       "<Figure size 640x480 with 1 Axes>"
      ]
     },
     "metadata": {},
     "output_type": "display_data"
    }
   ],
   "source": [
    "# evaluate forecasts\n",
    "rmse = sqrt(mean_squared_error(test, predictions))\n",
    "print('Test RMSE: %.3f' % rmse)\n",
    "# plot forecasts against actual outcomes\n",
    "pyplot.plot(test)\n",
    "pyplot.plot(predictions, color='red')\n",
    "pyplot.show()"
   ]
  },
  {
   "cell_type": "markdown",
   "id": "019d52d7",
   "metadata": {},
   "source": [
    "## predicting the next quarter"
   ]
  },
  {
   "cell_type": "code",
   "execution_count": 17,
   "id": "1a4da0b5",
   "metadata": {},
   "outputs": [
    {
     "data": {
      "text/plain": [
       "array([1.4196194])"
      ]
     },
     "execution_count": 17,
     "metadata": {},
     "output_type": "execute_result"
    }
   ],
   "source": [
    "model = ARIMA(history, order=(5,1,0))\n",
    "model_fit = model.fit()\n",
    "model_fit.forecast()"
   ]
  },
  {
   "cell_type": "markdown",
   "id": "8e3d2ac3",
   "metadata": {},
   "source": [
    "### !! Using OLS Analysis to firing the worest expert "
   ]
  },
  {
   "cell_type": "code",
   "execution_count": 18,
   "id": "1e8e5f0e",
   "metadata": {},
   "outputs": [
    {
     "name": "stderr",
     "output_type": "stream",
     "text": [
      "C:\\Users\\Decimal\\AppData\\Local\\Temp\\ipykernel_5664\\2664691136.py:10: FutureWarning: The squeeze argument has been deprecated and will be removed in a future version. Append .squeeze(\"columns\") to the call to squeeze.\n",
      "\n",
      "\n",
      "  df = pd.read_csv('train.csv', header=0 , index_col=0, squeeze=True, parse_dates=True)\n"
     ]
    },
    {
     "data": {
      "text/html": [
       "<div>\n",
       "<style scoped>\n",
       "    .dataframe tbody tr th:only-of-type {\n",
       "        vertical-align: middle;\n",
       "    }\n",
       "\n",
       "    .dataframe tbody tr th {\n",
       "        vertical-align: top;\n",
       "    }\n",
       "\n",
       "    .dataframe thead th {\n",
       "        text-align: right;\n",
       "    }\n",
       "</style>\n",
       "<table border=\"1\" class=\"dataframe\">\n",
       "  <thead>\n",
       "    <tr style=\"text-align: right;\">\n",
       "      <th></th>\n",
       "      <th>Shahrukh</th>\n",
       "      <th>Jackie Chan</th>\n",
       "      <th>Brad</th>\n",
       "      <th>Actual</th>\n",
       "    </tr>\n",
       "    <tr>\n",
       "      <th>Date</th>\n",
       "      <th></th>\n",
       "      <th></th>\n",
       "      <th></th>\n",
       "      <th></th>\n",
       "    </tr>\n",
       "  </thead>\n",
       "  <tbody>\n",
       "    <tr>\n",
       "      <th>1999-03-31</th>\n",
       "      <td>0.93</td>\n",
       "      <td>0.86</td>\n",
       "      <td>1.31</td>\n",
       "      <td>1.07</td>\n",
       "    </tr>\n",
       "    <tr>\n",
       "      <th>1999-06-30</th>\n",
       "      <td>0.85</td>\n",
       "      <td>0.81</td>\n",
       "      <td>1.04</td>\n",
       "      <td>1.03</td>\n",
       "    </tr>\n",
       "    <tr>\n",
       "      <th>1999-09-30</th>\n",
       "      <td>1.18</td>\n",
       "      <td>1.12</td>\n",
       "      <td>0.69</td>\n",
       "      <td>1.07</td>\n",
       "    </tr>\n",
       "    <tr>\n",
       "      <th>1999-12-31</th>\n",
       "      <td>0.91</td>\n",
       "      <td>0.93</td>\n",
       "      <td>0.94</td>\n",
       "      <td>1.00</td>\n",
       "    </tr>\n",
       "    <tr>\n",
       "      <th>2000-03-31</th>\n",
       "      <td>0.87</td>\n",
       "      <td>0.85</td>\n",
       "      <td>0.96</td>\n",
       "      <td>0.95</td>\n",
       "    </tr>\n",
       "    <tr>\n",
       "      <th>2000-06-30</th>\n",
       "      <td>1.13</td>\n",
       "      <td>1.03</td>\n",
       "      <td>0.45</td>\n",
       "      <td>0.96</td>\n",
       "    </tr>\n",
       "    <tr>\n",
       "      <th>2000-09-29</th>\n",
       "      <td>0.69</td>\n",
       "      <td>1.03</td>\n",
       "      <td>1.03</td>\n",
       "      <td>0.88</td>\n",
       "    </tr>\n",
       "    <tr>\n",
       "      <th>2000-12-29</th>\n",
       "      <td>0.83</td>\n",
       "      <td>0.75</td>\n",
       "      <td>0.90</td>\n",
       "      <td>0.93</td>\n",
       "    </tr>\n",
       "    <tr>\n",
       "      <th>2001-03-30</th>\n",
       "      <td>0.92</td>\n",
       "      <td>1.00</td>\n",
       "      <td>0.83</td>\n",
       "      <td>0.88</td>\n",
       "    </tr>\n",
       "    <tr>\n",
       "      <th>2001-06-29</th>\n",
       "      <td>0.77</td>\n",
       "      <td>0.89</td>\n",
       "      <td>1.09</td>\n",
       "      <td>0.85</td>\n",
       "    </tr>\n",
       "    <tr>\n",
       "      <th>2001-09-28</th>\n",
       "      <td>1.14</td>\n",
       "      <td>0.92</td>\n",
       "      <td>0.51</td>\n",
       "      <td>0.92</td>\n",
       "    </tr>\n",
       "    <tr>\n",
       "      <th>2001-12-31</th>\n",
       "      <td>0.75</td>\n",
       "      <td>0.63</td>\n",
       "      <td>0.83</td>\n",
       "      <td>0.88</td>\n",
       "    </tr>\n",
       "    <tr>\n",
       "      <th>2002-03-29</th>\n",
       "      <td>0.92</td>\n",
       "      <td>0.90</td>\n",
       "      <td>0.83</td>\n",
       "      <td>0.87</td>\n",
       "    </tr>\n",
       "    <tr>\n",
       "      <th>2002-06-28</th>\n",
       "      <td>1.00</td>\n",
       "      <td>0.98</td>\n",
       "      <td>0.79</td>\n",
       "      <td>1.00</td>\n",
       "    </tr>\n",
       "    <tr>\n",
       "      <th>2002-09-30</th>\n",
       "      <td>1.16</td>\n",
       "      <td>1.08</td>\n",
       "      <td>0.68</td>\n",
       "      <td>0.99</td>\n",
       "    </tr>\n",
       "    <tr>\n",
       "      <th>2002-12-31</th>\n",
       "      <td>0.89</td>\n",
       "      <td>1.26</td>\n",
       "      <td>1.45</td>\n",
       "      <td>1.04</td>\n",
       "    </tr>\n",
       "    <tr>\n",
       "      <th>2003-03-31</th>\n",
       "      <td>1.04</td>\n",
       "      <td>1.02</td>\n",
       "      <td>1.45</td>\n",
       "      <td>1.09</td>\n",
       "    </tr>\n",
       "    <tr>\n",
       "      <th>2003-06-30</th>\n",
       "      <td>1.02</td>\n",
       "      <td>1.12</td>\n",
       "      <td>1.06</td>\n",
       "      <td>1.14</td>\n",
       "    </tr>\n",
       "    <tr>\n",
       "      <th>2003-09-30</th>\n",
       "      <td>1.20</td>\n",
       "      <td>1.12</td>\n",
       "      <td>1.24</td>\n",
       "      <td>1.17</td>\n",
       "    </tr>\n",
       "    <tr>\n",
       "      <th>2003-12-31</th>\n",
       "      <td>1.09</td>\n",
       "      <td>1.19</td>\n",
       "      <td>1.39</td>\n",
       "      <td>1.25</td>\n",
       "    </tr>\n",
       "    <tr>\n",
       "      <th>2004-03-31</th>\n",
       "      <td>1.42</td>\n",
       "      <td>1.28</td>\n",
       "      <td>1.10</td>\n",
       "      <td>1.22</td>\n",
       "    </tr>\n",
       "    <tr>\n",
       "      <th>2004-06-30</th>\n",
       "      <td>1.23</td>\n",
       "      <td>1.16</td>\n",
       "      <td>1.21</td>\n",
       "      <td>1.21</td>\n",
       "    </tr>\n",
       "    <tr>\n",
       "      <th>2004-09-30</th>\n",
       "      <td>1.29</td>\n",
       "      <td>1.15</td>\n",
       "      <td>0.68</td>\n",
       "      <td>1.23</td>\n",
       "    </tr>\n",
       "    <tr>\n",
       "      <th>2004-12-31</th>\n",
       "      <td>1.43</td>\n",
       "      <td>1.40</td>\n",
       "      <td>1.39</td>\n",
       "      <td>1.36</td>\n",
       "    </tr>\n",
       "    <tr>\n",
       "      <th>2005-03-31</th>\n",
       "      <td>1.34</td>\n",
       "      <td>1.44</td>\n",
       "      <td>1.34</td>\n",
       "      <td>1.30</td>\n",
       "    </tr>\n",
       "    <tr>\n",
       "      <th>2005-06-30</th>\n",
       "      <td>1.05</td>\n",
       "      <td>1.26</td>\n",
       "      <td>1.31</td>\n",
       "      <td>1.20</td>\n",
       "    </tr>\n",
       "    <tr>\n",
       "      <th>2005-09-30</th>\n",
       "      <td>1.15</td>\n",
       "      <td>1.35</td>\n",
       "      <td>1.44</td>\n",
       "      <td>1.20</td>\n",
       "    </tr>\n",
       "    <tr>\n",
       "      <th>2005-12-30</th>\n",
       "      <td>1.19</td>\n",
       "      <td>1.19</td>\n",
       "      <td>1.08</td>\n",
       "      <td>1.18</td>\n",
       "    </tr>\n",
       "    <tr>\n",
       "      <th>2006-03-31</th>\n",
       "      <td>1.24</td>\n",
       "      <td>1.09</td>\n",
       "      <td>0.91</td>\n",
       "      <td>1.21</td>\n",
       "    </tr>\n",
       "    <tr>\n",
       "      <th>2006-06-30</th>\n",
       "      <td>1.45</td>\n",
       "      <td>1.42</td>\n",
       "      <td>1.19</td>\n",
       "      <td>1.27</td>\n",
       "    </tr>\n",
       "    <tr>\n",
       "      <th>2006-09-29</th>\n",
       "      <td>1.30</td>\n",
       "      <td>1.22</td>\n",
       "      <td>0.93</td>\n",
       "      <td>1.27</td>\n",
       "    </tr>\n",
       "    <tr>\n",
       "      <th>2006-12-29</th>\n",
       "      <td>1.05</td>\n",
       "      <td>1.26</td>\n",
       "      <td>1.77</td>\n",
       "      <td>1.32</td>\n",
       "    </tr>\n",
       "    <tr>\n",
       "      <th>2007-03-30</th>\n",
       "      <td>1.31</td>\n",
       "      <td>1.55</td>\n",
       "      <td>1.51</td>\n",
       "      <td>1.33</td>\n",
       "    </tr>\n",
       "    <tr>\n",
       "      <th>2007-06-29</th>\n",
       "      <td>1.61</td>\n",
       "      <td>1.42</td>\n",
       "      <td>0.81</td>\n",
       "      <td>1.35</td>\n",
       "    </tr>\n",
       "    <tr>\n",
       "      <th>2007-09-28</th>\n",
       "      <td>1.54</td>\n",
       "      <td>1.40</td>\n",
       "      <td>1.50</td>\n",
       "      <td>1.42</td>\n",
       "    </tr>\n",
       "  </tbody>\n",
       "</table>\n",
       "</div>"
      ],
      "text/plain": [
       "            Shahrukh  Jackie Chan  Brad  Actual\n",
       "Date                                           \n",
       "1999-03-31      0.93         0.86  1.31    1.07\n",
       "1999-06-30      0.85         0.81  1.04    1.03\n",
       "1999-09-30      1.18         1.12  0.69    1.07\n",
       "1999-12-31      0.91         0.93  0.94    1.00\n",
       "2000-03-31      0.87         0.85  0.96    0.95\n",
       "2000-06-30      1.13         1.03  0.45    0.96\n",
       "2000-09-29      0.69         1.03  1.03    0.88\n",
       "2000-12-29      0.83         0.75  0.90    0.93\n",
       "2001-03-30      0.92         1.00  0.83    0.88\n",
       "2001-06-29      0.77         0.89  1.09    0.85\n",
       "2001-09-28      1.14         0.92  0.51    0.92\n",
       "2001-12-31      0.75         0.63  0.83    0.88\n",
       "2002-03-29      0.92         0.90  0.83    0.87\n",
       "2002-06-28      1.00         0.98  0.79    1.00\n",
       "2002-09-30      1.16         1.08  0.68    0.99\n",
       "2002-12-31      0.89         1.26  1.45    1.04\n",
       "2003-03-31      1.04         1.02  1.45    1.09\n",
       "2003-06-30      1.02         1.12  1.06    1.14\n",
       "2003-09-30      1.20         1.12  1.24    1.17\n",
       "2003-12-31      1.09         1.19  1.39    1.25\n",
       "2004-03-31      1.42         1.28  1.10    1.22\n",
       "2004-06-30      1.23         1.16  1.21    1.21\n",
       "2004-09-30      1.29         1.15  0.68    1.23\n",
       "2004-12-31      1.43         1.40  1.39    1.36\n",
       "2005-03-31      1.34         1.44  1.34    1.30\n",
       "2005-06-30      1.05         1.26  1.31    1.20\n",
       "2005-09-30      1.15         1.35  1.44    1.20\n",
       "2005-12-30      1.19         1.19  1.08    1.18\n",
       "2006-03-31      1.24         1.09  0.91    1.21\n",
       "2006-06-30      1.45         1.42  1.19    1.27\n",
       "2006-09-29      1.30         1.22  0.93    1.27\n",
       "2006-12-29      1.05         1.26  1.77    1.32\n",
       "2007-03-30      1.31         1.55  1.51    1.33\n",
       "2007-06-29      1.61         1.42  0.81    1.35\n",
       "2007-09-28      1.54         1.40  1.50    1.42"
      ]
     },
     "execution_count": 18,
     "metadata": {},
     "output_type": "execute_result"
    }
   ],
   "source": [
    "from sklearn import preprocessing\n",
    "from sklearn.model_selection import train_test_split\n",
    "import statsmodels.api as sm\n",
    "from sklearn.feature_selection import RFE\n",
    "from sklearn.linear_model import LinearRegression\n",
    "from statsmodels.stats.outliers_influence import variance_inflation_factor\n",
    "from sklearn.metrics import mean_absolute_error, mean_squared_error,r2_score\n",
    "import random\n",
    "\n",
    "df = pd.read_csv('train.csv', header=0 , index_col=0, squeeze=True, parse_dates=True)\n",
    "df"
   ]
  },
  {
   "cell_type": "code",
   "execution_count": 19,
   "id": "57889237",
   "metadata": {},
   "outputs": [],
   "source": [
    "# Train test split\n",
    "X=df.drop(columns=['Actual'])\n",
    "y=df[['Actual']]\n",
    "\n",
    "X_train, X_test, y_train, y_test = train_test_split(X,y,test_size=0.3,random_state=1234)"
   ]
  },
  {
   "cell_type": "code",
   "execution_count": 20,
   "id": "f56cee82",
   "metadata": {},
   "outputs": [],
   "source": [
    "# Select only one feature in regression model\n",
    "X_train1 = X_train['Shahrukh']"
   ]
  },
  {
   "cell_type": "code",
   "execution_count": 21,
   "id": "10ba827f",
   "metadata": {},
   "outputs": [],
   "source": [
    "# Add a constant\n",
    "X_train1 = sm.add_constant(X_train1)\n",
    "\n",
    "# Create a first ols model\n",
    "model_1 = sm.OLS(y_train, X_train1).fit()"
   ]
  },
  {
   "cell_type": "code",
   "execution_count": 22,
   "id": "c9589920",
   "metadata": {},
   "outputs": [
    {
     "data": {
      "text/plain": [
       "const       0.443666\n",
       "Shahrukh    0.603987\n",
       "dtype: float64"
      ]
     },
     "execution_count": 22,
     "metadata": {},
     "output_type": "execute_result"
    }
   ],
   "source": [
    "# Check parameters created\n",
    "model_1.params"
   ]
  },
  {
   "cell_type": "code",
   "execution_count": 23,
   "id": "69774e32",
   "metadata": {},
   "outputs": [
    {
     "name": "stdout",
     "output_type": "stream",
     "text": [
      "                            OLS Regression Results                            \n",
      "==============================================================================\n",
      "Dep. Variable:                 Actual   R-squared:                       0.711\n",
      "Model:                            OLS   Adj. R-squared:                  0.697\n",
      "Method:                 Least Squares   F-statistic:                     54.02\n",
      "Date:                Thu, 02 Mar 2023   Prob (F-statistic):           2.34e-07\n",
      "Time:                        10:44:16   Log-Likelihood:                 24.675\n",
      "No. Observations:                  24   AIC:                            -45.35\n",
      "Df Residuals:                      22   BIC:                            -42.99\n",
      "Df Model:                           1                                         \n",
      "Covariance Type:            nonrobust                                         \n",
      "==============================================================================\n",
      "                 coef    std err          t      P>|t|      [0.025      0.975]\n",
      "------------------------------------------------------------------------------\n",
      "const          0.4437      0.095      4.691      0.000       0.248       0.640\n",
      "Shahrukh       0.6040      0.082      7.350      0.000       0.434       0.774\n",
      "==============================================================================\n",
      "Omnibus:                        2.847   Durbin-Watson:                   2.249\n",
      "Prob(Omnibus):                  0.241   Jarque-Bera (JB):                1.910\n",
      "Skew:                          -0.691   Prob(JB):                        0.385\n",
      "Kurtosis:                       3.022   Cond. No.                         10.3\n",
      "==============================================================================\n",
      "\n",
      "Notes:\n",
      "[1] Standard Errors assume that the covariance matrix of the errors is correctly specified.\n"
     ]
    }
   ],
   "source": [
    "# Summary of the model\n",
    "print(model_1.summary())"
   ]
  },
  {
   "cell_type": "code",
   "execution_count": 24,
   "id": "62863167",
   "metadata": {},
   "outputs": [],
   "source": [
    "# Select only one feature in regression model\n",
    "X_train2 = X_train['Jackie Chan']"
   ]
  },
  {
   "cell_type": "code",
   "execution_count": 25,
   "id": "a09d9ba7",
   "metadata": {},
   "outputs": [],
   "source": [
    "# Add a constant\n",
    "X_train2 = sm.add_constant(X_train2)\n",
    "\n",
    "# Create a first ols model\n",
    "model_2 = sm.OLS(y_train, X_train2).fit()"
   ]
  },
  {
   "cell_type": "code",
   "execution_count": 26,
   "id": "2f659e51",
   "metadata": {},
   "outputs": [
    {
     "data": {
      "text/plain": [
       "const          0.356985\n",
       "Jackie Chan    0.669414\n",
       "dtype: float64"
      ]
     },
     "execution_count": 26,
     "metadata": {},
     "output_type": "execute_result"
    }
   ],
   "source": [
    "# Check parameters created\n",
    "model_2.params"
   ]
  },
  {
   "cell_type": "code",
   "execution_count": 27,
   "id": "a14c41d5",
   "metadata": {
    "scrolled": true
   },
   "outputs": [
    {
     "name": "stdout",
     "output_type": "stream",
     "text": [
      "                            OLS Regression Results                            \n",
      "==============================================================================\n",
      "Dep. Variable:                 Actual   R-squared:                       0.737\n",
      "Model:                            OLS   Adj. R-squared:                  0.725\n",
      "Method:                 Least Squares   F-statistic:                     61.64\n",
      "Date:                Thu, 02 Mar 2023   Prob (F-statistic):           8.06e-08\n",
      "Time:                        10:44:16   Log-Likelihood:                 25.821\n",
      "No. Observations:                  24   AIC:                            -47.64\n",
      "Df Residuals:                      22   BIC:                            -45.29\n",
      "Df Model:                           1                                         \n",
      "Covariance Type:            nonrobust                                         \n",
      "===============================================================================\n",
      "                  coef    std err          t      P>|t|      [0.025      0.975]\n",
      "-------------------------------------------------------------------------------\n",
      "const           0.3570      0.099      3.590      0.002       0.151       0.563\n",
      "Jackie Chan     0.6694      0.085      7.851      0.000       0.493       0.846\n",
      "==============================================================================\n",
      "Omnibus:                        1.640   Durbin-Watson:                   2.009\n",
      "Prob(Omnibus):                  0.440   Jarque-Bera (JB):                1.294\n",
      "Skew:                          -0.377   Prob(JB):                        0.524\n",
      "Kurtosis:                       2.149   Cond. No.                         11.4\n",
      "==============================================================================\n",
      "\n",
      "Notes:\n",
      "[1] Standard Errors assume that the covariance matrix of the errors is correctly specified.\n"
     ]
    }
   ],
   "source": [
    "# Summary of the model\n",
    "print(model_2.summary())"
   ]
  },
  {
   "cell_type": "code",
   "execution_count": 28,
   "id": "5721263c",
   "metadata": {},
   "outputs": [],
   "source": [
    "# Select only one feature in regression model\n",
    "X_train3 = X_train['Brad']"
   ]
  },
  {
   "cell_type": "code",
   "execution_count": 29,
   "id": "9ea2bc51",
   "metadata": {},
   "outputs": [],
   "source": [
    "# Add a constant\n",
    "X_train3 = sm.add_constant(X_train3)\n",
    "\n",
    "# Create a first ols model\n",
    "model_3 = sm.OLS(y_train, X_train3).fit()"
   ]
  },
  {
   "cell_type": "code",
   "execution_count": 30,
   "id": "2cb55c61",
   "metadata": {},
   "outputs": [
    {
     "data": {
      "text/plain": [
       "const    0.879792\n",
       "Brad     0.231812\n",
       "dtype: float64"
      ]
     },
     "execution_count": 30,
     "metadata": {},
     "output_type": "execute_result"
    }
   ],
   "source": [
    "# Check parameters created\n",
    "model_3.params"
   ]
  },
  {
   "cell_type": "code",
   "execution_count": 31,
   "id": "a6cb5d6a",
   "metadata": {},
   "outputs": [
    {
     "name": "stdout",
     "output_type": "stream",
     "text": [
      "                            OLS Regression Results                            \n",
      "==============================================================================\n",
      "Dep. Variable:                 Actual   R-squared:                       0.192\n",
      "Model:                            OLS   Adj. R-squared:                  0.155\n",
      "Method:                 Least Squares   F-statistic:                     5.212\n",
      "Date:                Thu, 02 Mar 2023   Prob (F-statistic):             0.0325\n",
      "Time:                        10:44:16   Log-Likelihood:                 12.347\n",
      "No. Observations:                  24   AIC:                            -20.69\n",
      "Df Residuals:                      22   BIC:                            -18.34\n",
      "Df Model:                           1                                         \n",
      "Covariance Type:            nonrobust                                         \n",
      "==============================================================================\n",
      "                 coef    std err          t      P>|t|      [0.025      0.975]\n",
      "------------------------------------------------------------------------------\n",
      "const          0.8798      0.112      7.861      0.000       0.648       1.112\n",
      "Brad           0.2318      0.102      2.283      0.032       0.021       0.442\n",
      "==============================================================================\n",
      "Omnibus:                        0.717   Durbin-Watson:                   2.103\n",
      "Prob(Omnibus):                  0.699   Jarque-Bera (JB):                0.746\n",
      "Skew:                          -0.225   Prob(JB):                        0.689\n",
      "Kurtosis:                       2.264   Cond. No.                         7.15\n",
      "==============================================================================\n",
      "\n",
      "Notes:\n",
      "[1] Standard Errors assume that the covariance matrix of the errors is correctly specified.\n"
     ]
    }
   ],
   "source": [
    "# Summary of the model\n",
    "print(model_3.summary())"
   ]
  }
 ],
 "metadata": {
  "kernelspec": {
   "display_name": "Python 3 (ipykernel)",
   "language": "python",
   "name": "python3"
  },
  "language_info": {
   "codemirror_mode": {
    "name": "ipython",
    "version": 3
   },
   "file_extension": ".py",
   "mimetype": "text/x-python",
   "name": "python",
   "nbconvert_exporter": "python",
   "pygments_lexer": "ipython3",
   "version": "3.9.13"
  }
 },
 "nbformat": 4,
 "nbformat_minor": 5
}
