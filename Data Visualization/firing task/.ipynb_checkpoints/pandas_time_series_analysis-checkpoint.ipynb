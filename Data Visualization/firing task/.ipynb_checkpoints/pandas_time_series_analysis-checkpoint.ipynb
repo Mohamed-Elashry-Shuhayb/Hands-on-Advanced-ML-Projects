{
 "cells": [
  {
   "cell_type": "markdown",
   "metadata": {
    "id": "jZwXZb44SZvq"
   },
   "source": [
    "# Import required libraries"
   ]
  },
  {
   "cell_type": "code",
   "execution_count": null,
   "metadata": {
    "id": "3inkd7cmSzTF"
   },
   "outputs": [],
   "source": [
    "# upgrading Pandas\n",
    "# !pip install -U pandas"
   ]
  },
  {
   "cell_type": "code",
   "execution_count": null,
   "metadata": {
    "ExecuteTime": {
     "end_time": "2020-09-12T08:52:02.699664Z",
     "start_time": "2020-09-12T08:51:48.716361Z"
    },
    "id": "05xpZqh-SZvr"
   },
   "outputs": [],
   "source": [
    "# import pandas, you should have Pandas version > 1.10.\n",
    "import pandas as pd \n",
    "\n",
    "# set max columns to display\n",
    "pd.set_option('display.max_columns', 50)"
   ]
  },
  {
   "cell_type": "markdown",
   "metadata": {
    "id": "5PGKjhaaSZvv"
   },
   "source": [
    "# Dataset Details\n",
    "\n",
    "The dataset which we are going to use here is the time-series data provided by <a href=\"https://data.worldbank.org/\"> World Bank Open data </a> and is related to the crowd-sourced price data collected from 15 countries. For more details about the data, refer <a href=\"https://datacatalog.worldbank.org/dataset/crowdsourced-price-data-collection-pilot\"> Crowdsourced Price Data Collection Pilot </a>. For this exercise, we are going to use data collected for Argentina."
   ]
  },
  {
   "cell_type": "code",
   "execution_count": null,
   "metadata": {
    "id": "u13P-q46S-qM"
   },
   "outputs": [],
   "source": [
    "# uploading the file on google cloud.\n",
    "# from google.colab import files\n",
    "# uploaded = files.upload()"
   ]
  },
  {
   "cell_type": "code",
   "execution_count": null,
   "metadata": {
    "ExecuteTime": {
     "end_time": "2020-09-12T08:52:06.727947Z",
     "start_time": "2020-09-12T08:52:06.338700Z"
    },
    "id": "sVMwZg47SZvv"
   },
   "outputs": [],
   "source": [
    "# importing data\n",
    "initial_data = pd.read_csv('arg-crowdsourcedpdcpilot02_final_obs_all_clean.csv', parse_dates=['created_at'])"
   ]
  },
  {
   "cell_type": "code",
   "execution_count": null,
   "metadata": {
    "ExecuteTime": {
     "end_time": "2020-09-12T08:52:07.587804Z",
     "start_time": "2020-09-12T08:52:07.544073Z"
    },
    "colab": {
     "base_uri": "https://localhost:8080/",
     "height": 530
    },
    "id": "tuztkmgXSZvy",
    "outputId": "c28831fb-f8a0-4d8b-b66e-4799d876efb4",
    "scrolled": true
   },
   "outputs": [
    {
     "data": {
      "text/html": [
       "<div>\n",
       "<style scoped>\n",
       "    .dataframe tbody tr th:only-of-type {\n",
       "        vertical-align: middle;\n",
       "    }\n",
       "\n",
       "    .dataframe tbody tr th {\n",
       "        vertical-align: top;\n",
       "    }\n",
       "\n",
       "    .dataframe thead th {\n",
       "        text-align: right;\n",
       "    }\n",
       "</style>\n",
       "<table border=\"1\" class=\"dataframe\">\n",
       "  <thead>\n",
       "    <tr style=\"text-align: right;\">\n",
       "      <th></th>\n",
       "      <th>item_name</th>\n",
       "      <th>item_code</th>\n",
       "      <th>bh_name</th>\n",
       "      <th>bh_code</th>\n",
       "      <th>created_at</th>\n",
       "      <th>brand</th>\n",
       "      <th>created_fr_lat</th>\n",
       "      <th>created_fr_lon</th>\n",
       "      <th>obs_uid</th>\n",
       "      <th>size</th>\n",
       "      <th>quantity</th>\n",
       "      <th>total_size</th>\n",
       "      <th>converted_total_size</th>\n",
       "      <th>normalized_total_size</th>\n",
       "      <th>price</th>\n",
       "      <th>normalized_price</th>\n",
       "      <th>fx_usd</th>\n",
       "      <th>fx_local</th>\n",
       "      <th>normalized_price_usd</th>\n",
       "      <th>normalized_price_local</th>\n",
       "      <th>currency</th>\n",
       "      <th>units</th>\n",
       "      <th>reference_unit_of_measurement</th>\n",
       "      <th>reference_quantity</th>\n",
       "      <th>place_uuid</th>\n",
       "      <th>place_name</th>\n",
       "      <th>place_lat</th>\n",
       "      <th>place_long</th>\n",
       "      <th>store_type</th>\n",
       "      <th>country</th>\n",
       "      <th>l0</th>\n",
       "      <th>l1</th>\n",
       "      <th>l2</th>\n",
       "      <th>l0_geo</th>\n",
       "      <th>l1_geo</th>\n",
       "      <th>l2_geo</th>\n",
       "      <th>l3_geo</th>\n",
       "      <th>pop_density</th>\n",
       "      <th>dist_l2</th>\n",
       "      <th>city_radius</th>\n",
       "      <th>metadata_json</th>\n",
       "    </tr>\n",
       "  </thead>\n",
       "  <tbody>\n",
       "    <tr>\n",
       "      <th>0</th>\n",
       "      <td>Men's haircut, barber shop</td>\n",
       "      <td>111211101</td>\n",
       "      <td>Hairdressing salons and personal grooming esta...</td>\n",
       "      <td>1112111.0</td>\n",
       "      <td>2016-06-06 14:57:57.493</td>\n",
       "      <td>NaN</td>\n",
       "      <td>-34.612083</td>\n",
       "      <td>-58.424259</td>\n",
       "      <td>0003134e-cb5d-4a81-bd25-770d67c4759b</td>\n",
       "      <td>1.0</td>\n",
       "      <td>1</td>\n",
       "      <td>1.0</td>\n",
       "      <td>1.0</td>\n",
       "      <td>1.0</td>\n",
       "      <td>50.00</td>\n",
       "      <td>50.000</td>\n",
       "      <td>13.938950</td>\n",
       "      <td>13.938950</td>\n",
       "      <td>3.587071</td>\n",
       "      <td>50.000</td>\n",
       "      <td>ARS</td>\n",
       "      <td>piece(s)</td>\n",
       "      <td>Service</td>\n",
       "      <td>1.0</td>\n",
       "      <td>0a9723ea-dcdd-478d-8928-4b019ac6b2d5</td>\n",
       "      <td>peluqueria gaacon 124</td>\n",
       "      <td>-34.610687</td>\n",
       "      <td>-58.424356</td>\n",
       "      <td>private_service_provider</td>\n",
       "      <td>AR</td>\n",
       "      <td>Argentina</td>\n",
       "      <td>Buenos Aires</td>\n",
       "      <td>Buenos Aires</td>\n",
       "      <td>Argentina</td>\n",
       "      <td>Ciudad de Buenos Aires</td>\n",
       "      <td>Distrito Federal</td>\n",
       "      <td>Buenos Aires</td>\n",
       "      <td>323.583880</td>\n",
       "      <td>2.397569</td>\n",
       "      <td>50</td>\n",
       "      <td>{ \"price_includes_charges_value\" : \"yes\" }</td>\n",
       "    </tr>\n",
       "    <tr>\n",
       "      <th>1</th>\n",
       "      <td>Sardines, tinned, with skin, in vegetable oil,...</td>\n",
       "      <td>110113201</td>\n",
       "      <td>Preserved or processed fish and seafood</td>\n",
       "      <td>1101132.0</td>\n",
       "      <td>2016-04-19 17:47:57.557</td>\n",
       "      <td>GV</td>\n",
       "      <td>-31.466946</td>\n",
       "      <td>-64.163376</td>\n",
       "      <td>0006d339-1ef4-4d27-9f99-aac6773c4633</td>\n",
       "      <td>160.0</td>\n",
       "      <td>1</td>\n",
       "      <td>160.0</td>\n",
       "      <td>160.0</td>\n",
       "      <td>0.8</td>\n",
       "      <td>29.30</td>\n",
       "      <td>36.625</td>\n",
       "      <td>14.163950</td>\n",
       "      <td>14.163950</td>\n",
       "      <td>2.585790</td>\n",
       "      <td>36.625</td>\n",
       "      <td>ARS</td>\n",
       "      <td>g</td>\n",
       "      <td>Gram</td>\n",
       "      <td>200.0</td>\n",
       "      <td>7db0b4f4-eb09-4f0c-bbb5-c5d052064f49</td>\n",
       "      <td>walmart hoggins</td>\n",
       "      <td>-31.464056</td>\n",
       "      <td>-64.163222</td>\n",
       "      <td>small_medium_shop</td>\n",
       "      <td>AR</td>\n",
       "      <td>Argentina</td>\n",
       "      <td>Córdoba</td>\n",
       "      <td>Cordoba</td>\n",
       "      <td>Argentina</td>\n",
       "      <td>Córdoba</td>\n",
       "      <td>Capital</td>\n",
       "      <td>Córdoba</td>\n",
       "      <td>40.096850</td>\n",
       "      <td>6.264624</td>\n",
       "      <td>20</td>\n",
       "      <td>{ \"tin_can_packaging_value\" : \"yes\", \"sardines...</td>\n",
       "    </tr>\n",
       "    <tr>\n",
       "      <th>2</th>\n",
       "      <td>Broken rice, 25%, BNR</td>\n",
       "      <td>110111106</td>\n",
       "      <td>Rice</td>\n",
       "      <td>1101111.0</td>\n",
       "      <td>2016-03-08 18:43:48.048</td>\n",
       "      <td>jumbo</td>\n",
       "      <td>-34.590607</td>\n",
       "      <td>-58.408207</td>\n",
       "      <td>0008d632-8fee-4957-972a-ceb1307e06b9</td>\n",
       "      <td>1.0</td>\n",
       "      <td>1</td>\n",
       "      <td>1.0</td>\n",
       "      <td>1.0</td>\n",
       "      <td>1.0</td>\n",
       "      <td>12.49</td>\n",
       "      <td>12.490</td>\n",
       "      <td>15.446950</td>\n",
       "      <td>15.446950</td>\n",
       "      <td>0.808574</td>\n",
       "      <td>12.490</td>\n",
       "      <td>ARS</td>\n",
       "      <td>kg</td>\n",
       "      <td>Kilogram</td>\n",
       "      <td>1.0</td>\n",
       "      <td>61a47c51-c47c-4f2a-8f6b-914ff938218c</td>\n",
       "      <td>DISCO Av. Santa Fe 3047 Palermo</td>\n",
       "      <td>-34.590394</td>\n",
       "      <td>-58.408558</td>\n",
       "      <td>NaN</td>\n",
       "      <td>AR</td>\n",
       "      <td>Argentina</td>\n",
       "      <td>Buenos Aires</td>\n",
       "      <td>Buenos Aires</td>\n",
       "      <td>Argentina</td>\n",
       "      <td>Ciudad de Buenos Aires</td>\n",
       "      <td>Distrito Federal</td>\n",
       "      <td>Buenos Aires</td>\n",
       "      <td>321.490285</td>\n",
       "      <td>4.491375</td>\n",
       "      <td>50</td>\n",
       "      <td>{ \"packaged_unpackaged_value\" : \"prepacked\", \"...</td>\n",
       "    </tr>\n",
       "    <tr>\n",
       "      <th>3</th>\n",
       "      <td>Men's shirt, WKB-M</td>\n",
       "      <td>110312103</td>\n",
       "      <td>Garments</td>\n",
       "      <td>1103121.0</td>\n",
       "      <td>2016-04-10 17:33:59.277</td>\n",
       "      <td>george</td>\n",
       "      <td>-31.395527</td>\n",
       "      <td>-64.259949</td>\n",
       "      <td>0008ec67-df92-4d7a-a859-b9d0bb95cacb</td>\n",
       "      <td>1.0</td>\n",
       "      <td>1</td>\n",
       "      <td>1.0</td>\n",
       "      <td>1.0</td>\n",
       "      <td>1.0</td>\n",
       "      <td>349.00</td>\n",
       "      <td>349.000</td>\n",
       "      <td>14.461316</td>\n",
       "      <td>14.461316</td>\n",
       "      <td>24.133350</td>\n",
       "      <td>349.000</td>\n",
       "      <td>ARS</td>\n",
       "      <td>piece(s)</td>\n",
       "      <td>Piece</td>\n",
       "      <td>1.0</td>\n",
       "      <td>6a9f0ff13a333d85609d738923db6c49364c0e38</td>\n",
       "      <td>Walmart Córdoba Oeste Colón</td>\n",
       "      <td>-31.394419</td>\n",
       "      <td>-64.260132</td>\n",
       "      <td>small_medium_shop</td>\n",
       "      <td>AR</td>\n",
       "      <td>Argentina</td>\n",
       "      <td>Córdoba</td>\n",
       "      <td>Cordoba</td>\n",
       "      <td>Argentina</td>\n",
       "      <td>Córdoba</td>\n",
       "      <td>Capital</td>\n",
       "      <td>Córdoba</td>\n",
       "      <td>36.855019</td>\n",
       "      <td>6.533218</td>\n",
       "      <td>20</td>\n",
       "      <td>{ \"brand_value\" : \"george\", \"adult_child_value...</td>\n",
       "    </tr>\n",
       "    <tr>\n",
       "      <th>4</th>\n",
       "      <td>Vacuum cleaner, WKB-M</td>\n",
       "      <td>110531111</td>\n",
       "      <td>Major household appliances whether electric or...</td>\n",
       "      <td>1105311.0</td>\n",
       "      <td>2016-03-24 21:36:48.824</td>\n",
       "      <td>philips</td>\n",
       "      <td>-34.674744</td>\n",
       "      <td>-58.367367</td>\n",
       "      <td>0008f63c-11f6-4f3b-9277-77a11288f361</td>\n",
       "      <td>1.0</td>\n",
       "      <td>1</td>\n",
       "      <td>1.0</td>\n",
       "      <td>1.0</td>\n",
       "      <td>1.0</td>\n",
       "      <td>1799.00</td>\n",
       "      <td>1799.000</td>\n",
       "      <td>14.502950</td>\n",
       "      <td>14.502950</td>\n",
       "      <td>124.043729</td>\n",
       "      <td>1799.000</td>\n",
       "      <td>ARS</td>\n",
       "      <td>piece(s)</td>\n",
       "      <td>Piece</td>\n",
       "      <td>1.0</td>\n",
       "      <td>a09e2842d54603845a7d84859854729151e485cc</td>\n",
       "      <td>Walmart Avellaneda</td>\n",
       "      <td>-34.676401</td>\n",
       "      <td>-58.365980</td>\n",
       "      <td>small_medium_shop</td>\n",
       "      <td>AR</td>\n",
       "      <td>Argentina</td>\n",
       "      <td>Buenos Aires</td>\n",
       "      <td>Buenos Aires</td>\n",
       "      <td>Argentina</td>\n",
       "      <td>Buenos Aires</td>\n",
       "      <td>Avellaneda</td>\n",
       "      <td>Crucecita</td>\n",
       "      <td>118.042055</td>\n",
       "      <td>10.591399</td>\n",
       "      <td>50</td>\n",
       "      <td>{ \"vaccuum_features_value\" : \"[automatic_cord_...</td>\n",
       "    </tr>\n",
       "  </tbody>\n",
       "</table>\n",
       "</div>"
      ],
      "text/plain": [
       "                                           item_name  item_code  \\\n",
       "0                         Men's haircut, barber shop  111211101   \n",
       "1  Sardines, tinned, with skin, in vegetable oil,...  110113201   \n",
       "2                              Broken rice, 25%, BNR  110111106   \n",
       "3                                 Men's shirt, WKB-M  110312103   \n",
       "4                              Vacuum cleaner, WKB-M  110531111   \n",
       "\n",
       "                                             bh_name    bh_code  \\\n",
       "0  Hairdressing salons and personal grooming esta...  1112111.0   \n",
       "1            Preserved or processed fish and seafood  1101132.0   \n",
       "2                                               Rice  1101111.0   \n",
       "3                                           Garments  1103121.0   \n",
       "4  Major household appliances whether electric or...  1105311.0   \n",
       "\n",
       "               created_at    brand  created_fr_lat  created_fr_lon  \\\n",
       "0 2016-06-06 14:57:57.493      NaN      -34.612083      -58.424259   \n",
       "1 2016-04-19 17:47:57.557       GV      -31.466946      -64.163376   \n",
       "2 2016-03-08 18:43:48.048    jumbo      -34.590607      -58.408207   \n",
       "3 2016-04-10 17:33:59.277   george      -31.395527      -64.259949   \n",
       "4 2016-03-24 21:36:48.824  philips      -34.674744      -58.367367   \n",
       "\n",
       "                                obs_uid   size  quantity  total_size  \\\n",
       "0  0003134e-cb5d-4a81-bd25-770d67c4759b    1.0         1         1.0   \n",
       "1  0006d339-1ef4-4d27-9f99-aac6773c4633  160.0         1       160.0   \n",
       "2  0008d632-8fee-4957-972a-ceb1307e06b9    1.0         1         1.0   \n",
       "3  0008ec67-df92-4d7a-a859-b9d0bb95cacb    1.0         1         1.0   \n",
       "4  0008f63c-11f6-4f3b-9277-77a11288f361    1.0         1         1.0   \n",
       "\n",
       "   converted_total_size  normalized_total_size    price  normalized_price  \\\n",
       "0                   1.0                    1.0    50.00            50.000   \n",
       "1                 160.0                    0.8    29.30            36.625   \n",
       "2                   1.0                    1.0    12.49            12.490   \n",
       "3                   1.0                    1.0   349.00           349.000   \n",
       "4                   1.0                    1.0  1799.00          1799.000   \n",
       "\n",
       "      fx_usd   fx_local  normalized_price_usd  normalized_price_local  \\\n",
       "0  13.938950  13.938950              3.587071                  50.000   \n",
       "1  14.163950  14.163950              2.585790                  36.625   \n",
       "2  15.446950  15.446950              0.808574                  12.490   \n",
       "3  14.461316  14.461316             24.133350                 349.000   \n",
       "4  14.502950  14.502950            124.043729                1799.000   \n",
       "\n",
       "  currency     units reference_unit_of_measurement  reference_quantity  \\\n",
       "0      ARS  piece(s)                       Service                 1.0   \n",
       "1      ARS         g                          Gram               200.0   \n",
       "2      ARS        kg                      Kilogram                 1.0   \n",
       "3      ARS  piece(s)                         Piece                 1.0   \n",
       "4      ARS  piece(s)                         Piece                 1.0   \n",
       "\n",
       "                                 place_uuid                       place_name  \\\n",
       "0      0a9723ea-dcdd-478d-8928-4b019ac6b2d5            peluqueria gaacon 124   \n",
       "1      7db0b4f4-eb09-4f0c-bbb5-c5d052064f49                  walmart hoggins   \n",
       "2      61a47c51-c47c-4f2a-8f6b-914ff938218c  DISCO Av. Santa Fe 3047 Palermo   \n",
       "3  6a9f0ff13a333d85609d738923db6c49364c0e38      Walmart Córdoba Oeste Colón   \n",
       "4  a09e2842d54603845a7d84859854729151e485cc               Walmart Avellaneda   \n",
       "\n",
       "   place_lat  place_long                store_type country         l0  \\\n",
       "0 -34.610687  -58.424356  private_service_provider      AR  Argentina   \n",
       "1 -31.464056  -64.163222         small_medium_shop      AR  Argentina   \n",
       "2 -34.590394  -58.408558                       NaN      AR  Argentina   \n",
       "3 -31.394419  -64.260132         small_medium_shop      AR  Argentina   \n",
       "4 -34.676401  -58.365980         small_medium_shop      AR  Argentina   \n",
       "\n",
       "             l1            l2     l0_geo                  l1_geo  \\\n",
       "0  Buenos Aires  Buenos Aires  Argentina  Ciudad de Buenos Aires   \n",
       "1       Córdoba       Cordoba  Argentina                 Córdoba   \n",
       "2  Buenos Aires  Buenos Aires  Argentina  Ciudad de Buenos Aires   \n",
       "3       Córdoba       Cordoba  Argentina                 Córdoba   \n",
       "4  Buenos Aires  Buenos Aires  Argentina            Buenos Aires   \n",
       "\n",
       "             l2_geo        l3_geo  pop_density    dist_l2  city_radius  \\\n",
       "0  Distrito Federal  Buenos Aires   323.583880   2.397569           50   \n",
       "1           Capital       Córdoba    40.096850   6.264624           20   \n",
       "2  Distrito Federal  Buenos Aires   321.490285   4.491375           50   \n",
       "3           Capital       Córdoba    36.855019   6.533218           20   \n",
       "4        Avellaneda     Crucecita   118.042055  10.591399           50   \n",
       "\n",
       "                                       metadata_json  \n",
       "0         { \"price_includes_charges_value\" : \"yes\" }  \n",
       "1  { \"tin_can_packaging_value\" : \"yes\", \"sardines...  \n",
       "2  { \"packaged_unpackaged_value\" : \"prepacked\", \"...  \n",
       "3  { \"brand_value\" : \"george\", \"adult_child_value...  \n",
       "4  { \"vaccuum_features_value\" : \"[automatic_cord_...  "
      ]
     },
     "execution_count": 5,
     "metadata": {
      "tags": []
     },
     "output_type": "execute_result"
    }
   ],
   "source": [
    "# top 5 rows\n",
    "initial_data.head(5)"
   ]
  },
  {
   "cell_type": "code",
   "execution_count": null,
   "metadata": {
    "ExecuteTime": {
     "end_time": "2020-09-12T08:52:07.888399Z",
     "start_time": "2020-09-12T08:52:07.885799Z"
    },
    "id": "boNiKqHTSZv1"
   },
   "outputs": [],
   "source": [
    "# Lets select few columns for this exercise\n",
    "columns_to_select = ['item_name', 'item_code', 'created_at', 'size', 'quantity', 'price', 'store_type']"
   ]
  },
  {
   "cell_type": "code",
   "execution_count": null,
   "metadata": {
    "ExecuteTime": {
     "end_time": "2020-09-12T08:52:08.281772Z",
     "start_time": "2020-09-12T08:52:08.275689Z"
    },
    "id": "eYw9rn7fSZv3"
   },
   "outputs": [],
   "source": [
    "data = initial_data[columns_to_select]"
   ]
  },
  {
   "cell_type": "code",
   "execution_count": null,
   "metadata": {
    "ExecuteTime": {
     "end_time": "2020-09-12T08:52:08.661267Z",
     "start_time": "2020-09-12T08:52:08.650858Z"
    },
    "colab": {
     "base_uri": "https://localhost:8080/",
     "height": 204
    },
    "id": "Ml2Xi0ujSZv5",
    "outputId": "6cb4fd34-8c97-4766-c334-9f3716e914bd"
   },
   "outputs": [
    {
     "data": {
      "text/html": [
       "<div>\n",
       "<style scoped>\n",
       "    .dataframe tbody tr th:only-of-type {\n",
       "        vertical-align: middle;\n",
       "    }\n",
       "\n",
       "    .dataframe tbody tr th {\n",
       "        vertical-align: top;\n",
       "    }\n",
       "\n",
       "    .dataframe thead th {\n",
       "        text-align: right;\n",
       "    }\n",
       "</style>\n",
       "<table border=\"1\" class=\"dataframe\">\n",
       "  <thead>\n",
       "    <tr style=\"text-align: right;\">\n",
       "      <th></th>\n",
       "      <th>item_name</th>\n",
       "      <th>item_code</th>\n",
       "      <th>created_at</th>\n",
       "      <th>size</th>\n",
       "      <th>quantity</th>\n",
       "      <th>price</th>\n",
       "      <th>store_type</th>\n",
       "    </tr>\n",
       "  </thead>\n",
       "  <tbody>\n",
       "    <tr>\n",
       "      <th>0</th>\n",
       "      <td>Men's haircut, barber shop</td>\n",
       "      <td>111211101</td>\n",
       "      <td>2016-06-06 14:57:57.493</td>\n",
       "      <td>1.0</td>\n",
       "      <td>1</td>\n",
       "      <td>50.00</td>\n",
       "      <td>private_service_provider</td>\n",
       "    </tr>\n",
       "    <tr>\n",
       "      <th>1</th>\n",
       "      <td>Sardines, tinned, with skin, in vegetable oil,...</td>\n",
       "      <td>110113201</td>\n",
       "      <td>2016-04-19 17:47:57.557</td>\n",
       "      <td>160.0</td>\n",
       "      <td>1</td>\n",
       "      <td>29.30</td>\n",
       "      <td>small_medium_shop</td>\n",
       "    </tr>\n",
       "    <tr>\n",
       "      <th>2</th>\n",
       "      <td>Broken rice, 25%, BNR</td>\n",
       "      <td>110111106</td>\n",
       "      <td>2016-03-08 18:43:48.048</td>\n",
       "      <td>1.0</td>\n",
       "      <td>1</td>\n",
       "      <td>12.49</td>\n",
       "      <td>NaN</td>\n",
       "    </tr>\n",
       "    <tr>\n",
       "      <th>3</th>\n",
       "      <td>Men's shirt, WKB-M</td>\n",
       "      <td>110312103</td>\n",
       "      <td>2016-04-10 17:33:59.277</td>\n",
       "      <td>1.0</td>\n",
       "      <td>1</td>\n",
       "      <td>349.00</td>\n",
       "      <td>small_medium_shop</td>\n",
       "    </tr>\n",
       "    <tr>\n",
       "      <th>4</th>\n",
       "      <td>Vacuum cleaner, WKB-M</td>\n",
       "      <td>110531111</td>\n",
       "      <td>2016-03-24 21:36:48.824</td>\n",
       "      <td>1.0</td>\n",
       "      <td>1</td>\n",
       "      <td>1799.00</td>\n",
       "      <td>small_medium_shop</td>\n",
       "    </tr>\n",
       "  </tbody>\n",
       "</table>\n",
       "</div>"
      ],
      "text/plain": [
       "                                           item_name  item_code  \\\n",
       "0                         Men's haircut, barber shop  111211101   \n",
       "1  Sardines, tinned, with skin, in vegetable oil,...  110113201   \n",
       "2                              Broken rice, 25%, BNR  110111106   \n",
       "3                                 Men's shirt, WKB-M  110312103   \n",
       "4                              Vacuum cleaner, WKB-M  110531111   \n",
       "\n",
       "               created_at   size  quantity    price                store_type  \n",
       "0 2016-06-06 14:57:57.493    1.0         1    50.00  private_service_provider  \n",
       "1 2016-04-19 17:47:57.557  160.0         1    29.30         small_medium_shop  \n",
       "2 2016-03-08 18:43:48.048    1.0         1    12.49                       NaN  \n",
       "3 2016-04-10 17:33:59.277    1.0         1   349.00         small_medium_shop  \n",
       "4 2016-03-24 21:36:48.824    1.0         1  1799.00         small_medium_shop  "
      ]
     },
     "execution_count": 8,
     "metadata": {
      "tags": []
     },
     "output_type": "execute_result"
    }
   ],
   "source": [
    "# sample rows\n",
    "data.head(5)"
   ]
  },
  {
   "cell_type": "markdown",
   "metadata": {
    "id": "nPjXp0TGSZv8"
   },
   "source": [
    "# Combining data based on different Time Intervals.\n",
    "\n",
    "To understand it better, we will go through few examples on how you can convert time intervals and apply aggregations on them."
   ]
  },
  {
   "cell_type": "markdown",
   "metadata": {
    "id": "E1bPqdFySZv8"
   },
   "source": [
    "## Aggregating data based on Hour"
   ]
  },
  {
   "cell_type": "code",
   "execution_count": null,
   "metadata": {
    "ExecuteTime": {
     "end_time": "2020-09-12T12:11:30.970829Z",
     "start_time": "2020-09-12T12:11:30.946241Z"
    },
    "colab": {
     "base_uri": "https://localhost:8080/",
     "height": 136
    },
    "id": "F025ms4cSZv-",
    "outputId": "399a7073-b0d1-4d93-b768-03f01a9acc4a"
   },
   "outputs": [
    {
     "data": {
      "text/plain": [
       "created_at\n",
       "2015-12-14 18:00:00    5449.90\n",
       "2015-12-14 19:00:00      15.98\n",
       "2015-12-14 20:00:00      66.98\n",
       "2015-12-14 21:00:00       0.00\n",
       "2015-12-14 22:00:00       0.00\n",
       "Freq: H, Name: price, dtype: float64"
      ]
     },
     "execution_count": 9,
     "metadata": {
      "tags": []
     },
     "output_type": "execute_result"
    }
   ],
   "source": [
    "# Amount added in each hour \n",
    "data.resample('H', on='created_at').price.sum().head(5)"
   ]
  },
  {
   "cell_type": "code",
   "execution_count": null,
   "metadata": {
    "ExecuteTime": {
     "end_time": "2020-09-12T12:11:35.645169Z",
     "start_time": "2020-09-12T12:11:35.621843Z"
    },
    "colab": {
     "base_uri": "https://localhost:8080/",
     "height": 136
    },
    "id": "frjzHhkzSZwA",
    "outputId": "d76d0d2d-7578-41bc-cde4-949e8a7b66aa"
   },
   "outputs": [
    {
     "data": {
      "text/plain": [
       "created_at\n",
       "2015-12-14 17:15:10    5370.00\n",
       "2015-12-14 18:15:10      79.90\n",
       "2015-12-14 19:15:10      64.56\n",
       "2015-12-14 20:15:10      18.40\n",
       "2015-12-14 21:15:10       0.00\n",
       "Freq: H, Name: price, dtype: float64"
      ]
     },
     "execution_count": 10,
     "metadata": {
      "tags": []
     },
     "output_type": "execute_result"
    }
   ],
   "source": [
    "# Changing start time for each hour, by default start time is at 0th minute\n",
    "data.resample('H', on='created_at', offset='15Min10s').price.sum().head(5)"
   ]
  },
  {
   "cell_type": "markdown",
   "metadata": {
    "id": "WxguywUXSZwC"
   },
   "source": [
    "## Aggregating data based on Week"
   ]
  },
  {
   "cell_type": "code",
   "execution_count": null,
   "metadata": {
    "ExecuteTime": {
     "end_time": "2020-09-12T12:12:16.098608Z",
     "start_time": "2020-09-12T12:12:16.076561Z"
    },
    "colab": {
     "base_uri": "https://localhost:8080/",
     "height": 136
    },
    "id": "pbHA_OleSZwD",
    "outputId": "be9ecd82-8671-463c-c158-84d22989a748"
   },
   "outputs": [
    {
     "data": {
      "text/plain": [
       "created_at\n",
       "2015-12-20     43056.38\n",
       "2015-12-27     67338.51\n",
       "2016-01-03     44434.59\n",
       "2016-01-10     18222.36\n",
       "2016-01-17    190838.54\n",
       "Freq: W-SUN, Name: price, dtype: float64"
      ]
     },
     "execution_count": 11,
     "metadata": {
      "tags": []
     },
     "output_type": "execute_result"
    }
   ],
   "source": [
    "# total amount added each week\n",
    "data.resample('W', on='created_at').price.sum().head(5)"
   ]
  },
  {
   "cell_type": "code",
   "execution_count": null,
   "metadata": {
    "ExecuteTime": {
     "end_time": "2020-09-12T12:12:40.430264Z",
     "start_time": "2020-09-12T12:12:40.406818Z"
    },
    "colab": {
     "base_uri": "https://localhost:8080/",
     "height": 136
    },
    "id": "EishUI96SZwF",
    "outputId": "42c7f837-a2e9-42dc-89ad-43a07eab4a6e"
   },
   "outputs": [
    {
     "data": {
      "text/plain": [
       "created_at\n",
       "2015-12-14     5532.86\n",
       "2015-12-21    38507.62\n",
       "2015-12-28    66863.29\n",
       "2016-01-04    53924.10\n",
       "2016-01-11    12608.69\n",
       "Freq: W-MON, Name: price, dtype: float64"
      ]
     },
     "execution_count": 12,
     "metadata": {
      "tags": []
     },
     "output_type": "execute_result"
    }
   ],
   "source": [
    "# By default, week starts with Sunday. Let's change it to start with Monday\n",
    "data.resample('W-MON', on='created_at').price.sum().head(5)"
   ]
  },
  {
   "cell_type": "markdown",
   "metadata": {
    "ExecuteTime": {
     "end_time": "2020-09-12T12:12:58.835586Z",
     "start_time": "2020-09-12T12:12:58.833203Z"
    },
    "id": "hZNnJdvbSZwH"
   },
   "source": [
    "## Aggregating Data Based on Month"
   ]
  },
  {
   "cell_type": "code",
   "execution_count": null,
   "metadata": {
    "ExecuteTime": {
     "end_time": "2020-09-12T12:13:58.371841Z",
     "start_time": "2020-09-12T12:13:58.350040Z"
    },
    "colab": {
     "base_uri": "https://localhost:8080/",
     "height": 204
    },
    "id": "dCVXzRr6SZwH",
    "outputId": "4d1155ec-8935-42ec-c6cf-fe14ea496cf3"
   },
   "outputs": [
    {
     "data": {
      "text/plain": [
       "created_at\n",
       "2015-12-31    1.538769e+05\n",
       "2016-01-31    4.297143e+05\n",
       "2016-02-29    9.352684e+05\n",
       "2016-03-31    7.425185e+06\n",
       "2016-04-30    1.384351e+07\n",
       "2016-05-31    1.253785e+07\n",
       "2016-06-30    7.264586e+06\n",
       "2016-07-31    6.739416e+06\n",
       "2016-08-31    2.721504e+06\n",
       "Freq: M, Name: price, dtype: float64"
      ]
     },
     "execution_count": 13,
     "metadata": {
      "tags": []
     },
     "output_type": "execute_result"
    }
   ],
   "source": [
    "data.resample('M', on='created_at').price.sum()"
   ]
  },
  {
   "cell_type": "code",
   "execution_count": null,
   "metadata": {
    "ExecuteTime": {
     "end_time": "2020-09-12T12:14:00.721208Z",
     "start_time": "2020-09-12T12:14:00.699191Z"
    },
    "colab": {
     "base_uri": "https://localhost:8080/",
     "height": 204
    },
    "id": "tzmiyUB2SZwJ",
    "outputId": "3317abdd-15d6-46c0-8cd9-08b028db2f63"
   },
   "outputs": [
    {
     "data": {
      "text/plain": [
       "created_at\n",
       "2015-12-01    1.538769e+05\n",
       "2016-01-01    4.297143e+05\n",
       "2016-02-01    9.352684e+05\n",
       "2016-03-01    7.425185e+06\n",
       "2016-04-01    1.384351e+07\n",
       "2016-05-01    1.253785e+07\n",
       "2016-06-01    7.264586e+06\n",
       "2016-07-01    6.739416e+06\n",
       "2016-08-01    2.721504e+06\n",
       "Freq: MS, Name: price, dtype: float64"
      ]
     },
     "execution_count": 14,
     "metadata": {
      "tags": []
     },
     "output_type": "execute_result"
    }
   ],
   "source": [
    "# by default month labels are assigned to the last day of month, lets change it \n",
    "# to start from Month starting using 'MS' frequency\n",
    "data.resample('MS', on='created_at').price.sum()"
   ]
  },
  {
   "cell_type": "markdown",
   "metadata": {
    "ExecuteTime": {
     "end_time": "2020-09-12T12:14:34.288364Z",
     "start_time": "2020-09-12T12:14:34.285925Z"
    },
    "id": "ALlKum51SZwL"
   },
   "source": [
    "## Aggregations on different fields.\n",
    "\n",
    "1. Unique items were added in each hour.\n",
    "2. The total quantity was added in each hour.\n",
    "3. The total amount was added in each hour."
   ]
  },
  {
   "cell_type": "code",
   "execution_count": null,
   "metadata": {
    "ExecuteTime": {
     "end_time": "2020-09-12T12:15:11.983641Z",
     "start_time": "2020-09-12T12:15:11.936738Z"
    },
    "colab": {
     "base_uri": "https://localhost:8080/",
     "height": 235
    },
    "id": "TTzNof9ySZwM",
    "outputId": "0562dee7-d901-49a4-eed9-311bfdcfcfa3"
   },
   "outputs": [
    {
     "data": {
      "text/html": [
       "<div>\n",
       "<style scoped>\n",
       "    .dataframe tbody tr th:only-of-type {\n",
       "        vertical-align: middle;\n",
       "    }\n",
       "\n",
       "    .dataframe tbody tr th {\n",
       "        vertical-align: top;\n",
       "    }\n",
       "\n",
       "    .dataframe thead th {\n",
       "        text-align: right;\n",
       "    }\n",
       "</style>\n",
       "<table border=\"1\" class=\"dataframe\">\n",
       "  <thead>\n",
       "    <tr style=\"text-align: right;\">\n",
       "      <th></th>\n",
       "      <th>price</th>\n",
       "      <th>quantity</th>\n",
       "      <th>item_code</th>\n",
       "    </tr>\n",
       "    <tr>\n",
       "      <th>created_at</th>\n",
       "      <th></th>\n",
       "      <th></th>\n",
       "      <th></th>\n",
       "    </tr>\n",
       "  </thead>\n",
       "  <tbody>\n",
       "    <tr>\n",
       "      <th>2015-12-14 18:00:00</th>\n",
       "      <td>5449.90</td>\n",
       "      <td>3</td>\n",
       "      <td>3</td>\n",
       "    </tr>\n",
       "    <tr>\n",
       "      <th>2015-12-14 19:00:00</th>\n",
       "      <td>15.98</td>\n",
       "      <td>2</td>\n",
       "      <td>2</td>\n",
       "    </tr>\n",
       "    <tr>\n",
       "      <th>2015-12-14 20:00:00</th>\n",
       "      <td>66.98</td>\n",
       "      <td>7</td>\n",
       "      <td>4</td>\n",
       "    </tr>\n",
       "    <tr>\n",
       "      <th>2015-12-14 21:00:00</th>\n",
       "      <td>0.00</td>\n",
       "      <td>0</td>\n",
       "      <td>0</td>\n",
       "    </tr>\n",
       "    <tr>\n",
       "      <th>2015-12-14 22:00:00</th>\n",
       "      <td>0.00</td>\n",
       "      <td>0</td>\n",
       "      <td>0</td>\n",
       "    </tr>\n",
       "  </tbody>\n",
       "</table>\n",
       "</div>"
      ],
      "text/plain": [
       "                       price  quantity  item_code\n",
       "created_at                                       \n",
       "2015-12-14 18:00:00  5449.90         3          3\n",
       "2015-12-14 19:00:00    15.98         2          2\n",
       "2015-12-14 20:00:00    66.98         7          4\n",
       "2015-12-14 21:00:00     0.00         0          0\n",
       "2015-12-14 22:00:00     0.00         0          0"
      ]
     },
     "execution_count": 15,
     "metadata": {
      "tags": []
     },
     "output_type": "execute_result"
    }
   ],
   "source": [
    "data.resample('H', on='created_at').agg({'price':'sum', 'quantity':'sum','item_code':'nunique'}).head(5)"
   ]
  },
  {
   "cell_type": "markdown",
   "metadata": {
    "ExecuteTime": {
     "end_time": "2020-09-12T12:15:50.667465Z",
     "start_time": "2020-09-12T12:15:50.663174Z"
    },
    "id": "rqWM1mVHSZwO"
   },
   "source": [
    "# Grouping data based on different Time intervals\n",
    "\n",
    "Here we will group on multiple fields along with time interval"
   ]
  },
  {
   "cell_type": "markdown",
   "metadata": {
    "id": "W5a233vcSZwO"
   },
   "source": [
    "## Amount added for each store type in each week."
   ]
  },
  {
   "cell_type": "code",
   "execution_count": null,
   "metadata": {
    "ExecuteTime": {
     "end_time": "2020-09-12T12:16:31.658285Z",
     "start_time": "2020-09-12T12:16:31.623573Z"
    },
    "colab": {
     "base_uri": "https://localhost:8080/",
     "height": 306
    },
    "id": "X1J-6dJKSZwO",
    "outputId": "38a42d8a-5ffa-4823-e6f9-9a7d6de9cf31"
   },
   "outputs": [
    {
     "data": {
      "text/plain": [
       "created_at  store_type                \n",
       "2015-12-20  other                          34300.00\n",
       "            public_semi_public_service       833.90\n",
       "            small_medium_shop               1206.04\n",
       "2015-12-27  small_medium_shop                923.09\n",
       "            specialized_shop               65164.00\n",
       "2016-01-03  small_medium_shop                355.10\n",
       "            specialized_shop               41922.00\n",
       "2016-01-10  other                           8300.00\n",
       "            small_medium_shop                412.55\n",
       "            specialized_shop                3979.00\n",
       "2016-01-17  market                           170.78\n",
       "            other                         144341.00\n",
       "            private_service_provider         220.00\n",
       "            public_semi_public_service       271.84\n",
       "            small_medium_shop              20908.29\n",
       "Name: price, dtype: float64"
      ]
     },
     "execution_count": 16,
     "metadata": {
      "tags": []
     },
     "output_type": "execute_result"
    }
   ],
   "source": [
    "data.groupby([pd.Grouper(key='created_at', freq='W'), 'store_type']).price.sum().head(15)"
   ]
  },
  {
   "cell_type": "markdown",
   "metadata": {
    "id": "YYE2k2tqSZwQ"
   },
   "source": [
    "## Amount added for each store type in each month."
   ]
  },
  {
   "cell_type": "code",
   "execution_count": null,
   "metadata": {
    "ExecuteTime": {
     "end_time": "2020-09-12T12:18:22.592401Z",
     "start_time": "2020-09-12T12:18:22.555505Z"
    },
    "colab": {
     "base_uri": "https://localhost:8080/",
     "height": 306
    },
    "id": "wtPqwZoDSZwR",
    "outputId": "f710b83d-c85e-4c17-ffd3-1e07fac9a585",
    "scrolled": true
   },
   "outputs": [
    {
     "data": {
      "text/plain": [
       "created_at  store_type                \n",
       "2015-12-31  other                          34300.00\n",
       "            public_semi_public_service       833.90\n",
       "            small_medium_shop               2484.23\n",
       "            specialized_shop              107086.00\n",
       "2016-01-31  market                           473.75\n",
       "            other                         314741.00\n",
       "            private_service_provider         325.00\n",
       "            public_semi_public_service       276.79\n",
       "            small_medium_shop              31042.79\n",
       "            specialized_shop               29648.44\n",
       "2016-02-29  market                          1974.04\n",
       "            other                         527950.00\n",
       "            private_service_provider        1620.00\n",
       "            public_semi_public_service      1028.52\n",
       "            small_medium_shop             224653.83\n",
       "Name: price, dtype: float64"
      ]
     },
     "execution_count": 17,
     "metadata": {
      "tags": []
     },
     "output_type": "execute_result"
    }
   ],
   "source": [
    "data.groupby([pd.Grouper(key='created_at', freq='M'), 'store_type']).price.sum().head(15)"
   ]
  },
  {
   "cell_type": "markdown",
   "metadata": {
    "id": "WSMjYRVFSZwT"
   },
   "source": [
    "## Total Amount added based on item_name in each month."
   ]
  },
  {
   "cell_type": "code",
   "execution_count": null,
   "metadata": {
    "ExecuteTime": {
     "end_time": "2020-09-12T12:18:37.544787Z",
     "start_time": "2020-09-12T12:18:37.508017Z"
    },
    "colab": {
     "base_uri": "https://localhost:8080/",
     "height": 238
    },
    "id": "deEawO61SZwT",
    "outputId": "97f37192-44f6-4fbd-9a25-b751650c3878",
    "scrolled": false
   },
   "outputs": [
    {
     "data": {
      "text/plain": [
       "created_at  item_name                                   \n",
       "2015-12-31  Bar soap, solid, SB                                33.17\n",
       "            Beer, domestic brand, single bottle, WKB           29.79\n",
       "            Black tea, BL                                      12.00\n",
       "            Black tea, in bags, WKB                            60.99\n",
       "            Bread, white, sliced, WKB                          85.45\n",
       "                                                              ...   \n",
       "2016-08-31  Wheat flour, not self-rising, BL                  150.38\n",
       "            White sugar, WKB                                  266.47\n",
       "            Women's haircut, basic hairdresser               7730.00\n",
       "            Wrist-watch, men's, CITIZEN Eco-Drive BM6060    52205.00\n",
       "            Yoghurt, plain, WKB                               150.96\n",
       "Name: price, Length: 1061, dtype: float64"
      ]
     },
     "execution_count": 18,
     "metadata": {
      "tags": []
     },
     "output_type": "execute_result"
    }
   ],
   "source": [
    "data.groupby([pd.Grouper(key='created_at', freq='M'), 'item_name']).price.sum()"
   ]
  },
  {
   "cell_type": "markdown",
   "metadata": {
    "id": "yLqWwtakSZwV"
   },
   "source": [
    "## Multiple Aggregation based on store_type in each month."
   ]
  },
  {
   "cell_type": "code",
   "execution_count": null,
   "metadata": {
    "ExecuteTime": {
     "end_time": "2020-09-12T12:17:24.458078Z",
     "start_time": "2020-09-12T12:17:24.401460Z"
    },
    "colab": {
     "base_uri": "https://localhost:8080/",
     "height": 700
    },
    "id": "uWC4UyBfSZwW",
    "outputId": "f5c49046-69cd-48b3-c7a0-6bf6a752801b"
   },
   "outputs": [
    {
     "data": {
      "text/html": [
       "<div>\n",
       "<style scoped>\n",
       "    .dataframe tbody tr th:only-of-type {\n",
       "        vertical-align: middle;\n",
       "    }\n",
       "\n",
       "    .dataframe tbody tr th {\n",
       "        vertical-align: top;\n",
       "    }\n",
       "\n",
       "    .dataframe thead th {\n",
       "        text-align: right;\n",
       "    }\n",
       "</style>\n",
       "<table border=\"1\" class=\"dataframe\">\n",
       "  <thead>\n",
       "    <tr style=\"text-align: right;\">\n",
       "      <th></th>\n",
       "      <th></th>\n",
       "      <th>unique_items</th>\n",
       "      <th>total_quantity</th>\n",
       "      <th>total_amount</th>\n",
       "    </tr>\n",
       "    <tr>\n",
       "      <th>created_at</th>\n",
       "      <th>store_type</th>\n",
       "      <th></th>\n",
       "      <th></th>\n",
       "      <th></th>\n",
       "    </tr>\n",
       "  </thead>\n",
       "  <tbody>\n",
       "    <tr>\n",
       "      <th rowspan=\"4\" valign=\"top\">2015-12-31</th>\n",
       "      <th>other</th>\n",
       "      <td>3</td>\n",
       "      <td>6</td>\n",
       "      <td>34300.00</td>\n",
       "    </tr>\n",
       "    <tr>\n",
       "      <th>public_semi_public_service</th>\n",
       "      <td>1</td>\n",
       "      <td>1</td>\n",
       "      <td>833.90</td>\n",
       "    </tr>\n",
       "    <tr>\n",
       "      <th>small_medium_shop</th>\n",
       "      <td>27</td>\n",
       "      <td>88</td>\n",
       "      <td>2484.23</td>\n",
       "    </tr>\n",
       "    <tr>\n",
       "      <th>specialized_shop</th>\n",
       "      <td>2</td>\n",
       "      <td>20</td>\n",
       "      <td>107086.00</td>\n",
       "    </tr>\n",
       "    <tr>\n",
       "      <th rowspan=\"6\" valign=\"top\">2016-01-31</th>\n",
       "      <th>market</th>\n",
       "      <td>2</td>\n",
       "      <td>12</td>\n",
       "      <td>473.75</td>\n",
       "    </tr>\n",
       "    <tr>\n",
       "      <th>other</th>\n",
       "      <td>5</td>\n",
       "      <td>43</td>\n",
       "      <td>314741.00</td>\n",
       "    </tr>\n",
       "    <tr>\n",
       "      <th>private_service_provider</th>\n",
       "      <td>2</td>\n",
       "      <td>2</td>\n",
       "      <td>325.00</td>\n",
       "    </tr>\n",
       "    <tr>\n",
       "      <th>public_semi_public_service</th>\n",
       "      <td>2</td>\n",
       "      <td>2</td>\n",
       "      <td>276.79</td>\n",
       "    </tr>\n",
       "    <tr>\n",
       "      <th>small_medium_shop</th>\n",
       "      <td>73</td>\n",
       "      <td>472</td>\n",
       "      <td>31042.79</td>\n",
       "    </tr>\n",
       "    <tr>\n",
       "      <th>specialized_shop</th>\n",
       "      <td>7</td>\n",
       "      <td>24</td>\n",
       "      <td>29648.44</td>\n",
       "    </tr>\n",
       "    <tr>\n",
       "      <th rowspan=\"6\" valign=\"top\">2016-02-29</th>\n",
       "      <th>market</th>\n",
       "      <td>27</td>\n",
       "      <td>41</td>\n",
       "      <td>1974.04</td>\n",
       "    </tr>\n",
       "    <tr>\n",
       "      <th>other</th>\n",
       "      <td>4</td>\n",
       "      <td>75</td>\n",
       "      <td>527950.00</td>\n",
       "    </tr>\n",
       "    <tr>\n",
       "      <th>private_service_provider</th>\n",
       "      <td>5</td>\n",
       "      <td>11</td>\n",
       "      <td>1620.00</td>\n",
       "    </tr>\n",
       "    <tr>\n",
       "      <th>public_semi_public_service</th>\n",
       "      <td>2</td>\n",
       "      <td>5</td>\n",
       "      <td>1028.52</td>\n",
       "    </tr>\n",
       "    <tr>\n",
       "      <th>small_medium_shop</th>\n",
       "      <td>77</td>\n",
       "      <td>1033</td>\n",
       "      <td>224653.83</td>\n",
       "    </tr>\n",
       "    <tr>\n",
       "      <th>specialized_shop</th>\n",
       "      <td>16</td>\n",
       "      <td>77</td>\n",
       "      <td>117859.88</td>\n",
       "    </tr>\n",
       "    <tr>\n",
       "      <th rowspan=\"4\" valign=\"top\">2016-03-31</th>\n",
       "      <th>None</th>\n",
       "      <td>2</td>\n",
       "      <td>18</td>\n",
       "      <td>164.20</td>\n",
       "    </tr>\n",
       "    <tr>\n",
       "      <th>bulk_discount_shop</th>\n",
       "      <td>2</td>\n",
       "      <td>3</td>\n",
       "      <td>222.90</td>\n",
       "    </tr>\n",
       "    <tr>\n",
       "      <th>market</th>\n",
       "      <td>5</td>\n",
       "      <td>101</td>\n",
       "      <td>1807.68</td>\n",
       "    </tr>\n",
       "    <tr>\n",
       "      <th>other</th>\n",
       "      <td>6</td>\n",
       "      <td>487</td>\n",
       "      <td>3355801.43</td>\n",
       "    </tr>\n",
       "  </tbody>\n",
       "</table>\n",
       "</div>"
      ],
      "text/plain": [
       "                                       unique_items  total_quantity  \\\n",
       "created_at store_type                                                 \n",
       "2015-12-31 other                                  3               6   \n",
       "           public_semi_public_service             1               1   \n",
       "           small_medium_shop                     27              88   \n",
       "           specialized_shop                       2              20   \n",
       "2016-01-31 market                                 2              12   \n",
       "           other                                  5              43   \n",
       "           private_service_provider               2               2   \n",
       "           public_semi_public_service             2               2   \n",
       "           small_medium_shop                     73             472   \n",
       "           specialized_shop                       7              24   \n",
       "2016-02-29 market                                27              41   \n",
       "           other                                  4              75   \n",
       "           private_service_provider               5              11   \n",
       "           public_semi_public_service             2               5   \n",
       "           small_medium_shop                     77            1033   \n",
       "           specialized_shop                      16              77   \n",
       "2016-03-31 None                                   2              18   \n",
       "           bulk_discount_shop                     2               3   \n",
       "           market                                 5             101   \n",
       "           other                                  6             487   \n",
       "\n",
       "                                       total_amount  \n",
       "created_at store_type                                \n",
       "2015-12-31 other                           34300.00  \n",
       "           public_semi_public_service        833.90  \n",
       "           small_medium_shop                2484.23  \n",
       "           specialized_shop               107086.00  \n",
       "2016-01-31 market                            473.75  \n",
       "           other                          314741.00  \n",
       "           private_service_provider          325.00  \n",
       "           public_semi_public_service        276.79  \n",
       "           small_medium_shop               31042.79  \n",
       "           specialized_shop                29648.44  \n",
       "2016-02-29 market                           1974.04  \n",
       "           other                          527950.00  \n",
       "           private_service_provider         1620.00  \n",
       "           public_semi_public_service       1028.52  \n",
       "           small_medium_shop              224653.83  \n",
       "           specialized_shop               117859.88  \n",
       "2016-03-31 None                              164.20  \n",
       "           bulk_discount_shop                222.90  \n",
       "           market                           1807.68  \n",
       "           other                         3355801.43  "
      ]
     },
     "execution_count": 19,
     "metadata": {
      "tags": []
     },
     "output_type": "execute_result"
    }
   ],
   "source": [
    "data.groupby([pd.Grouper(key='created_at', freq='M'), 'store_type'])\\\n",
    "    .agg(unique_items=('item_code', 'nunique'),\n",
    "         total_quantity=('quantity','sum'),\n",
    "         total_amount=('price','sum')).head(20)"
   ]
  },
  {
   "cell_type": "code",
   "execution_count": null,
   "metadata": {
    "id": "R3K9siJLhn4D"
   },
   "outputs": [],
   "source": []
  }
 ],
 "metadata": {
  "colab": {
   "provenance": []
  },
  "kernelspec": {
   "display_name": "Python 3 (ipykernel)",
   "language": "python",
   "name": "python3"
  },
  "language_info": {
   "codemirror_mode": {
    "name": "ipython",
    "version": 3
   },
   "file_extension": ".py",
   "mimetype": "text/x-python",
   "name": "python",
   "nbconvert_exporter": "python",
   "pygments_lexer": "ipython3",
   "version": "3.9.13"
  },
  "toc": {
   "base_numbering": 1,
   "nav_menu": {},
   "number_sections": true,
   "sideBar": true,
   "skip_h1_title": false,
   "title_cell": "Table of Contents",
   "title_sidebar": "Contents",
   "toc_cell": false,
   "toc_position": {},
   "toc_section_display": true,
   "toc_window_display": true
  }
 },
 "nbformat": 4,
 "nbformat_minor": 1
}
