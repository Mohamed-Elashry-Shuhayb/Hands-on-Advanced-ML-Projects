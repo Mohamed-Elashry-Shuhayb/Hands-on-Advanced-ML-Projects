{
 "cells": [
  {
   "cell_type": "markdown",
   "metadata": {},
   "source": [
    "# Part 1 - Analytics:"
   ]
  },
  {
   "cell_type": "markdown",
   "metadata": {},
   "source": [
    "### 1- Importing Everything:"
   ]
  },
  {
   "cell_type": "code",
   "execution_count": 1,
   "metadata": {
    "slideshow": {
     "slide_type": "skip"
    }
   },
   "outputs": [],
   "source": [
    "# import all packages and set plots to be embedded inline\n",
    "import numpy as np\n",
    "import pandas as pd\n",
    "import matplotlib.pyplot as plt\n",
    "import seaborn as sns\n",
    "from time import sleep\n",
    "from geopy.geocoders import Nominatim\n",
    "from sklearn.cluster import KMeans\n",
    "from geopy.exc import GeocoderTimedOut, GeocoderServiceError\n",
    "from sklearn.linear_model import LogisticRegression\n",
    "from sklearn.model_selection import cross_val_score\n",
    "from sklearn.svm import SVC\n",
    "from sklearn.naive_bayes import GaussianNB\n",
    "from sklearn.tree import DecisionTreeClassifier\n",
    "from sklearn.metrics import classification_report\n",
    "import warnings\n",
    "warnings.filterwarnings('ignore')\n",
    "%matplotlib inline"
   ]
  },
  {
   "cell_type": "code",
   "execution_count": 2,
   "metadata": {
    "slideshow": {
     "slide_type": "skip"
    }
   },
   "outputs": [],
   "source": [
    "# read the csv file\n",
    "df = pd.read_csv(\"Senior Data Analyst Task_jobs.csv\")"
   ]
  },
  {
   "cell_type": "markdown",
   "metadata": {},
   "source": [
    "### 2- Understanding and Cleaning the data:"
   ]
  },
  {
   "cell_type": "markdown",
   "metadata": {},
   "source": [
    "- Size and shape of data"
   ]
  },
  {
   "cell_type": "code",
   "execution_count": 3,
   "metadata": {
    "slideshow": {
     "slide_type": "skip"
    }
   },
   "outputs": [
    {
     "name": "stdout",
     "output_type": "stream",
     "text": [
      "We have 9999 rows and 8 columns in our dataset.\n"
     ]
    }
   ],
   "source": [
    "# Size of the data\n",
    "rows, cols = df.shape\n",
    "print(f\"We have {rows} rows and {cols} columns in our dataset.\")"
   ]
  },
  {
   "cell_type": "code",
   "execution_count": 4,
   "metadata": {
    "slideshow": {
     "slide_type": "slide"
    }
   },
   "outputs": [
    {
     "data": {
      "text/html": [
       "<div>\n",
       "<style scoped>\n",
       "    .dataframe tbody tr th:only-of-type {\n",
       "        vertical-align: middle;\n",
       "    }\n",
       "\n",
       "    .dataframe tbody tr th {\n",
       "        vertical-align: top;\n",
       "    }\n",
       "\n",
       "    .dataframe thead th {\n",
       "        text-align: right;\n",
       "    }\n",
       "</style>\n",
       "<table border=\"1\" class=\"dataframe\">\n",
       "  <thead>\n",
       "    <tr style=\"text-align: right;\">\n",
       "      <th></th>\n",
       "      <th>time_of_post</th>\n",
       "      <th>latitude</th>\n",
       "      <th>longitude</th>\n",
       "      <th>category</th>\n",
       "      <th>number_of_tradies</th>\n",
       "      <th>estimated_size</th>\n",
       "      <th>number_of_impressions</th>\n",
       "      <th>accepted</th>\n",
       "    </tr>\n",
       "  </thead>\n",
       "  <tbody>\n",
       "    <tr>\n",
       "      <th>0</th>\n",
       "      <td>2019-09-15 11:40:06</td>\n",
       "      <td>-37.8994</td>\n",
       "      <td>144.9799</td>\n",
       "      <td>8</td>\n",
       "      <td>8376</td>\n",
       "      <td>medium</td>\n",
       "      <td>1004.0</td>\n",
       "      <td>0</td>\n",
       "    </tr>\n",
       "    <tr>\n",
       "      <th>1</th>\n",
       "      <td>2019-09-11 15:12:06</td>\n",
       "      <td>-37.8063</td>\n",
       "      <td>144.9964</td>\n",
       "      <td>3</td>\n",
       "      <td>5089</td>\n",
       "      <td>medium</td>\n",
       "      <td>772.0</td>\n",
       "      <td>0</td>\n",
       "    </tr>\n",
       "    <tr>\n",
       "      <th>2</th>\n",
       "      <td>2019-09-10 15:53:06</td>\n",
       "      <td>-37.8901</td>\n",
       "      <td>144.8885</td>\n",
       "      <td>7</td>\n",
       "      <td>3677</td>\n",
       "      <td>small</td>\n",
       "      <td>1103.0</td>\n",
       "      <td>0</td>\n",
       "    </tr>\n",
       "    <tr>\n",
       "      <th>3</th>\n",
       "      <td>2019-09-10 11:38:06</td>\n",
       "      <td>-33.7674</td>\n",
       "      <td>151.1690</td>\n",
       "      <td>3</td>\n",
       "      <td>9732</td>\n",
       "      <td>medium</td>\n",
       "      <td>1111.0</td>\n",
       "      <td>1</td>\n",
       "    </tr>\n",
       "    <tr>\n",
       "      <th>4</th>\n",
       "      <td>2019-09-10 17:38:06</td>\n",
       "      <td>-33.9091</td>\n",
       "      <td>151.2039</td>\n",
       "      <td>6</td>\n",
       "      <td>2476</td>\n",
       "      <td>small</td>\n",
       "      <td>360.0</td>\n",
       "      <td>0</td>\n",
       "    </tr>\n",
       "  </tbody>\n",
       "</table>\n",
       "</div>"
      ],
      "text/plain": [
       "          time_of_post  latitude   longitude  category  number_of_tradies  \\\n",
       "0  2019-09-15 11:40:06  -37.8994    144.9799         8               8376   \n",
       "1  2019-09-11 15:12:06  -37.8063    144.9964         3               5089   \n",
       "2  2019-09-10 15:53:06  -37.8901    144.8885         7               3677   \n",
       "3  2019-09-10 11:38:06  -33.7674    151.1690         3               9732   \n",
       "4  2019-09-10 17:38:06  -33.9091    151.2039         6               2476   \n",
       "\n",
       "  estimated_size  number_of_impressions  accepted  \n",
       "0         medium                 1004.0         0  \n",
       "1         medium                  772.0         0  \n",
       "2          small                 1103.0         0  \n",
       "3         medium                 1111.0         1  \n",
       "4          small                  360.0         0  "
      ]
     },
     "execution_count": 4,
     "metadata": {},
     "output_type": "execute_result"
    }
   ],
   "source": [
    "# A sample of the data\n",
    "df.head()"
   ]
  },
  {
   "cell_type": "markdown",
   "metadata": {},
   "source": [
    "- Missing Values:"
   ]
  },
  {
   "cell_type": "code",
   "execution_count": 5,
   "metadata": {
    "slideshow": {
     "slide_type": "skip"
    }
   },
   "outputs": [
    {
     "data": {
      "text/plain": [
       "time_of_post               0\n",
       "latitude                   0\n",
       " longitude                 0\n",
       "category                   0\n",
       "number_of_tradies          0\n",
       "estimated_size             0\n",
       "number_of_impressions    110\n",
       "accepted                   0\n",
       "dtype: int64"
      ]
     },
     "execution_count": 5,
     "metadata": {},
     "output_type": "execute_result"
    }
   ],
   "source": [
    "# Count of Null values by feature\n",
    "df.isnull().sum()"
   ]
  },
  {
   "cell_type": "code",
   "execution_count": 6,
   "metadata": {},
   "outputs": [
    {
     "data": {
      "text/plain": [
       "1.1001100110011002"
      ]
     },
     "execution_count": 6,
     "metadata": {},
     "output_type": "execute_result"
    }
   ],
   "source": [
    "df.loc[:,\"number_of_impressions\"].isnull().sum()*100/len(df)"
   ]
  },
  {
   "cell_type": "markdown",
   "metadata": {},
   "source": [
    "It seems that we have **110** missing values in the `number_of_impressions` column. As this is **1.1%** of the data we have, we can drop it now as it has a very small impact."
   ]
  },
  {
   "cell_type": "code",
   "execution_count": 7,
   "metadata": {
    "scrolled": true,
    "slideshow": {
     "slide_type": "skip"
    }
   },
   "outputs": [
    {
     "name": "stdout",
     "output_type": "stream",
     "text": [
      "(9889, 8)\n"
     ]
    }
   ],
   "source": [
    "# We have enough points, so we can drop the null values from this dataset.\n",
    "df.dropna(inplace=True)\n",
    "df.reset_index(drop=True, inplace=True)\n",
    "print(df.shape) # After removing null values"
   ]
  },
  {
   "cell_type": "markdown",
   "metadata": {},
   "source": [
    "- Duplicate records:"
   ]
  },
  {
   "cell_type": "code",
   "execution_count": 8,
   "metadata": {},
   "outputs": [
    {
     "name": "stdout",
     "output_type": "stream",
     "text": [
      "We have 0 values.\n"
     ]
    }
   ],
   "source": [
    "dup = df.duplicated().sum()\n",
    "print(f\"We have {dup} values.\")"
   ]
  },
  {
   "cell_type": "markdown",
   "metadata": {},
   "source": [
    "- Data Types:"
   ]
  },
  {
   "cell_type": "code",
   "execution_count": 9,
   "metadata": {
    "slideshow": {
     "slide_type": "skip"
    }
   },
   "outputs": [
    {
     "name": "stdout",
     "output_type": "stream",
     "text": [
      "<class 'pandas.core.frame.DataFrame'>\n",
      "RangeIndex: 9889 entries, 0 to 9888\n",
      "Data columns (total 8 columns):\n",
      " #   Column                 Non-Null Count  Dtype  \n",
      "---  ------                 --------------  -----  \n",
      " 0   time_of_post           9889 non-null   object \n",
      " 1   latitude               9889 non-null   float64\n",
      " 2    longitude             9889 non-null   float64\n",
      " 3   category               9889 non-null   int64  \n",
      " 4   number_of_tradies      9889 non-null   int64  \n",
      " 5   estimated_size         9889 non-null   object \n",
      " 6   number_of_impressions  9889 non-null   float64\n",
      " 7   accepted               9889 non-null   int64  \n",
      "dtypes: float64(3), int64(3), object(2)\n",
      "memory usage: 618.2+ KB\n"
     ]
    }
   ],
   "source": [
    "df.info();"
   ]
  },
  {
   "cell_type": "markdown",
   "metadata": {},
   "source": [
    "It seems that we need to change the data types for:\n",
    "- `time_of_post` from *str* to *datetime object*\n",
    "- `number_of_impressions` from *float* to *int*\n",
    "- `estimated_size` from *str* to *category*\n",
    "- `category` from *str* to *category*"
   ]
  },
  {
   "cell_type": "code",
   "execution_count": 10,
   "metadata": {
    "slideshow": {
     "slide_type": "skip"
    }
   },
   "outputs": [
    {
     "name": "stdout",
     "output_type": "stream",
     "text": [
      "<class 'pandas.core.frame.DataFrame'>\n",
      "RangeIndex: 9889 entries, 0 to 9888\n",
      "Data columns (total 8 columns):\n",
      " #   Column                 Non-Null Count  Dtype         \n",
      "---  ------                 --------------  -----         \n",
      " 0   time_of_post           9889 non-null   datetime64[ns]\n",
      " 1   latitude               9889 non-null   float64       \n",
      " 2    longitude             9889 non-null   float64       \n",
      " 3   category               9889 non-null   category      \n",
      " 4   number_of_tradies      9889 non-null   int64         \n",
      " 5   estimated_size         9889 non-null   category      \n",
      " 6   number_of_impressions  9889 non-null   int32         \n",
      " 7   accepted               9889 non-null   int64         \n",
      "dtypes: category(2), datetime64[ns](1), float64(2), int32(1), int64(2)\n",
      "memory usage: 444.8 KB\n",
      "None\n"
     ]
    }
   ],
   "source": [
    "#It seems that we need to change some columns data types\n",
    "df[\"time_of_post\"] = pd.to_datetime(df[\"time_of_post\"])\n",
    "df[\"number_of_impressions\"] = df[\"number_of_impressions\"].astype(int)\n",
    "df.loc[:,\"estimated_size\"] = df.loc[:,\"estimated_size\"].astype(\"category\")\n",
    "df.loc[:,\"category\"] = df.loc[:,\"category\"].astype(\"category\")\n",
    "print(df.info())"
   ]
  },
  {
   "cell_type": "markdown",
   "metadata": {},
   "source": [
    "Also, I'll remove the space from the `longitude` column name."
   ]
  },
  {
   "cell_type": "code",
   "execution_count": 11,
   "metadata": {},
   "outputs": [],
   "source": [
    "df.rename(columns={\" longitude\":\"longitude\"}, inplace=True)"
   ]
  },
  {
   "cell_type": "code",
   "execution_count": 12,
   "metadata": {},
   "outputs": [
    {
     "data": {
      "text/plain": [
       "(Timestamp('2019-09-10 00:01:06'), Timestamp('2019-09-16 22:54:06'))"
      ]
     },
     "execution_count": 12,
     "metadata": {},
     "output_type": "execute_result"
    }
   ],
   "source": [
    "df[\"time_of_post\"].min(), df[\"time_of_post\"].max()"
   ]
  },
  {
   "cell_type": "markdown",
   "metadata": {},
   "source": [
    "### What is the structure of the dataset?\n",
    "\n",
    "> - The dataset consists of a week of services' posts from **10 - 16 September 2019**. We'll look into Hours and Week_day importance only, but we won't be able to invetigate the effect of the Month and the Season. Also, we won't be able to do time series analysis as we can't capture an accurate trend.\n",
    "> - It has **9999 rows** and **8 columns**.  After removing some missing values, rows became **9889**.\n",
    "\n",
    "Each post includes:\n",
    "- time_of_post\n",
    "- latitude\n",
    "- longitude\n",
    "- category\n",
    "- number_of_tradies\n",
    "- estimated_size\n",
    "- number_of_impressions\n",
    "- accepted\n",
    "\n",
    "### What is the main feature of interest in the dataset?\n",
    "\n",
    "> The main feature of interest is the `accepted` features and we'll look into it and its relationship with other features as well\n",
    "\n",
    "### What features in the dataset do you think will help support your investigation into your features of interest?\n",
    "\n",
    "> - I think the time, the weekday and the location all are main factors for a job to be accepted.\n",
    "> - I'll start with Univariate Analysis to understand the distribution of each feature and understand its statistics.\n",
    "> - Then, I'll do Bivariate Analysis to investigate the relationship between each feature and the `accepted` feature.\n",
    "> - Lastly, I'll build some ML models and test their Accuracy"
   ]
  },
  {
   "cell_type": "markdown",
   "metadata": {},
   "source": [
    "## 3- Univariate Data Analysis:\n",
    "\n",
    "#### Let's understand the `time_of_post` feature:"
   ]
  },
  {
   "cell_type": "code",
   "execution_count": 13,
   "metadata": {},
   "outputs": [],
   "source": [
    "# First, Let's create a hour and week_day columns\n",
    "df.loc[:, \"hour\"] = df.loc[:,\"time_of_post\"].dt.hour\n",
    "df.loc[:, \"weekday\"] = pd.Categorical(df.loc[:,\"time_of_post\"].dt.day_name(),\n",
    "                                      categories=['Monday','Tuesday', 'Wednesday','Thursday',\n",
    "                                                  'Friday','Saturday','Sunday'],\n",
    "                                      ordered=True)"
   ]
  },
  {
   "cell_type": "code",
   "execution_count": 14,
   "metadata": {},
   "outputs": [
    {
     "data": {
      "image/png": "[encoded data removed]",
      "text/plain": [
       "<Figure size 432x288 with 1 Axes>"
      ]
     },
     "metadata": {
      "needs_background": "light"
     },
     "output_type": "display_data"
    }
   ],
   "source": [
    "#We'll plot the Bar Plot of the Hour\n",
    "df.groupby(\"hour\").count()[\"time_of_post\"].plot(kind=\"bar\",\n",
    "                                                title=\"Count of requests\",\n",
    "                                                ylabel=\"Count\",);"
   ]
  },
  {
   "cell_type": "markdown",
   "metadata": {},
   "source": [
    "We can see that the `hour` column is normally distributed around 11:00 AM."
   ]
  },
  {
   "cell_type": "code",
   "execution_count": 15,
   "metadata": {},
   "outputs": [
    {
     "data": {
      "image/png": "[encoded data removed]",
      "text/plain": [
       "<Figure size 432x288 with 1 Axes>"
      ]
     },
     "metadata": {
      "needs_background": "light"
     },
     "output_type": "display_data"
    }
   ],
   "source": [
    "#We'll plot the Bar Plot of the weekday\n",
    "df.groupby(\"weekday\").count()[\"time_of_post\"].plot(kind=\"bar\",\n",
    "                                                   title=\"Count of posts\",\n",
    "                                                  ylabel=\"Count\",);"
   ]
  },
  {
   "cell_type": "code",
   "execution_count": 16,
   "metadata": {},
   "outputs": [
    {
     "data": {
      "text/plain": [
       "weekday\n",
       "Monday       1398\n",
       "Tuesday      1403\n",
       "Wednesday    1404\n",
       "Thursday     1402\n",
       "Friday       1437\n",
       "Saturday     1407\n",
       "Sunday       1438\n",
       "Name: time_of_post, dtype: int64"
      ]
     },
     "execution_count": 16,
     "metadata": {},
     "output_type": "execute_result"
    }
   ],
   "source": [
    "df.groupby(\"weekday\").count()[\"time_of_post\"]"
   ]
  },
  {
   "cell_type": "markdown",
   "metadata": {},
   "source": [
    "We can see that the requests are almost distributed uniformly over the week with a slight increase on **Friday** and **Sunday**. As long as this is one week's data, we can't rely on it too much. We need data over the year to confirm this. \n",
    "\n",
    "Also, **Monday** has the lowest requests this week."
   ]
  },
  {
   "cell_type": "markdown",
   "metadata": {},
   "source": [
    "#### Now, Let's understand the `latitude` and `longitude` features:"
   ]
  },
  {
   "cell_type": "code",
   "execution_count": 17,
   "metadata": {},
   "outputs": [
    {
     "data": {
      "image/png": "[encoded data removed]",
      "text/plain": [
       "<Figure size 432x288 with 1 Axes>"
      ]
     },
     "metadata": {
      "needs_background": "light"
     },
     "output_type": "display_data"
    }
   ],
   "source": [
    "sns.scatterplot(x=df[\"longitude\"],\n",
    "                y=df[\"latitude\"])\n",
    "plt.show();"
   ]
  },
  {
   "cell_type": "markdown",
   "metadata": {},
   "source": [
    "We can see that requests came from 3 core areas. Let's dive deeper and see what these cities/states are.\n",
    "\n",
    "First, we'll cluster the requests into the three main areas based on their Long and Lat."
   ]
  },
  {
   "cell_type": "code",
   "execution_count": 18,
   "metadata": {},
   "outputs": [],
   "source": [
    "model = KMeans(n_clusters=3, random_state=0)\n",
    "model.fit(df.loc[:,[\"longitude\", \"latitude\"]])\n",
    "df.loc[:,\"area\"]=model.predict(df.loc[:,[\"longitude\", \"latitude\"]])"
   ]
  },
  {
   "cell_type": "markdown",
   "metadata": {},
   "source": [
    "Now, we'll run a function to store the name the state/city for a random sample of each location."
   ]
  },
  {
   "cell_type": "code",
   "execution_count": 19,
   "metadata": {},
   "outputs": [],
   "source": [
    "def get_address(row):\n",
    "    '''\n",
    "    A function that will take long and lat, and return the full address\n",
    "    '''\n",
    "    #Start a geopy app instance\n",
    "    user_agent = 'Hipages_{}'.format(np.random.randint(1,100000))\n",
    "    geolocator = Nominatim(user_agent=user_agent)\n",
    "    try:\n",
    "        lat, long = row.loc[\"latitude\"], row.loc[\"longitude\"]\n",
    "        location = geolocator.reverse(f\"{lat}, {long}\")\n",
    "#         print(location.address)\n",
    "        return location.address\n",
    "    except GeocoderTimedOut:\n",
    "        print('TIMED OUT: GeocoderTimedOut: Retrying...')\n",
    "        sleep(np.random.randint(1,10))\n",
    "        return get_address(row)\n",
    "    except GeocoderServiceError as e:\n",
    "        print('CONNECTION REFUSED: GeocoderServiceError encountered.')\n",
    "        logging.error(e)\n",
    "        return \"\"\n",
    "    except Exception as e:\n",
    "        print('ERROR: Terminating due to exception {}'.format(e))\n",
    "        return \"\""
   ]
  },
  {
   "cell_type": "markdown",
   "metadata": {},
   "source": [
    "##### First Area :"
   ]
  },
  {
   "cell_type": "code",
   "execution_count": 20,
   "metadata": {},
   "outputs": [
    {
     "data": {
      "text/html": [
       "<div>\n",
       "<style scoped>\n",
       "    .dataframe tbody tr th:only-of-type {\n",
       "        vertical-align: middle;\n",
       "    }\n",
       "\n",
       "    .dataframe tbody tr th {\n",
       "        vertical-align: top;\n",
       "    }\n",
       "\n",
       "    .dataframe thead th {\n",
       "        text-align: right;\n",
       "    }\n",
       "</style>\n",
       "<table border=\"1\" class=\"dataframe\">\n",
       "  <thead>\n",
       "    <tr style=\"text-align: right;\">\n",
       "      <th></th>\n",
       "      <th>time_of_post</th>\n",
       "      <th>latitude</th>\n",
       "      <th>longitude</th>\n",
       "      <th>category</th>\n",
       "      <th>number_of_tradies</th>\n",
       "      <th>estimated_size</th>\n",
       "      <th>number_of_impressions</th>\n",
       "      <th>accepted</th>\n",
       "      <th>hour</th>\n",
       "      <th>weekday</th>\n",
       "      <th>area</th>\n",
       "      <th>address</th>\n",
       "    </tr>\n",
       "  </thead>\n",
       "  <tbody>\n",
       "    <tr>\n",
       "      <th>3065</th>\n",
       "      <td>2019-09-14 16:46:06</td>\n",
       "      <td>-37.9169</td>\n",
       "      <td>144.8944</td>\n",
       "      <td>2</td>\n",
       "      <td>634</td>\n",
       "      <td>medium</td>\n",
       "      <td>868</td>\n",
       "      <td>1</td>\n",
       "      <td>16</td>\n",
       "      <td>Saturday</td>\n",
       "      <td>0</td>\n",
       "      <td>Victoria, Australia</td>\n",
       "    </tr>\n",
       "    <tr>\n",
       "      <th>1895</th>\n",
       "      <td>2019-09-16 16:49:06</td>\n",
       "      <td>-37.7796</td>\n",
       "      <td>144.9937</td>\n",
       "      <td>4</td>\n",
       "      <td>5479</td>\n",
       "      <td>medium</td>\n",
       "      <td>862</td>\n",
       "      <td>1</td>\n",
       "      <td>16</td>\n",
       "      <td>Monday</td>\n",
       "      <td>0</td>\n",
       "      <td>Barry Street, Westgarth, Northcote, Melbourne,...</td>\n",
       "    </tr>\n",
       "    <tr>\n",
       "      <th>1168</th>\n",
       "      <td>2019-09-11 03:38:06</td>\n",
       "      <td>-37.8542</td>\n",
       "      <td>145.0303</td>\n",
       "      <td>8</td>\n",
       "      <td>8376</td>\n",
       "      <td>small</td>\n",
       "      <td>1401</td>\n",
       "      <td>0</td>\n",
       "      <td>3</td>\n",
       "      <td>Wednesday</td>\n",
       "      <td>0</td>\n",
       "      <td>Sorrett Avenue, Malvern, Melbourne, City of St...</td>\n",
       "    </tr>\n",
       "    <tr>\n",
       "      <th>5536</th>\n",
       "      <td>2019-09-12 10:10:06</td>\n",
       "      <td>-37.8317</td>\n",
       "      <td>145.1240</td>\n",
       "      <td>7</td>\n",
       "      <td>3677</td>\n",
       "      <td>medium</td>\n",
       "      <td>2150</td>\n",
       "      <td>0</td>\n",
       "      <td>10</td>\n",
       "      <td>Thursday</td>\n",
       "      <td>0</td>\n",
       "      <td>David Street, Box Hill South, Melbourne, City ...</td>\n",
       "    </tr>\n",
       "    <tr>\n",
       "      <th>2211</th>\n",
       "      <td>2019-09-10 17:33:06</td>\n",
       "      <td>-37.8066</td>\n",
       "      <td>144.9271</td>\n",
       "      <td>6</td>\n",
       "      <td>8260</td>\n",
       "      <td>small</td>\n",
       "      <td>1064</td>\n",
       "      <td>1</td>\n",
       "      <td>17</td>\n",
       "      <td>Tuesday</td>\n",
       "      <td>0</td>\n",
       "      <td>South Dynon Rail Yard, Footscray Road, West Me...</td>\n",
       "    </tr>\n",
       "  </tbody>\n",
       "</table>\n",
       "</div>"
      ],
      "text/plain": [
       "            time_of_post  latitude  longitude category  number_of_tradies  \\\n",
       "3065 2019-09-14 16:46:06  -37.9169   144.8944        2                634   \n",
       "1895 2019-09-16 16:49:06  -37.7796   144.9937        4               5479   \n",
       "1168 2019-09-11 03:38:06  -37.8542   145.0303        8               8376   \n",
       "5536 2019-09-12 10:10:06  -37.8317   145.1240        7               3677   \n",
       "2211 2019-09-10 17:33:06  -37.8066   144.9271        6               8260   \n",
       "\n",
       "     estimated_size  number_of_impressions  accepted  hour    weekday  area  \\\n",
       "3065         medium                    868         1    16   Saturday     0   \n",
       "1895         medium                    862         1    16     Monday     0   \n",
       "1168          small                   1401         0     3  Wednesday     0   \n",
       "5536         medium                   2150         0    10   Thursday     0   \n",
       "2211          small                   1064         1    17    Tuesday     0   \n",
       "\n",
       "                                                address  \n",
       "3065                                Victoria, Australia  \n",
       "1895  Barry Street, Westgarth, Northcote, Melbourne,...  \n",
       "1168  Sorrett Avenue, Malvern, Melbourne, City of St...  \n",
       "5536  David Street, Box Hill South, Melbourne, City ...  \n",
       "2211  South Dynon Rail Yard, Footscray Road, West Me...  "
      ]
     },
     "execution_count": 20,
     "metadata": {},
     "output_type": "execute_result"
    }
   ],
   "source": [
    "df_1 = df.loc[df.loc[:,\"area\"]==0,:].sample(10)\n",
    "df_1.loc[:,\"address\"] = df_1.apply(get_address, axis=1)\n",
    "df_1.head()"
   ]
  },
  {
   "cell_type": "code",
   "execution_count": 21,
   "metadata": {},
   "outputs": [
    {
     "data": {
      "text/plain": [
       "['Victoria, Australia',\n",
       " 'Barry Street, Westgarth, Northcote, Melbourne, City of Darebin, Victoria, 3070, Australia',\n",
       " 'Sorrett Avenue, Malvern, Melbourne, City of Stonnington, Victoria, 3144, Australia',\n",
       " 'David Street, Box Hill South, Melbourne, City of Whitehorse, Victoria, 3128, Australia',\n",
       " 'South Dynon Rail Yard, Footscray Road, West Melbourne, Melbourne, City of Melbourne, Victoria, 3031, Australia',\n",
       " 'Victoria, Australia',\n",
       " 'Victoria, Australia',\n",
       " 'Vanberg Road, Essendon, Melbourne, City of Moonee Valley, Victoria, 3040, Australia',\n",
       " 'Glenroy Road, Glenroy, Melbourne, City of Moreland, Victoria, 3046, Australia',\n",
       " '1, Hudson Place, Melbourne Innovation District, Carlton, Melbourne, City of Melbourne, Victoria, 3053, Australia']"
      ]
     },
     "execution_count": 21,
     "metadata": {},
     "output_type": "execute_result"
    }
   ],
   "source": [
    "list(df_1.loc[:,\"address\"])"
   ]
  },
  {
   "cell_type": "markdown",
   "metadata": {},
   "source": [
    "##### Second Area :"
   ]
  },
  {
   "cell_type": "code",
   "execution_count": 22,
   "metadata": {},
   "outputs": [
    {
     "data": {
      "text/html": [
       "<div>\n",
       "<style scoped>\n",
       "    .dataframe tbody tr th:only-of-type {\n",
       "        vertical-align: middle;\n",
       "    }\n",
       "\n",
       "    .dataframe tbody tr th {\n",
       "        vertical-align: top;\n",
       "    }\n",
       "\n",
       "    .dataframe thead th {\n",
       "        text-align: right;\n",
       "    }\n",
       "</style>\n",
       "<table border=\"1\" class=\"dataframe\">\n",
       "  <thead>\n",
       "    <tr style=\"text-align: right;\">\n",
       "      <th></th>\n",
       "      <th>time_of_post</th>\n",
       "      <th>latitude</th>\n",
       "      <th>longitude</th>\n",
       "      <th>category</th>\n",
       "      <th>number_of_tradies</th>\n",
       "      <th>estimated_size</th>\n",
       "      <th>number_of_impressions</th>\n",
       "      <th>accepted</th>\n",
       "      <th>hour</th>\n",
       "      <th>weekday</th>\n",
       "      <th>area</th>\n",
       "      <th>address</th>\n",
       "    </tr>\n",
       "  </thead>\n",
       "  <tbody>\n",
       "    <tr>\n",
       "      <th>6341</th>\n",
       "      <td>2019-09-13 06:53:06</td>\n",
       "      <td>-17.9876</td>\n",
       "      <td>122.1801</td>\n",
       "      <td>3</td>\n",
       "      <td>10000</td>\n",
       "      <td>medium</td>\n",
       "      <td>1520</td>\n",
       "      <td>0</td>\n",
       "      <td>6</td>\n",
       "      <td>Friday</td>\n",
       "      <td>1</td>\n",
       "      <td>Broome, Shire Of Broome, Western Australia, 67...</td>\n",
       "    </tr>\n",
       "    <tr>\n",
       "      <th>7045</th>\n",
       "      <td>2019-09-12 00:29:06</td>\n",
       "      <td>-17.8831</td>\n",
       "      <td>122.2838</td>\n",
       "      <td>6</td>\n",
       "      <td>7591</td>\n",
       "      <td>medium</td>\n",
       "      <td>1496</td>\n",
       "      <td>1</td>\n",
       "      <td>0</td>\n",
       "      <td>Thursday</td>\n",
       "      <td>1</td>\n",
       "      <td>Broome Highway, Roebuck, Broome, Shire Of Broo...</td>\n",
       "    </tr>\n",
       "    <tr>\n",
       "      <th>7510</th>\n",
       "      <td>2019-09-16 05:51:06</td>\n",
       "      <td>-17.8407</td>\n",
       "      <td>122.3804</td>\n",
       "      <td>7</td>\n",
       "      <td>7267</td>\n",
       "      <td>small</td>\n",
       "      <td>1170</td>\n",
       "      <td>0</td>\n",
       "      <td>5</td>\n",
       "      <td>Monday</td>\n",
       "      <td>1</td>\n",
       "      <td>Roebuck, Shire Of Broome, Western Australia, 6...</td>\n",
       "    </tr>\n",
       "    <tr>\n",
       "      <th>754</th>\n",
       "      <td>2019-09-10 01:13:06</td>\n",
       "      <td>-17.9452</td>\n",
       "      <td>122.0716</td>\n",
       "      <td>3</td>\n",
       "      <td>10000</td>\n",
       "      <td>medium</td>\n",
       "      <td>1699</td>\n",
       "      <td>0</td>\n",
       "      <td>1</td>\n",
       "      <td>Tuesday</td>\n",
       "      <td>1</td>\n",
       "      <td>Broome, Shire Of Broome, Western Australia, 67...</td>\n",
       "    </tr>\n",
       "    <tr>\n",
       "      <th>3800</th>\n",
       "      <td>2019-09-13 14:19:06</td>\n",
       "      <td>-18.1632</td>\n",
       "      <td>122.1593</td>\n",
       "      <td>2</td>\n",
       "      <td>3001</td>\n",
       "      <td>medium</td>\n",
       "      <td>786</td>\n",
       "      <td>1</td>\n",
       "      <td>14</td>\n",
       "      <td>Friday</td>\n",
       "      <td>1</td>\n",
       "      <td>Shire Of Broome, Western Australia, Australia</td>\n",
       "    </tr>\n",
       "  </tbody>\n",
       "</table>\n",
       "</div>"
      ],
      "text/plain": [
       "            time_of_post  latitude  longitude category  number_of_tradies  \\\n",
       "6341 2019-09-13 06:53:06  -17.9876   122.1801        3              10000   \n",
       "7045 2019-09-12 00:29:06  -17.8831   122.2838        6               7591   \n",
       "7510 2019-09-16 05:51:06  -17.8407   122.3804        7               7267   \n",
       "754  2019-09-10 01:13:06  -17.9452   122.0716        3              10000   \n",
       "3800 2019-09-13 14:19:06  -18.1632   122.1593        2               3001   \n",
       "\n",
       "     estimated_size  number_of_impressions  accepted  hour   weekday  area  \\\n",
       "6341         medium                   1520         0     6    Friday     1   \n",
       "7045         medium                   1496         1     0  Thursday     1   \n",
       "7510          small                   1170         0     5    Monday     1   \n",
       "754          medium                   1699         0     1   Tuesday     1   \n",
       "3800         medium                    786         1    14    Friday     1   \n",
       "\n",
       "                                                address  \n",
       "6341  Broome, Shire Of Broome, Western Australia, 67...  \n",
       "7045  Broome Highway, Roebuck, Broome, Shire Of Broo...  \n",
       "7510  Roebuck, Shire Of Broome, Western Australia, 6...  \n",
       "754   Broome, Shire Of Broome, Western Australia, 67...  \n",
       "3800      Shire Of Broome, Western Australia, Australia  "
      ]
     },
     "execution_count": 22,
     "metadata": {},
     "output_type": "execute_result"
    }
   ],
   "source": [
    "df_2 = df.loc[df.loc[:,\"area\"]==1,:].sample(10)\n",
    "df_2.loc[:,\"address\"] = df_2.apply(get_address, axis=1)\n",
    "df_2.head()"
   ]
  },
  {
   "cell_type": "code",
   "execution_count": 23,
   "metadata": {},
   "outputs": [
    {
     "data": {
      "text/plain": [
       "['Broome, Shire Of Broome, Western Australia, 6752, Australia',\n",
       " 'Broome Highway, Roebuck, Broome, Shire Of Broome, Western Australia, Australia',\n",
       " 'Roebuck, Shire Of Broome, Western Australia, 6726, Australia',\n",
       " 'Broome, Shire Of Broome, Western Australia, 6752, Australia',\n",
       " 'Shire Of Broome, Western Australia, Australia',\n",
       " 'Waterbank, Shire Of Broome, Western Australia, Australia',\n",
       " 'Broome, Shire Of Broome, Western Australia, 6752, Australia',\n",
       " 'Chi Street, Roebuck, Shire Of Broome, Western Australia, Australia',\n",
       " 'Roebuck, Shire Of Broome, Western Australia, 6726, Australia',\n",
       " 'Broome Highway, Minyirr, Broome, Shire Of Broome, Western Australia, 6752, Australia']"
      ]
     },
     "execution_count": 23,
     "metadata": {},
     "output_type": "execute_result"
    }
   ],
   "source": [
    "list(df_2.loc[:,\"address\"])"
   ]
  },
  {
   "cell_type": "markdown",
   "metadata": {},
   "source": [
    "##### Third Area :"
   ]
  },
  {
   "cell_type": "code",
   "execution_count": 24,
   "metadata": {},
   "outputs": [
    {
     "data": {
      "text/html": [
       "<div>\n",
       "<style scoped>\n",
       "    .dataframe tbody tr th:only-of-type {\n",
       "        vertical-align: middle;\n",
       "    }\n",
       "\n",
       "    .dataframe tbody tr th {\n",
       "        vertical-align: top;\n",
       "    }\n",
       "\n",
       "    .dataframe thead th {\n",
       "        text-align: right;\n",
       "    }\n",
       "</style>\n",
       "<table border=\"1\" class=\"dataframe\">\n",
       "  <thead>\n",
       "    <tr style=\"text-align: right;\">\n",
       "      <th></th>\n",
       "      <th>time_of_post</th>\n",
       "      <th>latitude</th>\n",
       "      <th>longitude</th>\n",
       "      <th>category</th>\n",
       "      <th>number_of_tradies</th>\n",
       "      <th>estimated_size</th>\n",
       "      <th>number_of_impressions</th>\n",
       "      <th>accepted</th>\n",
       "      <th>hour</th>\n",
       "      <th>weekday</th>\n",
       "      <th>area</th>\n",
       "      <th>address</th>\n",
       "    </tr>\n",
       "  </thead>\n",
       "  <tbody>\n",
       "    <tr>\n",
       "      <th>9044</th>\n",
       "      <td>2019-09-13 18:24:06</td>\n",
       "      <td>-33.8235</td>\n",
       "      <td>151.2823</td>\n",
       "      <td>6</td>\n",
       "      <td>2476</td>\n",
       "      <td>small</td>\n",
       "      <td>137</td>\n",
       "      <td>1</td>\n",
       "      <td>18</td>\n",
       "      <td>Friday</td>\n",
       "      <td>2</td>\n",
       "      <td>The Old Mans Hat, Sydney, New South Wales, 209...</td>\n",
       "    </tr>\n",
       "    <tr>\n",
       "      <th>3391</th>\n",
       "      <td>2019-09-11 17:54:06</td>\n",
       "      <td>-33.6866</td>\n",
       "      <td>151.2237</td>\n",
       "      <td>5</td>\n",
       "      <td>355</td>\n",
       "      <td>small</td>\n",
       "      <td>488</td>\n",
       "      <td>0</td>\n",
       "      <td>17</td>\n",
       "      <td>Wednesday</td>\n",
       "      <td>2</td>\n",
       "      <td>Terrey Hills Public School, Myoora Road, Terre...</td>\n",
       "    </tr>\n",
       "    <tr>\n",
       "      <th>8392</th>\n",
       "      <td>2019-09-13 18:22:06</td>\n",
       "      <td>-33.6926</td>\n",
       "      <td>151.0979</td>\n",
       "      <td>2</td>\n",
       "      <td>7331</td>\n",
       "      <td>small</td>\n",
       "      <td>1462</td>\n",
       "      <td>1</td>\n",
       "      <td>18</td>\n",
       "      <td>Friday</td>\n",
       "      <td>2</td>\n",
       "      <td>257, Peats Ferry Road, Hookhams Corner, Hornsb...</td>\n",
       "    </tr>\n",
       "    <tr>\n",
       "      <th>8131</th>\n",
       "      <td>2019-09-13 11:34:06</td>\n",
       "      <td>-34.0175</td>\n",
       "      <td>151.2281</td>\n",
       "      <td>3</td>\n",
       "      <td>9732</td>\n",
       "      <td>small</td>\n",
       "      <td>-37</td>\n",
       "      <td>0</td>\n",
       "      <td>11</td>\n",
       "      <td>Friday</td>\n",
       "      <td>2</td>\n",
       "      <td>Kamay Botany Bay National Park, Gipps Avenue, ...</td>\n",
       "    </tr>\n",
       "    <tr>\n",
       "      <th>7560</th>\n",
       "      <td>2019-09-11 13:59:06</td>\n",
       "      <td>-33.8608</td>\n",
       "      <td>151.1868</td>\n",
       "      <td>6</td>\n",
       "      <td>2476</td>\n",
       "      <td>medium</td>\n",
       "      <td>1514</td>\n",
       "      <td>0</td>\n",
       "      <td>13</td>\n",
       "      <td>Wednesday</td>\n",
       "      <td>2</td>\n",
       "      <td>Private Vehicles - Short Term, Grafton Street,...</td>\n",
       "    </tr>\n",
       "  </tbody>\n",
       "</table>\n",
       "</div>"
      ],
      "text/plain": [
       "            time_of_post  latitude  longitude category  number_of_tradies  \\\n",
       "9044 2019-09-13 18:24:06  -33.8235   151.2823        6               2476   \n",
       "3391 2019-09-11 17:54:06  -33.6866   151.2237        5                355   \n",
       "8392 2019-09-13 18:22:06  -33.6926   151.0979        2               7331   \n",
       "8131 2019-09-13 11:34:06  -34.0175   151.2281        3               9732   \n",
       "7560 2019-09-11 13:59:06  -33.8608   151.1868        6               2476   \n",
       "\n",
       "     estimated_size  number_of_impressions  accepted  hour    weekday  area  \\\n",
       "9044          small                    137         1    18     Friday     2   \n",
       "3391          small                    488         0    17  Wednesday     2   \n",
       "8392          small                   1462         1    18     Friday     2   \n",
       "8131          small                    -37         0    11     Friday     2   \n",
       "7560         medium                   1514         0    13  Wednesday     2   \n",
       "\n",
       "                                                address  \n",
       "9044  The Old Mans Hat, Sydney, New South Wales, 209...  \n",
       "3391  Terrey Hills Public School, Myoora Road, Terre...  \n",
       "8392  257, Peats Ferry Road, Hookhams Corner, Hornsb...  \n",
       "8131  Kamay Botany Bay National Park, Gipps Avenue, ...  \n",
       "7560  Private Vehicles - Short Term, Grafton Street,...  "
      ]
     },
     "execution_count": 24,
     "metadata": {},
     "output_type": "execute_result"
    }
   ],
   "source": [
    "df_3 = df.loc[df.loc[:,\"area\"]==2,:].sample(10)\n",
    "df_3.loc[:,\"address\"] = df_3.apply(get_address, axis=1)\n",
    "df_3.head()"
   ]
  },
  {
   "cell_type": "code",
   "execution_count": 25,
   "metadata": {},
   "outputs": [
    {
     "data": {
      "text/plain": [
       "['The Old Mans Hat, Sydney, New South Wales, 2095, Australia',\n",
       " 'Terrey Hills Public School, Myoora Road, Terrey Hills, Sydney, Northern Beaches Council, Northern Beaches, New South Wales, 2084, Australia',\n",
       " '257, Peats Ferry Road, Hookhams Corner, Hornsby, Sydney, The Council of the Shire of Hornsby, New South Wales, 2077, Australia',\n",
       " 'Kamay Botany Bay National Park, Gipps Avenue, Little Bay, Sydney, Randwick City Council, Eastern Suburbs, New South Wales, 2036, Australia',\n",
       " 'Private Vehicles - Short Term, Grafton Street, Balmain, Sydney, Inner West Council, Inner West, New South Wales, 2041, Australia',\n",
       " 'Ourimbah Road, Mosman, Sydney, Mosman Municipal Council, Lower North Shore, New South Wales, 2088, Australia',\n",
       " 'Australia',\n",
       " '1, Jeanette Street, East Ryde, Sydney, Council of the City of Ryde, New South Wales, 2113, Australia',\n",
       " '14T/162H, Burwood Road, Concord, Sydney, City of Canada Bay Council, Inner West, New South Wales, 2137, Australia',\n",
       " 'Australia']"
      ]
     },
     "execution_count": 25,
     "metadata": {},
     "output_type": "execute_result"
    }
   ],
   "source": [
    "list(df_3.loc[:,\"address\"])"
   ]
  },
  {
   "cell_type": "code",
   "execution_count": 26,
   "metadata": {},
   "outputs": [],
   "source": [
    "df.loc[:,\"state\"] = df.loc[:,\"area\"].replace({0:\"Victoria\",\n",
    "                                              1: \"Western Australia\",\n",
    "                                              2:\"New South Wales\"})"
   ]
  },
  {
   "cell_type": "markdown",
   "metadata": {},
   "source": [
    "Now we can see that data came from three diffrent states:\n",
    "   \n",
    "  | Area | State | City |\n",
    "| --- | ----------- |----------- |\n",
    "| 0 | Victoria |City of Melbourne|\n",
    "| 1 | Western Australia |Shire Of Broome|\n",
    "| 2 | New South Wales |Sydney|"
   ]
  },
  {
   "cell_type": "code",
   "execution_count": 27,
   "metadata": {},
   "outputs": [
    {
     "data": {
      "image/png": "[encoded data removed]",
      "text/plain": [
       "<Figure size 432x288 with 1 Axes>"
      ]
     },
     "metadata": {
      "needs_background": "light"
     },
     "output_type": "display_data"
    }
   ],
   "source": [
    "sns.scatterplot(\n",
    "    data = df,\n",
    "    x=\"longitude\",\n",
    "    y=\"latitude\",\n",
    "    hue=\"state\",\n",
    "    palette=\"deep\")\n",
    "plt.grid(visible=True)\n",
    "plt.show();"
   ]
  },
  {
   "cell_type": "markdown",
   "metadata": {},
   "source": [
    "#### Now, Let's understand the `category` feature:"
   ]
  },
  {
   "cell_type": "code",
   "execution_count": 28,
   "metadata": {},
   "outputs": [
    {
     "data": {
      "image/png": "[encoded data removed]",
      "text/plain": [
       "<Figure size 432x288 with 1 Axes>"
      ]
     },
     "metadata": {
      "needs_background": "light"
     },
     "output_type": "display_data"
    }
   ],
   "source": [
    "#We'll plot the Bar Plot of the Category feature\n",
    "df.groupby(\"category\").count()[\"time_of_post\"].plot(kind=\"bar\",\n",
    "                                                title=\"Count of requests\",\n",
    "                                                ylabel=\"Count\",);"
   ]
  },
  {
   "cell_type": "markdown",
   "metadata": {},
   "source": [
    "It looks like Categories: 4 and 5 are the most requested services. While 1 and 9 are the least."
   ]
  },
  {
   "cell_type": "markdown",
   "metadata": {},
   "source": [
    "#### Now, Let's understand the `number_of_tradies` feature:"
   ]
  },
  {
   "cell_type": "code",
   "execution_count": 29,
   "metadata": {
    "scrolled": false
   },
   "outputs": [
    {
     "data": {
      "image/png": "[encoded data removed]",
      "text/plain": [
       "<Figure size 432x288 with 1 Axes>"
      ]
     },
     "metadata": {
      "needs_background": "light"
     },
     "output_type": "display_data"
    }
   ],
   "source": [
    "#We'll plot the histogram of the number_of_tradies\n",
    "sns.histplot(data=df,\n",
    "             x=\"number_of_tradies\",\n",
    "             bins=10)\n",
    "plt.axvline(x=df[\"number_of_tradies\"].mean(), color=\"r\", linestyle='--', label=\"Mean\")\n",
    "plt.axvline(x=df[\"number_of_tradies\"].median(), color=\"g\", linestyle=':', label=\"Median\")\n",
    "plt.legend()\n",
    "plt.title(\"Histogram of number_of_tradies\")\n",
    "plt.show();"
   ]
  },
  {
   "cell_type": "markdown",
   "metadata": {},
   "source": [
    "The histogram of `number_of_tradies` is right-skewed where the Mean value is larger than the Median."
   ]
  },
  {
   "cell_type": "markdown",
   "metadata": {},
   "source": [
    "#### Let's understand the `estimated_size` feature:"
   ]
  },
  {
   "cell_type": "code",
   "execution_count": 30,
   "metadata": {
    "scrolled": true
   },
   "outputs": [
    {
     "data": {
      "image/png": "[encoded data removed]",
      "text/plain": [
       "<Figure size 432x288 with 1 Axes>"
      ]
     },
     "metadata": {
      "needs_background": "light"
     },
     "output_type": "display_data"
    }
   ],
   "source": [
    "#We'll plot the Bar Plot of the estimated_size feature\n",
    "df.groupby(\"estimated_size\").count()[\"time_of_post\"].plot(kind=\"bar\",\n",
    "                                                title=\"Number of requests per the estimated_size\",\n",
    "                                                ylabel=\"Count\",);\n",
    "plt.xticks(rotation=0)\n",
    "plt.show();"
   ]
  },
  {
   "cell_type": "markdown",
   "metadata": {},
   "source": [
    "We can see that the count of the small jobs are slightly higher than the medium jobs."
   ]
  },
  {
   "cell_type": "markdown",
   "metadata": {},
   "source": [
    "#### Now, Let's understand the `number_of_impressions` feature:"
   ]
  },
  {
   "cell_type": "code",
   "execution_count": 31,
   "metadata": {
    "scrolled": false
   },
   "outputs": [
    {
     "data": {
      "image/png": "[encoded data removed]",
      "text/plain": [
       "<Figure size 432x288 with 1 Axes>"
      ]
     },
     "metadata": {
      "needs_background": "light"
     },
     "output_type": "display_data"
    }
   ],
   "source": [
    "#We'll plot the histogram of the number_of_impressions\n",
    "sns.histplot(data=df,\n",
    "             x=\"number_of_impressions\",\n",
    "             bins=30)\n",
    "plt.axvline(x=df[\"number_of_impressions\"].mean(), color=\"r\", linestyle='--', label=\"Mean\")\n",
    "plt.axvline(x=df[\"number_of_impressions\"].median(), color=\"g\", linestyle=':', label=\"Median\")\n",
    "plt.legend()\n",
    "plt.title(\"Histogram of number_of_impressions\")\n",
    "plt.show();"
   ]
  },
  {
   "cell_type": "markdown",
   "metadata": {},
   "source": [
    "The histogram of `number_of_impressions` is normally distributed where the Mean value is almost the same as the Median."
   ]
  },
  {
   "cell_type": "markdown",
   "metadata": {},
   "source": [
    "#### Fnally, Let's understand the `accepted` feature:"
   ]
  },
  {
   "cell_type": "code",
   "execution_count": 32,
   "metadata": {},
   "outputs": [
    {
     "data": {
      "text/plain": [
       "accepted\n",
       "0    7286\n",
       "1    2603\n",
       "Name: time_of_post, dtype: int64"
      ]
     },
     "execution_count": 32,
     "metadata": {},
     "output_type": "execute_result"
    }
   ],
   "source": [
    "df.groupby(\"accepted\").count()[\"time_of_post\"]"
   ]
  },
  {
   "cell_type": "code",
   "execution_count": 33,
   "metadata": {
    "scrolled": true
   },
   "outputs": [
    {
     "data": {
      "image/png": "[encoded data removed]",
      "text/plain": [
       "<Figure size 432x288 with 1 Axes>"
      ]
     },
     "metadata": {
      "needs_background": "light"
     },
     "output_type": "display_data"
    }
   ],
   "source": [
    "#We'll plot the Bar Plot of the accepted feature\n",
    "df.groupby(\"accepted\").count()[\"time_of_post\"].plot(kind=\"bar\",\n",
    "                                                title=\"Count of Accepted vs. Unaccepted Jobs\",\n",
    "                                                ylabel=\"Count\",)\n",
    "plt.xticks(rotation=0)\n",
    "plt.show();"
   ]
  },
  {
   "cell_type": "markdown",
   "metadata": {},
   "source": [
    "We can see that the count of the none-accepted jobs is a way higher than the accepted jobs this week. Non-accepted jobs are **2.8X** the accepted jobs."
   ]
  },
  {
   "cell_type": "markdown",
   "metadata": {},
   "source": [
    "## 3- Bivariate Data Analysis:\n",
    "> We'll invetigate the relation between the acceptance and each other feature.\n",
    "\n",
    "#### - `accepted ` and `hour` features:"
   ]
  },
  {
   "cell_type": "code",
   "execution_count": 34,
   "metadata": {},
   "outputs": [
    {
     "data": {
      "image/png": "[encoded data removed]",
      "text/plain": [
       "<Figure size 432x288 with 1 Axes>"
      ]
     },
     "metadata": {
      "needs_background": "light"
     },
     "output_type": "display_data"
    }
   ],
   "source": [
    "#We will calculate the acceptance rate over the hours of the day\n",
    "df.groupby(\"hour\").agg({\"accepted\":\"mean\"}).plot(kind=\"bar\",\n",
    "                                                 ylabel=\"acceptace rate\",\n",
    "                                                 title=\"Acceptance Rate per hour\");"
   ]
  },
  {
   "cell_type": "code",
   "execution_count": 35,
   "metadata": {},
   "outputs": [
    {
     "name": "stdout",
     "output_type": "stream",
     "text": [
      "0.10631777463460632 0.42264074524098827 3.9752595151048165\n"
     ]
    }
   ],
   "source": [
    "accepted_before_11 = df.loc[df.loc[:,\"hour\"]<11,\"accepted\"].mean()\n",
    "accepted_after_11 = df.loc[df.loc[:,\"hour\"]>11,\"accepted\"].mean()\n",
    "\n",
    "print(accepted_before_11, accepted_after_11, accepted_after_11/accepted_before_11)"
   ]
  },
  {
   "cell_type": "markdown",
   "metadata": {},
   "source": [
    "The acceptance rate after 11 AM is **3.975X** the rate before 11 AM."
   ]
  },
  {
   "cell_type": "markdown",
   "metadata": {},
   "source": [
    "#### - `accepted ` and `weekday` features:"
   ]
  },
  {
   "cell_type": "code",
   "execution_count": 36,
   "metadata": {},
   "outputs": [
    {
     "data": {
      "text/html": [
       "<div>\n",
       "<style scoped>\n",
       "    .dataframe tbody tr th:only-of-type {\n",
       "        vertical-align: middle;\n",
       "    }\n",
       "\n",
       "    .dataframe tbody tr th {\n",
       "        vertical-align: top;\n",
       "    }\n",
       "\n",
       "    .dataframe thead th {\n",
       "        text-align: right;\n",
       "    }\n",
       "</style>\n",
       "<table border=\"1\" class=\"dataframe\">\n",
       "  <thead>\n",
       "    <tr style=\"text-align: right;\">\n",
       "      <th></th>\n",
       "      <th>accepted</th>\n",
       "    </tr>\n",
       "    <tr>\n",
       "      <th>weekday</th>\n",
       "      <th></th>\n",
       "    </tr>\n",
       "  </thead>\n",
       "  <tbody>\n",
       "    <tr>\n",
       "      <th>Monday</th>\n",
       "      <td>0.266094</td>\n",
       "    </tr>\n",
       "    <tr>\n",
       "      <th>Tuesday</th>\n",
       "      <td>0.268710</td>\n",
       "    </tr>\n",
       "    <tr>\n",
       "      <th>Wednesday</th>\n",
       "      <td>0.254986</td>\n",
       "    </tr>\n",
       "    <tr>\n",
       "      <th>Thursday</th>\n",
       "      <td>0.274608</td>\n",
       "    </tr>\n",
       "    <tr>\n",
       "      <th>Friday</th>\n",
       "      <td>0.260960</td>\n",
       "    </tr>\n",
       "    <tr>\n",
       "      <th>Saturday</th>\n",
       "      <td>0.252310</td>\n",
       "    </tr>\n",
       "    <tr>\n",
       "      <th>Sunday</th>\n",
       "      <td>0.264951</td>\n",
       "    </tr>\n",
       "  </tbody>\n",
       "</table>\n",
       "</div>"
      ],
      "text/plain": [
       "           accepted\n",
       "weekday            \n",
       "Monday     0.266094\n",
       "Tuesday    0.268710\n",
       "Wednesday  0.254986\n",
       "Thursday   0.274608\n",
       "Friday     0.260960\n",
       "Saturday   0.252310\n",
       "Sunday     0.264951"
      ]
     },
     "execution_count": 36,
     "metadata": {},
     "output_type": "execute_result"
    }
   ],
   "source": [
    "df.groupby(\"weekday\").agg({\"accepted\":\"mean\"})"
   ]
  },
  {
   "cell_type": "code",
   "execution_count": 37,
   "metadata": {},
   "outputs": [
    {
     "data": {
      "image/png": "[encoded data removed]",
      "text/plain": [
       "<Figure size 432x288 with 1 Axes>"
      ]
     },
     "metadata": {
      "needs_background": "light"
     },
     "output_type": "display_data"
    }
   ],
   "source": [
    "#We will calculate the acceptance rate over the days of the week\n",
    "df.groupby(\"weekday\").agg({\"accepted\":\"mean\"}).plot(kind=\"bar\",\n",
    "                                                 ylabel=\"acceptace rate\",\n",
    "                                                 title=\"Acceptance Rate per weekday\");"
   ]
  },
  {
   "cell_type": "markdown",
   "metadata": {},
   "source": [
    "It seems that **Thursday** has the highest acceptance rate. But acceptance rate is almost uniform over the week.\n",
    "\n",
    "Let's see the whole picture of acceptance rate over hours and days:"
   ]
  },
  {
   "cell_type": "code",
   "execution_count": 38,
   "metadata": {},
   "outputs": [
    {
     "data": {
      "image/png": "[encoded data removed]",
      "text/plain": [
       "<Figure size 1296x648 with 2 Axes>"
      ]
     },
     "metadata": {
      "needs_background": "light"
     },
     "output_type": "display_data"
    }
   ],
   "source": [
    "# plot the Heat map of the Acceptance Rate over different days and hours\n",
    "pivot = df.pivot_table(values=\"accepted\", index=\"weekday\", columns=\"hour\",aggfunc='mean')\n",
    "plt.figure(figsize=(18,9))\n",
    "sns.heatmap(pivot, annot=True, fmt=\"0.1f\", cbar_kws={\"label\":\"Mean Acceptance Rate\"}, cmap=\"YlGnBu\")\n",
    "plt.title(\"Average Acceptance Rate over weekdays and hours\")\n",
    "bottom, top = plt.gca().get_ylim()\n",
    "plt.gca().set_ylim(bottom + 0.5, top - 0.5)\n",
    "plt.show();"
   ]
  },
  {
   "cell_type": "markdown",
   "metadata": {},
   "source": [
    "#### - `accepted ` and `state` features:"
   ]
  },
  {
   "cell_type": "code",
   "execution_count": 39,
   "metadata": {
    "scrolled": true
   },
   "outputs": [
    {
     "data": {
      "text/html": [
       "<div>\n",
       "<style scoped>\n",
       "    .dataframe tbody tr th:only-of-type {\n",
       "        vertical-align: middle;\n",
       "    }\n",
       "\n",
       "    .dataframe tbody tr th {\n",
       "        vertical-align: top;\n",
       "    }\n",
       "\n",
       "    .dataframe thead th {\n",
       "        text-align: right;\n",
       "    }\n",
       "</style>\n",
       "<table border=\"1\" class=\"dataframe\">\n",
       "  <thead>\n",
       "    <tr style=\"text-align: right;\">\n",
       "      <th></th>\n",
       "      <th>accepted</th>\n",
       "    </tr>\n",
       "    <tr>\n",
       "      <th>state</th>\n",
       "      <th></th>\n",
       "    </tr>\n",
       "  </thead>\n",
       "  <tbody>\n",
       "    <tr>\n",
       "      <th>New South Wales</th>\n",
       "      <td>0.246818</td>\n",
       "    </tr>\n",
       "    <tr>\n",
       "      <th>Victoria</th>\n",
       "      <td>0.270707</td>\n",
       "    </tr>\n",
       "    <tr>\n",
       "      <th>Western Australia</th>\n",
       "      <td>0.333853</td>\n",
       "    </tr>\n",
       "  </tbody>\n",
       "</table>\n",
       "</div>"
      ],
      "text/plain": [
       "                   accepted\n",
       "state                      \n",
       "New South Wales    0.246818\n",
       "Victoria           0.270707\n",
       "Western Australia  0.333853"
      ]
     },
     "execution_count": 39,
     "metadata": {},
     "output_type": "execute_result"
    }
   ],
   "source": [
    "df.groupby(\"state\").agg({\"accepted\":\"mean\"})"
   ]
  },
  {
   "cell_type": "code",
   "execution_count": 40,
   "metadata": {},
   "outputs": [
    {
     "data": {
      "image/png": "[encoded data removed]",
      "text/plain": [
       "<Figure size 432x288 with 1 Axes>"
      ]
     },
     "metadata": {
      "needs_background": "light"
     },
     "output_type": "display_data"
    }
   ],
   "source": [
    "#We will calculate the acceptance rate by the state\n",
    "df.groupby(\"state\").agg({\"accepted\":\"mean\"}).plot(kind=\"bar\",\n",
    "                                                 ylabel=\"acceptace rate\",\n",
    "                                                 title=\"Acceptance Rate per State\")\n",
    "plt.xticks(rotation=0)\n",
    "plt.show();"
   ]
  },
  {
   "cell_type": "markdown",
   "metadata": {},
   "source": [
    "Acceptance Rate is higher in Western Australia while New South Wales has the lowest."
   ]
  },
  {
   "cell_type": "markdown",
   "metadata": {},
   "source": [
    "#### - `accepted ` and `category` features:"
   ]
  },
  {
   "cell_type": "code",
   "execution_count": 41,
   "metadata": {
    "scrolled": true
   },
   "outputs": [
    {
     "data": {
      "image/png": "[encoded data removed]",
      "text/plain": [
       "<Figure size 432x288 with 1 Axes>"
      ]
     },
     "metadata": {
      "needs_background": "light"
     },
     "output_type": "display_data"
    }
   ],
   "source": [
    "#We will calculate the acceptance rate over the categories\n",
    "df.groupby(\"category\").agg({\"accepted\":\"mean\"}).plot(kind=\"bar\",\n",
    "                                                 ylabel=\"acceptace rate\",\n",
    "                                                 title=\"Acceptance Rate per Category\")\n",
    "plt.xticks(rotation=0)\n",
    "plt.show();"
   ]
  },
  {
   "cell_type": "markdown",
   "metadata": {},
   "source": [
    "Category 3 has the highest acceptance rate while Category 5 has the lowest acceptance rate."
   ]
  },
  {
   "cell_type": "markdown",
   "metadata": {},
   "source": [
    "#### - `accepted ` and `number_of_tradies` features:"
   ]
  },
  {
   "cell_type": "code",
   "execution_count": 42,
   "metadata": {
    "scrolled": true
   },
   "outputs": [
    {
     "data": {
      "image/png": "[encoded data removed]",
      "text/plain": [
       "<Figure size 432x288 with 1 Axes>"
      ]
     },
     "metadata": {
      "needs_background": "light"
     },
     "output_type": "display_data"
    }
   ],
   "source": [
    "#We will check the relationship between acceoted and number_of_tradies by using the KDE\n",
    "sns.kdeplot(data=df,\n",
    "            x=\"number_of_tradies\",\n",
    "            hue=\"accepted\")\n",
    "plt.show();"
   ]
  },
  {
   "cell_type": "markdown",
   "metadata": {},
   "source": [
    "We can see that probability of Acceptance increases with the increase of the number of tradies."
   ]
  },
  {
   "cell_type": "markdown",
   "metadata": {},
   "source": [
    "#### - `accepted ` and `estimated_size` features:"
   ]
  },
  {
   "cell_type": "code",
   "execution_count": 43,
   "metadata": {},
   "outputs": [
    {
     "data": {
      "image/png": "[encoded data removed]",
      "text/plain": [
       "<Figure size 432x288 with 1 Axes>"
      ]
     },
     "metadata": {
      "needs_background": "light"
     },
     "output_type": "display_data"
    }
   ],
   "source": [
    "#We will calculate the acceptance rate over the estimated_size\n",
    "df.groupby(\"estimated_size\").agg({\"accepted\":\"mean\"}).plot(kind=\"bar\",\n",
    "                                                 ylabel=\"acceptace rate\",\n",
    "                                                 title=\"Acceptance Rate per the Estimated Size\")\n",
    "plt.xticks(rotation=0)\n",
    "plt.show();"
   ]
  },
  {
   "cell_type": "code",
   "execution_count": 44,
   "metadata": {},
   "outputs": [],
   "source": [
    "accepted_small = df.loc[df.loc[:,\"estimated_size\"]==\"small\",\"accepted\"].mean()\n",
    "accepted_medium = df.loc[df.loc[:,\"estimated_size\"]==\"medium\",\"accepted\"].mean()"
   ]
  },
  {
   "cell_type": "code",
   "execution_count": 45,
   "metadata": {},
   "outputs": [
    {
     "data": {
      "text/plain": [
       "2.236976731874156"
      ]
     },
     "execution_count": 45,
     "metadata": {},
     "output_type": "execute_result"
    }
   ],
   "source": [
    "accepted_medium/accepted_small"
   ]
  },
  {
   "cell_type": "markdown",
   "metadata": {},
   "source": [
    "We can see that the Acceptance Rate is a way higher for the Medium jobs compared tp the Small ones. \n",
    "\n",
    "Medium Jobs has **2.24X** acceptance than Small Jobs."
   ]
  },
  {
   "cell_type": "markdown",
   "metadata": {},
   "source": [
    "#### - `accepted ` and `number_of_impressions` features:"
   ]
  },
  {
   "cell_type": "code",
   "execution_count": 46,
   "metadata": {
    "scrolled": true
   },
   "outputs": [
    {
     "data": {
      "image/png": "[encoded data removed]",
      "text/plain": [
       "<Figure size 432x288 with 1 Axes>"
      ]
     },
     "metadata": {
      "needs_background": "light"
     },
     "output_type": "display_data"
    }
   ],
   "source": [
    "#We will check the relationship between acceoted and number_of_impressions by using the KDE\n",
    "sns.kdeplot(data=df,\n",
    "            x=\"number_of_impressions\",\n",
    "            hue=\"accepted\")\n",
    "plt.show();"
   ]
  },
  {
   "cell_type": "markdown",
   "metadata": {},
   "source": [
    "There's no strong relationship between acceptance and number_of_impressions."
   ]
  },
  {
   "cell_type": "markdown",
   "metadata": {},
   "source": [
    "## 3- Predicting Acceptance:\n",
    "\n",
    "In the previous steps, we have seen some interesting relationships between `accepted` and other `features`. \n",
    "\n",
    "Only `number_of_impressions` has no strong relationship with the `accepted` feature.\n",
    "\n",
    "Now, we'll check the correlation first:"
   ]
  },
  {
   "cell_type": "code",
   "execution_count": 47,
   "metadata": {},
   "outputs": [
    {
     "data": {
      "image/png": "[encoded data removed]",
      "text/plain": [
       "<Figure size 1296x648 with 2 Axes>"
      ]
     },
     "metadata": {
      "needs_background": "light"
     },
     "output_type": "display_data"
    }
   ],
   "source": [
    "df.loc[:,\"Weekday_no\"] = df.loc[:,\"time_of_post\"].dt.weekday\n",
    "plt.figure(figsize=(18,9))\n",
    "sns.heatmap(df.corr(), annot=True, fmt=\"0.2f\", cbar_kws={\"label\":\"Correlation Coeffecient\"})\n",
    "plt.title(\"Features Correlation Heat Map\")\n",
    "bottom, top = plt.gca().get_ylim()\n",
    "plt.gca().set_ylim(bottom + 0.5, top - 0.5)\n",
    "plt.xticks(rotation=20)\n",
    "plt.show();"
   ]
  },
  {
   "cell_type": "markdown",
   "metadata": {},
   "source": [
    "- `hour` and `number_of_tradies` have the highest correlation with `accepted`.\n",
    "- `weekday` and `number_of_impressions` also has no strong correlation with `accepted` as we have seen above.\n",
    "- We'll remove the `longitude` and `latitude` while keeping the `area` for dimensionality reduction."
   ]
  },
  {
   "cell_type": "markdown",
   "metadata": {},
   "source": [
    "First, We'll do OneHot Encoding for becasue these data `category`,`estimated_size`,`weekday`, `state` becasue these features are not ordinal and their order may mislead the model.\n",
    "\n",
    "`hour` should be converted with OneHot Encoding as well but this will lead into too many features. Also, the `hour` here is consistent with the target. So, I'll keep it in the labeling encoding form."
   ]
  },
  {
   "cell_type": "code",
   "execution_count": 48,
   "metadata": {},
   "outputs": [],
   "source": [
    "X = df.loc[:,['category','number_of_tradies', 'estimated_size','hour', 'weekday', 'state',\"number_of_impressions\"]]\n",
    "X.loc[:,\"category\"]=X.loc[:,\"category\"].astype(str)\n",
    "X = pd.get_dummies(X)"
   ]
  },
  {
   "cell_type": "code",
   "execution_count": 49,
   "metadata": {},
   "outputs": [],
   "source": [
    "y = df.loc[:,\"accepted\"]"
   ]
  },
  {
   "cell_type": "markdown",
   "metadata": {},
   "source": [
    "Splitting the dataset into training and testing datasets:"
   ]
  },
  {
   "cell_type": "code",
   "execution_count": 50,
   "metadata": {},
   "outputs": [],
   "source": [
    "from sklearn.model_selection import train_test_split\n",
    "X_train, X_test, y_train, y_test = train_test_split(X, y, test_size=0.33, stratify=y, random_state=7)"
   ]
  },
  {
   "cell_type": "markdown",
   "metadata": {},
   "source": [
    "#### Logistic Regression:"
   ]
  },
  {
   "cell_type": "code",
   "execution_count": 51,
   "metadata": {},
   "outputs": [
    {
     "data": {
      "text/plain": [
       "LogisticRegression(max_iter=10000, random_state=7)"
      ]
     },
     "execution_count": 51,
     "metadata": {},
     "output_type": "execute_result"
    }
   ],
   "source": [
    "model = LogisticRegression(penalty=\"l2\", solver='lbfgs',max_iter=10000,random_state=7)\n",
    "model.fit(X_train, y_train)"
   ]
  },
  {
   "cell_type": "code",
   "execution_count": 52,
   "metadata": {},
   "outputs": [
    {
     "data": {
      "text/plain": [
       "0.777811320754717"
      ]
     },
     "execution_count": 52,
     "metadata": {},
     "output_type": "execute_result"
    }
   ],
   "source": [
    "cross_val_score(model, X_train, y_train, cv=5).mean()"
   ]
  },
  {
   "cell_type": "code",
   "execution_count": 53,
   "metadata": {},
   "outputs": [
    {
     "data": {
      "text/plain": [
       "0.7735906862745098"
      ]
     },
     "execution_count": 53,
     "metadata": {},
     "output_type": "execute_result"
    }
   ],
   "source": [
    "model.score(X_test, y_test)"
   ]
  },
  {
   "cell_type": "code",
   "execution_count": 54,
   "metadata": {},
   "outputs": [
    {
     "name": "stdout",
     "output_type": "stream",
     "text": [
      "              precision    recall  f1-score   support\n",
      "\n",
      "           0       0.80      0.92      0.86      2405\n",
      "           1       0.62      0.37      0.46       859\n",
      "\n",
      "    accuracy                           0.77      3264\n",
      "   macro avg       0.71      0.64      0.66      3264\n",
      "weighted avg       0.75      0.77      0.75      3264\n",
      "\n"
     ]
    }
   ],
   "source": [
    "pred = model.predict(X_test)\n",
    "print(classification_report(y_test, pred))"
   ]
  },
  {
   "cell_type": "markdown",
   "metadata": {},
   "source": [
    "### Support Vector Machine:"
   ]
  },
  {
   "cell_type": "code",
   "execution_count": 55,
   "metadata": {},
   "outputs": [
    {
     "data": {
      "text/plain": [
       "SVC(kernel='poly', max_iter=100000, random_state=7)"
      ]
     },
     "execution_count": 55,
     "metadata": {},
     "output_type": "execute_result"
    }
   ],
   "source": [
    "model = SVC(kernel='poly',\n",
    "            degree=3,\n",
    "            max_iter=100000,\n",
    "            random_state=7)\n",
    "model.fit(X_train, y_train)"
   ]
  },
  {
   "cell_type": "code",
   "execution_count": 56,
   "metadata": {},
   "outputs": [
    {
     "data": {
      "text/plain": [
       "0.736754716981132"
      ]
     },
     "execution_count": 56,
     "metadata": {},
     "output_type": "execute_result"
    }
   ],
   "source": [
    "cross_val_score(model, X_train, y_train, cv=5).mean()"
   ]
  },
  {
   "cell_type": "code",
   "execution_count": 57,
   "metadata": {},
   "outputs": [
    {
     "data": {
      "text/plain": [
       "0.7368259803921569"
      ]
     },
     "execution_count": 57,
     "metadata": {},
     "output_type": "execute_result"
    }
   ],
   "source": [
    "model.score(X_test, y_test)"
   ]
  },
  {
   "cell_type": "code",
   "execution_count": 58,
   "metadata": {},
   "outputs": [
    {
     "name": "stdout",
     "output_type": "stream",
     "text": [
      "              precision    recall  f1-score   support\n",
      "\n",
      "           0       0.74      1.00      0.85      2405\n",
      "           1       0.00      0.00      0.00       859\n",
      "\n",
      "    accuracy                           0.74      3264\n",
      "   macro avg       0.37      0.50      0.42      3264\n",
      "weighted avg       0.54      0.74      0.63      3264\n",
      "\n"
     ]
    }
   ],
   "source": [
    "pred = model.predict(X_test)\n",
    "print(classification_report(y_test, pred))"
   ]
  },
  {
   "cell_type": "markdown",
   "metadata": {},
   "source": [
    "### Naive Bayes:"
   ]
  },
  {
   "cell_type": "code",
   "execution_count": 59,
   "metadata": {},
   "outputs": [
    {
     "data": {
      "text/plain": [
       "GaussianNB()"
      ]
     },
     "execution_count": 59,
     "metadata": {},
     "output_type": "execute_result"
    }
   ],
   "source": [
    "model = GaussianNB()\n",
    "model.fit(X_train,y_train)"
   ]
  },
  {
   "cell_type": "code",
   "execution_count": 60,
   "metadata": {},
   "outputs": [
    {
     "data": {
      "text/plain": [
       "0.740679245283019"
      ]
     },
     "execution_count": 60,
     "metadata": {},
     "output_type": "execute_result"
    }
   ],
   "source": [
    "cross_val_score(model, X_train, y_train, cv=5).mean()"
   ]
  },
  {
   "cell_type": "code",
   "execution_count": 61,
   "metadata": {},
   "outputs": [
    {
     "data": {
      "text/plain": [
       "0.7411151960784313"
      ]
     },
     "execution_count": 61,
     "metadata": {},
     "output_type": "execute_result"
    }
   ],
   "source": [
    "model.score(X_test, y_test)"
   ]
  },
  {
   "cell_type": "code",
   "execution_count": 62,
   "metadata": {},
   "outputs": [
    {
     "name": "stdout",
     "output_type": "stream",
     "text": [
      "              precision    recall  f1-score   support\n",
      "\n",
      "           0       0.82      0.82      0.82      2405\n",
      "           1       0.51      0.51      0.51       859\n",
      "\n",
      "    accuracy                           0.74      3264\n",
      "   macro avg       0.67      0.67      0.67      3264\n",
      "weighted avg       0.74      0.74      0.74      3264\n",
      "\n"
     ]
    }
   ],
   "source": [
    "pred = model.predict(X_test)\n",
    "print(classification_report(y_test, pred))"
   ]
  },
  {
   "cell_type": "markdown",
   "metadata": {},
   "source": [
    "### Decision Tree Classifier:"
   ]
  },
  {
   "cell_type": "code",
   "execution_count": 63,
   "metadata": {},
   "outputs": [
    {
     "data": {
      "text/plain": [
       "DecisionTreeClassifier(max_depth=3, random_state=7)"
      ]
     },
     "execution_count": 63,
     "metadata": {},
     "output_type": "execute_result"
    }
   ],
   "source": [
    "model = DecisionTreeClassifier(max_depth=3,random_state=7)\n",
    "model.fit(X_train,y_train)"
   ]
  },
  {
   "cell_type": "code",
   "execution_count": 64,
   "metadata": {},
   "outputs": [
    {
     "data": {
      "text/plain": [
       "0.7855094339622641"
      ]
     },
     "execution_count": 64,
     "metadata": {},
     "output_type": "execute_result"
    }
   ],
   "source": [
    "cross_val_score(model, X_train, y_train, cv=5).mean()"
   ]
  },
  {
   "cell_type": "code",
   "execution_count": 65,
   "metadata": {},
   "outputs": [
    {
     "data": {
      "text/plain": [
       "0.7827818627450981"
      ]
     },
     "execution_count": 65,
     "metadata": {},
     "output_type": "execute_result"
    }
   ],
   "source": [
    "model.score(X_test, y_test)"
   ]
  },
  {
   "cell_type": "code",
   "execution_count": 66,
   "metadata": {},
   "outputs": [
    {
     "name": "stdout",
     "output_type": "stream",
     "text": [
      "              precision    recall  f1-score   support\n",
      "\n",
      "           0       0.79      0.96      0.87      2405\n",
      "           1       0.72      0.28      0.41       859\n",
      "\n",
      "    accuracy                           0.78      3264\n",
      "   macro avg       0.76      0.62      0.64      3264\n",
      "weighted avg       0.77      0.78      0.75      3264\n",
      "\n"
     ]
    }
   ],
   "source": [
    "pred = model.predict(X_test)\n",
    "print(classification_report(y_test, pred))"
   ]
  },
  {
   "cell_type": "markdown",
   "metadata": {},
   "source": [
    "The best modele is the **Decision Tree Classifier** with Max Depth of 3. It has 78.28% Accuracy on the test dataset."
   ]
  },
  {
   "cell_type": "markdown",
   "metadata": {},
   "source": [
    "# Part 2 - Programming:"
   ]
  },
  {
   "cell_type": "markdown",
   "metadata": {},
   "source": [
    "- The names and the number of messages sent by each user:\n",
    "\n",
    "`\n",
    "SELECT Name, Count(Messages.UserIDSender) AS \"Messages Sent\"\n",
    "from User\n",
    "LEFT JOIN Messages ON User.UserID=Messages.UserIDSender\n",
    "Group BY Name;\n",
    "`"
   ]
  },
  {
   "cell_type": "markdown",
   "metadata": {},
   "source": [
    "- The total number of messages sent stratified by weekday:\n",
    "\n",
    "`\n",
    "SELECT to_char(DateSent::timestamp, 'Day') AS \"Day\", \n",
    "\t   COUNT(DateSent) AS \"Number of Messages\"\n",
    "FROM Messages\n",
    "GROUP BY to_char(DateSent::timestamp, 'Day');\n",
    "`"
   ]
  },
  {
   "cell_type": "markdown",
   "metadata": {},
   "source": [
    "- The most recent message from each thread that has no response yet:\n",
    "\n",
    "`\n",
    "Select t4.ThreadID, t4.MessageContent\n",
    "FROM \n",
    "(SELECT t1.ThreadID, UserIDSender as \"Initial_sender\"\n",
    "FROM Messages \n",
    "Right Join\n",
    "        (SELECT ThreadID, MIN(DateSent::timestamp)\n",
    "         FROM Messages\n",
    "         GROUP BY ThreadID) t1\n",
    "         ON Messages.ThreadID = t1.ThreadID and Messages.DateSent::timestamp = t1.min) t3\n",
    "LEFT JOIN\n",
    "(SELECT t2.ThreadID, UserIDRecipient as \"Last_receiver\", MessageContent\n",
    "FROM Messages \n",
    "Right Join\n",
    "\t\t(SELECT ThreadID, MAX(DateSent::timestamp)\n",
    "         FROM Messages\n",
    "         GROUP BY ThreadID) t2\n",
    "         ON Messages.ThreadID = t2.ThreadID and Messages.DateSent::timestamp = t2.max) t4\n",
    "ON t3.ThreadID = t4.ThreadID\n",
    "WHERE Initial_sender != Last_receiver\n",
    "`"
   ]
  },
  {
   "cell_type": "markdown",
   "metadata": {},
   "source": [
    "- For the conversation with the most messages: all user data and message contents ordered chronologically so one can follow the whole conversation:\n",
    "\n",
    "\n",
    "`\n",
    "SELECT t1.Name \"Sender\", User.Name \"Receiver\", t1.MessageContent, t1.DateSent, t1.ThreadID\n",
    "FROM\n",
    "(SELECT*\n",
    "FROM Messages\n",
    "LEFT JOIN User\n",
    "ON User.UserID=Messages.UserIDSender) t1\n",
    "LEFT JOIN User\n",
    "ON User.UserID=t1.UserIDRecipient\n",
    "RIGHT JOIN (\n",
    "SELECT ThreadID, COUNT(*)\n",
    "FROM Messages\n",
    "GROUP BY ThreadID\n",
    "ORDER BY count DESC\n",
    "LIMIT 1) t2\n",
    "ON t1.ThreadID = t2.ThreadID\n",
    "ORDER BY DateSent::TIMESTAMP ASC\n",
    "`"
   ]
  },
  {
   "cell_type": "code",
   "execution_count": null,
   "metadata": {},
   "outputs": [],
   "source": []
  }
 ],
 "metadata": {
  "kernelspec": {
   "display_name": "Python 3 (ipykernel)",
   "language": "python",
   "name": "python3"
  },
  "language_info": {
   "codemirror_mode": {
    "name": "ipython",
    "version": 3
   },
   "file_extension": ".py",
   "mimetype": "text/x-python",
   "name": "python",
   "nbconvert_exporter": "python",
   "pygments_lexer": "ipython3",
   "version": "3.9.12"
  }
 },
 "nbformat": 4,
 "nbformat_minor": 2
}
