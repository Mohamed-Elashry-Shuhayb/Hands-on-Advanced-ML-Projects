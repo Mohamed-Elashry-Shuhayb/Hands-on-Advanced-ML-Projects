{
 "cells": [
  {
   "cell_type": "code",
   "execution_count": 1,
   "id": "44896480",
   "metadata": {},
   "outputs": [],
   "source": [
    "import numpy as np \n",
    "import pandas as pd\n",
    "pd.set_option('display.max_rows', 800)\n",
    "pd.set_option('display.max_columns', 500)\n",
    "\n",
    "import seaborn as sns\n",
    "import matplotlib.pyplot as plt\n",
    "%matplotlib inline\n",
    "\n",
    "# import all libraries and dependencies for machine learning\n",
    "from sklearn import preprocessing\n",
    "from sklearn.model_selection import train_test_split\n",
    "import statsmodels.api as sm\n",
    "from sklearn.feature_selection import RFE\n",
    "from sklearn.linear_model import LinearRegression\n",
    "from statsmodels.stats.outliers_influence import variance_inflation_factor\n",
    "from sklearn.metrics import mean_absolute_error, mean_squared_error,r2_score\n",
    "import random"
   ]
  },
  {
   "cell_type": "code",
   "execution_count": 2,
   "id": "08d604d0",
   "metadata": {},
   "outputs": [
    {
     "name": "stdout",
     "output_type": "stream",
     "text": [
      "          WellID      BVHH FormationAlias       NioGOR       CodGOR  \\\n",
      "0      500109742  1.105028       NIOBRARA  1687.414535          NaN   \n",
      "1      500109753  0.644480       NIOBRARA  2267.667384          NaN   \n",
      "2      500109754  0.620268       NIOBRARA  2368.236087          NaN   \n",
      "3      500109760  0.649670       NIOBRARA   333.876618          NaN   \n",
      "4      500109772  1.423475       NIOBRARA  3608.065949  3199.962930   \n",
      "...          ...       ...            ...          ...          ...   \n",
      "9201  4902129125       NaN         CODELL  1190.578936   949.853322   \n",
      "9202  4902129224       NaN         CODELL          NaN   397.429199   \n",
      "9203  4902129225       NaN         CODELL          NaN   336.475960   \n",
      "9204  4902129416       NaN         CODELL          NaN   519.208816   \n",
      "9205  4902129425       NaN         CODELL          NaN   472.746854   \n",
      "\n",
      "      LateralLength  ProppantPerFoot  FluidPerFoot  LeftDistance  \\\n",
      "0            8084.0      1256.308758   1234.370856           NaN   \n",
      "1            3912.0       742.842536    784.000000           NaN   \n",
      "2            4137.0       912.738700   1127.047136        1330.0   \n",
      "3            4161.0       914.683970    691.026676           NaN   \n",
      "4            4418.0       747.271842    928.239928           NaN   \n",
      "...             ...              ...           ...           ...   \n",
      "9201         8583.0      1393.493883   2462.864733        1325.0   \n",
      "9202         9882.0      2758.550901   1364.672738           NaN   \n",
      "9203         9581.0      2531.677278   1290.361340           NaN   \n",
      "9204         9768.0      1536.333026   1992.940418           NaN   \n",
      "9205         9947.0       544.153011    353.446868           NaN   \n",
      "\n",
      "     LeftNeighbourType  RightDistance RightNeighbourType     TVD  \\\n",
      "0          NoNeighbour            NaN        NoNeighbour  7501.0   \n",
      "1          NoNeighbour         1330.0        Codeveloped  7551.0   \n",
      "2          Codeveloped            NaN        NoNeighbour  7594.0   \n",
      "3          NoNeighbour            NaN        NoNeighbour  7391.0   \n",
      "4          NoNeighbour            NaN        NoNeighbour  7838.0   \n",
      "...                ...            ...                ...     ...   \n",
      "9201       Codeveloped            NaN        NoNeighbour  8613.0   \n",
      "9202       NoNeighbour            NaN        NoNeighbour  7631.0   \n",
      "9203       NoNeighbour            NaN        NoNeighbour  7592.0   \n",
      "9204       NoNeighbour            NaN        NoNeighbour  7783.0   \n",
      "9205       NoNeighbour            NaN        NoNeighbour  8029.0   \n",
      "\n",
      "      NormalizedOilEUR  NormalizedGasEUR  \n",
      "0            15.234785         37.674048  \n",
      "1             5.327198         11.627301  \n",
      "2             5.629925         14.544356  \n",
      "3             8.240087          7.012257  \n",
      "4            15.374830         51.169534  \n",
      "...                ...               ...  \n",
      "9201         18.513690         15.231737  \n",
      "9202         33.791844         12.357013  \n",
      "9203         27.725394         14.413422  \n",
      "9204         36.654894         35.377252  \n",
      "9205         21.549311         11.413492  \n",
      "\n",
      "[9206 rows x 15 columns]\n"
     ]
    }
   ],
   "source": [
    "df = pd.read_excel(r'DataScientistTask_Dataset.xlsx')\n",
    "print(df)"
   ]
  },
  {
   "cell_type": "code",
   "execution_count": 3,
   "id": "27a731aa",
   "metadata": {},
   "outputs": [
    {
     "name": "stdout",
     "output_type": "stream",
     "text": [
      "<class 'pandas.core.frame.DataFrame'>\n",
      "RangeIndex: 9206 entries, 0 to 9205\n",
      "Data columns (total 15 columns):\n",
      " #   Column              Non-Null Count  Dtype  \n",
      "---  ------              --------------  -----  \n",
      " 0   WellID              9206 non-null   int64  \n",
      " 1   BVHH                7565 non-null   float64\n",
      " 2   FormationAlias      9206 non-null   object \n",
      " 3   NioGOR              8709 non-null   float64\n",
      " 4   CodGOR              7538 non-null   float64\n",
      " 5   LateralLength       9206 non-null   float64\n",
      " 6   ProppantPerFoot     8974 non-null   float64\n",
      " 7   FluidPerFoot        8942 non-null   float64\n",
      " 8   LeftDistance        6758 non-null   float64\n",
      " 9   LeftNeighbourType   9206 non-null   object \n",
      " 10  RightDistance       6778 non-null   float64\n",
      " 11  RightNeighbourType  9206 non-null   object \n",
      " 12  TVD                 8893 non-null   float64\n",
      " 13  NormalizedOilEUR    9206 non-null   float64\n",
      " 14  NormalizedGasEUR    9206 non-null   float64\n",
      "dtypes: float64(11), int64(1), object(3)\n",
      "memory usage: 1.1+ MB\n"
     ]
    }
   ],
   "source": [
    "df.info()"
   ]
  },
  {
   "cell_type": "code",
   "execution_count": 4,
   "id": "d06cc4d9",
   "metadata": {},
   "outputs": [
    {
     "data": {
      "text/html": [
       "<div>\n",
       "<style scoped>\n",
       "    .dataframe tbody tr th:only-of-type {\n",
       "        vertical-align: middle;\n",
       "    }\n",
       "\n",
       "    .dataframe tbody tr th {\n",
       "        vertical-align: top;\n",
       "    }\n",
       "\n",
       "    .dataframe thead th {\n",
       "        text-align: right;\n",
       "    }\n",
       "</style>\n",
       "<table border=\"1\" class=\"dataframe\">\n",
       "  <thead>\n",
       "    <tr style=\"text-align: right;\">\n",
       "      <th></th>\n",
       "      <th>WellID</th>\n",
       "      <th>BVHH</th>\n",
       "      <th>NioGOR</th>\n",
       "      <th>CodGOR</th>\n",
       "      <th>LateralLength</th>\n",
       "      <th>ProppantPerFoot</th>\n",
       "      <th>FluidPerFoot</th>\n",
       "      <th>LeftDistance</th>\n",
       "      <th>RightDistance</th>\n",
       "      <th>TVD</th>\n",
       "      <th>NormalizedOilEUR</th>\n",
       "      <th>NormalizedGasEUR</th>\n",
       "    </tr>\n",
       "  </thead>\n",
       "  <tbody>\n",
       "    <tr>\n",
       "      <th>count</th>\n",
       "      <td>9.206000e+03</td>\n",
       "      <td>7565.000000</td>\n",
       "      <td>8709.000000</td>\n",
       "      <td>7538.000000</td>\n",
       "      <td>9206.000000</td>\n",
       "      <td>8974.000000</td>\n",
       "      <td>8942.000000</td>\n",
       "      <td>6758.000000</td>\n",
       "      <td>6778.000000</td>\n",
       "      <td>8893.000000</td>\n",
       "      <td>9206.000000</td>\n",
       "      <td>9206.000000</td>\n",
       "    </tr>\n",
       "    <tr>\n",
       "      <th>mean</th>\n",
       "      <td>7.183554e+08</td>\n",
       "      <td>1.031013</td>\n",
       "      <td>4699.704950</td>\n",
       "      <td>4219.441933</td>\n",
       "      <td>6970.061820</td>\n",
       "      <td>1013.557032</td>\n",
       "      <td>1035.336411</td>\n",
       "      <td>864.819473</td>\n",
       "      <td>877.969608</td>\n",
       "      <td>7013.938041</td>\n",
       "      <td>19.033831</td>\n",
       "      <td>105.802192</td>\n",
       "    </tr>\n",
       "    <tr>\n",
       "      <th>std</th>\n",
       "      <td>9.295257e+08</td>\n",
       "      <td>0.370794</td>\n",
       "      <td>12584.166286</td>\n",
       "      <td>3306.948828</td>\n",
       "      <td>2673.528748</td>\n",
       "      <td>529.759630</td>\n",
       "      <td>629.271011</td>\n",
       "      <td>925.304147</td>\n",
       "      <td>947.646937</td>\n",
       "      <td>616.775613</td>\n",
       "      <td>8.187220</td>\n",
       "      <td>66.225371</td>\n",
       "    </tr>\n",
       "    <tr>\n",
       "      <th>min</th>\n",
       "      <td>5.001097e+08</td>\n",
       "      <td>-0.125405</td>\n",
       "      <td>85.752059</td>\n",
       "      <td>336.475960</td>\n",
       "      <td>1749.000000</td>\n",
       "      <td>0.000000</td>\n",
       "      <td>0.001171</td>\n",
       "      <td>14.000000</td>\n",
       "      <td>14.000000</td>\n",
       "      <td>2610.000000</td>\n",
       "      <td>0.000000</td>\n",
       "      <td>0.000000</td>\n",
       "    </tr>\n",
       "    <tr>\n",
       "      <th>25%</th>\n",
       "      <td>5.123379e+08</td>\n",
       "      <td>0.750481</td>\n",
       "      <td>2189.721498</td>\n",
       "      <td>2314.007323</td>\n",
       "      <td>4349.250000</td>\n",
       "      <td>725.260473</td>\n",
       "      <td>703.318099</td>\n",
       "      <td>343.000000</td>\n",
       "      <td>344.000000</td>\n",
       "      <td>6680.000000</td>\n",
       "      <td>13.646120</td>\n",
       "      <td>51.336490</td>\n",
       "    </tr>\n",
       "    <tr>\n",
       "      <th>50%</th>\n",
       "      <td>5.123416e+08</td>\n",
       "      <td>1.020468</td>\n",
       "      <td>3448.129246</td>\n",
       "      <td>3406.380480</td>\n",
       "      <td>6668.500000</td>\n",
       "      <td>923.412724</td>\n",
       "      <td>862.066743</td>\n",
       "      <td>590.000000</td>\n",
       "      <td>591.000000</td>\n",
       "      <td>7061.000000</td>\n",
       "      <td>17.722519</td>\n",
       "      <td>97.304146</td>\n",
       "    </tr>\n",
       "    <tr>\n",
       "      <th>75%</th>\n",
       "      <td>5.123458e+08</td>\n",
       "      <td>1.310162</td>\n",
       "      <td>4900.703302</td>\n",
       "      <td>5001.128167</td>\n",
       "      <td>9596.000000</td>\n",
       "      <td>1153.233929</td>\n",
       "      <td>1207.024954</td>\n",
       "      <td>901.750000</td>\n",
       "      <td>903.000000</td>\n",
       "      <td>7347.000000</td>\n",
       "      <td>23.020425</td>\n",
       "      <td>151.120432</td>\n",
       "    </tr>\n",
       "    <tr>\n",
       "      <th>max</th>\n",
       "      <td>4.902129e+09</td>\n",
       "      <td>2.260032</td>\n",
       "      <td>357894.183679</td>\n",
       "      <td>26193.592720</td>\n",
       "      <td>16676.000000</td>\n",
       "      <td>10217.314931</td>\n",
       "      <td>20117.640692</td>\n",
       "      <td>5275.000000</td>\n",
       "      <td>5276.000000</td>\n",
       "      <td>9793.000000</td>\n",
       "      <td>96.959244</td>\n",
       "      <td>465.849396</td>\n",
       "    </tr>\n",
       "  </tbody>\n",
       "</table>\n",
       "</div>"
      ],
      "text/plain": [
       "             WellID         BVHH         NioGOR        CodGOR  LateralLength  \\\n",
       "count  9.206000e+03  7565.000000    8709.000000   7538.000000    9206.000000   \n",
       "mean   7.183554e+08     1.031013    4699.704950   4219.441933    6970.061820   \n",
       "std    9.295257e+08     0.370794   12584.166286   3306.948828    2673.528748   \n",
       "min    5.001097e+08    -0.125405      85.752059    336.475960    1749.000000   \n",
       "25%    5.123379e+08     0.750481    2189.721498   2314.007323    4349.250000   \n",
       "50%    5.123416e+08     1.020468    3448.129246   3406.380480    6668.500000   \n",
       "75%    5.123458e+08     1.310162    4900.703302   5001.128167    9596.000000   \n",
       "max    4.902129e+09     2.260032  357894.183679  26193.592720   16676.000000   \n",
       "\n",
       "       ProppantPerFoot  FluidPerFoot  LeftDistance  RightDistance  \\\n",
       "count      8974.000000   8942.000000   6758.000000    6778.000000   \n",
       "mean       1013.557032   1035.336411    864.819473     877.969608   \n",
       "std         529.759630    629.271011    925.304147     947.646937   \n",
       "min           0.000000      0.001171     14.000000      14.000000   \n",
       "25%         725.260473    703.318099    343.000000     344.000000   \n",
       "50%         923.412724    862.066743    590.000000     591.000000   \n",
       "75%        1153.233929   1207.024954    901.750000     903.000000   \n",
       "max       10217.314931  20117.640692   5275.000000    5276.000000   \n",
       "\n",
       "               TVD  NormalizedOilEUR  NormalizedGasEUR  \n",
       "count  8893.000000       9206.000000       9206.000000  \n",
       "mean   7013.938041         19.033831        105.802192  \n",
       "std     616.775613          8.187220         66.225371  \n",
       "min    2610.000000          0.000000          0.000000  \n",
       "25%    6680.000000         13.646120         51.336490  \n",
       "50%    7061.000000         17.722519         97.304146  \n",
       "75%    7347.000000         23.020425        151.120432  \n",
       "max    9793.000000         96.959244        465.849396  "
      ]
     },
     "execution_count": 4,
     "metadata": {},
     "output_type": "execute_result"
    }
   ],
   "source": [
    "df.describe()  "
   ]
  },
  {
   "cell_type": "code",
   "execution_count": 5,
   "id": "b6db23ba",
   "metadata": {},
   "outputs": [
    {
     "data": {
      "text/html": [
       "<div>\n",
       "<style scoped>\n",
       "    .dataframe tbody tr th:only-of-type {\n",
       "        vertical-align: middle;\n",
       "    }\n",
       "\n",
       "    .dataframe tbody tr th {\n",
       "        vertical-align: top;\n",
       "    }\n",
       "\n",
       "    .dataframe thead th {\n",
       "        text-align: right;\n",
       "    }\n",
       "</style>\n",
       "<table border=\"1\" class=\"dataframe\">\n",
       "  <thead>\n",
       "    <tr style=\"text-align: right;\">\n",
       "      <th></th>\n",
       "      <th>WellID</th>\n",
       "      <th>BVHH</th>\n",
       "      <th>FormationAlias</th>\n",
       "      <th>NioGOR</th>\n",
       "      <th>CodGOR</th>\n",
       "      <th>LateralLength</th>\n",
       "      <th>ProppantPerFoot</th>\n",
       "      <th>FluidPerFoot</th>\n",
       "      <th>LeftDistance</th>\n",
       "      <th>LeftNeighbourType</th>\n",
       "      <th>RightDistance</th>\n",
       "      <th>RightNeighbourType</th>\n",
       "      <th>TVD</th>\n",
       "      <th>NormalizedOilEUR</th>\n",
       "      <th>NormalizedGasEUR</th>\n",
       "    </tr>\n",
       "  </thead>\n",
       "  <tbody>\n",
       "    <tr>\n",
       "      <th>0</th>\n",
       "      <td>500109742</td>\n",
       "      <td>1.105028</td>\n",
       "      <td>NIOBRARA</td>\n",
       "      <td>1687.414535</td>\n",
       "      <td>NaN</td>\n",
       "      <td>8084.0</td>\n",
       "      <td>1256.308758</td>\n",
       "      <td>1234.370856</td>\n",
       "      <td>NaN</td>\n",
       "      <td>NoNeighbour</td>\n",
       "      <td>NaN</td>\n",
       "      <td>NoNeighbour</td>\n",
       "      <td>7501.0</td>\n",
       "      <td>15.234785</td>\n",
       "      <td>37.674048</td>\n",
       "    </tr>\n",
       "    <tr>\n",
       "      <th>1</th>\n",
       "      <td>500109753</td>\n",
       "      <td>0.644480</td>\n",
       "      <td>NIOBRARA</td>\n",
       "      <td>2267.667384</td>\n",
       "      <td>NaN</td>\n",
       "      <td>3912.0</td>\n",
       "      <td>742.842536</td>\n",
       "      <td>784.000000</td>\n",
       "      <td>NaN</td>\n",
       "      <td>NoNeighbour</td>\n",
       "      <td>1330.0</td>\n",
       "      <td>Codeveloped</td>\n",
       "      <td>7551.0</td>\n",
       "      <td>5.327198</td>\n",
       "      <td>11.627301</td>\n",
       "    </tr>\n",
       "    <tr>\n",
       "      <th>2</th>\n",
       "      <td>500109754</td>\n",
       "      <td>0.620268</td>\n",
       "      <td>NIOBRARA</td>\n",
       "      <td>2368.236087</td>\n",
       "      <td>NaN</td>\n",
       "      <td>4137.0</td>\n",
       "      <td>912.738700</td>\n",
       "      <td>1127.047136</td>\n",
       "      <td>1330.0</td>\n",
       "      <td>Codeveloped</td>\n",
       "      <td>NaN</td>\n",
       "      <td>NoNeighbour</td>\n",
       "      <td>7594.0</td>\n",
       "      <td>5.629925</td>\n",
       "      <td>14.544356</td>\n",
       "    </tr>\n",
       "    <tr>\n",
       "      <th>3</th>\n",
       "      <td>500109760</td>\n",
       "      <td>0.649670</td>\n",
       "      <td>NIOBRARA</td>\n",
       "      <td>333.876618</td>\n",
       "      <td>NaN</td>\n",
       "      <td>4161.0</td>\n",
       "      <td>914.683970</td>\n",
       "      <td>691.026676</td>\n",
       "      <td>NaN</td>\n",
       "      <td>NoNeighbour</td>\n",
       "      <td>NaN</td>\n",
       "      <td>NoNeighbour</td>\n",
       "      <td>7391.0</td>\n",
       "      <td>8.240087</td>\n",
       "      <td>7.012257</td>\n",
       "    </tr>\n",
       "    <tr>\n",
       "      <th>4</th>\n",
       "      <td>500109772</td>\n",
       "      <td>1.423475</td>\n",
       "      <td>NIOBRARA</td>\n",
       "      <td>3608.065949</td>\n",
       "      <td>3199.96293</td>\n",
       "      <td>4418.0</td>\n",
       "      <td>747.271842</td>\n",
       "      <td>928.239928</td>\n",
       "      <td>NaN</td>\n",
       "      <td>NoNeighbour</td>\n",
       "      <td>NaN</td>\n",
       "      <td>NoNeighbour</td>\n",
       "      <td>7838.0</td>\n",
       "      <td>15.374830</td>\n",
       "      <td>51.169534</td>\n",
       "    </tr>\n",
       "  </tbody>\n",
       "</table>\n",
       "</div>"
      ],
      "text/plain": [
       "      WellID      BVHH FormationAlias       NioGOR      CodGOR  LateralLength  \\\n",
       "0  500109742  1.105028       NIOBRARA  1687.414535         NaN         8084.0   \n",
       "1  500109753  0.644480       NIOBRARA  2267.667384         NaN         3912.0   \n",
       "2  500109754  0.620268       NIOBRARA  2368.236087         NaN         4137.0   \n",
       "3  500109760  0.649670       NIOBRARA   333.876618         NaN         4161.0   \n",
       "4  500109772  1.423475       NIOBRARA  3608.065949  3199.96293         4418.0   \n",
       "\n",
       "   ProppantPerFoot  FluidPerFoot  LeftDistance LeftNeighbourType  \\\n",
       "0      1256.308758   1234.370856           NaN       NoNeighbour   \n",
       "1       742.842536    784.000000           NaN       NoNeighbour   \n",
       "2       912.738700   1127.047136        1330.0       Codeveloped   \n",
       "3       914.683970    691.026676           NaN       NoNeighbour   \n",
       "4       747.271842    928.239928           NaN       NoNeighbour   \n",
       "\n",
       "   RightDistance RightNeighbourType     TVD  NormalizedOilEUR  \\\n",
       "0            NaN        NoNeighbour  7501.0         15.234785   \n",
       "1         1330.0        Codeveloped  7551.0          5.327198   \n",
       "2            NaN        NoNeighbour  7594.0          5.629925   \n",
       "3            NaN        NoNeighbour  7391.0          8.240087   \n",
       "4            NaN        NoNeighbour  7838.0         15.374830   \n",
       "\n",
       "   NormalizedGasEUR  \n",
       "0         37.674048  \n",
       "1         11.627301  \n",
       "2         14.544356  \n",
       "3          7.012257  \n",
       "4         51.169534  "
      ]
     },
     "execution_count": 5,
     "metadata": {},
     "output_type": "execute_result"
    }
   ],
   "source": [
    "df.head()"
   ]
  },
  {
   "cell_type": "code",
   "execution_count": 6,
   "id": "a27cf2de",
   "metadata": {},
   "outputs": [
    {
     "name": "stdout",
     "output_type": "stream",
     "text": [
      "Numerical columns: \n",
      " Index(['WellID', 'BVHH', 'NioGOR', 'CodGOR', 'LateralLength',\n",
      "       'ProppantPerFoot', 'FluidPerFoot', 'LeftDistance', 'RightDistance',\n",
      "       'TVD', 'NormalizedOilEUR', 'NormalizedGasEUR'],\n",
      "      dtype='object')\n",
      "Categorical columns: \n",
      " Index(['FormationAlias', 'LeftNeighbourType', 'RightNeighbourType'], dtype='object')\n"
     ]
    }
   ],
   "source": [
    "num_col = df.select_dtypes(include=np.number).columns\n",
    "print(\"Numerical columns: \\n\",num_col)\n",
    "\n",
    "cat_col = df.select_dtypes(exclude=np.number).columns\n",
    "print(\"Categorical columns: \\n\",cat_col)\n",
    "# checking if the column name has any extra spaces "
   ]
  },
  {
   "cell_type": "code",
   "execution_count": 14,
   "id": "41231890",
   "metadata": {},
   "outputs": [
    {
     "name": "stdout",
     "output_type": "stream",
     "text": [
      "WellID                   0\n",
      "BVHH                  1641\n",
      "FormationAlias           0\n",
      "NioGOR                 497\n",
      "CodGOR                1668\n",
      "LateralLength            0\n",
      "ProppantPerFoot        232\n",
      "FluidPerFoot           264\n",
      "LeftDistance          2448\n",
      "LeftNeighbourType        0\n",
      "RightDistance         2428\n",
      "RightNeighbourType       0\n",
      "TVD                    313\n",
      "NormalizedOilEUR         0\n",
      "NormalizedGasEUR         0\n",
      "dtype: int64\n",
      "(9206, 15)\n"
     ]
    }
   ],
   "source": [
    "print(df.isna().sum())\n",
    "print(df.shape)"
   ]
  },
  {
   "cell_type": "code",
   "execution_count": 15,
   "id": "583f3924",
   "metadata": {},
   "outputs": [
    {
     "name": "stdout",
     "output_type": "stream",
     "text": [
      "(4266, 15)\n"
     ]
    }
   ],
   "source": [
    "# We have enough points, so we can drop the null values from this dataset.\n",
    "df.dropna(inplace=True)\n",
    "df.reset_index(drop=True, inplace=True)\n",
    "print(df.shape) # After removing null values"
   ]
  },
  {
   "cell_type": "code",
   "execution_count": 16,
   "id": "952997b7",
   "metadata": {},
   "outputs": [],
   "source": [
    "# Train test split\n",
    "X=df.drop(columns=['WellID','FormationAlias','LeftNeighbourType','RightNeighbourType','NormalizedOilEUR','NormalizedGasEUR'])\n",
    "yo=df[['NormalizedOilEUR']]\n",
    "yg=df[['NormalizedGasEUR']]"
   ]
  },
  {
   "cell_type": "code",
   "execution_count": 20,
   "id": "63717607",
   "metadata": {},
   "outputs": [],
   "source": [
    "# pearson's correlation feature selection for numeric input and numeric output\n",
    "from sklearn.datasets import make_regression\n",
    "from sklearn.feature_selection import SelectKBest\n",
    "from sklearn.feature_selection import f_regression\n",
    "# # generate dataset\n",
    "# X, y = make_regression(n_samples=100, n_features=100, n_informative=10)\n",
    "# define feature selection\n",
    "fs = SelectKBest(score_func=f_regression,k='all')"
   ]
  },
  {
   "cell_type": "code",
   "execution_count": 21,
   "id": "31db59e2",
   "metadata": {},
   "outputs": [
    {
     "name": "stdout",
     "output_type": "stream",
     "text": [
      "(4266, 9)\n"
     ]
    },
    {
     "name": "stderr",
     "output_type": "stream",
     "text": [
      "C:\\Users\\Decimal\\anaconda3\\lib\\site-packages\\sklearn\\utils\\validation.py:993: DataConversionWarning: A column-vector y was passed when a 1d array was expected. Please change the shape of y to (n_samples, ), for example using ravel().\n",
      "  y = column_or_1d(y, warn=True)\n"
     ]
    }
   ],
   "source": [
    "# apply feature selection\n",
    "X_selected = fs.fit_transform(X, yo )\n",
    "print(X_selected.shape)"
   ]
  },
  {
   "cell_type": "code",
   "execution_count": 22,
   "id": "60cb9531",
   "metadata": {},
   "outputs": [
    {
     "data": {
      "text/plain": [
       "array([[1.39283822e+00, 3.76982208e+03, 3.17178799e+03, ...,\n",
       "        6.01000000e+02, 5.69000000e+02, 7.94900000e+03],\n",
       "       [1.45668824e+00, 1.89944049e+03, 1.42359726e+03, ...,\n",
       "        7.39000000e+02, 2.16000000e+02, 7.58800000e+03],\n",
       "       [7.43616667e-01, 2.01592193e+03, 1.93485135e+03, ...,\n",
       "        7.61000000e+02, 1.83800000e+03, 7.96400000e+03],\n",
       "       ...,\n",
       "       [1.01080313e+00, 6.66421955e+02, 8.37587977e+02, ...,\n",
       "        1.92200000e+03, 1.04900000e+03, 8.72400000e+03],\n",
       "       [1.19550156e+00, 9.29628018e+02, 9.14245976e+02, ...,\n",
       "        1.30300000e+03, 1.23200000e+03, 8.48000000e+03],\n",
       "       [1.20229844e+00, 8.89401624e+02, 6.11174397e+02, ...,\n",
       "        3.17900000e+03, 8.73000000e+02, 8.79500000e+03]])"
      ]
     },
     "execution_count": 22,
     "metadata": {},
     "output_type": "execute_result"
    }
   ],
   "source": [
    "X_selected"
   ]
  },
  {
   "cell_type": "code",
   "execution_count": null,
   "id": "1fbb6f7a",
   "metadata": {},
   "outputs": [],
   "source": [
    "# Replace using mean \n",
    "for i in df.columns.drop('WellID'):\n",
    "    df[i].fillna(df[i].mean(), inplace = True)"
   ]
  },
  {
   "cell_type": "code",
   "execution_count": null,
   "id": "ac0e1210",
   "metadata": {},
   "outputs": [],
   "source": [
    "print(df.isna().sum())\n",
    "print(df.shape)"
   ]
  },
  {
   "cell_type": "code",
   "execution_count": 8,
   "id": "ea28f55e",
   "metadata": {},
   "outputs": [
    {
     "name": "stderr",
     "output_type": "stream",
     "text": [
      "C:\\Users\\decim\\anaconda3\\lib\\site-packages\\seaborn\\_decorators.py:36: FutureWarning: Pass the following variable as a keyword arg: x. From version 0.12, the only valid positional argument will be `data`, and passing other arguments without an explicit keyword will result in an error or misinterpretation.\n",
      "  warnings.warn(\n"
     ]
    },
    {
     "data": {
      "image/png": "[encoded data removed]",
      "text/plain": [
       "<Figure size 640x640 with 1 Axes>"
      ]
     },
     "metadata": {
      "needs_background": "light"
     },
     "output_type": "display_data"
    }
   ],
   "source": [
    "# Let's check the distribution of y variable (Life Expectancy)\n",
    "plt.figure(figsize=(8,8), dpi= 80)\n",
    "sns.boxplot(df['NormalizedOilEUR'])\n",
    "plt.title('Normalized Oil EUR Box Plot')\n",
    "plt.show()"
   ]
  },
  {
   "cell_type": "code",
   "execution_count": 9,
   "id": "db42b5c4",
   "metadata": {},
   "outputs": [
    {
     "name": "stderr",
     "output_type": "stream",
     "text": [
      "C:\\Users\\decim\\anaconda3\\lib\\site-packages\\seaborn\\_decorators.py:36: FutureWarning: Pass the following variable as a keyword arg: x. From version 0.12, the only valid positional argument will be `data`, and passing other arguments without an explicit keyword will result in an error or misinterpretation.\n",
      "  warnings.warn(\n"
     ]
    },
    {
     "data": {
      "image/png": "[encoded data removed]",
      "text/plain": [
       "<Figure size 640x640 with 1 Axes>"
      ]
     },
     "metadata": {
      "needs_background": "light"
     },
     "output_type": "display_data"
    }
   ],
   "source": [
    "# Let's check the distribution of y variable (Life Expectancy)\n",
    "plt.figure(figsize=(8,8), dpi= 80)\n",
    "sns.boxplot(df['NormalizedGasEUR'])\n",
    "plt.title('Normalized Gas EUR Box Plot')\n",
    "plt.show()"
   ]
  },
  {
   "cell_type": "code",
   "execution_count": null,
   "id": "641aa3d7",
   "metadata": {},
   "outputs": [],
   "source": []
  },
  {
   "cell_type": "code",
   "execution_count": null,
   "id": "fe50d9e2",
   "metadata": {},
   "outputs": [],
   "source": [
    "\n",
    "\n",
    "df.describe().NioGOR\n",
    "sns.boxplot(df.NioGOR)\n",
    "sns.distplot(df.NioGOR)\n",
    "# without outliers\n",
    "outlier_clean(\"NioGOR\")\n"
   ]
  }
 ],
 "metadata": {
  "kernelspec": {
   "display_name": "Python 3 (ipykernel)",
   "language": "python",
   "name": "python3"
  },
  "language_info": {
   "codemirror_mode": {
    "name": "ipython",
    "version": 3
   },
   "file_extension": ".py",
   "mimetype": "text/x-python",
   "name": "python",
   "nbconvert_exporter": "python",
   "pygments_lexer": "ipython3",
   "version": "3.9.13"
  }
 },
 "nbformat": 4,
 "nbformat_minor": 5
}
