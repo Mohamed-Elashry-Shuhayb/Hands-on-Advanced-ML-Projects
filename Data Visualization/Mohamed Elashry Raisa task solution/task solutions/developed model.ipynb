{
 "cells": [
  {
   "cell_type": "markdown",
   "metadata": {},
   "source": [
    "## 1. Import Libraries"
   ]
  },
  {
   "cell_type": "code",
   "execution_count": 1,
   "metadata": {
    "_cell_guid": "b1076dfc-b9ad-4769-8c92-a6c4dae69d19",
    "_uuid": "8f2839f25d086af736a60e9eeb907d3b93b6e0e5"
   },
   "outputs": [],
   "source": [
    "import numpy as np \n",
    "import pandas as pd\n",
    "pd.set_option('display.max_rows', 800)\n",
    "pd.set_option('display.max_columns', 500)\n",
    "\n",
    "import seaborn as sns\n",
    "import matplotlib.pyplot as plt\n",
    "%matplotlib inline\n",
    "\n",
    "# import all libraries and dependencies for machine learning\n",
    "from sklearn import preprocessing\n",
    "from sklearn.model_selection import train_test_split\n",
    "import statsmodels.api as sm\n",
    "from sklearn.feature_selection import RFE\n",
    "from sklearn.linear_model import LinearRegression\n",
    "from statsmodels.stats.outliers_influence import variance_inflation_factor\n",
    "from sklearn.metrics import mean_absolute_error, mean_squared_error,r2_score\n",
    "import random"
   ]
  },
  {
   "cell_type": "markdown",
   "metadata": {},
   "source": [
    "## 2. Load Data"
   ]
  },
  {
   "cell_type": "code",
   "execution_count": 2,
   "metadata": {
    "_cell_guid": "79c7e3d0-c299-4dcb-8224-4455121ee9b0",
    "_uuid": "d629ff2d2480ee46fbb7e2d37f6b5fab8052498a"
   },
   "outputs": [],
   "source": [
    "df = pd.read_excel(r'DataScientistTask_Dataset.xlsx')"
   ]
  },
  {
   "cell_type": "markdown",
   "metadata": {},
   "source": [
    "## 3. Understanding the data"
   ]
  },
  {
   "cell_type": "markdown",
   "metadata": {},
   "source": [
    "- Size and shape of data"
   ]
  },
  {
   "cell_type": "code",
   "execution_count": 3,
   "metadata": {},
   "outputs": [
    {
     "name": "stdout",
     "output_type": "stream",
     "text": [
      "We have 9206 rows and 15 columns in our dataset.\n"
     ]
    }
   ],
   "source": [
    "# Size of the data\n",
    "rows, cols = df.shape\n",
    "print(f\"We have {rows} rows and {cols} columns in our dataset.\")"
   ]
  },
  {
   "cell_type": "markdown",
   "metadata": {},
   "source": [
    "- describtion of the data "
   ]
  },
  {
   "cell_type": "code",
   "execution_count": 4,
   "metadata": {},
   "outputs": [
    {
     "data": {
      "text/html": [
       "<div>\n",
       "<style scoped>\n",
       "    .dataframe tbody tr th:only-of-type {\n",
       "        vertical-align: middle;\n",
       "    }\n",
       "\n",
       "    .dataframe tbody tr th {\n",
       "        vertical-align: top;\n",
       "    }\n",
       "\n",
       "    .dataframe thead th {\n",
       "        text-align: right;\n",
       "    }\n",
       "</style>\n",
       "<table border=\"1\" class=\"dataframe\">\n",
       "  <thead>\n",
       "    <tr style=\"text-align: right;\">\n",
       "      <th></th>\n",
       "      <th>WellID</th>\n",
       "      <th>BVHH</th>\n",
       "      <th>NioGOR</th>\n",
       "      <th>CodGOR</th>\n",
       "      <th>LateralLength</th>\n",
       "      <th>ProppantPerFoot</th>\n",
       "      <th>FluidPerFoot</th>\n",
       "      <th>LeftDistance</th>\n",
       "      <th>RightDistance</th>\n",
       "      <th>TVD</th>\n",
       "      <th>NormalizedOilEUR</th>\n",
       "      <th>NormalizedGasEUR</th>\n",
       "    </tr>\n",
       "  </thead>\n",
       "  <tbody>\n",
       "    <tr>\n",
       "      <th>count</th>\n",
       "      <td>9.206000e+03</td>\n",
       "      <td>7565.000000</td>\n",
       "      <td>8709.000000</td>\n",
       "      <td>7538.000000</td>\n",
       "      <td>9206.000000</td>\n",
       "      <td>8974.000000</td>\n",
       "      <td>8942.000000</td>\n",
       "      <td>6758.000000</td>\n",
       "      <td>6778.000000</td>\n",
       "      <td>8893.000000</td>\n",
       "      <td>9206.000000</td>\n",
       "      <td>9206.000000</td>\n",
       "    </tr>\n",
       "    <tr>\n",
       "      <th>mean</th>\n",
       "      <td>7.183554e+08</td>\n",
       "      <td>1.031013</td>\n",
       "      <td>4699.704950</td>\n",
       "      <td>4219.441933</td>\n",
       "      <td>6970.061820</td>\n",
       "      <td>1013.557032</td>\n",
       "      <td>1035.336411</td>\n",
       "      <td>864.819473</td>\n",
       "      <td>877.969608</td>\n",
       "      <td>7013.938041</td>\n",
       "      <td>19.033831</td>\n",
       "      <td>105.802192</td>\n",
       "    </tr>\n",
       "    <tr>\n",
       "      <th>std</th>\n",
       "      <td>9.295257e+08</td>\n",
       "      <td>0.370794</td>\n",
       "      <td>12584.166286</td>\n",
       "      <td>3306.948828</td>\n",
       "      <td>2673.528748</td>\n",
       "      <td>529.759630</td>\n",
       "      <td>629.271011</td>\n",
       "      <td>925.304147</td>\n",
       "      <td>947.646937</td>\n",
       "      <td>616.775613</td>\n",
       "      <td>8.187220</td>\n",
       "      <td>66.225371</td>\n",
       "    </tr>\n",
       "    <tr>\n",
       "      <th>min</th>\n",
       "      <td>5.001097e+08</td>\n",
       "      <td>-0.125405</td>\n",
       "      <td>85.752059</td>\n",
       "      <td>336.475960</td>\n",
       "      <td>1749.000000</td>\n",
       "      <td>0.000000</td>\n",
       "      <td>0.001171</td>\n",
       "      <td>14.000000</td>\n",
       "      <td>14.000000</td>\n",
       "      <td>2610.000000</td>\n",
       "      <td>0.000000</td>\n",
       "      <td>0.000000</td>\n",
       "    </tr>\n",
       "    <tr>\n",
       "      <th>25%</th>\n",
       "      <td>5.123379e+08</td>\n",
       "      <td>0.750481</td>\n",
       "      <td>2189.721498</td>\n",
       "      <td>2314.007323</td>\n",
       "      <td>4349.250000</td>\n",
       "      <td>725.260473</td>\n",
       "      <td>703.318099</td>\n",
       "      <td>343.000000</td>\n",
       "      <td>344.000000</td>\n",
       "      <td>6680.000000</td>\n",
       "      <td>13.646120</td>\n",
       "      <td>51.336490</td>\n",
       "    </tr>\n",
       "    <tr>\n",
       "      <th>50%</th>\n",
       "      <td>5.123416e+08</td>\n",
       "      <td>1.020468</td>\n",
       "      <td>3448.129246</td>\n",
       "      <td>3406.380480</td>\n",
       "      <td>6668.500000</td>\n",
       "      <td>923.412724</td>\n",
       "      <td>862.066743</td>\n",
       "      <td>590.000000</td>\n",
       "      <td>591.000000</td>\n",
       "      <td>7061.000000</td>\n",
       "      <td>17.722519</td>\n",
       "      <td>97.304146</td>\n",
       "    </tr>\n",
       "    <tr>\n",
       "      <th>75%</th>\n",
       "      <td>5.123458e+08</td>\n",
       "      <td>1.310162</td>\n",
       "      <td>4900.703302</td>\n",
       "      <td>5001.128167</td>\n",
       "      <td>9596.000000</td>\n",
       "      <td>1153.233929</td>\n",
       "      <td>1207.024954</td>\n",
       "      <td>901.750000</td>\n",
       "      <td>903.000000</td>\n",
       "      <td>7347.000000</td>\n",
       "      <td>23.020425</td>\n",
       "      <td>151.120432</td>\n",
       "    </tr>\n",
       "    <tr>\n",
       "      <th>max</th>\n",
       "      <td>4.902129e+09</td>\n",
       "      <td>2.260032</td>\n",
       "      <td>357894.183679</td>\n",
       "      <td>26193.592720</td>\n",
       "      <td>16676.000000</td>\n",
       "      <td>10217.314931</td>\n",
       "      <td>20117.640692</td>\n",
       "      <td>5275.000000</td>\n",
       "      <td>5276.000000</td>\n",
       "      <td>9793.000000</td>\n",
       "      <td>96.959244</td>\n",
       "      <td>465.849396</td>\n",
       "    </tr>\n",
       "  </tbody>\n",
       "</table>\n",
       "</div>"
      ],
      "text/plain": [
       "             WellID         BVHH         NioGOR        CodGOR  LateralLength  \\\n",
       "count  9.206000e+03  7565.000000    8709.000000   7538.000000    9206.000000   \n",
       "mean   7.183554e+08     1.031013    4699.704950   4219.441933    6970.061820   \n",
       "std    9.295257e+08     0.370794   12584.166286   3306.948828    2673.528748   \n",
       "min    5.001097e+08    -0.125405      85.752059    336.475960    1749.000000   \n",
       "25%    5.123379e+08     0.750481    2189.721498   2314.007323    4349.250000   \n",
       "50%    5.123416e+08     1.020468    3448.129246   3406.380480    6668.500000   \n",
       "75%    5.123458e+08     1.310162    4900.703302   5001.128167    9596.000000   \n",
       "max    4.902129e+09     2.260032  357894.183679  26193.592720   16676.000000   \n",
       "\n",
       "       ProppantPerFoot  FluidPerFoot  LeftDistance  RightDistance  \\\n",
       "count      8974.000000   8942.000000   6758.000000    6778.000000   \n",
       "mean       1013.557032   1035.336411    864.819473     877.969608   \n",
       "std         529.759630    629.271011    925.304147     947.646937   \n",
       "min           0.000000      0.001171     14.000000      14.000000   \n",
       "25%         725.260473    703.318099    343.000000     344.000000   \n",
       "50%         923.412724    862.066743    590.000000     591.000000   \n",
       "75%        1153.233929   1207.024954    901.750000     903.000000   \n",
       "max       10217.314931  20117.640692   5275.000000    5276.000000   \n",
       "\n",
       "               TVD  NormalizedOilEUR  NormalizedGasEUR  \n",
       "count  8893.000000       9206.000000       9206.000000  \n",
       "mean   7013.938041         19.033831        105.802192  \n",
       "std     616.775613          8.187220         66.225371  \n",
       "min    2610.000000          0.000000          0.000000  \n",
       "25%    6680.000000         13.646120         51.336490  \n",
       "50%    7061.000000         17.722519         97.304146  \n",
       "75%    7347.000000         23.020425        151.120432  \n",
       "max    9793.000000         96.959244        465.849396  "
      ]
     },
     "execution_count": 4,
     "metadata": {},
     "output_type": "execute_result"
    }
   ],
   "source": [
    "df.describe()  "
   ]
  },
  {
   "cell_type": "markdown",
   "metadata": {},
   "source": [
    "- head of the data "
   ]
  },
  {
   "cell_type": "code",
   "execution_count": 5,
   "metadata": {
    "scrolled": true
   },
   "outputs": [
    {
     "data": {
      "text/html": [
       "<div>\n",
       "<style scoped>\n",
       "    .dataframe tbody tr th:only-of-type {\n",
       "        vertical-align: middle;\n",
       "    }\n",
       "\n",
       "    .dataframe tbody tr th {\n",
       "        vertical-align: top;\n",
       "    }\n",
       "\n",
       "    .dataframe thead th {\n",
       "        text-align: right;\n",
       "    }\n",
       "</style>\n",
       "<table border=\"1\" class=\"dataframe\">\n",
       "  <thead>\n",
       "    <tr style=\"text-align: right;\">\n",
       "      <th></th>\n",
       "      <th>WellID</th>\n",
       "      <th>BVHH</th>\n",
       "      <th>FormationAlias</th>\n",
       "      <th>NioGOR</th>\n",
       "      <th>CodGOR</th>\n",
       "      <th>LateralLength</th>\n",
       "      <th>ProppantPerFoot</th>\n",
       "      <th>FluidPerFoot</th>\n",
       "      <th>LeftDistance</th>\n",
       "      <th>LeftNeighbourType</th>\n",
       "      <th>RightDistance</th>\n",
       "      <th>RightNeighbourType</th>\n",
       "      <th>TVD</th>\n",
       "      <th>NormalizedOilEUR</th>\n",
       "      <th>NormalizedGasEUR</th>\n",
       "    </tr>\n",
       "  </thead>\n",
       "  <tbody>\n",
       "    <tr>\n",
       "      <th>0</th>\n",
       "      <td>500109742</td>\n",
       "      <td>1.105028</td>\n",
       "      <td>NIOBRARA</td>\n",
       "      <td>1687.414535</td>\n",
       "      <td>NaN</td>\n",
       "      <td>8084.0</td>\n",
       "      <td>1256.308758</td>\n",
       "      <td>1234.370856</td>\n",
       "      <td>NaN</td>\n",
       "      <td>NoNeighbour</td>\n",
       "      <td>NaN</td>\n",
       "      <td>NoNeighbour</td>\n",
       "      <td>7501.0</td>\n",
       "      <td>15.234785</td>\n",
       "      <td>37.674048</td>\n",
       "    </tr>\n",
       "    <tr>\n",
       "      <th>1</th>\n",
       "      <td>500109753</td>\n",
       "      <td>0.644480</td>\n",
       "      <td>NIOBRARA</td>\n",
       "      <td>2267.667384</td>\n",
       "      <td>NaN</td>\n",
       "      <td>3912.0</td>\n",
       "      <td>742.842536</td>\n",
       "      <td>784.000000</td>\n",
       "      <td>NaN</td>\n",
       "      <td>NoNeighbour</td>\n",
       "      <td>1330.0</td>\n",
       "      <td>Codeveloped</td>\n",
       "      <td>7551.0</td>\n",
       "      <td>5.327198</td>\n",
       "      <td>11.627301</td>\n",
       "    </tr>\n",
       "    <tr>\n",
       "      <th>2</th>\n",
       "      <td>500109754</td>\n",
       "      <td>0.620268</td>\n",
       "      <td>NIOBRARA</td>\n",
       "      <td>2368.236087</td>\n",
       "      <td>NaN</td>\n",
       "      <td>4137.0</td>\n",
       "      <td>912.738700</td>\n",
       "      <td>1127.047136</td>\n",
       "      <td>1330.0</td>\n",
       "      <td>Codeveloped</td>\n",
       "      <td>NaN</td>\n",
       "      <td>NoNeighbour</td>\n",
       "      <td>7594.0</td>\n",
       "      <td>5.629925</td>\n",
       "      <td>14.544356</td>\n",
       "    </tr>\n",
       "    <tr>\n",
       "      <th>3</th>\n",
       "      <td>500109760</td>\n",
       "      <td>0.649670</td>\n",
       "      <td>NIOBRARA</td>\n",
       "      <td>333.876618</td>\n",
       "      <td>NaN</td>\n",
       "      <td>4161.0</td>\n",
       "      <td>914.683970</td>\n",
       "      <td>691.026676</td>\n",
       "      <td>NaN</td>\n",
       "      <td>NoNeighbour</td>\n",
       "      <td>NaN</td>\n",
       "      <td>NoNeighbour</td>\n",
       "      <td>7391.0</td>\n",
       "      <td>8.240087</td>\n",
       "      <td>7.012257</td>\n",
       "    </tr>\n",
       "    <tr>\n",
       "      <th>4</th>\n",
       "      <td>500109772</td>\n",
       "      <td>1.423475</td>\n",
       "      <td>NIOBRARA</td>\n",
       "      <td>3608.065949</td>\n",
       "      <td>3199.96293</td>\n",
       "      <td>4418.0</td>\n",
       "      <td>747.271842</td>\n",
       "      <td>928.239928</td>\n",
       "      <td>NaN</td>\n",
       "      <td>NoNeighbour</td>\n",
       "      <td>NaN</td>\n",
       "      <td>NoNeighbour</td>\n",
       "      <td>7838.0</td>\n",
       "      <td>15.374830</td>\n",
       "      <td>51.169534</td>\n",
       "    </tr>\n",
       "  </tbody>\n",
       "</table>\n",
       "</div>"
      ],
      "text/plain": [
       "      WellID      BVHH FormationAlias       NioGOR      CodGOR  LateralLength  \\\n",
       "0  500109742  1.105028       NIOBRARA  1687.414535         NaN         8084.0   \n",
       "1  500109753  0.644480       NIOBRARA  2267.667384         NaN         3912.0   \n",
       "2  500109754  0.620268       NIOBRARA  2368.236087         NaN         4137.0   \n",
       "3  500109760  0.649670       NIOBRARA   333.876618         NaN         4161.0   \n",
       "4  500109772  1.423475       NIOBRARA  3608.065949  3199.96293         4418.0   \n",
       "\n",
       "   ProppantPerFoot  FluidPerFoot  LeftDistance LeftNeighbourType  \\\n",
       "0      1256.308758   1234.370856           NaN       NoNeighbour   \n",
       "1       742.842536    784.000000           NaN       NoNeighbour   \n",
       "2       912.738700   1127.047136        1330.0       Codeveloped   \n",
       "3       914.683970    691.026676           NaN       NoNeighbour   \n",
       "4       747.271842    928.239928           NaN       NoNeighbour   \n",
       "\n",
       "   RightDistance RightNeighbourType     TVD  NormalizedOilEUR  \\\n",
       "0            NaN        NoNeighbour  7501.0         15.234785   \n",
       "1         1330.0        Codeveloped  7551.0          5.327198   \n",
       "2            NaN        NoNeighbour  7594.0          5.629925   \n",
       "3            NaN        NoNeighbour  7391.0          8.240087   \n",
       "4            NaN        NoNeighbour  7838.0         15.374830   \n",
       "\n",
       "   NormalizedGasEUR  \n",
       "0         37.674048  \n",
       "1         11.627301  \n",
       "2         14.544356  \n",
       "3          7.012257  \n",
       "4         51.169534  "
      ]
     },
     "execution_count": 5,
     "metadata": {},
     "output_type": "execute_result"
    }
   ],
   "source": [
    "df.head()"
   ]
  },
  {
   "cell_type": "markdown",
   "metadata": {},
   "source": [
    "- determine Categorical and Numerical column of data"
   ]
  },
  {
   "cell_type": "code",
   "execution_count": 6,
   "metadata": {},
   "outputs": [
    {
     "name": "stdout",
     "output_type": "stream",
     "text": [
      "Numerical columns: \n",
      " Index(['WellID', 'BVHH', 'NioGOR', 'CodGOR', 'LateralLength',\n",
      "       'ProppantPerFoot', 'FluidPerFoot', 'LeftDistance', 'RightDistance',\n",
      "       'TVD', 'NormalizedOilEUR', 'NormalizedGasEUR'],\n",
      "      dtype='object')\n",
      "Categorical columns: \n",
      " Index(['FormationAlias', 'LeftNeighbourType', 'RightNeighbourType'], dtype='object')\n"
     ]
    }
   ],
   "source": [
    "num_col = df.select_dtypes(include=np.number).columns\n",
    "print(\"Numerical columns: \\n\",num_col)\n",
    "\n",
    "cat_col = df.select_dtypes(exclude=np.number).columns\n",
    "print(\"Categorical columns: \\n\",cat_col)\n",
    "# checking if the column name has any extra spaces "
   ]
  },
  {
   "cell_type": "markdown",
   "metadata": {},
   "source": [
    "- WellID in the well IDdentifier serial number which consist of state next to region number so will ignore it ."
   ]
  },
  {
   "cell_type": "markdown",
   "metadata": {},
   "source": [
    "- Check Null values by feature"
   ]
  },
  {
   "cell_type": "code",
   "execution_count": 7,
   "metadata": {},
   "outputs": [
    {
     "data": {
      "text/plain": [
       "WellID                   0\n",
       "BVHH                  1641\n",
       "FormationAlias           0\n",
       "NioGOR                 497\n",
       "CodGOR                1668\n",
       "LateralLength            0\n",
       "ProppantPerFoot        232\n",
       "FluidPerFoot           264\n",
       "LeftDistance          2448\n",
       "LeftNeighbourType        0\n",
       "RightDistance         2428\n",
       "RightNeighbourType       0\n",
       "TVD                    313\n",
       "NormalizedOilEUR         0\n",
       "NormalizedGasEUR         0\n",
       "dtype: int64"
      ]
     },
     "execution_count": 7,
     "metadata": {},
     "output_type": "execute_result"
    }
   ],
   "source": [
    "# Count of Null values by feature\n",
    "df.isnull().sum()"
   ]
  },
  {
   "cell_type": "code",
   "execution_count": 8,
   "metadata": {},
   "outputs": [
    {
     "data": {
      "text/plain": [
       "26.591353465131437"
      ]
     },
     "execution_count": 8,
     "metadata": {},
     "output_type": "execute_result"
    }
   ],
   "source": [
    "df.loc[:,\"LeftDistance\"].isnull().sum()*100/len(df)"
   ]
  },
  {
   "cell_type": "markdown",
   "metadata": {},
   "source": [
    "It seems that we have **2428** missing values in the `LeftDistance` column. As this is **26.6%** of the data we have, we can`t drop it now as it has a impact."
   ]
  },
  {
   "cell_type": "markdown",
   "metadata": {},
   "source": [
    "- Duplicate records:"
   ]
  },
  {
   "cell_type": "code",
   "execution_count": 9,
   "metadata": {},
   "outputs": [
    {
     "name": "stdout",
     "output_type": "stream",
     "text": [
      "We have 0 values.\n"
     ]
    }
   ],
   "source": [
    "dup = df.duplicated().sum()\n",
    "print(f\"We have {dup} values.\")"
   ]
  },
  {
   "cell_type": "markdown",
   "metadata": {},
   "source": [
    "- Data Types:"
   ]
  },
  {
   "cell_type": "code",
   "execution_count": 10,
   "metadata": {},
   "outputs": [
    {
     "name": "stdout",
     "output_type": "stream",
     "text": [
      "<class 'pandas.core.frame.DataFrame'>\n",
      "RangeIndex: 9206 entries, 0 to 9205\n",
      "Data columns (total 15 columns):\n",
      " #   Column              Non-Null Count  Dtype  \n",
      "---  ------              --------------  -----  \n",
      " 0   WellID              9206 non-null   int64  \n",
      " 1   BVHH                7565 non-null   float64\n",
      " 2   FormationAlias      9206 non-null   object \n",
      " 3   NioGOR              8709 non-null   float64\n",
      " 4   CodGOR              7538 non-null   float64\n",
      " 5   LateralLength       9206 non-null   float64\n",
      " 6   ProppantPerFoot     8974 non-null   float64\n",
      " 7   FluidPerFoot        8942 non-null   float64\n",
      " 8   LeftDistance        6758 non-null   float64\n",
      " 9   LeftNeighbourType   9206 non-null   object \n",
      " 10  RightDistance       6778 non-null   float64\n",
      " 11  RightNeighbourType  9206 non-null   object \n",
      " 12  TVD                 8893 non-null   float64\n",
      " 13  NormalizedOilEUR    9206 non-null   float64\n",
      " 14  NormalizedGasEUR    9206 non-null   float64\n",
      "dtypes: float64(11), int64(1), object(3)\n",
      "memory usage: 1.1+ MB\n"
     ]
    }
   ],
   "source": [
    "df.info()"
   ]
  },
  {
   "cell_type": "markdown",
   "metadata": {},
   "source": [
    "It seems that we need to change the data types for:\n",
    "- `FormationAlias` from *object* to *0/1* as int value represent the class.\n",
    "- `LeftNeighbourType` from *object* to *0/1/2* as int value represent the class.\n",
    "- `RightNeighbourType` from *object* to *0/1/2* as int value represent the class."
   ]
  },
  {
   "cell_type": "markdown",
   "metadata": {},
   "source": [
    "## 4. Data Pre-processing"
   ]
  },
  {
   "cell_type": "code",
   "execution_count": 11,
   "metadata": {},
   "outputs": [
    {
     "name": "stdout",
     "output_type": "stream",
     "text": [
      "WellID                   0\n",
      "BVHH                  1641\n",
      "FormationAlias           0\n",
      "NioGOR                 497\n",
      "CodGOR                1668\n",
      "LateralLength            0\n",
      "ProppantPerFoot        232\n",
      "FluidPerFoot           264\n",
      "LeftDistance          2448\n",
      "LeftNeighbourType        0\n",
      "RightDistance         2428\n",
      "RightNeighbourType       0\n",
      "TVD                    313\n",
      "NormalizedOilEUR         0\n",
      "NormalizedGasEUR         0\n",
      "dtype: int64\n"
     ]
    }
   ],
   "source": [
    "print(df.isna().sum())"
   ]
  },
  {
   "cell_type": "markdown",
   "metadata": {},
   "source": [
    "- first BVHH can now fill null values with mean as aproxamation value but in real case i suggest to take mean of neighbour well rock quality ."
   ]
  },
  {
   "cell_type": "code",
   "execution_count": 12,
   "metadata": {},
   "outputs": [],
   "source": [
    "df['BVHH'].fillna(int(df['BVHH'].mean()), inplace=True)"
   ]
  },
  {
   "cell_type": "markdown",
   "metadata": {},
   "source": [
    "- as I search and understand for NioGOR and CodGOR features it represent the layer of earth so it can may be not found to we can not fill null values with mean I preffer the replace with 0 ."
   ]
  },
  {
   "cell_type": "code",
   "execution_count": 13,
   "metadata": {},
   "outputs": [],
   "source": [
    "df['NioGOR'].fillna(0, inplace=True)"
   ]
  },
  {
   "cell_type": "code",
   "execution_count": 14,
   "metadata": {},
   "outputs": [],
   "source": [
    "df['CodGOR'].fillna(0, inplace=True)"
   ]
  },
  {
   "cell_type": "markdown",
   "metadata": {},
   "source": [
    "- ProppantPerFoot and FluidPerFoot can fill null values with mean ."
   ]
  },
  {
   "cell_type": "code",
   "execution_count": 15,
   "metadata": {},
   "outputs": [],
   "source": [
    "df['ProppantPerFoot'].fillna(int(df['ProppantPerFoot'].mean()), inplace=True)"
   ]
  },
  {
   "cell_type": "code",
   "execution_count": 16,
   "metadata": {},
   "outputs": [],
   "source": [
    "df['FluidPerFoot'].fillna(int(df['FluidPerFoot'].mean()), inplace=True)"
   ]
  },
  {
   "cell_type": "markdown",
   "metadata": {},
   "source": [
    "- LeftDistance and RightDistance can not fill null values with mean the right way to represent distance with zero when NoNeighbour one otherwise."
   ]
  },
  {
   "cell_type": "code",
   "execution_count": 17,
   "metadata": {},
   "outputs": [],
   "source": [
    " df['LeftDistance'] = df.apply(\n",
    "            lambda row: 0 if row['LeftNeighbourType'] == 'NoNeighbour' else 1,\n",
    "            axis=1\n",
    "        )"
   ]
  },
  {
   "cell_type": "code",
   "execution_count": 18,
   "metadata": {},
   "outputs": [],
   "source": [
    " df['RightDistance'] = df.apply(\n",
    "            lambda row: 0 if row['RightNeighbourType'] == 'NoNeighbour' else 1,\n",
    "            axis=1\n",
    "        )"
   ]
  },
  {
   "cell_type": "code",
   "execution_count": 19,
   "metadata": {},
   "outputs": [
    {
     "data": {
      "text/plain": [
       "3.3999565500760376"
      ]
     },
     "execution_count": 19,
     "metadata": {},
     "output_type": "execute_result"
    }
   ],
   "source": [
    "df.loc[:,\"TVD\"].isnull().sum()*100/len(df)"
   ]
  },
  {
   "cell_type": "markdown",
   "metadata": {},
   "source": [
    "It seems that we have **313** missing values in the `number_of_impressions` column. As this is **3.4%** of the data we have, we can drop it now as it has a very small impact."
   ]
  },
  {
   "cell_type": "code",
   "execution_count": 20,
   "metadata": {},
   "outputs": [],
   "source": [
    "df = df.dropna(how='any',axis=0) "
   ]
  },
  {
   "cell_type": "code",
   "execution_count": 21,
   "metadata": {},
   "outputs": [
    {
     "name": "stdout",
     "output_type": "stream",
     "text": [
      "WellID                0\n",
      "BVHH                  0\n",
      "FormationAlias        0\n",
      "NioGOR                0\n",
      "CodGOR                0\n",
      "LateralLength         0\n",
      "ProppantPerFoot       0\n",
      "FluidPerFoot          0\n",
      "LeftDistance          0\n",
      "LeftNeighbourType     0\n",
      "RightDistance         0\n",
      "RightNeighbourType    0\n",
      "TVD                   0\n",
      "NormalizedOilEUR      0\n",
      "NormalizedGasEUR      0\n",
      "dtype: int64\n",
      "(8893, 15)\n"
     ]
    }
   ],
   "source": [
    "print(df.isna().sum())\n",
    "print(df.shape)"
   ]
  },
  {
   "cell_type": "markdown",
   "metadata": {},
   "source": [
    "- handle Categorical columns"
   ]
  },
  {
   "cell_type": "code",
   "execution_count": 22,
   "metadata": {},
   "outputs": [
    {
     "data": {
      "text/plain": [
       "array(['NIOBRARA', 'CODELL'], dtype=object)"
      ]
     },
     "execution_count": 22,
     "metadata": {},
     "output_type": "execute_result"
    }
   ],
   "source": [
    "df[\"FormationAlias\"].unique()"
   ]
  },
  {
   "cell_type": "code",
   "execution_count": 23,
   "metadata": {},
   "outputs": [
    {
     "data": {
      "text/plain": [
       "array(['NoNeighbour', 'Codeveloped', 'Parent'], dtype=object)"
      ]
     },
     "execution_count": 23,
     "metadata": {},
     "output_type": "execute_result"
    }
   ],
   "source": [
    "df[\"LeftNeighbourType\"].unique()"
   ]
  },
  {
   "cell_type": "code",
   "execution_count": 24,
   "metadata": {},
   "outputs": [
    {
     "data": {
      "text/plain": [
       "array(['NoNeighbour', 'Codeveloped', 'Parent'], dtype=object)"
      ]
     },
     "execution_count": 24,
     "metadata": {},
     "output_type": "execute_result"
    }
   ],
   "source": [
    "df[\"RightNeighbourType\"].unique()"
   ]
  },
  {
   "cell_type": "code",
   "execution_count": 25,
   "metadata": {
    "scrolled": true
   },
   "outputs": [
    {
     "data": {
      "text/html": [
       "<div>\n",
       "<style scoped>\n",
       "    .dataframe tbody tr th:only-of-type {\n",
       "        vertical-align: middle;\n",
       "    }\n",
       "\n",
       "    .dataframe tbody tr th {\n",
       "        vertical-align: top;\n",
       "    }\n",
       "\n",
       "    .dataframe thead th {\n",
       "        text-align: right;\n",
       "    }\n",
       "</style>\n",
       "<table border=\"1\" class=\"dataframe\">\n",
       "  <thead>\n",
       "    <tr style=\"text-align: right;\">\n",
       "      <th></th>\n",
       "      <th>WellID</th>\n",
       "      <th>BVHH</th>\n",
       "      <th>FormationAlias</th>\n",
       "      <th>NioGOR</th>\n",
       "      <th>CodGOR</th>\n",
       "      <th>LateralLength</th>\n",
       "      <th>ProppantPerFoot</th>\n",
       "      <th>FluidPerFoot</th>\n",
       "      <th>LeftDistance</th>\n",
       "      <th>LeftNeighbourType</th>\n",
       "      <th>RightDistance</th>\n",
       "      <th>RightNeighbourType</th>\n",
       "      <th>TVD</th>\n",
       "      <th>NormalizedOilEUR</th>\n",
       "      <th>NormalizedGasEUR</th>\n",
       "    </tr>\n",
       "  </thead>\n",
       "  <tbody>\n",
       "    <tr>\n",
       "      <th>0</th>\n",
       "      <td>500109742</td>\n",
       "      <td>1.105028</td>\n",
       "      <td>1</td>\n",
       "      <td>1687.414535</td>\n",
       "      <td>0.00000</td>\n",
       "      <td>8084.0</td>\n",
       "      <td>1256.308758</td>\n",
       "      <td>1234.370856</td>\n",
       "      <td>0</td>\n",
       "      <td>1</td>\n",
       "      <td>0</td>\n",
       "      <td>1</td>\n",
       "      <td>7501.0</td>\n",
       "      <td>15.234785</td>\n",
       "      <td>37.674048</td>\n",
       "    </tr>\n",
       "    <tr>\n",
       "      <th>1</th>\n",
       "      <td>500109753</td>\n",
       "      <td>0.644480</td>\n",
       "      <td>1</td>\n",
       "      <td>2267.667384</td>\n",
       "      <td>0.00000</td>\n",
       "      <td>3912.0</td>\n",
       "      <td>742.842536</td>\n",
       "      <td>784.000000</td>\n",
       "      <td>0</td>\n",
       "      <td>1</td>\n",
       "      <td>1</td>\n",
       "      <td>0</td>\n",
       "      <td>7551.0</td>\n",
       "      <td>5.327198</td>\n",
       "      <td>11.627301</td>\n",
       "    </tr>\n",
       "    <tr>\n",
       "      <th>2</th>\n",
       "      <td>500109754</td>\n",
       "      <td>0.620268</td>\n",
       "      <td>1</td>\n",
       "      <td>2368.236087</td>\n",
       "      <td>0.00000</td>\n",
       "      <td>4137.0</td>\n",
       "      <td>912.738700</td>\n",
       "      <td>1127.047136</td>\n",
       "      <td>1</td>\n",
       "      <td>0</td>\n",
       "      <td>0</td>\n",
       "      <td>1</td>\n",
       "      <td>7594.0</td>\n",
       "      <td>5.629925</td>\n",
       "      <td>14.544356</td>\n",
       "    </tr>\n",
       "    <tr>\n",
       "      <th>3</th>\n",
       "      <td>500109760</td>\n",
       "      <td>0.649670</td>\n",
       "      <td>1</td>\n",
       "      <td>333.876618</td>\n",
       "      <td>0.00000</td>\n",
       "      <td>4161.0</td>\n",
       "      <td>914.683970</td>\n",
       "      <td>691.026676</td>\n",
       "      <td>0</td>\n",
       "      <td>1</td>\n",
       "      <td>0</td>\n",
       "      <td>1</td>\n",
       "      <td>7391.0</td>\n",
       "      <td>8.240087</td>\n",
       "      <td>7.012257</td>\n",
       "    </tr>\n",
       "    <tr>\n",
       "      <th>4</th>\n",
       "      <td>500109772</td>\n",
       "      <td>1.423475</td>\n",
       "      <td>1</td>\n",
       "      <td>3608.065949</td>\n",
       "      <td>3199.96293</td>\n",
       "      <td>4418.0</td>\n",
       "      <td>747.271842</td>\n",
       "      <td>928.239928</td>\n",
       "      <td>0</td>\n",
       "      <td>1</td>\n",
       "      <td>0</td>\n",
       "      <td>1</td>\n",
       "      <td>7838.0</td>\n",
       "      <td>15.374830</td>\n",
       "      <td>51.169534</td>\n",
       "    </tr>\n",
       "  </tbody>\n",
       "</table>\n",
       "</div>"
      ],
      "text/plain": [
       "      WellID      BVHH  FormationAlias       NioGOR      CodGOR  \\\n",
       "0  500109742  1.105028               1  1687.414535     0.00000   \n",
       "1  500109753  0.644480               1  2267.667384     0.00000   \n",
       "2  500109754  0.620268               1  2368.236087     0.00000   \n",
       "3  500109760  0.649670               1   333.876618     0.00000   \n",
       "4  500109772  1.423475               1  3608.065949  3199.96293   \n",
       "\n",
       "   LateralLength  ProppantPerFoot  FluidPerFoot  LeftDistance  \\\n",
       "0         8084.0      1256.308758   1234.370856             0   \n",
       "1         3912.0       742.842536    784.000000             0   \n",
       "2         4137.0       912.738700   1127.047136             1   \n",
       "3         4161.0       914.683970    691.026676             0   \n",
       "4         4418.0       747.271842    928.239928             0   \n",
       "\n",
       "   LeftNeighbourType  RightDistance  RightNeighbourType     TVD  \\\n",
       "0                  1              0                   1  7501.0   \n",
       "1                  1              1                   0  7551.0   \n",
       "2                  0              0                   1  7594.0   \n",
       "3                  1              0                   1  7391.0   \n",
       "4                  1              0                   1  7838.0   \n",
       "\n",
       "   NormalizedOilEUR  NormalizedGasEUR  \n",
       "0         15.234785         37.674048  \n",
       "1          5.327198         11.627301  \n",
       "2          5.629925         14.544356  \n",
       "3          8.240087          7.012257  \n",
       "4         15.374830         51.169534  "
      ]
     },
     "execution_count": 25,
     "metadata": {},
     "output_type": "execute_result"
    }
   ],
   "source": [
    "# Import label encoder \n",
    "# label_encoder object knows how to understand word labels. \n",
    "FormationAlias_label_encoder = preprocessing.LabelEncoder() \n",
    "NeighbourType_label_encoder = preprocessing.LabelEncoder() \n",
    "  \n",
    "# Encode labels in column 'FormationAlias , LeftNeighbourType , RightNeighbourType'. \n",
    "df['FormationAlias']= FormationAlias_label_encoder.fit_transform(df['FormationAlias'])\n",
    "df['LeftNeighbourType']= NeighbourType_label_encoder.fit_transform(df['LeftNeighbourType'])\n",
    "df['RightNeighbourType']= NeighbourType_label_encoder.fit_transform(df['RightNeighbourType'])\n",
    "  \n",
    "df.head()"
   ]
  },
  {
   "cell_type": "code",
   "execution_count": 26,
   "metadata": {},
   "outputs": [
    {
     "data": {
      "image/png": "[encoded data removed]",
      "text/plain": [
       "<Figure size 1080x1080 with 2 Axes>"
      ]
     },
     "metadata": {
      "needs_background": "light"
     },
     "output_type": "display_data"
    }
   ],
   "source": [
    "# Let's check the multicollinearity of features by checking the correlation matric\n",
    "plt.figure(figsize=(15,15))\n",
    "p=sns.heatmap(df[num_col].corr(), annot=True,cmap='RdYlGn',center=0) "
   ]
  },
  {
   "cell_type": "markdown",
   "metadata": {},
   "source": [
    "## 6. Model Building"
   ]
  },
  {
   "cell_type": "code",
   "execution_count": 27,
   "metadata": {},
   "outputs": [],
   "source": [
    "# Train test split\n",
    "X=df.drop(columns=['WellID','NormalizedOilEUR','NormalizedGasEUR'])\n",
    "y_O=df[['NormalizedOilEUR']]\n",
    "y_G=df[['NormalizedGasEUR']]\n",
    "\n",
    "X_train_O,X_test_O,y_train_O,y_test_O = train_test_split(X,y_O,test_size=0.3,random_state=1234)\n",
    "X_train_G,X_test_G,y_train_G,y_test_G = train_test_split(X,y_G,test_size=0.3,random_state=1234)"
   ]
  },
  {
   "cell_type": "markdown",
   "metadata": {},
   "source": [
    "## Approach 1 : Adding 1 varaible after 1"
   ]
  },
  {
   "cell_type": "markdown",
   "metadata": {},
   "source": [
    "###  NormalizedOilEUR"
   ]
  },
  {
   "cell_type": "markdown",
   "metadata": {},
   "source": [
    "### Building model with 1 variable"
   ]
  },
  {
   "cell_type": "code",
   "execution_count": 28,
   "metadata": {},
   "outputs": [],
   "source": [
    "# Select only one feature in regression model\n",
    "X_train1 = X_train_O['FluidPerFoot']"
   ]
  },
  {
   "cell_type": "code",
   "execution_count": 29,
   "metadata": {},
   "outputs": [],
   "source": [
    "# Add a constant\n",
    "X_train1 = sm.add_constant(X_train1)\n",
    "\n",
    "# Create a first ols model\n",
    "model_1 = sm.OLS(y_train_O, X_train1).fit()"
   ]
  },
  {
   "cell_type": "code",
   "execution_count": 30,
   "metadata": {},
   "outputs": [
    {
     "data": {
      "text/plain": [
       "const           16.505378\n",
       "FluidPerFoot     0.002568\n",
       "dtype: float64"
      ]
     },
     "execution_count": 30,
     "metadata": {},
     "output_type": "execute_result"
    }
   ],
   "source": [
    "# Check parameters created\n",
    "model_1.params"
   ]
  },
  {
   "cell_type": "code",
   "execution_count": 31,
   "metadata": {},
   "outputs": [
    {
     "name": "stdout",
     "output_type": "stream",
     "text": [
      "                            OLS Regression Results                            \n",
      "==============================================================================\n",
      "Dep. Variable:       NormalizedOilEUR   R-squared:                       0.037\n",
      "Model:                            OLS   Adj. R-squared:                  0.037\n",
      "Method:                 Least Squares   F-statistic:                     242.2\n",
      "Date:                Sat, 17 Dec 2022   Prob (F-statistic):           1.34e-53\n",
      "Time:                        23:06:05   Log-Likelihood:                -21837.\n",
      "No. Observations:                6225   AIC:                         4.368e+04\n",
      "Df Residuals:                    6223   BIC:                         4.369e+04\n",
      "Df Model:                           1                                         \n",
      "Covariance Type:            nonrobust                                         \n",
      "================================================================================\n",
      "                   coef    std err          t      P>|t|      [0.025      0.975]\n",
      "--------------------------------------------------------------------------------\n",
      "const           16.5054      0.197     83.894      0.000      16.120      16.891\n",
      "FluidPerFoot     0.0026      0.000     15.562      0.000       0.002       0.003\n",
      "==============================================================================\n",
      "Omnibus:                     1882.453   Durbin-Watson:                   1.988\n",
      "Prob(Omnibus):                  0.000   Jarque-Bera (JB):            10899.667\n",
      "Skew:                           1.323   Prob(JB):                         0.00\n",
      "Kurtosis:                       8.918   Cond. No.                     2.29e+03\n",
      "==============================================================================\n",
      "\n",
      "Notes:\n",
      "[1] Standard Errors assume that the covariance matrix of the errors is correctly specified.\n",
      "[2] The condition number is large, 2.29e+03. This might indicate that there are\n",
      "strong multicollinearity or other numerical problems.\n"
     ]
    }
   ],
   "source": [
    "# Summary of the model\n",
    "print(model_1.summary())"
   ]
  },
  {
   "cell_type": "markdown",
   "metadata": {},
   "source": [
    "R-squared is very less for the model, so there's a need to add more features as R-square itself is not able to explain the expenses"
   ]
  },
  {
   "cell_type": "markdown",
   "metadata": {},
   "source": [
    "### Building model with 2 variable"
   ]
  },
  {
   "cell_type": "code",
   "execution_count": 32,
   "metadata": {},
   "outputs": [],
   "source": [
    "# Add one more feature in regression model\n",
    "X_train2 = X_train_O[['BVHH','FluidPerFoot']]"
   ]
  },
  {
   "cell_type": "code",
   "execution_count": 33,
   "metadata": {},
   "outputs": [],
   "source": [
    "# Add a constant\n",
    "X_train2 = sm.add_constant(X_train2)\n",
    "\n",
    "# Create second ols model\n",
    "model_2 = sm.OLS(y_train_O, X_train2).fit()"
   ]
  },
  {
   "cell_type": "code",
   "execution_count": 34,
   "metadata": {},
   "outputs": [
    {
     "data": {
      "text/plain": [
       "const           15.543268\n",
       "BVHH             0.962058\n",
       "FluidPerFoot     0.002544\n",
       "dtype: float64"
      ]
     },
     "execution_count": 34,
     "metadata": {},
     "output_type": "execute_result"
    }
   ],
   "source": [
    "# Check parameters created\n",
    "model_2.params"
   ]
  },
  {
   "cell_type": "code",
   "execution_count": 35,
   "metadata": {},
   "outputs": [
    {
     "name": "stdout",
     "output_type": "stream",
     "text": [
      "                            OLS Regression Results                            \n",
      "==============================================================================\n",
      "Dep. Variable:       NormalizedOilEUR   R-squared:                       0.039\n",
      "Model:                            OLS   Adj. R-squared:                  0.039\n",
      "Method:                 Least Squares   F-statistic:                     126.3\n",
      "Date:                Sat, 17 Dec 2022   Prob (F-statistic):           1.64e-54\n",
      "Time:                        23:06:05   Log-Likelihood:                -21832.\n",
      "No. Observations:                6225   AIC:                         4.367e+04\n",
      "Df Residuals:                    6222   BIC:                         4.369e+04\n",
      "Df Model:                           2                                         \n",
      "Covariance Type:            nonrobust                                         \n",
      "================================================================================\n",
      "                   coef    std err          t      P>|t|      [0.025      0.975]\n",
      "--------------------------------------------------------------------------------\n",
      "const           15.5433      0.360     43.151      0.000      14.837      16.249\n",
      "BVHH             0.9621      0.302      3.188      0.001       0.370       1.554\n",
      "FluidPerFoot     0.0025      0.000     15.415      0.000       0.002       0.003\n",
      "==============================================================================\n",
      "Omnibus:                     1929.785   Durbin-Watson:                   1.989\n",
      "Prob(Omnibus):                  0.000   Jarque-Bera (JB):            11373.609\n",
      "Skew:                           1.354   Prob(JB):                         0.00\n",
      "Kurtosis:                       9.043   Cond. No.                     5.26e+03\n",
      "==============================================================================\n",
      "\n",
      "Notes:\n",
      "[1] Standard Errors assume that the covariance matrix of the errors is correctly specified.\n",
      "[2] The condition number is large, 5.26e+03. This might indicate that there are\n",
      "strong multicollinearity or other numerical problems.\n"
     ]
    }
   ],
   "source": [
    "# Summary of the model\n",
    "print(model_2.summary())"
   ]
  },
  {
   "cell_type": "markdown",
   "metadata": {},
   "source": [
    "R-squared and Adj. R squared has increased for the model, but we can still improvise over it so let's add more features"
   ]
  },
  {
   "cell_type": "markdown",
   "metadata": {},
   "source": [
    "### Building model with 3 variable"
   ]
  },
  {
   "cell_type": "code",
   "execution_count": 36,
   "metadata": {},
   "outputs": [],
   "source": [
    "# Adding one more feature in regression model\n",
    "X_train3 = X_train_O[['BVHH','FluidPerFoot', 'TVD']]"
   ]
  },
  {
   "cell_type": "code",
   "execution_count": 37,
   "metadata": {},
   "outputs": [],
   "source": [
    "# Add a constant\n",
    "X_train3 = sm.add_constant(X_train3)\n",
    "\n",
    "# Create third fitted model\n",
    "model_3 = sm.OLS(y_train_O, X_train3).fit()"
   ]
  },
  {
   "cell_type": "code",
   "execution_count": 38,
   "metadata": {},
   "outputs": [
    {
     "data": {
      "text/plain": [
       "const           23.671145\n",
       "BVHH             1.398144\n",
       "FluidPerFoot     0.002497\n",
       "TVD             -0.001216\n",
       "dtype: float64"
      ]
     },
     "execution_count": 38,
     "metadata": {},
     "output_type": "execute_result"
    }
   ],
   "source": [
    "# Check parameters created\n",
    "model_3.params"
   ]
  },
  {
   "cell_type": "code",
   "execution_count": 39,
   "metadata": {},
   "outputs": [
    {
     "name": "stdout",
     "output_type": "stream",
     "text": [
      "                            OLS Regression Results                            \n",
      "==============================================================================\n",
      "Dep. Variable:       NormalizedOilEUR   R-squared:                       0.047\n",
      "Model:                            OLS   Adj. R-squared:                  0.047\n",
      "Method:                 Least Squares   F-statistic:                     102.5\n",
      "Date:                Sat, 17 Dec 2022   Prob (F-statistic):           9.46e-65\n",
      "Time:                        23:06:05   Log-Likelihood:                -21806.\n",
      "No. Observations:                6225   AIC:                         4.362e+04\n",
      "Df Residuals:                    6221   BIC:                         4.365e+04\n",
      "Df Model:                           3                                         \n",
      "Covariance Type:            nonrobust                                         \n",
      "================================================================================\n",
      "                   coef    std err          t      P>|t|      [0.025      0.975]\n",
      "--------------------------------------------------------------------------------\n",
      "const           23.6711      1.176     20.125      0.000      21.365      25.977\n",
      "BVHH             1.3981      0.307      4.561      0.000       0.797       1.999\n",
      "FluidPerFoot     0.0025      0.000     15.180      0.000       0.002       0.003\n",
      "TVD             -0.0012      0.000     -7.256      0.000      -0.002      -0.001\n",
      "==============================================================================\n",
      "Omnibus:                     1964.660   Durbin-Watson:                   1.991\n",
      "Prob(Omnibus):                  0.000   Jarque-Bera (JB):            12035.399\n",
      "Skew:                           1.369   Prob(JB):                         0.00\n",
      "Kurtosis:                       9.237   Cond. No.                     8.21e+04\n",
      "==============================================================================\n",
      "\n",
      "Notes:\n",
      "[1] Standard Errors assume that the covariance matrix of the errors is correctly specified.\n",
      "[2] The condition number is large, 8.21e+04. This might indicate that there are\n",
      "strong multicollinearity or other numerical problems.\n"
     ]
    }
   ],
   "source": [
    "# Summary of the model\n",
    "print(model_3.summary())"
   ]
  },
  {
   "cell_type": "markdown",
   "metadata": {},
   "source": [
    "### Building model with 4 variable"
   ]
  },
  {
   "cell_type": "code",
   "execution_count": 40,
   "metadata": {},
   "outputs": [],
   "source": [
    "# Adding one more feature in regression model\n",
    "X_train4 = X_train_O[['BVHH','FluidPerFoot', 'TVD','LateralLength']]\n"
   ]
  },
  {
   "cell_type": "code",
   "execution_count": 41,
   "metadata": {},
   "outputs": [],
   "source": [
    "# Add a constant\n",
    "X_train4 = sm.add_constant(X_train4)\n"
   ]
  },
  {
   "cell_type": "code",
   "execution_count": 42,
   "metadata": {},
   "outputs": [],
   "source": [
    "# Create third fitted model\n",
    "model_4 = sm.OLS(y_train_O, X_train4).fit()\n"
   ]
  },
  {
   "cell_type": "code",
   "execution_count": 43,
   "metadata": {},
   "outputs": [
    {
     "data": {
      "text/plain": [
       "const            23.694375\n",
       "BVHH              1.423445\n",
       "FluidPerFoot      0.002658\n",
       "TVD              -0.001017\n",
       "LateralLength    -0.000233\n",
       "dtype: float64"
      ]
     },
     "execution_count": 43,
     "metadata": {},
     "output_type": "execute_result"
    }
   ],
   "source": [
    "# Check parameters created\n",
    "model_4.params\n"
   ]
  },
  {
   "cell_type": "code",
   "execution_count": 44,
   "metadata": {},
   "outputs": [
    {
     "name": "stdout",
     "output_type": "stream",
     "text": [
      "                            OLS Regression Results                            \n",
      "==============================================================================\n",
      "Dep. Variable:       NormalizedOilEUR   R-squared:                       0.052\n",
      "Model:                            OLS   Adj. R-squared:                  0.052\n",
      "Method:                 Least Squares   F-statistic:                     85.78\n",
      "Date:                Sat, 17 Dec 2022   Prob (F-statistic):           4.85e-71\n",
      "Time:                        23:06:05   Log-Likelihood:                -21789.\n",
      "No. Observations:                6225   AIC:                         4.359e+04\n",
      "Df Residuals:                    6220   BIC:                         4.362e+04\n",
      "Df Model:                           4                                         \n",
      "Covariance Type:            nonrobust                                         \n",
      "=================================================================================\n",
      "                    coef    std err          t      P>|t|      [0.025      0.975]\n",
      "---------------------------------------------------------------------------------\n",
      "const            23.6944      1.173     20.199      0.000      21.395      25.994\n",
      "BVHH              1.4234      0.306      4.656      0.000       0.824       2.023\n",
      "FluidPerFoot      0.0027      0.000     15.978      0.000       0.002       0.003\n",
      "TVD              -0.0010      0.000     -5.962      0.000      -0.001      -0.001\n",
      "LateralLength    -0.0002      4e-05     -5.837      0.000      -0.000      -0.000\n",
      "==============================================================================\n",
      "Omnibus:                     1909.521   Durbin-Watson:                   1.984\n",
      "Prob(Omnibus):                  0.000   Jarque-Bera (JB):            11952.203\n",
      "Skew:                           1.319   Prob(JB):                         0.00\n",
      "Kurtosis:                       9.255   Cond. No.                     1.16e+05\n",
      "==============================================================================\n",
      "\n",
      "Notes:\n",
      "[1] Standard Errors assume that the covariance matrix of the errors is correctly specified.\n",
      "[2] The condition number is large, 1.16e+05. This might indicate that there are\n",
      "strong multicollinearity or other numerical problems.\n"
     ]
    }
   ],
   "source": [
    "# Summary of the model\n",
    "print(model_4.summary())"
   ]
  },
  {
   "cell_type": "markdown",
   "metadata": {},
   "source": [
    "### Building model with 5 variable"
   ]
  },
  {
   "cell_type": "code",
   "execution_count": 45,
   "metadata": {},
   "outputs": [],
   "source": [
    "# Adding one more feature in regression model\n",
    "X_train5 = X_train_O[['BVHH','FluidPerFoot', 'TVD','LateralLength','NioGOR']]"
   ]
  },
  {
   "cell_type": "code",
   "execution_count": 46,
   "metadata": {},
   "outputs": [],
   "source": [
    "# Add a constant\n",
    "X_train5 = sm.add_constant(X_train5)"
   ]
  },
  {
   "cell_type": "code",
   "execution_count": 47,
   "metadata": {},
   "outputs": [],
   "source": [
    "# Create third fitted model\n",
    "model_5 = sm.OLS(y_train_O, X_train5).fit()"
   ]
  },
  {
   "cell_type": "code",
   "execution_count": 48,
   "metadata": {},
   "outputs": [
    {
     "data": {
      "text/plain": [
       "const            24.123221\n",
       "BVHH              1.471925\n",
       "FluidPerFoot      0.002660\n",
       "TVD              -0.001066\n",
       "LateralLength    -0.000232\n",
       "NioGOR           -0.000032\n",
       "dtype: float64"
      ]
     },
     "execution_count": 48,
     "metadata": {},
     "output_type": "execute_result"
    }
   ],
   "source": [
    "# Check parameters created\n",
    "model_5.params"
   ]
  },
  {
   "cell_type": "code",
   "execution_count": 49,
   "metadata": {},
   "outputs": [
    {
     "name": "stdout",
     "output_type": "stream",
     "text": [
      "                            OLS Regression Results                            \n",
      "==============================================================================\n",
      "Dep. Variable:       NormalizedOilEUR   R-squared:                       0.054\n",
      "Model:                            OLS   Adj. R-squared:                  0.054\n",
      "Method:                 Least Squares   F-statistic:                     71.38\n",
      "Date:                Sat, 17 Dec 2022   Prob (F-statistic):           7.23e-73\n",
      "Time:                        23:06:05   Log-Likelihood:                -21782.\n",
      "No. Observations:                6225   AIC:                         4.358e+04\n",
      "Df Residuals:                    6219   BIC:                         4.362e+04\n",
      "Df Model:                           5                                         \n",
      "Covariance Type:            nonrobust                                         \n",
      "=================================================================================\n",
      "                    coef    std err          t      P>|t|      [0.025      0.975]\n",
      "---------------------------------------------------------------------------------\n",
      "const            24.1232      1.178     20.480      0.000      21.814      26.432\n",
      "BVHH              1.4719      0.306      4.814      0.000       0.873       2.071\n",
      "FluidPerFoot      0.0027      0.000     16.003      0.000       0.002       0.003\n",
      "TVD              -0.0011      0.000     -6.234      0.000      -0.001      -0.001\n",
      "LateralLength    -0.0002   3.99e-05     -5.817      0.000      -0.000      -0.000\n",
      "NioGOR        -3.236e-05   8.93e-06     -3.622      0.000   -4.99e-05   -1.48e-05\n",
      "==============================================================================\n",
      "Omnibus:                     1897.738   Durbin-Watson:                   1.987\n",
      "Prob(Omnibus):                  0.000   Jarque-Bera (JB):            11863.968\n",
      "Skew:                           1.310   Prob(JB):                         0.00\n",
      "Kurtosis:                       9.235   Cond. No.                     1.54e+05\n",
      "==============================================================================\n",
      "\n",
      "Notes:\n",
      "[1] Standard Errors assume that the covariance matrix of the errors is correctly specified.\n",
      "[2] The condition number is large, 1.54e+05. This might indicate that there are\n",
      "strong multicollinearity or other numerical problems.\n"
     ]
    }
   ],
   "source": [
    "# Summary of the model\n",
    "print(model_5.summary())"
   ]
  },
  {
   "cell_type": "markdown",
   "metadata": {},
   "source": [
    "### Building model with 6 variable"
   ]
  },
  {
   "cell_type": "code",
   "execution_count": 50,
   "metadata": {},
   "outputs": [],
   "source": [
    "# Adding one more feature in regression model\n",
    "X_train6 = X_train_O[['BVHH','FluidPerFoot', 'TVD','LateralLength','NioGOR','CodGOR']]"
   ]
  },
  {
   "cell_type": "code",
   "execution_count": 51,
   "metadata": {},
   "outputs": [],
   "source": [
    "# Add a constant\n",
    "X_train6 = sm.add_constant(X_train6)"
   ]
  },
  {
   "cell_type": "code",
   "execution_count": 52,
   "metadata": {},
   "outputs": [],
   "source": [
    "# Create third fitted model\n",
    "model_6 = sm.OLS(y_train_O, X_train6).fit()"
   ]
  },
  {
   "cell_type": "code",
   "execution_count": 53,
   "metadata": {},
   "outputs": [
    {
     "data": {
      "text/plain": [
       "const            23.203607\n",
       "BVHH              2.905386\n",
       "FluidPerFoot      0.002473\n",
       "TVD              -0.000888\n",
       "LateralLength    -0.000274\n",
       "NioGOR           -0.000014\n",
       "CodGOR           -0.000389\n",
       "dtype: float64"
      ]
     },
     "execution_count": 53,
     "metadata": {},
     "output_type": "execute_result"
    }
   ],
   "source": [
    "# Check parameters created\n",
    "model_6.params"
   ]
  },
  {
   "cell_type": "code",
   "execution_count": 54,
   "metadata": {},
   "outputs": [
    {
     "name": "stdout",
     "output_type": "stream",
     "text": [
      "                            OLS Regression Results                            \n",
      "==============================================================================\n",
      "Dep. Variable:       NormalizedOilEUR   R-squared:                       0.076\n",
      "Model:                            OLS   Adj. R-squared:                  0.075\n",
      "Method:                 Least Squares   F-statistic:                     85.23\n",
      "Date:                Sat, 17 Dec 2022   Prob (F-statistic):          5.45e-103\n",
      "Time:                        23:06:05   Log-Likelihood:                -21710.\n",
      "No. Observations:                6225   AIC:                         4.343e+04\n",
      "Df Residuals:                    6218   BIC:                         4.348e+04\n",
      "Df Model:                           6                                         \n",
      "Covariance Type:            nonrobust                                         \n",
      "=================================================================================\n",
      "                    coef    std err          t      P>|t|      [0.025      0.975]\n",
      "---------------------------------------------------------------------------------\n",
      "const            23.2036      1.167     19.885      0.000      20.916      25.491\n",
      "BVHH              2.9054      0.325      8.949      0.000       2.269       3.542\n",
      "FluidPerFoot      0.0025      0.000     14.984      0.000       0.002       0.003\n",
      "TVD              -0.0009      0.000     -5.238      0.000      -0.001      -0.001\n",
      "LateralLength    -0.0003   3.96e-05     -6.916      0.000      -0.000      -0.000\n",
      "NioGOR        -1.446e-05   8.96e-06     -1.615      0.106    -3.2e-05     3.1e-06\n",
      "CodGOR           -0.0004   3.22e-05    -12.088      0.000      -0.000      -0.000\n",
      "==============================================================================\n",
      "Omnibus:                     1824.732   Durbin-Watson:                   1.981\n",
      "Prob(Omnibus):                  0.000   Jarque-Bera (JB):            11101.000\n",
      "Skew:                           1.262   Prob(JB):                         0.00\n",
      "Kurtosis:                       9.036   Cond. No.                     1.58e+05\n",
      "==============================================================================\n",
      "\n",
      "Notes:\n",
      "[1] Standard Errors assume that the covariance matrix of the errors is correctly specified.\n",
      "[2] The condition number is large, 1.58e+05. This might indicate that there are\n",
      "strong multicollinearity or other numerical problems.\n"
     ]
    }
   ],
   "source": [
    "# Summary of the model\n",
    "print(model_6.summary())"
   ]
  },
  {
   "cell_type": "markdown",
   "metadata": {},
   "source": [
    "- we add one feature by one to get better model score with no collinearity between x features and more impact with y feature .\n",
    "- so after adding the six x feature we get multicollinearity with greater R-squared but we can allow multicollinearity . "
   ]
  },
  {
   "cell_type": "markdown",
   "metadata": {},
   "source": [
    "### NormalizedGasEUR"
   ]
  },
  {
   "cell_type": "markdown",
   "metadata": {},
   "source": [
    "### Building model with 1 variable"
   ]
  },
  {
   "cell_type": "code",
   "execution_count": 55,
   "metadata": {},
   "outputs": [],
   "source": [
    "# Select only one feature in regression model\n",
    "X_train1 = X_train_G['CodGOR']"
   ]
  },
  {
   "cell_type": "code",
   "execution_count": 56,
   "metadata": {},
   "outputs": [],
   "source": [
    "# Add a constant\n",
    "X_train1 = sm.add_constant(X_train1)\n",
    "\n",
    "# Create a first ols model\n",
    "model_1 = sm.OLS(y_train_G, X_train1).fit()"
   ]
  },
  {
   "cell_type": "code",
   "execution_count": 57,
   "metadata": {},
   "outputs": [
    {
     "data": {
      "text/plain": [
       "const     60.514244\n",
       "CodGOR     0.012883\n",
       "dtype: float64"
      ]
     },
     "execution_count": 57,
     "metadata": {},
     "output_type": "execute_result"
    }
   ],
   "source": [
    "# Check parameters created\n",
    "model_1.params"
   ]
  },
  {
   "cell_type": "code",
   "execution_count": 58,
   "metadata": {},
   "outputs": [
    {
     "name": "stdout",
     "output_type": "stream",
     "text": [
      "                            OLS Regression Results                            \n",
      "==============================================================================\n",
      "Dep. Variable:       NormalizedGasEUR   R-squared:                       0.445\n",
      "Model:                            OLS   Adj. R-squared:                  0.445\n",
      "Method:                 Least Squares   F-statistic:                     4988.\n",
      "Date:                Sat, 17 Dec 2022   Prob (F-statistic):               0.00\n",
      "Time:                        23:06:05   Log-Likelihood:                -33142.\n",
      "No. Observations:                6225   AIC:                         6.629e+04\n",
      "Df Residuals:                    6223   BIC:                         6.630e+04\n",
      "Df Model:                           1                                         \n",
      "Covariance Type:            nonrobust                                         \n",
      "==============================================================================\n",
      "                 coef    std err          t      P>|t|      [0.025      0.975]\n",
      "------------------------------------------------------------------------------\n",
      "const         60.5142      0.908     66.645      0.000      58.734      62.294\n",
      "CodGOR         0.0129      0.000     70.628      0.000       0.013       0.013\n",
      "==============================================================================\n",
      "Omnibus:                      534.116   Durbin-Watson:                   1.974\n",
      "Prob(Omnibus):                  0.000   Jarque-Bera (JB):              801.631\n",
      "Skew:                           0.670   Prob(JB):                    8.47e-175\n",
      "Kurtosis:                       4.138   Cond. No.                     7.18e+03\n",
      "==============================================================================\n",
      "\n",
      "Notes:\n",
      "[1] Standard Errors assume that the covariance matrix of the errors is correctly specified.\n",
      "[2] The condition number is large, 7.18e+03. This might indicate that there are\n",
      "strong multicollinearity or other numerical problems.\n"
     ]
    }
   ],
   "source": [
    "# Summary of the model\n",
    "print(model_1.summary())"
   ]
  },
  {
   "cell_type": "markdown",
   "metadata": {},
   "source": [
    "R-squared is very less for the model, so there's a need to add more features as R-square itself is not able to explain the expenses"
   ]
  },
  {
   "cell_type": "markdown",
   "metadata": {},
   "source": [
    "### Building model with 2 variable"
   ]
  },
  {
   "cell_type": "code",
   "execution_count": 59,
   "metadata": {},
   "outputs": [],
   "source": [
    "# Add one more feature in regression model\n",
    "X_train2 = X_train_G[['BVHH','CodGOR']]"
   ]
  },
  {
   "cell_type": "code",
   "execution_count": 60,
   "metadata": {},
   "outputs": [],
   "source": [
    "# Add a constant\n",
    "X_train2 = sm.add_constant(X_train2)\n",
    "\n",
    "# Create second ols model\n",
    "model_2 = sm.OLS(y_train_G, X_train2).fit()"
   ]
  },
  {
   "cell_type": "code",
   "execution_count": 61,
   "metadata": {},
   "outputs": [
    {
     "data": {
      "text/plain": [
       "const     31.621191\n",
       "BVHH      32.356511\n",
       "CodGOR     0.011692\n",
       "dtype: float64"
      ]
     },
     "execution_count": 61,
     "metadata": {},
     "output_type": "execute_result"
    }
   ],
   "source": [
    "# Check parameters created\n",
    "model_2.params"
   ]
  },
  {
   "cell_type": "code",
   "execution_count": 62,
   "metadata": {},
   "outputs": [
    {
     "name": "stdout",
     "output_type": "stream",
     "text": [
      "                            OLS Regression Results                            \n",
      "==============================================================================\n",
      "Dep. Variable:       NormalizedGasEUR   R-squared:                       0.468\n",
      "Model:                            OLS   Adj. R-squared:                  0.468\n",
      "Method:                 Least Squares   F-statistic:                     2740.\n",
      "Date:                Sat, 17 Dec 2022   Prob (F-statistic):               0.00\n",
      "Time:                        23:06:06   Log-Likelihood:                -33008.\n",
      "No. Observations:                6225   AIC:                         6.602e+04\n",
      "Df Residuals:                    6222   BIC:                         6.604e+04\n",
      "Df Model:                           2                                         \n",
      "Covariance Type:            nonrobust                                         \n",
      "==============================================================================\n",
      "                 coef    std err          t      P>|t|      [0.025      0.975]\n",
      "------------------------------------------------------------------------------\n",
      "const         31.6212      1.961     16.124      0.000      27.777      35.466\n",
      "BVHH          32.3565      1.958     16.527      0.000      28.519      36.194\n",
      "CodGOR         0.0117      0.000     60.729      0.000       0.011       0.012\n",
      "==============================================================================\n",
      "Omnibus:                      566.552   Durbin-Watson:                   1.980\n",
      "Prob(Omnibus):                  0.000   Jarque-Bera (JB):              871.392\n",
      "Skew:                           0.691   Prob(JB):                    6.02e-190\n",
      "Kurtosis:                       4.203   Cond. No.                     2.18e+04\n",
      "==============================================================================\n",
      "\n",
      "Notes:\n",
      "[1] Standard Errors assume that the covariance matrix of the errors is correctly specified.\n",
      "[2] The condition number is large, 2.18e+04. This might indicate that there are\n",
      "strong multicollinearity or other numerical problems.\n"
     ]
    }
   ],
   "source": [
    "# Summary of the model\n",
    "print(model_2.summary())"
   ]
  },
  {
   "cell_type": "markdown",
   "metadata": {},
   "source": [
    "R-squared and Adj. R squared has increased for the model, but we can still improvise over it so let's add more features"
   ]
  },
  {
   "cell_type": "markdown",
   "metadata": {},
   "source": [
    "### Building model with 3 variable"
   ]
  },
  {
   "cell_type": "code",
   "execution_count": 63,
   "metadata": {},
   "outputs": [],
   "source": [
    "# Adding one more feature in regression model\n",
    "X_train3 = X_train_G[['BVHH','CodGOR', 'RightDistance']]"
   ]
  },
  {
   "cell_type": "code",
   "execution_count": 64,
   "metadata": {},
   "outputs": [],
   "source": [
    "# Add a constant\n",
    "X_train3 = sm.add_constant(X_train3)\n",
    "\n",
    "# Create third fitted model\n",
    "model_3 = sm.OLS(y_train_G, X_train3).fit()"
   ]
  },
  {
   "cell_type": "code",
   "execution_count": 65,
   "metadata": {},
   "outputs": [
    {
     "data": {
      "text/plain": [
       "const            25.526044\n",
       "BVHH             30.434331\n",
       "CodGOR            0.011603\n",
       "RightDistance    11.040680\n",
       "dtype: float64"
      ]
     },
     "execution_count": 65,
     "metadata": {},
     "output_type": "execute_result"
    }
   ],
   "source": [
    "# Check parameters created\n",
    "model_3.params"
   ]
  },
  {
   "cell_type": "code",
   "execution_count": 66,
   "metadata": {},
   "outputs": [
    {
     "name": "stdout",
     "output_type": "stream",
     "text": [
      "                            OLS Regression Results                            \n",
      "==============================================================================\n",
      "Dep. Variable:       NormalizedGasEUR   R-squared:                       0.473\n",
      "Model:                            OLS   Adj. R-squared:                  0.473\n",
      "Method:                 Least Squares   F-statistic:                     1862.\n",
      "Date:                Sat, 17 Dec 2022   Prob (F-statistic):               0.00\n",
      "Time:                        23:06:06   Log-Likelihood:                -32979.\n",
      "No. Observations:                6225   AIC:                         6.597e+04\n",
      "Df Residuals:                    6221   BIC:                         6.599e+04\n",
      "Df Model:                           3                                         \n",
      "Covariance Type:            nonrobust                                         \n",
      "=================================================================================\n",
      "                    coef    std err          t      P>|t|      [0.025      0.975]\n",
      "---------------------------------------------------------------------------------\n",
      "const            25.5260      2.112     12.089      0.000      21.387      29.665\n",
      "BVHH             30.4343      1.965     15.485      0.000      26.581      34.287\n",
      "CodGOR            0.0116      0.000     60.424      0.000       0.011       0.012\n",
      "RightDistance    11.0407      1.457      7.577      0.000       8.184      13.897\n",
      "==============================================================================\n",
      "Omnibus:                      612.612   Durbin-Watson:                   1.982\n",
      "Prob(Omnibus):                  0.000   Jarque-Bera (JB):              978.441\n",
      "Skew:                           0.720   Prob(JB):                    3.42e-213\n",
      "Kurtosis:                       4.303   Cond. No.                     2.21e+04\n",
      "==============================================================================\n",
      "\n",
      "Notes:\n",
      "[1] Standard Errors assume that the covariance matrix of the errors is correctly specified.\n",
      "[2] The condition number is large, 2.21e+04. This might indicate that there are\n",
      "strong multicollinearity or other numerical problems.\n"
     ]
    }
   ],
   "source": [
    "# Summary of the model\n",
    "print(model_3.summary())"
   ]
  },
  {
   "cell_type": "markdown",
   "metadata": {},
   "source": [
    "### Building model with 4 variable"
   ]
  },
  {
   "cell_type": "code",
   "execution_count": 67,
   "metadata": {},
   "outputs": [],
   "source": [
    "# Adding one more feature in regression model\n",
    "X_train4 = X_train_G[['BVHH','CodGOR', 'RightDistance','NioGOR']]"
   ]
  },
  {
   "cell_type": "code",
   "execution_count": 68,
   "metadata": {},
   "outputs": [],
   "source": [
    "# Add a constant\n",
    "X_train4 = sm.add_constant(X_train4)"
   ]
  },
  {
   "cell_type": "code",
   "execution_count": 69,
   "metadata": {},
   "outputs": [],
   "source": [
    "# Create third fitted model\n",
    "model_4 = sm.OLS(y_train_G, X_train4).fit()"
   ]
  },
  {
   "cell_type": "code",
   "execution_count": 70,
   "metadata": {},
   "outputs": [
    {
     "data": {
      "text/plain": [
       "const            24.851888\n",
       "BVHH             30.649603\n",
       "CodGOR            0.011499\n",
       "RightDistance    11.024859\n",
       "NioGOR            0.000185\n",
       "dtype: float64"
      ]
     },
     "execution_count": 70,
     "metadata": {},
     "output_type": "execute_result"
    }
   ],
   "source": [
    "# Check parameters created\n",
    "model_4.params"
   ]
  },
  {
   "cell_type": "code",
   "execution_count": 71,
   "metadata": {},
   "outputs": [
    {
     "name": "stdout",
     "output_type": "stream",
     "text": [
      "                            OLS Regression Results                            \n",
      "==============================================================================\n",
      "Dep. Variable:       NormalizedGasEUR   R-squared:                       0.474\n",
      "Model:                            OLS   Adj. R-squared:                  0.474\n",
      "Method:                 Least Squares   F-statistic:                     1402.\n",
      "Date:                Sat, 17 Dec 2022   Prob (F-statistic):               0.00\n",
      "Time:                        23:06:06   Log-Likelihood:                -32974.\n",
      "No. Observations:                6225   AIC:                         6.596e+04\n",
      "Df Residuals:                    6220   BIC:                         6.599e+04\n",
      "Df Model:                           4                                         \n",
      "Covariance Type:            nonrobust                                         \n",
      "=================================================================================\n",
      "                    coef    std err          t      P>|t|      [0.025      0.975]\n",
      "---------------------------------------------------------------------------------\n",
      "const            24.8519      2.119     11.728      0.000      20.698      29.006\n",
      "BVHH             30.6496      1.965     15.600      0.000      26.798      34.501\n",
      "CodGOR            0.0115      0.000     59.195      0.000       0.011       0.012\n",
      "RightDistance    11.0249      1.456      7.572      0.000       8.171      13.879\n",
      "NioGOR            0.0002   5.44e-05      3.401      0.001    7.84e-05       0.000\n",
      "==============================================================================\n",
      "Omnibus:                      616.734   Durbin-Watson:                   1.982\n",
      "Prob(Omnibus):                  0.000   Jarque-Bera (JB):              987.796\n",
      "Skew:                           0.723   Prob(JB):                    3.18e-215\n",
      "Kurtosis:                       4.311   Cond. No.                     5.54e+04\n",
      "==============================================================================\n",
      "\n",
      "Notes:\n",
      "[1] Standard Errors assume that the covariance matrix of the errors is correctly specified.\n",
      "[2] The condition number is large, 5.54e+04. This might indicate that there are\n",
      "strong multicollinearity or other numerical problems.\n"
     ]
    }
   ],
   "source": [
    "# Summary of the model\n",
    "print(model_4.summary())"
   ]
  },
  {
   "cell_type": "markdown",
   "metadata": {},
   "source": [
    "### Building model with 5 variable"
   ]
  },
  {
   "cell_type": "code",
   "execution_count": 72,
   "metadata": {},
   "outputs": [],
   "source": [
    "# Adding one more feature in regression model\n",
    "X_train5 = X_train_G[['BVHH','CodGOR', 'RightDistance','NioGOR', 'TVD']]"
   ]
  },
  {
   "cell_type": "code",
   "execution_count": 73,
   "metadata": {},
   "outputs": [],
   "source": [
    "# Add a constant\n",
    "X_train5 = sm.add_constant(X_train5)"
   ]
  },
  {
   "cell_type": "code",
   "execution_count": 74,
   "metadata": {},
   "outputs": [],
   "source": [
    "# Create third fitted model\n",
    "model_5 = sm.OLS(y_train_G, X_train5).fit()"
   ]
  },
  {
   "cell_type": "code",
   "execution_count": 75,
   "metadata": {},
   "outputs": [
    {
     "data": {
      "text/plain": [
       "const            21.896784\n",
       "BVHH             30.503843\n",
       "CodGOR            0.011492\n",
       "RightDistance    11.092960\n",
       "NioGOR            0.000187\n",
       "TVD               0.000437\n",
       "dtype: float64"
      ]
     },
     "execution_count": 75,
     "metadata": {},
     "output_type": "execute_result"
    }
   ],
   "source": [
    "# Check parameters created\n",
    "model_5.params"
   ]
  },
  {
   "cell_type": "code",
   "execution_count": 76,
   "metadata": {},
   "outputs": [
    {
     "name": "stdout",
     "output_type": "stream",
     "text": [
      "                            OLS Regression Results                            \n",
      "==============================================================================\n",
      "Dep. Variable:       NormalizedGasEUR   R-squared:                       0.474\n",
      "Model:                            OLS   Adj. R-squared:                  0.474\n",
      "Method:                 Least Squares   F-statistic:                     1121.\n",
      "Date:                Sat, 17 Dec 2022   Prob (F-statistic):               0.00\n",
      "Time:                        23:06:06   Log-Likelihood:                -32974.\n",
      "No. Observations:                6225   AIC:                         6.596e+04\n",
      "Df Residuals:                    6219   BIC:                         6.600e+04\n",
      "Df Model:                           5                                         \n",
      "Covariance Type:            nonrobust                                         \n",
      "=================================================================================\n",
      "                    coef    std err          t      P>|t|      [0.025      0.975]\n",
      "---------------------------------------------------------------------------------\n",
      "const            21.8968      7.203      3.040      0.002       7.777      36.017\n",
      "BVHH             30.5038      1.994     15.298      0.000      26.595      34.413\n",
      "CodGOR            0.0115      0.000     58.963      0.000       0.011       0.012\n",
      "RightDistance    11.0930      1.465      7.574      0.000       8.222      13.964\n",
      "NioGOR            0.0002   5.47e-05      3.426      0.001    8.01e-05       0.000\n",
      "TVD               0.0004      0.001      0.429      0.668      -0.002       0.002\n",
      "==============================================================================\n",
      "Omnibus:                      612.920   Durbin-Watson:                   1.982\n",
      "Prob(Omnibus):                  0.000   Jarque-Bera (JB):              980.856\n",
      "Skew:                           0.720   Prob(JB):                    1.02e-213\n",
      "Kurtosis:                       4.308   Cond. No.                     1.51e+05\n",
      "==============================================================================\n",
      "\n",
      "Notes:\n",
      "[1] Standard Errors assume that the covariance matrix of the errors is correctly specified.\n",
      "[2] The condition number is large, 1.51e+05. This might indicate that there are\n",
      "strong multicollinearity or other numerical problems.\n"
     ]
    }
   ],
   "source": [
    "# Summary of the model\n",
    "print(model_5.summary())"
   ]
  },
  {
   "cell_type": "markdown",
   "metadata": {},
   "source": [
    "### Building model with 6 variable"
   ]
  },
  {
   "cell_type": "code",
   "execution_count": 77,
   "metadata": {},
   "outputs": [],
   "source": [
    "# Adding one more feature in regression model\n",
    "X_train6 = X_train_G[['BVHH','CodGOR', 'RightDistance','NioGOR','LateralLength']]"
   ]
  },
  {
   "cell_type": "code",
   "execution_count": 78,
   "metadata": {},
   "outputs": [],
   "source": [
    "# Add a constant\n",
    "X_train6 = sm.add_constant(X_train6)"
   ]
  },
  {
   "cell_type": "code",
   "execution_count": 79,
   "metadata": {},
   "outputs": [],
   "source": [
    "# Create third fitted model\n",
    "model_6 = sm.OLS(y_train_G, X_train6).fit()"
   ]
  },
  {
   "cell_type": "code",
   "execution_count": 80,
   "metadata": {},
   "outputs": [
    {
     "data": {
      "text/plain": [
       "const            28.353203\n",
       "BVHH             31.050180\n",
       "CodGOR            0.011459\n",
       "RightDistance    11.083100\n",
       "NioGOR            0.000186\n",
       "LateralLength    -0.000553\n",
       "dtype: float64"
      ]
     },
     "execution_count": 80,
     "metadata": {},
     "output_type": "execute_result"
    }
   ],
   "source": [
    "# Check parameters created\n",
    "model_6.params"
   ]
  },
  {
   "cell_type": "code",
   "execution_count": 81,
   "metadata": {},
   "outputs": [
    {
     "name": "stdout",
     "output_type": "stream",
     "text": [
      "                            OLS Regression Results                            \n",
      "==============================================================================\n",
      "Dep. Variable:       NormalizedGasEUR   R-squared:                       0.475\n",
      "Model:                            OLS   Adj. R-squared:                  0.474\n",
      "Method:                 Least Squares   F-statistic:                     1123.\n",
      "Date:                Sat, 17 Dec 2022   Prob (F-statistic):               0.00\n",
      "Time:                        23:06:06   Log-Likelihood:                -32971.\n",
      "No. Observations:                6225   AIC:                         6.595e+04\n",
      "Df Residuals:                    6219   BIC:                         6.599e+04\n",
      "Df Model:                           5                                         \n",
      "Covariance Type:            nonrobust                                         \n",
      "=================================================================================\n",
      "                    coef    std err          t      P>|t|      [0.025      0.975]\n",
      "---------------------------------------------------------------------------------\n",
      "const            28.3532      2.585     10.967      0.000      23.285      33.421\n",
      "BVHH             31.0502      1.971     15.751      0.000      27.186      34.915\n",
      "CodGOR            0.0115      0.000     58.779      0.000       0.011       0.012\n",
      "RightDistance    11.0831      1.456      7.614      0.000       8.230      13.937\n",
      "NioGOR            0.0002   5.44e-05      3.417      0.001    7.93e-05       0.000\n",
      "LateralLength    -0.0006      0.000     -2.362      0.018      -0.001   -9.42e-05\n",
      "==============================================================================\n",
      "Omnibus:                      621.195   Durbin-Watson:                   1.982\n",
      "Prob(Omnibus):                  0.000   Jarque-Bera (JB):              999.436\n",
      "Skew:                           0.725   Prob(JB):                    9.44e-218\n",
      "Kurtosis:                       4.323   Cond. No.                     6.17e+04\n",
      "==============================================================================\n",
      "\n",
      "Notes:\n",
      "[1] Standard Errors assume that the covariance matrix of the errors is correctly specified.\n",
      "[2] The condition number is large, 6.17e+04. This might indicate that there are\n",
      "strong multicollinearity or other numerical problems.\n"
     ]
    }
   ],
   "source": [
    "# Summary of the model\n",
    "print(model_6.summary())"
   ]
  },
  {
   "cell_type": "markdown",
   "metadata": {},
   "source": [
    "- we add one feature by one to get better model score with no collinearity between x features and more impact with y feature .\n",
    "- so after adding the five x feature we get multicollinearity with greater R-squared but we can allow multicollinearity . "
   ]
  },
  {
   "cell_type": "markdown",
   "metadata": {},
   "source": [
    "## Approach 2 : RFE and eleminating by using p-value and VIF"
   ]
  },
  {
   "cell_type": "markdown",
   "metadata": {},
   "source": [
    "###  NormalizedOilEUR"
   ]
  },
  {
   "cell_type": "code",
   "execution_count": 82,
   "metadata": {
    "scrolled": true
   },
   "outputs": [
    {
     "name": "stderr",
     "output_type": "stream",
     "text": [
      "C:\\Users\\decim\\anaconda3\\lib\\site-packages\\sklearn\\utils\\validation.py:70: FutureWarning: Pass n_features_to_select=15 as keyword args. From version 1.0 (renaming of 0.25) passing these as positional arguments will result in an error\n",
      "  warnings.warn(f\"Pass {args_msg} as keyword args. From version \"\n"
     ]
    }
   ],
   "source": [
    "# Running RFE with important column count to be 15\n",
    "lm = LinearRegression()\n",
    "lm.fit(X_train_O, y_train_O)\n",
    "\n",
    "rfe = RFE(lm, 15)             \n",
    "rfe = rfe.fit(X_train_O, y_train_O)"
   ]
  },
  {
   "cell_type": "code",
   "execution_count": 83,
   "metadata": {},
   "outputs": [
    {
     "data": {
      "text/plain": [
       "[('BVHH', True, 1),\n",
       " ('FormationAlias', True, 1),\n",
       " ('NioGOR', True, 1),\n",
       " ('CodGOR', True, 1),\n",
       " ('LateralLength', True, 1),\n",
       " ('ProppantPerFoot', True, 1),\n",
       " ('FluidPerFoot', True, 1),\n",
       " ('LeftDistance', True, 1),\n",
       " ('LeftNeighbourType', True, 1),\n",
       " ('RightDistance', True, 1),\n",
       " ('RightNeighbourType', True, 1),\n",
       " ('TVD', True, 1)]"
      ]
     },
     "execution_count": 83,
     "metadata": {},
     "output_type": "execute_result"
    }
   ],
   "source": [
    "list(zip(X_train_O.columns,rfe.support_,rfe.ranking_))"
   ]
  },
  {
   "cell_type": "code",
   "execution_count": 84,
   "metadata": {},
   "outputs": [
    {
     "data": {
      "text/plain": [
       "Index(['BVHH', 'FormationAlias', 'NioGOR', 'CodGOR', 'LateralLength',\n",
       "       'ProppantPerFoot', 'FluidPerFoot', 'LeftDistance', 'LeftNeighbourType',\n",
       "       'RightDistance', 'RightNeighbourType', 'TVD'],\n",
       "      dtype='object')"
      ]
     },
     "execution_count": 84,
     "metadata": {},
     "output_type": "execute_result"
    }
   ],
   "source": [
    "# Selecting the important features (in the support)\n",
    "imp_columns = X_train_O.columns[rfe.support_]\n",
    "imp_columns"
   ]
  },
  {
   "cell_type": "code",
   "execution_count": 85,
   "metadata": {},
   "outputs": [],
   "source": [
    "# Creating X_train dataframe with RFE selected variables\n",
    "X_train_rfe = X_train_O[imp_columns]"
   ]
  },
  {
   "cell_type": "markdown",
   "metadata": {},
   "source": [
    "After passing the arbitary selected columns by RFE we will manually evaluate each models p-value and VIF value.\n",
    "Unless we find the acceptable range for p-values and VIF we keep dropping the variables one at a time based on below criteria.\n",
    "- High p-value High VIF : Drop the variable\n",
    "- High p-value Low VIF  : Drop the variable with high p-value first\n",
    "- Low p-value Low VIF : accept the variable"
   ]
  },
  {
   "cell_type": "markdown",
   "metadata": {},
   "source": [
    "### Checking VIF\n",
    "\n",
    "Variance Inflation Factor or VIF, gives a basic quantitative idea about how much the feature variables are correlated with each other. It is an extremely important parameter to test our linear model. The formula for calculating `VIF` is:\n",
    "\n",
    "### $ VIF_i = \\frac{1}{1 - {R_i}^2} $"
   ]
  },
  {
   "cell_type": "code",
   "execution_count": 86,
   "metadata": {},
   "outputs": [
    {
     "name": "stdout",
     "output_type": "stream",
     "text": [
      "                            OLS Regression Results                            \n",
      "==============================================================================\n",
      "Dep. Variable:       NormalizedOilEUR   R-squared:                       0.104\n",
      "Model:                            OLS   Adj. R-squared:                  0.103\n",
      "Method:                 Least Squares   F-statistic:                     60.38\n",
      "Date:                Sat, 17 Dec 2022   Prob (F-statistic):          4.76e-139\n",
      "Time:                        23:06:06   Log-Likelihood:                -21613.\n",
      "No. Observations:                6225   AIC:                         4.325e+04\n",
      "Df Residuals:                    6212   BIC:                         4.334e+04\n",
      "Df Model:                          12                                         \n",
      "Covariance Type:            nonrobust                                         \n",
      "======================================================================================\n",
      "                         coef    std err          t      P>|t|      [0.025      0.975]\n",
      "--------------------------------------------------------------------------------------\n",
      "const                 27.3840      1.448     18.908      0.000      24.545      30.223\n",
      "BVHH                   3.9447      0.346     11.405      0.000       3.267       4.623\n",
      "FormationAlias        -2.3853      0.273     -8.752      0.000      -2.920      -1.851\n",
      "NioGOR              -1.69e-05   8.83e-06     -1.915      0.056   -3.42e-05    4.04e-07\n",
      "CodGOR                -0.0004   3.19e-05    -11.206      0.000      -0.000      -0.000\n",
      "LateralLength         -0.0003   3.96e-05     -8.280      0.000      -0.000      -0.000\n",
      "ProppantPerFoot        0.0022      0.000     10.278      0.000       0.002       0.003\n",
      "FluidPerFoot           0.0020      0.000     11.470      0.000       0.002       0.002\n",
      "LeftDistance          -0.5892      0.293     -2.013      0.044      -1.163      -0.015\n",
      "LeftNeighbourType     -0.0500      0.184     -0.272      0.786      -0.410       0.311\n",
      "RightDistance         -0.4289      0.292     -1.467      0.142      -1.002       0.144\n",
      "RightNeighbourType     0.1492      0.184      0.812      0.417      -0.211       0.509\n",
      "TVD                   -0.0015      0.000     -7.629      0.000      -0.002      -0.001\n",
      "==============================================================================\n",
      "Omnibus:                     1800.180   Durbin-Watson:                   1.977\n",
      "Prob(Omnibus):                  0.000   Jarque-Bera (JB):            10960.032\n",
      "Skew:                           1.242   Prob(JB):                         0.00\n",
      "Kurtosis:                       9.007   Cond. No.                     2.01e+05\n",
      "==============================================================================\n",
      "\n",
      "Notes:\n",
      "[1] Standard Errors assume that the covariance matrix of the errors is correctly specified.\n",
      "[2] The condition number is large, 2.01e+05. This might indicate that there are\n",
      "strong multicollinearity or other numerical problems.\n"
     ]
    }
   ],
   "source": [
    "random.seed(0)\n",
    "\n",
    "# Add a constant\n",
    "X_train_rfec = sm.add_constant(X_train_rfe)\n",
    "\n",
    "# Build the model with RFE features\n",
    "lm_rfe = sm.OLS(y_train_O,X_train_rfec).fit()\n",
    "\n",
    "#Summary of linear model\n",
    "print(lm_rfe.summary())"
   ]
  },
  {
   "cell_type": "markdown",
   "metadata": {},
   "source": [
    "Since the p value for few of the features is not siginificant, we need to drop it but before that let's check the VIF score as well"
   ]
  },
  {
   "cell_type": "code",
   "execution_count": 87,
   "metadata": {},
   "outputs": [
    {
     "data": {
      "text/html": [
       "<div>\n",
       "<style scoped>\n",
       "    .dataframe tbody tr th:only-of-type {\n",
       "        vertical-align: middle;\n",
       "    }\n",
       "\n",
       "    .dataframe tbody tr th {\n",
       "        vertical-align: top;\n",
       "    }\n",
       "\n",
       "    .dataframe thead th {\n",
       "        text-align: right;\n",
       "    }\n",
       "</style>\n",
       "<table border=\"1\" class=\"dataframe\">\n",
       "  <thead>\n",
       "    <tr style=\"text-align: right;\">\n",
       "      <th></th>\n",
       "      <th>Features</th>\n",
       "      <th>VIF</th>\n",
       "    </tr>\n",
       "  </thead>\n",
       "  <tbody>\n",
       "    <tr>\n",
       "      <th>11</th>\n",
       "      <td>TVD</td>\n",
       "      <td>27.05</td>\n",
       "    </tr>\n",
       "    <tr>\n",
       "      <th>0</th>\n",
       "      <td>BVHH</td>\n",
       "      <td>13.96</td>\n",
       "    </tr>\n",
       "    <tr>\n",
       "      <th>4</th>\n",
       "      <td>LateralLength</td>\n",
       "      <td>8.73</td>\n",
       "    </tr>\n",
       "    <tr>\n",
       "      <th>7</th>\n",
       "      <td>LeftDistance</td>\n",
       "      <td>6.50</td>\n",
       "    </tr>\n",
       "    <tr>\n",
       "      <th>9</th>\n",
       "      <td>RightDistance</td>\n",
       "      <td>6.45</td>\n",
       "    </tr>\n",
       "    <tr>\n",
       "      <th>5</th>\n",
       "      <td>ProppantPerFoot</td>\n",
       "      <td>5.79</td>\n",
       "    </tr>\n",
       "    <tr>\n",
       "      <th>6</th>\n",
       "      <td>FluidPerFoot</td>\n",
       "      <td>4.38</td>\n",
       "    </tr>\n",
       "    <tr>\n",
       "      <th>1</th>\n",
       "      <td>FormationAlias</td>\n",
       "      <td>4.30</td>\n",
       "    </tr>\n",
       "    <tr>\n",
       "      <th>3</th>\n",
       "      <td>CodGOR</td>\n",
       "      <td>2.59</td>\n",
       "    </tr>\n",
       "    <tr>\n",
       "      <th>8</th>\n",
       "      <td>LeftNeighbourType</td>\n",
       "      <td>1.93</td>\n",
       "    </tr>\n",
       "    <tr>\n",
       "      <th>10</th>\n",
       "      <td>RightNeighbourType</td>\n",
       "      <td>1.92</td>\n",
       "    </tr>\n",
       "    <tr>\n",
       "      <th>2</th>\n",
       "      <td>NioGOR</td>\n",
       "      <td>1.19</td>\n",
       "    </tr>\n",
       "  </tbody>\n",
       "</table>\n",
       "</div>"
      ],
      "text/plain": [
       "              Features    VIF\n",
       "11                 TVD  27.05\n",
       "0                 BVHH  13.96\n",
       "4        LateralLength   8.73\n",
       "7         LeftDistance   6.50\n",
       "9        RightDistance   6.45\n",
       "5      ProppantPerFoot   5.79\n",
       "6         FluidPerFoot   4.38\n",
       "1       FormationAlias   4.30\n",
       "3               CodGOR   2.59\n",
       "8    LeftNeighbourType   1.93\n",
       "10  RightNeighbourType   1.92\n",
       "2               NioGOR   1.19"
      ]
     },
     "execution_count": 87,
     "metadata": {},
     "output_type": "execute_result"
    }
   ],
   "source": [
    "# Create a dataframe that will contain the names of all the feature variables and their respective VIFs\n",
    "vif = pd.DataFrame()\n",
    "vif['Features'] = X_train_rfe.columns\n",
    "vif['VIF'] = [variance_inflation_factor(X_train_rfe.values, i) for i in range(X_train_rfe.shape[1])]\n",
    "vif['VIF'] = round(vif['VIF'], 2)\n",
    "vif = vif.sort_values(by = \"VIF\", ascending = False)\n",
    "vif"
   ]
  },
  {
   "cell_type": "markdown",
   "metadata": {},
   "source": [
    "Since the variable **LeftNeighbourType** is having a very high p value , we would remove the feature from training dataset"
   ]
  },
  {
   "cell_type": "code",
   "execution_count": 88,
   "metadata": {},
   "outputs": [
    {
     "name": "stdout",
     "output_type": "stream",
     "text": [
      "                            OLS Regression Results                            \n",
      "==============================================================================\n",
      "Dep. Variable:       NormalizedOilEUR   R-squared:                       0.104\n",
      "Model:                            OLS   Adj. R-squared:                  0.103\n",
      "Method:                 Least Squares   F-statistic:                     65.87\n",
      "Date:                Sat, 17 Dec 2022   Prob (F-statistic):          5.94e-140\n",
      "Time:                        23:06:06   Log-Likelihood:                -21613.\n",
      "No. Observations:                6225   AIC:                         4.325e+04\n",
      "Df Residuals:                    6213   BIC:                         4.333e+04\n",
      "Df Model:                          11                                         \n",
      "Covariance Type:            nonrobust                                         \n",
      "======================================================================================\n",
      "                         coef    std err          t      P>|t|      [0.025      0.975]\n",
      "--------------------------------------------------------------------------------------\n",
      "const                 27.3370      1.438     19.013      0.000      24.518      30.156\n",
      "BVHH                   3.9471      0.346     11.417      0.000       3.269       4.625\n",
      "FormationAlias        -2.3840      0.272     -8.749      0.000      -2.918      -1.850\n",
      "NioGOR             -1.689e-05   8.83e-06     -1.913      0.056   -3.42e-05    4.15e-07\n",
      "CodGOR                -0.0004   3.19e-05    -11.204      0.000      -0.000      -0.000\n",
      "LateralLength         -0.0003   3.96e-05     -8.278      0.000      -0.000      -0.000\n",
      "ProppantPerFoot        0.0022      0.000     10.276      0.000       0.002       0.003\n",
      "FluidPerFoot           0.0020      0.000     11.474      0.000       0.002       0.002\n",
      "LeftDistance          -0.5503      0.255     -2.156      0.031      -1.051      -0.050\n",
      "RightDistance         -0.4323      0.292     -1.480      0.139      -1.005       0.140\n",
      "RightNeighbourType     0.1462      0.183      0.797      0.425      -0.213       0.506\n",
      "TVD                   -0.0015      0.000     -7.633      0.000      -0.002      -0.001\n",
      "==============================================================================\n",
      "Omnibus:                     1799.529   Durbin-Watson:                   1.977\n",
      "Prob(Omnibus):                  0.000   Jarque-Bera (JB):            10954.357\n",
      "Skew:                           1.242   Prob(JB):                         0.00\n",
      "Kurtosis:                       9.006   Cond. No.                     2.00e+05\n",
      "==============================================================================\n",
      "\n",
      "Notes:\n",
      "[1] Standard Errors assume that the covariance matrix of the errors is correctly specified.\n",
      "[2] The condition number is large,  2e+05. This might indicate that there are\n",
      "strong multicollinearity or other numerical problems.\n"
     ]
    },
    {
     "name": "stderr",
     "output_type": "stream",
     "text": [
      "C:\\Users\\decim\\AppData\\Local\\Temp\\ipykernel_6740\\3594145589.py:3: FutureWarning: In a future version of pandas all arguments of DataFrame.drop except for the argument 'labels' will be keyword-only.\n",
      "  X_train_rfe1 = X_train_rfe.drop(['LeftNeighbourType'], 1,)\n"
     ]
    }
   ],
   "source": [
    "# Dropping insignificant variables\n",
    "\n",
    "X_train_rfe1 = X_train_rfe.drop(['LeftNeighbourType'], 1,)\n",
    "\n",
    "# Adding a constant variable and Build a second fitted model\n",
    "\n",
    "X_train_rfe1c = sm.add_constant(X_train_rfe1)\n",
    "lm_rfe1 = sm.OLS(y_train_O, X_train_rfe1c).fit()\n",
    "\n",
    "#Summary of linear model\n",
    "print(lm_rfe1.summary())"
   ]
  },
  {
   "cell_type": "code",
   "execution_count": 89,
   "metadata": {},
   "outputs": [
    {
     "data": {
      "text/html": [
       "<div>\n",
       "<style scoped>\n",
       "    .dataframe tbody tr th:only-of-type {\n",
       "        vertical-align: middle;\n",
       "    }\n",
       "\n",
       "    .dataframe tbody tr th {\n",
       "        vertical-align: top;\n",
       "    }\n",
       "\n",
       "    .dataframe thead th {\n",
       "        text-align: right;\n",
       "    }\n",
       "</style>\n",
       "<table border=\"1\" class=\"dataframe\">\n",
       "  <thead>\n",
       "    <tr style=\"text-align: right;\">\n",
       "      <th></th>\n",
       "      <th>Features</th>\n",
       "      <th>VIF</th>\n",
       "    </tr>\n",
       "  </thead>\n",
       "  <tbody>\n",
       "    <tr>\n",
       "      <th>10</th>\n",
       "      <td>TVD</td>\n",
       "      <td>24.11</td>\n",
       "    </tr>\n",
       "    <tr>\n",
       "      <th>0</th>\n",
       "      <td>BVHH</td>\n",
       "      <td>13.93</td>\n",
       "    </tr>\n",
       "    <tr>\n",
       "      <th>4</th>\n",
       "      <td>LateralLength</td>\n",
       "      <td>8.73</td>\n",
       "    </tr>\n",
       "    <tr>\n",
       "      <th>8</th>\n",
       "      <td>RightDistance</td>\n",
       "      <td>6.43</td>\n",
       "    </tr>\n",
       "    <tr>\n",
       "      <th>5</th>\n",
       "      <td>ProppantPerFoot</td>\n",
       "      <td>5.78</td>\n",
       "    </tr>\n",
       "    <tr>\n",
       "      <th>7</th>\n",
       "      <td>LeftDistance</td>\n",
       "      <td>5.00</td>\n",
       "    </tr>\n",
       "    <tr>\n",
       "      <th>6</th>\n",
       "      <td>FluidPerFoot</td>\n",
       "      <td>4.38</td>\n",
       "    </tr>\n",
       "    <tr>\n",
       "      <th>1</th>\n",
       "      <td>FormationAlias</td>\n",
       "      <td>4.29</td>\n",
       "    </tr>\n",
       "    <tr>\n",
       "      <th>3</th>\n",
       "      <td>CodGOR</td>\n",
       "      <td>2.58</td>\n",
       "    </tr>\n",
       "    <tr>\n",
       "      <th>9</th>\n",
       "      <td>RightNeighbourType</td>\n",
       "      <td>1.91</td>\n",
       "    </tr>\n",
       "    <tr>\n",
       "      <th>2</th>\n",
       "      <td>NioGOR</td>\n",
       "      <td>1.19</td>\n",
       "    </tr>\n",
       "  </tbody>\n",
       "</table>\n",
       "</div>"
      ],
      "text/plain": [
       "              Features    VIF\n",
       "10                 TVD  24.11\n",
       "0                 BVHH  13.93\n",
       "4        LateralLength   8.73\n",
       "8        RightDistance   6.43\n",
       "5      ProppantPerFoot   5.78\n",
       "7         LeftDistance   5.00\n",
       "6         FluidPerFoot   4.38\n",
       "1       FormationAlias   4.29\n",
       "3               CodGOR   2.58\n",
       "9   RightNeighbourType   1.91\n",
       "2               NioGOR   1.19"
      ]
     },
     "execution_count": 89,
     "metadata": {},
     "output_type": "execute_result"
    }
   ],
   "source": [
    "# Create a dataframe that will contain the names of all the feature variables and their respective VIFs\n",
    "vif = pd.DataFrame()\n",
    "vif['Features'] = X_train_rfe1.columns\n",
    "vif['VIF'] = [variance_inflation_factor(X_train_rfe1.values, i) for i in range(X_train_rfe1.shape[1])]\n",
    "vif['VIF'] = round(vif['VIF'], 2)\n",
    "vif = vif.sort_values(by = \"VIF\", ascending = False)\n",
    "vif"
   ]
  },
  {
   "cell_type": "markdown",
   "metadata": {},
   "source": [
    "Since the variable `TVD` is having a very high VIF score, we would remove the feature from training dataset"
   ]
  },
  {
   "cell_type": "code",
   "execution_count": 90,
   "metadata": {},
   "outputs": [
    {
     "name": "stdout",
     "output_type": "stream",
     "text": [
      "                            OLS Regression Results                            \n",
      "==============================================================================\n",
      "Dep. Variable:       NormalizedOilEUR   R-squared:                       0.096\n",
      "Model:                            OLS   Adj. R-squared:                  0.095\n",
      "Method:                 Least Squares   F-statistic:                     66.02\n",
      "Date:                Sat, 17 Dec 2022   Prob (F-statistic):          1.91e-128\n",
      "Time:                        23:06:07   Log-Likelihood:                -21642.\n",
      "No. Observations:                6225   AIC:                         4.331e+04\n",
      "Df Residuals:                    6214   BIC:                         4.338e+04\n",
      "Df Model:                          10                                         \n",
      "Covariance Type:            nonrobust                                         \n",
      "======================================================================================\n",
      "                         coef    std err          t      P>|t|      [0.025      0.975]\n",
      "--------------------------------------------------------------------------------------\n",
      "const                 17.0711      0.511     33.421      0.000      16.070      18.072\n",
      "BVHH                   3.1383      0.331      9.493      0.000       2.490       3.786\n",
      "FormationAlias        -1.4024      0.241     -5.811      0.000      -1.876      -0.929\n",
      "NioGOR             -1.202e-05   8.85e-06     -1.359      0.174   -2.94e-05    5.32e-06\n",
      "CodGOR                -0.0004    3.2e-05    -11.601      0.000      -0.000      -0.000\n",
      "LateralLength         -0.0004    3.9e-05     -9.992      0.000      -0.000      -0.000\n",
      "ProppantPerFoot        0.0025      0.000     11.400      0.000       0.002       0.003\n",
      "FluidPerFoot           0.0019      0.000     11.128      0.000       0.002       0.002\n",
      "LeftDistance          -0.4326      0.256     -1.690      0.091      -0.934       0.069\n",
      "RightDistance         -0.2914      0.293     -0.995      0.320      -0.866       0.283\n",
      "RightNeighbourType     0.1688      0.184      0.917      0.359      -0.192       0.530\n",
      "==============================================================================\n",
      "Omnibus:                     1750.575   Durbin-Watson:                   1.972\n",
      "Prob(Omnibus):                  0.000   Jarque-Bera (JB):             9712.459\n",
      "Skew:                           1.233   Prob(JB):                         0.00\n",
      "Kurtosis:                       8.601   Cond. No.                     7.16e+04\n",
      "==============================================================================\n",
      "\n",
      "Notes:\n",
      "[1] Standard Errors assume that the covariance matrix of the errors is correctly specified.\n",
      "[2] The condition number is large, 7.16e+04. This might indicate that there are\n",
      "strong multicollinearity or other numerical problems.\n"
     ]
    },
    {
     "name": "stderr",
     "output_type": "stream",
     "text": [
      "C:\\Users\\decim\\AppData\\Local\\Temp\\ipykernel_6740\\2467747257.py:3: FutureWarning: In a future version of pandas all arguments of DataFrame.drop except for the argument 'labels' will be keyword-only.\n",
      "  X_train_rfe2 = X_train_rfe1.drop('TVD', 1,)\n"
     ]
    }
   ],
   "source": [
    "# Dropping insignificant variables\n",
    "\n",
    "X_train_rfe2 = X_train_rfe1.drop('TVD', 1,)\n",
    "\n",
    "# Adding a constant variable and Build a second fitted model\n",
    "\n",
    "X_train_rfe2c = sm.add_constant(X_train_rfe2)\n",
    "lm_rfe2 = sm.OLS(y_train_O, X_train_rfe2c).fit()\n",
    "\n",
    "#Summary of linear model\n",
    "print(lm_rfe2.summary())"
   ]
  },
  {
   "cell_type": "code",
   "execution_count": 91,
   "metadata": {},
   "outputs": [
    {
     "data": {
      "text/html": [
       "<div>\n",
       "<style scoped>\n",
       "    .dataframe tbody tr th:only-of-type {\n",
       "        vertical-align: middle;\n",
       "    }\n",
       "\n",
       "    .dataframe tbody tr th {\n",
       "        vertical-align: top;\n",
       "    }\n",
       "\n",
       "    .dataframe thead th {\n",
       "        text-align: right;\n",
       "    }\n",
       "</style>\n",
       "<table border=\"1\" class=\"dataframe\">\n",
       "  <thead>\n",
       "    <tr style=\"text-align: right;\">\n",
       "      <th></th>\n",
       "      <th>Features</th>\n",
       "      <th>VIF</th>\n",
       "    </tr>\n",
       "  </thead>\n",
       "  <tbody>\n",
       "    <tr>\n",
       "      <th>0</th>\n",
       "      <td>BVHH</td>\n",
       "      <td>10.86</td>\n",
       "    </tr>\n",
       "    <tr>\n",
       "      <th>4</th>\n",
       "      <td>LateralLength</td>\n",
       "      <td>6.91</td>\n",
       "    </tr>\n",
       "    <tr>\n",
       "      <th>8</th>\n",
       "      <td>RightDistance</td>\n",
       "      <td>5.86</td>\n",
       "    </tr>\n",
       "    <tr>\n",
       "      <th>5</th>\n",
       "      <td>ProppantPerFoot</td>\n",
       "      <td>5.64</td>\n",
       "    </tr>\n",
       "    <tr>\n",
       "      <th>7</th>\n",
       "      <td>LeftDistance</td>\n",
       "      <td>4.90</td>\n",
       "    </tr>\n",
       "    <tr>\n",
       "      <th>6</th>\n",
       "      <td>FluidPerFoot</td>\n",
       "      <td>4.30</td>\n",
       "    </tr>\n",
       "    <tr>\n",
       "      <th>1</th>\n",
       "      <td>FormationAlias</td>\n",
       "      <td>4.28</td>\n",
       "    </tr>\n",
       "    <tr>\n",
       "      <th>3</th>\n",
       "      <td>CodGOR</td>\n",
       "      <td>2.57</td>\n",
       "    </tr>\n",
       "    <tr>\n",
       "      <th>9</th>\n",
       "      <td>RightNeighbourType</td>\n",
       "      <td>1.63</td>\n",
       "    </tr>\n",
       "    <tr>\n",
       "      <th>2</th>\n",
       "      <td>NioGOR</td>\n",
       "      <td>1.19</td>\n",
       "    </tr>\n",
       "  </tbody>\n",
       "</table>\n",
       "</div>"
      ],
      "text/plain": [
       "             Features    VIF\n",
       "0                BVHH  10.86\n",
       "4       LateralLength   6.91\n",
       "8       RightDistance   5.86\n",
       "5     ProppantPerFoot   5.64\n",
       "7        LeftDistance   4.90\n",
       "6        FluidPerFoot   4.30\n",
       "1      FormationAlias   4.28\n",
       "3              CodGOR   2.57\n",
       "9  RightNeighbourType   1.63\n",
       "2              NioGOR   1.19"
      ]
     },
     "execution_count": 91,
     "metadata": {},
     "output_type": "execute_result"
    }
   ],
   "source": [
    "# Create a dataframe that will contain the names of all the feature variables and their respective VIFs\n",
    "vif = pd.DataFrame()\n",
    "vif['Features'] = X_train_rfe2.columns\n",
    "vif['VIF'] = [variance_inflation_factor(X_train_rfe2.values, i) for i in range(X_train_rfe2.shape[1])]\n",
    "vif['VIF'] = round(vif['VIF'], 2)\n",
    "vif = vif.sort_values(by = \"VIF\", ascending = False)\n",
    "vif"
   ]
  },
  {
   "cell_type": "markdown",
   "metadata": {},
   "source": [
    "Since the variable `RightNeighbourType` is having a very high p value, we would remove the feature from training dataset"
   ]
  },
  {
   "cell_type": "code",
   "execution_count": 92,
   "metadata": {},
   "outputs": [
    {
     "name": "stdout",
     "output_type": "stream",
     "text": [
      "                            OLS Regression Results                            \n",
      "==============================================================================\n",
      "Dep. Variable:       NormalizedOilEUR   R-squared:                       0.096\n",
      "Model:                            OLS   Adj. R-squared:                  0.095\n",
      "Method:                 Least Squares   F-statistic:                     73.26\n",
      "Date:                Sat, 17 Dec 2022   Prob (F-statistic):          3.29e-129\n",
      "Time:                        23:06:07   Log-Likelihood:                -21642.\n",
      "No. Observations:                6225   AIC:                         4.330e+04\n",
      "Df Residuals:                    6215   BIC:                         4.337e+04\n",
      "Df Model:                           9                                         \n",
      "Covariance Type:            nonrobust                                         \n",
      "===================================================================================\n",
      "                      coef    std err          t      P>|t|      [0.025      0.975]\n",
      "-----------------------------------------------------------------------------------\n",
      "const              17.2617      0.467     36.996      0.000      16.347      18.176\n",
      "BVHH                3.1288      0.330      9.469      0.000       2.481       3.777\n",
      "FormationAlias     -1.4114      0.241     -5.853      0.000      -1.884      -0.939\n",
      "NioGOR           -1.19e-05   8.84e-06     -1.346      0.178   -2.92e-05    5.43e-06\n",
      "CodGOR             -0.0004    3.2e-05    -11.665      0.000      -0.000      -0.000\n",
      "LateralLength      -0.0004    3.9e-05    -10.016      0.000      -0.000      -0.000\n",
      "ProppantPerFoot     0.0025      0.000     11.401      0.000       0.002       0.003\n",
      "FluidPerFoot        0.0019      0.000     11.133      0.000       0.002       0.002\n",
      "LeftDistance       -0.4291      0.256     -1.677      0.094      -0.931       0.073\n",
      "RightDistance      -0.4213      0.256     -1.643      0.100      -0.924       0.081\n",
      "==============================================================================\n",
      "Omnibus:                     1749.663   Durbin-Watson:                   1.971\n",
      "Prob(Omnibus):                  0.000   Jarque-Bera (JB):             9689.967\n",
      "Skew:                           1.233   Prob(JB):                         0.00\n",
      "Kurtosis:                       8.593   Cond. No.                     6.51e+04\n",
      "==============================================================================\n",
      "\n",
      "Notes:\n",
      "[1] Standard Errors assume that the covariance matrix of the errors is correctly specified.\n",
      "[2] The condition number is large, 6.51e+04. This might indicate that there are\n",
      "strong multicollinearity or other numerical problems.\n"
     ]
    },
    {
     "name": "stderr",
     "output_type": "stream",
     "text": [
      "C:\\Users\\decim\\AppData\\Local\\Temp\\ipykernel_6740\\406240263.py:3: FutureWarning: In a future version of pandas all arguments of DataFrame.drop except for the argument 'labels' will be keyword-only.\n",
      "  X_train_rfe3 = X_train_rfe2.drop('RightNeighbourType', 1,)\n"
     ]
    }
   ],
   "source": [
    "# Dropping insignificant variables\n",
    "\n",
    "X_train_rfe3 = X_train_rfe2.drop('RightNeighbourType', 1,)\n",
    "\n",
    "# Adding a constant variable and Build a second fitted model\n",
    "\n",
    "X_train_rfe3c = sm.add_constant(X_train_rfe3)\n",
    "lm_rfe3 = sm.OLS(y_train_O, X_train_rfe3c).fit()\n",
    "\n",
    "#Summary of linear model\n",
    "print(lm_rfe3.summary())"
   ]
  },
  {
   "cell_type": "code",
   "execution_count": 93,
   "metadata": {},
   "outputs": [
    {
     "data": {
      "text/html": [
       "<div>\n",
       "<style scoped>\n",
       "    .dataframe tbody tr th:only-of-type {\n",
       "        vertical-align: middle;\n",
       "    }\n",
       "\n",
       "    .dataframe tbody tr th {\n",
       "        vertical-align: top;\n",
       "    }\n",
       "\n",
       "    .dataframe thead th {\n",
       "        text-align: right;\n",
       "    }\n",
       "</style>\n",
       "<table border=\"1\" class=\"dataframe\">\n",
       "  <thead>\n",
       "    <tr style=\"text-align: right;\">\n",
       "      <th></th>\n",
       "      <th>Features</th>\n",
       "      <th>VIF</th>\n",
       "    </tr>\n",
       "  </thead>\n",
       "  <tbody>\n",
       "    <tr>\n",
       "      <th>0</th>\n",
       "      <td>BVHH</td>\n",
       "      <td>10.60</td>\n",
       "    </tr>\n",
       "    <tr>\n",
       "      <th>4</th>\n",
       "      <td>LateralLength</td>\n",
       "      <td>6.69</td>\n",
       "    </tr>\n",
       "    <tr>\n",
       "      <th>5</th>\n",
       "      <td>ProppantPerFoot</td>\n",
       "      <td>5.58</td>\n",
       "    </tr>\n",
       "    <tr>\n",
       "      <th>8</th>\n",
       "      <td>RightDistance</td>\n",
       "      <td>4.91</td>\n",
       "    </tr>\n",
       "    <tr>\n",
       "      <th>7</th>\n",
       "      <td>LeftDistance</td>\n",
       "      <td>4.86</td>\n",
       "    </tr>\n",
       "    <tr>\n",
       "      <th>6</th>\n",
       "      <td>FluidPerFoot</td>\n",
       "      <td>4.29</td>\n",
       "    </tr>\n",
       "    <tr>\n",
       "      <th>1</th>\n",
       "      <td>FormationAlias</td>\n",
       "      <td>4.27</td>\n",
       "    </tr>\n",
       "    <tr>\n",
       "      <th>3</th>\n",
       "      <td>CodGOR</td>\n",
       "      <td>2.56</td>\n",
       "    </tr>\n",
       "    <tr>\n",
       "      <th>2</th>\n",
       "      <td>NioGOR</td>\n",
       "      <td>1.19</td>\n",
       "    </tr>\n",
       "  </tbody>\n",
       "</table>\n",
       "</div>"
      ],
      "text/plain": [
       "          Features    VIF\n",
       "0             BVHH  10.60\n",
       "4    LateralLength   6.69\n",
       "5  ProppantPerFoot   5.58\n",
       "8    RightDistance   4.91\n",
       "7     LeftDistance   4.86\n",
       "6     FluidPerFoot   4.29\n",
       "1   FormationAlias   4.27\n",
       "3           CodGOR   2.56\n",
       "2           NioGOR   1.19"
      ]
     },
     "execution_count": 93,
     "metadata": {},
     "output_type": "execute_result"
    }
   ],
   "source": [
    "# Create a dataframe that will contain the names of all the feature variables and their respective VIFs\n",
    "vif = pd.DataFrame()\n",
    "vif['Features'] = X_train_rfe3.columns\n",
    "vif['VIF'] = [variance_inflation_factor(X_train_rfe3.values, i) for i in range(X_train_rfe3.shape[1])]\n",
    "vif['VIF'] = round(vif['VIF'], 2)\n",
    "vif = vif.sort_values(by = \"VIF\", ascending = False)\n",
    "vif"
   ]
  },
  {
   "cell_type": "markdown",
   "metadata": {},
   "source": [
    "Since the variable **BVHH** is having a very high VIF score, we would remove the feature from training dataset"
   ]
  },
  {
   "cell_type": "code",
   "execution_count": 94,
   "metadata": {},
   "outputs": [
    {
     "name": "stdout",
     "output_type": "stream",
     "text": [
      "                            OLS Regression Results                            \n",
      "==============================================================================\n",
      "Dep. Variable:       NormalizedOilEUR   R-squared:                       0.083\n",
      "Model:                            OLS   Adj. R-squared:                  0.082\n",
      "Method:                 Least Squares   F-statistic:                     70.21\n",
      "Date:                Sat, 17 Dec 2022   Prob (F-statistic):          4.88e-111\n",
      "Time:                        23:06:07   Log-Likelihood:                -21687.\n",
      "No. Observations:                6225   AIC:                         4.339e+04\n",
      "Df Residuals:                    6216   BIC:                         4.345e+04\n",
      "Df Model:                           8                                         \n",
      "Covariance Type:            nonrobust                                         \n",
      "===================================================================================\n",
      "                      coef    std err          t      P>|t|      [0.025      0.975]\n",
      "-----------------------------------------------------------------------------------\n",
      "const              19.1314      0.426     44.937      0.000      18.297      19.966\n",
      "FormationAlias     -0.8844      0.236     -3.743      0.000      -1.348      -0.421\n",
      "NioGOR          -1.567e-05    8.9e-06     -1.761      0.078   -3.31e-05    1.77e-06\n",
      "CodGOR             -0.0003   2.99e-05     -8.694      0.000      -0.000      -0.000\n",
      "LateralLength      -0.0004   3.91e-05     -9.119      0.000      -0.000      -0.000\n",
      "ProppantPerFoot     0.0025      0.000     11.440      0.000       0.002       0.003\n",
      "FluidPerFoot        0.0020      0.000     11.395      0.000       0.002       0.002\n",
      "LeftDistance       -0.3016      0.257     -1.172      0.241      -0.806       0.203\n",
      "RightDistance      -0.2363      0.257     -0.918      0.359      -0.741       0.268\n",
      "==============================================================================\n",
      "Omnibus:                     1672.868   Durbin-Watson:                   1.972\n",
      "Prob(Omnibus):                  0.000   Jarque-Bera (JB):             8665.957\n",
      "Skew:                           1.194   Prob(JB):                         0.00\n",
      "Kurtosis:                       8.264   Cond. No.                     5.69e+04\n",
      "==============================================================================\n",
      "\n",
      "Notes:\n",
      "[1] Standard Errors assume that the covariance matrix of the errors is correctly specified.\n",
      "[2] The condition number is large, 5.69e+04. This might indicate that there are\n",
      "strong multicollinearity or other numerical problems.\n"
     ]
    },
    {
     "name": "stderr",
     "output_type": "stream",
     "text": [
      "C:\\Users\\decim\\AppData\\Local\\Temp\\ipykernel_6740\\3493458513.py:3: FutureWarning: In a future version of pandas all arguments of DataFrame.drop except for the argument 'labels' will be keyword-only.\n",
      "  X_train_rfe4 = X_train_rfe3.drop('BVHH', 1,)\n"
     ]
    }
   ],
   "source": [
    "# Dropping insignificant variables\n",
    "\n",
    "X_train_rfe4 = X_train_rfe3.drop('BVHH', 1,)\n",
    "\n",
    "# Adding a constant variable and Build a second fitted model\n",
    "\n",
    "X_train_rfe4c = sm.add_constant(X_train_rfe4)\n",
    "lm_rfe4 = sm.OLS(y_train_O, X_train_rfe4c).fit()\n",
    "\n",
    "#Summary of linear model\n",
    "print(lm_rfe4.summary())"
   ]
  },
  {
   "cell_type": "code",
   "execution_count": 95,
   "metadata": {},
   "outputs": [
    {
     "data": {
      "text/html": [
       "<div>\n",
       "<style scoped>\n",
       "    .dataframe tbody tr th:only-of-type {\n",
       "        vertical-align: middle;\n",
       "    }\n",
       "\n",
       "    .dataframe tbody tr th {\n",
       "        vertical-align: top;\n",
       "    }\n",
       "\n",
       "    .dataframe thead th {\n",
       "        text-align: right;\n",
       "    }\n",
       "</style>\n",
       "<table border=\"1\" class=\"dataframe\">\n",
       "  <thead>\n",
       "    <tr style=\"text-align: right;\">\n",
       "      <th></th>\n",
       "      <th>Features</th>\n",
       "      <th>VIF</th>\n",
       "    </tr>\n",
       "  </thead>\n",
       "  <tbody>\n",
       "    <tr>\n",
       "      <th>3</th>\n",
       "      <td>LateralLength</td>\n",
       "      <td>5.88</td>\n",
       "    </tr>\n",
       "    <tr>\n",
       "      <th>4</th>\n",
       "      <td>ProppantPerFoot</td>\n",
       "      <td>5.49</td>\n",
       "    </tr>\n",
       "    <tr>\n",
       "      <th>7</th>\n",
       "      <td>RightDistance</td>\n",
       "      <td>4.77</td>\n",
       "    </tr>\n",
       "    <tr>\n",
       "      <th>6</th>\n",
       "      <td>LeftDistance</td>\n",
       "      <td>4.75</td>\n",
       "    </tr>\n",
       "    <tr>\n",
       "      <th>5</th>\n",
       "      <td>FluidPerFoot</td>\n",
       "      <td>4.24</td>\n",
       "    </tr>\n",
       "    <tr>\n",
       "      <th>0</th>\n",
       "      <td>FormationAlias</td>\n",
       "      <td>3.81</td>\n",
       "    </tr>\n",
       "    <tr>\n",
       "      <th>2</th>\n",
       "      <td>CodGOR</td>\n",
       "      <td>2.07</td>\n",
       "    </tr>\n",
       "    <tr>\n",
       "      <th>1</th>\n",
       "      <td>NioGOR</td>\n",
       "      <td>1.19</td>\n",
       "    </tr>\n",
       "  </tbody>\n",
       "</table>\n",
       "</div>"
      ],
      "text/plain": [
       "          Features   VIF\n",
       "3    LateralLength  5.88\n",
       "4  ProppantPerFoot  5.49\n",
       "7    RightDistance  4.77\n",
       "6     LeftDistance  4.75\n",
       "5     FluidPerFoot  4.24\n",
       "0   FormationAlias  3.81\n",
       "2           CodGOR  2.07\n",
       "1           NioGOR  1.19"
      ]
     },
     "execution_count": 95,
     "metadata": {},
     "output_type": "execute_result"
    }
   ],
   "source": [
    "# Create a dataframe that will contain the names of all the feature variables and their respective VIFs\n",
    "vif = pd.DataFrame()\n",
    "vif['Features'] = X_train_rfe4.columns\n",
    "vif['VIF'] = [variance_inflation_factor(X_train_rfe4.values, i) for i in range(X_train_rfe4.shape[1])]\n",
    "vif['VIF'] = round(vif['VIF'], 2)\n",
    "vif = vif.sort_values(by = \"VIF\", ascending = False)\n",
    "vif"
   ]
  },
  {
   "cell_type": "markdown",
   "metadata": {},
   "source": [
    "Since the variable `RightDistance` is having a very high P-value, we would remove the feature from training dataset"
   ]
  },
  {
   "cell_type": "code",
   "execution_count": 96,
   "metadata": {},
   "outputs": [
    {
     "name": "stdout",
     "output_type": "stream",
     "text": [
      "                            OLS Regression Results                            \n",
      "==============================================================================\n",
      "Dep. Variable:       NormalizedOilEUR   R-squared:                       0.083\n",
      "Model:                            OLS   Adj. R-squared:                  0.082\n",
      "Method:                 Least Squares   F-statistic:                     80.12\n",
      "Date:                Sat, 17 Dec 2022   Prob (F-statistic):          7.96e-112\n",
      "Time:                        23:06:07   Log-Likelihood:                -21687.\n",
      "No. Observations:                6225   AIC:                         4.339e+04\n",
      "Df Residuals:                    6217   BIC:                         4.344e+04\n",
      "Df Model:                           7                                         \n",
      "Covariance Type:            nonrobust                                         \n",
      "===================================================================================\n",
      "                      coef    std err          t      P>|t|      [0.025      0.975]\n",
      "-----------------------------------------------------------------------------------\n",
      "const              19.0423      0.415     45.938      0.000      18.230      19.855\n",
      "FormationAlias     -0.9014      0.236     -3.826      0.000      -1.363      -0.440\n",
      "NioGOR          -1.573e-05    8.9e-06     -1.768      0.077   -3.32e-05    1.71e-06\n",
      "CodGOR             -0.0003   2.98e-05     -8.793      0.000      -0.000      -0.000\n",
      "LateralLength      -0.0004   3.91e-05     -9.148      0.000      -0.000      -0.000\n",
      "ProppantPerFoot     0.0025      0.000     11.475      0.000       0.002       0.003\n",
      "FluidPerFoot        0.0020      0.000     11.395      0.000       0.002       0.002\n",
      "LeftDistance       -0.3928      0.237     -1.654      0.098      -0.858       0.073\n",
      "==============================================================================\n",
      "Omnibus:                     1682.192   Durbin-Watson:                   1.972\n",
      "Prob(Omnibus):                  0.000   Jarque-Bera (JB):             8753.360\n",
      "Skew:                           1.200   Prob(JB):                         0.00\n",
      "Kurtosis:                       8.291   Cond. No.                     5.58e+04\n",
      "==============================================================================\n",
      "\n",
      "Notes:\n",
      "[1] Standard Errors assume that the covariance matrix of the errors is correctly specified.\n",
      "[2] The condition number is large, 5.58e+04. This might indicate that there are\n",
      "strong multicollinearity or other numerical problems.\n"
     ]
    },
    {
     "name": "stderr",
     "output_type": "stream",
     "text": [
      "C:\\Users\\decim\\AppData\\Local\\Temp\\ipykernel_6740\\2523656641.py:3: FutureWarning: In a future version of pandas all arguments of DataFrame.drop except for the argument 'labels' will be keyword-only.\n",
      "  X_train_rfe5 = X_train_rfe4.drop('RightDistance', 1,)\n"
     ]
    },
    {
     "data": {
      "text/html": [
       "<div>\n",
       "<style scoped>\n",
       "    .dataframe tbody tr th:only-of-type {\n",
       "        vertical-align: middle;\n",
       "    }\n",
       "\n",
       "    .dataframe tbody tr th {\n",
       "        vertical-align: top;\n",
       "    }\n",
       "\n",
       "    .dataframe thead th {\n",
       "        text-align: right;\n",
       "    }\n",
       "</style>\n",
       "<table border=\"1\" class=\"dataframe\">\n",
       "  <thead>\n",
       "    <tr style=\"text-align: right;\">\n",
       "      <th></th>\n",
       "      <th>Features</th>\n",
       "      <th>VIF</th>\n",
       "    </tr>\n",
       "  </thead>\n",
       "  <tbody>\n",
       "    <tr>\n",
       "      <th>3</th>\n",
       "      <td>LateralLength</td>\n",
       "      <td>5.68</td>\n",
       "    </tr>\n",
       "    <tr>\n",
       "      <th>4</th>\n",
       "      <td>ProppantPerFoot</td>\n",
       "      <td>5.49</td>\n",
       "    </tr>\n",
       "    <tr>\n",
       "      <th>5</th>\n",
       "      <td>FluidPerFoot</td>\n",
       "      <td>4.24</td>\n",
       "    </tr>\n",
       "    <tr>\n",
       "      <th>0</th>\n",
       "      <td>FormationAlias</td>\n",
       "      <td>3.72</td>\n",
       "    </tr>\n",
       "    <tr>\n",
       "      <th>6</th>\n",
       "      <td>LeftDistance</td>\n",
       "      <td>3.72</td>\n",
       "    </tr>\n",
       "    <tr>\n",
       "      <th>2</th>\n",
       "      <td>CodGOR</td>\n",
       "      <td>2.03</td>\n",
       "    </tr>\n",
       "    <tr>\n",
       "      <th>1</th>\n",
       "      <td>NioGOR</td>\n",
       "      <td>1.19</td>\n",
       "    </tr>\n",
       "  </tbody>\n",
       "</table>\n",
       "</div>"
      ],
      "text/plain": [
       "          Features   VIF\n",
       "3    LateralLength  5.68\n",
       "4  ProppantPerFoot  5.49\n",
       "5     FluidPerFoot  4.24\n",
       "0   FormationAlias  3.72\n",
       "6     LeftDistance  3.72\n",
       "2           CodGOR  2.03\n",
       "1           NioGOR  1.19"
      ]
     },
     "execution_count": 96,
     "metadata": {},
     "output_type": "execute_result"
    }
   ],
   "source": [
    "# Dropping insignificant variables\n",
    "\n",
    "X_train_rfe5 = X_train_rfe4.drop('RightDistance', 1,)\n",
    "\n",
    "# Adding a constant variable and Build a second fitted model\n",
    "\n",
    "X_train_rfe5c = sm.add_constant(X_train_rfe5)\n",
    "lm_rfe5 = sm.OLS(y_train_O, X_train_rfe5c).fit()\n",
    "\n",
    "#Summary of linear model\n",
    "print(lm_rfe5.summary())\n",
    "\n",
    "# Create a dataframe that will contain the names of all the feature variables and their respective VIFs\n",
    "vif = pd.DataFrame()\n",
    "vif['Features'] = X_train_rfe5.columns\n",
    "vif['VIF'] = [variance_inflation_factor(X_train_rfe5.values, i) for i in range(X_train_rfe5.shape[1])]\n",
    "vif['VIF'] = round(vif['VIF'], 2)\n",
    "vif = vif.sort_values(by = \"VIF\", ascending = False)\n",
    "vif"
   ]
  },
  {
   "cell_type": "code",
   "execution_count": 97,
   "metadata": {},
   "outputs": [
    {
     "name": "stdout",
     "output_type": "stream",
     "text": [
      "                            OLS Regression Results                            \n",
      "==============================================================================\n",
      "Dep. Variable:       NormalizedOilEUR   R-squared:                       0.082\n",
      "Model:                            OLS   Adj. R-squared:                  0.081\n",
      "Method:                 Least Squares   F-statistic:                     93.00\n",
      "Date:                Sat, 17 Dec 2022   Prob (F-statistic):          3.07e-112\n",
      "Time:                        23:06:07   Log-Likelihood:                -21688.\n",
      "No. Observations:                6225   AIC:                         4.339e+04\n",
      "Df Residuals:                    6218   BIC:                         4.344e+04\n",
      "Df Model:                           6                                         \n",
      "Covariance Type:            nonrobust                                         \n",
      "===================================================================================\n",
      "                      coef    std err          t      P>|t|      [0.025      0.975]\n",
      "-----------------------------------------------------------------------------------\n",
      "const              18.7931      0.386     48.657      0.000      18.036      19.550\n",
      "FormationAlias     -0.9477      0.234     -4.051      0.000      -1.406      -0.489\n",
      "NioGOR          -1.532e-05    8.9e-06     -1.722      0.085   -3.28e-05    2.12e-06\n",
      "CodGOR             -0.0003   2.96e-05     -8.986      0.000      -0.000      -0.000\n",
      "LateralLength      -0.0004    3.9e-05     -9.237      0.000      -0.000      -0.000\n",
      "ProppantPerFoot     0.0025      0.000     11.574      0.000       0.002       0.003\n",
      "FluidPerFoot        0.0020      0.000     11.408      0.000       0.002       0.002\n",
      "==============================================================================\n",
      "Omnibus:                     1712.118   Durbin-Watson:                   1.972\n",
      "Prob(Omnibus):                  0.000   Jarque-Bera (JB):             9025.092\n",
      "Skew:                           1.219   Prob(JB):                         0.00\n",
      "Kurtosis:                       8.371   Cond. No.                     5.16e+04\n",
      "==============================================================================\n",
      "\n",
      "Notes:\n",
      "[1] Standard Errors assume that the covariance matrix of the errors is correctly specified.\n",
      "[2] The condition number is large, 5.16e+04. This might indicate that there are\n",
      "strong multicollinearity or other numerical problems.\n"
     ]
    },
    {
     "name": "stderr",
     "output_type": "stream",
     "text": [
      "C:\\Users\\decim\\AppData\\Local\\Temp\\ipykernel_6740\\3261374400.py:3: FutureWarning: In a future version of pandas all arguments of DataFrame.drop except for the argument 'labels' will be keyword-only.\n",
      "  X_train_rfe6 = X_train_rfe5.drop('LeftDistance', 1,)\n"
     ]
    },
    {
     "data": {
      "text/html": [
       "<div>\n",
       "<style scoped>\n",
       "    .dataframe tbody tr th:only-of-type {\n",
       "        vertical-align: middle;\n",
       "    }\n",
       "\n",
       "    .dataframe tbody tr th {\n",
       "        vertical-align: top;\n",
       "    }\n",
       "\n",
       "    .dataframe thead th {\n",
       "        text-align: right;\n",
       "    }\n",
       "</style>\n",
       "<table border=\"1\" class=\"dataframe\">\n",
       "  <thead>\n",
       "    <tr style=\"text-align: right;\">\n",
       "      <th></th>\n",
       "      <th>Features</th>\n",
       "      <th>VIF</th>\n",
       "    </tr>\n",
       "  </thead>\n",
       "  <tbody>\n",
       "    <tr>\n",
       "      <th>4</th>\n",
       "      <td>ProppantPerFoot</td>\n",
       "      <td>5.47</td>\n",
       "    </tr>\n",
       "    <tr>\n",
       "      <th>3</th>\n",
       "      <td>LateralLength</td>\n",
       "      <td>5.07</td>\n",
       "    </tr>\n",
       "    <tr>\n",
       "      <th>5</th>\n",
       "      <td>FluidPerFoot</td>\n",
       "      <td>4.22</td>\n",
       "    </tr>\n",
       "    <tr>\n",
       "      <th>0</th>\n",
       "      <td>FormationAlias</td>\n",
       "      <td>3.47</td>\n",
       "    </tr>\n",
       "    <tr>\n",
       "      <th>2</th>\n",
       "      <td>CodGOR</td>\n",
       "      <td>1.94</td>\n",
       "    </tr>\n",
       "    <tr>\n",
       "      <th>1</th>\n",
       "      <td>NioGOR</td>\n",
       "      <td>1.19</td>\n",
       "    </tr>\n",
       "  </tbody>\n",
       "</table>\n",
       "</div>"
      ],
      "text/plain": [
       "          Features   VIF\n",
       "4  ProppantPerFoot  5.47\n",
       "3    LateralLength  5.07\n",
       "5     FluidPerFoot  4.22\n",
       "0   FormationAlias  3.47\n",
       "2           CodGOR  1.94\n",
       "1           NioGOR  1.19"
      ]
     },
     "execution_count": 97,
     "metadata": {},
     "output_type": "execute_result"
    }
   ],
   "source": [
    "# Dropping insignificant variables\n",
    "\n",
    "X_train_rfe6 = X_train_rfe5.drop('LeftDistance', 1,)\n",
    "\n",
    "# Adding a constant variable and Build a second fitted model\n",
    "\n",
    "X_train_rfe6c = sm.add_constant(X_train_rfe6)\n",
    "lm_rfe6 = sm.OLS(y_train_O, X_train_rfe6c).fit()\n",
    "\n",
    "#Summary of linear model\n",
    "print(lm_rfe6.summary())\n",
    "\n",
    "# Create a dataframe that will contain the names of all the feature variables and their respective VIFs\n",
    "vif = pd.DataFrame()\n",
    "vif['Features'] = X_train_rfe6.columns\n",
    "vif['VIF'] = [variance_inflation_factor(X_train_rfe6.values, i) for i in range(X_train_rfe6.shape[1])]\n",
    "vif['VIF'] = round(vif['VIF'], 2)\n",
    "vif = vif.sort_values(by = \"VIF\", ascending = False)\n",
    "vif"
   ]
  },
  {
   "cell_type": "code",
   "execution_count": 98,
   "metadata": {},
   "outputs": [
    {
     "name": "stderr",
     "output_type": "stream",
     "text": [
      "C:\\Users\\decim\\AppData\\Local\\Temp\\ipykernel_6740\\2025054853.py:3: FutureWarning: In a future version of pandas all arguments of DataFrame.drop except for the argument 'labels' will be keyword-only.\n",
      "  X_train_rfe7 = X_train_rfe6.drop('NioGOR', 1,)\n"
     ]
    },
    {
     "name": "stdout",
     "output_type": "stream",
     "text": [
      "                            OLS Regression Results                            \n",
      "==============================================================================\n",
      "Dep. Variable:       NormalizedOilEUR   R-squared:                       0.082\n",
      "Model:                            OLS   Adj. R-squared:                  0.081\n",
      "Method:                 Least Squares   F-statistic:                     111.0\n",
      "Date:                Sat, 17 Dec 2022   Prob (F-statistic):          1.20e-112\n",
      "Time:                        23:06:07   Log-Likelihood:                -21690.\n",
      "No. Observations:                6225   AIC:                         4.339e+04\n",
      "Df Residuals:                    6219   BIC:                         4.343e+04\n",
      "Df Model:                           5                                         \n",
      "Covariance Type:            nonrobust                                         \n",
      "===================================================================================\n",
      "                      coef    std err          t      P>|t|      [0.025      0.975]\n",
      "-----------------------------------------------------------------------------------\n",
      "const              18.7775      0.386     48.622      0.000      18.020      19.535\n",
      "FormationAlias     -0.9631      0.234     -4.119      0.000      -1.421      -0.505\n",
      "CodGOR             -0.0003   2.93e-05     -9.376      0.000      -0.000      -0.000\n",
      "LateralLength      -0.0004    3.9e-05     -9.234      0.000      -0.000      -0.000\n",
      "ProppantPerFoot     0.0025      0.000     11.520      0.000       0.002       0.003\n",
      "FluidPerFoot        0.0020      0.000     11.401      0.000       0.002       0.002\n",
      "==============================================================================\n",
      "Omnibus:                     1718.608   Durbin-Watson:                   1.971\n",
      "Prob(Omnibus):                  0.000   Jarque-Bera (JB):             9066.789\n",
      "Skew:                           1.224   Prob(JB):                         0.00\n",
      "Kurtosis:                       8.382   Cond. No.                     3.35e+04\n",
      "==============================================================================\n",
      "\n",
      "Notes:\n",
      "[1] Standard Errors assume that the covariance matrix of the errors is correctly specified.\n",
      "[2] The condition number is large, 3.35e+04. This might indicate that there are\n",
      "strong multicollinearity or other numerical problems.\n"
     ]
    },
    {
     "data": {
      "text/html": [
       "<div>\n",
       "<style scoped>\n",
       "    .dataframe tbody tr th:only-of-type {\n",
       "        vertical-align: middle;\n",
       "    }\n",
       "\n",
       "    .dataframe tbody tr th {\n",
       "        vertical-align: top;\n",
       "    }\n",
       "\n",
       "    .dataframe thead th {\n",
       "        text-align: right;\n",
       "    }\n",
       "</style>\n",
       "<table border=\"1\" class=\"dataframe\">\n",
       "  <thead>\n",
       "    <tr style=\"text-align: right;\">\n",
       "      <th></th>\n",
       "      <th>Features</th>\n",
       "      <th>VIF</th>\n",
       "    </tr>\n",
       "  </thead>\n",
       "  <tbody>\n",
       "    <tr>\n",
       "      <th>3</th>\n",
       "      <td>ProppantPerFoot</td>\n",
       "      <td>5.46</td>\n",
       "    </tr>\n",
       "    <tr>\n",
       "      <th>2</th>\n",
       "      <td>LateralLength</td>\n",
       "      <td>5.07</td>\n",
       "    </tr>\n",
       "    <tr>\n",
       "      <th>4</th>\n",
       "      <td>FluidPerFoot</td>\n",
       "      <td>4.22</td>\n",
       "    </tr>\n",
       "    <tr>\n",
       "      <th>0</th>\n",
       "      <td>FormationAlias</td>\n",
       "      <td>3.46</td>\n",
       "    </tr>\n",
       "    <tr>\n",
       "      <th>1</th>\n",
       "      <td>CodGOR</td>\n",
       "      <td>1.88</td>\n",
       "    </tr>\n",
       "  </tbody>\n",
       "</table>\n",
       "</div>"
      ],
      "text/plain": [
       "          Features   VIF\n",
       "3  ProppantPerFoot  5.46\n",
       "2    LateralLength  5.07\n",
       "4     FluidPerFoot  4.22\n",
       "0   FormationAlias  3.46\n",
       "1           CodGOR  1.88"
      ]
     },
     "execution_count": 98,
     "metadata": {},
     "output_type": "execute_result"
    }
   ],
   "source": [
    "# Dropping insignificant variables\n",
    "\n",
    "X_train_rfe7 = X_train_rfe6.drop('NioGOR', 1,)\n",
    "\n",
    "# Adding a constant variable and Build a second fitted model\n",
    "\n",
    "X_train_rfe7c = sm.add_constant(X_train_rfe7)\n",
    "lm_rfe7 = sm.OLS(y_train_O, X_train_rfe7c).fit()\n",
    "\n",
    "#Summary of linear model\n",
    "print(lm_rfe7.summary())\n",
    "\n",
    "# Create a dataframe that will contain the names of all the feature variables and their respective VIFs\n",
    "vif = pd.DataFrame()\n",
    "vif['Features'] = X_train_rfe7.columns\n",
    "vif['VIF'] = [variance_inflation_factor(X_train_rfe7.values, i) for i in range(X_train_rfe7.shape[1])]\n",
    "vif['VIF'] = round(vif['VIF'], 2)\n",
    "vif = vif.sort_values(by = \"VIF\", ascending = False)\n",
    "vif"
   ]
  },
  {
   "cell_type": "markdown",
   "metadata": {},
   "source": [
    "- we DROP one feature by one to get better model score with no collinearity between x features and more impact with y feature .\n",
    "- so we end up with model with **ProppantPerFoot , LateralLength , FluidPerFoot , FormationAlias , CodGOR** get greater R-squared score. "
   ]
  },
  {
   "cell_type": "markdown",
   "metadata": {},
   "source": [
    "### NormalizedGasEUR"
   ]
  },
  {
   "cell_type": "code",
   "execution_count": 99,
   "metadata": {
    "scrolled": true
   },
   "outputs": [
    {
     "name": "stderr",
     "output_type": "stream",
     "text": [
      "C:\\Users\\decim\\anaconda3\\lib\\site-packages\\sklearn\\utils\\validation.py:70: FutureWarning: Pass n_features_to_select=15 as keyword args. From version 1.0 (renaming of 0.25) passing these as positional arguments will result in an error\n",
      "  warnings.warn(f\"Pass {args_msg} as keyword args. From version \"\n"
     ]
    }
   ],
   "source": [
    "# Running RFE with important column count to be 15\n",
    "lm = LinearRegression()\n",
    "lm.fit(X_train_G, y_train_G)\n",
    "\n",
    "rfe = RFE(lm, 15)             \n",
    "rfe = rfe.fit(X_train_G, y_train_G)"
   ]
  },
  {
   "cell_type": "code",
   "execution_count": 100,
   "metadata": {},
   "outputs": [
    {
     "data": {
      "text/plain": [
       "[('BVHH', True, 1),\n",
       " ('FormationAlias', True, 1),\n",
       " ('NioGOR', True, 1),\n",
       " ('CodGOR', True, 1),\n",
       " ('LateralLength', True, 1),\n",
       " ('ProppantPerFoot', True, 1),\n",
       " ('FluidPerFoot', True, 1),\n",
       " ('LeftDistance', True, 1),\n",
       " ('LeftNeighbourType', True, 1),\n",
       " ('RightDistance', True, 1),\n",
       " ('RightNeighbourType', True, 1),\n",
       " ('TVD', True, 1)]"
      ]
     },
     "execution_count": 100,
     "metadata": {},
     "output_type": "execute_result"
    }
   ],
   "source": [
    "list(zip(X_train_G.columns,rfe.support_,rfe.ranking_))"
   ]
  },
  {
   "cell_type": "code",
   "execution_count": 101,
   "metadata": {},
   "outputs": [
    {
     "data": {
      "text/plain": [
       "Index(['BVHH', 'FormationAlias', 'NioGOR', 'CodGOR', 'LateralLength',\n",
       "       'ProppantPerFoot', 'FluidPerFoot', 'LeftDistance', 'LeftNeighbourType',\n",
       "       'RightDistance', 'RightNeighbourType', 'TVD'],\n",
       "      dtype='object')"
      ]
     },
     "execution_count": 101,
     "metadata": {},
     "output_type": "execute_result"
    }
   ],
   "source": [
    "# Selecting the important features (in the support)\n",
    "imp_columns = X_train_G.columns[rfe.support_]\n",
    "imp_columns"
   ]
  },
  {
   "cell_type": "code",
   "execution_count": 102,
   "metadata": {},
   "outputs": [],
   "source": [
    "# Creating X_train dataframe with RFE selected variables\n",
    "X_train_rfe = X_train_G[imp_columns]"
   ]
  },
  {
   "cell_type": "markdown",
   "metadata": {},
   "source": [
    "After passing the arbitary selected columns by RFE we will manually evaluate each models p-value and VIF value.\n",
    "Unless we find the acceptable range for p-values and VIF we keep dropping the variables one at a time based on below criteria.\n",
    "- High p-value High VIF : Drop the variable\n",
    "- High p-value Low VIF  : Drop the variable with high p-value first\n",
    "- Low p-value Low VIF : accept the variable"
   ]
  },
  {
   "cell_type": "markdown",
   "metadata": {},
   "source": [
    "### Checking VIF\n",
    "\n",
    "Variance Inflation Factor or VIF, gives a basic quantitative idea about how much the feature variables are correlated with each other. It is an extremely important parameter to test our linear model. The formula for calculating `VIF` is:\n",
    "\n",
    "### $ VIF_i = \\frac{1}{1 - {R_i}^2} $"
   ]
  },
  {
   "cell_type": "code",
   "execution_count": 103,
   "metadata": {},
   "outputs": [
    {
     "name": "stdout",
     "output_type": "stream",
     "text": [
      "                            OLS Regression Results                            \n",
      "==============================================================================\n",
      "Dep. Variable:       NormalizedGasEUR   R-squared:                       0.496\n",
      "Model:                            OLS   Adj. R-squared:                  0.495\n",
      "Method:                 Least Squares   F-statistic:                     510.2\n",
      "Date:                Sat, 17 Dec 2022   Prob (F-statistic):               0.00\n",
      "Time:                        23:06:07   Log-Likelihood:                -32839.\n",
      "No. Observations:                6225   AIC:                         6.570e+04\n",
      "Df Residuals:                    6212   BIC:                         6.579e+04\n",
      "Df Model:                          12                                         \n",
      "Covariance Type:            nonrobust                                         \n",
      "======================================================================================\n",
      "                         coef    std err          t      P>|t|      [0.025      0.975]\n",
      "--------------------------------------------------------------------------------------\n",
      "const                 32.4569      8.792      3.692      0.000      15.222      49.692\n",
      "BVHH                  31.7617      2.100     15.128      0.000      27.646      35.878\n",
      "FormationAlias        -9.8178      1.655     -5.934      0.000     -13.061      -6.574\n",
      "NioGOR                 0.0002   5.36e-05      3.545      0.000    8.49e-05       0.000\n",
      "CodGOR                 0.0116      0.000     59.707      0.000       0.011       0.012\n",
      "LateralLength         -0.0012      0.000     -4.826      0.000      -0.002      -0.001\n",
      "ProppantPerFoot       -0.0006      0.001     -0.458      0.647      -0.003       0.002\n",
      "FluidPerFoot           0.0148      0.001     14.037      0.000       0.013       0.017\n",
      "LeftDistance           5.7072      1.777      3.212      0.001       2.224       9.190\n",
      "LeftNeighbourType     -2.8104      1.116     -2.517      0.012      -4.999      -0.622\n",
      "RightDistance          7.5064      1.775      4.229      0.000       4.027      10.986\n",
      "RightNeighbourType    -1.9114      1.115     -1.714      0.087      -4.097       0.274\n",
      "TVD                   -0.0011      0.001     -0.960      0.337      -0.003       0.001\n",
      "==============================================================================\n",
      "Omnibus:                      556.602   Durbin-Watson:                   1.978\n",
      "Prob(Omnibus):                  0.000   Jarque-Bera (JB):             1061.049\n",
      "Skew:                           0.608   Prob(JB):                    3.95e-231\n",
      "Kurtosis:                       4.616   Cond. No.                     2.01e+05\n",
      "==============================================================================\n",
      "\n",
      "Notes:\n",
      "[1] Standard Errors assume that the covariance matrix of the errors is correctly specified.\n",
      "[2] The condition number is large, 2.01e+05. This might indicate that there are\n",
      "strong multicollinearity or other numerical problems.\n"
     ]
    }
   ],
   "source": [
    "random.seed(0)\n",
    "\n",
    "# Add a constant\n",
    "X_train_rfec = sm.add_constant(X_train_rfe)\n",
    "\n",
    "# Build the model with RFE features\n",
    "lm_rfe = sm.OLS(y_train_G,X_train_rfec).fit()\n",
    "\n",
    "#Summary of linear model\n",
    "print(lm_rfe.summary())"
   ]
  },
  {
   "cell_type": "markdown",
   "metadata": {},
   "source": [
    "Since the p value for few of the features is not siginificant, we need to drop it but before that let's check the VIF score as well"
   ]
  },
  {
   "cell_type": "code",
   "execution_count": 104,
   "metadata": {},
   "outputs": [
    {
     "data": {
      "text/html": [
       "<div>\n",
       "<style scoped>\n",
       "    .dataframe tbody tr th:only-of-type {\n",
       "        vertical-align: middle;\n",
       "    }\n",
       "\n",
       "    .dataframe tbody tr th {\n",
       "        vertical-align: top;\n",
       "    }\n",
       "\n",
       "    .dataframe thead th {\n",
       "        text-align: right;\n",
       "    }\n",
       "</style>\n",
       "<table border=\"1\" class=\"dataframe\">\n",
       "  <thead>\n",
       "    <tr style=\"text-align: right;\">\n",
       "      <th></th>\n",
       "      <th>Features</th>\n",
       "      <th>VIF</th>\n",
       "    </tr>\n",
       "  </thead>\n",
       "  <tbody>\n",
       "    <tr>\n",
       "      <th>11</th>\n",
       "      <td>TVD</td>\n",
       "      <td>27.05</td>\n",
       "    </tr>\n",
       "    <tr>\n",
       "      <th>0</th>\n",
       "      <td>BVHH</td>\n",
       "      <td>13.96</td>\n",
       "    </tr>\n",
       "    <tr>\n",
       "      <th>4</th>\n",
       "      <td>LateralLength</td>\n",
       "      <td>8.73</td>\n",
       "    </tr>\n",
       "    <tr>\n",
       "      <th>7</th>\n",
       "      <td>LeftDistance</td>\n",
       "      <td>6.50</td>\n",
       "    </tr>\n",
       "    <tr>\n",
       "      <th>9</th>\n",
       "      <td>RightDistance</td>\n",
       "      <td>6.45</td>\n",
       "    </tr>\n",
       "    <tr>\n",
       "      <th>5</th>\n",
       "      <td>ProppantPerFoot</td>\n",
       "      <td>5.79</td>\n",
       "    </tr>\n",
       "    <tr>\n",
       "      <th>6</th>\n",
       "      <td>FluidPerFoot</td>\n",
       "      <td>4.38</td>\n",
       "    </tr>\n",
       "    <tr>\n",
       "      <th>1</th>\n",
       "      <td>FormationAlias</td>\n",
       "      <td>4.30</td>\n",
       "    </tr>\n",
       "    <tr>\n",
       "      <th>3</th>\n",
       "      <td>CodGOR</td>\n",
       "      <td>2.59</td>\n",
       "    </tr>\n",
       "    <tr>\n",
       "      <th>8</th>\n",
       "      <td>LeftNeighbourType</td>\n",
       "      <td>1.93</td>\n",
       "    </tr>\n",
       "    <tr>\n",
       "      <th>10</th>\n",
       "      <td>RightNeighbourType</td>\n",
       "      <td>1.92</td>\n",
       "    </tr>\n",
       "    <tr>\n",
       "      <th>2</th>\n",
       "      <td>NioGOR</td>\n",
       "      <td>1.19</td>\n",
       "    </tr>\n",
       "  </tbody>\n",
       "</table>\n",
       "</div>"
      ],
      "text/plain": [
       "              Features    VIF\n",
       "11                 TVD  27.05\n",
       "0                 BVHH  13.96\n",
       "4        LateralLength   8.73\n",
       "7         LeftDistance   6.50\n",
       "9        RightDistance   6.45\n",
       "5      ProppantPerFoot   5.79\n",
       "6         FluidPerFoot   4.38\n",
       "1       FormationAlias   4.30\n",
       "3               CodGOR   2.59\n",
       "8    LeftNeighbourType   1.93\n",
       "10  RightNeighbourType   1.92\n",
       "2               NioGOR   1.19"
      ]
     },
     "execution_count": 104,
     "metadata": {},
     "output_type": "execute_result"
    }
   ],
   "source": [
    "# Create a dataframe that will contain the names of all the feature variables and their respective VIFs\n",
    "vif = pd.DataFrame()\n",
    "vif['Features'] = X_train_rfe.columns\n",
    "vif['VIF'] = [variance_inflation_factor(X_train_rfe.values, i) for i in range(X_train_rfe.shape[1])]\n",
    "vif['VIF'] = round(vif['VIF'], 2)\n",
    "vif = vif.sort_values(by = \"VIF\", ascending = False)\n",
    "vif"
   ]
  },
  {
   "cell_type": "markdown",
   "metadata": {},
   "source": [
    "Since the variable **ProppantPerFoot** is having a very high p value , we would remove the feature from training dataset"
   ]
  },
  {
   "cell_type": "code",
   "execution_count": 105,
   "metadata": {},
   "outputs": [
    {
     "name": "stdout",
     "output_type": "stream",
     "text": [
      "                            OLS Regression Results                            \n",
      "==============================================================================\n",
      "Dep. Variable:       NormalizedGasEUR   R-squared:                       0.496\n",
      "Model:                            OLS   Adj. R-squared:                  0.495\n",
      "Method:                 Least Squares   F-statistic:                     556.7\n",
      "Date:                Sat, 17 Dec 2022   Prob (F-statistic):               0.00\n",
      "Time:                        23:06:07   Log-Likelihood:                -32839.\n",
      "No. Observations:                6225   AIC:                         6.570e+04\n",
      "Df Residuals:                    6213   BIC:                         6.578e+04\n",
      "Df Model:                          11                                         \n",
      "Covariance Type:            nonrobust                                         \n",
      "======================================================================================\n",
      "                         coef    std err          t      P>|t|      [0.025      0.975]\n",
      "--------------------------------------------------------------------------------------\n",
      "const                 31.6379      8.607      3.676      0.000      14.765      48.511\n",
      "BVHH                  31.7089      2.096     15.126      0.000      27.600      35.818\n",
      "FormationAlias        -9.8654      1.651     -5.975      0.000     -13.102      -6.629\n",
      "NioGOR                 0.0002   5.36e-05      3.536      0.000    8.44e-05       0.000\n",
      "CodGOR                 0.0116      0.000     59.922      0.000       0.011       0.012\n",
      "LateralLength         -0.0012      0.000     -4.964      0.000      -0.002      -0.001\n",
      "FluidPerFoot           0.0146      0.001     14.730      0.000       0.013       0.017\n",
      "LeftDistance           5.7336      1.776      3.229      0.001       2.253       9.214\n",
      "LeftNeighbourType     -2.8165      1.116     -2.523      0.012      -5.005      -0.628\n",
      "RightDistance          7.5365      1.774      4.249      0.000       4.059      11.014\n",
      "RightNeighbourType    -1.9103      1.115     -1.713      0.087      -4.096       0.275\n",
      "TVD                   -0.0011      0.001     -0.905      0.365      -0.003       0.001\n",
      "==============================================================================\n",
      "Omnibus:                      553.530   Durbin-Watson:                   1.978\n",
      "Prob(Omnibus):                  0.000   Jarque-Bera (JB):             1044.657\n",
      "Skew:                           0.609   Prob(JB):                    1.43e-227\n",
      "Kurtosis:                       4.596   Cond. No.                     1.97e+05\n",
      "==============================================================================\n",
      "\n",
      "Notes:\n",
      "[1] Standard Errors assume that the covariance matrix of the errors is correctly specified.\n",
      "[2] The condition number is large, 1.97e+05. This might indicate that there are\n",
      "strong multicollinearity or other numerical problems.\n"
     ]
    },
    {
     "name": "stderr",
     "output_type": "stream",
     "text": [
      "C:\\Users\\decim\\AppData\\Local\\Temp\\ipykernel_6740\\2551230880.py:3: FutureWarning: In a future version of pandas all arguments of DataFrame.drop except for the argument 'labels' will be keyword-only.\n",
      "  X_train_rfe1 = X_train_rfe.drop(['ProppantPerFoot'], 1,)\n"
     ]
    }
   ],
   "source": [
    "# Dropping insignificant variables\n",
    "\n",
    "X_train_rfe1 = X_train_rfe.drop(['ProppantPerFoot'], 1,)\n",
    "\n",
    "# Adding a constant variable and Build a second fitted model\n",
    "\n",
    "X_train_rfe1c = sm.add_constant(X_train_rfe1)\n",
    "lm_rfe1 = sm.OLS(y_train_G, X_train_rfe1c).fit()\n",
    "\n",
    "#Summary of linear model\n",
    "print(lm_rfe1.summary())"
   ]
  },
  {
   "cell_type": "code",
   "execution_count": 106,
   "metadata": {},
   "outputs": [
    {
     "data": {
      "text/html": [
       "<div>\n",
       "<style scoped>\n",
       "    .dataframe tbody tr th:only-of-type {\n",
       "        vertical-align: middle;\n",
       "    }\n",
       "\n",
       "    .dataframe tbody tr th {\n",
       "        vertical-align: top;\n",
       "    }\n",
       "\n",
       "    .dataframe thead th {\n",
       "        text-align: right;\n",
       "    }\n",
       "</style>\n",
       "<table border=\"1\" class=\"dataframe\">\n",
       "  <thead>\n",
       "    <tr style=\"text-align: right;\">\n",
       "      <th></th>\n",
       "      <th>Features</th>\n",
       "      <th>VIF</th>\n",
       "    </tr>\n",
       "  </thead>\n",
       "  <tbody>\n",
       "    <tr>\n",
       "      <th>10</th>\n",
       "      <td>TVD</td>\n",
       "      <td>26.56</td>\n",
       "    </tr>\n",
       "    <tr>\n",
       "      <th>0</th>\n",
       "      <td>BVHH</td>\n",
       "      <td>13.95</td>\n",
       "    </tr>\n",
       "    <tr>\n",
       "      <th>4</th>\n",
       "      <td>LateralLength</td>\n",
       "      <td>8.52</td>\n",
       "    </tr>\n",
       "    <tr>\n",
       "      <th>6</th>\n",
       "      <td>LeftDistance</td>\n",
       "      <td>6.50</td>\n",
       "    </tr>\n",
       "    <tr>\n",
       "      <th>8</th>\n",
       "      <td>RightDistance</td>\n",
       "      <td>6.45</td>\n",
       "    </tr>\n",
       "    <tr>\n",
       "      <th>1</th>\n",
       "      <td>FormationAlias</td>\n",
       "      <td>4.14</td>\n",
       "    </tr>\n",
       "    <tr>\n",
       "      <th>5</th>\n",
       "      <td>FluidPerFoot</td>\n",
       "      <td>3.86</td>\n",
       "    </tr>\n",
       "    <tr>\n",
       "      <th>3</th>\n",
       "      <td>CodGOR</td>\n",
       "      <td>2.57</td>\n",
       "    </tr>\n",
       "    <tr>\n",
       "      <th>7</th>\n",
       "      <td>LeftNeighbourType</td>\n",
       "      <td>1.93</td>\n",
       "    </tr>\n",
       "    <tr>\n",
       "      <th>9</th>\n",
       "      <td>RightNeighbourType</td>\n",
       "      <td>1.92</td>\n",
       "    </tr>\n",
       "    <tr>\n",
       "      <th>2</th>\n",
       "      <td>NioGOR</td>\n",
       "      <td>1.19</td>\n",
       "    </tr>\n",
       "  </tbody>\n",
       "</table>\n",
       "</div>"
      ],
      "text/plain": [
       "              Features    VIF\n",
       "10                 TVD  26.56\n",
       "0                 BVHH  13.95\n",
       "4        LateralLength   8.52\n",
       "6         LeftDistance   6.50\n",
       "8        RightDistance   6.45\n",
       "1       FormationAlias   4.14\n",
       "5         FluidPerFoot   3.86\n",
       "3               CodGOR   2.57\n",
       "7    LeftNeighbourType   1.93\n",
       "9   RightNeighbourType   1.92\n",
       "2               NioGOR   1.19"
      ]
     },
     "execution_count": 106,
     "metadata": {},
     "output_type": "execute_result"
    }
   ],
   "source": [
    "# Create a dataframe that will contain the names of all the feature variables and their respective VIFs\n",
    "vif = pd.DataFrame()\n",
    "vif['Features'] = X_train_rfe1.columns\n",
    "vif['VIF'] = [variance_inflation_factor(X_train_rfe1.values, i) for i in range(X_train_rfe1.shape[1])]\n",
    "vif['VIF'] = round(vif['VIF'], 2)\n",
    "vif = vif.sort_values(by = \"VIF\", ascending = False)\n",
    "vif"
   ]
  },
  {
   "cell_type": "markdown",
   "metadata": {},
   "source": [
    "Since the variable `TVD` is having a very high VIF score, we would remove the feature from training dataset"
   ]
  },
  {
   "cell_type": "code",
   "execution_count": 107,
   "metadata": {},
   "outputs": [
    {
     "name": "stdout",
     "output_type": "stream",
     "text": [
      "                            OLS Regression Results                            \n",
      "==============================================================================\n",
      "Dep. Variable:       NormalizedGasEUR   R-squared:                       0.496\n",
      "Model:                            OLS   Adj. R-squared:                  0.495\n",
      "Method:                 Least Squares   F-statistic:                     612.3\n",
      "Date:                Sat, 17 Dec 2022   Prob (F-statistic):               0.00\n",
      "Time:                        23:06:07   Log-Likelihood:                -32839.\n",
      "No. Observations:                6225   AIC:                         6.570e+04\n",
      "Df Residuals:                    6214   BIC:                         6.577e+04\n",
      "Df Model:                          10                                         \n",
      "Covariance Type:            nonrobust                                         \n",
      "======================================================================================\n",
      "                         coef    std err          t      P>|t|      [0.025      0.975]\n",
      "--------------------------------------------------------------------------------------\n",
      "const                 24.4150      3.226      7.568      0.000      18.091      30.739\n",
      "BVHH                  31.1351      1.998     15.583      0.000      27.218      35.052\n",
      "FormationAlias        -9.1389      1.443     -6.334      0.000     -11.967      -6.310\n",
      "NioGOR                 0.0002   5.34e-05      3.615      0.000    8.84e-05       0.000\n",
      "CodGOR                 0.0116      0.000     60.002      0.000       0.011       0.012\n",
      "LateralLength         -0.0012      0.000     -5.222      0.000      -0.002      -0.001\n",
      "FluidPerFoot           0.0146      0.001     14.737      0.000       0.013       0.017\n",
      "LeftDistance           5.8024      1.774      3.271      0.001       2.325       9.280\n",
      "LeftNeighbourType     -2.8268      1.116     -2.533      0.011      -5.015      -0.639\n",
      "RightDistance          7.6313      1.771      4.310      0.000       4.160      11.102\n",
      "RightNeighbourType    -1.8935      1.115     -1.699      0.089      -4.079       0.292\n",
      "==============================================================================\n",
      "Omnibus:                      550.472   Durbin-Watson:                   1.978\n",
      "Prob(Omnibus):                  0.000   Jarque-Bera (JB):             1039.598\n",
      "Skew:                           0.606   Prob(JB):                    1.80e-226\n",
      "Kurtosis:                       4.594   Cond. No.                     7.49e+04\n",
      "==============================================================================\n",
      "\n",
      "Notes:\n",
      "[1] Standard Errors assume that the covariance matrix of the errors is correctly specified.\n",
      "[2] The condition number is large, 7.49e+04. This might indicate that there are\n",
      "strong multicollinearity or other numerical problems.\n"
     ]
    },
    {
     "name": "stderr",
     "output_type": "stream",
     "text": [
      "C:\\Users\\decim\\AppData\\Local\\Temp\\ipykernel_6740\\2167672852.py:3: FutureWarning: In a future version of pandas all arguments of DataFrame.drop except for the argument 'labels' will be keyword-only.\n",
      "  X_train_rfe2 = X_train_rfe1.drop('TVD', 1,)\n"
     ]
    }
   ],
   "source": [
    "# Dropping insignificant variables\n",
    "\n",
    "X_train_rfe2 = X_train_rfe1.drop('TVD', 1,)\n",
    "\n",
    "# Adding a constant variable and Build a second fitted model\n",
    "\n",
    "X_train_rfe2c = sm.add_constant(X_train_rfe2)\n",
    "lm_rfe2 = sm.OLS(y_train_G, X_train_rfe2c).fit()\n",
    "\n",
    "#Summary of linear model\n",
    "print(lm_rfe2.summary())"
   ]
  },
  {
   "cell_type": "code",
   "execution_count": 108,
   "metadata": {},
   "outputs": [
    {
     "data": {
      "text/html": [
       "<div>\n",
       "<style scoped>\n",
       "    .dataframe tbody tr th:only-of-type {\n",
       "        vertical-align: middle;\n",
       "    }\n",
       "\n",
       "    .dataframe tbody tr th {\n",
       "        vertical-align: top;\n",
       "    }\n",
       "\n",
       "    .dataframe thead th {\n",
       "        text-align: right;\n",
       "    }\n",
       "</style>\n",
       "<table border=\"1\" class=\"dataframe\">\n",
       "  <thead>\n",
       "    <tr style=\"text-align: right;\">\n",
       "      <th></th>\n",
       "      <th>Features</th>\n",
       "      <th>VIF</th>\n",
       "    </tr>\n",
       "  </thead>\n",
       "  <tbody>\n",
       "    <tr>\n",
       "      <th>0</th>\n",
       "      <td>BVHH</td>\n",
       "      <td>10.93</td>\n",
       "    </tr>\n",
       "    <tr>\n",
       "      <th>4</th>\n",
       "      <td>LateralLength</td>\n",
       "      <td>6.65</td>\n",
       "    </tr>\n",
       "    <tr>\n",
       "      <th>8</th>\n",
       "      <td>RightDistance</td>\n",
       "      <td>6.02</td>\n",
       "    </tr>\n",
       "    <tr>\n",
       "      <th>6</th>\n",
       "      <td>LeftDistance</td>\n",
       "      <td>6.00</td>\n",
       "    </tr>\n",
       "    <tr>\n",
       "      <th>1</th>\n",
       "      <td>FormationAlias</td>\n",
       "      <td>4.14</td>\n",
       "    </tr>\n",
       "    <tr>\n",
       "      <th>5</th>\n",
       "      <td>FluidPerFoot</td>\n",
       "      <td>3.73</td>\n",
       "    </tr>\n",
       "    <tr>\n",
       "      <th>3</th>\n",
       "      <td>CodGOR</td>\n",
       "      <td>2.55</td>\n",
       "    </tr>\n",
       "    <tr>\n",
       "      <th>7</th>\n",
       "      <td>LeftNeighbourType</td>\n",
       "      <td>1.71</td>\n",
       "    </tr>\n",
       "    <tr>\n",
       "      <th>9</th>\n",
       "      <td>RightNeighbourType</td>\n",
       "      <td>1.70</td>\n",
       "    </tr>\n",
       "    <tr>\n",
       "      <th>2</th>\n",
       "      <td>NioGOR</td>\n",
       "      <td>1.19</td>\n",
       "    </tr>\n",
       "  </tbody>\n",
       "</table>\n",
       "</div>"
      ],
      "text/plain": [
       "             Features    VIF\n",
       "0                BVHH  10.93\n",
       "4       LateralLength   6.65\n",
       "8       RightDistance   6.02\n",
       "6        LeftDistance   6.00\n",
       "1      FormationAlias   4.14\n",
       "5        FluidPerFoot   3.73\n",
       "3              CodGOR   2.55\n",
       "7   LeftNeighbourType   1.71\n",
       "9  RightNeighbourType   1.70\n",
       "2              NioGOR   1.19"
      ]
     },
     "execution_count": 108,
     "metadata": {},
     "output_type": "execute_result"
    }
   ],
   "source": [
    "# Create a dataframe that will contain the names of all the feature variables and their respective VIFs\n",
    "vif = pd.DataFrame()\n",
    "vif['Features'] = X_train_rfe2.columns\n",
    "vif['VIF'] = [variance_inflation_factor(X_train_rfe2.values, i) for i in range(X_train_rfe2.shape[1])]\n",
    "vif['VIF'] = round(vif['VIF'], 2)\n",
    "vif = vif.sort_values(by = \"VIF\", ascending = False)\n",
    "vif"
   ]
  },
  {
   "cell_type": "markdown",
   "metadata": {},
   "source": [
    "Since the variable `RightNeighbourType` is having a very high p value, we would remove the feature from training dataset"
   ]
  },
  {
   "cell_type": "code",
   "execution_count": 109,
   "metadata": {},
   "outputs": [
    {
     "name": "stdout",
     "output_type": "stream",
     "text": [
      "                            OLS Regression Results                            \n",
      "==============================================================================\n",
      "Dep. Variable:       NormalizedGasEUR   R-squared:                       0.496\n",
      "Model:                            OLS   Adj. R-squared:                  0.495\n",
      "Method:                 Least Squares   F-statistic:                     679.8\n",
      "Date:                Sat, 17 Dec 2022   Prob (F-statistic):               0.00\n",
      "Time:                        23:06:08   Log-Likelihood:                -32841.\n",
      "No. Observations:                6225   AIC:                         6.570e+04\n",
      "Df Residuals:                    6215   BIC:                         6.577e+04\n",
      "Df Model:                           9                                         \n",
      "Covariance Type:            nonrobust                                         \n",
      "=====================================================================================\n",
      "                        coef    std err          t      P>|t|      [0.025      0.975]\n",
      "-------------------------------------------------------------------------------------\n",
      "const                22.4034      3.001      7.465      0.000      16.520      28.287\n",
      "BVHH                 31.2361      1.997     15.638      0.000      27.320      35.152\n",
      "FormationAlias       -9.0428      1.442     -6.271      0.000     -11.870      -6.216\n",
      "NioGOR                0.0002   5.34e-05      3.591      0.000    8.71e-05       0.000\n",
      "CodGOR                0.0116      0.000     60.158      0.000       0.011       0.012\n",
      "LateralLength        -0.0012      0.000     -5.184      0.000      -0.002      -0.001\n",
      "FluidPerFoot          0.0146      0.001     14.725      0.000       0.013       0.017\n",
      "LeftDistance          5.6736      1.773      3.201      0.001       2.199       9.148\n",
      "LeftNeighbourType    -2.9420      1.114     -2.640      0.008      -5.126      -0.758\n",
      "RightDistance         9.0902      1.549      5.870      0.000       6.054      12.126\n",
      "==============================================================================\n",
      "Omnibus:                      551.184   Durbin-Watson:                   1.981\n",
      "Prob(Omnibus):                  0.000   Jarque-Bera (JB):             1044.900\n",
      "Skew:                           0.605   Prob(JB):                    1.27e-227\n",
      "Kurtosis:                       4.601   Cond. No.                     7.01e+04\n",
      "==============================================================================\n",
      "\n",
      "Notes:\n",
      "[1] Standard Errors assume that the covariance matrix of the errors is correctly specified.\n",
      "[2] The condition number is large, 7.01e+04. This might indicate that there are\n",
      "strong multicollinearity or other numerical problems.\n"
     ]
    },
    {
     "name": "stderr",
     "output_type": "stream",
     "text": [
      "C:\\Users\\decim\\AppData\\Local\\Temp\\ipykernel_6740\\4240671281.py:3: FutureWarning: In a future version of pandas all arguments of DataFrame.drop except for the argument 'labels' will be keyword-only.\n",
      "  X_train_rfe3 = X_train_rfe2.drop('RightNeighbourType', 1,)\n"
     ]
    }
   ],
   "source": [
    "# Dropping insignificant variables\n",
    "\n",
    "X_train_rfe3 = X_train_rfe2.drop('RightNeighbourType', 1,)\n",
    "\n",
    "# Adding a constant variable and Build a second fitted model\n",
    "\n",
    "X_train_rfe3c = sm.add_constant(X_train_rfe3)\n",
    "lm_rfe3 = sm.OLS(y_train_G, X_train_rfe3c).fit()\n",
    "\n",
    "#Summary of linear model\n",
    "print(lm_rfe3.summary())"
   ]
  },
  {
   "cell_type": "code",
   "execution_count": 110,
   "metadata": {},
   "outputs": [
    {
     "data": {
      "text/html": [
       "<div>\n",
       "<style scoped>\n",
       "    .dataframe tbody tr th:only-of-type {\n",
       "        vertical-align: middle;\n",
       "    }\n",
       "\n",
       "    .dataframe tbody tr th {\n",
       "        vertical-align: top;\n",
       "    }\n",
       "\n",
       "    .dataframe thead th {\n",
       "        text-align: right;\n",
       "    }\n",
       "</style>\n",
       "<table border=\"1\" class=\"dataframe\">\n",
       "  <thead>\n",
       "    <tr style=\"text-align: right;\">\n",
       "      <th></th>\n",
       "      <th>Features</th>\n",
       "      <th>VIF</th>\n",
       "    </tr>\n",
       "  </thead>\n",
       "  <tbody>\n",
       "    <tr>\n",
       "      <th>0</th>\n",
       "      <td>BVHH</td>\n",
       "      <td>10.74</td>\n",
       "    </tr>\n",
       "    <tr>\n",
       "      <th>4</th>\n",
       "      <td>LateralLength</td>\n",
       "      <td>6.47</td>\n",
       "    </tr>\n",
       "    <tr>\n",
       "      <th>6</th>\n",
       "      <td>LeftDistance</td>\n",
       "      <td>5.81</td>\n",
       "    </tr>\n",
       "    <tr>\n",
       "      <th>8</th>\n",
       "      <td>RightDistance</td>\n",
       "      <td>4.94</td>\n",
       "    </tr>\n",
       "    <tr>\n",
       "      <th>1</th>\n",
       "      <td>FormationAlias</td>\n",
       "      <td>4.13</td>\n",
       "    </tr>\n",
       "    <tr>\n",
       "      <th>5</th>\n",
       "      <td>FluidPerFoot</td>\n",
       "      <td>3.71</td>\n",
       "    </tr>\n",
       "    <tr>\n",
       "      <th>3</th>\n",
       "      <td>CodGOR</td>\n",
       "      <td>2.55</td>\n",
       "    </tr>\n",
       "    <tr>\n",
       "      <th>7</th>\n",
       "      <td>LeftNeighbourType</td>\n",
       "      <td>1.63</td>\n",
       "    </tr>\n",
       "    <tr>\n",
       "      <th>2</th>\n",
       "      <td>NioGOR</td>\n",
       "      <td>1.19</td>\n",
       "    </tr>\n",
       "  </tbody>\n",
       "</table>\n",
       "</div>"
      ],
      "text/plain": [
       "            Features    VIF\n",
       "0               BVHH  10.74\n",
       "4      LateralLength   6.47\n",
       "6       LeftDistance   5.81\n",
       "8      RightDistance   4.94\n",
       "1     FormationAlias   4.13\n",
       "5       FluidPerFoot   3.71\n",
       "3             CodGOR   2.55\n",
       "7  LeftNeighbourType   1.63\n",
       "2             NioGOR   1.19"
      ]
     },
     "execution_count": 110,
     "metadata": {},
     "output_type": "execute_result"
    }
   ],
   "source": [
    "# Create a dataframe that will contain the names of all the feature variables and their respective VIFs\n",
    "vif = pd.DataFrame()\n",
    "vif['Features'] = X_train_rfe3.columns\n",
    "vif['VIF'] = [variance_inflation_factor(X_train_rfe3.values, i) for i in range(X_train_rfe3.shape[1])]\n",
    "vif['VIF'] = round(vif['VIF'], 2)\n",
    "vif = vif.sort_values(by = \"VIF\", ascending = False)\n",
    "vif"
   ]
  },
  {
   "cell_type": "markdown",
   "metadata": {},
   "source": [
    "Since the variable **LeftNeighbourType** is having a very high p value, we would remove the feature from training dataset"
   ]
  },
  {
   "cell_type": "code",
   "execution_count": 111,
   "metadata": {},
   "outputs": [
    {
     "name": "stdout",
     "output_type": "stream",
     "text": [
      "                            OLS Regression Results                            \n",
      "==============================================================================\n",
      "Dep. Variable:       NormalizedGasEUR   R-squared:                       0.496\n",
      "Model:                            OLS   Adj. R-squared:                  0.495\n",
      "Method:                 Least Squares   F-statistic:                     763.2\n",
      "Date:                Sat, 17 Dec 2022   Prob (F-statistic):               0.00\n",
      "Time:                        23:06:08   Log-Likelihood:                -32844.\n",
      "No. Observations:                6225   AIC:                         6.571e+04\n",
      "Df Residuals:                    6216   BIC:                         6.577e+04\n",
      "Df Model:                           8                                         \n",
      "Covariance Type:            nonrobust                                         \n",
      "==================================================================================\n",
      "                     coef    std err          t      P>|t|      [0.025      0.975]\n",
      "----------------------------------------------------------------------------------\n",
      "const             19.1627      2.740      6.993      0.000      13.791      24.534\n",
      "BVHH              31.3672      1.998     15.701      0.000      27.451      35.284\n",
      "FormationAlias    -8.9390      1.442     -6.198      0.000     -11.766      -6.112\n",
      "NioGOR             0.0002   5.34e-05      3.602      0.000    8.78e-05       0.000\n",
      "CodGOR             0.0116      0.000     60.261      0.000       0.011       0.012\n",
      "LateralLength     -0.0012      0.000     -5.146      0.000      -0.002      -0.001\n",
      "FluidPerFoot       0.0146      0.001     14.737      0.000       0.013       0.017\n",
      "LeftDistance       7.9648      1.546      5.151      0.000       4.933      10.996\n",
      "RightDistance      9.0350      1.549      5.832      0.000       5.998      12.072\n",
      "==============================================================================\n",
      "Omnibus:                      552.050   Durbin-Watson:                   1.979\n",
      "Prob(Omnibus):                  0.000   Jarque-Bera (JB):             1051.756\n",
      "Skew:                           0.604   Prob(JB):                    4.11e-229\n",
      "Kurtosis:                       4.611   Cond. No.                     6.38e+04\n",
      "==============================================================================\n",
      "\n",
      "Notes:\n",
      "[1] Standard Errors assume that the covariance matrix of the errors is correctly specified.\n",
      "[2] The condition number is large, 6.38e+04. This might indicate that there are\n",
      "strong multicollinearity or other numerical problems.\n"
     ]
    },
    {
     "name": "stderr",
     "output_type": "stream",
     "text": [
      "C:\\Users\\decim\\AppData\\Local\\Temp\\ipykernel_6740\\1044581968.py:3: FutureWarning: In a future version of pandas all arguments of DataFrame.drop except for the argument 'labels' will be keyword-only.\n",
      "  X_train_rfe4 = X_train_rfe3.drop('LeftNeighbourType', 1,)\n"
     ]
    }
   ],
   "source": [
    "# Dropping insignificant variables\n",
    "\n",
    "X_train_rfe4 = X_train_rfe3.drop('LeftNeighbourType', 1,)\n",
    "\n",
    "# Adding a constant variable and Build a second fitted model\n",
    "\n",
    "X_train_rfe4c = sm.add_constant(X_train_rfe4)\n",
    "lm_rfe4 = sm.OLS(y_train_G, X_train_rfe4c).fit()\n",
    "\n",
    "#Summary of linear model\n",
    "print(lm_rfe4.summary())"
   ]
  },
  {
   "cell_type": "code",
   "execution_count": 112,
   "metadata": {},
   "outputs": [
    {
     "data": {
      "text/html": [
       "<div>\n",
       "<style scoped>\n",
       "    .dataframe tbody tr th:only-of-type {\n",
       "        vertical-align: middle;\n",
       "    }\n",
       "\n",
       "    .dataframe tbody tr th {\n",
       "        vertical-align: top;\n",
       "    }\n",
       "\n",
       "    .dataframe thead th {\n",
       "        text-align: right;\n",
       "    }\n",
       "</style>\n",
       "<table border=\"1\" class=\"dataframe\">\n",
       "  <thead>\n",
       "    <tr style=\"text-align: right;\">\n",
       "      <th></th>\n",
       "      <th>Features</th>\n",
       "      <th>VIF</th>\n",
       "    </tr>\n",
       "  </thead>\n",
       "  <tbody>\n",
       "    <tr>\n",
       "      <th>0</th>\n",
       "      <td>BVHH</td>\n",
       "      <td>10.42</td>\n",
       "    </tr>\n",
       "    <tr>\n",
       "      <th>4</th>\n",
       "      <td>LateralLength</td>\n",
       "      <td>6.17</td>\n",
       "    </tr>\n",
       "    <tr>\n",
       "      <th>7</th>\n",
       "      <td>RightDistance</td>\n",
       "      <td>4.91</td>\n",
       "    </tr>\n",
       "    <tr>\n",
       "      <th>6</th>\n",
       "      <td>LeftDistance</td>\n",
       "      <td>4.86</td>\n",
       "    </tr>\n",
       "    <tr>\n",
       "      <th>1</th>\n",
       "      <td>FormationAlias</td>\n",
       "      <td>4.12</td>\n",
       "    </tr>\n",
       "    <tr>\n",
       "      <th>5</th>\n",
       "      <td>FluidPerFoot</td>\n",
       "      <td>3.68</td>\n",
       "    </tr>\n",
       "    <tr>\n",
       "      <th>3</th>\n",
       "      <td>CodGOR</td>\n",
       "      <td>2.55</td>\n",
       "    </tr>\n",
       "    <tr>\n",
       "      <th>2</th>\n",
       "      <td>NioGOR</td>\n",
       "      <td>1.19</td>\n",
       "    </tr>\n",
       "  </tbody>\n",
       "</table>\n",
       "</div>"
      ],
      "text/plain": [
       "         Features    VIF\n",
       "0            BVHH  10.42\n",
       "4   LateralLength   6.17\n",
       "7   RightDistance   4.91\n",
       "6    LeftDistance   4.86\n",
       "1  FormationAlias   4.12\n",
       "5    FluidPerFoot   3.68\n",
       "3          CodGOR   2.55\n",
       "2          NioGOR   1.19"
      ]
     },
     "execution_count": 112,
     "metadata": {},
     "output_type": "execute_result"
    }
   ],
   "source": [
    "# Create a dataframe that will contain the names of all the feature variables and their respective VIFs\n",
    "vif = pd.DataFrame()\n",
    "vif['Features'] = X_train_rfe4.columns\n",
    "vif['VIF'] = [variance_inflation_factor(X_train_rfe4.values, i) for i in range(X_train_rfe4.shape[1])]\n",
    "vif['VIF'] = round(vif['VIF'], 2)\n",
    "vif = vif.sort_values(by = \"VIF\", ascending = False)\n",
    "vif"
   ]
  },
  {
   "cell_type": "markdown",
   "metadata": {},
   "source": [
    "- we DROP one feature by one to get better model score with no collinearity between x features and more impact with y feature .\n",
    "- so we end up with model with **BVHH , LateralLength , RightDistance , LeftDistance , FormationAlias , FluidPerFoot , CodGOR , NioGOR** get greater R-squared score. "
   ]
  }
 ],
 "metadata": {
  "kernelspec": {
   "display_name": "Python 3 (ipykernel)",
   "language": "python",
   "name": "python3"
  },
  "language_info": {
   "codemirror_mode": {
    "name": "ipython",
    "version": 3
   },
   "file_extension": ".py",
   "mimetype": "text/x-python",
   "name": "python",
   "nbconvert_exporter": "python",
   "pygments_lexer": "ipython3",
   "version": "3.9.12"
  }
 },
 "nbformat": 4,
 "nbformat_minor": 4
}
